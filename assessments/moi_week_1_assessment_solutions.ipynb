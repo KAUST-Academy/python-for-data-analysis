{
  "cells": [
    {
      "cell_type": "code",
      "execution_count": 1,
      "metadata": {
        "id": "BqXqSwkNMZnh"
      },
      "outputs": [],
      "source": [
        "import matplotlib.pyplot as plt\n",
        "import numpy as np\n",
        "import pandas as pd"
      ]
    },
    {
      "cell_type": "markdown",
      "source": [
        "# Q1 Python Basics"
      ],
      "metadata": {
        "id": "TH5f0y8HVcRT"
      }
    },
    {
      "cell_type": "markdown",
      "source": [
        "## a) Creating lists\n",
        "\n",
        "Create a list of length 4 with the following data types in order: string, boolean, integer, float."
      ],
      "metadata": {
        "id": "t4hVK5X3e0hs"
      }
    },
    {
      "cell_type": "code",
      "source": [
        "a = [\"david\", True, 4, 3.5]"
      ],
      "metadata": {
        "id": "M7ZeuOAaVe-M"
      },
      "execution_count": null,
      "outputs": []
    },
    {
      "cell_type": "markdown",
      "source": [
        "## b) Creating dictionaries\n",
        "\n",
        "Create a dictionary called `friends_ages` mapping the names of 5 friends to their ages. The friends' names should be strings; the values for their ages should be integers. You can make up names for friends and values for ages if you wish."
      ],
      "metadata": {
        "id": "PRTubAure24Q"
      }
    },
    {
      "cell_type": "code",
      "source": [
        "friends_ages = {\n",
        "    \"bob\": 45,\n",
        "    \"sam\": 23,\n",
        "    \"ahmed\": 25,\n",
        "    \"jim\": 22,\n",
        "    \"peter\": 35,\n",
        "}"
      ],
      "metadata": {
        "id": "AC52jfMUVfAF"
      },
      "execution_count": null,
      "outputs": []
    },
    {
      "cell_type": "markdown",
      "source": [
        "## c) Creating a dictionary of lists\n",
        "\n",
        "Create a dictionary, `d1` with keys 0, 1, 2 where each key maps to a list of length 4 whose entries have the following types: `str`, `bool`, `int`, `float`. The exact values in the lists are up to you but they must have the correct type."
      ],
      "metadata": {
        "id": "l_Ln0OcifaSr"
      }
    },
    {
      "cell_type": "code",
      "source": [
        "d1 = {\n",
        "    0: [\"b\", True, 4, 5.5],\n",
        "    1: [\"c\", False, 5, 2.3],\n",
        "    2: [\"d\", True, 6, 2.6]\n",
        "}"
      ],
      "metadata": {
        "id": "4eEnmT1xgM8C"
      },
      "execution_count": 18,
      "outputs": []
    },
    {
      "cell_type": "markdown",
      "source": [
        "The code in the cell below will help you check your work. It should produce a `DataFrame` from your dictionary of row data where each column has a different type."
      ],
      "metadata": {
        "id": "_paJlCuRhNBE"
      }
    },
    {
      "cell_type": "code",
      "source": [
        "df1 = pd.DataFrame.from_dict(\n",
        "    d1,\n",
        "    orient=\"index\",\n",
        "    columns=[\"col_0\", \"col_1\", \"col_2\", \"col_3\"]\n",
        ")\n",
        "df1"
      ],
      "metadata": {
        "colab": {
          "base_uri": "https://localhost:8080/",
          "height": 164
        },
        "id": "Vl10VRv1Ve7n",
        "outputId": "9877b9a0-3ee1-4c7c-c607-291a81b35e64"
      },
      "execution_count": 23,
      "outputs": [
        {
          "output_type": "execute_result",
          "data": {
            "text/plain": [
              "  col_0  col_1  col_2  col_3\n",
              "0     b   True      4    5.5\n",
              "1     c  False      5    2.3\n",
              "2     d   True      6    2.6"
            ],
            "text/html": [
              "\n",
              "  <div id=\"df-59ee85c9-9138-41ab-8cd6-63f30feba4ef\">\n",
              "    <div class=\"colab-df-container\">\n",
              "      <div>\n",
              "<style scoped>\n",
              "    .dataframe tbody tr th:only-of-type {\n",
              "        vertical-align: middle;\n",
              "    }\n",
              "\n",
              "    .dataframe tbody tr th {\n",
              "        vertical-align: top;\n",
              "    }\n",
              "\n",
              "    .dataframe thead th {\n",
              "        text-align: right;\n",
              "    }\n",
              "</style>\n",
              "<table border=\"1\" class=\"dataframe\">\n",
              "  <thead>\n",
              "    <tr style=\"text-align: right;\">\n",
              "      <th></th>\n",
              "      <th>col_0</th>\n",
              "      <th>col_1</th>\n",
              "      <th>col_2</th>\n",
              "      <th>col_3</th>\n",
              "    </tr>\n",
              "  </thead>\n",
              "  <tbody>\n",
              "    <tr>\n",
              "      <th>0</th>\n",
              "      <td>b</td>\n",
              "      <td>True</td>\n",
              "      <td>4</td>\n",
              "      <td>5.5</td>\n",
              "    </tr>\n",
              "    <tr>\n",
              "      <th>1</th>\n",
              "      <td>c</td>\n",
              "      <td>False</td>\n",
              "      <td>5</td>\n",
              "      <td>2.3</td>\n",
              "    </tr>\n",
              "    <tr>\n",
              "      <th>2</th>\n",
              "      <td>d</td>\n",
              "      <td>True</td>\n",
              "      <td>6</td>\n",
              "      <td>2.6</td>\n",
              "    </tr>\n",
              "  </tbody>\n",
              "</table>\n",
              "</div>\n",
              "      <button class=\"colab-df-convert\" onclick=\"convertToInteractive('df-59ee85c9-9138-41ab-8cd6-63f30feba4ef')\"\n",
              "              title=\"Convert this dataframe to an interactive table.\"\n",
              "              style=\"display:none;\">\n",
              "        \n",
              "  <svg xmlns=\"http://www.w3.org/2000/svg\" height=\"24px\"viewBox=\"0 0 24 24\"\n",
              "       width=\"24px\">\n",
              "    <path d=\"M0 0h24v24H0V0z\" fill=\"none\"/>\n",
              "    <path d=\"M18.56 5.44l.94 2.06.94-2.06 2.06-.94-2.06-.94-.94-2.06-.94 2.06-2.06.94zm-11 1L8.5 8.5l.94-2.06 2.06-.94-2.06-.94L8.5 2.5l-.94 2.06-2.06.94zm10 10l.94 2.06.94-2.06 2.06-.94-2.06-.94-.94-2.06-.94 2.06-2.06.94z\"/><path d=\"M17.41 7.96l-1.37-1.37c-.4-.4-.92-.59-1.43-.59-.52 0-1.04.2-1.43.59L10.3 9.45l-7.72 7.72c-.78.78-.78 2.05 0 2.83L4 21.41c.39.39.9.59 1.41.59.51 0 1.02-.2 1.41-.59l7.78-7.78 2.81-2.81c.8-.78.8-2.07 0-2.86zM5.41 20L4 18.59l7.72-7.72 1.47 1.35L5.41 20z\"/>\n",
              "  </svg>\n",
              "      </button>\n",
              "      \n",
              "  <style>\n",
              "    .colab-df-container {\n",
              "      display:flex;\n",
              "      flex-wrap:wrap;\n",
              "      gap: 12px;\n",
              "    }\n",
              "\n",
              "    .colab-df-convert {\n",
              "      background-color: #E8F0FE;\n",
              "      border: none;\n",
              "      border-radius: 50%;\n",
              "      cursor: pointer;\n",
              "      display: none;\n",
              "      fill: #1967D2;\n",
              "      height: 32px;\n",
              "      padding: 0 0 0 0;\n",
              "      width: 32px;\n",
              "    }\n",
              "\n",
              "    .colab-df-convert:hover {\n",
              "      background-color: #E2EBFA;\n",
              "      box-shadow: 0px 1px 2px rgba(60, 64, 67, 0.3), 0px 1px 3px 1px rgba(60, 64, 67, 0.15);\n",
              "      fill: #174EA6;\n",
              "    }\n",
              "\n",
              "    [theme=dark] .colab-df-convert {\n",
              "      background-color: #3B4455;\n",
              "      fill: #D2E3FC;\n",
              "    }\n",
              "\n",
              "    [theme=dark] .colab-df-convert:hover {\n",
              "      background-color: #434B5C;\n",
              "      box-shadow: 0px 1px 3px 1px rgba(0, 0, 0, 0.15);\n",
              "      filter: drop-shadow(0px 1px 2px rgba(0, 0, 0, 0.3));\n",
              "      fill: #FFFFFF;\n",
              "    }\n",
              "  </style>\n",
              "\n",
              "      <script>\n",
              "        const buttonEl =\n",
              "          document.querySelector('#df-59ee85c9-9138-41ab-8cd6-63f30feba4ef button.colab-df-convert');\n",
              "        buttonEl.style.display =\n",
              "          google.colab.kernel.accessAllowed ? 'block' : 'none';\n",
              "\n",
              "        async function convertToInteractive(key) {\n",
              "          const element = document.querySelector('#df-59ee85c9-9138-41ab-8cd6-63f30feba4ef');\n",
              "          const dataTable =\n",
              "            await google.colab.kernel.invokeFunction('convertToInteractive',\n",
              "                                                     [key], {});\n",
              "          if (!dataTable) return;\n",
              "\n",
              "          const docLinkHtml = 'Like what you see? Visit the ' +\n",
              "            '<a target=\"_blank\" href=https://colab.research.google.com/notebooks/data_table.ipynb>data table notebook</a>'\n",
              "            + ' to learn more about interactive tables.';\n",
              "          element.innerHTML = '';\n",
              "          dataTable['output_type'] = 'display_data';\n",
              "          await google.colab.output.renderOutput(dataTable, element);\n",
              "          const docLink = document.createElement('div');\n",
              "          docLink.innerHTML = docLinkHtml;\n",
              "          element.appendChild(docLink);\n",
              "        }\n",
              "      </script>\n",
              "    </div>\n",
              "  </div>\n",
              "  "
            ]
          },
          "metadata": {},
          "execution_count": 23
        }
      ]
    },
    {
      "cell_type": "code",
      "source": [
        "df1.dtypes"
      ],
      "metadata": {
        "colab": {
          "base_uri": "https://localhost:8080/"
        },
        "id": "4NFXDXmzhcLM",
        "outputId": "055aa493-c9be-4aa9-b8e7-9ffd120e2889"
      },
      "execution_count": 25,
      "outputs": [
        {
          "output_type": "execute_result",
          "data": {
            "text/plain": [
              "col_0     object\n",
              "col_1       bool\n",
              "col_2      int64\n",
              "col_3    float64\n",
              "dtype: object"
            ]
          },
          "metadata": {},
          "execution_count": 25
        }
      ]
    },
    {
      "cell_type": "markdown",
      "source": [
        "# Q2. Load a CSV file using Pandas\n",
        "\n",
        "Load the following CSV file using Pandas: `./sample_data/california_housing_train.csv`"
      ],
      "metadata": {
        "id": "K368dDqyjWv2"
      }
    },
    {
      "cell_type": "code",
      "source": [
        "%%bash\n",
        "ls ./sample_data"
      ],
      "metadata": {
        "id": "6ecGTZA2jrF6",
        "outputId": "e21153d7-5885-4976-e60e-7e35710e1078",
        "colab": {
          "base_uri": "https://localhost:8080/"
        }
      },
      "execution_count": null,
      "outputs": [
        {
          "output_type": "stream",
          "name": "stdout",
          "text": [
            "\u001b[0m\u001b[01;32manscombe.json\u001b[0m*                mnist_test.csv\n",
            "california_housing_test.csv   mnist_train_small.csv\n",
            "california_housing_train.csv  \u001b[01;32mREADME.md\u001b[0m*\n"
          ]
        }
      ]
    },
    {
      "cell_type": "code",
      "source": [
        "df = pd.read_csv(\"./sample_data/california_housing_train.csv\")"
      ],
      "metadata": {
        "id": "Mur3p0bbj7Rl"
      },
      "execution_count": null,
      "outputs": []
    },
    {
      "cell_type": "markdown",
      "source": [
        "How many rows are in this dataset? How many columns are in this dataset? "
      ],
      "metadata": {
        "id": "reAAZ3UskTDU"
      }
    },
    {
      "cell_type": "code",
      "source": [
        "df.info()"
      ],
      "metadata": {
        "id": "7iD-lDqZkHz4",
        "outputId": "86b80347-5fbd-4506-9128-b11ee25f7cc2",
        "colab": {
          "base_uri": "https://localhost:8080/"
        }
      },
      "execution_count": null,
      "outputs": [
        {
          "output_type": "stream",
          "name": "stdout",
          "text": [
            "<class 'pandas.core.frame.DataFrame'>\n",
            "RangeIndex: 17000 entries, 0 to 16999\n",
            "Data columns (total 9 columns):\n",
            " #   Column              Non-Null Count  Dtype  \n",
            "---  ------              --------------  -----  \n",
            " 0   longitude           17000 non-null  float64\n",
            " 1   latitude            17000 non-null  float64\n",
            " 2   housing_median_age  17000 non-null  float64\n",
            " 3   total_rooms         17000 non-null  float64\n",
            " 4   total_bedrooms      17000 non-null  float64\n",
            " 5   population          17000 non-null  float64\n",
            " 6   households          17000 non-null  float64\n",
            " 7   median_income       17000 non-null  float64\n",
            " 8   median_house_value  17000 non-null  float64\n",
            "dtypes: float64(9)\n",
            "memory usage: 1.2 MB\n"
          ]
        }
      ]
    },
    {
      "cell_type": "markdown",
      "source": [
        "Compute descriptive statistics for every column in the dataset."
      ],
      "metadata": {
        "id": "-wUgQUOikqHs"
      }
    },
    {
      "cell_type": "code",
      "source": [
        "df.describe()"
      ],
      "metadata": {
        "id": "JEvThOZrkuBh",
        "outputId": "1265f2f0-1831-4d04-bf03-59f4aeb1873c",
        "colab": {
          "base_uri": "https://localhost:8080/",
          "height": 364
        }
      },
      "execution_count": null,
      "outputs": [
        {
          "output_type": "execute_result",
          "data": {
            "text/plain": [
              "          longitude      latitude  housing_median_age   total_rooms  \\\n",
              "count  17000.000000  17000.000000        17000.000000  17000.000000   \n",
              "mean    -119.562108     35.625225           28.589353   2643.664412   \n",
              "std        2.005166      2.137340           12.586937   2179.947071   \n",
              "min     -124.350000     32.540000            1.000000      2.000000   \n",
              "25%     -121.790000     33.930000           18.000000   1462.000000   \n",
              "50%     -118.490000     34.250000           29.000000   2127.000000   \n",
              "75%     -118.000000     37.720000           37.000000   3151.250000   \n",
              "max     -114.310000     41.950000           52.000000  37937.000000   \n",
              "\n",
              "       total_bedrooms    population    households  median_income  \\\n",
              "count    17000.000000  17000.000000  17000.000000   17000.000000   \n",
              "mean       539.410824   1429.573941    501.221941       3.883578   \n",
              "std        421.499452   1147.852959    384.520841       1.908157   \n",
              "min          1.000000      3.000000      1.000000       0.499900   \n",
              "25%        297.000000    790.000000    282.000000       2.566375   \n",
              "50%        434.000000   1167.000000    409.000000       3.544600   \n",
              "75%        648.250000   1721.000000    605.250000       4.767000   \n",
              "max       6445.000000  35682.000000   6082.000000      15.000100   \n",
              "\n",
              "       median_house_value  \n",
              "count        17000.000000  \n",
              "mean        207300.912353  \n",
              "std         115983.764387  \n",
              "min          14999.000000  \n",
              "25%         119400.000000  \n",
              "50%         180400.000000  \n",
              "75%         265000.000000  \n",
              "max         500001.000000  "
            ],
            "text/html": [
              "\n",
              "  <div id=\"df-cd64b907-1232-4294-a760-38c45c87e80f\">\n",
              "    <div class=\"colab-df-container\">\n",
              "      <div>\n",
              "<style scoped>\n",
              "    .dataframe tbody tr th:only-of-type {\n",
              "        vertical-align: middle;\n",
              "    }\n",
              "\n",
              "    .dataframe tbody tr th {\n",
              "        vertical-align: top;\n",
              "    }\n",
              "\n",
              "    .dataframe thead th {\n",
              "        text-align: right;\n",
              "    }\n",
              "</style>\n",
              "<table border=\"1\" class=\"dataframe\">\n",
              "  <thead>\n",
              "    <tr style=\"text-align: right;\">\n",
              "      <th></th>\n",
              "      <th>longitude</th>\n",
              "      <th>latitude</th>\n",
              "      <th>housing_median_age</th>\n",
              "      <th>total_rooms</th>\n",
              "      <th>total_bedrooms</th>\n",
              "      <th>population</th>\n",
              "      <th>households</th>\n",
              "      <th>median_income</th>\n",
              "      <th>median_house_value</th>\n",
              "    </tr>\n",
              "  </thead>\n",
              "  <tbody>\n",
              "    <tr>\n",
              "      <th>count</th>\n",
              "      <td>17000.000000</td>\n",
              "      <td>17000.000000</td>\n",
              "      <td>17000.000000</td>\n",
              "      <td>17000.000000</td>\n",
              "      <td>17000.000000</td>\n",
              "      <td>17000.000000</td>\n",
              "      <td>17000.000000</td>\n",
              "      <td>17000.000000</td>\n",
              "      <td>17000.000000</td>\n",
              "    </tr>\n",
              "    <tr>\n",
              "      <th>mean</th>\n",
              "      <td>-119.562108</td>\n",
              "      <td>35.625225</td>\n",
              "      <td>28.589353</td>\n",
              "      <td>2643.664412</td>\n",
              "      <td>539.410824</td>\n",
              "      <td>1429.573941</td>\n",
              "      <td>501.221941</td>\n",
              "      <td>3.883578</td>\n",
              "      <td>207300.912353</td>\n",
              "    </tr>\n",
              "    <tr>\n",
              "      <th>std</th>\n",
              "      <td>2.005166</td>\n",
              "      <td>2.137340</td>\n",
              "      <td>12.586937</td>\n",
              "      <td>2179.947071</td>\n",
              "      <td>421.499452</td>\n",
              "      <td>1147.852959</td>\n",
              "      <td>384.520841</td>\n",
              "      <td>1.908157</td>\n",
              "      <td>115983.764387</td>\n",
              "    </tr>\n",
              "    <tr>\n",
              "      <th>min</th>\n",
              "      <td>-124.350000</td>\n",
              "      <td>32.540000</td>\n",
              "      <td>1.000000</td>\n",
              "      <td>2.000000</td>\n",
              "      <td>1.000000</td>\n",
              "      <td>3.000000</td>\n",
              "      <td>1.000000</td>\n",
              "      <td>0.499900</td>\n",
              "      <td>14999.000000</td>\n",
              "    </tr>\n",
              "    <tr>\n",
              "      <th>25%</th>\n",
              "      <td>-121.790000</td>\n",
              "      <td>33.930000</td>\n",
              "      <td>18.000000</td>\n",
              "      <td>1462.000000</td>\n",
              "      <td>297.000000</td>\n",
              "      <td>790.000000</td>\n",
              "      <td>282.000000</td>\n",
              "      <td>2.566375</td>\n",
              "      <td>119400.000000</td>\n",
              "    </tr>\n",
              "    <tr>\n",
              "      <th>50%</th>\n",
              "      <td>-118.490000</td>\n",
              "      <td>34.250000</td>\n",
              "      <td>29.000000</td>\n",
              "      <td>2127.000000</td>\n",
              "      <td>434.000000</td>\n",
              "      <td>1167.000000</td>\n",
              "      <td>409.000000</td>\n",
              "      <td>3.544600</td>\n",
              "      <td>180400.000000</td>\n",
              "    </tr>\n",
              "    <tr>\n",
              "      <th>75%</th>\n",
              "      <td>-118.000000</td>\n",
              "      <td>37.720000</td>\n",
              "      <td>37.000000</td>\n",
              "      <td>3151.250000</td>\n",
              "      <td>648.250000</td>\n",
              "      <td>1721.000000</td>\n",
              "      <td>605.250000</td>\n",
              "      <td>4.767000</td>\n",
              "      <td>265000.000000</td>\n",
              "    </tr>\n",
              "    <tr>\n",
              "      <th>max</th>\n",
              "      <td>-114.310000</td>\n",
              "      <td>41.950000</td>\n",
              "      <td>52.000000</td>\n",
              "      <td>37937.000000</td>\n",
              "      <td>6445.000000</td>\n",
              "      <td>35682.000000</td>\n",
              "      <td>6082.000000</td>\n",
              "      <td>15.000100</td>\n",
              "      <td>500001.000000</td>\n",
              "    </tr>\n",
              "  </tbody>\n",
              "</table>\n",
              "</div>\n",
              "      <button class=\"colab-df-convert\" onclick=\"convertToInteractive('df-cd64b907-1232-4294-a760-38c45c87e80f')\"\n",
              "              title=\"Convert this dataframe to an interactive table.\"\n",
              "              style=\"display:none;\">\n",
              "        \n",
              "  <svg xmlns=\"http://www.w3.org/2000/svg\" height=\"24px\"viewBox=\"0 0 24 24\"\n",
              "       width=\"24px\">\n",
              "    <path d=\"M0 0h24v24H0V0z\" fill=\"none\"/>\n",
              "    <path d=\"M18.56 5.44l.94 2.06.94-2.06 2.06-.94-2.06-.94-.94-2.06-.94 2.06-2.06.94zm-11 1L8.5 8.5l.94-2.06 2.06-.94-2.06-.94L8.5 2.5l-.94 2.06-2.06.94zm10 10l.94 2.06.94-2.06 2.06-.94-2.06-.94-.94-2.06-.94 2.06-2.06.94z\"/><path d=\"M17.41 7.96l-1.37-1.37c-.4-.4-.92-.59-1.43-.59-.52 0-1.04.2-1.43.59L10.3 9.45l-7.72 7.72c-.78.78-.78 2.05 0 2.83L4 21.41c.39.39.9.59 1.41.59.51 0 1.02-.2 1.41-.59l7.78-7.78 2.81-2.81c.8-.78.8-2.07 0-2.86zM5.41 20L4 18.59l7.72-7.72 1.47 1.35L5.41 20z\"/>\n",
              "  </svg>\n",
              "      </button>\n",
              "      \n",
              "  <style>\n",
              "    .colab-df-container {\n",
              "      display:flex;\n",
              "      flex-wrap:wrap;\n",
              "      gap: 12px;\n",
              "    }\n",
              "\n",
              "    .colab-df-convert {\n",
              "      background-color: #E8F0FE;\n",
              "      border: none;\n",
              "      border-radius: 50%;\n",
              "      cursor: pointer;\n",
              "      display: none;\n",
              "      fill: #1967D2;\n",
              "      height: 32px;\n",
              "      padding: 0 0 0 0;\n",
              "      width: 32px;\n",
              "    }\n",
              "\n",
              "    .colab-df-convert:hover {\n",
              "      background-color: #E2EBFA;\n",
              "      box-shadow: 0px 1px 2px rgba(60, 64, 67, 0.3), 0px 1px 3px 1px rgba(60, 64, 67, 0.15);\n",
              "      fill: #174EA6;\n",
              "    }\n",
              "\n",
              "    [theme=dark] .colab-df-convert {\n",
              "      background-color: #3B4455;\n",
              "      fill: #D2E3FC;\n",
              "    }\n",
              "\n",
              "    [theme=dark] .colab-df-convert:hover {\n",
              "      background-color: #434B5C;\n",
              "      box-shadow: 0px 1px 3px 1px rgba(0, 0, 0, 0.15);\n",
              "      filter: drop-shadow(0px 1px 2px rgba(0, 0, 0, 0.3));\n",
              "      fill: #FFFFFF;\n",
              "    }\n",
              "  </style>\n",
              "\n",
              "      <script>\n",
              "        const buttonEl =\n",
              "          document.querySelector('#df-cd64b907-1232-4294-a760-38c45c87e80f button.colab-df-convert');\n",
              "        buttonEl.style.display =\n",
              "          google.colab.kernel.accessAllowed ? 'block' : 'none';\n",
              "\n",
              "        async function convertToInteractive(key) {\n",
              "          const element = document.querySelector('#df-cd64b907-1232-4294-a760-38c45c87e80f');\n",
              "          const dataTable =\n",
              "            await google.colab.kernel.invokeFunction('convertToInteractive',\n",
              "                                                     [key], {});\n",
              "          if (!dataTable) return;\n",
              "\n",
              "          const docLinkHtml = 'Like what you see? Visit the ' +\n",
              "            '<a target=\"_blank\" href=https://colab.research.google.com/notebooks/data_table.ipynb>data table notebook</a>'\n",
              "            + ' to learn more about interactive tables.';\n",
              "          element.innerHTML = '';\n",
              "          dataTable['output_type'] = 'display_data';\n",
              "          await google.colab.output.renderOutput(dataTable, element);\n",
              "          const docLink = document.createElement('div');\n",
              "          docLink.innerHTML = docLinkHtml;\n",
              "          element.appendChild(docLink);\n",
              "        }\n",
              "      </script>\n",
              "    </div>\n",
              "  </div>\n",
              "  "
            ]
          },
          "metadata": {},
          "execution_count": 220
        }
      ]
    },
    {
      "cell_type": "markdown",
      "source": [
        "# Q3. Simulate a random walk using Python\n",
        "\n",
        "Suppose that you initially have 1 million SAR. Every year your wealth either randomly increases by 10% or decreases by 10% (an increase or decrease is equally likely). Write a for loop to simulate your wealth for 100 years and **plot** the result.\n",
        "\n",
        "**Hint** This is *very* similar to the example we discussed in class."
      ],
      "metadata": {
        "id": "GEHBHwd_riXw"
      }
    },
    {
      "cell_type": "code",
      "source": [
        "import random\n",
        "\n",
        "n_steps = 100\n",
        "random_walk = [1_000_000]\n",
        "for n in range(n_steps):\n",
        "    if random.randint(0, 1):\n",
        "        step = 1.1\n",
        "    else:\n",
        "        step = 0.9\n",
        "    new_position = current_position * step\n",
        "    random_walk.append(new_position)\n",
        "    current_position = new_position\n",
        "    \n",
        "_ = plt.plot(random_walk)\n"
      ],
      "metadata": {
        "id": "Jm5Kl0RArmmt",
        "outputId": "c737462b-0a00-45c5-89f6-d0a11d8f0dc8",
        "colab": {
          "base_uri": "https://localhost:8080/",
          "height": 297
        }
      },
      "execution_count": null,
      "outputs": [
        {
          "output_type": "display_data",
          "data": {
            "text/plain": [
              "<Figure size 432x288 with 1 Axes>"
            ],
            "image/png": "[encoded data removed]"
          },
          "metadata": {
            "needs_background": "light"
          }
        }
      ]
    },
    {
      "cell_type": "markdown",
      "metadata": {
        "id": "wZWFwAtSMf2-"
      },
      "source": [
        "# Q4. Linear Regression using NumPy\n",
        "\n",
        "In this question, I will walk you through the process of coding up an algorithm to train a linear regression model using NumPy. This is a challenging exercise which will test your skills and prepare you for some of the ideas that you will encounter next week.\n",
        "\n",
        "In this exercise you will simulate data from a model with known parameters, and then code an algorithm to recover the values of the parameters from the data. You should find that the values that your algorithm learns are close to the true values. "
      ]
    },
    {
      "cell_type": "markdown",
      "source": [
        "## a) Creating random features\n",
        "\n",
        "Create an array of ones with $m$ rows and 1 column representing a constant feature (sometimes called a *bias*)."
      ],
      "metadata": {
        "id": "j-rMv6DmWgDf"
      }
    },
    {
      "cell_type": "code",
      "execution_count": 2,
      "metadata": {
        "id": "si6PQ9vhMxP8"
      },
      "outputs": [],
      "source": [
        "m = 1000\n",
        "bias = np.ones((m, 1))"
      ]
    },
    {
      "cell_type": "markdown",
      "source": [
        "Create an array of random normal data with `loc=1`, `shape=1` with $m$ rows and 1 column. This random array represents a *feature* of your model. \n"
      ],
      "metadata": {
        "id": "DNXzHlt6W3hx"
      }
    },
    {
      "cell_type": "code",
      "source": [
        "x1 = np.random.normal(1.0, 1.0, size=(m, 1)) "
      ],
      "metadata": {
        "id": "dXzSJL8-W4ER"
      },
      "execution_count": 3,
      "outputs": []
    },
    {
      "cell_type": "markdown",
      "source": [
        "The following code uses a NumPy function to combine your arrays into a single array of features."
      ],
      "metadata": {
        "id": "3hMvXYbKXXH4"
      }
    },
    {
      "cell_type": "code",
      "source": [
        "features = np.hstack([bias, x1])"
      ],
      "metadata": {
        "id": "i5G6KIq_WYem"
      },
      "execution_count": 4,
      "outputs": []
    },
    {
      "cell_type": "markdown",
      "source": [
        "## b) Simulating sampling noise\n",
        "\n",
        "Create an array of random normal data with `loc=0`, `shape=0.5` with $m$ rows and 1 column to represent sampling noise (or measurement error). "
      ],
      "metadata": {
        "id": "gIw07qVXXkC5"
      }
    },
    {
      "cell_type": "code",
      "source": [
        "error = np.random.normal(0, 0.5, size=(m, 1)) "
      ],
      "metadata": {
        "id": "2vXt5bt5Vpgc"
      },
      "execution_count": 5,
      "outputs": []
    },
    {
      "cell_type": "markdown",
      "source": [
        "## c) Define an array of true parameters\n",
        "\n",
        "First, create an array with 2 rows and 1 column with values 3.0 and 1.5. These specific values represent the *true* parameters of our model (whose values you will seek to learn from the data)."
      ],
      "metadata": {
        "id": "fIlJoayYYDgO"
      }
    },
    {
      "cell_type": "code",
      "source": [
        "true_parameters = np.array([[3.0], [1.5]]) "
      ],
      "metadata": {
        "id": "nv4vABLoVpil"
      },
      "execution_count": 6,
      "outputs": []
    },
    {
      "cell_type": "markdown",
      "source": [
        "## d) Simulating a linear model\n",
        "\n",
        "Create your target array by first using matrix multiplication to combine your `features` array and your `true_parameters` array and then adding the `error` array.\n",
        "\n",
        "**Hint** You can perform matrix multiplication between two NumPy arrays `a1` and `a2` using the `@` operator. So, for example, \n",
        "\n",
        "`a1 @ a2`\n",
        "\n",
        "would use matrix multiplication to combine the arrays `a1` and `a2`. "
      ],
      "metadata": {
        "id": "utWcAe9yYmpm"
      }
    },
    {
      "cell_type": "code",
      "source": [
        "target = features @ true_parameters + error"
      ],
      "metadata": {
        "id": "ZTs_SYgtVprW"
      },
      "execution_count": 7,
      "outputs": []
    },
    {
      "cell_type": "markdown",
      "source": [
        "## e) Plotting the simulated data\n",
        "\n",
        "The code in the cell below will plot your simulated data. If you have done everything correctly, then your plot should look *similar* to the plot below.\n",
        "\n",
        "![Unknown.png](data:image/png;base64,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)"
      ],
      "metadata": {
        "id": "0pOH4Sz6ZzqY"
      }
    },
    {
      "cell_type": "code",
      "execution_count": 8,
      "metadata": {
        "colab": {
          "base_uri": "https://localhost:8080/",
          "height": 309
        },
        "id": "AFl-qannNNQx",
        "outputId": "498e9c30-ea50-4ed0-af02-01f64b771939"
      },
      "outputs": [
        {
          "output_type": "display_data",
          "data": {
            "text/plain": [
              "<Figure size 432x288 with 1 Axes>"
            ],
            "image/png": "[encoded data removed]"
          },
          "metadata": {
            "needs_background": "light"
          }
        }
      ],
      "source": [
        "_ = plt.plot(features[:, 1], target, 'o', alpha=0.1)\n",
        "_ = plt.xlabel(r\"$X_1$\", fontsize=15)\n",
        "_ = plt.ylabel(\"y\", fontsize=15, rotation=0)"
      ]
    },
    {
      "cell_type": "markdown",
      "source": [
        "## f) Defining some useful functions\n",
        "\n",
        "Now that you have simulated data, you will need to define several functions that you will use to code up your algorithm to *learn* the true values of the parameters from the data."
      ],
      "metadata": {
        "id": "lORukiZcZss7"
      }
    },
    {
      "cell_type": "code",
      "execution_count": 12,
      "metadata": {
        "id": "1ZeA-5v8P82e"
      },
      "outputs": [],
      "source": [
        "def shuffle_data(X, y):\n",
        "    \"\"\"\n",
        "    Shuffle the data, X, by generating random integers between 0 and m and then \n",
        "    using these integers to select rows from arrays X and y.\n",
        "\n",
        "    Return both the shuffled X and the shuffled y arrays.\n",
        "\n",
        "    \"\"\"\n",
        "    m, _ = y.shape\n",
        "    random_idxs = np.random.randint(0, m, size=m)\n",
        "    return X[random_idxs], y[random_idxs]\n",
        "\n",
        "\n",
        "def model_fn(X, parameters):\n",
        "    \"\"\"\n",
        "    Your model function should use matrix multiplication to combine the arrays  \n",
        "    X and parameters and return the result.\n",
        "\n",
        "    \"\"\"\n",
        "    return X @ parameters\n",
        "\n",
        "\n",
        "def grad_fn(X, y, y_hat):\n",
        "    \"\"\"\n",
        "    Your algorithm will compute the gradient of the loss function and use the \n",
        "    result to update your parameters. Computing gradients is tedious so I have \n",
        "    given you this function.\n",
        "\n",
        "    The inputs to this function are the data, X, the target, y, and the \n",
        "    predictions of your model_fn, y_hat.\n",
        "\n",
        "    \"\"\"\n",
        "    m, _ = y.shape\n",
        "    return -(1 / m) * (X.T @ (y - y_hat))\n",
        "\n",
        "\n",
        "def update_parameters(parameters, gradient, learning_rate):\n",
        "    \"\"\"\n",
        "    Update the parameters of your model by\n",
        "\n",
        "        1. multiplying the gradient and the learning rate.\n",
        "        2. subtracting result from the current value of the parameters.\n",
        "    \n",
        "    Return the new values for you parameters.\n",
        "\n",
        "    \"\"\"\n",
        "    return parameters - gradient * learning_rate\n",
        "\n"
      ]
    },
    {
      "cell_type": "markdown",
      "source": [
        "## g) Randomly guess some values for parameters\n",
        "\n",
        "Initialize a 2 row and 1 column array of parameters using random normal values with `loc=0`, `scale=1`.\n"
      ],
      "metadata": {
        "id": "vszmpBwMbs9G"
      }
    },
    {
      "cell_type": "code",
      "execution_count": 13,
      "metadata": {
        "id": "D1izaWjUP_rJ"
      },
      "outputs": [],
      "source": [
        "learned_parameters = np.random.normal(size=(2, 1))"
      ]
    },
    {
      "cell_type": "markdown",
      "source": [
        "## h) Code your learning algorithm\n",
        "\n",
        "In the cell below you will write a `for` loop that will iterate for `n_epochs` that will update your parameters in an attempt to learn their true values from the data. The body of the `for` loop has a number of steps which must be completed in order.\n",
        "\n",
        "1. shuffle the data using `shuffle_data`\n",
        "2. make predictions using `model_fn`\n",
        "3. compute the gradient using `grad_fn`\n",
        "4. update the learned parameters using `update_parameters`"
      ],
      "metadata": {
        "id": "CbE0T9_IcCvH"
      }
    },
    {
      "cell_type": "code",
      "source": [
        "# do not change these values!\n",
        "learning_rate = 0.01\n",
        "n_epochs = 1000\n",
        "\n",
        "# write a for loop that loops for n_epochs and does the following...\n",
        "for _ in range(n_epochs):\n",
        "\n",
        "    # 1. shuffle the data using shuffle_data \n",
        "    shuffled_features, shuffled_target = shuffle_data(features, target)\n",
        "\n",
        "    # 2. make predictions using model_fn\n",
        "    predictions = model_fn(shuffled_features, learned_parameters)\n",
        "            \n",
        "    # 3. compute the gradient using grad_fn\n",
        "    grad = grad_fn(shuffled_features, shuffled_target, predictions)\n",
        "\n",
        "    # 4. update the parameters using update_parameters\n",
        "    learned_parameters = update_parameters(learned_parameters, grad, learning_rate)\n"
      ],
      "metadata": {
        "id": "dmyMf3_Wbr6D"
      },
      "execution_count": 14,
      "outputs": []
    },
    {
      "cell_type": "code",
      "execution_count": 15,
      "metadata": {
        "colab": {
          "base_uri": "https://localhost:8080/"
        },
        "id": "UcFDpL30y99V",
        "outputId": "2fcae61f-baea-44ac-f802-ace901eeb6bf"
      },
      "outputs": [
        {
          "output_type": "stream",
          "name": "stdout",
          "text": [
            "Learned Parameters: [2.96372928 1.51844173]\n"
          ]
        }
      ],
      "source": [
        "print(f\"Learned Parameters: {learned_parameters[:, 0]}\")"
      ]
    },
    {
      "cell_type": "code",
      "source": [
        "print(f\"True Parameters: {true_parameters[:, 0]}\")"
      ],
      "metadata": {
        "id": "ecj-KcrbiXMS",
        "outputId": "07829d96-f0e7-4d26-b260-15b811ae3d4a",
        "colab": {
          "base_uri": "https://localhost:8080/"
        }
      },
      "execution_count": 16,
      "outputs": [
        {
          "output_type": "stream",
          "name": "stdout",
          "text": [
            "True Parameters: [3.  1.5]\n"
          ]
        }
      ]
    },
    {
      "cell_type": "markdown",
      "source": [
        "## i) Plotting your models predictions\n",
        "\n",
        "The code in the cell below will plot your original simulated data as well as plot the predictions of your model using the learned parameters. If your algorithm has learned parameters close to the values of the true parameters, then your plot should look similar to the following.\n",
        "\n",
        "![Unknown-2.png](data:image/png;base64,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)"
      ],
      "metadata": {
        "id": "auBKTs6vdhVH"
      }
    },
    {
      "cell_type": "code",
      "execution_count": 17,
      "metadata": {
        "colab": {
          "base_uri": "https://localhost:8080/",
          "height": 309
        },
        "id": "qUxsbvw4TNg1",
        "outputId": "f72666d4-d4f9-4258-e76f-7f63691c1c04"
      },
      "outputs": [
        {
          "output_type": "display_data",
          "data": {
            "text/plain": [
              "<Figure size 432x288 with 1 Axes>"
            ],
            "image/png": "[encoded data removed]"
          },
          "metadata": {
            "needs_background": "light"
          }
        }
      ],
      "source": [
        "new_x1 = np.linspace(-3, 5, m).reshape((-1, 1))\n",
        "new_features = np.hstack([bias, new_x1])\n",
        "new_target = model_fn(new_features, learned_parameters)\n",
        "\n",
        "_ = plt.plot(features[:, 1], target, 'o',  alpha=0.1)\n",
        "_ = plt.plot(new_features[:, 1], new_target)\n",
        "_ = plt.xlabel(r\"$X_1$\", fontsize=15)\n",
        "_ = plt.ylabel(\"y\", fontsize=15, rotation=0)"
      ]
    },
    {
      "cell_type": "code",
      "source": [],
      "metadata": {
        "id": "x13YSdMcfUg4"
      },
      "execution_count": null,
      "outputs": []
    }
  ],
  "metadata": {
    "colab": {
      "provenance": []
    },
    "kernelspec": {
      "display_name": "Python 3 (ipykernel)",
      "language": "python",
      "name": "python3"
    },
    "language_info": {
      "codemirror_mode": {
        "name": "ipython",
        "version": 3
      },
      "file_extension": ".py",
      "mimetype": "text/x-python",
      "name": "python",
      "nbconvert_exporter": "python",
      "pygments_lexer": "ipython3",
      "version": "3.10.6"
    }
  },
  "nbformat": 4,
  "nbformat_minor": 0
}
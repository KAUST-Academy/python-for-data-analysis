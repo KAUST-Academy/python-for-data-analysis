{
  "metadata": {
    "kernelspec": {
      "name": "python3",
      "display_name": "Python 3 (ipykernel)",
      "language": "python"
    },
    "language_info": {
      "name": "python",
      "version": "3.7.12",
      "mimetype": "text/x-python",
      "codemirror_mode": {
        "name": "ipython",
        "version": 3
      },
      "pygments_lexer": "ipython3",
      "nbconvert_exporter": "python",
      "file_extension": ".py"
    },
    "colab": {
      "provenance": []
    }
  },
  "nbformat_minor": 0,
  "nbformat": 4,
  "cells": [
    {
      "cell_type": "code",
      "source": [
        "import io\n",
        "import pathlib\n",
        "import requests\n",
        "import zipfile\n",
        "\n",
        "from numpy.random import randn\n",
        "import numpy as np\n",
        "np.random.seed(123)\n",
        "import os\n",
        "import matplotlib.pyplot as plt\n",
        "import pandas as pd\n",
        "plt.rc(\"figure\", figsize=(10, 6))\n",
        "np.set_printoptions(precision=4)\n",
        "pd.options.display.max_columns = 20\n",
        "pd.options.display.max_rows = 20\n",
        "pd.options.display.max_colwidth = 80"
      ],
      "metadata": {
        "trusted": true,
        "id": "rERgoYjSdxld"
      },
      "execution_count": null,
      "outputs": []
    },
    {
      "cell_type": "code",
      "source": [
        "ROOT_DIR = pathlib.Path(\"..\")\n",
        "\n",
        "DATASETS_URL = \"https://github.com/KAUST-Academy/python-for-data-analysis/raw/november-2022/datasets.zip\"\n",
        "\n",
        "response = requests.get(DATASETS_URL)\n",
        "z = zipfile.ZipFile(io.BytesIO(response.content))\n",
        "z.extractall(ROOT_DIR)"
      ],
      "metadata": {
        "id": "k2KvktXgeAjJ"
      },
      "execution_count": null,
      "outputs": []
    },
    {
      "cell_type": "code",
      "source": [
        "DATASETS_DIR = ROOT_DIR / \"datasets\"\n",
        "DATASET_DIR = DATASETS_DIR / \"babynames\""
      ],
      "metadata": {
        "id": "hBso7q5QeCk5"
      },
      "execution_count": null,
      "outputs": []
    },
    {
      "cell_type": "code",
      "source": [
        "!head -n 10 $DATASET_DIR/yob1880.txt"
      ],
      "metadata": {
        "trusted": true,
        "id": "gWEzTsUgdxlj"
      },
      "execution_count": null,
      "outputs": []
    },
    {
      "cell_type": "code",
      "source": [
        "names1880 = pd.read_csv(DATASET_DIR / \"yob1880.txt\",\n",
        "                        names=[\"name\", \"sex\", \"births\"])\n",
        "names1880"
      ],
      "metadata": {
        "trusted": true,
        "id": "OmsqWDhxdxlk"
      },
      "execution_count": null,
      "outputs": []
    },
    {
      "cell_type": "code",
      "source": [
        "names1880.groupby(\"sex\")[\"births\"].sum()"
      ],
      "metadata": {
        "trusted": true,
        "id": "y-SXfhDjdxll"
      },
      "execution_count": null,
      "outputs": []
    },
    {
      "cell_type": "code",
      "source": [
        "pieces = []\n",
        "for year in range(1880, 2011):\n",
        "    path = DATASET_DIR / f\"/yob{year}.txt\"\n",
        "    frame = pd.read_csv(path, names=[\"name\", \"sex\", \"births\"])\n",
        "\n",
        "    # Add a column for the year\n",
        "    frame[\"year\"] = year\n",
        "    pieces.append(frame)\n",
        "\n",
        "# Concatenate everything into a single DataFrame\n",
        "names = pd.concat(pieces, ignore_index=True)"
      ],
      "metadata": {
        "trusted": true,
        "id": "YxbEFXVddxlm"
      },
      "execution_count": null,
      "outputs": []
    },
    {
      "cell_type": "code",
      "source": [
        "names"
      ],
      "metadata": {
        "trusted": true,
        "id": "kJ-0V22Gdxlm"
      },
      "execution_count": null,
      "outputs": []
    },
    {
      "cell_type": "code",
      "source": [
        "total_births = names.pivot_table(\"births\", index=\"year\",\n",
        "                                 columns=\"sex\", aggfunc=sum)\n",
        "total_births.tail()\n",
        "total_births.plot(title=\"Total births by sex and year\")"
      ],
      "metadata": {
        "trusted": true,
        "id": "w90HO_L7dxln"
      },
      "execution_count": null,
      "outputs": []
    },
    {
      "cell_type": "code",
      "source": [
        "def add_prop(group):\n",
        "    group[\"prop\"] = group[\"births\"] / group[\"births\"].sum()\n",
        "    return group\n",
        "\n",
        "names = names.groupby([\"year\", \"sex\"]).apply(add_prop)"
      ],
      "metadata": {
        "trusted": true,
        "id": "RcAYMteKdxlo"
      },
      "execution_count": null,
      "outputs": []
    },
    {
      "cell_type": "code",
      "source": [
        "names"
      ],
      "metadata": {
        "trusted": true,
        "id": "SW9-7D3Zdxlq"
      },
      "execution_count": null,
      "outputs": []
    },
    {
      "cell_type": "code",
      "source": [
        "names.groupby([\"year\", \"sex\"])[\"prop\"].sum()"
      ],
      "metadata": {
        "trusted": true,
        "id": "6rDxK2HLdxlr"
      },
      "execution_count": null,
      "outputs": []
    },
    {
      "cell_type": "code",
      "source": [
        "def get_top1000(group):\n",
        "    return group.sort_values(\"births\", ascending=False)[:1000]\n",
        "\n",
        "grouped = names.groupby([\"year\", \"sex\"])\n",
        "top1000 = grouped.apply(get_top1000)\n",
        "top1000.head()"
      ],
      "metadata": {
        "trusted": true,
        "id": "RHwZar4Ddxlt"
      },
      "execution_count": null,
      "outputs": []
    },
    {
      "cell_type": "code",
      "source": [
        "top1000 = top1000.reset_index(drop=True)"
      ],
      "metadata": {
        "trusted": true,
        "id": "DMu9ExVEdxlt"
      },
      "execution_count": null,
      "outputs": []
    },
    {
      "cell_type": "code",
      "source": [
        "top1000.head()"
      ],
      "metadata": {
        "trusted": true,
        "id": "cb2orjeOdxlu"
      },
      "execution_count": null,
      "outputs": []
    },
    {
      "cell_type": "code",
      "source": [
        "boys = top1000[top1000[\"sex\"] == \"M\"]\n",
        "girls = top1000[top1000[\"sex\"] == \"F\"]"
      ],
      "metadata": {
        "trusted": true,
        "id": "EGp42qpOdxlv"
      },
      "execution_count": null,
      "outputs": []
    },
    {
      "cell_type": "code",
      "source": [
        "total_births = top1000.pivot_table(\"births\", index=\"year\",\n",
        "                                   columns=\"name\",\n",
        "                                   aggfunc=sum)"
      ],
      "metadata": {
        "trusted": true,
        "id": "585Z-XMadxlv"
      },
      "execution_count": null,
      "outputs": []
    },
    {
      "cell_type": "code",
      "source": [
        "total_births.info()\n",
        "subset = total_births[[\"John\", \"Harry\", \"Mary\", \"Marilyn\"]]\n",
        "subset.plot(subplots=True, figsize=(12, 10),\n",
        "            title=\"Number of births per year\")"
      ],
      "metadata": {
        "trusted": true,
        "id": "JgAMPDR1dxlw"
      },
      "execution_count": null,
      "outputs": []
    },
    {
      "cell_type": "code",
      "source": [
        "plt.figure()"
      ],
      "metadata": {
        "trusted": true,
        "id": "tnmxMf9Sdxlw"
      },
      "execution_count": null,
      "outputs": []
    },
    {
      "cell_type": "code",
      "source": [
        "table = top1000.pivot_table(\"prop\", index=\"year\",\n",
        "                            columns=\"sex\", aggfunc=sum)\n",
        "table.plot(title=\"Sum of table1000.prop by year and sex\",\n",
        "           yticks=np.linspace(0, 1.2, 13))"
      ],
      "metadata": {
        "trusted": true,
        "id": "Z6Nr09iddxlx"
      },
      "execution_count": null,
      "outputs": []
    },
    {
      "cell_type": "code",
      "source": [
        "df = boys[boys[\"year\"] == 2010]\n",
        "df"
      ],
      "metadata": {
        "trusted": true,
        "id": "suzXtnrrdxlx"
      },
      "execution_count": null,
      "outputs": []
    },
    {
      "cell_type": "code",
      "source": [
        "prop_cumsum = df[\"prop\"].sort_values(ascending=False).cumsum()\n",
        "prop_cumsum[:10]\n",
        "prop_cumsum.searchsorted(0.5)"
      ],
      "metadata": {
        "trusted": true,
        "id": "vCFJv9Sddxlx"
      },
      "execution_count": null,
      "outputs": []
    },
    {
      "cell_type": "code",
      "source": [
        "df = boys[boys.year == 1900]\n",
        "in1900 = df.sort_values(\"prop\", ascending=False).prop.cumsum()\n",
        "in1900.searchsorted(0.5) + 1"
      ],
      "metadata": {
        "trusted": true,
        "id": "t92lD-dKdxly"
      },
      "execution_count": null,
      "outputs": []
    },
    {
      "cell_type": "code",
      "source": [
        "def get_quantile_count(group, q=0.5):\n",
        "    group = group.sort_values(\"prop\", ascending=False)\n",
        "    return group.prop.cumsum().searchsorted(q) + 1\n",
        "\n",
        "diversity = top1000.groupby([\"year\", \"sex\"]).apply(get_quantile_count)\n",
        "diversity = diversity.unstack()"
      ],
      "metadata": {
        "trusted": true,
        "id": "0bsS_PiTdxly"
      },
      "execution_count": null,
      "outputs": []
    },
    {
      "cell_type": "code",
      "source": [
        "fig = plt.figure()"
      ],
      "metadata": {
        "trusted": true,
        "id": "WQIio0HLdxlz"
      },
      "execution_count": null,
      "outputs": []
    },
    {
      "cell_type": "code",
      "source": [
        "diversity.head()\n",
        "diversity.plot(title=\"Number of popular names in top 50%\")"
      ],
      "metadata": {
        "trusted": true,
        "id": "nE5qKDF-dxlz"
      },
      "execution_count": null,
      "outputs": []
    },
    {
      "cell_type": "code",
      "source": [
        "def get_last_letter(x):\n",
        "    return x[-1]\n",
        "\n",
        "last_letters = names[\"name\"].map(get_last_letter)\n",
        "last_letters.name = \"last_letter\"\n",
        "\n",
        "table = names.pivot_table(\"births\", index=last_letters,\n",
        "                          columns=[\"sex\", \"year\"], aggfunc=sum)"
      ],
      "metadata": {
        "trusted": true,
        "id": "RpyjcTEsdxlz"
      },
      "execution_count": null,
      "outputs": []
    },
    {
      "cell_type": "code",
      "source": [
        "subtable = table.reindex(columns=[1910, 1960, 2010], level=\"year\")\n",
        "subtable.head()"
      ],
      "metadata": {
        "trusted": true,
        "id": "1wbeyi6odxl0"
      },
      "execution_count": null,
      "outputs": []
    },
    {
      "cell_type": "code",
      "source": [
        "subtable.sum()\n",
        "letter_prop = subtable / subtable.sum()\n",
        "letter_prop"
      ],
      "metadata": {
        "trusted": true,
        "id": "iuFVoJRIdxl0"
      },
      "execution_count": null,
      "outputs": []
    },
    {
      "cell_type": "code",
      "source": [
        "fig, axes = plt.subplots(2, 1, figsize=(10, 8))\n",
        "letter_prop[\"M\"].plot(kind=\"bar\", rot=0, ax=axes[0], title=\"Male\")\n",
        "letter_prop[\"F\"].plot(kind=\"bar\", rot=0, ax=axes[1], title=\"Female\",\n",
        "                      legend=False)"
      ],
      "metadata": {
        "trusted": true,
        "id": "TvaxTAg0dxl0"
      },
      "execution_count": null,
      "outputs": []
    },
    {
      "cell_type": "code",
      "source": [
        "plt.subplots_adjust(hspace=0.25)"
      ],
      "metadata": {
        "trusted": true,
        "id": "26tRAYh2dxl1"
      },
      "execution_count": null,
      "outputs": []
    },
    {
      "cell_type": "code",
      "source": [
        "letter_prop = table / table.sum()\n",
        "\n",
        "dny_ts = letter_prop.loc[[\"d\", \"n\", \"y\"], \"M\"].T\n",
        "dny_ts.head()"
      ],
      "metadata": {
        "trusted": true,
        "id": "c3lKdW5Adxl2"
      },
      "execution_count": null,
      "outputs": []
    },
    {
      "cell_type": "code",
      "source": [
        "plt.close(\"all\")"
      ],
      "metadata": {
        "trusted": true,
        "id": "crznNuThdxl2"
      },
      "execution_count": null,
      "outputs": []
    },
    {
      "cell_type": "code",
      "source": [
        "fig = plt.figure()"
      ],
      "metadata": {
        "trusted": true,
        "id": "A07FewdBdxl3"
      },
      "execution_count": null,
      "outputs": []
    },
    {
      "cell_type": "code",
      "source": [
        "dny_ts.plot()"
      ],
      "metadata": {
        "trusted": true,
        "id": "ohoMDOwUdxl3"
      },
      "execution_count": null,
      "outputs": []
    },
    {
      "cell_type": "code",
      "source": [
        "all_names = pd.Series(top1000[\"name\"].unique())\n",
        "lesley_like = all_names[all_names.str.contains(\"Lesl\")]\n",
        "lesley_like"
      ],
      "metadata": {
        "trusted": true,
        "id": "cVObV3pldxl3"
      },
      "execution_count": null,
      "outputs": []
    },
    {
      "cell_type": "code",
      "source": [
        "filtered = top1000[top1000[\"name\"].isin(lesley_like)]\n",
        "filtered.groupby(\"name\")[\"births\"].sum()"
      ],
      "metadata": {
        "trusted": true,
        "id": "w3atVJYedxl4"
      },
      "execution_count": null,
      "outputs": []
    },
    {
      "cell_type": "code",
      "source": [
        "table = filtered.pivot_table(\"births\", index=\"year\",\n",
        "                             columns=\"sex\", aggfunc=\"sum\")\n",
        "table = table.div(table.sum(axis=\"columns\"), axis=\"index\")\n",
        "table.tail()"
      ],
      "metadata": {
        "trusted": true,
        "id": "zq6Pxqcsdxl4"
      },
      "execution_count": null,
      "outputs": []
    },
    {
      "cell_type": "code",
      "source": [
        "fig = plt.figure()"
      ],
      "metadata": {
        "trusted": true,
        "id": "kvn2-zIFdxl4"
      },
      "execution_count": null,
      "outputs": []
    },
    {
      "cell_type": "code",
      "source": [
        "table.plot(style={\"M\": \"k-\", \"F\": \"k--\"})"
      ],
      "metadata": {
        "trusted": true,
        "id": "B3nSsldWdxl4"
      },
      "execution_count": null,
      "outputs": []
    }
  ]
}
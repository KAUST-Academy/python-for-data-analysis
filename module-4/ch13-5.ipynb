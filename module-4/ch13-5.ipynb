{
  "metadata": {
    "kernelspec": {
      "name": "python3",
      "display_name": "Python 3 (ipykernel)",
      "language": "python"
    },
    "language_info": {
      "name": "python",
      "version": "3.7.12",
      "mimetype": "text/x-python",
      "codemirror_mode": {
        "name": "ipython",
        "version": 3
      },
      "pygments_lexer": "ipython3",
      "nbconvert_exporter": "python",
      "file_extension": ".py"
    },
    "colab": {
      "provenance": []
    }
  },
  "nbformat_minor": 0,
  "nbformat": 4,
  "cells": [
    {
      "cell_type": "code",
      "source": [
        "import io\n",
        "import json\n",
        "import os\n",
        "import pathlib\n",
        "import requests\n",
        "import zipfile\n",
        "\n",
        "import numpy as np\n",
        "np.random.seed(123)\n",
        "import matplotlib.pyplot as plt\n",
        "import pandas as pd\n",
        "plt.rc(\"figure\", figsize=(10, 6))\n",
        "np.set_printoptions(precision=4)\n",
        "pd.options.display.max_columns = 20\n",
        "pd.options.display.max_rows = 20\n",
        "pd.options.display.max_colwidth = 80"
      ],
      "metadata": {
        "trusted": true,
        "id": "5P8X0q0PgqDe"
      },
      "execution_count": null,
      "outputs": []
    },
    {
      "cell_type": "code",
      "source": [
        "ROOT_DIR = pathlib.Path(\"..\")\n",
        "\n",
        "DATASETS_URL = \"https://github.com/KAUST-Academy/python-for-data-analysis/raw/november-2022/datasets.zip\"\n",
        "\n",
        "response = requests.get(DATASETS_URL)\n",
        "z = zipfile.ZipFile(io.BytesIO(response.content))\n",
        "z.extractall(ROOT_DIR)"
      ],
      "metadata": {
        "id": "aImWDHuHguH7"
      },
      "execution_count": null,
      "outputs": []
    },
    {
      "cell_type": "code",
      "source": [
        "DATASETS_DIR = ROOT_DIR / \"datasets\"\n",
        "DATASET_DIR = DATASETS_DIR / \"fec\""
      ],
      "metadata": {
        "id": "1n1wTD9-guRi"
      },
      "execution_count": null,
      "outputs": []
    },
    {
      "cell_type": "code",
      "source": [
        "fec = pd.read_csv(DATASET_DIR / \"P00000001-ALL.csv\", low_memory=False)\n",
        "fec.info()"
      ],
      "metadata": {
        "trusted": true,
        "id": "1P_qcuOcgqDp"
      },
      "execution_count": null,
      "outputs": []
    },
    {
      "cell_type": "code",
      "source": [
        "fec.iloc[123456]"
      ],
      "metadata": {
        "trusted": true,
        "id": "FQ_9st5FgqDq"
      },
      "execution_count": null,
      "outputs": []
    },
    {
      "cell_type": "code",
      "source": [
        "unique_cands = fec[\"cand_nm\"].unique()\n",
        "unique_cands\n",
        "unique_cands[2]"
      ],
      "metadata": {
        "trusted": true,
        "id": "9pGeUlTLgqDr"
      },
      "execution_count": null,
      "outputs": []
    },
    {
      "cell_type": "code",
      "source": [
        "parties = {\"Bachmann, Michelle\": \"Republican\",\n",
        "           \"Cain, Herman\": \"Republican\",\n",
        "           \"Gingrich, Newt\": \"Republican\",\n",
        "           \"Huntsman, Jon\": \"Republican\",\n",
        "           \"Johnson, Gary Earl\": \"Republican\",\n",
        "           \"McCotter, Thaddeus G\": \"Republican\",\n",
        "           \"Obama, Barack\": \"Democrat\",\n",
        "           \"Paul, Ron\": \"Republican\",\n",
        "           \"Pawlenty, Timothy\": \"Republican\",\n",
        "           \"Perry, Rick\": \"Republican\",\n",
        "           \"Roemer, Charles E. 'Buddy' III\": \"Republican\",\n",
        "           \"Romney, Mitt\": \"Republican\",\n",
        "           \"Santorum, Rick\": \"Republican\"}"
      ],
      "metadata": {
        "trusted": true,
        "id": "yJ0FH-2tgqDs"
      },
      "execution_count": null,
      "outputs": []
    },
    {
      "cell_type": "code",
      "source": [
        "fec[\"cand_nm\"][123456:123461]\n",
        "fec[\"cand_nm\"][123456:123461].map(parties)\n",
        "# Add it as a column\n",
        "fec[\"party\"] = fec[\"cand_nm\"].map(parties)\n",
        "fec[\"party\"].value_counts()"
      ],
      "metadata": {
        "trusted": true,
        "id": "JKMAAYvhgqDt"
      },
      "execution_count": null,
      "outputs": []
    },
    {
      "cell_type": "code",
      "source": [
        "(fec[\"contb_receipt_amt\"] > 0).value_counts()"
      ],
      "metadata": {
        "trusted": true,
        "id": "C0GDODMTgqDw"
      },
      "execution_count": null,
      "outputs": []
    },
    {
      "cell_type": "code",
      "source": [
        "fec = fec[fec[\"contb_receipt_amt\"] > 0]"
      ],
      "metadata": {
        "trusted": true,
        "id": "3fAFGRLhgqDy"
      },
      "execution_count": null,
      "outputs": []
    },
    {
      "cell_type": "code",
      "source": [
        "fec_mrbo = fec[fec[\"cand_nm\"].isin([\"Obama, Barack\", \"Romney, Mitt\"])]"
      ],
      "metadata": {
        "trusted": true,
        "id": "Kypfp3eSgqD2"
      },
      "execution_count": null,
      "outputs": []
    },
    {
      "cell_type": "code",
      "source": [
        "fec[\"contbr_occupation\"].value_counts()[:10]"
      ],
      "metadata": {
        "trusted": true,
        "id": "G5NTwDO-gqD4"
      },
      "execution_count": null,
      "outputs": []
    },
    {
      "cell_type": "code",
      "source": [
        "occ_mapping = {\n",
        "   \"INFORMATION REQUESTED PER BEST EFFORTS\" : \"NOT PROVIDED\",\n",
        "   \"INFORMATION REQUESTED\" : \"NOT PROVIDED\",\n",
        "   \"INFORMATION REQUESTED (BEST EFFORTS)\" : \"NOT PROVIDED\",\n",
        "   \"C.E.O.\": \"CEO\"\n",
        "}\n",
        "\n",
        "def get_occ(x):\n",
        "    # If no mapping provided, return x\n",
        "    return occ_mapping.get(x, x)\n",
        "\n",
        "fec[\"contbr_occupation\"] = fec[\"contbr_occupation\"].map(get_occ)"
      ],
      "metadata": {
        "trusted": true,
        "id": "JoTn9eeXgqD5"
      },
      "execution_count": null,
      "outputs": []
    },
    {
      "cell_type": "code",
      "source": [
        "emp_mapping = {\n",
        "   \"INFORMATION REQUESTED PER BEST EFFORTS\" : \"NOT PROVIDED\",\n",
        "   \"INFORMATION REQUESTED\" : \"NOT PROVIDED\",\n",
        "   \"SELF\" : \"SELF-EMPLOYED\",\n",
        "   \"SELF EMPLOYED\" : \"SELF-EMPLOYED\",\n",
        "}\n",
        "\n",
        "def get_emp(x):\n",
        "    # If no mapping provided, return x\n",
        "    return emp_mapping.get(x, x)\n",
        "\n",
        "fec[\"contbr_employer\"] = fec[\"contbr_employer\"].map(get_emp)"
      ],
      "metadata": {
        "trusted": true,
        "id": "7zrG4qStgqD5"
      },
      "execution_count": null,
      "outputs": []
    },
    {
      "cell_type": "code",
      "source": [
        "by_occupation = fec.pivot_table(\"contb_receipt_amt\",\n",
        "                                index=\"contbr_occupation\",\n",
        "                                columns=\"party\", aggfunc=\"sum\")\n",
        "over_2mm = by_occupation[by_occupation.sum(axis=\"columns\") > 2000000]\n",
        "over_2mm"
      ],
      "metadata": {
        "trusted": true,
        "id": "FUum5ncJgqD6"
      },
      "execution_count": null,
      "outputs": []
    },
    {
      "cell_type": "code",
      "source": [
        "plt.figure()"
      ],
      "metadata": {
        "trusted": true,
        "id": "OL27w3eNgqD6"
      },
      "execution_count": null,
      "outputs": []
    },
    {
      "cell_type": "code",
      "source": [
        "over_2mm.plot(kind=\"barh\")"
      ],
      "metadata": {
        "trusted": true,
        "id": "wuL3FQqegqD-"
      },
      "execution_count": null,
      "outputs": []
    },
    {
      "cell_type": "code",
      "source": [
        "def get_top_amounts(group, key, n=5):\n",
        "    totals = group.groupby(key)[\"contb_receipt_amt\"].sum()\n",
        "    return totals.nlargest(n)"
      ],
      "metadata": {
        "trusted": true,
        "id": "pwwy-VBTgqD_"
      },
      "execution_count": null,
      "outputs": []
    },
    {
      "cell_type": "code",
      "source": [
        "grouped = fec_mrbo.groupby(\"cand_nm\")\n",
        "grouped.apply(get_top_amounts, \"contbr_occupation\", n=7)\n",
        "grouped.apply(get_top_amounts, \"contbr_employer\", n=10)"
      ],
      "metadata": {
        "trusted": true,
        "id": "zcAlIPPPgqD_"
      },
      "execution_count": null,
      "outputs": []
    },
    {
      "cell_type": "code",
      "source": [
        "#! ipython id=9430750304c744018ebfe44fa7825f15\n",
        "bins = np.array([0, 1, 10, 100, 1000, 10000,\n",
        "                 100_000, 1_000_000, 10_000_000])\n",
        "labels = pd.cut(fec_mrbo[\"contb_receipt_amt\"], bins)\n",
        "labels"
      ],
      "metadata": {
        "trusted": true,
        "id": "sSZrg-Y_gqEA"
      },
      "execution_count": null,
      "outputs": []
    },
    {
      "cell_type": "code",
      "source": [
        "grouped = fec_mrbo.groupby([\"cand_nm\", labels])\n",
        "grouped.size().unstack(level=0)"
      ],
      "metadata": {
        "trusted": true,
        "id": "vgQom9wWgqEA"
      },
      "execution_count": null,
      "outputs": []
    },
    {
      "cell_type": "code",
      "source": [
        "plt.figure()"
      ],
      "metadata": {
        "trusted": true,
        "id": "3rSHNQ1ZgqEB"
      },
      "execution_count": null,
      "outputs": []
    },
    {
      "cell_type": "code",
      "source": [
        "bucket_sums = grouped[\"contb_receipt_amt\"].sum().unstack(level=0)\n",
        "normed_sums = bucket_sums.div(bucket_sums.sum(axis=\"columns\"),\n",
        "                              axis=\"index\")\n",
        "normed_sums\n",
        "normed_sums[:-2].plot(kind=\"barh\")"
      ],
      "metadata": {
        "trusted": true,
        "id": "na8eyJUCgqED"
      },
      "execution_count": null,
      "outputs": []
    },
    {
      "cell_type": "code",
      "source": [
        "grouped = fec_mrbo.groupby([\"cand_nm\", \"contbr_st\"])\n",
        "totals = grouped[\"contb_receipt_amt\"].sum().unstack(level=0).fillna(0)\n",
        "totals = totals[totals.sum(axis=\"columns\") > 100000]\n",
        "totals.head(10)"
      ],
      "metadata": {
        "trusted": true,
        "id": "GyQMp71hgqEE"
      },
      "execution_count": null,
      "outputs": []
    },
    {
      "cell_type": "code",
      "source": [
        "percent = totals.div(totals.sum(axis=\"columns\"), axis=\"index\")\n",
        "percent.head(10)"
      ],
      "metadata": {
        "trusted": true,
        "id": "BdTglqOOgqEG"
      },
      "execution_count": null,
      "outputs": []
    }
  ]
}
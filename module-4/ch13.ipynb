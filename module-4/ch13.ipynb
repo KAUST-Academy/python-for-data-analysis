{
  "metadata": {
    "kernelspec": {
      "name": "python3",
      "display_name": "Python 3 (ipykernel)",
      "language": "python"
    },
    "language_info": {
      "name": "python",
      "version": "3.7.12",
      "mimetype": "text/x-python",
      "codemirror_mode": {
        "name": "ipython",
        "version": 3
      },
      "pygments_lexer": "ipython3",
      "nbconvert_exporter": "python",
      "file_extension": ".py"
    },
    "colab": {
      "provenance": []
    }
  },
  "nbformat_minor": 0,
  "nbformat": 4,
  "cells": [
    {
      "cell_type": "code",
      "source": [
        "import collections\n",
        "import json\n",
        "import io\n",
        "import pathlib\n",
        "import requests\n",
        "import zipfile\n",
        "\n",
        "import matplotlib.pyplot as plt\n",
        "import numpy as np\n",
        "import pandas as pd\n",
        "import seaborn as sns"
      ],
      "metadata": {
        "id": "vFZUMlyXaqAk"
      },
      "execution_count": null,
      "outputs": []
    },
    {
      "cell_type": "code",
      "source": [
        "ROOT_DIR = pathlib.Path(\"..\")\n",
        "\n",
        "DATASETS_URL = \"https://github.com/KAUST-Academy/python-for-data-analysis/raw/november-2022/datasets.zip\"\n",
        "EXAMPLES_URL = \"https://github.com/KAUST-Academy/python-for-data-analysis/raw/november-2022/examples.zip\"\n",
        "\n",
        "response = requests.get(DATASETS_URL)\n",
        "z = zipfile.ZipFile(io.BytesIO(response.content))\n",
        "z.extractall(ROOT_DIR)\n",
        "\n",
        "\n",
        "response = requests.get(EXAMPLES_URL)\n",
        "z = zipfile.ZipFile(io.BytesIO(response.content))\n",
        "z.extractall(ROOT_DIR)"
      ],
      "metadata": {
        "id": "Fzebu5QKan_l"
      },
      "execution_count": null,
      "outputs": []
    },
    {
      "cell_type": "code",
      "source": [
        "DATASETS_DIR = ROOT_DIR / \"datasets\"\n",
        "EXAMPLES_DIR = ROOT_DIR / \"examples\""
      ],
      "metadata": {
        "id": "ZMGMOSxkbd-U"
      },
      "execution_count": null,
      "outputs": []
    },
    {
      "cell_type": "code",
      "source": [
        "DATASET_DIR = DATASETS_DIR / \"bitly_usagov\""
      ],
      "metadata": {
        "id": "jpXDhFO_b6lQ"
      },
      "execution_count": null,
      "outputs": []
    },
    {
      "cell_type": "code",
      "source": [
        "path = DATASET_DIR / \"example.txt\""
      ],
      "metadata": {
        "trusted": true,
        "id": "ABdEqiBqajyk"
      },
      "execution_count": null,
      "outputs": []
    },
    {
      "cell_type": "code",
      "source": [
        "with open(path) as f:\n",
        "    records = [json.loads(line) for line in f]"
      ],
      "metadata": {
        "trusted": true,
        "id": "Sb_t8rj-ajzJ"
      },
      "execution_count": null,
      "outputs": []
    },
    {
      "cell_type": "code",
      "source": [
        "time_zones = [rec[\"tz\"] for rec in records]"
      ],
      "metadata": {
        "trusted": true,
        "id": "KkxwcLhCajzK"
      },
      "execution_count": null,
      "outputs": []
    },
    {
      "cell_type": "code",
      "source": [
        "time_zones = [rec[\"tz\"] for rec in records if \"tz\" in rec]\n",
        "time_zones[:10]"
      ],
      "metadata": {
        "trusted": true,
        "id": "PzcwIO8hajzL"
      },
      "execution_count": null,
      "outputs": []
    },
    {
      "cell_type": "code",
      "source": [
        "def get_counts(sequence):\n",
        "    counts = {}\n",
        "    for x in sequence:\n",
        "        if x in counts:\n",
        "            counts[x] += 1\n",
        "        else:\n",
        "            counts[x] = 1\n",
        "    return counts"
      ],
      "metadata": {
        "trusted": true,
        "id": "adUEZgHUajzM"
      },
      "execution_count": null,
      "outputs": []
    },
    {
      "cell_type": "code",
      "source": [
        "from collections import defaultdict\n",
        "\n",
        "def get_counts2(sequence):\n",
        "    counts = defaultdict(int) # values will initialize to 0\n",
        "    for x in sequence:\n",
        "        counts[x] += 1\n",
        "    return counts"
      ],
      "metadata": {
        "trusted": true,
        "id": "_hry7uXqajzO"
      },
      "execution_count": null,
      "outputs": []
    },
    {
      "cell_type": "code",
      "source": [
        "counts = get_counts(time_zones)\n",
        "counts[\"America/New_York\"]\n",
        "len(time_zones)"
      ],
      "metadata": {
        "trusted": true,
        "id": "_YpU91UhajzP"
      },
      "execution_count": null,
      "outputs": []
    },
    {
      "cell_type": "code",
      "source": [
        "def top_counts(count_dict, n=10):\n",
        "    value_key_pairs = [(count, tz) for tz, count in count_dict.items()]\n",
        "    value_key_pairs.sort()\n",
        "    return value_key_pairs[-n:]"
      ],
      "metadata": {
        "trusted": true,
        "id": "7kBAC6y_ajzW"
      },
      "execution_count": null,
      "outputs": []
    },
    {
      "cell_type": "code",
      "source": [
        "top_counts(counts)"
      ],
      "metadata": {
        "trusted": true,
        "id": "cCVHmJrDajzX"
      },
      "execution_count": null,
      "outputs": []
    },
    {
      "cell_type": "code",
      "source": [
        "counts = collections.Counter(time_zones)\n",
        "counts.most_common(10)"
      ],
      "metadata": {
        "trusted": true,
        "id": "deSEQm0wajzY"
      },
      "execution_count": null,
      "outputs": []
    },
    {
      "cell_type": "code",
      "source": [
        "frame = pd.DataFrame(records)"
      ],
      "metadata": {
        "trusted": true,
        "id": "OyPk0LkxajzZ"
      },
      "execution_count": null,
      "outputs": []
    },
    {
      "cell_type": "code",
      "source": [
        "frame.info()\n",
        "frame[\"tz\"].head()"
      ],
      "metadata": {
        "trusted": true,
        "id": "cmjOky_2ajzZ"
      },
      "execution_count": null,
      "outputs": []
    },
    {
      "cell_type": "code",
      "source": [
        "tz_counts = frame[\"tz\"].value_counts()\n",
        "tz_counts.head()"
      ],
      "metadata": {
        "trusted": true,
        "id": "_ALQXJhjajza"
      },
      "execution_count": null,
      "outputs": []
    },
    {
      "cell_type": "code",
      "source": [
        "clean_tz = frame[\"tz\"].fillna(\"Missing\")\n",
        "clean_tz[clean_tz == \"\"] = \"Unknown\"\n",
        "tz_counts = clean_tz.value_counts()\n",
        "tz_counts.head()"
      ],
      "metadata": {
        "trusted": true,
        "id": "wtbFmSdSajza"
      },
      "execution_count": null,
      "outputs": []
    },
    {
      "cell_type": "code",
      "source": [
        "plt.figure(figsize=(10, 4))"
      ],
      "metadata": {
        "trusted": true,
        "id": "2Nr0OsrMajzd"
      },
      "execution_count": null,
      "outputs": []
    },
    {
      "cell_type": "code",
      "source": [
        "subset = tz_counts.head()\n",
        "#! figure,id=usa_gov_counts,title=\"Top time zones in the 1.usa.gov sample data\"\n",
        "sns.barplot(y=subset.index, x=subset.to_numpy())"
      ],
      "metadata": {
        "trusted": true,
        "id": "Hyo6NLuIajzd"
      },
      "execution_count": null,
      "outputs": []
    },
    {
      "cell_type": "code",
      "source": [
        "frame[\"a\"][1]\n",
        "frame[\"a\"][50]\n",
        "frame[\"a\"][51][:50]  # long line"
      ],
      "metadata": {
        "trusted": true,
        "id": "JYQIu2I1ajzd"
      },
      "execution_count": null,
      "outputs": []
    },
    {
      "cell_type": "code",
      "source": [
        "results = pd.Series([x.split()[0] for x in frame[\"a\"].dropna()])\n",
        "results.head(5)\n",
        "results.value_counts().head(8)"
      ],
      "metadata": {
        "trusted": true,
        "id": "bwzXhnyvajze"
      },
      "execution_count": null,
      "outputs": []
    },
    {
      "cell_type": "code",
      "source": [
        "cframe = frame[frame[\"a\"].notna()].copy()"
      ],
      "metadata": {
        "trusted": true,
        "id": "DakrrpOHajzf"
      },
      "execution_count": null,
      "outputs": []
    },
    {
      "cell_type": "code",
      "source": [
        "cframe[\"os\"] = np.where(cframe[\"a\"].str.contains(\"Windows\"),\n",
        "                        \"Windows\", \"Not Windows\")\n",
        "cframe[\"os\"].head(5)"
      ],
      "metadata": {
        "trusted": true,
        "id": "_BR8KQZjajzf"
      },
      "execution_count": null,
      "outputs": []
    },
    {
      "cell_type": "code",
      "source": [
        "by_tz_os = cframe.groupby([\"tz\", \"os\"])"
      ],
      "metadata": {
        "trusted": true,
        "id": "7A13hRodajzf"
      },
      "execution_count": null,
      "outputs": []
    },
    {
      "cell_type": "code",
      "source": [
        "agg_counts = by_tz_os.size().unstack().fillna(0)\n",
        "agg_counts.head()"
      ],
      "metadata": {
        "trusted": true,
        "id": "ivA_RKfYajzg"
      },
      "execution_count": null,
      "outputs": []
    },
    {
      "cell_type": "code",
      "source": [
        "indexer = agg_counts.sum(\"columns\").argsort()\n",
        "indexer.values[:10]"
      ],
      "metadata": {
        "trusted": true,
        "id": "gz4Dq-tcajzg"
      },
      "execution_count": null,
      "outputs": []
    },
    {
      "cell_type": "code",
      "source": [
        "count_subset = agg_counts.take(indexer[-10:])\n",
        "count_subset"
      ],
      "metadata": {
        "trusted": true,
        "id": "LmFfiSPpajzi"
      },
      "execution_count": null,
      "outputs": []
    },
    {
      "cell_type": "code",
      "source": [
        "agg_counts.sum(axis=\"columns\").nlargest(10)"
      ],
      "metadata": {
        "trusted": true,
        "id": "3ASk_IiIajzj"
      },
      "execution_count": null,
      "outputs": []
    },
    {
      "cell_type": "code",
      "source": [
        "plt.figure()"
      ],
      "metadata": {
        "trusted": true,
        "id": "6W_Kc6cdajzj"
      },
      "execution_count": null,
      "outputs": []
    },
    {
      "cell_type": "code",
      "source": [
        "count_subset = count_subset.stack()\n",
        "count_subset.name = \"total\"\n",
        "count_subset = count_subset.reset_index()\n",
        "count_subset.head(10)\n",
        "sns.barplot(x=\"total\", y=\"tz\", hue=\"os\",  data=count_subset)"
      ],
      "metadata": {
        "trusted": true,
        "id": "Ob1O_NwNajzj"
      },
      "execution_count": null,
      "outputs": []
    },
    {
      "cell_type": "code",
      "source": [
        "def norm_total(group):\n",
        "    group[\"normed_total\"] = group[\"total\"] / group[\"total\"].sum()\n",
        "    return group\n",
        "\n",
        "results = count_subset.groupby(\"tz\").apply(norm_total)"
      ],
      "metadata": {
        "trusted": true,
        "id": "PtLruFzTajzk"
      },
      "execution_count": null,
      "outputs": []
    },
    {
      "cell_type": "code",
      "source": [
        "plt.figure()"
      ],
      "metadata": {
        "trusted": true,
        "id": "JYYlO9_Vajzk"
      },
      "execution_count": null,
      "outputs": []
    },
    {
      "cell_type": "code",
      "source": [
        "sns.barplot(x=\"normed_total\", y=\"tz\", hue=\"os\",  data=results)"
      ],
      "metadata": {
        "trusted": true,
        "id": "CIn8SsS4ajzk"
      },
      "execution_count": null,
      "outputs": []
    },
    {
      "cell_type": "code",
      "source": [
        "g = count_subset.groupby(\"tz\")\n",
        "results2 = count_subset[\"total\"] / g[\"total\"].transform(\"sum\")"
      ],
      "metadata": {
        "trusted": true,
        "id": "3LuaJ8EVajzl"
      },
      "execution_count": null,
      "outputs": []
    }
  ]
}
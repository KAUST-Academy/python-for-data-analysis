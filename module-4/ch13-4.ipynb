{
  "metadata": {
    "kernelspec": {
      "name": "python3",
      "display_name": "Python 3 (ipykernel)",
      "language": "python"
    },
    "language_info": {
      "name": "python",
      "version": "3.7.12",
      "mimetype": "text/x-python",
      "codemirror_mode": {
        "name": "ipython",
        "version": 3
      },
      "pygments_lexer": "ipython3",
      "nbconvert_exporter": "python",
      "file_extension": ".py"
    },
    "colab": {
      "provenance": []
    }
  },
  "nbformat_minor": 0,
  "nbformat": 4,
  "cells": [
    {
      "cell_type": "code",
      "source": [
        "import io\n",
        "import json\n",
        "import os\n",
        "import pathlib\n",
        "import requests\n",
        "import zipfile\n",
        "\n",
        "import numpy as np\n",
        "np.random.seed(123)\n",
        "import matplotlib.pyplot as plt\n",
        "import pandas as pd\n",
        "plt.rc(\"figure\", figsize=(10, 6))\n",
        "np.set_printoptions(precision=4)\n",
        "pd.options.display.max_columns = 20\n",
        "pd.options.display.max_rows = 20\n",
        "pd.options.display.max_colwidth = 80"
      ],
      "metadata": {
        "trusted": true,
        "id": "tMhGIzkIef-_"
      },
      "execution_count": null,
      "outputs": []
    },
    {
      "cell_type": "code",
      "source": [
        "ROOT_DIR = pathlib.Path(\"..\")\n",
        "\n",
        "DATASETS_URL = \"https://github.com/KAUST-Academy/python-for-data-analysis/raw/november-2022/datasets.zip\"\n",
        "\n",
        "response = requests.get(DATASETS_URL)\n",
        "z = zipfile.ZipFile(io.BytesIO(response.content))\n",
        "z.extractall(ROOT_DIR)"
      ],
      "metadata": {
        "id": "sRQKjdCXgEZ7"
      },
      "execution_count": null,
      "outputs": []
    },
    {
      "cell_type": "code",
      "source": [
        "DATASETS_DIR = ROOT_DIR / \"datasets\"\n",
        "DATASET_DIR = DATASETS_DIR / \"usda_food\""
      ],
      "metadata": {
        "id": "PjpqVzS_gEmH"
      },
      "execution_count": null,
      "outputs": []
    },
    {
      "cell_type": "code",
      "source": [
        "db = json.load(open(DATASET_DIR / \"database.json\"))\n",
        "len(db)"
      ],
      "metadata": {
        "trusted": true,
        "id": "fuieHR53ef_F"
      },
      "execution_count": null,
      "outputs": []
    },
    {
      "cell_type": "code",
      "source": [
        "db[0].keys()\n",
        "db[0][\"nutrients\"][0]\n",
        "nutrients = pd.DataFrame(db[0][\"nutrients\"])\n",
        "nutrients.head(7)"
      ],
      "metadata": {
        "trusted": true,
        "id": "ba3GR3XZef_G"
      },
      "execution_count": null,
      "outputs": []
    },
    {
      "cell_type": "code",
      "source": [
        "info_keys = [\"description\", \"group\", \"id\", \"manufacturer\"]\n",
        "info = pd.DataFrame(db, columns=info_keys)\n",
        "info.head()\n",
        "info.info()"
      ],
      "metadata": {
        "trusted": true,
        "id": "Z12ou8VWef_H"
      },
      "execution_count": null,
      "outputs": []
    },
    {
      "cell_type": "code",
      "source": [
        "pd.value_counts(info[\"group\"])[:10]"
      ],
      "metadata": {
        "trusted": true,
        "id": "p66Sm69sef_H"
      },
      "execution_count": null,
      "outputs": []
    },
    {
      "cell_type": "code",
      "source": [
        "nutrients = []\n",
        "\n",
        "for rec in db:\n",
        "    fnuts = pd.DataFrame(rec[\"nutrients\"])\n",
        "    fnuts[\"id\"] = rec[\"id\"]\n",
        "    nutrients.append(fnuts)\n",
        "\n",
        "nutrients = pd.concat(nutrients, ignore_index=True)"
      ],
      "metadata": {
        "trusted": true,
        "id": "ZcZFScuVef_I"
      },
      "execution_count": null,
      "outputs": []
    },
    {
      "cell_type": "code",
      "source": [
        "nutrients"
      ],
      "metadata": {
        "trusted": true,
        "id": "9huF32n2ef_J"
      },
      "execution_count": null,
      "outputs": []
    },
    {
      "cell_type": "code",
      "source": [
        "nutrients.duplicated().sum()  # number of duplicates\n",
        "nutrients = nutrients.drop_duplicates()"
      ],
      "metadata": {
        "trusted": true,
        "id": "OK9EOCzwef_K"
      },
      "execution_count": null,
      "outputs": []
    },
    {
      "cell_type": "code",
      "source": [
        "col_mapping = {\"description\" : \"food\",\n",
        "               \"group\"       : \"fgroup\"}\n",
        "info = info.rename(columns=col_mapping, copy=False)\n",
        "info.info()\n",
        "col_mapping = {\"description\" : \"nutrient\",\n",
        "               \"group\" : \"nutgroup\"}\n",
        "nutrients = nutrients.rename(columns=col_mapping, copy=False)\n",
        "nutrients"
      ],
      "metadata": {
        "trusted": true,
        "id": "tXAkQ8a6ef_L"
      },
      "execution_count": null,
      "outputs": []
    },
    {
      "cell_type": "code",
      "source": [
        "ndata = pd.merge(nutrients, info, on=\"id\")\n",
        "ndata.info()\n",
        "ndata.iloc[30000]"
      ],
      "metadata": {
        "trusted": true,
        "id": "DHL7ik_wef_M"
      },
      "execution_count": null,
      "outputs": []
    },
    {
      "cell_type": "code",
      "source": [
        "fig = plt.figure()"
      ],
      "metadata": {
        "trusted": true,
        "id": "omw5cx8Def_N"
      },
      "execution_count": null,
      "outputs": []
    },
    {
      "cell_type": "code",
      "source": [
        "result = ndata.groupby([\"nutrient\", \"fgroup\"])[\"value\"].quantile(0.5)\n",
        "result[\"Zinc, Zn\"].sort_values().plot(kind=\"barh\")"
      ],
      "metadata": {
        "trusted": true,
        "id": "FUR7fA_Qef_N"
      },
      "execution_count": null,
      "outputs": []
    },
    {
      "cell_type": "code",
      "source": [
        "by_nutrient = ndata.groupby([\"nutgroup\", \"nutrient\"])\n",
        "\n",
        "def get_maximum(x):\n",
        "    return x.loc[x.value.idxmax()]\n",
        "\n",
        "max_foods = by_nutrient.apply(get_maximum)[[\"value\", \"food\"]]\n",
        "\n",
        "# make the food a little smaller\n",
        "max_foods[\"food\"] = max_foods[\"food\"].str[:50]"
      ],
      "metadata": {
        "trusted": true,
        "id": "1Xfscd-Eef_O"
      },
      "execution_count": null,
      "outputs": []
    },
    {
      "cell_type": "code",
      "source": [
        "max_foods.loc[\"Amino Acids\"][\"food\"]"
      ],
      "metadata": {
        "trusted": true,
        "id": "0yOmKaz8ef_P"
      },
      "execution_count": null,
      "outputs": []
    }
  ]
}
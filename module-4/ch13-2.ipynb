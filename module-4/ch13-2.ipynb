{
  "metadata": {
    "kernelspec": {
      "name": "python3",
      "display_name": "Python 3 (ipykernel)",
      "language": "python"
    },
    "language_info": {
      "name": "python",
      "version": "3.7.12",
      "mimetype": "text/x-python",
      "codemirror_mode": {
        "name": "ipython",
        "version": 3
      },
      "pygments_lexer": "ipython3",
      "nbconvert_exporter": "python",
      "file_extension": ".py"
    },
    "colab": {
      "provenance": []
    }
  },
  "nbformat_minor": 0,
  "nbformat": 4,
  "cells": [
    {
      "cell_type": "code",
      "source": [
        "import io\n",
        "import os\n",
        "import pathlib\n",
        "import requests\n",
        "import zipfile\n",
        "\n",
        "import matplotlib.pyplot as plt\n",
        "import numpy as np\n",
        "import pandas as pd"
      ],
      "metadata": {
        "trusted": true,
        "id": "wMxgBE6Ncjnj"
      },
      "execution_count": null,
      "outputs": []
    },
    {
      "cell_type": "markdown",
      "source": [
        "## Downloading the data"
      ],
      "metadata": {
        "id": "ciz9769YoWD3"
      }
    },
    {
      "cell_type": "code",
      "source": [
        "ROOT_DIR = pathlib.Path(\"..\")\n",
        "\n",
        "DATASETS_URL = \"https://github.com/KAUST-Academy/python-for-data-analysis/raw/november-2022/datasets.zip\"\n",
        "\n",
        "response = requests.get(DATASETS_URL)\n",
        "z = zipfile.ZipFile(io.BytesIO(response.content))\n",
        "z.extractall(ROOT_DIR)\n"
      ],
      "metadata": {
        "id": "SZ3KboMKcqBC"
      },
      "execution_count": null,
      "outputs": []
    },
    {
      "cell_type": "code",
      "source": [
        "DATASETS_DIR = ROOT_DIR / \"datasets\"\n",
        "DATASET_DIR = DATASETS_DIR / \"movielens\""
      ],
      "metadata": {
        "id": "d7Hy8Bpnc9XZ"
      },
      "execution_count": null,
      "outputs": []
    },
    {
      "cell_type": "markdown",
      "source": [
        "## Loading the data"
      ],
      "metadata": {
        "id": "X3QdSAsKmfYU"
      }
    },
    {
      "cell_type": "code",
      "source": [
        "!cat $DATASET_DIR/users.dat | head"
      ],
      "metadata": {
        "id": "YtMq9AU-l-0q"
      },
      "execution_count": null,
      "outputs": []
    },
    {
      "cell_type": "code",
      "source": [
        "pd.read_table?"
      ],
      "metadata": {
        "id": "Gz78ea31mXqd"
      },
      "execution_count": null,
      "outputs": []
    },
    {
      "cell_type": "code",
      "source": [
        "unames = [\"user_id\", \"gender\", \"age\", \"occupation\", \"zip\"]\n",
        "users = pd.read_table(DATASET_DIR / \"users.dat\", sep=\"::\",\n",
        "                      header=None, names=unames, engine=\"python\")\n",
        "\n",
        "rnames = [\"user_id\", \"movie_id\", \"rating\", \"timestamp\"]\n",
        "ratings = pd.read_table(DATASET_DIR / \"ratings.dat\", sep=\"::\",\n",
        "                        header=None, names=rnames, engine=\"python\")\n",
        "\n",
        "mnames = [\"movie_id\", \"title\", \"genres\"]\n",
        "movies = pd.read_table(DATASET_DIR / \"movies.dat\", sep=\"::\",\n",
        "                       header=None, names=mnames, engine=\"python\")"
      ],
      "metadata": {
        "trusted": true,
        "id": "hCli_7fVcjns"
      },
      "execution_count": null,
      "outputs": []
    },
    {
      "cell_type": "code",
      "source": [
        "users.info()"
      ],
      "metadata": {
        "id": "U3b7p9X9mxl1"
      },
      "execution_count": null,
      "outputs": []
    },
    {
      "cell_type": "code",
      "source": [
        "users.head(5)"
      ],
      "metadata": {
        "trusted": true,
        "id": "FZkcOMS_cjnv"
      },
      "execution_count": null,
      "outputs": []
    },
    {
      "cell_type": "code",
      "source": [
        "ratings.info()"
      ],
      "metadata": {
        "id": "PLj1LaG6mzJn"
      },
      "execution_count": null,
      "outputs": []
    },
    {
      "cell_type": "code",
      "source": [
        "ratings.head(5)"
      ],
      "metadata": {
        "id": "Cx64pfaBhqoU"
      },
      "execution_count": null,
      "outputs": []
    },
    {
      "cell_type": "code",
      "source": [
        "movies.info()"
      ],
      "metadata": {
        "id": "AETcci22m1BY"
      },
      "execution_count": null,
      "outputs": []
    },
    {
      "cell_type": "code",
      "source": [
        "movies.head(5)\n"
      ],
      "metadata": {
        "id": "GPercQnNhqwA"
      },
      "execution_count": null,
      "outputs": []
    },
    {
      "cell_type": "markdown",
      "source": [
        "## Combining the data"
      ],
      "metadata": {
        "id": "vK1tTuhmmmTd"
      }
    },
    {
      "cell_type": "code",
      "source": [
        "pd.merge?"
      ],
      "metadata": {
        "id": "_heVLkEwmsUe"
      },
      "execution_count": null,
      "outputs": []
    },
    {
      "cell_type": "code",
      "source": [
        "data = pd.merge(pd.merge(ratings, users), movies)"
      ],
      "metadata": {
        "trusted": true,
        "id": "0x05zge_cjnw"
      },
      "execution_count": null,
      "outputs": []
    },
    {
      "cell_type": "code",
      "source": [
        "data.info()"
      ],
      "metadata": {
        "id": "GSwfbjxehz0t"
      },
      "execution_count": null,
      "outputs": []
    },
    {
      "cell_type": "code",
      "source": [
        "data.head()"
      ],
      "metadata": {
        "id": "9-89mFLrh8Zx"
      },
      "execution_count": null,
      "outputs": []
    },
    {
      "cell_type": "markdown",
      "source": [
        "## Exploring the data\n",
        "\n",
        "### Average ratings by gender"
      ],
      "metadata": {
        "id": "zpyh8_him5MF"
      }
    },
    {
      "cell_type": "code",
      "source": [
        "mean_ratings = data.pivot_table(\n",
        "    \"rating\",\n",
        "    index=\"title\",\n",
        "    columns=\"gender\",\n",
        "    aggfunc=\"mean\"\n",
        ")"
      ],
      "metadata": {
        "trusted": true,
        "id": "OiszHTzJcjnx"
      },
      "execution_count": null,
      "outputs": []
    },
    {
      "cell_type": "code",
      "source": [
        "mean_ratings.head(5)"
      ],
      "metadata": {
        "id": "OAIHZeariDFU"
      },
      "execution_count": null,
      "outputs": []
    },
    {
      "cell_type": "markdown",
      "source": [
        "### Considering only movies with sufficient ratings"
      ],
      "metadata": {
        "id": "MKVoe8MInRfF"
      }
    },
    {
      "cell_type": "code",
      "source": [
        "ratings_by_title = data.groupby(\"title\").size()"
      ],
      "metadata": {
        "trusted": true,
        "id": "UpLEqRCvcjny"
      },
      "execution_count": null,
      "outputs": []
    },
    {
      "cell_type": "code",
      "source": [
        "ratings_by_title.head()"
      ],
      "metadata": {
        "id": "tiaGMpwLiSkD"
      },
      "execution_count": null,
      "outputs": []
    },
    {
      "cell_type": "code",
      "source": [
        "active_titles = ratings_by_title.index[ratings_by_title >= 250]"
      ],
      "metadata": {
        "id": "4tpBSjlAiStE"
      },
      "execution_count": null,
      "outputs": []
    },
    {
      "cell_type": "code",
      "source": [
        "mean_ratings = mean_ratings.loc[active_titles]"
      ],
      "metadata": {
        "trusted": true,
        "id": "gKpZJdNkcjnz"
      },
      "execution_count": null,
      "outputs": []
    },
    {
      "cell_type": "code",
      "source": [
        "mean_ratings.head()"
      ],
      "metadata": {
        "id": "lK8KFbiCih7d"
      },
      "execution_count": null,
      "outputs": []
    },
    {
      "cell_type": "markdown",
      "source": [
        "### Top rated movies by gender"
      ],
      "metadata": {
        "id": "Pvi42169naDy"
      }
    },
    {
      "cell_type": "code",
      "source": [
        "top_female_ratings = mean_ratings.sort_values(\"F\", ascending=False)"
      ],
      "metadata": {
        "trusted": true,
        "id": "jBfU2NGAcjn1"
      },
      "execution_count": null,
      "outputs": []
    },
    {
      "cell_type": "code",
      "source": [
        "top_female_ratings.head()"
      ],
      "metadata": {
        "id": "AwebXwW-i3-z"
      },
      "execution_count": null,
      "outputs": []
    },
    {
      "cell_type": "code",
      "source": [
        "top_male_ratings = mean_ratings.sort_values(\"M\", ascending=False)"
      ],
      "metadata": {
        "id": "C_3MM8Yoi-PH"
      },
      "execution_count": null,
      "outputs": []
    },
    {
      "cell_type": "code",
      "source": [
        "top_male_ratings.head()"
      ],
      "metadata": {
        "id": "Zlgp1KcejDKk"
      },
      "execution_count": null,
      "outputs": []
    },
    {
      "cell_type": "markdown",
      "source": [
        "### Movies with largest gender diff"
      ],
      "metadata": {
        "id": "ojnncfgkngMC"
      }
    },
    {
      "cell_type": "code",
      "source": [
        "mean_ratings[\"diff\"] = mean_ratings[\"M\"] - mean_ratings[\"F\"]"
      ],
      "metadata": {
        "trusted": true,
        "id": "-c1Q01pkcjn2"
      },
      "execution_count": null,
      "outputs": []
    },
    {
      "cell_type": "code",
      "source": [
        "sorted_by_diff = mean_ratings.sort_values(\"diff\")\n",
        "sorted_by_diff.head()"
      ],
      "metadata": {
        "trusted": true,
        "id": "BFi3sIs6cjn3"
      },
      "execution_count": null,
      "outputs": []
    },
    {
      "cell_type": "code",
      "source": [
        "sorted_by_diff.tail()"
      ],
      "metadata": {
        "id": "7y1S4OszjdZt"
      },
      "execution_count": null,
      "outputs": []
    },
    {
      "cell_type": "markdown",
      "source": [
        "### Most divisive movies"
      ],
      "metadata": {
        "id": "kuLhgEJWnrKO"
      }
    },
    {
      "cell_type": "code",
      "source": [
        "rating_std_by_title = data.groupby(\"title\")[\"rating\"].std()\n",
        "rating_std_by_title = rating_std_by_title.loc[active_titles]"
      ],
      "metadata": {
        "trusted": true,
        "id": "THKPYzt7cjn7"
      },
      "execution_count": null,
      "outputs": []
    },
    {
      "cell_type": "code",
      "source": [
        "rating_std_by_title.head()"
      ],
      "metadata": {
        "id": "dwdqXwcojsYn"
      },
      "execution_count": null,
      "outputs": []
    },
    {
      "cell_type": "code",
      "source": [
        "(rating_std_by_title.sort_values(ascending=False)\n",
        "                    .head(n=10))"
      ],
      "metadata": {
        "trusted": true,
        "id": "4eYX4cAFcjn8"
      },
      "execution_count": null,
      "outputs": []
    },
    {
      "cell_type": "markdown",
      "source": [
        "### Movie ratings by Genre"
      ],
      "metadata": {
        "id": "uXDbbfAXn6T5"
      }
    },
    {
      "cell_type": "code",
      "source": [
        "movies[\"genres\"].head()"
      ],
      "metadata": {
        "trusted": true,
        "id": "grY66x5Tcjn9"
      },
      "execution_count": null,
      "outputs": []
    },
    {
      "cell_type": "code",
      "source": [
        "movies[\"genres\"].head().str.split(\"|\")"
      ],
      "metadata": {
        "id": "YOuYaPIej2N3"
      },
      "execution_count": null,
      "outputs": []
    },
    {
      "cell_type": "code",
      "source": [
        "movies[\"genre\"] = movies.pop(\"genres\").str.split(\"|\")"
      ],
      "metadata": {
        "id": "A04DCA62j2Qh"
      },
      "execution_count": null,
      "outputs": []
    },
    {
      "cell_type": "code",
      "source": [
        "movies.head()"
      ],
      "metadata": {
        "id": "PkvpRYZTj2T2"
      },
      "execution_count": null,
      "outputs": []
    },
    {
      "cell_type": "code",
      "source": [
        "movies_exploded = movies.explode(\"genre\")"
      ],
      "metadata": {
        "trusted": true,
        "id": "BfXKpdhpcjn9"
      },
      "execution_count": null,
      "outputs": []
    },
    {
      "cell_type": "code",
      "source": [
        "movies_exploded.head(n=10)"
      ],
      "metadata": {
        "id": "zY4DyRw5kBlB"
      },
      "execution_count": null,
      "outputs": []
    },
    {
      "cell_type": "code",
      "source": [
        "ratings_with_genre = pd.merge(pd.merge(movies_exploded, ratings), users)"
      ],
      "metadata": {
        "trusted": true,
        "id": "0QIm-3oNcjn9"
      },
      "execution_count": null,
      "outputs": []
    },
    {
      "cell_type": "code",
      "source": [
        "ratings_with_genre.iloc[0]"
      ],
      "metadata": {
        "id": "nXsrThKGkIb1"
      },
      "execution_count": null,
      "outputs": []
    },
    {
      "cell_type": "code",
      "source": [
        "genre_ratings = (ratings_with_genre.loc[:, [\"genre\", \"age\", \"rating\"]]\n",
        "                                   .groupby([\"genre\", \"age\"])\n",
        "                                   .mean()\n",
        "                                   .unstack(\"age\"))"
      ],
      "metadata": {
        "id": "Oatn0OHWkLJ-"
      },
      "execution_count": null,
      "outputs": []
    },
    {
      "cell_type": "code",
      "source": [
        "genre_ratings.head(n=10)"
      ],
      "metadata": {
        "id": "DWs-G_7zkVF6"
      },
      "execution_count": null,
      "outputs": []
    },
    {
      "cell_type": "code",
      "source": [],
      "metadata": {
        "id": "vB1yofEFkXdC"
      },
      "execution_count": null,
      "outputs": []
    }
  ]
}
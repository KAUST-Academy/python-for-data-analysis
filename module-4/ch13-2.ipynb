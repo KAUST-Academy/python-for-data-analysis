{
  "metadata": {
    "kernelspec": {
      "name": "python3",
      "display_name": "Python 3 (ipykernel)",
      "language": "python"
    },
    "language_info": {
      "name": "python",
      "version": "3.7.12",
      "mimetype": "text/x-python",
      "codemirror_mode": {
        "name": "ipython",
        "version": 3
      },
      "pygments_lexer": "ipython3",
      "nbconvert_exporter": "python",
      "file_extension": ".py"
    },
    "colab": {
      "provenance": []
    }
  },
  "nbformat_minor": 0,
  "nbformat": 4,
  "cells": [
    {
      "cell_type": "code",
      "source": [
        "import io\n",
        "import os\n",
        "import pathlib\n",
        "import requests\n",
        "import zipfile\n",
        "\n",
        "import matplotlib.pyplot as plt\n",
        "import numpy as np\n",
        "np.random.seed(123)\n",
        "import pandas as pd\n",
        "plt.rc(\"figure\", figsize=(10, 6))\n",
        "np.set_printoptions(precision=4)\n",
        "pd.options.display.max_columns = 20\n",
        "pd.options.display.max_rows = 20\n",
        "pd.options.display.max_colwidth = 80"
      ],
      "metadata": {
        "trusted": true,
        "id": "wMxgBE6Ncjnj"
      },
      "execution_count": null,
      "outputs": []
    },
    {
      "cell_type": "code",
      "source": [
        "ROOT_DIR = pathlib.Path(\"..\")\n",
        "\n",
        "DATASETS_URL = \"https://github.com/KAUST-Academy/python-for-data-analysis/raw/november-2022/datasets.zip\"\n",
        "\n",
        "response = requests.get(DATASETS_URL)\n",
        "z = zipfile.ZipFile(io.BytesIO(response.content))\n",
        "z.extractall(ROOT_DIR)\n"
      ],
      "metadata": {
        "id": "SZ3KboMKcqBC"
      },
      "execution_count": null,
      "outputs": []
    },
    {
      "cell_type": "code",
      "source": [
        "DATASETS_DIR = ROOT_DIR / \"datasets\"\n",
        "DATASET_DIR = DATASETS_DIR / \"movielens\""
      ],
      "metadata": {
        "id": "d7Hy8Bpnc9XZ"
      },
      "execution_count": null,
      "outputs": []
    },
    {
      "cell_type": "code",
      "source": [
        "unames = [\"user_id\", \"gender\", \"age\", \"occupation\", \"zip\"]\n",
        "users = pd.read_table(DATASET_DIR / \"users.dat\", sep=\"::\",\n",
        "                      header=None, names=unames, engine=\"python\")\n",
        "\n",
        "rnames = [\"user_id\", \"movie_id\", \"rating\", \"timestamp\"]\n",
        "ratings = pd.read_table(DATASET_DIR / \"ratings.dat\", sep=\"::\",\n",
        "                        header=None, names=rnames, engine=\"python\")\n",
        "\n",
        "mnames = [\"movie_id\", \"title\", \"genres\"]\n",
        "movies = pd.read_table(DATASET_DIR / \"movies.dat\", sep=\"::\",\n",
        "                       header=None, names=mnames, engine=\"python\")"
      ],
      "metadata": {
        "trusted": true,
        "id": "hCli_7fVcjns"
      },
      "execution_count": null,
      "outputs": []
    },
    {
      "cell_type": "code",
      "source": [
        "users.head(5)\n",
        "ratings.head(5)\n",
        "movies.head(5)\n",
        "ratings"
      ],
      "metadata": {
        "trusted": true,
        "id": "FZkcOMS_cjnv"
      },
      "execution_count": null,
      "outputs": []
    },
    {
      "cell_type": "code",
      "source": [
        "data = pd.merge(pd.merge(ratings, users), movies)\n",
        "data\n",
        "data.iloc[0]"
      ],
      "metadata": {
        "trusted": true,
        "id": "0x05zge_cjnw"
      },
      "execution_count": null,
      "outputs": []
    },
    {
      "cell_type": "code",
      "source": [
        "mean_ratings = data.pivot_table(\"rating\", index=\"title\",\n",
        "                                columns=\"gender\", aggfunc=\"mean\")\n",
        "mean_ratings.head(5)"
      ],
      "metadata": {
        "trusted": true,
        "id": "OiszHTzJcjnx"
      },
      "execution_count": null,
      "outputs": []
    },
    {
      "cell_type": "code",
      "source": [
        "ratings_by_title = data.groupby(\"title\").size()\n",
        "ratings_by_title.head()\n",
        "active_titles = ratings_by_title.index[ratings_by_title >= 250]\n",
        "active_titles"
      ],
      "metadata": {
        "trusted": true,
        "id": "UpLEqRCvcjny"
      },
      "execution_count": null,
      "outputs": []
    },
    {
      "cell_type": "code",
      "source": [
        "mean_ratings = mean_ratings.loc[active_titles]\n",
        "mean_ratings"
      ],
      "metadata": {
        "trusted": true,
        "id": "gKpZJdNkcjnz"
      },
      "execution_count": null,
      "outputs": []
    },
    {
      "cell_type": "code",
      "source": [
        "mean_ratings = mean_ratings.rename(index={\"Seven Samurai (The Magnificent Seven) (Shichinin no samurai) (1954)\":\n",
        "                           \"Seven Samurai (Shichinin no samurai) (1954)\"})"
      ],
      "metadata": {
        "trusted": true,
        "id": "oueixLeOcjn0"
      },
      "execution_count": null,
      "outputs": []
    },
    {
      "cell_type": "code",
      "source": [
        "top_female_ratings = mean_ratings.sort_values(\"F\", ascending=False)\n",
        "top_female_ratings.head()"
      ],
      "metadata": {
        "trusted": true,
        "id": "jBfU2NGAcjn1"
      },
      "execution_count": null,
      "outputs": []
    },
    {
      "cell_type": "code",
      "source": [
        "mean_ratings[\"diff\"] = mean_ratings[\"M\"] - mean_ratings[\"F\"]"
      ],
      "metadata": {
        "trusted": true,
        "id": "-c1Q01pkcjn2"
      },
      "execution_count": null,
      "outputs": []
    },
    {
      "cell_type": "code",
      "source": [
        "sorted_by_diff = mean_ratings.sort_values(\"diff\")\n",
        "sorted_by_diff.head()"
      ],
      "metadata": {
        "trusted": true,
        "id": "BFi3sIs6cjn3"
      },
      "execution_count": null,
      "outputs": []
    },
    {
      "cell_type": "code",
      "source": [
        "sorted_by_diff[::-1].head()"
      ],
      "metadata": {
        "trusted": true,
        "id": "ja3FjNx0cjn4"
      },
      "execution_count": null,
      "outputs": []
    },
    {
      "cell_type": "code",
      "source": [
        "rating_std_by_title = data.groupby(\"title\")[\"rating\"].std()\n",
        "rating_std_by_title = rating_std_by_title.loc[active_titles]\n",
        "rating_std_by_title.head()"
      ],
      "metadata": {
        "trusted": true,
        "id": "THKPYzt7cjn7"
      },
      "execution_count": null,
      "outputs": []
    },
    {
      "cell_type": "code",
      "source": [
        "rating_std_by_title.sort_values(ascending=False)[:10]"
      ],
      "metadata": {
        "trusted": true,
        "id": "4eYX4cAFcjn8"
      },
      "execution_count": null,
      "outputs": []
    },
    {
      "cell_type": "code",
      "source": [
        "movies[\"genres\"].head()\n",
        "movies[\"genres\"].head().str.split(\"|\")\n",
        "movies[\"genre\"] = movies.pop(\"genres\").str.split(\"|\")\n",
        "movies.head()"
      ],
      "metadata": {
        "trusted": true,
        "id": "grY66x5Tcjn9"
      },
      "execution_count": null,
      "outputs": []
    },
    {
      "cell_type": "code",
      "source": [
        "movies_exploded = movies.explode(\"genre\")\n",
        "movies_exploded[:10]"
      ],
      "metadata": {
        "trusted": true,
        "id": "BfXKpdhpcjn9"
      },
      "execution_count": null,
      "outputs": []
    },
    {
      "cell_type": "code",
      "source": [
        "ratings_with_genre = pd.merge(pd.merge(movies_exploded, ratings), users)\n",
        "ratings_with_genre.iloc[0]\n",
        "genre_ratings = (ratings_with_genre.groupby([\"genre\", \"age\"])\n",
        "                 [\"rating\"].mean()\n",
        "                 .unstack(\"age\"))\n",
        "genre_ratings[:10]"
      ],
      "metadata": {
        "trusted": true,
        "id": "0QIm-3oNcjn9"
      },
      "execution_count": null,
      "outputs": []
    }
  ]
}
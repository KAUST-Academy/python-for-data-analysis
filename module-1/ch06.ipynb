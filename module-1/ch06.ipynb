{
  "metadata": {
    "kernelspec": {
      "name": "python3",
      "display_name": "Python 3 (ipykernel)",
      "language": "python"
    },
    "language_info": {
      "name": "python",
      "version": "3.7.12",
      "mimetype": "text/x-python",
      "codemirror_mode": {
        "name": "ipython",
        "version": 3
      },
      "pygments_lexer": "ipython3",
      "nbconvert_exporter": "python",
      "file_extension": ".py"
    },
    "colab": {
      "provenance": []
    }
  },
  "nbformat_minor": 0,
  "nbformat": 4,
  "cells": [
    {
      "cell_type": "code",
      "source": [
        "import io\n",
        "import pathlib\n",
        "import requests\n",
        "import zipfile\n",
        "\n",
        "import numpy as np\n",
        "import pandas as pd\n",
        "np.random.seed(12345)\n",
        "import matplotlib.pyplot as plt\n",
        "plt.rc(\"figure\", figsize=(10, 6))\n",
        "pd.options.display.max_colwidth = 75\n",
        "pd.options.display.max_columns = 20\n",
        "np.set_printoptions(precision=4, suppress=True)"
      ],
      "metadata": {
        "trusted": true,
        "id": "BIfCFeXRfF8r"
      },
      "execution_count": null,
      "outputs": []
    },
    {
      "cell_type": "code",
      "source": [
        "ROOT_DIR = pathlib.Path(\"..\")\n",
        "\n",
        "DATASETS_URL = \"https://github.com/KAUST-Academy/python-for-data-analysis/raw/november-2022/datasets.zip\"\n",
        "EXAMPLES_URL = \"https://github.com/KAUST-Academy/python-for-data-analysis/raw/november-2022/examples.zip\"\n",
        "\n",
        "response = requests.get(DATASETS_URL)\n",
        "z = zipfile.ZipFile(io.BytesIO(response.content))\n",
        "z.extractall(ROOT_DIR)\n",
        "\n",
        "\n",
        "response = requests.get(EXAMPLES_URL)\n",
        "z = zipfile.ZipFile(io.BytesIO(response.content))\n",
        "z.extractall(ROOT_DIR)\n"
      ],
      "metadata": {
        "id": "IQUUaJ7yfIuj"
      },
      "execution_count": null,
      "outputs": []
    },
    {
      "cell_type": "code",
      "source": [
        "DATASETS_DIR = ROOT_DIR / \"datasets\"\n",
        "EXAMPLES_DIR = ROOT_DIR / \"examples\"\n"
      ],
      "metadata": {
        "trusted": true,
        "id": "gq7Uk8tmfF82"
      },
      "execution_count": null,
      "outputs": []
    },
    {
      "cell_type": "code",
      "source": [
        "!ls $DATASETS_DIR"
      ],
      "metadata": {
        "id": "EB_h8G3ngDyz"
      },
      "execution_count": null,
      "outputs": []
    },
    {
      "cell_type": "code",
      "source": [
        "!ls $EXAMPLES_DIR"
      ],
      "metadata": {
        "id": "lJCrRIZAyn0C"
      },
      "execution_count": null,
      "outputs": []
    },
    {
      "cell_type": "code",
      "source": [
        "!cat $EXAMPLES_DIR/ex1.csv"
      ],
      "metadata": {
        "trusted": true,
        "id": "a3P0mm2mfF83"
      },
      "execution_count": null,
      "outputs": []
    },
    {
      "cell_type": "code",
      "source": [
        "df = pd.read_csv(EXAMPLES_DIR / \"ex1.csv\")\n",
        "df"
      ],
      "metadata": {
        "trusted": true,
        "id": "sTA2OO_rfF84"
      },
      "execution_count": null,
      "outputs": []
    },
    {
      "cell_type": "code",
      "source": [
        "!cat $EXAMPLES_DIR/ex2.csv"
      ],
      "metadata": {
        "trusted": true,
        "id": "Ed9r1EYvfF84"
      },
      "execution_count": null,
      "outputs": []
    },
    {
      "cell_type": "code",
      "source": [
        "pd.read_csv(EXAMPLES_DIR / \"ex2.csv\", header=None)"
      ],
      "metadata": {
        "trusted": true,
        "id": "VqNdrID-fF85"
      },
      "execution_count": null,
      "outputs": []
    },
    {
      "cell_type": "code",
      "source": [
        "pd.read_csv(EXAMPLES_DIR / \"ex2.csv\", names=[\"a\", \"b\", \"c\", \"d\", \"message\"])"
      ],
      "metadata": {
        "trusted": true,
        "id": "h9PkeVcvfF86"
      },
      "execution_count": null,
      "outputs": []
    },
    {
      "cell_type": "code",
      "source": [
        "names = [\"a\", \"b\", \"c\", \"d\", \"message\"]\n",
        "pd.read_csv(EXAMPLES_DIR / \"ex2.csv\", names=names, index_col=\"message\")"
      ],
      "metadata": {
        "trusted": true,
        "id": "FWvq8x2nfF87"
      },
      "execution_count": null,
      "outputs": []
    },
    {
      "cell_type": "code",
      "source": [
        "!cat $EXAMPLES_DIR/csv_mindex.csv"
      ],
      "metadata": {
        "trusted": true,
        "id": "WKjUqlSEfF88"
      },
      "execution_count": null,
      "outputs": []
    },
    {
      "cell_type": "code",
      "source": [
        "parsed = pd.read_csv(EXAMPLES_DIR / \"csv_mindex.csv\",\n",
        "                     index_col=[\"key1\", \"key2\"])\n",
        "parsed"
      ],
      "metadata": {
        "trusted": true,
        "id": "gbBhQkF_fF89"
      },
      "execution_count": null,
      "outputs": []
    },
    {
      "cell_type": "code",
      "source": [
        "!cat $EXAMPLES_DIR/ex3.txt"
      ],
      "metadata": {
        "trusted": true,
        "id": "rE_MFZYbfF8-"
      },
      "execution_count": null,
      "outputs": []
    },
    {
      "cell_type": "code",
      "source": [
        "result = pd.read_csv(EXAMPLES_DIR / \"ex3.txt\", sep=\"\\s+\")\n",
        "result"
      ],
      "metadata": {
        "trusted": true,
        "id": "-H1F-FIBfF8_"
      },
      "execution_count": null,
      "outputs": []
    },
    {
      "cell_type": "code",
      "source": [
        "!cat $EXAMPLES_DIR/ex4.csv"
      ],
      "metadata": {
        "trusted": true,
        "id": "i4YWpm_NfF8_"
      },
      "execution_count": null,
      "outputs": []
    },
    {
      "cell_type": "code",
      "source": [
        "pd.read_csv(EXAMPLES_DIR / \"ex4.csv\", skiprows=[0, 2, 3])"
      ],
      "metadata": {
        "trusted": true,
        "id": "BvfjfnizfF9A"
      },
      "execution_count": null,
      "outputs": []
    },
    {
      "cell_type": "code",
      "source": [
        "!cat $EXAMPLES_DIR/ex5.csv"
      ],
      "metadata": {
        "trusted": true,
        "id": "RIVrO8pIfF9A"
      },
      "execution_count": null,
      "outputs": []
    },
    {
      "cell_type": "code",
      "source": [
        "result = pd.read_csv(EXAMPLES_DIR / \"ex5.csv\")\n",
        "result"
      ],
      "metadata": {
        "trusted": true,
        "id": "7g0yTPi6fF9B"
      },
      "execution_count": null,
      "outputs": []
    },
    {
      "cell_type": "code",
      "source": [
        "pd.isna(result)"
      ],
      "metadata": {
        "trusted": true,
        "id": "_3MD8SwOfF9B"
      },
      "execution_count": null,
      "outputs": []
    },
    {
      "cell_type": "code",
      "source": [
        "result = pd.read_csv(EXAMPLES_DIR / \"ex5.csv\", na_values=[\"NULL\"])\n",
        "result"
      ],
      "metadata": {
        "trusted": true,
        "id": "gDGrHwSOfF9C"
      },
      "execution_count": null,
      "outputs": []
    },
    {
      "cell_type": "code",
      "source": [
        "result2 = pd.read_csv(EXAMPLES_DIR / \"ex5.csv\", keep_default_na=False)\n",
        "result2"
      ],
      "metadata": {
        "trusted": true,
        "id": "i2wQhYivfF9C"
      },
      "execution_count": null,
      "outputs": []
    },
    {
      "cell_type": "code",
      "source": [
        "result2.isna()"
      ],
      "metadata": {
        "trusted": true,
        "id": "lmxLJc5VfF9D"
      },
      "execution_count": null,
      "outputs": []
    },
    {
      "cell_type": "code",
      "source": [
        "result3 = pd.read_csv(EXAMPLES_DIR / \"ex5.csv\", keep_default_na=False,\n",
        "                      na_values=[\"NA\"])\n",
        "result3"
      ],
      "metadata": {
        "trusted": true,
        "id": "LU2McaSffF9D"
      },
      "execution_count": null,
      "outputs": []
    },
    {
      "cell_type": "code",
      "source": [
        "result3.isna()"
      ],
      "metadata": {
        "trusted": true,
        "id": "V9gCnKE6fF9D"
      },
      "execution_count": null,
      "outputs": []
    },
    {
      "cell_type": "code",
      "source": [
        "sentinels = {\"message\": [\"foo\", \"NA\"], \"something\": [\"two\"]}\n",
        "pd.read_csv(EXAMPLES_DIR / \"ex5.csv\", na_values=sentinels,\n",
        "            keep_default_na=False)"
      ],
      "metadata": {
        "trusted": true,
        "id": "tTqkU5f3fF9E"
      },
      "execution_count": null,
      "outputs": []
    },
    {
      "cell_type": "code",
      "source": [
        "pd.options.display.max_rows = 10"
      ],
      "metadata": {
        "trusted": true,
        "id": "3_Lt374wfF9E"
      },
      "execution_count": null,
      "outputs": []
    },
    {
      "cell_type": "code",
      "source": [
        "result = pd.read_csv(EXAMPLES_DIR / \"ex6.csv\")\n",
        "result"
      ],
      "metadata": {
        "trusted": true,
        "id": "CWpXvx3LfF9F"
      },
      "execution_count": null,
      "outputs": []
    },
    {
      "cell_type": "code",
      "source": [
        "pd.read_csv(EXAMPLES_DIR / \"ex6.csv\", nrows=5)"
      ],
      "metadata": {
        "trusted": true,
        "id": "Pnpvo1YLfF9F"
      },
      "execution_count": null,
      "outputs": []
    },
    {
      "cell_type": "code",
      "source": [
        "chunker = pd.read_csv(EXAMPLES_DIR / \"ex6.csv\", chunksize=1000)\n",
        "type(chunker)"
      ],
      "metadata": {
        "trusted": true,
        "id": "HUjHwdZqfF9F"
      },
      "execution_count": null,
      "outputs": []
    },
    {
      "cell_type": "code",
      "source": [
        "chunker = pd.read_csv(EXAMPLES_DIR / \"ex6.csv\", chunksize=1000)\n",
        "\n",
        "tot = pd.Series([], dtype='int64')\n",
        "for piece in chunker:\n",
        "    tot = tot.add(piece[\"key\"].value_counts(), fill_value=0)\n",
        "\n",
        "tot = tot.sort_values(ascending=False)"
      ],
      "metadata": {
        "trusted": true,
        "id": "wJ5OVK39fF9G"
      },
      "execution_count": null,
      "outputs": []
    },
    {
      "cell_type": "code",
      "source": [
        "tot[:10]"
      ],
      "metadata": {
        "trusted": true,
        "id": "iv3fNGb9fF9G"
      },
      "execution_count": null,
      "outputs": []
    },
    {
      "cell_type": "code",
      "source": [
        "data = pd.read_csv(EXAMPLES_DIR / \"ex5.csv\")\n",
        "data"
      ],
      "metadata": {
        "trusted": true,
        "id": "T-kUilgOfF9G"
      },
      "execution_count": null,
      "outputs": []
    },
    {
      "cell_type": "code",
      "source": [
        "data.to_csv(EXAMPLES_DIR / \"out.csv\")"
      ],
      "metadata": {
        "trusted": true,
        "id": "MnRk4BdIfF9H"
      },
      "execution_count": null,
      "outputs": []
    },
    {
      "cell_type": "code",
      "source": [
        "!cat $EXAMPLES_DIR/out.csv"
      ],
      "metadata": {
        "trusted": true,
        "id": "QE1VRHogfF9H"
      },
      "execution_count": null,
      "outputs": []
    },
    {
      "cell_type": "code",
      "source": [
        "import sys\n",
        "\n",
        "data.to_csv(sys.stdout, sep=\"|\")"
      ],
      "metadata": {
        "trusted": true,
        "id": "9Dr2CTwbfF9H"
      },
      "execution_count": null,
      "outputs": []
    },
    {
      "cell_type": "code",
      "source": [
        "data.to_csv(sys.stdout, na_rep=\"NULL\")"
      ],
      "metadata": {
        "trusted": true,
        "id": "-HKhAbzpfF9H"
      },
      "execution_count": null,
      "outputs": []
    },
    {
      "cell_type": "code",
      "source": [
        "data.to_csv(sys.stdout, index=False, header=False)"
      ],
      "metadata": {
        "trusted": true,
        "id": "-hniRamyfF9I"
      },
      "execution_count": null,
      "outputs": []
    },
    {
      "cell_type": "code",
      "source": [
        "data.to_csv(sys.stdout, index=False, columns=[\"a\", \"b\", \"c\"])"
      ],
      "metadata": {
        "trusted": true,
        "id": "GbljEwHufF9I"
      },
      "execution_count": null,
      "outputs": []
    },
    {
      "cell_type": "code",
      "source": [
        "!cat $EXAMPLES_DIR/ex7.csv"
      ],
      "metadata": {
        "trusted": true,
        "id": "zis9DGs4fF9J"
      },
      "execution_count": null,
      "outputs": []
    },
    {
      "cell_type": "code",
      "source": [
        "import csv\n",
        "\n",
        "f = open(EXAMPLES_DIR / \"ex7.csv\")\n",
        "reader = csv.reader(f)"
      ],
      "metadata": {
        "trusted": true,
        "id": "hAYnUmKtfF9J"
      },
      "execution_count": null,
      "outputs": []
    },
    {
      "cell_type": "code",
      "source": [
        "for line in reader:\n",
        "    print(line)\n",
        "f.close()"
      ],
      "metadata": {
        "trusted": true,
        "id": "evhbzjvXfF9J"
      },
      "execution_count": null,
      "outputs": []
    },
    {
      "cell_type": "code",
      "source": [
        "with open(EXAMPLES_DIR / \"ex7.csv\") as f:\n",
        "    lines = list(csv.reader(f))"
      ],
      "metadata": {
        "trusted": true,
        "id": "gbzCp8gJfF9K"
      },
      "execution_count": null,
      "outputs": []
    },
    {
      "cell_type": "code",
      "source": [
        "header, values = lines[0], lines[1:]"
      ],
      "metadata": {
        "trusted": true,
        "id": "8Y6qoVZIfF9K"
      },
      "execution_count": null,
      "outputs": []
    },
    {
      "cell_type": "code",
      "source": [
        "data_dict = {h: v for h, v in zip(header, zip(*values))}\n",
        "data_dict"
      ],
      "metadata": {
        "trusted": true,
        "id": "bZ7Jro_0fF9K"
      },
      "execution_count": null,
      "outputs": []
    },
    {
      "cell_type": "code",
      "source": [
        "obj = \"\"\"\n",
        "{\"name\": \"Wes\",\n",
        " \"cities_lived\": [\"Akron\", \"Nashville\", \"New York\", \"San Francisco\"],\n",
        " \"pet\": null,\n",
        " \"siblings\": [{\"name\": \"Scott\", \"age\": 34, \"hobbies\": [\"guitars\", \"soccer\"]},\n",
        "              {\"name\": \"Katie\", \"age\": 42, \"hobbies\": [\"diving\", \"art\"]}]\n",
        "}\n",
        "\"\"\""
      ],
      "metadata": {
        "trusted": true,
        "id": "XQtyhgJSfF9K"
      },
      "execution_count": null,
      "outputs": []
    },
    {
      "cell_type": "code",
      "source": [
        "import json\n",
        "\n",
        "result = json.loads(obj)\n",
        "result"
      ],
      "metadata": {
        "trusted": true,
        "id": "m5FfexmOfF9L"
      },
      "execution_count": null,
      "outputs": []
    },
    {
      "cell_type": "code",
      "source": [
        "asjson = json.dumps(result)\n",
        "asjson"
      ],
      "metadata": {
        "trusted": true,
        "id": "fXhtUZYAfF9L"
      },
      "execution_count": null,
      "outputs": []
    },
    {
      "cell_type": "code",
      "source": [
        "siblings = pd.DataFrame(result[\"siblings\"], columns=[\"name\", \"age\"])\n",
        "siblings"
      ],
      "metadata": {
        "trusted": true,
        "id": "bgTMG-qDfF9M"
      },
      "execution_count": null,
      "outputs": []
    },
    {
      "cell_type": "code",
      "source": [
        "!cat $EXAMPLES_DIR/example.json"
      ],
      "metadata": {
        "trusted": true,
        "id": "utH4jPNufF9M"
      },
      "execution_count": null,
      "outputs": []
    },
    {
      "cell_type": "code",
      "source": [
        "data = pd.read_json(EXAMPLES_DIR / \"example.json\")\n",
        "data"
      ],
      "metadata": {
        "trusted": true,
        "id": "ZEtSCF7xfF9M"
      },
      "execution_count": null,
      "outputs": []
    },
    {
      "cell_type": "code",
      "source": [
        "data.to_json(sys.stdout)\n",
        "data.to_json(sys.stdout, orient=\"records\")"
      ],
      "metadata": {
        "trusted": true,
        "id": "gl2rrCtAfF9M"
      },
      "execution_count": null,
      "outputs": []
    },
    {
      "cell_type": "code",
      "source": [
        "tables = pd.read_html(EXAMPLES_DIR / \"fdic_failed_bank_list.html\")\n",
        "print(len(tables))\n",
        "failures = tables[0]\n",
        "failures.head()"
      ],
      "metadata": {
        "trusted": true,
        "id": "4Sv50TqKfF9M"
      },
      "execution_count": null,
      "outputs": []
    },
    {
      "cell_type": "code",
      "source": [
        "close_timestamps = pd.to_datetime(failures[\"Closing Date\"])\n",
        "close_timestamps.dt.year.value_counts()"
      ],
      "metadata": {
        "trusted": true,
        "id": "SPfjf5Q2fF9N"
      },
      "execution_count": null,
      "outputs": []
    },
    {
      "cell_type": "code",
      "source": [
        "from lxml import objectify\n",
        "\n",
        "path = DATASETS_DIR / \"mta_perf/Performance_MNR.xml\"\n",
        "with open(path) as f:\n",
        "    parsed = objectify.parse(f)\n",
        "root = parsed.getroot()"
      ],
      "metadata": {
        "trusted": true,
        "id": "Ib1RhsT8fF9N"
      },
      "execution_count": null,
      "outputs": []
    },
    {
      "cell_type": "code",
      "source": [
        "data = []\n",
        "\n",
        "skip_fields = [\"PARENT_SEQ\", \"INDICATOR_SEQ\",\n",
        "               \"DESIRED_CHANGE\", \"DECIMAL_PLACES\"]\n",
        "\n",
        "for elt in root.INDICATOR:\n",
        "    el_data = {}\n",
        "    for child in elt.getchildren():\n",
        "        if child.tag in skip_fields:\n",
        "            continue\n",
        "        el_data[child.tag] = child.pyval\n",
        "    data.append(el_data)"
      ],
      "metadata": {
        "trusted": true,
        "id": "w0GtADHifF9N"
      },
      "execution_count": null,
      "outputs": []
    },
    {
      "cell_type": "code",
      "source": [
        "perf = pd.DataFrame(data)\n",
        "perf.head()"
      ],
      "metadata": {
        "trusted": true,
        "id": "70XHJGcGfF9O"
      },
      "execution_count": null,
      "outputs": []
    },
    {
      "cell_type": "code",
      "source": [
        "perf2 = pd.read_xml(path)\n",
        "perf2.head()"
      ],
      "metadata": {
        "trusted": true,
        "id": "FRpSCExFfF9O"
      },
      "execution_count": null,
      "outputs": []
    },
    {
      "cell_type": "code",
      "source": [
        "frame = pd.read_csv(EXAMPLES_DIR / \"ex1.csv\")\n",
        "print(frame)\n",
        "frame.to_pickle(EXAMPLES_DIR / \"frame_pickle\")"
      ],
      "metadata": {
        "trusted": true,
        "id": "6HAiFpS1fF9O"
      },
      "execution_count": null,
      "outputs": []
    },
    {
      "cell_type": "code",
      "source": [
        "pd.read_pickle(EXAMPLES_DIR / \"frame_pickle\")"
      ],
      "metadata": {
        "trusted": true,
        "id": "PcKLKPEmfF9O"
      },
      "execution_count": null,
      "outputs": []
    },
    {
      "cell_type": "code",
      "source": [
        "!rm $EXAMPLES_DIR/frame_pickle"
      ],
      "metadata": {
        "trusted": true,
        "id": "UZ24s6KgfF9P"
      },
      "execution_count": null,
      "outputs": []
    },
    {
      "cell_type": "code",
      "source": [
        "fec = pd.read_parquet(DATASETS_DIR / 'fec/fec.parquet')"
      ],
      "metadata": {
        "trusted": true,
        "id": "ypPt1izGfF9P"
      },
      "execution_count": null,
      "outputs": []
    },
    {
      "cell_type": "code",
      "source": [
        "xlsx = pd.ExcelFile(EXAMPLES_DIR / \"ex1.xlsx\")"
      ],
      "metadata": {
        "trusted": true,
        "id": "g-nSq9V4fF9P"
      },
      "execution_count": null,
      "outputs": []
    },
    {
      "cell_type": "code",
      "source": [
        "xlsx.sheet_names"
      ],
      "metadata": {
        "trusted": true,
        "id": "BtmrAMC0fF9Q"
      },
      "execution_count": null,
      "outputs": []
    },
    {
      "cell_type": "code",
      "source": [
        "xlsx.parse(sheet_name=\"Sheet1\")"
      ],
      "metadata": {
        "trusted": true,
        "id": "ge9aN1zLfF9Q"
      },
      "execution_count": null,
      "outputs": []
    },
    {
      "cell_type": "code",
      "source": [
        "xlsx.parse(sheet_name=\"Sheet1\", index_col=0)"
      ],
      "metadata": {
        "trusted": true,
        "id": "a65nEsMffF9Q"
      },
      "execution_count": null,
      "outputs": []
    },
    {
      "cell_type": "code",
      "source": [
        "frame = pd.read_excel(EXAMPLES_DIR / \"ex1.xlsx\", sheet_name=\"Sheet1\")\n",
        "frame"
      ],
      "metadata": {
        "trusted": true,
        "id": "XXiYmWWkfF9R"
      },
      "execution_count": null,
      "outputs": []
    },
    {
      "cell_type": "code",
      "source": [
        "writer = pd.ExcelWriter(EXAMPLES_DIR / \"ex2.xlsx\")\n",
        "frame.to_excel(writer, \"Sheet1\")\n",
        "writer.save()"
      ],
      "metadata": {
        "trusted": true,
        "id": "QIM1CKoLfF9R"
      },
      "execution_count": null,
      "outputs": []
    },
    {
      "cell_type": "code",
      "source": [
        "frame.to_excel(EXAMPLES_DIR / \"ex2.xlsx\")"
      ],
      "metadata": {
        "trusted": true,
        "id": "VEsVszpMfF9R"
      },
      "execution_count": null,
      "outputs": []
    },
    {
      "cell_type": "code",
      "source": [
        "!rm $EXAMPLES_DIR/ex2.xlsx"
      ],
      "metadata": {
        "trusted": true,
        "id": "dQKmicwgfF9R"
      },
      "execution_count": null,
      "outputs": []
    },
    {
      "cell_type": "code",
      "source": [
        "!rm -f $EXAMPLES_DIR/mydata.h5"
      ],
      "metadata": {
        "trusted": true,
        "id": "wjrMuXxafF9S"
      },
      "execution_count": null,
      "outputs": []
    },
    {
      "cell_type": "code",
      "source": [
        "frame = pd.DataFrame({\"a\": np.random.standard_normal(100)})\n",
        "store = pd.HDFStore(EXAMPLES_DIR / \"mydata.h5\")\n",
        "store[\"obj1\"] = frame\n",
        "store[\"obj1_col\"] = frame[\"a\"]\n",
        "store"
      ],
      "metadata": {
        "trusted": true,
        "id": "1v09V5phfF9S"
      },
      "execution_count": null,
      "outputs": []
    },
    {
      "cell_type": "code",
      "source": [
        "store[\"obj1\"]"
      ],
      "metadata": {
        "trusted": true,
        "id": "K8VmhSBhfF9S"
      },
      "execution_count": null,
      "outputs": []
    },
    {
      "cell_type": "code",
      "source": [
        "store.put(\"obj2\", frame, format=\"table\")\n",
        "store.select(\"obj2\", where=[\"index >= 10 and index <= 15\"])\n",
        "store.close()"
      ],
      "metadata": {
        "trusted": true,
        "id": "DK3C3ryJfF9S"
      },
      "execution_count": null,
      "outputs": []
    },
    {
      "cell_type": "code",
      "source": [
        "frame.to_hdf(EXAMPLES_DIR / \"mydata.h5\", \"obj3\", format=\"table\")\n",
        "pd.read_hdf(EXAMPLES_DIR / \"mydata.h5\", \"obj3\", where=[\"index < 5\"])"
      ],
      "metadata": {
        "trusted": true,
        "id": "VX8l6AwUfF9T"
      },
      "execution_count": null,
      "outputs": []
    },
    {
      "cell_type": "code",
      "source": [
        "import os\n",
        "\n",
        "os.remove(EXAMPLES_DIR / \"mydata.h5\")"
      ],
      "metadata": {
        "trusted": true,
        "id": "G-6oyPnDfF9T"
      },
      "execution_count": null,
      "outputs": []
    },
    {
      "cell_type": "code",
      "source": [
        "import requests\n",
        "\n",
        "url = \"https://api.github.com/repos/pandas-dev/pandas/issues\"\n",
        "resp = requests.get(url)\n",
        "resp.raise_for_status()\n",
        "resp"
      ],
      "metadata": {
        "trusted": true,
        "id": "9Im9LROZfF9T"
      },
      "execution_count": null,
      "outputs": []
    },
    {
      "cell_type": "code",
      "source": [
        "data = resp.json()\n",
        "data[0][\"title\"]"
      ],
      "metadata": {
        "trusted": true,
        "id": "5jWcI6n1fF9T"
      },
      "execution_count": null,
      "outputs": []
    },
    {
      "cell_type": "code",
      "source": [
        "issues = pd.DataFrame(data, columns=[\"number\", \"title\",\n",
        "                                     \"labels\", \"state\"])\n",
        "issues"
      ],
      "metadata": {
        "trusted": true,
        "id": "E3kQOG38fF9U"
      },
      "execution_count": null,
      "outputs": []
    },
    {
      "cell_type": "code",
      "source": [
        "import sqlite3\n",
        "\n",
        "query = \"\"\"\n",
        "CREATE TABLE test\n",
        "(a VARCHAR(20), b VARCHAR(20),\n",
        " c REAL,        d INTEGER\n",
        ");\"\"\"\n",
        "\n",
        "con = sqlite3.connect(\"mydata.sqlite\")\n",
        "con.execute(query)\n",
        "con.commit()"
      ],
      "metadata": {
        "trusted": true,
        "id": "6OHLUzIofF9U"
      },
      "execution_count": null,
      "outputs": []
    },
    {
      "cell_type": "code",
      "source": [
        "data = [(\"Atlanta\", \"Georgia\", 1.25, 6),\n",
        "        (\"Tallahassee\", \"Florida\", 2.6, 3),\n",
        "        (\"Sacramento\", \"California\", 1.7, 5)]\n",
        "stmt = \"INSERT INTO test VALUES(?, ?, ?, ?)\"\n",
        "\n",
        "con.executemany(stmt, data)\n",
        "con.commit()"
      ],
      "metadata": {
        "trusted": true,
        "id": "ZPcrYCM0fF9U"
      },
      "execution_count": null,
      "outputs": []
    },
    {
      "cell_type": "code",
      "source": [
        "cursor = con.execute(\"SELECT * FROM test\")\n",
        "rows = cursor.fetchall()\n",
        "rows"
      ],
      "metadata": {
        "trusted": true,
        "id": "rjy4nv-gfF9V"
      },
      "execution_count": null,
      "outputs": []
    },
    {
      "cell_type": "code",
      "source": [
        "cursor.description\n",
        "pd.DataFrame(rows, columns=[x[0] for x in cursor.description])"
      ],
      "metadata": {
        "trusted": true,
        "id": "Zsqkaj2_fF9V"
      },
      "execution_count": null,
      "outputs": []
    },
    {
      "cell_type": "code",
      "source": [
        "import sqlalchemy as sqla\n",
        "\n",
        "db = sqla.create_engine(\"sqlite:///mydata.sqlite\")\n",
        "pd.read_sql(\"SELECT * FROM test\", db)"
      ],
      "metadata": {
        "trusted": true,
        "id": "KjIxtssLfF9X"
      },
      "execution_count": null,
      "outputs": []
    },
    {
      "cell_type": "code",
      "source": [
        "!rm mydata.sqlite"
      ],
      "metadata": {
        "trusted": true,
        "id": "dz08nkqnfF9Z"
      },
      "execution_count": null,
      "outputs": []
    },
    {
      "cell_type": "code",
      "source": [],
      "metadata": {
        "id": "nDodJN-kfF9Z"
      },
      "execution_count": null,
      "outputs": []
    }
  ]
}
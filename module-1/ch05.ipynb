{
  "metadata": {
    "kernelspec": {
      "name": "python3",
      "display_name": "Python 3 (ipykernel)",
      "language": "python"
    },
    "language_info": {
      "name": "python",
      "version": "3.7.12",
      "mimetype": "text/x-python",
      "codemirror_mode": {
        "name": "ipython",
        "version": 3
      },
      "pygments_lexer": "ipython3",
      "nbconvert_exporter": "python",
      "file_extension": ".py"
    },
    "colab": {
      "provenance": []
    }
  },
  "nbformat_minor": 0,
  "nbformat": 4,
  "cells": [
    {
      "cell_type": "code",
      "source": [
        "import io\n",
        "import pathlib\n",
        "import requests\n",
        "import zipfile\n",
        "\n",
        "import numpy as np\n",
        "import pandas as pd"
      ],
      "metadata": {
        "id": "fnfw5rvZzlAf"
      },
      "execution_count": null,
      "outputs": []
    },
    {
      "cell_type": "code",
      "source": [
        "from pandas import Series, DataFrame"
      ],
      "metadata": {
        "id": "NVvYZ03xzlAo"
      },
      "execution_count": null,
      "outputs": []
    },
    {
      "cell_type": "code",
      "source": [
        "np.random.seed(12345)\n",
        "import matplotlib.pyplot as plt\n",
        "plt.rc(\"figure\", figsize=(10, 6))\n",
        "PREVIOUS_MAX_ROWS = pd.options.display.max_rows\n",
        "pd.options.display.max_rows = 20\n",
        "pd.options.display.max_columns = 20\n",
        "pd.options.display.max_colwidth = 80\n",
        "np.set_printoptions(precision=4, suppress=True)"
      ],
      "metadata": {
        "id": "0L3Z_CcizlAp"
      },
      "execution_count": null,
      "outputs": []
    },
    {
      "cell_type": "code",
      "source": [
        "ROOT_DIR = pathlib.Path(\"..\")\n",
        "\n",
        "EXAMPLES_URL = \"https://github.com/KAUST-Academy/python-for-data-analysis/raw/november-2022/examples.zip\"\n",
        "\n",
        "response = requests.get(EXAMPLES_URL)\n",
        "z = zipfile.ZipFile(io.BytesIO(response.content))\n",
        "z.extractall(ROOT_DIR)"
      ],
      "metadata": {
        "id": "dXvaYwHxzlAs"
      },
      "execution_count": null,
      "outputs": []
    },
    {
      "cell_type": "code",
      "source": [
        "EXAMPLES_DIR = ROOT_DIR / \"examples\""
      ],
      "metadata": {
        "id": "CXFs-JB0zsUy"
      },
      "execution_count": null,
      "outputs": []
    },
    {
      "cell_type": "code",
      "source": [
        "!ls $EXAMPLES_DIR"
      ],
      "metadata": {
        "id": "hG7inJihzzHb"
      },
      "execution_count": null,
      "outputs": []
    },
    {
      "cell_type": "code",
      "source": [
        "obj = pd.Series([4, 7, -5, 3])\n",
        "obj"
      ],
      "metadata": {
        "id": "F-h29pJkzlAt"
      },
      "execution_count": null,
      "outputs": []
    },
    {
      "cell_type": "code",
      "source": [
        "obj.array\n",
        "obj.index"
      ],
      "metadata": {
        "id": "4x828xv_zlAt"
      },
      "execution_count": null,
      "outputs": []
    },
    {
      "cell_type": "code",
      "source": [
        "obj2 = pd.Series([4, 7, -5, 3], index=[\"d\", \"b\", \"a\", \"c\"])\n",
        "obj2\n",
        "obj2.index"
      ],
      "metadata": {
        "id": "hEJ-TJIbzlAu"
      },
      "execution_count": null,
      "outputs": []
    },
    {
      "cell_type": "code",
      "source": [
        "obj2[\"a\"]\n",
        "obj2[\"d\"] = 6\n",
        "obj2[[\"c\", \"a\", \"d\"]]"
      ],
      "metadata": {
        "id": "WVdiaXsVzlAv"
      },
      "execution_count": null,
      "outputs": []
    },
    {
      "cell_type": "code",
      "source": [
        "obj2[obj2 > 0]\n",
        "obj2 * 2\n",
        "np.exp(obj2)"
      ],
      "metadata": {
        "id": "wpzSb6DKzlAz"
      },
      "execution_count": null,
      "outputs": []
    },
    {
      "cell_type": "code",
      "source": [
        "\"b\" in obj2\n",
        "\"e\" in obj2"
      ],
      "metadata": {
        "id": "kS65lepfzlA7"
      },
      "execution_count": null,
      "outputs": []
    },
    {
      "cell_type": "code",
      "source": [
        "sdata = {\"Ohio\": 35000, \"Texas\": 71000, \"Oregon\": 16000, \"Utah\": 5000}\n",
        "obj3 = pd.Series(sdata)\n",
        "obj3"
      ],
      "metadata": {
        "id": "rxrdGvtlzlA8"
      },
      "execution_count": null,
      "outputs": []
    },
    {
      "cell_type": "code",
      "source": [
        "obj3.to_dict()"
      ],
      "metadata": {
        "id": "fuEJ6q22zlA9"
      },
      "execution_count": null,
      "outputs": []
    },
    {
      "cell_type": "code",
      "source": [
        "states = [\"California\", \"Ohio\", \"Oregon\", \"Texas\"]\n",
        "obj4 = pd.Series(sdata, index=states)\n",
        "obj4"
      ],
      "metadata": {
        "id": "tjROF7SjzlA-"
      },
      "execution_count": null,
      "outputs": []
    },
    {
      "cell_type": "code",
      "source": [
        "pd.isna(obj4)\n",
        "pd.notna(obj4)"
      ],
      "metadata": {
        "id": "LJO7tOK1zlA-"
      },
      "execution_count": null,
      "outputs": []
    },
    {
      "cell_type": "code",
      "source": [
        "obj4.isna()"
      ],
      "metadata": {
        "id": "zFs7IbUGzlA_"
      },
      "execution_count": null,
      "outputs": []
    },
    {
      "cell_type": "code",
      "source": [
        "obj3\n",
        "obj4\n",
        "obj3 + obj4"
      ],
      "metadata": {
        "id": "-WDEAGgqzlA_"
      },
      "execution_count": null,
      "outputs": []
    },
    {
      "cell_type": "code",
      "source": [
        "obj4.name = \"population\"\n",
        "obj4.index.name = \"state\"\n",
        "obj4"
      ],
      "metadata": {
        "id": "aNGxOWQazlBB"
      },
      "execution_count": null,
      "outputs": []
    },
    {
      "cell_type": "code",
      "source": [
        "obj\n",
        "obj.index = [\"Bob\", \"Steve\", \"Jeff\", \"Ryan\"]\n",
        "obj"
      ],
      "metadata": {
        "id": "AuPRb3KqzlBB"
      },
      "execution_count": null,
      "outputs": []
    },
    {
      "cell_type": "code",
      "source": [
        "data = {\"state\": [\"Ohio\", \"Ohio\", \"Ohio\", \"Nevada\", \"Nevada\", \"Nevada\"],\n",
        "        \"year\": [2000, 2001, 2002, 2001, 2002, 2003],\n",
        "        \"pop\": [1.5, 1.7, 3.6, 2.4, 2.9, 3.2]}\n",
        "frame = pd.DataFrame(data)"
      ],
      "metadata": {
        "id": "MQF7zTrfzlBB"
      },
      "execution_count": null,
      "outputs": []
    },
    {
      "cell_type": "code",
      "source": [
        "frame"
      ],
      "metadata": {
        "id": "LR9AelqAzlBC"
      },
      "execution_count": null,
      "outputs": []
    },
    {
      "cell_type": "code",
      "source": [
        "frame.head()"
      ],
      "metadata": {
        "id": "aUHkfiwxzlBC"
      },
      "execution_count": null,
      "outputs": []
    },
    {
      "cell_type": "code",
      "source": [
        "frame.tail()"
      ],
      "metadata": {
        "id": "_eVoct3bzlBC"
      },
      "execution_count": null,
      "outputs": []
    },
    {
      "cell_type": "code",
      "source": [
        "pd.DataFrame(data, columns=[\"year\", \"state\", \"pop\"])"
      ],
      "metadata": {
        "id": "TUoBUK27zlBD"
      },
      "execution_count": null,
      "outputs": []
    },
    {
      "cell_type": "code",
      "source": [
        "frame2 = pd.DataFrame(data, columns=[\"year\", \"state\", \"pop\", \"debt\"])\n",
        "frame2\n",
        "frame2.columns"
      ],
      "metadata": {
        "id": "gdK6WmCMzlBD"
      },
      "execution_count": null,
      "outputs": []
    },
    {
      "cell_type": "code",
      "source": [
        "frame2[\"state\"]\n",
        "frame2.year"
      ],
      "metadata": {
        "id": "P5--D1XLzlBD"
      },
      "execution_count": null,
      "outputs": []
    },
    {
      "cell_type": "code",
      "source": [
        "frame2.loc[1]\n",
        "frame2.iloc[2]"
      ],
      "metadata": {
        "id": "MteR0ZTOzlBE"
      },
      "execution_count": null,
      "outputs": []
    },
    {
      "cell_type": "code",
      "source": [
        "frame2[\"debt\"] = 16.5\n",
        "frame2\n",
        "frame2[\"debt\"] = np.arange(6.)\n",
        "frame2"
      ],
      "metadata": {
        "id": "dOi0qsOGzlBE"
      },
      "execution_count": null,
      "outputs": []
    },
    {
      "cell_type": "code",
      "source": [
        "val = pd.Series([-1.2, -1.5, -1.7], index=[\"two\", \"four\", \"five\"])\n",
        "frame2[\"debt\"] = val\n",
        "frame2"
      ],
      "metadata": {
        "id": "pqfxC2eMzlBE"
      },
      "execution_count": null,
      "outputs": []
    },
    {
      "cell_type": "code",
      "source": [
        "frame2[\"eastern\"] = frame2[\"state\"] == \"Ohio\"\n",
        "frame2"
      ],
      "metadata": {
        "id": "apFm8wWCzlBH"
      },
      "execution_count": null,
      "outputs": []
    },
    {
      "cell_type": "code",
      "source": [
        "del frame2[\"eastern\"]\n",
        "frame2.columns"
      ],
      "metadata": {
        "id": "NtZTZTgMzlBK"
      },
      "execution_count": null,
      "outputs": []
    },
    {
      "cell_type": "code",
      "source": [
        "populations = {\"Ohio\": {2000: 1.5, 2001: 1.7, 2002: 3.6},\n",
        "               \"Nevada\": {2001: 2.4, 2002: 2.9}}"
      ],
      "metadata": {
        "id": "ATHg88-azlBK"
      },
      "execution_count": null,
      "outputs": []
    },
    {
      "cell_type": "code",
      "source": [
        "frame3 = pd.DataFrame(populations)\n",
        "frame3"
      ],
      "metadata": {
        "id": "DBF9P1p-zlBL"
      },
      "execution_count": null,
      "outputs": []
    },
    {
      "cell_type": "code",
      "source": [
        "frame3.T"
      ],
      "metadata": {
        "id": "WrYdj4hHzlBL"
      },
      "execution_count": null,
      "outputs": []
    },
    {
      "cell_type": "code",
      "source": [
        "pd.DataFrame(populations, index=[2001, 2002, 2003])"
      ],
      "metadata": {
        "id": "wyDK27lazlBL"
      },
      "execution_count": null,
      "outputs": []
    },
    {
      "cell_type": "code",
      "source": [
        "pdata = {\"Ohio\": frame3[\"Ohio\"][:-1],\n",
        "         \"Nevada\": frame3[\"Nevada\"][:2]}\n",
        "pd.DataFrame(pdata)"
      ],
      "metadata": {
        "id": "x4W78v6EzlBM"
      },
      "execution_count": null,
      "outputs": []
    },
    {
      "cell_type": "code",
      "source": [
        "frame3.index.name = \"year\"\n",
        "frame3.columns.name = \"state\"\n",
        "frame3"
      ],
      "metadata": {
        "id": "J6zMY1BxzlBM"
      },
      "execution_count": null,
      "outputs": []
    },
    {
      "cell_type": "code",
      "source": [
        "frame3.to_numpy()"
      ],
      "metadata": {
        "id": "fMgtszPkzlBM"
      },
      "execution_count": null,
      "outputs": []
    },
    {
      "cell_type": "code",
      "source": [
        "frame2.to_numpy()"
      ],
      "metadata": {
        "id": "EA9QcFBizlBM"
      },
      "execution_count": null,
      "outputs": []
    },
    {
      "cell_type": "code",
      "source": [
        "obj = pd.Series(np.arange(3), index=[\"a\", \"b\", \"c\"])\n",
        "index = obj.index\n",
        "index\n",
        "index[1:]"
      ],
      "metadata": {
        "id": "dF_KFKHxzlBN"
      },
      "execution_count": null,
      "outputs": []
    },
    {
      "cell_type": "code",
      "source": [
        "labels = pd.Index(np.arange(3))\n",
        "labels\n",
        "obj2 = pd.Series([1.5, -2.5, 0], index=labels)\n",
        "obj2\n",
        "obj2.index is labels"
      ],
      "metadata": {
        "id": "7wZEJLpZzlBN"
      },
      "execution_count": null,
      "outputs": []
    },
    {
      "cell_type": "code",
      "source": [
        "frame3\n",
        "frame3.columns\n",
        "\"Ohio\" in frame3.columns\n",
        "2003 in frame3.index"
      ],
      "metadata": {
        "id": "zv3BuyBPzlBP"
      },
      "execution_count": null,
      "outputs": []
    },
    {
      "cell_type": "code",
      "source": [
        "pd.Index([\"foo\", \"foo\", \"bar\", \"bar\"])"
      ],
      "metadata": {
        "id": "j1ysmXr6zlBQ"
      },
      "execution_count": null,
      "outputs": []
    },
    {
      "cell_type": "code",
      "source": [
        "obj = pd.Series([4.5, 7.2, -5.3, 3.6], index=[\"d\", \"b\", \"a\", \"c\"])\n",
        "obj"
      ],
      "metadata": {
        "id": "G4R1iP-bzlBR"
      },
      "execution_count": null,
      "outputs": []
    },
    {
      "cell_type": "code",
      "source": [
        "obj2 = obj.reindex([\"a\", \"b\", \"c\", \"d\", \"e\"])\n",
        "obj2"
      ],
      "metadata": {
        "id": "R6s_K58KzlBR"
      },
      "execution_count": null,
      "outputs": []
    },
    {
      "cell_type": "code",
      "source": [
        "obj3 = pd.Series([\"blue\", \"purple\", \"yellow\"], index=[0, 2, 4])\n",
        "obj3\n",
        "obj3.reindex(np.arange(6), method=\"ffill\")"
      ],
      "metadata": {
        "id": "mEWtkdrlzlBR"
      },
      "execution_count": null,
      "outputs": []
    },
    {
      "cell_type": "code",
      "source": [
        "frame = pd.DataFrame(np.arange(9).reshape((3, 3)),\n",
        "                     index=[\"a\", \"c\", \"d\"],\n",
        "                     columns=[\"Ohio\", \"Texas\", \"California\"])\n",
        "frame\n",
        "frame2 = frame.reindex(index=[\"a\", \"b\", \"c\", \"d\"])\n",
        "frame2"
      ],
      "metadata": {
        "id": "57K4U5yWzlBS"
      },
      "execution_count": null,
      "outputs": []
    },
    {
      "cell_type": "code",
      "source": [
        "states = [\"Texas\", \"Utah\", \"California\"]\n",
        "frame.reindex(columns=states)"
      ],
      "metadata": {
        "id": "_Q_8Iwh-zlBS"
      },
      "execution_count": null,
      "outputs": []
    },
    {
      "cell_type": "code",
      "source": [
        "frame.reindex(states, axis=\"columns\")"
      ],
      "metadata": {
        "id": "kcqoY4rxzlBW"
      },
      "execution_count": null,
      "outputs": []
    },
    {
      "cell_type": "code",
      "source": [
        "frame.loc[[\"a\", \"d\", \"c\"], [\"California\", \"Texas\"]]"
      ],
      "metadata": {
        "id": "hH8c-wHbzlBW"
      },
      "execution_count": null,
      "outputs": []
    },
    {
      "cell_type": "code",
      "source": [
        "obj = pd.Series(np.arange(5.), index=[\"a\", \"b\", \"c\", \"d\", \"e\"])\n",
        "obj\n",
        "new_obj = obj.drop(\"c\")\n",
        "new_obj\n",
        "obj.drop([\"d\", \"c\"])"
      ],
      "metadata": {
        "id": "Glvet7-ozlBW"
      },
      "execution_count": null,
      "outputs": []
    },
    {
      "cell_type": "code",
      "source": [
        "data = pd.DataFrame(np.arange(16).reshape((4, 4)),\n",
        "                    index=[\"Ohio\", \"Colorado\", \"Utah\", \"New York\"],\n",
        "                    columns=[\"one\", \"two\", \"three\", \"four\"])\n",
        "data"
      ],
      "metadata": {
        "id": "2mgorfrqzlBX"
      },
      "execution_count": null,
      "outputs": []
    },
    {
      "cell_type": "code",
      "source": [
        "data.drop(index=[\"Colorado\", \"Ohio\"])"
      ],
      "metadata": {
        "id": "Urb-v3-KzlBX"
      },
      "execution_count": null,
      "outputs": []
    },
    {
      "cell_type": "code",
      "source": [
        "data.drop(columns=[\"two\"])"
      ],
      "metadata": {
        "id": "mk4-wHTYzlBZ"
      },
      "execution_count": null,
      "outputs": []
    },
    {
      "cell_type": "code",
      "source": [
        "data.drop(\"two\", axis=1)\n",
        "data.drop([\"two\", \"four\"], axis=\"columns\")"
      ],
      "metadata": {
        "id": "xVWl4L5TzlBa"
      },
      "execution_count": null,
      "outputs": []
    },
    {
      "cell_type": "code",
      "source": [
        "obj = pd.Series(np.arange(4.), index=[\"a\", \"b\", \"c\", \"d\"])\n",
        "obj\n",
        "obj[\"b\"]\n",
        "obj[1]\n",
        "obj[2:4]\n",
        "obj[[\"b\", \"a\", \"d\"]]\n",
        "obj[[1, 3]]\n",
        "obj[obj < 2]"
      ],
      "metadata": {
        "id": "QNz9FCiezlBa"
      },
      "execution_count": null,
      "outputs": []
    },
    {
      "cell_type": "code",
      "source": [
        "obj.loc[[\"b\", \"a\", \"d\"]]"
      ],
      "metadata": {
        "id": "FpWMD7SIzlBb"
      },
      "execution_count": null,
      "outputs": []
    },
    {
      "cell_type": "code",
      "source": [
        "obj1 = pd.Series([1, 2, 3], index=[2, 0, 1])\n",
        "obj2 = pd.Series([1, 2, 3], index=[\"a\", \"b\", \"c\"])\n",
        "obj1\n",
        "obj2\n",
        "obj1[[0, 1, 2]]\n",
        "obj2[[0, 1, 2]]"
      ],
      "metadata": {
        "id": "q-xoYAtNzlBb"
      },
      "execution_count": null,
      "outputs": []
    },
    {
      "cell_type": "code",
      "source": [
        "obj1.iloc[[0, 1, 2]]\n",
        "obj2.iloc[[0, 1, 2]]"
      ],
      "metadata": {
        "id": "xgGlBa4TzlBc"
      },
      "execution_count": null,
      "outputs": []
    },
    {
      "cell_type": "code",
      "source": [
        "obj2.loc[\"b\":\"c\"]"
      ],
      "metadata": {
        "id": "qSrdbWoxzlBd"
      },
      "execution_count": null,
      "outputs": []
    },
    {
      "cell_type": "code",
      "source": [
        "obj2.loc[\"b\":\"c\"] = 5\n",
        "obj2"
      ],
      "metadata": {
        "id": "IPKJwKxqzlBd"
      },
      "execution_count": null,
      "outputs": []
    },
    {
      "cell_type": "code",
      "source": [
        "data = pd.DataFrame(np.arange(16).reshape((4, 4)),\n",
        "                    index=[\"Ohio\", \"Colorado\", \"Utah\", \"New York\"],\n",
        "                    columns=[\"one\", \"two\", \"three\", \"four\"])\n",
        "data\n",
        "data[\"two\"]\n",
        "data[[\"three\", \"one\"]]"
      ],
      "metadata": {
        "id": "gUaFoiPRzlBd"
      },
      "execution_count": null,
      "outputs": []
    },
    {
      "cell_type": "code",
      "source": [
        "data[:2]\n",
        "data[data[\"three\"] > 5]"
      ],
      "metadata": {
        "id": "NbMaODMrzlBd"
      },
      "execution_count": null,
      "outputs": []
    },
    {
      "cell_type": "code",
      "source": [
        "data < 5"
      ],
      "metadata": {
        "id": "0QZP8OsMzlBe"
      },
      "execution_count": null,
      "outputs": []
    },
    {
      "cell_type": "code",
      "source": [
        "data[data < 5] = 0\n",
        "data"
      ],
      "metadata": {
        "id": "a_iuAmfEzlBe"
      },
      "execution_count": null,
      "outputs": []
    },
    {
      "cell_type": "code",
      "source": [
        "data\n",
        "data.loc[\"Colorado\"]"
      ],
      "metadata": {
        "id": "g9bUieeFzlBe"
      },
      "execution_count": null,
      "outputs": []
    },
    {
      "cell_type": "code",
      "source": [
        "data.loc[[\"Colorado\", \"New York\"]]"
      ],
      "metadata": {
        "id": "6z7CVCrtzlBe"
      },
      "execution_count": null,
      "outputs": []
    },
    {
      "cell_type": "code",
      "source": [
        "data.loc[\"Colorado\", [\"two\", \"three\"]]"
      ],
      "metadata": {
        "id": "T8gEaNdRzlBe"
      },
      "execution_count": null,
      "outputs": []
    },
    {
      "cell_type": "code",
      "source": [
        "data.iloc[2]\n",
        "data.iloc[[2, 1]]\n",
        "data.iloc[2, [3, 0, 1]]\n",
        "data.iloc[[1, 2], [3, 0, 1]]"
      ],
      "metadata": {
        "id": "CKLxYGcOzlBe"
      },
      "execution_count": null,
      "outputs": []
    },
    {
      "cell_type": "code",
      "source": [
        "data.loc[:\"Utah\", \"two\"]\n",
        "data.iloc[:, :3][data.three > 5]"
      ],
      "metadata": {
        "id": "XVQUfZ5tzlBf"
      },
      "execution_count": null,
      "outputs": []
    },
    {
      "cell_type": "code",
      "source": [
        "data.loc[data.three >= 2]"
      ],
      "metadata": {
        "id": "kxxv27WCzlBf"
      },
      "execution_count": null,
      "outputs": []
    },
    {
      "cell_type": "code",
      "source": [
        "ser = pd.Series(np.arange(3.))\n",
        "ser\n",
        "ser[-1]"
      ],
      "metadata": {
        "id": "WZVBs03SzlBf"
      },
      "execution_count": null,
      "outputs": []
    },
    {
      "cell_type": "code",
      "source": [
        "ser"
      ],
      "metadata": {
        "id": "h3PrVtt0zlBf"
      },
      "execution_count": null,
      "outputs": []
    },
    {
      "cell_type": "code",
      "source": [
        "ser2 = pd.Series(np.arange(3.), index=[\"a\", \"b\", \"c\"])\n",
        "ser2[-1]"
      ],
      "metadata": {
        "id": "1weCiCs-zlBf"
      },
      "execution_count": null,
      "outputs": []
    },
    {
      "cell_type": "code",
      "source": [
        "ser.iloc[-1]"
      ],
      "metadata": {
        "id": "6frwLY-VzlBg"
      },
      "execution_count": null,
      "outputs": []
    },
    {
      "cell_type": "code",
      "source": [
        "ser[:2]"
      ],
      "metadata": {
        "id": "SOB2pyMKzlBg"
      },
      "execution_count": null,
      "outputs": []
    },
    {
      "cell_type": "code",
      "source": [
        "data.loc[:, \"one\"] = 1\n",
        "data\n",
        "data.iloc[2] = 5\n",
        "data\n",
        "data.loc[data[\"four\"] > 5] = 3\n",
        "data"
      ],
      "metadata": {
        "id": "qdMQmUx0zlBg"
      },
      "execution_count": null,
      "outputs": []
    },
    {
      "cell_type": "code",
      "source": [
        "data.loc[data.three == 5][\"three\"] = 6"
      ],
      "metadata": {
        "id": "tDgMZKUXzlBg"
      },
      "execution_count": null,
      "outputs": []
    },
    {
      "cell_type": "code",
      "source": [
        "data"
      ],
      "metadata": {
        "id": "j6Zvhn7YzlBg"
      },
      "execution_count": null,
      "outputs": []
    },
    {
      "cell_type": "code",
      "source": [
        "data.loc[data.three == 5, \"three\"] = 6\n",
        "data"
      ],
      "metadata": {
        "id": "-vGgAiK_zlBg"
      },
      "execution_count": null,
      "outputs": []
    },
    {
      "cell_type": "code",
      "source": [
        "s1 = pd.Series([7.3, -2.5, 3.4, 1.5], index=[\"a\", \"c\", \"d\", \"e\"])\n",
        "s2 = pd.Series([-2.1, 3.6, -1.5, 4, 3.1],\n",
        "               index=[\"a\", \"c\", \"e\", \"f\", \"g\"])\n",
        "s1\n",
        "s2"
      ],
      "metadata": {
        "id": "eaDGthHbzlBh"
      },
      "execution_count": null,
      "outputs": []
    },
    {
      "cell_type": "code",
      "source": [
        "s1 + s2"
      ],
      "metadata": {
        "id": "ZAcZEVhCzlBh"
      },
      "execution_count": null,
      "outputs": []
    },
    {
      "cell_type": "code",
      "source": [
        "df1 = pd.DataFrame(np.arange(9.).reshape((3, 3)), columns=list(\"bcd\"),\n",
        "                   index=[\"Ohio\", \"Texas\", \"Colorado\"])\n",
        "df2 = pd.DataFrame(np.arange(12.).reshape((4, 3)), columns=list(\"bde\"),\n",
        "                   index=[\"Utah\", \"Ohio\", \"Texas\", \"Oregon\"])\n",
        "df1\n",
        "df2"
      ],
      "metadata": {
        "id": "ftJm58qpzlBh"
      },
      "execution_count": null,
      "outputs": []
    },
    {
      "cell_type": "code",
      "source": [
        "df1 + df2"
      ],
      "metadata": {
        "id": "mEQNRERNzlBh"
      },
      "execution_count": null,
      "outputs": []
    },
    {
      "cell_type": "code",
      "source": [
        "df1 = pd.DataFrame({\"A\": [1, 2]})\n",
        "df2 = pd.DataFrame({\"B\": [3, 4]})\n",
        "df1\n",
        "df2\n",
        "df1 + df2"
      ],
      "metadata": {
        "id": "hrOSXoHnzlBh"
      },
      "execution_count": null,
      "outputs": []
    },
    {
      "cell_type": "code",
      "source": [
        "df1 = pd.DataFrame(np.arange(12.).reshape((3, 4)),\n",
        "                   columns=list(\"abcd\"))\n",
        "df2 = pd.DataFrame(np.arange(20.).reshape((4, 5)),\n",
        "                   columns=list(\"abcde\"))\n",
        "df2.loc[1, \"b\"] = np.nan\n",
        "df1\n",
        "df2"
      ],
      "metadata": {
        "id": "rOW6vhqSzlBj"
      },
      "execution_count": null,
      "outputs": []
    },
    {
      "cell_type": "code",
      "source": [
        "df1 + df2"
      ],
      "metadata": {
        "id": "negJaYbQzlBk"
      },
      "execution_count": null,
      "outputs": []
    },
    {
      "cell_type": "code",
      "source": [
        "df1.add(df2, fill_value=0)"
      ],
      "metadata": {
        "id": "ca74ggKBzlBk"
      },
      "execution_count": null,
      "outputs": []
    },
    {
      "cell_type": "code",
      "source": [
        "1 / df1\n",
        "df1.rdiv(1)"
      ],
      "metadata": {
        "id": "4asWem71zlBk"
      },
      "execution_count": null,
      "outputs": []
    },
    {
      "cell_type": "code",
      "source": [
        "df1.reindex(columns=df2.columns, fill_value=0)"
      ],
      "metadata": {
        "id": "LN_CmGiyzlBk"
      },
      "execution_count": null,
      "outputs": []
    },
    {
      "cell_type": "code",
      "source": [
        "arr = np.arange(12.).reshape((3, 4))\n",
        "arr\n",
        "arr[0]\n",
        "arr - arr[0]"
      ],
      "metadata": {
        "id": "UypKbBAuzlBl"
      },
      "execution_count": null,
      "outputs": []
    },
    {
      "cell_type": "code",
      "source": [
        "frame = pd.DataFrame(np.arange(12.).reshape((4, 3)),\n",
        "                     columns=list(\"bde\"),\n",
        "                     index=[\"Utah\", \"Ohio\", \"Texas\", \"Oregon\"])\n",
        "series = frame.iloc[0]\n",
        "frame\n",
        "series"
      ],
      "metadata": {
        "id": "9cxEgsMOzlBl"
      },
      "execution_count": null,
      "outputs": []
    },
    {
      "cell_type": "code",
      "source": [
        "frame - series"
      ],
      "metadata": {
        "id": "V-5_JgLUzlBl"
      },
      "execution_count": null,
      "outputs": []
    },
    {
      "cell_type": "code",
      "source": [
        "series2 = pd.Series(np.arange(3), index=[\"b\", \"e\", \"f\"])\n",
        "series2\n",
        "frame + series2"
      ],
      "metadata": {
        "id": "7ewxgU0RzlBq"
      },
      "execution_count": null,
      "outputs": []
    },
    {
      "cell_type": "code",
      "source": [
        "series3 = frame[\"d\"]\n",
        "frame\n",
        "series3\n",
        "frame.sub(series3, axis=\"index\")"
      ],
      "metadata": {
        "id": "cId_tEY1zlBq"
      },
      "execution_count": null,
      "outputs": []
    },
    {
      "cell_type": "code",
      "source": [
        "frame = pd.DataFrame(np.random.standard_normal((4, 3)),\n",
        "                     columns=list(\"bde\"),\n",
        "                     index=[\"Utah\", \"Ohio\", \"Texas\", \"Oregon\"])\n",
        "frame\n",
        "np.abs(frame)"
      ],
      "metadata": {
        "id": "6HWungr_zlBr"
      },
      "execution_count": null,
      "outputs": []
    },
    {
      "cell_type": "code",
      "source": [
        "def f1(x):\n",
        "    return x.max() - x.min()\n",
        "\n",
        "frame.apply(f1)"
      ],
      "metadata": {
        "id": "pEKvLiRpzlBr"
      },
      "execution_count": null,
      "outputs": []
    },
    {
      "cell_type": "code",
      "source": [
        "frame.apply(f1, axis=\"columns\")"
      ],
      "metadata": {
        "id": "TK3onQpUzlBr"
      },
      "execution_count": null,
      "outputs": []
    },
    {
      "cell_type": "code",
      "source": [
        "def f2(x):\n",
        "    return pd.Series([x.min(), x.max()], index=[\"min\", \"max\"])\n",
        "\n",
        "frame.apply(f2)"
      ],
      "metadata": {
        "id": "6XZyrfdVzlBr"
      },
      "execution_count": null,
      "outputs": []
    },
    {
      "cell_type": "code",
      "source": [
        "def my_format(x):\n",
        "    return f\"{x:.2f}\"\n",
        "\n",
        "frame.applymap(my_format)"
      ],
      "metadata": {
        "id": "eet-WL1PzlBr"
      },
      "execution_count": null,
      "outputs": []
    },
    {
      "cell_type": "code",
      "source": [
        "frame[\"e\"].map(my_format)"
      ],
      "metadata": {
        "id": "O1sBH-UTzlBr"
      },
      "execution_count": null,
      "outputs": []
    },
    {
      "cell_type": "code",
      "source": [
        "obj = pd.Series(np.arange(4), index=[\"d\", \"a\", \"b\", \"c\"])\n",
        "obj\n",
        "obj.sort_index()"
      ],
      "metadata": {
        "id": "01ICypv5zlBs"
      },
      "execution_count": null,
      "outputs": []
    },
    {
      "cell_type": "code",
      "source": [
        "frame = pd.DataFrame(np.arange(8).reshape((2, 4)),\n",
        "                     index=[\"three\", \"one\"],\n",
        "                     columns=[\"d\", \"a\", \"b\", \"c\"])\n",
        "frame\n",
        "frame.sort_index()\n",
        "frame.sort_index(axis=\"columns\")"
      ],
      "metadata": {
        "id": "v1Z81BigzlBs"
      },
      "execution_count": null,
      "outputs": []
    },
    {
      "cell_type": "code",
      "source": [
        "frame.sort_index(axis=\"columns\", ascending=False)"
      ],
      "metadata": {
        "id": "kdhnC_UizlBs"
      },
      "execution_count": null,
      "outputs": []
    },
    {
      "cell_type": "code",
      "source": [
        "obj = pd.Series([4, 7, -3, 2])\n",
        "obj.sort_values()"
      ],
      "metadata": {
        "id": "AibY4JMvzlBs"
      },
      "execution_count": null,
      "outputs": []
    },
    {
      "cell_type": "code",
      "source": [
        "obj = pd.Series([4, np.nan, 7, np.nan, -3, 2])\n",
        "obj.sort_values()"
      ],
      "metadata": {
        "id": "q4oX5rjKzlBs"
      },
      "execution_count": null,
      "outputs": []
    },
    {
      "cell_type": "code",
      "source": [
        "obj.sort_values(na_position=\"first\")"
      ],
      "metadata": {
        "id": "VycpJVjtzlBs"
      },
      "execution_count": null,
      "outputs": []
    },
    {
      "cell_type": "code",
      "source": [
        "frame = pd.DataFrame({\"b\": [4, 7, -3, 2], \"a\": [0, 1, 0, 1]})\n",
        "frame\n",
        "frame.sort_values(\"b\")"
      ],
      "metadata": {
        "id": "OTeJkPQUzlBt"
      },
      "execution_count": null,
      "outputs": []
    },
    {
      "cell_type": "code",
      "source": [
        "frame.sort_values([\"a\", \"b\"])"
      ],
      "metadata": {
        "id": "Rm5j4KCkzlBt"
      },
      "execution_count": null,
      "outputs": []
    },
    {
      "cell_type": "code",
      "source": [
        "obj = pd.Series([7, -5, 7, 4, 2, 0, 4])\n",
        "obj.rank()"
      ],
      "metadata": {
        "id": "L_ezMEnrzlBt"
      },
      "execution_count": null,
      "outputs": []
    },
    {
      "cell_type": "code",
      "source": [
        "obj.rank(method=\"first\")"
      ],
      "metadata": {
        "id": "8JEuEFkRzlBt"
      },
      "execution_count": null,
      "outputs": []
    },
    {
      "cell_type": "code",
      "source": [
        "obj.rank(ascending=False)"
      ],
      "metadata": {
        "id": "mRK7wpU0zlBu"
      },
      "execution_count": null,
      "outputs": []
    },
    {
      "cell_type": "code",
      "source": [
        "frame = pd.DataFrame({\"b\": [4.3, 7, -3, 2], \"a\": [0, 1, 0, 1],\n",
        "                      \"c\": [-2, 5, 8, -2.5]})\n",
        "frame\n",
        "frame.rank(axis=\"columns\")"
      ],
      "metadata": {
        "id": "30Elz4blzlBv"
      },
      "execution_count": null,
      "outputs": []
    },
    {
      "cell_type": "code",
      "source": [
        "obj = pd.Series(np.arange(5), index=[\"a\", \"a\", \"b\", \"b\", \"c\"])\n",
        "obj"
      ],
      "metadata": {
        "id": "cm7RuyYrzlBw"
      },
      "execution_count": null,
      "outputs": []
    },
    {
      "cell_type": "code",
      "source": [
        "obj.index.is_unique"
      ],
      "metadata": {
        "id": "3sdWy3PjzlBw"
      },
      "execution_count": null,
      "outputs": []
    },
    {
      "cell_type": "code",
      "source": [
        "obj[\"a\"]\n",
        "obj[\"c\"]"
      ],
      "metadata": {
        "id": "yIRlNxa6zlBw"
      },
      "execution_count": null,
      "outputs": []
    },
    {
      "cell_type": "code",
      "source": [
        "df = pd.DataFrame(np.random.standard_normal((5, 3)),\n",
        "                  index=[\"a\", \"a\", \"b\", \"b\", \"c\"])\n",
        "df\n",
        "df.loc[\"b\"]\n",
        "df.loc[\"c\"]"
      ],
      "metadata": {
        "id": "PapRbecLzlBw"
      },
      "execution_count": null,
      "outputs": []
    },
    {
      "cell_type": "code",
      "source": [
        "df = pd.DataFrame([[1.4, np.nan], [7.1, -4.5],\n",
        "                   [np.nan, np.nan], [0.75, -1.3]],\n",
        "                  index=[\"a\", \"b\", \"c\", \"d\"],\n",
        "                  columns=[\"one\", \"two\"])\n",
        "df"
      ],
      "metadata": {
        "id": "JnYO68yLzlBw"
      },
      "execution_count": null,
      "outputs": []
    },
    {
      "cell_type": "code",
      "source": [
        "df.sum()"
      ],
      "metadata": {
        "id": "xUQCljs2zlBx"
      },
      "execution_count": null,
      "outputs": []
    },
    {
      "cell_type": "code",
      "source": [
        "df.sum(axis=\"columns\")"
      ],
      "metadata": {
        "id": "xOktp6oNzlBx"
      },
      "execution_count": null,
      "outputs": []
    },
    {
      "cell_type": "code",
      "source": [
        "df.sum(axis=\"index\", skipna=False)\n",
        "df.sum(axis=\"columns\", skipna=False)"
      ],
      "metadata": {
        "id": "_KikDq3rzlBx"
      },
      "execution_count": null,
      "outputs": []
    },
    {
      "cell_type": "code",
      "source": [
        "df.mean(axis=\"columns\")"
      ],
      "metadata": {
        "id": "VdMkBOVezlBx"
      },
      "execution_count": null,
      "outputs": []
    },
    {
      "cell_type": "code",
      "source": [
        "df.idxmax()"
      ],
      "metadata": {
        "id": "SYJSltFQzlBx"
      },
      "execution_count": null,
      "outputs": []
    },
    {
      "cell_type": "code",
      "source": [
        "df.cumsum()"
      ],
      "metadata": {
        "id": "NWfJ2L8ezlBy"
      },
      "execution_count": null,
      "outputs": []
    },
    {
      "cell_type": "code",
      "source": [
        "df.describe()"
      ],
      "metadata": {
        "id": "vekpEvxXzlBy"
      },
      "execution_count": null,
      "outputs": []
    },
    {
      "cell_type": "code",
      "source": [
        "obj = pd.Series([\"a\", \"a\", \"b\", \"c\"] * 4)\n",
        "obj.describe()"
      ],
      "metadata": {
        "id": "b5MY2evSzlBy"
      },
      "execution_count": null,
      "outputs": []
    },
    {
      "cell_type": "code",
      "source": [
        "price = pd.read_pickle(EXAMPLES_DIR / \"yahoo_price.pkl\")\n",
        "volume = pd.read_pickle(EXAMPLES_DIR / \"yahoo_volume.pkl\")"
      ],
      "metadata": {
        "id": "P5okBQojzlBy"
      },
      "execution_count": null,
      "outputs": []
    },
    {
      "cell_type": "code",
      "source": [
        "returns = price.pct_change()\n",
        "returns.tail()"
      ],
      "metadata": {
        "id": "Tc_mk_EBzlBy"
      },
      "execution_count": null,
      "outputs": []
    },
    {
      "cell_type": "code",
      "source": [
        "returns[\"MSFT\"].corr(returns[\"IBM\"])\n",
        "returns[\"MSFT\"].cov(returns[\"IBM\"])"
      ],
      "metadata": {
        "id": "qLjr2-uezlBy"
      },
      "execution_count": null,
      "outputs": []
    },
    {
      "cell_type": "code",
      "source": [
        "returns[\"MSFT\"].corr(returns[\"IBM\"])"
      ],
      "metadata": {
        "id": "DYKscEk7zlBy"
      },
      "execution_count": null,
      "outputs": []
    },
    {
      "cell_type": "code",
      "source": [
        "returns.corr()\n",
        "returns.cov()"
      ],
      "metadata": {
        "id": "HnYcajmczlB0"
      },
      "execution_count": null,
      "outputs": []
    },
    {
      "cell_type": "code",
      "source": [
        "returns.corrwith(returns[\"IBM\"])"
      ],
      "metadata": {
        "id": "SK095dYVzlB0"
      },
      "execution_count": null,
      "outputs": []
    },
    {
      "cell_type": "code",
      "source": [
        "returns.corrwith(volume)"
      ],
      "metadata": {
        "id": "SYb43IvCzlB0"
      },
      "execution_count": null,
      "outputs": []
    },
    {
      "cell_type": "code",
      "source": [
        "obj = pd.Series([\"c\", \"a\", \"d\", \"a\", \"a\", \"b\", \"b\", \"c\", \"c\"])"
      ],
      "metadata": {
        "id": "sOETGgoYzlB0"
      },
      "execution_count": null,
      "outputs": []
    },
    {
      "cell_type": "code",
      "source": [
        "uniques = obj.unique()\n",
        "uniques"
      ],
      "metadata": {
        "id": "G4jeysJIzlB1"
      },
      "execution_count": null,
      "outputs": []
    },
    {
      "cell_type": "code",
      "source": [
        "obj.value_counts()"
      ],
      "metadata": {
        "id": "Zf1Bak3pzlB1"
      },
      "execution_count": null,
      "outputs": []
    },
    {
      "cell_type": "code",
      "source": [
        "pd.value_counts(obj.to_numpy(), sort=False)"
      ],
      "metadata": {
        "id": "3ygiRGjozlB1"
      },
      "execution_count": null,
      "outputs": []
    },
    {
      "cell_type": "code",
      "source": [
        "obj\n",
        "mask = obj.isin([\"b\", \"c\"])\n",
        "mask\n",
        "obj[mask]"
      ],
      "metadata": {
        "id": "N0Xo1m-AzlB1"
      },
      "execution_count": null,
      "outputs": []
    },
    {
      "cell_type": "code",
      "source": [
        "to_match = pd.Series([\"c\", \"a\", \"b\", \"b\", \"c\", \"a\"])\n",
        "unique_vals = pd.Series([\"c\", \"b\", \"a\"])\n",
        "indices = pd.Index(unique_vals).get_indexer(to_match)\n",
        "indices"
      ],
      "metadata": {
        "id": "_SxDTF0QzlB1"
      },
      "execution_count": null,
      "outputs": []
    },
    {
      "cell_type": "code",
      "source": [
        "data = pd.DataFrame({\"Qu1\": [1, 3, 4, 3, 4],\n",
        "                     \"Qu2\": [2, 3, 1, 2, 3],\n",
        "                     \"Qu3\": [1, 5, 2, 4, 4]})\n",
        "data"
      ],
      "metadata": {
        "id": "L9IZC1UzzlB1"
      },
      "execution_count": null,
      "outputs": []
    },
    {
      "cell_type": "code",
      "source": [
        "data[\"Qu1\"].value_counts().sort_index()"
      ],
      "metadata": {
        "id": "te1kGuqWzlB4"
      },
      "execution_count": null,
      "outputs": []
    },
    {
      "cell_type": "code",
      "source": [
        "result = data.apply(pd.value_counts).fillna(0)\n",
        "result"
      ],
      "metadata": {
        "id": "-Xq5GnauzlB_"
      },
      "execution_count": null,
      "outputs": []
    },
    {
      "cell_type": "code",
      "source": [
        "data = pd.DataFrame({\"a\": [1, 1, 1, 2, 2], \"b\": [0, 0, 1, 0, 0]})\n",
        "data\n",
        "data.value_counts()"
      ],
      "metadata": {
        "id": "SgTcjmvPzlB_"
      },
      "execution_count": null,
      "outputs": []
    },
    {
      "cell_type": "code",
      "source": [],
      "metadata": {
        "id": "aRhZPLaVzlCA"
      },
      "execution_count": null,
      "outputs": []
    }
  ]
}

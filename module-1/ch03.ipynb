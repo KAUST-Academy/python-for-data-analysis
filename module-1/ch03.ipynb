{
  "metadata": {
    "kernelspec": {
      "display_name": "Python 3 (ipykernel)",
      "language": "python",
      "name": "python3"
    },
    "language_info": {
      "codemirror_mode": {
        "name": "ipython",
        "version": 3
      },
      "file_extension": ".py",
      "mimetype": "text/x-python",
      "name": "python",
      "nbconvert_exporter": "python",
      "pygments_lexer": "ipython3",
      "version": "3.7.12"
    },
    "colab": {
      "provenance": []
    }
  },
  "nbformat_minor": 0,
  "nbformat": 4,
  "cells": [
    {
      "cell_type": "code",
      "source": [
        "import io\n",
        "import pathlib\n",
        "import requests\n",
        "import zipfile"
      ],
      "metadata": {
        "id": "Gq1pWbfO002_"
      },
      "execution_count": null,
      "outputs": []
    },
    {
      "cell_type": "code",
      "source": [
        "ROOT_DIR = pathlib.Path(\"..\")\n",
        "\n",
        "EXAMPLES_URL = \"https://github.com/KAUST-Academy/python-for-data-analysis/raw/november-2022/examples.zip\"\n",
        "\n",
        "response = requests.get(EXAMPLES_URL)\n",
        "z = zipfile.ZipFile(io.BytesIO(response.content))\n",
        "z.extractall(ROOT_DIR)"
      ],
      "metadata": {
        "id": "zY_GOphY01rR"
      },
      "execution_count": null,
      "outputs": []
    },
    {
      "cell_type": "code",
      "source": [
        "EXAMPLES_DIR = ROOT_DIR / \"examples\""
      ],
      "metadata": {
        "id": "93vHI2O905Qi"
      },
      "execution_count": null,
      "outputs": []
    },
    {
      "cell_type": "code",
      "source": [
        "!ls $EXAMPLES_DIR"
      ],
      "metadata": {
        "id": "hXByPNe71DAA"
      },
      "execution_count": null,
      "outputs": []
    },
    {
      "cell_type": "code",
      "source": [
        "tup = (4, 5, 6)\n",
        "tup"
      ],
      "metadata": {
        "trusted": true,
        "id": "9RNFLWnR0tsO"
      },
      "execution_count": null,
      "outputs": []
    },
    {
      "cell_type": "code",
      "source": [
        "tup = 4, 5, 6\n",
        "tup"
      ],
      "metadata": {
        "trusted": true,
        "id": "zJLqtGFh0tsZ"
      },
      "execution_count": null,
      "outputs": []
    },
    {
      "cell_type": "code",
      "source": [
        "print(tuple([4, 0, 2]))\n",
        "tup = tuple('string')\n",
        "print(tup)"
      ],
      "metadata": {
        "trusted": true,
        "id": "lZ7O0rl-0tsb"
      },
      "execution_count": null,
      "outputs": []
    },
    {
      "cell_type": "code",
      "source": [
        "tup[0]"
      ],
      "metadata": {
        "trusted": true,
        "id": "lqpcf1a20tsc"
      },
      "execution_count": null,
      "outputs": []
    },
    {
      "cell_type": "code",
      "source": [
        "nested_tup = (4, 5, 6), (7, 8)\n",
        "print(nested_tup)\n",
        "print(nested_tup[0])\n",
        "print(nested_tup[1])"
      ],
      "metadata": {
        "trusted": true,
        "id": "Ak1rPMSc0tsc"
      },
      "execution_count": null,
      "outputs": []
    },
    {
      "cell_type": "code",
      "source": [
        "tup = tuple(['foo', [1, 2], True])\n",
        "tup[2] = False"
      ],
      "metadata": {
        "trusted": true,
        "id": "440t4fV00tsd"
      },
      "execution_count": null,
      "outputs": []
    },
    {
      "cell_type": "code",
      "source": [
        "tup[1].append(3)\n",
        "tup"
      ],
      "metadata": {
        "trusted": true,
        "id": "Rb-DewK80tsf"
      },
      "execution_count": null,
      "outputs": []
    },
    {
      "cell_type": "code",
      "source": [
        "(4, None, 'foo') + (6, 0) + ('bar',)"
      ],
      "metadata": {
        "trusted": true,
        "id": "cIrP5P2l0tsg"
      },
      "execution_count": null,
      "outputs": []
    },
    {
      "cell_type": "code",
      "source": [
        "('foo', 'bar') * 4"
      ],
      "metadata": {
        "trusted": true,
        "id": "7_bqSZkY0tsh"
      },
      "execution_count": null,
      "outputs": []
    },
    {
      "cell_type": "code",
      "source": [
        "tup = (4, 5, 6)\n",
        "a, b, c = tup\n",
        "b"
      ],
      "metadata": {
        "trusted": true,
        "id": "6yaRuC4z0tsi"
      },
      "execution_count": null,
      "outputs": []
    },
    {
      "cell_type": "code",
      "source": [
        "tup = 4, 5, (6, 7)\n",
        "a, b, (c, d) = tup\n",
        "d"
      ],
      "metadata": {
        "trusted": true,
        "id": "8sWPcbtB0tsj"
      },
      "execution_count": null,
      "outputs": []
    },
    {
      "cell_type": "code",
      "source": [
        "a, b = 1, 2\n",
        "print(a)\n",
        "print(b)"
      ],
      "metadata": {
        "trusted": true,
        "id": "zEIxoBuV0tsk"
      },
      "execution_count": null,
      "outputs": []
    },
    {
      "cell_type": "code",
      "source": [
        "b, a = a, b\n",
        "print(a)\n",
        "print(b)"
      ],
      "metadata": {
        "trusted": true,
        "id": "ZDI9GuX40tsk"
      },
      "execution_count": null,
      "outputs": []
    },
    {
      "cell_type": "code",
      "source": [
        "seq = [(1, 2, 3), (4, 5, 6), (7, 8, 9)]\n",
        "for a, b, c in seq:\n",
        "    print(f'a={a}, b={b}, c={c}')"
      ],
      "metadata": {
        "trusted": true,
        "id": "AwdsKyoa0tsn"
      },
      "execution_count": null,
      "outputs": []
    },
    {
      "cell_type": "code",
      "source": [
        "values = 1, 2, 3, 4, 5\n",
        "a, b, *rest = values\n",
        "print(a)\n",
        "print(b)\n",
        "print(rest)"
      ],
      "metadata": {
        "trusted": true,
        "id": "HpTPRTtV0tso"
      },
      "execution_count": null,
      "outputs": []
    },
    {
      "cell_type": "code",
      "source": [
        "a, b, *_ = values"
      ],
      "metadata": {
        "trusted": true,
        "id": "DguisOiB0tso"
      },
      "execution_count": null,
      "outputs": []
    },
    {
      "cell_type": "code",
      "source": [
        "a = (1, 2, 2, 2, 3, 4, 2)\n",
        "a.count(2)"
      ],
      "metadata": {
        "trusted": true,
        "id": "rmZA4ggW0tso"
      },
      "execution_count": null,
      "outputs": []
    },
    {
      "cell_type": "code",
      "source": [
        "a_list = [2, 3, 7, None]\n",
        "\n",
        "tup = (\"foo\", \"bar\", \"baz\")\n",
        "b_list = list(tup)\n",
        "print(b_list)\n",
        "b_list[1] = \"peekaboo\"\n",
        "print(b_list)"
      ],
      "metadata": {
        "trusted": true,
        "id": "IrKjjJnm0tsp"
      },
      "execution_count": null,
      "outputs": []
    },
    {
      "cell_type": "code",
      "source": [
        "gen = range(10)\n",
        "print(gen)\n",
        "print(list(gen))"
      ],
      "metadata": {
        "trusted": true,
        "id": "UxpEahog0tss"
      },
      "execution_count": null,
      "outputs": []
    },
    {
      "cell_type": "code",
      "source": [
        "b_list.append(\"dwarf\")\n",
        "b_list"
      ],
      "metadata": {
        "trusted": true,
        "id": "KRTgU2Hq0tst"
      },
      "execution_count": null,
      "outputs": []
    },
    {
      "cell_type": "code",
      "source": [
        "b_list.insert(1, \"red\")\n",
        "b_list"
      ],
      "metadata": {
        "trusted": true,
        "id": "MaCvoRyN0tst"
      },
      "execution_count": null,
      "outputs": []
    },
    {
      "cell_type": "code",
      "source": [
        "b_list.pop(2)\n",
        "b_list"
      ],
      "metadata": {
        "trusted": true,
        "id": "bWWuDV2-0tst"
      },
      "execution_count": null,
      "outputs": []
    },
    {
      "cell_type": "code",
      "source": [
        "b_list.append(\"foo\")\n",
        "print(b_list)\n",
        "b_list.remove(\"foo\")\n",
        "print(b_list)"
      ],
      "metadata": {
        "trusted": true,
        "id": "sGRq7Ex90tsu"
      },
      "execution_count": null,
      "outputs": []
    },
    {
      "cell_type": "code",
      "source": [
        "\"dwarf\" in b_list"
      ],
      "metadata": {
        "trusted": true,
        "id": "QNMGQCyN0tsu"
      },
      "execution_count": null,
      "outputs": []
    },
    {
      "cell_type": "code",
      "source": [
        "\"dwarf\" not in b_list"
      ],
      "metadata": {
        "trusted": true,
        "id": "_OILMocg0tsv"
      },
      "execution_count": null,
      "outputs": []
    },
    {
      "cell_type": "code",
      "source": [
        "[4, None, \"foo\"] + [7, 8, (2, 3)]"
      ],
      "metadata": {
        "trusted": true,
        "id": "C_1fUewt0tsv"
      },
      "execution_count": null,
      "outputs": []
    },
    {
      "cell_type": "code",
      "source": [
        "x = [4, None, \"foo\"]\n",
        "x.extend([7, 8, (2, 3)])\n",
        "x"
      ],
      "metadata": {
        "trusted": true,
        "id": "pBslD7ju0tsv"
      },
      "execution_count": null,
      "outputs": []
    },
    {
      "cell_type": "code",
      "source": [
        "a = [7, 2, 5, 1, 3]\n",
        "a.sort()\n",
        "a"
      ],
      "metadata": {
        "trusted": true,
        "id": "dI2A50R60tsv"
      },
      "execution_count": null,
      "outputs": []
    },
    {
      "cell_type": "code",
      "source": [
        "b = [\"saw\", \"small\", \"He\", \"foxes\", \"six\"]\n",
        "b.sort(key=len)\n",
        "b"
      ],
      "metadata": {
        "trusted": true,
        "id": "RpfZPHO50tsw"
      },
      "execution_count": null,
      "outputs": []
    },
    {
      "cell_type": "code",
      "source": [
        "seq = [7, 2, 3, 7, 5, 6, 0, 1]\n",
        "seq[1:5]"
      ],
      "metadata": {
        "trusted": true,
        "id": "BpWmA-lT0tsw"
      },
      "execution_count": null,
      "outputs": []
    },
    {
      "cell_type": "code",
      "source": [
        "seq[3:5] = [6, 3]\n",
        "seq"
      ],
      "metadata": {
        "trusted": true,
        "id": "IsIecA270tsw"
      },
      "execution_count": null,
      "outputs": []
    },
    {
      "cell_type": "code",
      "source": [
        "print(seq[:5])\n",
        "print(seq[3:])"
      ],
      "metadata": {
        "trusted": true,
        "id": "1T2GMy7g0tsw"
      },
      "execution_count": null,
      "outputs": []
    },
    {
      "cell_type": "code",
      "source": [
        "print(seq[-4:])\n",
        "print(seq[-6:-2])"
      ],
      "metadata": {
        "trusted": true,
        "id": "3b5gTbiv0ts0"
      },
      "execution_count": null,
      "outputs": []
    },
    {
      "cell_type": "code",
      "source": [
        "seq[::2]"
      ],
      "metadata": {
        "trusted": true,
        "id": "-ZVaFjiH0ts0"
      },
      "execution_count": null,
      "outputs": []
    },
    {
      "cell_type": "code",
      "source": [
        "seq[::-1]"
      ],
      "metadata": {
        "trusted": true,
        "id": "vFYTPWCC0ts0"
      },
      "execution_count": null,
      "outputs": []
    },
    {
      "cell_type": "code",
      "source": [
        "empty_dict = {}\n",
        "d1 = {\"a\": \"some value\", \"b\": [1, 2, 3, 4]}\n",
        "d1"
      ],
      "metadata": {
        "trusted": true,
        "id": "BoHd55fU0ts0"
      },
      "execution_count": null,
      "outputs": []
    },
    {
      "cell_type": "code",
      "source": [
        "d1[7] = \"an integer\"\n",
        "print(d1)\n",
        "print(d1[\"b\"])"
      ],
      "metadata": {
        "trusted": true,
        "id": "nOy5ftKP0ts1"
      },
      "execution_count": null,
      "outputs": []
    },
    {
      "cell_type": "code",
      "source": [
        "\"b\" in d1"
      ],
      "metadata": {
        "trusted": true,
        "id": "O0KcuEqh0ts1"
      },
      "execution_count": null,
      "outputs": []
    },
    {
      "cell_type": "code",
      "source": [
        "d1[5] = \"some value\"\n",
        "print(d1)\n",
        "d1[\"dummy\"] = \"another value\"\n",
        "print(d1)\n",
        "del d1[5]\n",
        "print(d1)\n",
        "ret = d1.pop(\"dummy\")\n",
        "print(ret)\n",
        "print(d1)"
      ],
      "metadata": {
        "trusted": true,
        "id": "m29ICCSB0ts2"
      },
      "execution_count": null,
      "outputs": []
    },
    {
      "cell_type": "code",
      "source": [
        "print(list(d1.keys()))\n",
        "print(list(d1.values()))"
      ],
      "metadata": {
        "trusted": true,
        "id": "PDWzNtOa0ts2"
      },
      "execution_count": null,
      "outputs": []
    },
    {
      "cell_type": "code",
      "source": [
        "print(list(d1.items()))"
      ],
      "metadata": {
        "trusted": true,
        "id": "bOMDH_hI0ts3"
      },
      "execution_count": null,
      "outputs": []
    },
    {
      "cell_type": "code",
      "source": [
        "d1.update({\"b\": \"foo\", \"c\": 12})\n",
        "print(d1)"
      ],
      "metadata": {
        "trusted": true,
        "id": "YpxNFjaG0ts3"
      },
      "execution_count": null,
      "outputs": []
    },
    {
      "cell_type": "code",
      "source": [
        "tuples = zip(range(5), reversed(range(5)))\n",
        "print(tuples)\n",
        "mapping = dict(tuples)\n",
        "print(mapping)"
      ],
      "metadata": {
        "trusted": true,
        "id": "ZJBDF_Fg0ts3"
      },
      "execution_count": null,
      "outputs": []
    },
    {
      "cell_type": "code",
      "source": [
        "words = [\"apple\", \"bat\", \"bar\", \"atom\", \"book\"]\n",
        "by_letter = {}\n",
        "\n",
        "for word in words:\n",
        "    letter = word[0]\n",
        "    if letter not in by_letter:\n",
        "        by_letter[letter] = [word]\n",
        "    else:\n",
        "        by_letter[letter].append(word)\n",
        "\n",
        "by_letter"
      ],
      "metadata": {
        "trusted": true,
        "id": "EDp5j55z0ts3"
      },
      "execution_count": null,
      "outputs": []
    },
    {
      "cell_type": "code",
      "source": [
        "by_letter = {}\n",
        "for word in words:\n",
        "    letter = word[0]\n",
        "    by_letter.setdefault(letter, []).append(word)\n",
        "by_letter"
      ],
      "metadata": {
        "trusted": true,
        "id": "AV9uFzLO0ts3"
      },
      "execution_count": null,
      "outputs": []
    },
    {
      "cell_type": "code",
      "source": [
        "from collections import defaultdict\n",
        "\n",
        "by_letter = defaultdict(list)\n",
        "for word in words:\n",
        "    by_letter[word[0]].append(word)"
      ],
      "metadata": {
        "trusted": true,
        "id": "q3Hz3gVr0ts4"
      },
      "execution_count": null,
      "outputs": []
    },
    {
      "cell_type": "code",
      "source": [
        "print(hash(\"string\"))\n",
        "print(hash((1, 2, (2, 3))))\n",
        "print(hash((1, 2, [2, 3]))) # fails because lists are mutable"
      ],
      "metadata": {
        "trusted": true,
        "id": "0wTUVjCo0ts4"
      },
      "execution_count": null,
      "outputs": []
    },
    {
      "cell_type": "code",
      "source": [
        "d = {}\n",
        "d[tuple([1, 2, 3])] = 5\n",
        "d"
      ],
      "metadata": {
        "trusted": true,
        "id": "uwx_I5Ur0ts4"
      },
      "execution_count": null,
      "outputs": []
    },
    {
      "cell_type": "code",
      "source": [
        "print(set([2, 2, 2, 1, 3, 3]))\n",
        "print({2, 2, 2, 1, 3, 3})"
      ],
      "metadata": {
        "trusted": true,
        "id": "EYoe3eAX0ts4"
      },
      "execution_count": null,
      "outputs": []
    },
    {
      "cell_type": "code",
      "source": [
        "a = {1, 2, 3, 4, 5}\n",
        "b = {3, 4, 5, 6, 7, 8}"
      ],
      "metadata": {
        "trusted": true,
        "id": "u1thZh3l0ts5"
      },
      "execution_count": null,
      "outputs": []
    },
    {
      "cell_type": "code",
      "source": [
        "print(a.union(b))\n",
        "print(a | b)"
      ],
      "metadata": {
        "trusted": true,
        "id": "lK_jsL-g0ts5"
      },
      "execution_count": null,
      "outputs": []
    },
    {
      "cell_type": "code",
      "source": [
        "print(a.intersection(b))\n",
        "print(a & b)"
      ],
      "metadata": {
        "trusted": true,
        "id": "sNj9oJvQ0ts5"
      },
      "execution_count": null,
      "outputs": []
    },
    {
      "cell_type": "code",
      "source": [
        "c = a.copy()\n",
        "c |= b\n",
        "print(c)\n",
        "d = a.copy()\n",
        "d &= b\n",
        "print(d)"
      ],
      "metadata": {
        "trusted": true,
        "id": "xLck0a-t0ts5"
      },
      "execution_count": null,
      "outputs": []
    },
    {
      "cell_type": "code",
      "source": [
        "my_data = [1, 2, 3, 4]\n",
        "my_set = {tuple(my_data)}\n",
        "my_set"
      ],
      "metadata": {
        "trusted": true,
        "id": "gY8JvejE0ts5"
      },
      "execution_count": null,
      "outputs": []
    },
    {
      "cell_type": "code",
      "source": [
        "a_set = {1, 2, 3, 4, 5}\n",
        "print({1, 2, 3}.issubset(a_set))\n",
        "print(a_set.issuperset({1, 2, 3}))"
      ],
      "metadata": {
        "trusted": true,
        "id": "7B1swrwT0ts6"
      },
      "execution_count": null,
      "outputs": []
    },
    {
      "cell_type": "code",
      "source": [
        "{1, 2, 3} == {3, 2, 1}"
      ],
      "metadata": {
        "trusted": true,
        "id": "UJ0MAYTA0ts6"
      },
      "execution_count": null,
      "outputs": []
    },
    {
      "cell_type": "code",
      "source": [
        "sorted([7, 1, 2, 6, 0, 3, 2])\n",
        "sorted(\"horse race\")"
      ],
      "metadata": {
        "trusted": true,
        "id": "LdpI-zeY0ttC"
      },
      "execution_count": null,
      "outputs": []
    },
    {
      "cell_type": "code",
      "source": [
        "seq1 = [\"foo\", \"bar\", \"baz\"]\n",
        "seq2 = [\"one\", \"two\", \"three\"]\n",
        "zipped = zip(seq1, seq2)\n",
        "list(zipped)"
      ],
      "metadata": {
        "trusted": true,
        "id": "RB4_d7UU0ttE"
      },
      "execution_count": null,
      "outputs": []
    },
    {
      "cell_type": "code",
      "source": [
        "seq3 = [False, True]\n",
        "list(zip(seq1, seq2, seq3))"
      ],
      "metadata": {
        "trusted": true,
        "id": "Z40VoB3c0ttE"
      },
      "execution_count": null,
      "outputs": []
    },
    {
      "cell_type": "code",
      "source": [
        "for index, (a, b) in enumerate(zip(seq1, seq2)):\n",
        "    print(f\"{index}: {a}, {b}\")\n"
      ],
      "metadata": {
        "trusted": true,
        "id": "53Bq_UyB0ttF"
      },
      "execution_count": null,
      "outputs": []
    },
    {
      "cell_type": "code",
      "source": [
        "list(reversed(range(10)))"
      ],
      "metadata": {
        "trusted": true,
        "id": "-hw9cSIf0ttF"
      },
      "execution_count": null,
      "outputs": []
    },
    {
      "cell_type": "code",
      "source": [
        "strings = [\"a\", \"as\", \"bat\", \"car\", \"dove\", \"python\"]\n",
        "[x.upper() for x in strings if len(x) > 2]"
      ],
      "metadata": {
        "trusted": true,
        "id": "ZLYHTt-Y0ttF"
      },
      "execution_count": null,
      "outputs": []
    },
    {
      "cell_type": "code",
      "source": [
        "unique_lengths = {len(x) for x in strings}\n",
        "unique_lengths"
      ],
      "metadata": {
        "trusted": true,
        "id": "ojs2gXXE0ttF"
      },
      "execution_count": null,
      "outputs": []
    },
    {
      "cell_type": "code",
      "source": [
        "set(map(len, strings))"
      ],
      "metadata": {
        "trusted": true,
        "id": "IASdaO8k0ttG"
      },
      "execution_count": null,
      "outputs": []
    },
    {
      "cell_type": "code",
      "source": [
        "loc_mapping = {value: index for index, value in enumerate(strings)}\n",
        "loc_mapping"
      ],
      "metadata": {
        "trusted": true,
        "id": "pDO0udkw0ttG"
      },
      "execution_count": null,
      "outputs": []
    },
    {
      "cell_type": "code",
      "source": [
        "all_data = [[\"John\", \"Emily\", \"Michael\", \"Mary\", \"Steven\"],\n",
        "            [\"Maria\", \"Juan\", \"Javier\", \"Natalia\", \"Pilar\"]]"
      ],
      "metadata": {
        "trusted": true,
        "id": "Cv8ujEhW0ttH"
      },
      "execution_count": null,
      "outputs": []
    },
    {
      "cell_type": "code",
      "source": [
        "names_of_interest = []\n",
        "for names in all_data:\n",
        "    enough_as = [name for name in names if name.count(\"a\") >= 2]\n",
        "    names_of_interest.extend(enough_as)\n",
        "names_of_interest"
      ],
      "metadata": {
        "trusted": true,
        "id": "oD9tSwnC0ttH"
      },
      "execution_count": null,
      "outputs": []
    },
    {
      "cell_type": "code",
      "source": [
        "result = [name for names in all_data for name in names\n",
        "          if name.count(\"a\") >= 2]\n",
        "result"
      ],
      "metadata": {
        "trusted": true,
        "id": "Ruw86xYs0ttH"
      },
      "execution_count": null,
      "outputs": []
    },
    {
      "cell_type": "code",
      "source": [
        "some_tuples = [(1, 2, 3), (4, 5, 6), (7, 8, 9)]\n",
        "flattened = [x for tup in some_tuples for x in tup]\n",
        "flattened"
      ],
      "metadata": {
        "trusted": true,
        "id": "qhEcIjkw0ttH"
      },
      "execution_count": null,
      "outputs": []
    },
    {
      "cell_type": "code",
      "source": [
        "flattened = []\n",
        "\n",
        "for tup in some_tuples:\n",
        "    for x in tup:\n",
        "        flattened.append(x)"
      ],
      "metadata": {
        "trusted": true,
        "id": "nSjDYv5t0ttI"
      },
      "execution_count": null,
      "outputs": []
    },
    {
      "cell_type": "code",
      "source": [
        "[[x for x in tup] for tup in some_tuples]"
      ],
      "metadata": {
        "trusted": true,
        "id": "9J_7Fco60ttI"
      },
      "execution_count": null,
      "outputs": []
    },
    {
      "cell_type": "code",
      "source": [
        "def my_function(x, y):\n",
        "    return x + y"
      ],
      "metadata": {
        "trusted": true,
        "id": "_e8aqpzN0ttI"
      },
      "execution_count": null,
      "outputs": []
    },
    {
      "cell_type": "code",
      "source": [
        "print(my_function(1, 2))\n",
        "result = my_function(1, 2)\n",
        "result"
      ],
      "metadata": {
        "trusted": true,
        "id": "DPiYpv-T0ttI"
      },
      "execution_count": null,
      "outputs": []
    },
    {
      "cell_type": "code",
      "source": [
        "def function_without_return(x):\n",
        "    print(x)\n",
        "\n",
        "result = function_without_return(\"hello!\")\n",
        "print(result)"
      ],
      "metadata": {
        "trusted": true,
        "id": "7-YRr7j20ttI"
      },
      "execution_count": null,
      "outputs": []
    },
    {
      "cell_type": "code",
      "source": [
        "def my_function2(x, y, z=1.5):\n",
        "    if z > 1:\n",
        "        return z * (x + y)\n",
        "    else:\n",
        "        return z / (x + y)"
      ],
      "metadata": {
        "trusted": true,
        "id": "5uBpfUDB0ttI"
      },
      "execution_count": null,
      "outputs": []
    },
    {
      "cell_type": "code",
      "source": [
        "print(my_function2(5, 6, z=0.7))\n",
        "print(my_function2(3.14, 7, 3.5))\n",
        "print(my_function2(10, 20))"
      ],
      "metadata": {
        "trusted": true,
        "id": "Todz86y10ttJ"
      },
      "execution_count": null,
      "outputs": []
    },
    {
      "cell_type": "code",
      "source": [
        "a = []\n",
        "def func():\n",
        "    for i in range(5):\n",
        "        a.append(i)"
      ],
      "metadata": {
        "trusted": true,
        "id": "nnxeEQHg0ttJ"
      },
      "execution_count": null,
      "outputs": []
    },
    {
      "cell_type": "code",
      "source": [
        "print(func())\n",
        "print(a)\n",
        "print(func())\n",
        "print(a)"
      ],
      "metadata": {
        "trusted": true,
        "id": "bI48eA810ttJ"
      },
      "execution_count": null,
      "outputs": []
    },
    {
      "cell_type": "code",
      "source": [
        "a = None\n",
        "\n",
        "def bind_a_variable():\n",
        "    global a\n",
        "    a = []\n",
        "bind_a_variable()\n",
        "\n",
        "print(a)"
      ],
      "metadata": {
        "trusted": true,
        "id": "5oJtztsx0ttJ"
      },
      "execution_count": null,
      "outputs": []
    },
    {
      "cell_type": "code",
      "source": [
        "states = [\"   Alabama \", \"Georgia!\", \"Georgia\", \"georgia\", \"FlOrIda\",\n",
        "          \"south   carolina##\", \"West virginia?\"]"
      ],
      "metadata": {
        "trusted": true,
        "id": "DVz1h2V10ttJ"
      },
      "execution_count": null,
      "outputs": []
    },
    {
      "cell_type": "code",
      "source": [
        "import re\n",
        "\n",
        "def clean_strings(strings):\n",
        "    result = []\n",
        "    for value in strings:\n",
        "        value = value.strip()\n",
        "        value = re.sub(\"[!#?]\", \"\", value)\n",
        "        value = value.title()\n",
        "        result.append(value)\n",
        "    return result"
      ],
      "metadata": {
        "trusted": true,
        "id": "myyLz2xb0ttK"
      },
      "execution_count": null,
      "outputs": []
    },
    {
      "cell_type": "code",
      "source": [
        "clean_strings(states)"
      ],
      "metadata": {
        "trusted": true,
        "id": "qtiRHx2Q0ttK"
      },
      "execution_count": null,
      "outputs": []
    },
    {
      "cell_type": "code",
      "source": [
        "def remove_punctuation(value):\n",
        "    return re.sub(\"[!#?]\", \"\", value)\n",
        "\n",
        "clean_ops = [str.strip, remove_punctuation, str.title]\n",
        "\n",
        "def clean_strings(strings, ops):\n",
        "    result = []\n",
        "    for value in strings:\n",
        "        for func in ops:\n",
        "            value = func(value)\n",
        "        result.append(value)\n",
        "    return result"
      ],
      "metadata": {
        "trusted": true,
        "id": "IuPDGBoQ0ttO"
      },
      "execution_count": null,
      "outputs": []
    },
    {
      "cell_type": "code",
      "source": [
        "clean_strings(states, clean_ops)"
      ],
      "metadata": {
        "trusted": true,
        "id": "OcSrl_uk0ttP"
      },
      "execution_count": null,
      "outputs": []
    },
    {
      "cell_type": "code",
      "source": [
        "for x in map(remove_punctuation, states):\n",
        "    print(x)"
      ],
      "metadata": {
        "trusted": true,
        "id": "KVpZdtSi0ttP"
      },
      "execution_count": null,
      "outputs": []
    },
    {
      "cell_type": "code",
      "source": [
        "def short_function(x):\n",
        "    return x * 2\n",
        "\n",
        "equiv_anon = lambda x: x * 2"
      ],
      "metadata": {
        "trusted": true,
        "id": "MZm_UwEO0ttP"
      },
      "execution_count": null,
      "outputs": []
    },
    {
      "cell_type": "code",
      "source": [
        "def apply_to_list(some_list, f):\n",
        "    return [f(x) for x in some_list]\n",
        "\n",
        "ints = [4, 0, 1, 5, 6]\n",
        "apply_to_list(ints, lambda x: x * 2)"
      ],
      "metadata": {
        "trusted": true,
        "id": "1nspDsp40ttP"
      },
      "execution_count": null,
      "outputs": []
    },
    {
      "cell_type": "code",
      "source": [
        "strings = [\"foo\", \"card\", \"bar\", \"aaaa\", \"abab\"]"
      ],
      "metadata": {
        "trusted": true,
        "id": "hXAfMN830ttP"
      },
      "execution_count": null,
      "outputs": []
    },
    {
      "cell_type": "code",
      "source": [
        "strings.sort(key=lambda x: len(set(x)))\n",
        "strings"
      ],
      "metadata": {
        "trusted": true,
        "id": "FL9iolzR0ttQ"
      },
      "execution_count": null,
      "outputs": []
    },
    {
      "cell_type": "code",
      "source": [
        "some_dict = {\"a\": 1, \"b\": 2, \"c\": 3}\n",
        "for key in some_dict:\n",
        "    print(key)"
      ],
      "metadata": {
        "trusted": true,
        "id": "cXWyWhfv0ttQ"
      },
      "execution_count": null,
      "outputs": []
    },
    {
      "cell_type": "code",
      "source": [
        "dict_iterator = iter(some_dict)\n",
        "dict_iterator"
      ],
      "metadata": {
        "trusted": true,
        "id": "jE_gqCjq0ttQ"
      },
      "execution_count": null,
      "outputs": []
    },
    {
      "cell_type": "code",
      "source": [
        "list(dict_iterator)"
      ],
      "metadata": {
        "trusted": true,
        "id": "p83FSaVF0ttS"
      },
      "execution_count": null,
      "outputs": []
    },
    {
      "cell_type": "code",
      "source": [
        "def squares(n=10):\n",
        "    print(f\"Generating squares from 1 to {n ** 2}\")\n",
        "    for i in range(1, n + 1):\n",
        "        yield i ** 2"
      ],
      "metadata": {
        "trusted": true,
        "id": "6rS0H7C60ttS"
      },
      "execution_count": null,
      "outputs": []
    },
    {
      "cell_type": "code",
      "source": [
        "gen = squares()\n",
        "gen"
      ],
      "metadata": {
        "trusted": true,
        "id": "meIXQZfT0ttS"
      },
      "execution_count": null,
      "outputs": []
    },
    {
      "cell_type": "code",
      "source": [
        "for x in gen:\n",
        "    print(x, end=\" \")"
      ],
      "metadata": {
        "trusted": true,
        "id": "esV4bnf-0ttS"
      },
      "execution_count": null,
      "outputs": []
    },
    {
      "cell_type": "code",
      "source": [
        "gen = (x ** 2 for x in range(100))\n",
        "gen"
      ],
      "metadata": {
        "trusted": true,
        "id": "78oKezrz0ttT"
      },
      "execution_count": null,
      "outputs": []
    },
    {
      "cell_type": "code",
      "source": [
        "sum(x ** 2 for x in range(100))\n",
        "dict((i, i ** 2) for i in range(5))"
      ],
      "metadata": {
        "trusted": true,
        "id": "JcIrFtxm0ttT"
      },
      "execution_count": null,
      "outputs": []
    },
    {
      "cell_type": "code",
      "source": [
        "import itertools\n",
        "def first_letter(x):\n",
        "    return x[0]\n",
        "\n",
        "names = [\"Alan\", \"Adam\", \"Wes\", \"Will\", \"Albert\", \"Steven\"]\n",
        "\n",
        "for letter, names in itertools.groupby(names, first_letter):\n",
        "    print(letter, list(names)) # names is a generator"
      ],
      "metadata": {
        "trusted": true,
        "id": "QbFr63CX0ttT"
      },
      "execution_count": null,
      "outputs": []
    },
    {
      "cell_type": "code",
      "source": [
        "float(\"1.2345\")\n",
        "float(\"something\")"
      ],
      "metadata": {
        "trusted": true,
        "id": "UuV4ecQU0ttT"
      },
      "execution_count": null,
      "outputs": []
    },
    {
      "cell_type": "code",
      "source": [
        "def attempt_float(x):\n",
        "    try:\n",
        "        return float(x)\n",
        "    except:\n",
        "        return x"
      ],
      "metadata": {
        "trusted": true,
        "id": "dtSFTHz60ttT"
      },
      "execution_count": null,
      "outputs": []
    },
    {
      "cell_type": "code",
      "source": [
        "attempt_float(\"1.2345\")\n",
        "attempt_float(\"something\")"
      ],
      "metadata": {
        "trusted": true,
        "id": "m9CSlZIE0ttT"
      },
      "execution_count": null,
      "outputs": []
    },
    {
      "cell_type": "code",
      "source": [
        "float((1, 2))"
      ],
      "metadata": {
        "trusted": true,
        "id": "oFPWzk5x0ttU"
      },
      "execution_count": null,
      "outputs": []
    },
    {
      "cell_type": "code",
      "source": [
        "def attempt_float(x):\n",
        "    try:\n",
        "        return float(x)\n",
        "    except ValueError:\n",
        "        return x"
      ],
      "metadata": {
        "trusted": true,
        "id": "PKzFGO6J0ttU"
      },
      "execution_count": null,
      "outputs": []
    },
    {
      "cell_type": "code",
      "source": [
        "attempt_float((1, 2))"
      ],
      "metadata": {
        "trusted": true,
        "id": "FU3xZy2i0ttU"
      },
      "execution_count": null,
      "outputs": []
    },
    {
      "cell_type": "code",
      "source": [
        "def attempt_float(x):\n",
        "    try:\n",
        "        return float(x)\n",
        "    except (TypeError, ValueError):\n",
        "        return x"
      ],
      "metadata": {
        "trusted": true,
        "id": "vTmx8fI20ttU"
      },
      "execution_count": null,
      "outputs": []
    },
    {
      "cell_type": "code",
      "source": [
        "path = EXAMPLES_DIR / \"segismundo.txt\"\n",
        "f = open(path, encoding=\"utf-8\")"
      ],
      "metadata": {
        "trusted": true,
        "id": "ToYDOoWy0ttU"
      },
      "execution_count": null,
      "outputs": []
    },
    {
      "cell_type": "code",
      "source": [
        "lines = [x.rstrip() for x in open(path, encoding=\"utf-8\")]\n",
        "lines"
      ],
      "metadata": {
        "trusted": true,
        "id": "glJMUl9c0ttU"
      },
      "execution_count": null,
      "outputs": []
    },
    {
      "cell_type": "code",
      "source": [
        "f.close()"
      ],
      "metadata": {
        "trusted": true,
        "id": "rAu_8fxi0ttV"
      },
      "execution_count": null,
      "outputs": []
    },
    {
      "cell_type": "code",
      "source": [
        "with open(path, encoding=\"utf-8\") as f:\n",
        "    lines = [x.rstrip() for x in f]"
      ],
      "metadata": {
        "trusted": true,
        "id": "5YbHmpVN0ttV"
      },
      "execution_count": null,
      "outputs": []
    },
    {
      "cell_type": "code",
      "source": [
        "f1 = open(path)\n",
        "print(f1.read(10))\n",
        "f2 = open(path, mode=\"rb\")  # Binary mode\n",
        "print(f2.read(10))"
      ],
      "metadata": {
        "trusted": true,
        "id": "Cm2p2Xhi0ttV"
      },
      "execution_count": null,
      "outputs": []
    },
    {
      "cell_type": "code",
      "source": [
        "print(f1.tell())\n",
        "print(f2.tell())"
      ],
      "metadata": {
        "trusted": true,
        "id": "RBu_qnOB0ttV"
      },
      "execution_count": null,
      "outputs": []
    },
    {
      "cell_type": "code",
      "source": [
        "import sys\n",
        "\n",
        "sys.getdefaultencoding()"
      ],
      "metadata": {
        "trusted": true,
        "id": "u-_Uw_Zb0ttY"
      },
      "execution_count": null,
      "outputs": []
    },
    {
      "cell_type": "code",
      "source": [
        "print(f1.seek(3))\n",
        "print(f1.read(1))\n",
        "print(f1.tell())"
      ],
      "metadata": {
        "trusted": true,
        "id": "H2m4qnve0ttZ"
      },
      "execution_count": null,
      "outputs": []
    },
    {
      "cell_type": "code",
      "source": [
        "f1.close()\n",
        "f2.close()"
      ],
      "metadata": {
        "trusted": true,
        "id": "vJK4CtDY0ttZ"
      },
      "execution_count": null,
      "outputs": []
    },
    {
      "cell_type": "code",
      "source": [
        "path\n",
        "\n",
        "with open(\"tmp.txt\", mode=\"w\") as handle:\n",
        "    handle.writelines(x for x in open(path) if len(x) > 1)\n",
        "\n",
        "with open(\"tmp.txt\") as f:\n",
        "    lines = f.readlines()\n",
        "\n",
        "lines"
      ],
      "metadata": {
        "trusted": true,
        "id": "T1kvnMQ20ttZ"
      },
      "execution_count": null,
      "outputs": []
    },
    {
      "cell_type": "code",
      "source": [
        "import os\n",
        "\n",
        "os.remove(\"tmp.txt\")"
      ],
      "metadata": {
        "trusted": true,
        "id": "GVGEfaED0ttZ"
      },
      "execution_count": null,
      "outputs": []
    },
    {
      "cell_type": "code",
      "source": [
        "with open(path) as f:\n",
        "    chars = f.read(10)\n",
        "\n",
        "print(chars)\n",
        "print(len(chars))"
      ],
      "metadata": {
        "trusted": true,
        "id": "Py6VcJT00ttZ"
      },
      "execution_count": null,
      "outputs": []
    },
    {
      "cell_type": "code",
      "source": [
        "with open(path, mode=\"rb\") as f:\n",
        "    data = f.read(10)\n",
        "\n",
        "data"
      ],
      "metadata": {
        "trusted": true,
        "id": "UrkSa7A10tta"
      },
      "execution_count": null,
      "outputs": []
    },
    {
      "cell_type": "code",
      "source": [
        "print(data.decode(\"utf-8\"))\n",
        "print(data[:4].decode(\"utf-8\"))"
      ],
      "metadata": {
        "trusted": true,
        "id": "bg9GT2Js0tta"
      },
      "execution_count": null,
      "outputs": []
    },
    {
      "cell_type": "code",
      "source": [
        "sink_path = \"sink.txt\"\n",
        "with open(path) as source:\n",
        "    with open(sink_path, \"x\", encoding=\"iso-8859-1\") as sink:\n",
        "        sink.write(source.read())\n",
        "\n",
        "with open(sink_path, encoding=\"iso-8859-1\") as f:\n",
        "    print(f.read(10))"
      ],
      "metadata": {
        "trusted": true,
        "id": "AyoLL_S20tte"
      },
      "execution_count": null,
      "outputs": []
    },
    {
      "cell_type": "code",
      "source": [
        "os.remove(sink_path)"
      ],
      "metadata": {
        "trusted": true,
        "id": "wxcQVgMB0tte"
      },
      "execution_count": null,
      "outputs": []
    },
    {
      "cell_type": "code",
      "source": [
        "f = open(path, encoding='utf-8')\n",
        "print(f.read(5))\n",
        "print(f.seek(4))\n",
        "print(f.read(1))\n",
        "f.close()"
      ],
      "metadata": {
        "trusted": true,
        "id": "wpMD-lMd0tte"
      },
      "execution_count": null,
      "outputs": []
    },
    {
      "cell_type": "code",
      "source": [],
      "metadata": {
        "id": "HqQ6w6rY0ttf"
      },
      "execution_count": null,
      "outputs": []
    }
  ]
}
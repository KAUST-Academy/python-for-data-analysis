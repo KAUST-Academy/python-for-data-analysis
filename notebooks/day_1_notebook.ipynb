{
  "nbformat": 4,
  "nbformat_minor": 0,
  "metadata": {
    "colab": {
      "provenance": []
    },
    "kernelspec": {
      "name": "python3",
      "display_name": "Python 3"
    },
    "language_info": {
      "name": "python"
    }
  },
  "cells": [
    {
      "cell_type": "markdown",
      "source": [
        "# Python Language Basics"
      ],
      "metadata": {
        "id": "598psYrTHcGN"
      }
    },
    {
      "cell_type": "markdown",
      "source": [
        "## IPython Basics"
      ],
      "metadata": {
        "id": "1u4DqybZHm2y"
      }
    },
    {
      "cell_type": "code",
      "execution_count": 1,
      "metadata": {
        "id": "gzwN-ub0F4uZ"
      },
      "outputs": [],
      "source": [
        "import numpy as np"
      ]
    },
    {
      "cell_type": "code",
      "source": [
        "data = [np.random.uniform(low=0, high=1) for i in range(10)]"
      ],
      "metadata": {
        "id": "hSmB1SRfHlDj"
      },
      "execution_count": 8,
      "outputs": []
    },
    {
      "cell_type": "code",
      "source": [
        "data"
      ],
      "metadata": {
        "colab": {
          "base_uri": "https://localhost:8080/"
        },
        "id": "Aj4SIRrOIEu2",
        "outputId": "1e944957-b447-4f15-a90b-02b84ded21cb"
      },
      "execution_count": 9,
      "outputs": [
        {
          "output_type": "execute_result",
          "data": {
            "text/plain": [
              "[0.08114292886079211,\n",
              " 0.292317252797358,\n",
              " 0.4652365846388151,\n",
              " 0.30546245750162626,\n",
              " 0.8246544529952915,\n",
              " 0.45753847397324277,\n",
              " 0.027912672608782052,\n",
              " 0.9113521709778313,\n",
              " 0.08825317694335466,\n",
              " 0.16702712648086826]"
            ]
          },
          "metadata": {},
          "execution_count": 9
        }
      ]
    },
    {
      "cell_type": "code",
      "source": [
        "print(data)"
      ],
      "metadata": {
        "colab": {
          "base_uri": "https://localhost:8080/"
        },
        "id": "8U9LpV5FJK-P",
        "outputId": "f118148a-8dca-436c-c198-74b39d07583b"
      },
      "execution_count": 10,
      "outputs": [
        {
          "output_type": "stream",
          "name": "stdout",
          "text": [
            "[0.08114292886079211, 0.292317252797358, 0.4652365846388151, 0.30546245750162626, 0.8246544529952915, 0.45753847397324277, 0.027912672608782052, 0.9113521709778313, 0.08825317694335466, 0.16702712648086826]\n"
          ]
        }
      ]
    },
    {
      "cell_type": "code",
      "source": [
        "an_apple = 27\n",
        "an_example = 42"
      ],
      "metadata": {
        "id": "mZKSA4ExJMzE"
      },
      "execution_count": 11,
      "outputs": []
    },
    {
      "cell_type": "code",
      "source": [
        "an_example"
      ],
      "metadata": {
        "colab": {
          "base_uri": "https://localhost:8080/"
        },
        "id": "0OwmDJu9J4R9",
        "outputId": "0ce3c856-c9b5-4241-d830-214133bc07dd"
      },
      "execution_count": 12,
      "outputs": [
        {
          "output_type": "execute_result",
          "data": {
            "text/plain": [
              "42"
            ]
          },
          "metadata": {},
          "execution_count": 12
        }
      ]
    },
    {
      "cell_type": "code",
      "source": [
        "b = [1, 2, 3, 4, 5]"
      ],
      "metadata": {
        "id": "UAMvCt4AKE0V"
      },
      "execution_count": 13,
      "outputs": []
    },
    {
      "cell_type": "code",
      "source": [
        "b.append?"
      ],
      "metadata": {
        "id": "gU6DR2DzKU1y"
      },
      "execution_count": 17,
      "outputs": []
    },
    {
      "cell_type": "code",
      "source": [
        "b.append(6)"
      ],
      "metadata": {
        "id": "CadpWOXsKiat"
      },
      "execution_count": 15,
      "outputs": []
    },
    {
      "cell_type": "code",
      "source": [
        "b"
      ],
      "metadata": {
        "colab": {
          "base_uri": "https://localhost:8080/"
        },
        "id": "3Gfhl-MdKnTH",
        "outputId": "fe2f0012-6053-4087-eb2b-e8ff60df46e8"
      },
      "execution_count": 16,
      "outputs": [
        {
          "output_type": "execute_result",
          "data": {
            "text/plain": [
              "[1, 2, 3, 4, 5, 6]"
            ]
          },
          "metadata": {},
          "execution_count": 16
        }
      ]
    },
    {
      "cell_type": "code",
      "source": [
        "def add_numbers(a, b):\n",
        "    \"\"\"\n",
        "    Add two numbers together.\n",
        "\n",
        "    Inputs:\n",
        "      a: a number\n",
        "      b: another number\n",
        "    Returns:\n",
        "      c: the sum of a and b.\n",
        "\n",
        "    \"\"\"\n",
        "    return a + b\n"
      ],
      "metadata": {
        "id": "Cu4e2BUWKoP3"
      },
      "execution_count": 18,
      "outputs": []
    },
    {
      "cell_type": "code",
      "source": [
        "add_numbers?"
      ],
      "metadata": {
        "id": "jXM318n8LYpu"
      },
      "execution_count": 19,
      "outputs": []
    },
    {
      "cell_type": "markdown",
      "source": [
        "## Python Language Basics"
      ],
      "metadata": {
        "id": "apitLXfcL7-H"
      }
    },
    {
      "cell_type": "code",
      "source": [
        "array = [np.random.uniform(low=0, high=1) for i in range(10)]\n",
        "pivot = 0.5\n",
        "less = []\n",
        "greater = []\n",
        "\n",
        "for x in array:\n",
        "    if x < pivot:\n",
        "        less.append(x)\n",
        "    else:\n",
        "        greater.append(x)\n"
      ],
      "metadata": {
        "id": "yyzmn_lLLa9Z"
      },
      "execution_count": 22,
      "outputs": []
    },
    {
      "cell_type": "code",
      "source": [
        "array"
      ],
      "metadata": {
        "colab": {
          "base_uri": "https://localhost:8080/"
        },
        "id": "IWTTyZvFN49N",
        "outputId": "99f63238-00a3-461f-ac4a-cf0670d0b7df"
      },
      "execution_count": 23,
      "outputs": [
        {
          "output_type": "execute_result",
          "data": {
            "text/plain": [
              "[0.05086277873587575,\n",
              " 0.8598284030650537,\n",
              " 0.5832291171817554,\n",
              " 0.7689202119449865,\n",
              " 0.6655577903062153,\n",
              " 0.961900728961738,\n",
              " 0.2302506689270155,\n",
              " 0.05274235264750804,\n",
              " 0.12099220528839971,\n",
              " 0.8352595561234921]"
            ]
          },
          "metadata": {},
          "execution_count": 23
        }
      ]
    },
    {
      "cell_type": "code",
      "source": [
        "less"
      ],
      "metadata": {
        "colab": {
          "base_uri": "https://localhost:8080/"
        },
        "id": "MoA478QkOgk6",
        "outputId": "fe80de08-dd74-4770-c4d4-7fa038320534"
      },
      "execution_count": 24,
      "outputs": [
        {
          "output_type": "execute_result",
          "data": {
            "text/plain": [
              "[0.05086277873587575,\n",
              " 0.2302506689270155,\n",
              " 0.05274235264750804,\n",
              " 0.12099220528839971]"
            ]
          },
          "metadata": {},
          "execution_count": 24
        }
      ]
    },
    {
      "cell_type": "code",
      "source": [
        "greater"
      ],
      "metadata": {
        "colab": {
          "base_uri": "https://localhost:8080/"
        },
        "id": "ZyRfcnirOrGp",
        "outputId": "cf55b557-7d81-4af3-b8cc-23e7bc4bb20c"
      },
      "execution_count": 25,
      "outputs": [
        {
          "output_type": "execute_result",
          "data": {
            "text/plain": [
              "[0.8598284030650537,\n",
              " 0.5832291171817554,\n",
              " 0.7689202119449865,\n",
              " 0.6655577903062153,\n",
              " 0.961900728961738,\n",
              " 0.8352595561234921]"
            ]
          },
          "metadata": {},
          "execution_count": 25
        }
      ]
    },
    {
      "cell_type": "code",
      "source": [
        "sorted(array)"
      ],
      "metadata": {
        "colab": {
          "base_uri": "https://localhost:8080/"
        },
        "id": "BhgAgK6ZOs_z",
        "outputId": "7c89d92b-e935-4306-83e6-141540b1251b"
      },
      "execution_count": 26,
      "outputs": [
        {
          "output_type": "execute_result",
          "data": {
            "text/plain": [
              "[0.05086277873587575,\n",
              " 0.05274235264750804,\n",
              " 0.12099220528839971,\n",
              " 0.2302506689270155,\n",
              " 0.5832291171817554,\n",
              " 0.6655577903062153,\n",
              " 0.7689202119449865,\n",
              " 0.8352595561234921,\n",
              " 0.8598284030650537,\n",
              " 0.961900728961738]"
            ]
          },
          "metadata": {},
          "execution_count": 26
        }
      ]
    },
    {
      "cell_type": "code",
      "source": [
        "a = 5\n",
        "b = 6\n",
        "c = 7"
      ],
      "metadata": {
        "id": "VBkPXyWvO-cW"
      },
      "execution_count": 27,
      "outputs": []
    },
    {
      "cell_type": "code",
      "source": [
        "a = 5; b = 6; c = 7"
      ],
      "metadata": {
        "id": "FcKQhwevPJ2B"
      },
      "execution_count": 28,
      "outputs": []
    },
    {
      "cell_type": "code",
      "source": [
        "a, b, c = 5, 6, 7"
      ],
      "metadata": {
        "id": "DxKIee9aPNFy"
      },
      "execution_count": 29,
      "outputs": []
    },
    {
      "cell_type": "code",
      "source": [
        "# this is a comment\n",
        "print(\"this is not a comment!\")"
      ],
      "metadata": {
        "colab": {
          "base_uri": "https://localhost:8080/"
        },
        "id": "E3a42AfXPRW8",
        "outputId": "e3b9f3cd-3347-4b05-a653-3b7d6c7966cd"
      },
      "execution_count": 30,
      "outputs": [
        {
          "output_type": "stream",
          "name": "stdout",
          "text": [
            "this is not a comment!\n"
          ]
        }
      ]
    },
    {
      "cell_type": "code",
      "source": [
        "# this is a long comment\n",
        "# that runs over \n",
        "# many lines\n",
        "print(\"Hello world!\")"
      ],
      "metadata": {
        "colab": {
          "base_uri": "https://localhost:8080/"
        },
        "id": "dIBge4_MPxe3",
        "outputId": "304924c6-98c7-4ad9-aae6-f62b7ece94b6"
      },
      "execution_count": 31,
      "outputs": [
        {
          "output_type": "stream",
          "name": "stdout",
          "text": [
            "Hello world!\n"
          ]
        }
      ]
    },
    {
      "cell_type": "code",
      "source": [
        "print(\"Hello again!\") # this is also a comment"
      ],
      "metadata": {
        "colab": {
          "base_uri": "https://localhost:8080/"
        },
        "id": "2sdubs8QP8Q_",
        "outputId": "0b6770e6-d455-4dc8-8a0e-92629d37ca66"
      },
      "execution_count": 32,
      "outputs": [
        {
          "output_type": "stream",
          "name": "stdout",
          "text": [
            "Hello again!\n"
          ]
        }
      ]
    },
    {
      "cell_type": "code",
      "source": [
        "print()"
      ],
      "metadata": {
        "colab": {
          "base_uri": "https://localhost:8080/"
        },
        "id": "acSkHS82QCIE",
        "outputId": "18b6e4ab-79af-464b-aadd-eba174ab13f3"
      },
      "execution_count": 33,
      "outputs": [
        {
          "output_type": "stream",
          "name": "stdout",
          "text": [
            "\n"
          ]
        }
      ]
    },
    {
      "cell_type": "code",
      "source": [
        "print(\"This\", \"is\", \"a\", \"odd\", \"way\", \"to\", \"write\", \"a\", \"sentence!\")"
      ],
      "metadata": {
        "colab": {
          "base_uri": "https://localhost:8080/"
        },
        "id": "-nse9uoPQkg6",
        "outputId": "9bbfed50-e18b-4e10-ad71-20d4bf160be8"
      },
      "execution_count": 34,
      "outputs": [
        {
          "output_type": "stream",
          "name": "stdout",
          "text": [
            "This is a odd way to write a sentence!\n"
          ]
        }
      ]
    },
    {
      "cell_type": "code",
      "source": [
        "print?"
      ],
      "metadata": {
        "id": "_MmfPpxcQsWC"
      },
      "execution_count": 35,
      "outputs": []
    },
    {
      "cell_type": "code",
      "source": [
        "print(\n",
        "    \"This\",\n",
        "    \"is\",\n",
        "    \"a\",\n",
        "    \"really\",\n",
        "    \"odd\",\n",
        "    \"way\",\n",
        "    \"to\",\n",
        "    \"write\",\n",
        "    \"a\",\n",
        "    \"sentence!\",\n",
        "    sep=\"%\")"
      ],
      "metadata": {
        "colab": {
          "base_uri": "https://localhost:8080/"
        },
        "id": "ZRFcEyXYQx0d",
        "outputId": "1a323b7b-df35-4a8f-8a0e-bef3804df05e"
      },
      "execution_count": 36,
      "outputs": [
        {
          "output_type": "stream",
          "name": "stdout",
          "text": [
            "This%is%a%really%odd%way%to%write%a%sentence!\n"
          ]
        }
      ]
    },
    {
      "cell_type": "code",
      "source": [
        "a = [1, 2, 3]"
      ],
      "metadata": {
        "id": "eWH1Khe5RFaq"
      },
      "execution_count": 37,
      "outputs": []
    },
    {
      "cell_type": "code",
      "source": [
        "b = a"
      ],
      "metadata": {
        "id": "pe33sUsLRYIn"
      },
      "execution_count": 38,
      "outputs": []
    },
    {
      "cell_type": "code",
      "source": [
        "b"
      ],
      "metadata": {
        "colab": {
          "base_uri": "https://localhost:8080/"
        },
        "id": "9AJE07h3RbDD",
        "outputId": "c9b3d54d-b1f2-4c6a-9c6d-418e7c222784"
      },
      "execution_count": 39,
      "outputs": [
        {
          "output_type": "execute_result",
          "data": {
            "text/plain": [
              "[1, 2, 3]"
            ]
          },
          "metadata": {},
          "execution_count": 39
        }
      ]
    },
    {
      "cell_type": "code",
      "source": [
        "a.append(\"Surprise!\")"
      ],
      "metadata": {
        "id": "rRFtIx4VRcta"
      },
      "execution_count": 40,
      "outputs": []
    },
    {
      "cell_type": "code",
      "source": [
        "a"
      ],
      "metadata": {
        "colab": {
          "base_uri": "https://localhost:8080/"
        },
        "id": "YI4A7p4JRhC4",
        "outputId": "4ee29cc3-a899-4dff-f8b6-97cbb801d0ea"
      },
      "execution_count": 41,
      "outputs": [
        {
          "output_type": "execute_result",
          "data": {
            "text/plain": [
              "[1, 2, 3, 'Surprise!']"
            ]
          },
          "metadata": {},
          "execution_count": 41
        }
      ]
    },
    {
      "cell_type": "code",
      "source": [
        "b"
      ],
      "metadata": {
        "colab": {
          "base_uri": "https://localhost:8080/"
        },
        "id": "B4SX_z3IRiWC",
        "outputId": "fc32ffc4-c7bf-418c-a28a-2f585d5b4e32"
      },
      "execution_count": 42,
      "outputs": [
        {
          "output_type": "execute_result",
          "data": {
            "text/plain": [
              "[1, 2, 3, 'Surprise!']"
            ]
          },
          "metadata": {},
          "execution_count": 42
        }
      ]
    },
    {
      "cell_type": "code",
      "source": [
        "c = a.copy()"
      ],
      "metadata": {
        "id": "U_3T4h3qRwcR"
      },
      "execution_count": 43,
      "outputs": []
    },
    {
      "cell_type": "code",
      "source": [
        "c"
      ],
      "metadata": {
        "colab": {
          "base_uri": "https://localhost:8080/"
        },
        "id": "N_E38OoMSQtr",
        "outputId": "6d6313e6-6eb8-4a0c-c9b6-329c16ca71af"
      },
      "execution_count": 44,
      "outputs": [
        {
          "output_type": "execute_result",
          "data": {
            "text/plain": [
              "[1, 2, 3, 'Surprise!']"
            ]
          },
          "metadata": {},
          "execution_count": 44
        }
      ]
    },
    {
      "cell_type": "code",
      "source": [
        "a.append(3.14)"
      ],
      "metadata": {
        "id": "k-nZYBAMSSEK"
      },
      "execution_count": 45,
      "outputs": []
    },
    {
      "cell_type": "code",
      "source": [
        "a"
      ],
      "metadata": {
        "colab": {
          "base_uri": "https://localhost:8080/"
        },
        "id": "akpCvgDqSVzU",
        "outputId": "1b7c016e-5d84-4889-9577-b64819fe0097"
      },
      "execution_count": 46,
      "outputs": [
        {
          "output_type": "execute_result",
          "data": {
            "text/plain": [
              "[1, 2, 3, 'Surprise!', 3.14]"
            ]
          },
          "metadata": {},
          "execution_count": 46
        }
      ]
    },
    {
      "cell_type": "code",
      "source": [
        "b"
      ],
      "metadata": {
        "colab": {
          "base_uri": "https://localhost:8080/"
        },
        "id": "-N9fUyfPSWgv",
        "outputId": "41643dc0-3d06-4311-8cad-dc811b524ca9"
      },
      "execution_count": 47,
      "outputs": [
        {
          "output_type": "execute_result",
          "data": {
            "text/plain": [
              "[1, 2, 3, 'Surprise!', 3.14]"
            ]
          },
          "metadata": {},
          "execution_count": 47
        }
      ]
    },
    {
      "cell_type": "code",
      "source": [
        "c"
      ],
      "metadata": {
        "colab": {
          "base_uri": "https://localhost:8080/"
        },
        "id": "qImV6ChpSXJG",
        "outputId": "9557cdb6-485b-49b1-f81f-569f8e8bb8a1"
      },
      "execution_count": 48,
      "outputs": [
        {
          "output_type": "execute_result",
          "data": {
            "text/plain": [
              "[1, 2, 3, 'Surprise!']"
            ]
          },
          "metadata": {},
          "execution_count": 48
        }
      ]
    },
    {
      "cell_type": "code",
      "source": [
        "b.append(5)"
      ],
      "metadata": {
        "id": "WHXemf_ISX5F"
      },
      "execution_count": 49,
      "outputs": []
    },
    {
      "cell_type": "code",
      "source": [
        "a"
      ],
      "metadata": {
        "colab": {
          "base_uri": "https://localhost:8080/"
        },
        "id": "VvBLAnzHSkQ2",
        "outputId": "f6f7f5bf-3ec5-4bf1-9694-c581e55484f8"
      },
      "execution_count": 50,
      "outputs": [
        {
          "output_type": "execute_result",
          "data": {
            "text/plain": [
              "[1, 2, 3, 'Surprise!', 3.14, 5]"
            ]
          },
          "metadata": {},
          "execution_count": 50
        }
      ]
    },
    {
      "cell_type": "code",
      "source": [
        "b"
      ],
      "metadata": {
        "colab": {
          "base_uri": "https://localhost:8080/"
        },
        "id": "Qv1gL-51Sk5x",
        "outputId": "b6ab897e-5efe-4392-f1e0-188a22ebd0a2"
      },
      "execution_count": 51,
      "outputs": [
        {
          "output_type": "execute_result",
          "data": {
            "text/plain": [
              "[1, 2, 3, 'Surprise!', 3.14, 5]"
            ]
          },
          "metadata": {},
          "execution_count": 51
        }
      ]
    },
    {
      "cell_type": "code",
      "source": [
        "c"
      ],
      "metadata": {
        "colab": {
          "base_uri": "https://localhost:8080/"
        },
        "id": "oxp-L34nSlmu",
        "outputId": "0fa3ea3f-a586-490f-feec-4ee4134da861"
      },
      "execution_count": 52,
      "outputs": [
        {
          "output_type": "execute_result",
          "data": {
            "text/plain": [
              "[1, 2, 3, 'Surprise!']"
            ]
          },
          "metadata": {},
          "execution_count": 52
        }
      ]
    },
    {
      "cell_type": "code",
      "source": [
        "a = 5"
      ],
      "metadata": {
        "id": "97fE3VcmSmWg"
      },
      "execution_count": 53,
      "outputs": []
    },
    {
      "cell_type": "code",
      "source": [
        "type(a)"
      ],
      "metadata": {
        "colab": {
          "base_uri": "https://localhost:8080/"
        },
        "id": "vz7LCw-nTAZU",
        "outputId": "311bbcd7-346a-49fb-eb2f-024eb0c9bead"
      },
      "execution_count": 54,
      "outputs": [
        {
          "output_type": "execute_result",
          "data": {
            "text/plain": [
              "int"
            ]
          },
          "metadata": {},
          "execution_count": 54
        }
      ]
    },
    {
      "cell_type": "code",
      "source": [
        "type(b)"
      ],
      "metadata": {
        "colab": {
          "base_uri": "https://localhost:8080/"
        },
        "id": "SV3mmZwzTIGx",
        "outputId": "90dac6a8-8a22-4fd8-c263-3b7e685b2ccc"
      },
      "execution_count": 56,
      "outputs": [
        {
          "output_type": "execute_result",
          "data": {
            "text/plain": [
              "list"
            ]
          },
          "metadata": {},
          "execution_count": 56
        }
      ]
    },
    {
      "cell_type": "code",
      "source": [
        "type(\"hello world!\")"
      ],
      "metadata": {
        "colab": {
          "base_uri": "https://localhost:8080/"
        },
        "id": "zLl49sAyTqzS",
        "outputId": "b263bd31-5ad9-47c3-f736-fc080d681c7b"
      },
      "execution_count": 57,
      "outputs": [
        {
          "output_type": "execute_result",
          "data": {
            "text/plain": [
              "str"
            ]
          },
          "metadata": {},
          "execution_count": 57
        }
      ]
    },
    {
      "cell_type": "code",
      "source": [
        "type(3.15)"
      ],
      "metadata": {
        "colab": {
          "base_uri": "https://localhost:8080/"
        },
        "id": "NHrFMrvPTu1i",
        "outputId": "6f301237-b4a2-4f60-9c0e-7ffb364019cc"
      },
      "execution_count": 58,
      "outputs": [
        {
          "output_type": "execute_result",
          "data": {
            "text/plain": [
              "float"
            ]
          },
          "metadata": {},
          "execution_count": 58
        }
      ]
    },
    {
      "cell_type": "code",
      "source": [
        "type(False)"
      ],
      "metadata": {
        "colab": {
          "base_uri": "https://localhost:8080/"
        },
        "id": "x_zcbU5qTzsB",
        "outputId": "44bea2c2-9ff1-4182-9859-26307735b57d"
      },
      "execution_count": 59,
      "outputs": [
        {
          "output_type": "execute_result",
          "data": {
            "text/plain": [
              "bool"
            ]
          },
          "metadata": {},
          "execution_count": 59
        }
      ]
    },
    {
      "cell_type": "code",
      "source": [
        "type(True)"
      ],
      "metadata": {
        "colab": {
          "base_uri": "https://localhost:8080/"
        },
        "id": "e_M1oH5lT8BA",
        "outputId": "0f441e44-53b3-4e75-c205-96a2cde18270"
      },
      "execution_count": 60,
      "outputs": [
        {
          "output_type": "execute_result",
          "data": {
            "text/plain": [
              "bool"
            ]
          },
          "metadata": {},
          "execution_count": 60
        }
      ]
    },
    {
      "cell_type": "code",
      "source": [
        "type(\"42\")"
      ],
      "metadata": {
        "colab": {
          "base_uri": "https://localhost:8080/"
        },
        "id": "nFbyn70zT-Da",
        "outputId": "0b05ca74-01a6-4cb9-ce91-2c6959789664"
      },
      "execution_count": 61,
      "outputs": [
        {
          "output_type": "execute_result",
          "data": {
            "text/plain": [
              "str"
            ]
          },
          "metadata": {},
          "execution_count": 61
        }
      ]
    },
    {
      "cell_type": "code",
      "source": [
        "type(int(\"42\"))"
      ],
      "metadata": {
        "colab": {
          "base_uri": "https://localhost:8080/"
        },
        "id": "-kwpGVNDUUZ4",
        "outputId": "640d727d-fd44-4d32-a7c7-e5815d37a79a"
      },
      "execution_count": 62,
      "outputs": [
        {
          "output_type": "execute_result",
          "data": {
            "text/plain": [
              "int"
            ]
          },
          "metadata": {},
          "execution_count": 62
        }
      ]
    },
    {
      "cell_type": "code",
      "source": [
        "int(\"bob\")"
      ],
      "metadata": {
        "colab": {
          "base_uri": "https://localhost:8080/",
          "height": 167
        },
        "id": "rOShMkrZUZRx",
        "outputId": "7b6b3aa8-235d-426e-c9b2-43c8b9936888"
      },
      "execution_count": 63,
      "outputs": [
        {
          "output_type": "error",
          "ename": "ValueError",
          "evalue": "ignored",
          "traceback": [
            "\u001b[0;31m---------------------------------------------------------------------------\u001b[0m",
            "\u001b[0;31mValueError\u001b[0m                                Traceback (most recent call last)",
            "\u001b[0;32m<ipython-input-63-8695f5fbcc78>\u001b[0m in \u001b[0;36m<cell line: 1>\u001b[0;34m()\u001b[0m\n\u001b[0;32m----> 1\u001b[0;31m \u001b[0mint\u001b[0m\u001b[0;34m(\u001b[0m\u001b[0;34m\"bob\"\u001b[0m\u001b[0;34m)\u001b[0m\u001b[0;34m\u001b[0m\u001b[0;34m\u001b[0m\u001b[0m\n\u001b[0m",
            "\u001b[0;31mValueError\u001b[0m: invalid literal for int() with base 10: 'bob'"
          ]
        }
      ]
    },
    {
      "cell_type": "code",
      "source": [
        "float(42)"
      ],
      "metadata": {
        "colab": {
          "base_uri": "https://localhost:8080/"
        },
        "id": "-l7aNcIpUeJz",
        "outputId": "2905f965-ee64-40eb-980f-bc35bd1f7462"
      },
      "execution_count": 64,
      "outputs": [
        {
          "output_type": "execute_result",
          "data": {
            "text/plain": [
              "42.0"
            ]
          },
          "metadata": {},
          "execution_count": 64
        }
      ]
    },
    {
      "cell_type": "code",
      "source": [
        "int(3.14)"
      ],
      "metadata": {
        "colab": {
          "base_uri": "https://localhost:8080/"
        },
        "id": "2inSPolXUjpC",
        "outputId": "e82fd646-c883-415c-cf76-14201d9043fa"
      },
      "execution_count": 65,
      "outputs": [
        {
          "output_type": "execute_result",
          "data": {
            "text/plain": [
              "3"
            ]
          },
          "metadata": {},
          "execution_count": 65
        }
      ]
    },
    {
      "cell_type": "code",
      "source": [
        "int(3.999999)"
      ],
      "metadata": {
        "colab": {
          "base_uri": "https://localhost:8080/"
        },
        "id": "Z0u8EEHzUmOF",
        "outputId": "08aee450-7e0e-42c1-e257-e2a97b79ea81"
      },
      "execution_count": 66,
      "outputs": [
        {
          "output_type": "execute_result",
          "data": {
            "text/plain": [
              "3"
            ]
          },
          "metadata": {},
          "execution_count": 66
        }
      ]
    },
    {
      "cell_type": "code",
      "source": [
        "round(3.999999)"
      ],
      "metadata": {
        "colab": {
          "base_uri": "https://localhost:8080/"
        },
        "id": "2bQFiPNBUtvG",
        "outputId": "c1d2f784-b6c7-49fa-ddac-09d5fedb4f4e"
      },
      "execution_count": 67,
      "outputs": [
        {
          "output_type": "execute_result",
          "data": {
            "text/plain": [
              "4"
            ]
          },
          "metadata": {},
          "execution_count": 67
        }
      ]
    },
    {
      "cell_type": "code",
      "source": [
        "round(3.123456789, ndigits=3)"
      ],
      "metadata": {
        "colab": {
          "base_uri": "https://localhost:8080/"
        },
        "id": "b_XyNOm7UzJJ",
        "outputId": "66f396a7-1da5-44b2-d06d-bc67025afb47"
      },
      "execution_count": 69,
      "outputs": [
        {
          "output_type": "execute_result",
          "data": {
            "text/plain": [
              "3.123"
            ]
          },
          "metadata": {},
          "execution_count": 69
        }
      ]
    },
    {
      "cell_type": "code",
      "source": [
        "isinstance(a, int)"
      ],
      "metadata": {
        "colab": {
          "base_uri": "https://localhost:8080/"
        },
        "id": "3KQ1wqHFU6Ye",
        "outputId": "ef273b7a-7300-4af6-8827-55256e21d9f0"
      },
      "execution_count": 70,
      "outputs": [
        {
          "output_type": "execute_result",
          "data": {
            "text/plain": [
              "True"
            ]
          },
          "metadata": {},
          "execution_count": 70
        }
      ]
    },
    {
      "cell_type": "code",
      "source": [
        "isinstance(b, int)"
      ],
      "metadata": {
        "colab": {
          "base_uri": "https://localhost:8080/"
        },
        "id": "8EZiGYwKVHaF",
        "outputId": "9899ba9a-59f1-45dc-d745-ebd06e43befe"
      },
      "execution_count": 71,
      "outputs": [
        {
          "output_type": "execute_result",
          "data": {
            "text/plain": [
              "False"
            ]
          },
          "metadata": {},
          "execution_count": 71
        }
      ]
    },
    {
      "cell_type": "code",
      "source": [
        "isinstance(b, list)"
      ],
      "metadata": {
        "colab": {
          "base_uri": "https://localhost:8080/"
        },
        "id": "Jg5n5tWCVJNY",
        "outputId": "f86e494e-c8a7-4e89-8411-0249787f853b"
      },
      "execution_count": 72,
      "outputs": [
        {
          "output_type": "execute_result",
          "data": {
            "text/plain": [
              "True"
            ]
          },
          "metadata": {},
          "execution_count": 72
        }
      ]
    },
    {
      "cell_type": "code",
      "source": [
        "isinstance(c, float)"
      ],
      "metadata": {
        "colab": {
          "base_uri": "https://localhost:8080/"
        },
        "id": "Pr8aOzgLVLe4",
        "outputId": "683bea4d-31d5-4fbb-d8b1-87c03de08ce2"
      },
      "execution_count": 73,
      "outputs": [
        {
          "output_type": "execute_result",
          "data": {
            "text/plain": [
              "False"
            ]
          },
          "metadata": {},
          "execution_count": 73
        }
      ]
    },
    {
      "cell_type": "code",
      "source": [
        "c = 3.1459"
      ],
      "metadata": {
        "id": "dp3zW-qgVT9v"
      },
      "execution_count": 74,
      "outputs": []
    },
    {
      "cell_type": "code",
      "source": [
        "isinstance(c, float)"
      ],
      "metadata": {
        "colab": {
          "base_uri": "https://localhost:8080/"
        },
        "id": "aJcjNUiuVWvz",
        "outputId": "fca6b656-a934-41ad-aa0a-ffbfce697155"
      },
      "execution_count": 75,
      "outputs": [
        {
          "output_type": "execute_result",
          "data": {
            "text/plain": [
              "True"
            ]
          },
          "metadata": {},
          "execution_count": 75
        }
      ]
    },
    {
      "cell_type": "code",
      "source": [
        "longest_english_word = \"Chargoggagoggmanchauggauggagoggchaubunagungamaugg\""
      ],
      "metadata": {
        "id": "IZZH5TTaVYLd"
      },
      "execution_count": 76,
      "outputs": []
    },
    {
      "cell_type": "code",
      "source": [
        "longest_english_word.upper()"
      ],
      "metadata": {
        "colab": {
          "base_uri": "https://localhost:8080/",
          "height": 35
        },
        "id": "u_FUnwbKWfB6",
        "outputId": "3c8a0db4-c1b4-45d9-893a-db57676409a5"
      },
      "execution_count": 79,
      "outputs": [
        {
          "output_type": "execute_result",
          "data": {
            "text/plain": [
              "'CHARGOGGAGOGGMANCHAUGGAUGGAGOGGCHAUBUNAGUNGAMAUGG'"
            ],
            "application/vnd.google.colaboratory.intrinsic+json": {
              "type": "string"
            }
          },
          "metadata": {},
          "execution_count": 79
        }
      ]
    },
    {
      "cell_type": "code",
      "source": [
        "longest_arabic_word = \"أفاستسقيناكموها\""
      ],
      "metadata": {
        "id": "3_4oz1TaV3nM"
      },
      "execution_count": 77,
      "outputs": []
    },
    {
      "cell_type": "code",
      "source": [
        "longest_arabic_word.capitalize()"
      ],
      "metadata": {
        "colab": {
          "base_uri": "https://localhost:8080/",
          "height": 35
        },
        "id": "DYeKC5L-WIfd",
        "outputId": "ff548107-ad87-4e75-82f2-e9d40be11481"
      },
      "execution_count": 80,
      "outputs": [
        {
          "output_type": "execute_result",
          "data": {
            "text/plain": [
              "'أفاستسقيناكموها'"
            ],
            "application/vnd.google.colaboratory.intrinsic+json": {
              "type": "string"
            }
          },
          "metadata": {},
          "execution_count": 80
        }
      ]
    },
    {
      "cell_type": "code",
      "source": [
        "longest_arabic_word.upper()"
      ],
      "metadata": {
        "colab": {
          "base_uri": "https://localhost:8080/",
          "height": 35
        },
        "id": "UvnnWW41WnYr",
        "outputId": "3f0627ef-8758-4089-a775-d308de2e54ab"
      },
      "execution_count": 81,
      "outputs": [
        {
          "output_type": "execute_result",
          "data": {
            "text/plain": [
              "'أفاستسقيناكموها'"
            ],
            "application/vnd.google.colaboratory.intrinsic+json": {
              "type": "string"
            }
          },
          "metadata": {},
          "execution_count": 81
        }
      ]
    },
    {
      "cell_type": "code",
      "source": [
        "longest_arabic_word.count?"
      ],
      "metadata": {
        "id": "fHRKpxW1WzTV"
      },
      "execution_count": 83,
      "outputs": []
    },
    {
      "cell_type": "code",
      "source": [
        "longest_english_word.count?"
      ],
      "metadata": {
        "id": "Uyk6QKMoW10J"
      },
      "execution_count": 87,
      "outputs": []
    },
    {
      "cell_type": "code",
      "source": [
        "len(longest_arabic_word)"
      ],
      "metadata": {
        "colab": {
          "base_uri": "https://localhost:8080/"
        },
        "id": "YWn1bBkgW9mq",
        "outputId": "65b57d44-796a-4792-b971-a585fdb20c37"
      },
      "execution_count": 88,
      "outputs": [
        {
          "output_type": "execute_result",
          "data": {
            "text/plain": [
              "15"
            ]
          },
          "metadata": {},
          "execution_count": 88
        }
      ]
    },
    {
      "cell_type": "code",
      "source": [
        "len(longest_english_word)"
      ],
      "metadata": {
        "colab": {
          "base_uri": "https://localhost:8080/"
        },
        "id": "OFOOPKxTXHAi",
        "outputId": "904e83d1-9334-4968-8f30-f21ebb46c6aa"
      },
      "execution_count": 89,
      "outputs": [
        {
          "output_type": "execute_result",
          "data": {
            "text/plain": [
              "49"
            ]
          },
          "metadata": {},
          "execution_count": 89
        }
      ]
    },
    {
      "cell_type": "code",
      "source": [
        "aleph = longest_arabic_word[2]"
      ],
      "metadata": {
        "id": "qdhBmIetXf-0"
      },
      "execution_count": 92,
      "outputs": []
    },
    {
      "cell_type": "code",
      "source": [
        "longest_arabic_word.count(aleph)"
      ],
      "metadata": {
        "colab": {
          "base_uri": "https://localhost:8080/"
        },
        "id": "WlJ-NrSeXqYT",
        "outputId": "4a86624e-e4da-4c1d-8f2e-474a27c2c15f"
      },
      "execution_count": 93,
      "outputs": [
        {
          "output_type": "execute_result",
          "data": {
            "text/plain": [
              "3"
            ]
          },
          "metadata": {},
          "execution_count": 93
        }
      ]
    },
    {
      "cell_type": "code",
      "source": [
        "3 + 4"
      ],
      "metadata": {
        "colab": {
          "base_uri": "https://localhost:8080/"
        },
        "id": "efGQvvsrYEJ4",
        "outputId": "05286713-da2e-4bad-edb3-4d65147d268d"
      },
      "execution_count": 94,
      "outputs": [
        {
          "output_type": "execute_result",
          "data": {
            "text/plain": [
              "7"
            ]
          },
          "metadata": {},
          "execution_count": 94
        }
      ]
    },
    {
      "cell_type": "code",
      "source": [
        "3 - 4"
      ],
      "metadata": {
        "colab": {
          "base_uri": "https://localhost:8080/"
        },
        "id": "5dCP9S84fy8-",
        "outputId": "4c21677a-f206-477f-ea33-68d51b90a90d"
      },
      "execution_count": 95,
      "outputs": [
        {
          "output_type": "execute_result",
          "data": {
            "text/plain": [
              "-1"
            ]
          },
          "metadata": {},
          "execution_count": 95
        }
      ]
    },
    {
      "cell_type": "code",
      "source": [
        "3 * 5"
      ],
      "metadata": {
        "colab": {
          "base_uri": "https://localhost:8080/"
        },
        "id": "kj21YOpofz04",
        "outputId": "1127306f-50af-41ed-bdbd-2400de46d7ac"
      },
      "execution_count": 96,
      "outputs": [
        {
          "output_type": "execute_result",
          "data": {
            "text/plain": [
              "15"
            ]
          },
          "metadata": {},
          "execution_count": 96
        }
      ]
    },
    {
      "cell_type": "code",
      "source": [
        "3 / 5"
      ],
      "metadata": {
        "colab": {
          "base_uri": "https://localhost:8080/"
        },
        "id": "GDkkXoRUf0uk",
        "outputId": "89df7025-5ca8-4747-b250-279351e9bda2"
      },
      "execution_count": 97,
      "outputs": [
        {
          "output_type": "execute_result",
          "data": {
            "text/plain": [
              "0.6"
            ]
          },
          "metadata": {},
          "execution_count": 97
        }
      ]
    },
    {
      "cell_type": "code",
      "source": [
        "3**5"
      ],
      "metadata": {
        "colab": {
          "base_uri": "https://localhost:8080/"
        },
        "id": "yAniWri2f14e",
        "outputId": "ae3ca54a-eb8f-4ccc-9221-db29635c620a"
      },
      "execution_count": 98,
      "outputs": [
        {
          "output_type": "execute_result",
          "data": {
            "text/plain": [
              "243"
            ]
          },
          "metadata": {},
          "execution_count": 98
        }
      ]
    },
    {
      "cell_type": "code",
      "source": [
        "3 / 2.5"
      ],
      "metadata": {
        "colab": {
          "base_uri": "https://localhost:8080/"
        },
        "id": "l5k3oXmbf3nW",
        "outputId": "98827234-6307-40fb-9e4f-ecaa9972c5ff"
      },
      "execution_count": 99,
      "outputs": [
        {
          "output_type": "execute_result",
          "data": {
            "text/plain": [
              "1.2"
            ]
          },
          "metadata": {},
          "execution_count": 99
        }
      ]
    },
    {
      "cell_type": "code",
      "source": [
        "a = [1, 2, 3]\n",
        "b = a"
      ],
      "metadata": {
        "id": "1ABIjFhDgZT5"
      },
      "execution_count": 100,
      "outputs": []
    },
    {
      "cell_type": "code",
      "source": [
        "c = a.copy()"
      ],
      "metadata": {
        "id": "1BWI0CaRgf93"
      },
      "execution_count": 101,
      "outputs": []
    },
    {
      "cell_type": "code",
      "source": [
        "a is b"
      ],
      "metadata": {
        "colab": {
          "base_uri": "https://localhost:8080/"
        },
        "id": "ajCHyzQQgjLr",
        "outputId": "4c302de2-9d3b-4131-a880-5606e5686bd1"
      },
      "execution_count": 102,
      "outputs": [
        {
          "output_type": "execute_result",
          "data": {
            "text/plain": [
              "True"
            ]
          },
          "metadata": {},
          "execution_count": 102
        }
      ]
    },
    {
      "cell_type": "code",
      "source": [
        "a is c"
      ],
      "metadata": {
        "colab": {
          "base_uri": "https://localhost:8080/"
        },
        "id": "pmqKVMo8glnZ",
        "outputId": "22881dba-bf77-45e6-d721-bf5ccb76352d"
      },
      "execution_count": 103,
      "outputs": [
        {
          "output_type": "execute_result",
          "data": {
            "text/plain": [
              "False"
            ]
          },
          "metadata": {},
          "execution_count": 103
        }
      ]
    },
    {
      "cell_type": "code",
      "source": [
        "a"
      ],
      "metadata": {
        "colab": {
          "base_uri": "https://localhost:8080/"
        },
        "id": "9CrAV5mAgqwQ",
        "outputId": "c6f56447-f3ed-438a-a143-b46da78d3bbe"
      },
      "execution_count": 104,
      "outputs": [
        {
          "output_type": "execute_result",
          "data": {
            "text/plain": [
              "[1, 2, 3]"
            ]
          },
          "metadata": {},
          "execution_count": 104
        }
      ]
    },
    {
      "cell_type": "code",
      "source": [
        "c"
      ],
      "metadata": {
        "colab": {
          "base_uri": "https://localhost:8080/"
        },
        "id": "eAKrM9uVgsyh",
        "outputId": "cc418f01-1af7-4103-bcfe-f5b27a61469b"
      },
      "execution_count": 105,
      "outputs": [
        {
          "output_type": "execute_result",
          "data": {
            "text/plain": [
              "[1, 2, 3]"
            ]
          },
          "metadata": {},
          "execution_count": 105
        }
      ]
    },
    {
      "cell_type": "code",
      "source": [
        "b is c"
      ],
      "metadata": {
        "colab": {
          "base_uri": "https://localhost:8080/"
        },
        "id": "5AyiDuaHgtYs",
        "outputId": "e2aa70aa-0ffb-46e2-b5ed-9e25e3baa80a"
      },
      "execution_count": 106,
      "outputs": [
        {
          "output_type": "execute_result",
          "data": {
            "text/plain": [
              "False"
            ]
          },
          "metadata": {},
          "execution_count": 106
        }
      ]
    },
    {
      "cell_type": "code",
      "source": [
        "a is not c"
      ],
      "metadata": {
        "colab": {
          "base_uri": "https://localhost:8080/"
        },
        "id": "h7bGrOikgxE7",
        "outputId": "b09dea4c-900e-4c91-a82d-ec588b009f5e"
      },
      "execution_count": 107,
      "outputs": [
        {
          "output_type": "execute_result",
          "data": {
            "text/plain": [
              "True"
            ]
          },
          "metadata": {},
          "execution_count": 107
        }
      ]
    },
    {
      "cell_type": "code",
      "source": [
        "a == c"
      ],
      "metadata": {
        "colab": {
          "base_uri": "https://localhost:8080/"
        },
        "id": "Mw6jc9zjgyyt",
        "outputId": "18acab74-2281-4083-ea09-c297582464ae"
      },
      "execution_count": 108,
      "outputs": [
        {
          "output_type": "execute_result",
          "data": {
            "text/plain": [
              "True"
            ]
          },
          "metadata": {},
          "execution_count": 108
        }
      ]
    },
    {
      "cell_type": "code",
      "source": [
        "a.append(5)"
      ],
      "metadata": {
        "id": "68BEb5qHg3mP"
      },
      "execution_count": 109,
      "outputs": []
    },
    {
      "cell_type": "code",
      "source": [
        "a is b"
      ],
      "metadata": {
        "colab": {
          "base_uri": "https://localhost:8080/"
        },
        "id": "GkVzIPDTg9IA",
        "outputId": "fa2b3e22-0bc0-473e-b541-61e2f541f8a1"
      },
      "execution_count": 110,
      "outputs": [
        {
          "output_type": "execute_result",
          "data": {
            "text/plain": [
              "True"
            ]
          },
          "metadata": {},
          "execution_count": 110
        }
      ]
    },
    {
      "cell_type": "code",
      "source": [
        "a == c"
      ],
      "metadata": {
        "colab": {
          "base_uri": "https://localhost:8080/"
        },
        "id": "xveBjd_cg-fK",
        "outputId": "37dba53f-212f-4af7-cefe-1fe30b614c48"
      },
      "execution_count": 111,
      "outputs": [
        {
          "output_type": "execute_result",
          "data": {
            "text/plain": [
              "False"
            ]
          },
          "metadata": {},
          "execution_count": 111
        }
      ]
    },
    {
      "cell_type": "code",
      "source": [
        "a"
      ],
      "metadata": {
        "colab": {
          "base_uri": "https://localhost:8080/"
        },
        "id": "c_u2VUc1hBNE",
        "outputId": "2e208d68-1295-4702-d6d3-0d9ddf5be195"
      },
      "execution_count": 112,
      "outputs": [
        {
          "output_type": "execute_result",
          "data": {
            "text/plain": [
              "[1, 2, 3, 5]"
            ]
          },
          "metadata": {},
          "execution_count": 112
        }
      ]
    },
    {
      "cell_type": "code",
      "source": [
        "c"
      ],
      "metadata": {
        "colab": {
          "base_uri": "https://localhost:8080/"
        },
        "id": "9rUQeGCdhE5z",
        "outputId": "f9b44ccf-e5b7-457d-a87c-976793c65a0d"
      },
      "execution_count": 113,
      "outputs": [
        {
          "output_type": "execute_result",
          "data": {
            "text/plain": [
              "[1, 2, 3]"
            ]
          },
          "metadata": {},
          "execution_count": 113
        }
      ]
    },
    {
      "cell_type": "code",
      "source": [
        "None"
      ],
      "metadata": {
        "id": "zXli3g9_hFKf"
      },
      "execution_count": 114,
      "outputs": []
    },
    {
      "cell_type": "code",
      "source": [
        "s = print(\"hello world!\")"
      ],
      "metadata": {
        "colab": {
          "base_uri": "https://localhost:8080/"
        },
        "id": "BNCdjmTohHgj",
        "outputId": "5fd6b7be-0d77-46a2-903f-ba64fd6f0d20"
      },
      "execution_count": 116,
      "outputs": [
        {
          "output_type": "stream",
          "name": "stdout",
          "text": [
            "hello world!\n"
          ]
        }
      ]
    },
    {
      "cell_type": "code",
      "source": [
        "type(s)"
      ],
      "metadata": {
        "colab": {
          "base_uri": "https://localhost:8080/"
        },
        "id": "bJ-Vj52ihPlb",
        "outputId": "8a3d03bb-3634-4b87-f6ac-32123a0bcb10"
      },
      "execution_count": 118,
      "outputs": [
        {
          "output_type": "execute_result",
          "data": {
            "text/plain": [
              "NoneType"
            ]
          },
          "metadata": {},
          "execution_count": 118
        }
      ]
    },
    {
      "cell_type": "code",
      "source": [
        "s is None"
      ],
      "metadata": {
        "colab": {
          "base_uri": "https://localhost:8080/"
        },
        "id": "5EPx6dh4hUAb",
        "outputId": "45bbc932-98c2-4c78-b428-a641db8bbc34"
      },
      "execution_count": 119,
      "outputs": [
        {
          "output_type": "execute_result",
          "data": {
            "text/plain": [
              "True"
            ]
          },
          "metadata": {},
          "execution_count": 119
        }
      ]
    },
    {
      "cell_type": "code",
      "source": [
        "a = [1, 2, 3, 4, 5]"
      ],
      "metadata": {
        "id": "q96SOWMehYDW"
      },
      "execution_count": 120,
      "outputs": []
    },
    {
      "cell_type": "code",
      "source": [
        "a[2] = 42"
      ],
      "metadata": {
        "id": "uqMdl7nhhiZr"
      },
      "execution_count": 121,
      "outputs": []
    },
    {
      "cell_type": "code",
      "source": [
        "a"
      ],
      "metadata": {
        "colab": {
          "base_uri": "https://localhost:8080/"
        },
        "id": "APQ90Zl1hqh6",
        "outputId": "464c8173-574e-40a5-b909-a4f415affc0f"
      },
      "execution_count": 122,
      "outputs": [
        {
          "output_type": "execute_result",
          "data": {
            "text/plain": [
              "[1, 2, 42, 4, 5]"
            ]
          },
          "metadata": {},
          "execution_count": 122
        }
      ]
    },
    {
      "cell_type": "code",
      "source": [
        "s = \"David R. Pugh\""
      ],
      "metadata": {
        "id": "oOZVI6T4hrBr"
      },
      "execution_count": 123,
      "outputs": []
    },
    {
      "cell_type": "code",
      "source": [
        "s[6] = \"S\""
      ],
      "metadata": {
        "colab": {
          "base_uri": "https://localhost:8080/",
          "height": 167
        },
        "id": "sIwRHRvkhwyL",
        "outputId": "019a6f20-2550-4762-a619-a70fbdaac4a6"
      },
      "execution_count": 124,
      "outputs": [
        {
          "output_type": "error",
          "ename": "TypeError",
          "evalue": "ignored",
          "traceback": [
            "\u001b[0;31m---------------------------------------------------------------------------\u001b[0m",
            "\u001b[0;31mTypeError\u001b[0m                                 Traceback (most recent call last)",
            "\u001b[0;32m<ipython-input-124-e8285938ce05>\u001b[0m in \u001b[0;36m<cell line: 1>\u001b[0;34m()\u001b[0m\n\u001b[0;32m----> 1\u001b[0;31m \u001b[0ms\u001b[0m\u001b[0;34m[\u001b[0m\u001b[0;36m6\u001b[0m\u001b[0;34m]\u001b[0m \u001b[0;34m=\u001b[0m \u001b[0;34m\"S\"\u001b[0m\u001b[0;34m\u001b[0m\u001b[0;34m\u001b[0m\u001b[0m\n\u001b[0m",
            "\u001b[0;31mTypeError\u001b[0m: 'str' object does not support item assignment"
          ]
        }
      ]
    },
    {
      "cell_type": "code",
      "source": [
        "a = 17289034\n",
        "a**6"
      ],
      "metadata": {
        "colab": {
          "base_uri": "https://localhost:8080/"
        },
        "id": "i3KyGgDlh1tH",
        "outputId": "2e0dd5c6-1233-4bd9-c897-39215695fb05"
      },
      "execution_count": 125,
      "outputs": [
        {
          "output_type": "execute_result",
          "data": {
            "text/plain": [
              "26706954727407915153046078232877545658020416"
            ]
          },
          "metadata": {},
          "execution_count": 125
        }
      ]
    },
    {
      "cell_type": "code",
      "source": [
        "3.123523"
      ],
      "metadata": {
        "colab": {
          "base_uri": "https://localhost:8080/"
        },
        "id": "hHjfi5oqiYW8",
        "outputId": "ba977c67-c6f1-49ac-f77a-432c9725f5a9"
      },
      "execution_count": 126,
      "outputs": [
        {
          "output_type": "execute_result",
          "data": {
            "text/plain": [
              "3.123523"
            ]
          },
          "metadata": {},
          "execution_count": 126
        }
      ]
    },
    {
      "cell_type": "code",
      "source": [
        "6.15e-4"
      ],
      "metadata": {
        "colab": {
          "base_uri": "https://localhost:8080/"
        },
        "id": "HzYAs4bPic0V",
        "outputId": "662e4a0c-c513-426f-8ae2-4a0c8319ff95"
      },
      "execution_count": 127,
      "outputs": [
        {
          "output_type": "execute_result",
          "data": {
            "text/plain": [
              "0.000615"
            ]
          },
          "metadata": {},
          "execution_count": 127
        }
      ]
    },
    {
      "cell_type": "code",
      "source": [
        "6.13e4"
      ],
      "metadata": {
        "colab": {
          "base_uri": "https://localhost:8080/"
        },
        "id": "f4neqMizihJQ",
        "outputId": "db32c4cb-a835-4bd2-b78f-8e5d7b3369d3"
      },
      "execution_count": 128,
      "outputs": [
        {
          "output_type": "execute_result",
          "data": {
            "text/plain": [
              "61300.0"
            ]
          },
          "metadata": {},
          "execution_count": 128
        }
      ]
    },
    {
      "cell_type": "code",
      "source": [
        "6.13 * 10**4"
      ],
      "metadata": {
        "colab": {
          "base_uri": "https://localhost:8080/"
        },
        "id": "BYJ4BU_9ijSN",
        "outputId": "9cf43245-dcd2-474f-91fc-bae9680a022e"
      },
      "execution_count": 129,
      "outputs": [
        {
          "output_type": "execute_result",
          "data": {
            "text/plain": [
              "61300.0"
            ]
          },
          "metadata": {},
          "execution_count": 129
        }
      ]
    },
    {
      "cell_type": "code",
      "source": [
        "s = \"you can use double quotes for strings\""
      ],
      "metadata": {
        "id": "JEgV-OLuimjK"
      },
      "execution_count": 130,
      "outputs": []
    },
    {
      "cell_type": "code",
      "source": [
        "t = 'you can also use single quotes'"
      ],
      "metadata": {
        "id": "91lJTSsiiuWf"
      },
      "execution_count": 131,
      "outputs": []
    },
    {
      "cell_type": "code",
      "source": [
        "'this will not work\""
      ],
      "metadata": {
        "colab": {
          "base_uri": "https://localhost:8080/",
          "height": 132
        },
        "id": "TJbsuwP-ix1m",
        "outputId": "c573b282-2aba-4596-cb40-9adeee575885"
      },
      "execution_count": 132,
      "outputs": [
        {
          "output_type": "error",
          "ename": "SyntaxError",
          "evalue": "ignored",
          "traceback": [
            "\u001b[0;36m  File \u001b[0;32m\"<ipython-input-132-8213efa595ea>\"\u001b[0;36m, line \u001b[0;32m1\u001b[0m\n\u001b[0;31m    'this will not work\"\u001b[0m\n\u001b[0m    ^\u001b[0m\n\u001b[0;31mSyntaxError\u001b[0m\u001b[0;31m:\u001b[0m unterminated string literal (detected at line 1)\n"
          ]
        }
      ]
    },
    {
      "cell_type": "code",
      "source": [
        "\"you can nest single quotes within double quotes: the student's\""
      ],
      "metadata": {
        "colab": {
          "base_uri": "https://localhost:8080/",
          "height": 35
        },
        "id": "6ck-4rxdi8hM",
        "outputId": "a195bc11-2244-45bb-e378-09550b0dce26"
      },
      "execution_count": 133,
      "outputs": [
        {
          "output_type": "execute_result",
          "data": {
            "text/plain": [
              "\"you can nest single quotes within double quotes: the student's\""
            ],
            "application/vnd.google.colaboratory.intrinsic+json": {
              "type": "string"
            }
          },
          "metadata": {},
          "execution_count": 133
        }
      ]
    },
    {
      "cell_type": "code",
      "source": [
        "'you can nest single quotes within double quotes: the student's'"
      ],
      "metadata": {
        "colab": {
          "base_uri": "https://localhost:8080/",
          "height": 132
        },
        "id": "mc1J4Nf1jE9F",
        "outputId": "e5b5d221-127f-4a55-d2da-df1cae3ab13c"
      },
      "execution_count": 134,
      "outputs": [
        {
          "output_type": "error",
          "ename": "SyntaxError",
          "evalue": "ignored",
          "traceback": [
            "\u001b[0;36m  File \u001b[0;32m\"<ipython-input-134-ac97281816f6>\"\u001b[0;36m, line \u001b[0;32m1\u001b[0m\n\u001b[0;31m    'you can nest single quotes within double quotes: the student's'\u001b[0m\n\u001b[0m                                                                   ^\u001b[0m\n\u001b[0;31mSyntaxError\u001b[0m\u001b[0;31m:\u001b[0m unterminated string literal (detected at line 1)\n"
          ]
        }
      ]
    },
    {
      "cell_type": "code",
      "source": [
        "longest_arabic_word"
      ],
      "metadata": {
        "colab": {
          "base_uri": "https://localhost:8080/",
          "height": 35
        },
        "id": "Qzjk0FkGjKtK",
        "outputId": "aa963ba7-8554-4b7f-b21c-9c40ff3891d1"
      },
      "execution_count": 135,
      "outputs": [
        {
          "output_type": "execute_result",
          "data": {
            "text/plain": [
              "'أفاستسقيناكموها'"
            ],
            "application/vnd.google.colaboratory.intrinsic+json": {
              "type": "string"
            }
          },
          "metadata": {},
          "execution_count": 135
        }
      ]
    },
    {
      "cell_type": "code",
      "source": [
        "list_of_letters = list(longest_arabic_word)"
      ],
      "metadata": {
        "id": "Zw-DKvCRjT0s"
      },
      "execution_count": 136,
      "outputs": []
    },
    {
      "cell_type": "code",
      "source": [
        "longest_arabic_word"
      ],
      "metadata": {
        "colab": {
          "base_uri": "https://localhost:8080/",
          "height": 35
        },
        "id": "wf5mLdKZjr91",
        "outputId": "7e1fa1d2-c6cf-4603-8b4e-9c80bf8061a1"
      },
      "execution_count": 139,
      "outputs": [
        {
          "output_type": "execute_result",
          "data": {
            "text/plain": [
              "'أفاستسقيناكموها'"
            ],
            "application/vnd.google.colaboratory.intrinsic+json": {
              "type": "string"
            }
          },
          "metadata": {},
          "execution_count": 139
        }
      ]
    },
    {
      "cell_type": "code",
      "source": [
        "list_of_letters"
      ],
      "metadata": {
        "colab": {
          "base_uri": "https://localhost:8080/"
        },
        "id": "1CENm5d4jbHB",
        "outputId": "4cd1df2b-fcf3-40aa-9878-a0e905a97114"
      },
      "execution_count": 137,
      "outputs": [
        {
          "output_type": "execute_result",
          "data": {
            "text/plain": [
              "['أ', 'ف', 'ا', 'س', 'ت', 'س', 'ق', 'ي', 'ن', 'ا', 'ك', 'م', 'و', 'ه', 'ا']"
            ]
          },
          "metadata": {},
          "execution_count": 137
        }
      ]
    },
    {
      "cell_type": "code",
      "source": [
        "list_of_letters[0]"
      ],
      "metadata": {
        "colab": {
          "base_uri": "https://localhost:8080/",
          "height": 35
        },
        "id": "wFM6ryHAjctV",
        "outputId": "23eea5e7-0e45-48d6-8afc-3baf0e4eb207"
      },
      "execution_count": 138,
      "outputs": [
        {
          "output_type": "execute_result",
          "data": {
            "text/plain": [
              "'أ'"
            ],
            "application/vnd.google.colaboratory.intrinsic+json": {
              "type": "string"
            }
          },
          "metadata": {},
          "execution_count": 138
        }
      ]
    },
    {
      "cell_type": "code",
      "source": [
        "amount = 10\n",
        "rate = 3.75\n",
        "currency = \"SAR\"\n",
        "\n",
        "result = f\"{amount} {currency} is worth {amount / rate} USD.\""
      ],
      "metadata": {
        "id": "IyqDRy34jk44"
      },
      "execution_count": 140,
      "outputs": []
    },
    {
      "cell_type": "code",
      "source": [
        "print(result)"
      ],
      "metadata": {
        "colab": {
          "base_uri": "https://localhost:8080/"
        },
        "id": "9gHx2oCPkWgw",
        "outputId": "af76298c-7dd2-4833-8d80-4befd032c509"
      },
      "execution_count": 141,
      "outputs": [
        {
          "output_type": "stream",
          "name": "stdout",
          "text": [
            "10 SAR is worth 2.6666666666666665 USD.\n"
          ]
        }
      ]
    },
    {
      "cell_type": "code",
      "source": [
        "True and True"
      ],
      "metadata": {
        "colab": {
          "base_uri": "https://localhost:8080/"
        },
        "id": "QqXxK202kXYv",
        "outputId": "d66c0731-1e83-4187-ba9d-1f4b5f9d1889"
      },
      "execution_count": 142,
      "outputs": [
        {
          "output_type": "execute_result",
          "data": {
            "text/plain": [
              "True"
            ]
          },
          "metadata": {},
          "execution_count": 142
        }
      ]
    },
    {
      "cell_type": "code",
      "source": [
        "True and False"
      ],
      "metadata": {
        "colab": {
          "base_uri": "https://localhost:8080/"
        },
        "id": "OoQ11QFnkhgN",
        "outputId": "74b61fb8-42d6-41cf-abf8-443434ef7110"
      },
      "execution_count": 143,
      "outputs": [
        {
          "output_type": "execute_result",
          "data": {
            "text/plain": [
              "False"
            ]
          },
          "metadata": {},
          "execution_count": 143
        }
      ]
    },
    {
      "cell_type": "code",
      "source": [
        "False and True"
      ],
      "metadata": {
        "colab": {
          "base_uri": "https://localhost:8080/"
        },
        "id": "5E7IRMsZkjVp",
        "outputId": "5b2ecfc8-d338-4bd3-892c-27b72b328ef7"
      },
      "execution_count": 144,
      "outputs": [
        {
          "output_type": "execute_result",
          "data": {
            "text/plain": [
              "False"
            ]
          },
          "metadata": {},
          "execution_count": 144
        }
      ]
    },
    {
      "cell_type": "code",
      "source": [
        "False and False"
      ],
      "metadata": {
        "colab": {
          "base_uri": "https://localhost:8080/"
        },
        "id": "rqGgVxGpkkr2",
        "outputId": "379b758c-0d0c-4589-e608-391c7f17ba8b"
      },
      "execution_count": 145,
      "outputs": [
        {
          "output_type": "execute_result",
          "data": {
            "text/plain": [
              "False"
            ]
          },
          "metadata": {},
          "execution_count": 145
        }
      ]
    },
    {
      "cell_type": "code",
      "source": [
        "True or True"
      ],
      "metadata": {
        "colab": {
          "base_uri": "https://localhost:8080/"
        },
        "id": "ggZxn8oQkl0S",
        "outputId": "fcf3635b-8a7b-4dff-ef57-839aed6bce50"
      },
      "execution_count": 146,
      "outputs": [
        {
          "output_type": "execute_result",
          "data": {
            "text/plain": [
              "True"
            ]
          },
          "metadata": {},
          "execution_count": 146
        }
      ]
    },
    {
      "cell_type": "code",
      "source": [
        "False or True"
      ],
      "metadata": {
        "colab": {
          "base_uri": "https://localhost:8080/"
        },
        "id": "msywMr1Mkqei",
        "outputId": "e1422121-8552-4a53-a49e-41f9c980f79d"
      },
      "execution_count": 147,
      "outputs": [
        {
          "output_type": "execute_result",
          "data": {
            "text/plain": [
              "True"
            ]
          },
          "metadata": {},
          "execution_count": 147
        }
      ]
    },
    {
      "cell_type": "code",
      "source": [
        "True or False"
      ],
      "metadata": {
        "colab": {
          "base_uri": "https://localhost:8080/"
        },
        "id": "apcOjXgLkrtm",
        "outputId": "793c0f7d-23fa-4463-d356-a2700d4c4ad0"
      },
      "execution_count": 148,
      "outputs": [
        {
          "output_type": "execute_result",
          "data": {
            "text/plain": [
              "True"
            ]
          },
          "metadata": {},
          "execution_count": 148
        }
      ]
    },
    {
      "cell_type": "code",
      "source": [
        "False or False"
      ],
      "metadata": {
        "colab": {
          "base_uri": "https://localhost:8080/"
        },
        "id": "bPy7RU9UktHK",
        "outputId": "ea309b07-9ebc-4d55-f6ca-41fef7f29127"
      },
      "execution_count": 149,
      "outputs": [
        {
          "output_type": "execute_result",
          "data": {
            "text/plain": [
              "False"
            ]
          },
          "metadata": {},
          "execution_count": 149
        }
      ]
    },
    {
      "cell_type": "code",
      "source": [
        "int(True)"
      ],
      "metadata": {
        "colab": {
          "base_uri": "https://localhost:8080/"
        },
        "id": "EIphIUD-kuIm",
        "outputId": "d286031e-cab9-4427-c67e-3979fb08175e"
      },
      "execution_count": 150,
      "outputs": [
        {
          "output_type": "execute_result",
          "data": {
            "text/plain": [
              "1"
            ]
          },
          "metadata": {},
          "execution_count": 150
        }
      ]
    },
    {
      "cell_type": "code",
      "source": [
        "int(False)"
      ],
      "metadata": {
        "colab": {
          "base_uri": "https://localhost:8080/"
        },
        "id": "6t5XBvsJkxCg",
        "outputId": "4c9832e2-3a56-455e-ff97-e5fce376ac34"
      },
      "execution_count": 151,
      "outputs": [
        {
          "output_type": "execute_result",
          "data": {
            "text/plain": [
              "0"
            ]
          },
          "metadata": {},
          "execution_count": 151
        }
      ]
    },
    {
      "cell_type": "code",
      "source": [
        "True + True"
      ],
      "metadata": {
        "colab": {
          "base_uri": "https://localhost:8080/"
        },
        "id": "y57OV_-VkyzK",
        "outputId": "a50aea92-523b-424e-9ec3-26a659313d93"
      },
      "execution_count": 152,
      "outputs": [
        {
          "output_type": "execute_result",
          "data": {
            "text/plain": [
              "2"
            ]
          },
          "metadata": {},
          "execution_count": 152
        }
      ]
    },
    {
      "cell_type": "code",
      "source": [
        "survived = [True, True, False, True, False, True, True, False]"
      ],
      "metadata": {
        "id": "HIxA4RwAlIBL"
      },
      "execution_count": 153,
      "outputs": []
    },
    {
      "cell_type": "code",
      "source": [
        "sum(survived)"
      ],
      "metadata": {
        "colab": {
          "base_uri": "https://localhost:8080/"
        },
        "id": "bO-wAZ1Blfqs",
        "outputId": "517f7937-ae32-454d-aefa-770ce5608aa3"
      },
      "execution_count": 154,
      "outputs": [
        {
          "output_type": "execute_result",
          "data": {
            "text/plain": [
              "5"
            ]
          },
          "metadata": {},
          "execution_count": 154
        }
      ]
    },
    {
      "cell_type": "code",
      "source": [
        "len(survived) - sum(survived)"
      ],
      "metadata": {
        "colab": {
          "base_uri": "https://localhost:8080/"
        },
        "id": "QXTZQhGqll0P",
        "outputId": "9ab4cce4-42d1-437a-f1fe-748b0eb1272d"
      },
      "execution_count": 156,
      "outputs": [
        {
          "output_type": "execute_result",
          "data": {
            "text/plain": [
              "3"
            ]
          },
          "metadata": {},
          "execution_count": 156
        }
      ]
    },
    {
      "cell_type": "code",
      "source": [
        "sum(survived) / len(survived)"
      ],
      "metadata": {
        "colab": {
          "base_uri": "https://localhost:8080/"
        },
        "id": "1dKfYNgHlrCY",
        "outputId": "01efe91d-9da7-46f6-90e4-7717aecfbd35"
      },
      "execution_count": 157,
      "outputs": [
        {
          "output_type": "execute_result",
          "data": {
            "text/plain": [
              "0.625"
            ]
          },
          "metadata": {},
          "execution_count": 157
        }
      ]
    },
    {
      "cell_type": "code",
      "source": [
        "import datetime"
      ],
      "metadata": {
        "id": "giIPrMiSl2Im"
      },
      "execution_count": 158,
      "outputs": []
    },
    {
      "cell_type": "code",
      "source": [
        "d = datetime.datetime(2011, 10, 29, 15, 45, 30)"
      ],
      "metadata": {
        "id": "YSXfMtd5mA3a"
      },
      "execution_count": 161,
      "outputs": []
    },
    {
      "cell_type": "code",
      "source": [
        "d"
      ],
      "metadata": {
        "colab": {
          "base_uri": "https://localhost:8080/"
        },
        "id": "jBvzx0ccnM0R",
        "outputId": "49af473d-1c51-4bda-d373-37c7d79b4eef"
      },
      "execution_count": 162,
      "outputs": [
        {
          "output_type": "execute_result",
          "data": {
            "text/plain": [
              "datetime.datetime(2011, 10, 29, 15, 45, 30)"
            ]
          },
          "metadata": {},
          "execution_count": 162
        }
      ]
    },
    {
      "cell_type": "code",
      "source": [
        "d.day"
      ],
      "metadata": {
        "colab": {
          "base_uri": "https://localhost:8080/"
        },
        "id": "4UZAdLHvnTJM",
        "outputId": "610ee3a7-1f38-4c08-fb9c-fa7347d5b59b"
      },
      "execution_count": 163,
      "outputs": [
        {
          "output_type": "execute_result",
          "data": {
            "text/plain": [
              "29"
            ]
          },
          "metadata": {},
          "execution_count": 163
        }
      ]
    },
    {
      "cell_type": "code",
      "source": [
        "d.year"
      ],
      "metadata": {
        "colab": {
          "base_uri": "https://localhost:8080/"
        },
        "id": "Thk67i6BnXTJ",
        "outputId": "0330d799-aae0-44c1-af63-969ef0b0f183"
      },
      "execution_count": 164,
      "outputs": [
        {
          "output_type": "execute_result",
          "data": {
            "text/plain": [
              "2011"
            ]
          },
          "metadata": {},
          "execution_count": 164
        }
      ]
    },
    {
      "cell_type": "code",
      "source": [
        "d.second"
      ],
      "metadata": {
        "colab": {
          "base_uri": "https://localhost:8080/"
        },
        "id": "A1fhAoFdnYVC",
        "outputId": "237c43c0-7741-4191-ab3c-bb41ad04f897"
      },
      "execution_count": 165,
      "outputs": [
        {
          "output_type": "execute_result",
          "data": {
            "text/plain": [
              "30"
            ]
          },
          "metadata": {},
          "execution_count": 165
        }
      ]
    },
    {
      "cell_type": "code",
      "source": [
        "d.date()"
      ],
      "metadata": {
        "colab": {
          "base_uri": "https://localhost:8080/"
        },
        "id": "kuWuuj4Tna6o",
        "outputId": "d8e4bd51-a67f-47c4-e369-27e199b3d9af"
      },
      "execution_count": 166,
      "outputs": [
        {
          "output_type": "execute_result",
          "data": {
            "text/plain": [
              "datetime.date(2011, 10, 29)"
            ]
          },
          "metadata": {},
          "execution_count": 166
        }
      ]
    },
    {
      "cell_type": "code",
      "source": [
        "d.time()"
      ],
      "metadata": {
        "colab": {
          "base_uri": "https://localhost:8080/"
        },
        "id": "OykcbtZbne4n",
        "outputId": "9a8c1b37-fbbf-4d97-c960-13c33ec2baef"
      },
      "execution_count": 167,
      "outputs": [
        {
          "output_type": "execute_result",
          "data": {
            "text/plain": [
              "datetime.time(15, 45, 30)"
            ]
          },
          "metadata": {},
          "execution_count": 167
        }
      ]
    },
    {
      "cell_type": "code",
      "source": [
        "d.strftime(\"%Y-%m-%d %H:%M\")"
      ],
      "metadata": {
        "colab": {
          "base_uri": "https://localhost:8080/",
          "height": 35
        },
        "id": "FJaQl4fyngCF",
        "outputId": "917aa95f-d655-4fcd-f26c-1e25403963e1"
      },
      "execution_count": 168,
      "outputs": [
        {
          "output_type": "execute_result",
          "data": {
            "text/plain": [
              "'2011-10-29 15:45'"
            ],
            "application/vnd.google.colaboratory.intrinsic+json": {
              "type": "string"
            }
          },
          "metadata": {},
          "execution_count": 168
        }
      ]
    },
    {
      "cell_type": "code",
      "source": [],
      "metadata": {
        "id": "y9qmZ6Rvnqrh"
      },
      "execution_count": null,
      "outputs": []
    },
    {
      "cell_type": "markdown",
      "source": [
        "## Control Flow"
      ],
      "metadata": {
        "id": "allrgOyos1Dm"
      }
    },
    {
      "cell_type": "markdown",
      "source": [
        "### if, elif, else"
      ],
      "metadata": {
        "id": "61MwMnGHs3Y3"
      }
    },
    {
      "cell_type": "code",
      "source": [
        "x = -0.1234\n",
        "if x < 0:\n",
        "    print(f\"{x} is negative!\")\n",
        "elif x == 0:\n",
        "    print(f\"{x} is zero!\")\n",
        "else:\n",
        "    print(f\"{x} is positive\")"
      ],
      "metadata": {
        "colab": {
          "base_uri": "https://localhost:8080/"
        },
        "id": "JqmUGC_Vs2RA",
        "outputId": "264899b5-f3b3-4f3a-c642-b3525cf8e943"
      },
      "execution_count": 175,
      "outputs": [
        {
          "output_type": "stream",
          "name": "stdout",
          "text": [
            "-0.1234 is negative!\n"
          ]
        }
      ]
    },
    {
      "cell_type": "code",
      "source": [
        "x = 97\n",
        "if x < 0:\n",
        "    print(f\"{x} is negative!\")\n",
        "elif x == 0:\n",
        "    print(f\"{x} is zero!\")\n",
        "else:\n",
        "    print(f\"{x} is positive\")\n",
        "\n",
        "if x % 2 == 0:\n",
        "    print(f\"{x} is even!\")\n",
        "else:\n",
        "    print(f\"{x} is odd!\")\n",
        "\n",
        "if x % 3 == 0:\n",
        "    print(f\"{x} is divisible by 3!\")\n",
        "if x % 5 == 0:\n",
        "    print(f\"{x} is divisible by 5!\")\n",
        "if x % 7 == 0:\n",
        "    print(f\"{x} is divisible by 7!\")\n",
        "if x % 11 == 0:\n",
        "    print(f\"{x} is divisible by 11!\")\n",
        "if x % 13 == 0:\n",
        "    print(f\"{x} is divisible by 13!\")\n"
      ],
      "metadata": {
        "colab": {
          "base_uri": "https://localhost:8080/"
        },
        "id": "PZIxSGtouS2W",
        "outputId": "332b7f84-010e-4b81-c5ee-1e77ebabedc0"
      },
      "execution_count": 181,
      "outputs": [
        {
          "output_type": "stream",
          "name": "stdout",
          "text": [
            "97 is positive\n",
            "97 is odd!\n"
          ]
        }
      ]
    },
    {
      "cell_type": "markdown",
      "source": [
        "### for loops"
      ],
      "metadata": {
        "id": "fxctMoIEs2rf"
      }
    },
    {
      "cell_type": "code",
      "source": [
        "values = [1, 2, 3, 4, 5, 6]\n",
        "total = 0\n",
        "for value in values:\n",
        "    print(value)\n",
        "    total = value + total"
      ],
      "metadata": {
        "colab": {
          "base_uri": "https://localhost:8080/"
        },
        "id": "izheodcPs7iY",
        "outputId": "ff43996b-f374-4394-9c03-50f612b8cca1"
      },
      "execution_count": 184,
      "outputs": [
        {
          "output_type": "stream",
          "name": "stdout",
          "text": [
            "1\n",
            "2\n",
            "3\n",
            "4\n",
            "5\n",
            "6\n"
          ]
        }
      ]
    },
    {
      "cell_type": "code",
      "source": [
        "total"
      ],
      "metadata": {
        "colab": {
          "base_uri": "https://localhost:8080/"
        },
        "id": "C-4CYXKXwQ9-",
        "outputId": "51bb5b71-eb40-4077-e866-79ade45f18b2"
      },
      "execution_count": 183,
      "outputs": [
        {
          "output_type": "execute_result",
          "data": {
            "text/plain": [
              "21"
            ]
          },
          "metadata": {},
          "execution_count": 183
        }
      ]
    },
    {
      "cell_type": "code",
      "source": [
        "values = [1, 2, 3, 4, 5, 6, 7, 8, 9]\n",
        "evens = []\n",
        "odds = []\n",
        "\n",
        "for value in values:\n",
        "    if value % 2 == 0:\n",
        "        evens.append(value)\n",
        "    else:\n",
        "        odds.append(value)"
      ],
      "metadata": {
        "id": "IBS8zSOhwfAp"
      },
      "execution_count": 185,
      "outputs": []
    },
    {
      "cell_type": "code",
      "source": [
        "evens"
      ],
      "metadata": {
        "colab": {
          "base_uri": "https://localhost:8080/"
        },
        "id": "P-8fgYfawvyX",
        "outputId": "d7d49891-afc7-4dae-f257-8c01121a009b"
      },
      "execution_count": 186,
      "outputs": [
        {
          "output_type": "execute_result",
          "data": {
            "text/plain": [
              "[2, 4, 6, 8]"
            ]
          },
          "metadata": {},
          "execution_count": 186
        }
      ]
    },
    {
      "cell_type": "code",
      "source": [
        "odds"
      ],
      "metadata": {
        "colab": {
          "base_uri": "https://localhost:8080/"
        },
        "id": "HFD3Pt-nwxJ3",
        "outputId": "40854b73-42c9-4d26-a184-b8b285e3d39f"
      },
      "execution_count": 187,
      "outputs": [
        {
          "output_type": "execute_result",
          "data": {
            "text/plain": [
              "[1, 3, 5, 7, 9]"
            ]
          },
          "metadata": {},
          "execution_count": 187
        }
      ]
    },
    {
      "cell_type": "code",
      "source": [
        "for i in [1, 2, 3, 4]:\n",
        "    for j in [1, 2, 3, 4]:\n",
        "        print(f\"i={i}, j={j}, total={i+j}\") "
      ],
      "metadata": {
        "colab": {
          "base_uri": "https://localhost:8080/"
        },
        "id": "YuMN6xG-wzzJ",
        "outputId": "630a1efd-b02a-4335-a1f2-72b2fa00a225"
      },
      "execution_count": 188,
      "outputs": [
        {
          "output_type": "stream",
          "name": "stdout",
          "text": [
            "i=1, j=1, total=2\n",
            "i=1, j=2, total=3\n",
            "i=1, j=3, total=4\n",
            "i=1, j=4, total=5\n",
            "i=2, j=1, total=3\n",
            "i=2, j=2, total=4\n",
            "i=2, j=3, total=5\n",
            "i=2, j=4, total=6\n",
            "i=3, j=1, total=4\n",
            "i=3, j=2, total=5\n",
            "i=3, j=3, total=6\n",
            "i=3, j=4, total=7\n",
            "i=4, j=1, total=5\n",
            "i=4, j=2, total=6\n",
            "i=4, j=3, total=7\n",
            "i=4, j=4, total=8\n"
          ]
        }
      ]
    },
    {
      "cell_type": "markdown",
      "source": [
        "### while loops"
      ],
      "metadata": {
        "id": "vrLW7kz8s7_3"
      }
    },
    {
      "cell_type": "code",
      "source": [
        "x = 1\n",
        "while x < 100:\n",
        "   print(x)\n",
        "   x = 2 * x\n",
        "\n",
        "print(f\"Final value of x is {x}\")"
      ],
      "metadata": {
        "colab": {
          "base_uri": "https://localhost:8080/"
        },
        "id": "ni5y6SF_s9RT",
        "outputId": "df74156d-e6eb-4165-ebb4-559d5948d1a3"
      },
      "execution_count": 191,
      "outputs": [
        {
          "output_type": "stream",
          "name": "stdout",
          "text": [
            "1\n",
            "2\n",
            "4\n",
            "8\n",
            "16\n",
            "32\n",
            "64\n",
            "Final value of x is 128\n"
          ]
        }
      ]
    },
    {
      "cell_type": "markdown",
      "source": [
        "## Exercises"
      ],
      "metadata": {
        "id": "lQZ6jrz9AYXg"
      }
    },
    {
      "cell_type": "code",
      "source": [
        "pi = 3.14159\n",
        "diameter = 2\n",
        "\n",
        "# define a variable called radius whose value is half the diameter\n",
        "radius = diameter / 2\n",
        "\n",
        "# define a variable called area whose value is the area of a circle\n",
        "area = pi * radius**2\n",
        "\n",
        "# define a variable called volume whose value is the volume of a sphere\n",
        "volume = (4 / 3) * pi * radius**3\n",
        "\n",
        "# print the following message\n",
        "message = f\"The area of the circle with radius {radius} is {area} and its volume is {volume}.\"\n",
        "print(message)"
      ],
      "metadata": {
        "colab": {
          "base_uri": "https://localhost:8080/"
        },
        "id": "Y4w1XAzFAcEx",
        "outputId": "0b1b0d75-38b6-4003-d8ba-54d958478b19"
      },
      "execution_count": 192,
      "outputs": [
        {
          "output_type": "stream",
          "name": "stdout",
          "text": [
            "The area of the circle with radius 1.0 is 3.14159 and its volume is 4.188786666666666.\n"
          ]
        }
      ]
    },
    {
      "cell_type": "code",
      "source": [],
      "metadata": {
        "id": "61vP4bj1AX0d"
      },
      "execution_count": null,
      "outputs": []
    },
    {
      "cell_type": "code",
      "source": [
        "r = 3.5\n",
        "x = 0.5\n",
        "T = 100\n",
        "trajectory = [x]\n",
        "\n",
        "for _ in range(T):\n",
        "    x = r * x * (1 - x)\n",
        "    trajectory.append(x)\n",
        "\n",
        "print(trajectory)"
      ],
      "metadata": {
        "colab": {
          "base_uri": "https://localhost:8080/"
        },
        "id": "tvvIxfB2xlnr",
        "outputId": "00d869aa-011d-4df2-bd76-871c70b32a18"
      },
      "execution_count": 193,
      "outputs": [
        {
          "output_type": "stream",
          "name": "stdout",
          "text": [
            "[0.5, 0.875, 0.3828125, 0.826934814453125, 0.5008976948447526, 0.87499717950388, 0.3828199037744718, 0.826940887670016, 0.500883795893397, 0.8749972661668659, 0.38281967628581853, 0.8269407010698389, 0.5008842229438679, 0.8749972635242493, 0.3828196832226365, 0.8269407067598487, 0.5008842099217973, 0.8749972636048496, 0.3828196830110622, 0.8269407065863021, 0.5008842103189732, 0.8749972636023914, 0.38281968301751507, 0.8269407065915954, 0.5008842103068593, 0.8749972636024664, 0.38281968301731806, 0.8269407065914337, 0.5008842103072292, 0.8749972636024641, 0.38281968301732416, 0.8269407065914387, 0.5008842103072179, 0.8749972636024641, 0.38281968301732416, 0.8269407065914387, 0.5008842103072179, 0.8749972636024641, 0.38281968301732416, 0.8269407065914387, 0.5008842103072179, 0.8749972636024641, 0.38281968301732416, 0.8269407065914387, 0.5008842103072179, 0.8749972636024641, 0.38281968301732416, 0.8269407065914387, 0.5008842103072179, 0.8749972636024641, 0.38281968301732416, 0.8269407065914387, 0.5008842103072179, 0.8749972636024641, 0.38281968301732416, 0.8269407065914387, 0.5008842103072179, 0.8749972636024641, 0.38281968301732416, 0.8269407065914387, 0.5008842103072179, 0.8749972636024641, 0.38281968301732416, 0.8269407065914387, 0.5008842103072179, 0.8749972636024641, 0.38281968301732416, 0.8269407065914387, 0.5008842103072179, 0.8749972636024641, 0.38281968301732416, 0.8269407065914387, 0.5008842103072179, 0.8749972636024641, 0.38281968301732416, 0.8269407065914387, 0.5008842103072179, 0.8749972636024641, 0.38281968301732416, 0.8269407065914387, 0.5008842103072179, 0.8749972636024641, 0.38281968301732416, 0.8269407065914387, 0.5008842103072179, 0.8749972636024641, 0.38281968301732416, 0.8269407065914387, 0.5008842103072179, 0.8749972636024641, 0.38281968301732416, 0.8269407065914387, 0.5008842103072179, 0.8749972636024641, 0.38281968301732416, 0.8269407065914387, 0.5008842103072179, 0.8749972636024641, 0.38281968301732416, 0.8269407065914387, 0.5008842103072179]\n"
          ]
        }
      ]
    },
    {
      "cell_type": "code",
      "source": [
        "import matplotlib.pyplot as plt"
      ],
      "metadata": {
        "id": "GaUfER7bIU9N"
      },
      "execution_count": 194,
      "outputs": []
    },
    {
      "cell_type": "code",
      "source": [
        "plt.plot(trajectory)"
      ],
      "metadata": {
        "colab": {
          "base_uri": "https://localhost:8080/",
          "height": 448
        },
        "id": "VB0abRtDIZ2S",
        "outputId": "b5dda33a-b30f-4819-e084-2fdbce5a87af"
      },
      "execution_count": 195,
      "outputs": [
        {
          "output_type": "execute_result",
          "data": {
            "text/plain": [
              "[<matplotlib.lines.Line2D at 0x7fd59c62d2a0>]"
            ]
          },
          "metadata": {},
          "execution_count": 195
        },
        {
          "output_type": "display_data",
          "data": {
            "text/plain": [
              "<Figure size 640x480 with 1 Axes>"
            ],
            "image/png": "[encoded data removed]"
          },
          "metadata": {}
        }
      ]
    },
    {
      "cell_type": "code",
      "source": [
        "r = 3.5\n",
        "x = 0.5\n",
        "t = 0\n",
        "T = 100\n",
        "trajectory = [x]\n",
        "\n",
        "while t < T:\n",
        "    x = r * x * (1 - x)\n",
        "    trajectory.append(x)\n",
        "    t = t + 1\n",
        "\n",
        "print(trajectory)"
      ],
      "metadata": {
        "colab": {
          "base_uri": "https://localhost:8080/"
        },
        "id": "MZ-r3Y_aIbVq",
        "outputId": "e9c81d29-0e62-4b10-90f9-4f7f7382d769"
      },
      "execution_count": 196,
      "outputs": [
        {
          "output_type": "stream",
          "name": "stdout",
          "text": [
            "[0.5, 0.875, 0.3828125, 0.826934814453125, 0.5008976948447526, 0.87499717950388, 0.3828199037744718, 0.826940887670016, 0.500883795893397, 0.8749972661668659, 0.38281967628581853, 0.8269407010698389, 0.5008842229438679, 0.8749972635242493, 0.3828196832226365, 0.8269407067598487, 0.5008842099217973, 0.8749972636048496, 0.3828196830110622, 0.8269407065863021, 0.5008842103189732, 0.8749972636023914, 0.38281968301751507, 0.8269407065915954, 0.5008842103068593, 0.8749972636024664, 0.38281968301731806, 0.8269407065914337, 0.5008842103072292, 0.8749972636024641, 0.38281968301732416, 0.8269407065914387, 0.5008842103072179, 0.8749972636024641, 0.38281968301732416, 0.8269407065914387, 0.5008842103072179, 0.8749972636024641, 0.38281968301732416, 0.8269407065914387, 0.5008842103072179, 0.8749972636024641, 0.38281968301732416, 0.8269407065914387, 0.5008842103072179, 0.8749972636024641, 0.38281968301732416, 0.8269407065914387, 0.5008842103072179, 0.8749972636024641, 0.38281968301732416, 0.8269407065914387, 0.5008842103072179, 0.8749972636024641, 0.38281968301732416, 0.8269407065914387, 0.5008842103072179, 0.8749972636024641, 0.38281968301732416, 0.8269407065914387, 0.5008842103072179, 0.8749972636024641, 0.38281968301732416, 0.8269407065914387, 0.5008842103072179, 0.8749972636024641, 0.38281968301732416, 0.8269407065914387, 0.5008842103072179, 0.8749972636024641, 0.38281968301732416, 0.8269407065914387, 0.5008842103072179, 0.8749972636024641, 0.38281968301732416, 0.8269407065914387, 0.5008842103072179, 0.8749972636024641, 0.38281968301732416, 0.8269407065914387, 0.5008842103072179, 0.8749972636024641, 0.38281968301732416, 0.8269407065914387, 0.5008842103072179, 0.8749972636024641, 0.38281968301732416, 0.8269407065914387, 0.5008842103072179, 0.8749972636024641, 0.38281968301732416, 0.8269407065914387, 0.5008842103072179, 0.8749972636024641, 0.38281968301732416, 0.8269407065914387, 0.5008842103072179, 0.8749972636024641, 0.38281968301732416, 0.8269407065914387, 0.5008842103072179]\n"
          ]
        }
      ]
    },
    {
      "cell_type": "code",
      "source": [],
      "metadata": {
        "id": "BLJSoes4Ixct"
      },
      "execution_count": null,
      "outputs": []
    }
  ]
}
{
  "metadata": {
    "kernelspec": {
      "name": "python3",
      "display_name": "Python 3 (ipykernel)",
      "language": "python"
    },
    "language_info": {
      "name": "python",
      "version": "3.7.12",
      "mimetype": "text/x-python",
      "codemirror_mode": {
        "name": "ipython",
        "version": 3
      },
      "pygments_lexer": "ipython3",
      "nbconvert_exporter": "python",
      "file_extension": ".py"
    },
    "colab": {
      "provenance": []
    }
  },
  "nbformat_minor": 0,
  "nbformat": 4,
  "cells": [
    {
      "cell_type": "code",
      "source": [
        "import io\n",
        "import os\n",
        "import pathlib\n",
        "import requests\n",
        "import zipfile\n",
        "\n",
        "import matplotlib.pyplot as plt\n",
        "import numpy as np\n",
        "import pandas as pd"
      ],
      "metadata": {
        "trusted": true,
        "id": "wMxgBE6Ncjnj"
      },
      "execution_count": 1,
      "outputs": []
    },
    {
      "cell_type": "markdown",
      "source": [
        "## Downloading the data"
      ],
      "metadata": {
        "id": "ciz9769YoWD3"
      }
    },
    {
      "cell_type": "code",
      "source": [
        "ROOT_DIR = pathlib.Path(\"..\")\n",
        "\n",
        "DATASETS_URL = \"https://urldefense.com/v3/__https://github.com/KAUST-Academy/python-for-data-analysis/raw/november-2022/datasets.zip*5C*22*5Cn*22__;JSUlJQ!!Nmw4Hv0!wCA2Ov1G9trU5SVf2SPnxQEK7WNP52Y2sE6ITvCnnzBUO5rzPtdzfbt-l2AKbSCM8E_x5YXCf3Qo0WngDLw_II7j-Qh2-p1Pp4FdKA$ ,
        "\n",
        "response = requests.get(DATASETS_URL)\n",
        "z = zipfile.ZipFile(io.BytesIO(response.content))\n",
        "z.extractall(ROOT_DIR)\n"
      ],
      "metadata": {
        "id": "SZ3KboMKcqBC"
      },
      "execution_count": 2,
      "outputs": []
    },
    {
      "cell_type": "code",
      "source": [
        "DATASETS_DIR = ROOT_DIR / \"datasets\"\n",
        "DATASET_DIR = DATASETS_DIR / \"movielens\""
      ],
      "metadata": {
        "id": "d7Hy8Bpnc9XZ"
      },
      "execution_count": 3,
      "outputs": []
    },
    {
      "cell_type": "code",
      "source": [
        "!cat $DATASET_DIR/README"
      ],
      "metadata": {
        "colab": {
          "base_uri": "https://urldefense.com/v3/__https://localhost:8080/__;!!Nmw4Hv0!wCA2Ov1G9trU5SVf2SPnxQEK7WNP52Y2sE6ITvCnnzBUO5rzPtdzfbt-l2AKbSCM8E_x5YXCf3Qo0WngDLw_II7j-Qh2-p3-vYROew$ "
        },
        "id": "r1FAEaBMbo9g",
        "outputId": "56916941-aa8c-4263-ae77-70b0c2e5f226"
      },
      "execution_count": 4,
      "outputs": [
        {
          "output_type": "stream",
          "name": "stdout",
          "text": [
            "SUMMARY\n",
            "================================================================================\n",
            "\n",
            "These files contain 1,000,209 anonymous ratings of approximately 3,900 movies \n",
            "made by 6,040 MovieLens users who joined MovieLens in 2000.\n",
            "\n",
            "USAGE LICENSE\n",
            "================================================================================\n",
            "\n",
            "Neither the University of Minnesota nor any of the researchers\n",
            "involved can guarantee the correctness of the data, its suitability\n",
            "for any particular purpose, or the validity of results based on the\n",
            "use of the data set.  The data set may be used for any research\n",
            "purposes under the following conditions:\n",
            "\n",
            "     * The user may not state or imply any endorsement from the\n",
            "       University of Minnesota or the GroupLens Research Group.\n",
            "\n",
            "     * The user must acknowledge the use of the data set in\n",
            "       publications resulting from the use of the data set, and must\n",
            "       send us an electronic or paper copy of those publications.\n",
            "\n",
            "     * The user may not redistribute the data without separate\n",
            "       permission.\n",
            "\n",
            "     * The user may not use this information for any commercial or\n",
            "       revenue-bearing purposes without first obtaining permission\n",
            "       from a faculty member of the GroupLens Research Project at the\n",
            "       University of Minnesota.\n",
            "\n",
            "If you have any further questions or comments, please contact Sean McNee\n",
            "<mcnee@cs.umn.edu>. \n",
            "\n",
            "ACKNOWLEDGEMENTS\n",
            "================================================================================\n",
            "\n",
            "Thanks to Shyong Lam and Jon Herlocker for cleaning up and generating the data\n",
            "set.\n",
            "\n",
            "FURTHER INFORMATION ABOUT THE GROUPLENS RESEARCH PROJECT\n",
            "================================================================================\n",
            "\n",
            "The GroupLens Research Project is a research group in the Department of \n",
            "Computer Science and Engineering at the University of Minnesota. Members of \n",
            "the GroupLens Research Project are involved in many research projects related \n",
            "to the fields of information filtering, collaborative filtering, and \n",
            "recommender systems. The project is lead by professors John Riedl and Joseph \n",
            "Konstan. The project began to explore automated collaborative filtering in \n",
            "1992, but is most well known for its world wide trial of an automated \n",
            "collaborative filtering system for Usenet news in 1996. Since then the project \n",
            "has expanded its scope to research overall information filtering solutions, \n",
            "integrating in content-based methods as well as improving current collaborative \n",
            "filtering technology.\n",
            "\n",
            "Further information on the GroupLens Research project, including research \n",
            "publications, can be found at the following web site:\n",
            "        \n",
            "        https://urldefense.com/v3/__http://www.grouplens.org/*5Cn__;JQ!!Nmw4Hv0!wCA2Ov1G9trU5SVf2SPnxQEK7WNP52Y2sE6ITvCnnzBUO5rzPtdzfbt-l2AKbSCM8E_x5YXCf3Qo0WngDLw_II7j-Qh2-p1_06yZGw$ ",
            "\n",
            "GroupLens Research currently operates a movie recommender based on \n",
            "collaborative filtering:\n",
            "\n",
            "        https://urldefense.com/v3/__http://www.movielens.org/*5Cn__;JQ!!Nmw4Hv0!wCA2Ov1G9trU5SVf2SPnxQEK7WNP52Y2sE6ITvCnnzBUO5rzPtdzfbt-l2AKbSCM8E_x5YXCf3Qo0WngDLw_II7j-Qh2-p3BTI-4Lg$ ",
            "\n",
            "RATINGS FILE DESCRIPTION\n",
            "================================================================================\n",
            "\n",
            "All ratings are contained in the file \"ratings.dat\" and are in the\n",
            "following format:\n",
            "\n",
            "UserID::MovieID::Rating::Timestamp\n",
            "\n",
            "- UserIDs range between 1 and 6040 \n",
            "- MovieIDs range between 1 and 3952\n",
            "- Ratings are made on a 5-star scale (whole-star ratings only)\n",
            "- Timestamp is represented in seconds since the epoch as returned by time(2)\n",
            "- Each user has at least 20 ratings\n",
            "\n",
            "USERS FILE DESCRIPTION\n",
            "================================================================================\n",
            "\n",
            "User information is in the file \"users.dat\" and is in the following\n",
            "format:\n",
            "\n",
            "UserID::Gender::Age::Occupation::Zip-code\n",
            "\n",
            "All demographic information is provided voluntarily by the users and is\n",
            "not checked for accuracy.  Only users who have provided some demographic\n",
            "information are included in this data set.\n",
            "\n",
            "- Gender is denoted by a \"M\" for male and \"F\" for female\n",
            "- Age is chosen from the following ranges:\n",
            "\n",
            "\t*  1:  \"Under 18\"\n",
            "\t* 18:  \"18-24\"\n",
            "\t* 25:  \"25-34\"\n",
            "\t* 35:  \"35-44\"\n",
            "\t* 45:  \"45-49\"\n",
            "\t* 50:  \"50-55\"\n",
            "\t* 56:  \"56+\"\n",
            "\n",
            "- Occupation is chosen from the following choices:\n",
            "\n",
            "\t*  0:  \"other\" or not specified\n",
            "\t*  1:  \"academic/educator\"\n",
            "\t*  2:  \"artist\"\n",
            "\t*  3:  \"clerical/admin\"\n",
            "\t*  4:  \"college/grad student\"\n",
            "\t*  5:  \"customer service\"\n",
            "\t*  6:  \"doctor/health care\"\n",
            "\t*  7:  \"executive/managerial\"\n",
            "\t*  8:  \"farmer\"\n",
            "\t*  9:  \"homemaker\"\n",
            "\t* 10:  \"K-12 student\"\n",
            "\t* 11:  \"lawyer\"\n",
            "\t* 12:  \"programmer\"\n",
            "\t* 13:  \"retired\"\n",
            "\t* 14:  \"sales/marketing\"\n",
            "\t* 15:  \"scientist\"\n",
            "\t* 16:  \"self-employed\"\n",
            "\t* 17:  \"technician/engineer\"\n",
            "\t* 18:  \"tradesman/craftsman\"\n",
            "\t* 19:  \"unemployed\"\n",
            "\t* 20:  \"writer\"\n",
            "\n",
            "MOVIES FILE DESCRIPTION\n",
            "================================================================================\n",
            "\n",
            "Movie information is in the file \"movies.dat\" and is in the following\n",
            "format:\n",
            "\n",
            "MovieID::Title::Genres\n",
            "\n",
            "- Titles are identical to titles provided by the IMDB (including\n",
            "year of release)\n",
            "- Genres are pipe-separated and are selected from the following genres:\n",
            "\n",
            "\t* Action\n",
            "\t* Adventure\n",
            "\t* Animation\n",
            "\t* Children's\n",
            "\t* Comedy\n",
            "\t* Crime\n",
            "\t* Documentary\n",
            "\t* Drama\n",
            "\t* Fantasy\n",
            "\t* Film-Noir\n",
            "\t* Horror\n",
            "\t* Musical\n",
            "\t* Mystery\n",
            "\t* Romance\n",
            "\t* Sci-Fi\n",
            "\t* Thriller\n",
            "\t* War\n",
            "\t* Western\n",
            "\n",
            "- Some MovieIDs do not correspond to a movie due to accidental duplicate\n",
            "entries and/or test entries\n",
            "- Movies are mostly entered by hand, so errors and inconsistencies may exist\n"
          ]
        }
      ]
    },
    {
      "cell_type": "code",
      "source": [],
      "metadata": {
        "id": "-JZ5NsgstI_7"
      },
      "execution_count": null,
      "outputs": []
    },
    {
      "cell_type": "markdown",
      "source": [
        "# Loading the Users data"
      ],
      "metadata": {
        "id": "X3QdSAsKmfYU"
      }
    },
    {
      "cell_type": "code",
      "source": [
        "unames = [\n",
        "    \"user_id\",\n",
        "    \"gender\",\n",
        "    \"age\",\n",
        "    \"occupation\",\n",
        "    \"zip\"\n",
        "]\n",
        "\n",
        "users = pd.read_table(\n",
        "    DATASET_DIR / \"users.dat\",\n",
        "    sep=\"::\",\n",
        "    header=None,\n",
        "    names=unames,\n",
        "    engine=\"python\"\n",
        ")\n"
      ],
      "metadata": {
        "id": "yY0Os6rrbVkG"
      },
      "execution_count": 5,
      "outputs": []
    },
    {
      "cell_type": "markdown",
      "source": [
        "## Exercise:\n",
        "\n",
        "Show the first 10 rows of the `users` DataFrame."
      ],
      "metadata": {
        "id": "laTJmyzqa_bZ"
      }
    },
    {
      "cell_type": "code",
      "source": [
        "users.head(n=10)"
      ],
      "metadata": {
        "id": "i0oTQRUwa-j9",
        "outputId": "8df4aac2-6f56-477d-bf01-d6ecb46e4ee9",
        "colab": {
          "base_uri": "https://urldefense.com/v3/__https://localhost:8080/__;!!Nmw4Hv0!wCA2Ov1G9trU5SVf2SPnxQEK7WNP52Y2sE6ITvCnnzBUO5rzPtdzfbt-l2AKbSCM8E_x5YXCf3Qo0WngDLw_II7j-Qh2-p3-vYROew$ ",
          "height": 363
        }
      },
      "execution_count": 6,
      "outputs": [
        {
          "output_type": "execute_result",
          "data": {
            "text/plain": [
              "   user_id gender  age  occupation    zip\n",
              "0        1      F    1          10  48067\n",
              "1        2      M   56          16  70072\n",
              "2        3      M   25          15  55117\n",
              "3        4      M   45           7  02460\n",
              "4        5      M   25          20  55455\n",
              "5        6      F   50           9  55117\n",
              "6        7      M   35           1  06810\n",
              "7        8      M   25          12  11413\n",
              "8        9      M   25          17  61614\n",
              "9       10      F   35           1  95370"
            ],
            "text/html": [
              "\n",
              "  <div id=\"df-34b414d7-3883-43bb-8b5d-e338b2bd2869\">\n",
              "    <div class=\"colab-df-container\">\n",
              "      <div>\n",
              "<style scoped>\n",
              "    .dataframe tbody tr th:only-of-type {\n",
              "        vertical-align: middle;\n",
              "    }\n",
              "\n",
              "    .dataframe tbody tr th {\n",
              "        vertical-align: top;\n",
              "    }\n",
              "\n",
              "    .dataframe thead th {\n",
              "        text-align: right;\n",
              "    }\n",
              "</style>\n",
              "<table border=\"1\" class=\"dataframe\">\n",
              "  <thead>\n",
              "    <tr style=\"text-align: right;\">\n",
              "      <th></th>\n",
              "      <th>user_id</th>\n",
              "      <th>gender</th>\n",
              "      <th>age</th>\n",
              "      <th>occupation</th>\n",
              "      <th>zip</th>\n",
              "    </tr>\n",
              "  </thead>\n",
              "  <tbody>\n",
              "    <tr>\n",
              "      <th>0</th>\n",
              "      <td>1</td>\n",
              "      <td>F</td>\n",
              "      <td>1</td>\n",
              "      <td>10</td>\n",
              "      <td>48067</td>\n",
              "    </tr>\n",
              "    <tr>\n",
              "      <th>1</th>\n",
              "      <td>2</td>\n",
              "      <td>M</td>\n",
              "      <td>56</td>\n",
              "      <td>16</td>\n",
              "      <td>70072</td>\n",
              "    </tr>\n",
              "    <tr>\n",
              "      <th>2</th>\n",
              "      <td>3</td>\n",
              "      <td>M</td>\n",
              "      <td>25</td>\n",
              "      <td>15</td>\n",
              "      <td>55117</td>\n",
              "    </tr>\n",
              "    <tr>\n",
              "      <th>3</th>\n",
              "      <td>4</td>\n",
              "      <td>M</td>\n",
              "      <td>45</td>\n",
              "      <td>7</td>\n",
              "      <td>02460</td>\n",
              "    </tr>\n",
              "    <tr>\n",
              "      <th>4</th>\n",
              "      <td>5</td>\n",
              "      <td>M</td>\n",
              "      <td>25</td>\n",
              "      <td>20</td>\n",
              "      <td>55455</td>\n",
              "    </tr>\n",
              "    <tr>\n",
              "      <th>5</th>\n",
              "      <td>6</td>\n",
              "      <td>F</td>\n",
              "      <td>50</td>\n",
              "      <td>9</td>\n",
              "      <td>55117</td>\n",
              "    </tr>\n",
              "    <tr>\n",
              "      <th>6</th>\n",
              "      <td>7</td>\n",
              "      <td>M</td>\n",
              "      <td>35</td>\n",
              "      <td>1</td>\n",
              "      <td>06810</td>\n",
              "    </tr>\n",
              "    <tr>\n",
              "      <th>7</th>\n",
              "      <td>8</td>\n",
              "      <td>M</td>\n",
              "      <td>25</td>\n",
              "      <td>12</td>\n",
              "      <td>11413</td>\n",
              "    </tr>\n",
              "    <tr>\n",
              "      <th>8</th>\n",
              "      <td>9</td>\n",
              "      <td>M</td>\n",
              "      <td>25</td>\n",
              "      <td>17</td>\n",
              "      <td>61614</td>\n",
              "    </tr>\n",
              "    <tr>\n",
              "      <th>9</th>\n",
              "      <td>10</td>\n",
              "      <td>F</td>\n",
              "      <td>35</td>\n",
              "      <td>1</td>\n",
              "      <td>95370</td>\n",
              "    </tr>\n",
              "  </tbody>\n",
              "</table>\n",
              "</div>\n",
              "      <button class=\"colab-df-convert\" onclick=\"convertToInteractive('df-34b414d7-3883-43bb-8b5d-e338b2bd2869')\"\n",
              "              title=\"Convert this dataframe to an interactive table.\"\n",
              "              style=\"display:none;\">\n",
              "        \n",
              "  <svg xmlns=\"https://urldefense.com/v3/__http://www.w3.org/2000/svg*5C__;JQ!!Nmw4Hv0!wCA2Ov1G9trU5SVf2SPnxQEK7WNP52Y2sE6ITvCnnzBUO5rzPtdzfbt-l2AKbSCM8E_x5YXCf3Qo0WngDLw_II7j-Qh2-p3dabER7A$ " height=\"24px\"viewBox=\"0 0 24 24\"\n",
              "       width=\"24px\">\n",
              "    <path d=\"M0 0h24v24H0V0z\" fill=\"none\"/>\n",
              "    <path d=\"M18.56 5.44l.94 2.06.94-2.06 2.06-.94-2.06-.94-.94-2.06-.94 2.06-2.06.94zm-11 1L8.5 8.5l.94-2.06 2.06-.94-2.06-.94L8.5 2.5l-.94 2.06-2.06.94zm10 10l.94 2.06.94-2.06 2.06-.94-2.06-.94-.94-2.06-.94 2.06-2.06.94z\"/><path d=\"M17.41 7.96l-1.37-1.37c-.4-.4-.92-.59-1.43-.59-.52 0-1.04.2-1.43.59L10.3 9.45l-7.72 7.72c-.78.78-.78 2.05 0 2.83L4 21.41c.39.39.9.59 1.41.59.51 0 1.02-.2 1.41-.59l7.78-7.78 2.81-2.81c.8-.78.8-2.07 0-2.86zM5.41 20L4 18.59l7.72-7.72 1.47 1.35L5.41 20z\"/>\n",
              "  </svg>\n",
              "      </button>\n",
              "      \n",
              "  <style>\n",
              "    .colab-df-container {\n",
              "      display:flex;\n",
              "      flex-wrap:wrap;\n",
              "      gap: 12px;\n",
              "    }\n",
              "\n",
              "    .colab-df-convert {\n",
              "      background-color: #E8F0FE;\n",
              "      border: none;\n",
              "      border-radius: 50%;\n",
              "      cursor: pointer;\n",
              "      display: none;\n",
              "      fill: #1967D2;\n",
              "      height: 32px;\n",
              "      padding: 0 0 0 0;\n",
              "      width: 32px;\n",
              "    }\n",
              "\n",
              "    .colab-df-convert:hover {\n",
              "      background-color: #E2EBFA;\n",
              "      box-shadow: 0px 1px 2px rgba(60, 64, 67, 0.3), 0px 1px 3px 1px rgba(60, 64, 67, 0.15);\n",
              "      fill: #174EA6;\n",
              "    }\n",
              "\n",
              "    [theme=dark] .colab-df-convert {\n",
              "      background-color: #3B4455;\n",
              "      fill: #D2E3FC;\n",
              "    }\n",
              "\n",
              "    [theme=dark] .colab-df-convert:hover {\n",
              "      background-color: #434B5C;\n",
              "      box-shadow: 0px 1px 3px 1px rgba(0, 0, 0, 0.15);\n",
              "      filter: drop-shadow(0px 1px 2px rgba(0, 0, 0, 0.3));\n",
              "      fill: #FFFFFF;\n",
              "    }\n",
              "  </style>\n",
              "\n",
              "      <script>\n",
              "        const buttonEl =\n",
              "          document.querySelector('#df-34b414d7-3883-43bb-8b5d-e338b2bd2869 button.colab-df-convert');\n",
              "        buttonEl.style.display =\n",
              "          google.colab.kernel.accessAllowed ? 'block' : 'none';\n",
              "\n",
              "        async function convertToInteractive(key) {\n",
              "          const element = document.querySelector('#df-34b414d7-3883-43bb-8b5d-e338b2bd2869');\n",
              "          const dataTable =\n",
              "            await google.colab.kernel.invokeFunction('convertToInteractive',\n",
              "                                                     [key], {});\n",
              "          if (!dataTable) return;\n",
              "\n",
              "          const docLinkHtml = 'Like what you see? Visit the ' +\n",
              "            '<a target=\"_blank\" href=https://urldefense.com/v3/__https://colab.research.google.com/notebooks/data_table.ipynb__;!!Nmw4Hv0!wCA2Ov1G9trU5SVf2SPnxQEK7WNP52Y2sE6ITvCnnzBUO5rzPtdzfbt-l2AKbSCM8E_x5YXCf3Qo0WngDLw_II7j-Qh2-p0I1MGuPA$ >data table notebook</a>'\n",
              "            + ' to learn more about interactive tables.';\n",
              "          element.innerHTML = '';\n",
              "          dataTable['output_type'] = 'display_data';\n",
              "          await google.colab.output.renderOutput(dataTable, element);\n",
              "          const docLink = document.createElement('div');\n",
              "          docLink.innerHTML = docLinkHtml;\n",
              "          element.appendChild(docLink);\n",
              "        }\n",
              "      </script>\n",
              "    </div>\n",
              "  </div>\n",
              "  "
            ]
          },
          "metadata": {},
          "execution_count": 6
        }
      ]
    },
    {
      "cell_type": "code",
      "source": [],
      "metadata": {
        "id": "ZbrRXcGLjlh_"
      },
      "execution_count": null,
      "outputs": []
    },
    {
      "cell_type": "markdown",
      "source": [
        "## Exercise:\n",
        "\n",
        "How many users are in the `users` DataFrame? "
      ],
      "metadata": {
        "id": "6OYnqVCBbII2"
      }
    },
    {
      "cell_type": "code",
      "source": [
        "#users.info()\n",
        "print(users.shape[0])\n",
        "print(len(users))"
      ],
      "metadata": {
        "id": "bvd_jYmpa-mE",
        "outputId": "8c102b7b-7b8f-4916-fd7c-d0aceed5bef3",
        "colab": {
          "base_uri": "https://urldefense.com/v3/__https://localhost:8080/__;!!Nmw4Hv0!wCA2Ov1G9trU5SVf2SPnxQEK7WNP52Y2sE6ITvCnnzBUO5rzPtdzfbt-l2AKbSCM8E_x5YXCf3Qo0WngDLw_II7j-Qh2-p3-vYROew$ "
        }
      },
      "execution_count": 34,
      "outputs": [
        {
          "output_type": "stream",
          "name": "stdout",
          "text": [
            "6040\n",
            "6040\n"
          ]
        }
      ]
    },
    {
      "cell_type": "code",
      "source": [
        "users.count() # counts non-missing values"
      ],
      "metadata": {
        "id": "PT6jY6HYjmyR",
        "outputId": "033a54b3-fb3d-444a-aa31-8d2e0075357f",
        "colab": {
          "base_uri": "https://urldefense.com/v3/__https://localhost:8080/__;!!Nmw4Hv0!wCA2Ov1G9trU5SVf2SPnxQEK7WNP52Y2sE6ITvCnnzBUO5rzPtdzfbt-l2AKbSCM8E_x5YXCf3Qo0WngDLw_II7j-Qh2-p3-vYROew$ "
        }
      },
      "execution_count": 8,
      "outputs": [
        {
          "output_type": "execute_result",
          "data": {
            "text/plain": [
              "user_id       6040\n",
              "gender        6040\n",
              "age           6040\n",
              "occupation    6040\n",
              "zip           6040\n",
              "dtype: int64"
            ]
          },
          "metadata": {},
          "execution_count": 8
        }
      ]
    },
    {
      "cell_type": "code",
      "source": [
        "users.size # 6040 rows * 5 columns"
      ],
      "metadata": {
        "id": "H_oCavODjnCo",
        "outputId": "677489b1-a303-4430-db2f-f4346b1a33ec",
        "colab": {
          "base_uri": "https://urldefense.com/v3/__https://localhost:8080/__;!!Nmw4Hv0!wCA2Ov1G9trU5SVf2SPnxQEK7WNP52Y2sE6ITvCnnzBUO5rzPtdzfbt-l2AKbSCM8E_x5YXCf3Qo0WngDLw_II7j-Qh2-p3-vYROew$ "
        }
      },
      "execution_count": 10,
      "outputs": [
        {
          "output_type": "execute_result",
          "data": {
            "text/plain": [
              "30200"
            ]
          },
          "metadata": {},
          "execution_count": 10
        }
      ]
    },
    {
      "cell_type": "code",
      "source": [],
      "metadata": {
        "id": "QyLvuuL0kEOr"
      },
      "execution_count": null,
      "outputs": []
    },
    {
      "cell_type": "markdown",
      "source": [
        "## Exercise:\n",
        "\n",
        "How many users are male? How many are female? What percentage of the users are male and female?"
      ],
      "metadata": {
        "id": "8IdtjH9kbPMM"
      }
    },
    {
      "cell_type": "code",
      "source": [
        "# Count the number of occurrences of each gender using value_counts()\n",
        "gender_counts = users['gender'].value_counts()\n",
        "\n",
        "# Print the gender counts\n",
        "print(gender_counts)\n",
        "\n",
        "gender_counts = users['gender'].value_counts(normalize=True)\n",
        "print(gender_counts)\n"
      ],
      "metadata": {
        "id": "Zyds7DziriDR",
        "outputId": "05c5d4a3-08f8-4c79-a7d2-b372f403546f",
        "colab": {
          "base_uri": "https://urldefense.com/v3/__https://localhost:8080/__;!!Nmw4Hv0!wCA2Ov1G9trU5SVf2SPnxQEK7WNP52Y2sE6ITvCnnzBUO5rzPtdzfbt-l2AKbSCM8E_x5YXCf3Qo0WngDLw_II7j-Qh2-p3-vYROew$ "
        }
      },
      "execution_count": 36,
      "outputs": [
        {
          "output_type": "stream",
          "name": "stdout",
          "text": [
            "M    4331\n",
            "F    1709\n",
            "Name: gender, dtype: int64\n",
            "M    0.717053\n",
            "F    0.282947\n",
            "Name: gender, dtype: float64\n"
          ]
        }
      ]
    },
    {
      "cell_type": "code",
      "source": [
        "males = (users.loc[:, \"gender\"] == 'M')\n",
        "print(f\"Total men: {males.sum()}\")\n",
        "print(f\"Percentage men: {males.mean() * 100}\")\n"
      ],
      "metadata": {
        "id": "LHSVacdBkWR-",
        "outputId": "9ffa2894-d250-40c8-d245-e355154b222b",
        "colab": {
          "base_uri": "https://urldefense.com/v3/__https://localhost:8080/__;!!Nmw4Hv0!wCA2Ov1G9trU5SVf2SPnxQEK7WNP52Y2sE6ITvCnnzBUO5rzPtdzfbt-l2AKbSCM8E_x5YXCf3Qo0WngDLw_II7j-Qh2-p3-vYROew$ "
        }
      },
      "execution_count": 13,
      "outputs": [
        {
          "output_type": "stream",
          "name": "stdout",
          "text": [
            "Total men: 4331\n",
            "Percentage men: 71.70529801324503\n"
          ]
        }
      ]
    },
    {
      "cell_type": "code",
      "source": [
        "females = (users.loc[:, \"gender\"] == 'F')\n",
        "print(f\"Total women: {females.sum()}\")\n",
        "print(f\"Percentage women: {females.mean() * 100}\")\n"
      ],
      "metadata": {
        "id": "BKD4rbc1kWdC",
        "outputId": "84ec7cc7-9cce-4931-fc9d-1c8fb72845b2",
        "colab": {
          "base_uri": "https://urldefense.com/v3/__https://localhost:8080/__;!!Nmw4Hv0!wCA2Ov1G9trU5SVf2SPnxQEK7WNP52Y2sE6ITvCnnzBUO5rzPtdzfbt-l2AKbSCM8E_x5YXCf3Qo0WngDLw_II7j-Qh2-p3-vYROew$ "
        }
      },
      "execution_count": 14,
      "outputs": [
        {
          "output_type": "stream",
          "name": "stdout",
          "text": [
            "Total women: 1709\n",
            "Percentage women: 28.294701986754966\n"
          ]
        }
      ]
    },
    {
      "cell_type": "code",
      "source": [
        "(users.loc[:, \"gender\"]\n",
        "      .value_counts())"
      ],
      "metadata": {
        "id": "CyfbnV4NkWnp",
        "outputId": "dcbf0de1-3d54-469e-cd71-aeb0260c644c",
        "colab": {
          "base_uri": "https://urldefense.com/v3/__https://localhost:8080/__;!!Nmw4Hv0!wCA2Ov1G9trU5SVf2SPnxQEK7WNP52Y2sE6ITvCnnzBUO5rzPtdzfbt-l2AKbSCM8E_x5YXCf3Qo0WngDLw_II7j-Qh2-p3-vYROew$ "
        }
      },
      "execution_count": 15,
      "outputs": [
        {
          "output_type": "execute_result",
          "data": {
            "text/plain": [
              "M    4331\n",
              "F    1709\n",
              "Name: gender, dtype: int64"
            ]
          },
          "metadata": {},
          "execution_count": 15
        }
      ]
    },
    {
      "cell_type": "code",
      "source": [
        "(users.loc[:, \"gender\"]\n",
        "      .value_counts(normalize=True)\n",
        "      .mul(100))"
      ],
      "metadata": {
        "id": "8-RkmeH-a-qP",
        "outputId": "daf4e0fe-d982-45a8-dd26-b7eb561abc25",
        "colab": {
          "base_uri": "https://urldefense.com/v3/__https://localhost:8080/__;!!Nmw4Hv0!wCA2Ov1G9trU5SVf2SPnxQEK7WNP52Y2sE6ITvCnnzBUO5rzPtdzfbt-l2AKbSCM8E_x5YXCf3Qo0WngDLw_II7j-Qh2-p3-vYROew$ "
        }
      },
      "execution_count": 17,
      "outputs": [
        {
          "output_type": "execute_result",
          "data": {
            "text/plain": [
              "M    71.705298\n",
              "F    28.294702\n",
              "Name: gender, dtype: float64"
            ]
          },
          "metadata": {},
          "execution_count": 17
        }
      ]
    },
    {
      "cell_type": "code",
      "source": [],
      "metadata": {
        "id": "z9x6oc6Tt2v5"
      },
      "execution_count": null,
      "outputs": []
    },
    {
      "cell_type": "code",
      "source": [
        "vec =users[(users['age'] >= 18) & (users['age'] <= 24)]\n",
        "print(vec.value_counts())"
      ],
      "metadata": {
        "id": "4UENGo98llwQ",
        "outputId": "1e515030-9d3c-453a-e9f3-9400a433bfbe",
        "colab": {
          "base_uri": "https://urldefense.com/v3/__https://localhost:8080/__;!!Nmw4Hv0!wCA2Ov1G9trU5SVf2SPnxQEK7WNP52Y2sE6ITvCnnzBUO5rzPtdzfbt-l2AKbSCM8E_x5YXCf3Qo0WngDLw_II7j-Qh2-p3-vYROew$ "
        }
      },
      "execution_count": 53,
      "outputs": [
        {
          "output_type": "stream",
          "name": "stdout",
          "text": [
            "user_id  gender  age  occupation  zip  \n",
            "18       F       18   3           95825    1\n",
            "3748     M       18   4           02026    1\n",
            "3788     F       18   0           94587    1\n",
            "3777     M       18   4           23112    1\n",
            "3766     F       18   1           45458    1\n",
            "                                          ..\n",
            "1755     F       18   4           77005    1\n",
            "1764     M       18   0           75149    1\n",
            "1765     M       18   4           13655    1\n",
            "1773     M       18   4           07030    1\n",
            "6031     F       18   0           45123    1\n",
            "Length: 1103, dtype: int64\n"
          ]
        }
      ]
    },
    {
      "cell_type": "markdown",
      "source": [
        "## Exercise:\n",
        "\n",
        "How many users are in each age bracket? Which age bracket has the most users? Which age bracket has the least users?"
      ],
      "metadata": {
        "id": "R3FnPEr6bckL"
      }
    },
    {
      "cell_type": "code",
      "source": [],
      "metadata": {
        "id": "hn52wWPQtQQG"
      },
      "execution_count": null,
      "outputs": []
    },
    {
      "cell_type": "code",
      "source": [
        "(users.loc[:, \"age\"]\n",
        "      .value_counts()\n",
        "      .sort_values())"
      ],
      "metadata": {
        "id": "ScBbVPUTb654",
        "outputId": "8e30f1cc-ce5f-48fa-cdc4-06b17b19a26f",
        "colab": {
          "base_uri": "https://urldefense.com/v3/__https://localhost:8080/__;!!Nmw4Hv0!wCA2Ov1G9trU5SVf2SPnxQEK7WNP52Y2sE6ITvCnnzBUO5rzPtdzfbt-l2AKbSCM8E_x5YXCf3Qo0WngDLw_II7j-Qh2-p3-vYROew$ "
        }
      },
      "execution_count": 21,
      "outputs": [
        {
          "output_type": "execute_result",
          "data": {
            "text/plain": [
              "1      222\n",
              "56     380\n",
              "50     496\n",
              "45     550\n",
              "18    1103\n",
              "35    1193\n",
              "25    2096\n",
              "Name: age, dtype: int64"
            ]
          },
          "metadata": {},
          "execution_count": 21
        }
      ]
    },
    {
      "cell_type": "code",
      "source": [
        "(users.loc[:, \"age\"]\n",
        "      .value_counts()\n",
        "      .min())"
      ],
      "metadata": {
        "id": "M5FfbPPWlqGb",
        "outputId": "3fd17182-f6cb-4250-b720-2fa67f03dc22",
        "colab": {
          "base_uri": "https://urldefense.com/v3/__https://localhost:8080/__;!!Nmw4Hv0!wCA2Ov1G9trU5SVf2SPnxQEK7WNP52Y2sE6ITvCnnzBUO5rzPtdzfbt-l2AKbSCM8E_x5YXCf3Qo0WngDLw_II7j-Qh2-p3-vYROew$ "
        }
      },
      "execution_count": 25,
      "outputs": [
        {
          "output_type": "execute_result",
          "data": {
            "text/plain": [
              "222"
            ]
          },
          "metadata": {},
          "execution_count": 25
        }
      ]
    },
    {
      "cell_type": "code",
      "source": [
        "(users.loc[:, \"age\"]\n",
        "      .value_counts()\n",
        "      .max())"
      ],
      "metadata": {
        "id": "KBO4Q5OjlqTo",
        "outputId": "fb8ace83-83f9-4f9b-ab5e-a5458ade3bc9",
        "colab": {
          "base_uri": "https://urldefense.com/v3/__https://localhost:8080/__;!!Nmw4Hv0!wCA2Ov1G9trU5SVf2SPnxQEK7WNP52Y2sE6ITvCnnzBUO5rzPtdzfbt-l2AKbSCM8E_x5YXCf3Qo0WngDLw_II7j-Qh2-p3-vYROew$ "
        }
      },
      "execution_count": 23,
      "outputs": [
        {
          "output_type": "execute_result",
          "data": {
            "text/plain": [
              "2096"
            ]
          },
          "metadata": {},
          "execution_count": 23
        }
      ]
    },
    {
      "cell_type": "code",
      "source": [],
      "metadata": {
        "id": "5X3rTp3sm5ol"
      },
      "execution_count": null,
      "outputs": []
    },
    {
      "cell_type": "markdown",
      "source": [
        "## Exercise:\n",
        "\n",
        "How many users are in each occupation? Which occupation has the most users?"
      ],
      "metadata": {
        "id": "T7vv2j7pb7gr"
      }
    },
    {
      "cell_type": "code",
      "source": [
        "(users.loc[:, \"occupation\"]\n",
        "      .value_counts()\n",
        "      .sort_values())"
      ],
      "metadata": {
        "id": "zKGZ2NrDcMAq",
        "outputId": "77d1627f-a707-43ad-9ce3-049e88eb71fb",
        "colab": {
          "base_uri": "https://urldefense.com/v3/__https://localhost:8080/__;!!Nmw4Hv0!wCA2Ov1G9trU5SVf2SPnxQEK7WNP52Y2sE6ITvCnnzBUO5rzPtdzfbt-l2AKbSCM8E_x5YXCf3Qo0WngDLw_II7j-Qh2-p3-vYROew$ "
        }
      },
      "execution_count": 26,
      "outputs": [
        {
          "output_type": "execute_result",
          "data": {
            "text/plain": [
              "8      17\n",
              "18     70\n",
              "19     72\n",
              "9      92\n",
              "5     112\n",
              "11    129\n",
              "13    142\n",
              "15    144\n",
              "3     173\n",
              "10    195\n",
              "6     236\n",
              "16    241\n",
              "2     267\n",
              "20    281\n",
              "14    302\n",
              "12    388\n",
              "17    502\n",
              "1     528\n",
              "7     679\n",
              "0     711\n",
              "4     759\n",
              "Name: occupation, dtype: int64"
            ]
          },
          "metadata": {},
          "execution_count": 26
        }
      ]
    },
    {
      "cell_type": "code",
      "source": [
        "(users.groupby(\"occupation\")\n",
        "      .count())"
      ],
      "metadata": {
        "id": "dBb8iN5NoD7b",
        "outputId": "38598c0d-a308-408c-c40f-d6a5c56a2af3",
        "colab": {
          "base_uri": "https://urldefense.com/v3/__https://localhost:8080/__;!!Nmw4Hv0!wCA2Ov1G9trU5SVf2SPnxQEK7WNP52Y2sE6ITvCnnzBUO5rzPtdzfbt-l2AKbSCM8E_x5YXCf3Qo0WngDLw_II7j-Qh2-p3-vYROew$ ",
          "height": 739
        }
      },
      "execution_count": 30,
      "outputs": [
        {
          "output_type": "execute_result",
          "data": {
            "text/plain": [
              "            user_id  gender  age  zip\n",
              "occupation                           \n",
              "0               711     711  711  711\n",
              "1               528     528  528  528\n",
              "2               267     267  267  267\n",
              "3               173     173  173  173\n",
              "4               759     759  759  759\n",
              "5               112     112  112  112\n",
              "6               236     236  236  236\n",
              "7               679     679  679  679\n",
              "8                17      17   17   17\n",
              "9                92      92   92   92\n",
              "10              195     195  195  195\n",
              "11              129     129  129  129\n",
              "12              388     388  388  388\n",
              "13              142     142  142  142\n",
              "14              302     302  302  302\n",
              "15              144     144  144  144\n",
              "16              241     241  241  241\n",
              "17              502     502  502  502\n",
              "18               70      70   70   70\n",
              "19               72      72   72   72\n",
              "20              281     281  281  281"
            ],
            "text/html": [
              "\n",
              "  <div id=\"df-d0ada76c-2921-4a01-ad4e-aa415600f14d\">\n",
              "    <div class=\"colab-df-container\">\n",
              "      <div>\n",
              "<style scoped>\n",
              "    .dataframe tbody tr th:only-of-type {\n",
              "        vertical-align: middle;\n",
              "    }\n",
              "\n",
              "    .dataframe tbody tr th {\n",
              "        vertical-align: top;\n",
              "    }\n",
              "\n",
              "    .dataframe thead th {\n",
              "        text-align: right;\n",
              "    }\n",
              "</style>\n",
              "<table border=\"1\" class=\"dataframe\">\n",
              "  <thead>\n",
              "    <tr style=\"text-align: right;\">\n",
              "      <th></th>\n",
              "      <th>user_id</th>\n",
              "      <th>gender</th>\n",
              "      <th>age</th>\n",
              "      <th>zip</th>\n",
              "    </tr>\n",
              "    <tr>\n",
              "      <th>occupation</th>\n",
              "      <th></th>\n",
              "      <th></th>\n",
              "      <th></th>\n",
              "      <th></th>\n",
              "    </tr>\n",
              "  </thead>\n",
              "  <tbody>\n",
              "    <tr>\n",
              "      <th>0</th>\n",
              "      <td>711</td>\n",
              "      <td>711</td>\n",
              "      <td>711</td>\n",
              "      <td>711</td>\n",
              "    </tr>\n",
              "    <tr>\n",
              "      <th>1</th>\n",
              "      <td>528</td>\n",
              "      <td>528</td>\n",
              "      <td>528</td>\n",
              "      <td>528</td>\n",
              "    </tr>\n",
              "    <tr>\n",
              "      <th>2</th>\n",
              "      <td>267</td>\n",
              "      <td>267</td>\n",
              "      <td>267</td>\n",
              "      <td>267</td>\n",
              "    </tr>\n",
              "    <tr>\n",
              "      <th>3</th>\n",
              "      <td>173</td>\n",
              "      <td>173</td>\n",
              "      <td>173</td>\n",
              "      <td>173</td>\n",
              "    </tr>\n",
              "    <tr>\n",
              "      <th>4</th>\n",
              "      <td>759</td>\n",
              "      <td>759</td>\n",
              "      <td>759</td>\n",
              "      <td>759</td>\n",
              "    </tr>\n",
              "    <tr>\n",
              "      <th>5</th>\n",
              "      <td>112</td>\n",
              "      <td>112</td>\n",
              "      <td>112</td>\n",
              "      <td>112</td>\n",
              "    </tr>\n",
              "    <tr>\n",
              "      <th>6</th>\n",
              "      <td>236</td>\n",
              "      <td>236</td>\n",
              "      <td>236</td>\n",
              "      <td>236</td>\n",
              "    </tr>\n",
              "    <tr>\n",
              "      <th>7</th>\n",
              "      <td>679</td>\n",
              "      <td>679</td>\n",
              "      <td>679</td>\n",
              "      <td>679</td>\n",
              "    </tr>\n",
              "    <tr>\n",
              "      <th>8</th>\n",
              "      <td>17</td>\n",
              "      <td>17</td>\n",
              "      <td>17</td>\n",
              "      <td>17</td>\n",
              "    </tr>\n",
              "    <tr>\n",
              "      <th>9</th>\n",
              "      <td>92</td>\n",
              "      <td>92</td>\n",
              "      <td>92</td>\n",
              "      <td>92</td>\n",
              "    </tr>\n",
              "    <tr>\n",
              "      <th>10</th>\n",
              "      <td>195</td>\n",
              "      <td>195</td>\n",
              "      <td>195</td>\n",
              "      <td>195</td>\n",
              "    </tr>\n",
              "    <tr>\n",
              "      <th>11</th>\n",
              "      <td>129</td>\n",
              "      <td>129</td>\n",
              "      <td>129</td>\n",
              "      <td>129</td>\n",
              "    </tr>\n",
              "    <tr>\n",
              "      <th>12</th>\n",
              "      <td>388</td>\n",
              "      <td>388</td>\n",
              "      <td>388</td>\n",
              "      <td>388</td>\n",
              "    </tr>\n",
              "    <tr>\n",
              "      <th>13</th>\n",
              "      <td>142</td>\n",
              "      <td>142</td>\n",
              "      <td>142</td>\n",
              "      <td>142</td>\n",
              "    </tr>\n",
              "    <tr>\n",
              "      <th>14</th>\n",
              "      <td>302</td>\n",
              "      <td>302</td>\n",
              "      <td>302</td>\n",
              "      <td>302</td>\n",
              "    </tr>\n",
              "    <tr>\n",
              "      <th>15</th>\n",
              "      <td>144</td>\n",
              "      <td>144</td>\n",
              "      <td>144</td>\n",
              "      <td>144</td>\n",
              "    </tr>\n",
              "    <tr>\n",
              "      <th>16</th>\n",
              "      <td>241</td>\n",
              "      <td>241</td>\n",
              "      <td>241</td>\n",
              "      <td>241</td>\n",
              "    </tr>\n",
              "    <tr>\n",
              "      <th>17</th>\n",
              "      <td>502</td>\n",
              "      <td>502</td>\n",
              "      <td>502</td>\n",
              "      <td>502</td>\n",
              "    </tr>\n",
              "    <tr>\n",
              "      <th>18</th>\n",
              "      <td>70</td>\n",
              "      <td>70</td>\n",
              "      <td>70</td>\n",
              "      <td>70</td>\n",
              "    </tr>\n",
              "    <tr>\n",
              "      <th>19</th>\n",
              "      <td>72</td>\n",
              "      <td>72</td>\n",
              "      <td>72</td>\n",
              "      <td>72</td>\n",
              "    </tr>\n",
              "    <tr>\n",
              "      <th>20</th>\n",
              "      <td>281</td>\n",
              "      <td>281</td>\n",
              "      <td>281</td>\n",
              "      <td>281</td>\n",
              "    </tr>\n",
              "  </tbody>\n",
              "</table>\n",
              "</div>\n",
              "      <button class=\"colab-df-convert\" onclick=\"convertToInteractive('df-d0ada76c-2921-4a01-ad4e-aa415600f14d')\"\n",
              "              title=\"Convert this dataframe to an interactive table.\"\n",
              "              style=\"display:none;\">\n",
              "        \n",
              "  <svg xmlns=\"https://urldefense.com/v3/__http://www.w3.org/2000/svg*5C__;JQ!!Nmw4Hv0!wCA2Ov1G9trU5SVf2SPnxQEK7WNP52Y2sE6ITvCnnzBUO5rzPtdzfbt-l2AKbSCM8E_x5YXCf3Qo0WngDLw_II7j-Qh2-p3dabER7A$ " height=\"24px\"viewBox=\"0 0 24 24\"\n",
              "       width=\"24px\">\n",
              "    <path d=\"M0 0h24v24H0V0z\" fill=\"none\"/>\n",
              "    <path d=\"M18.56 5.44l.94 2.06.94-2.06 2.06-.94-2.06-.94-.94-2.06-.94 2.06-2.06.94zm-11 1L8.5 8.5l.94-2.06 2.06-.94-2.06-.94L8.5 2.5l-.94 2.06-2.06.94zm10 10l.94 2.06.94-2.06 2.06-.94-2.06-.94-.94-2.06-.94 2.06-2.06.94z\"/><path d=\"M17.41 7.96l-1.37-1.37c-.4-.4-.92-.59-1.43-.59-.52 0-1.04.2-1.43.59L10.3 9.45l-7.72 7.72c-.78.78-.78 2.05 0 2.83L4 21.41c.39.39.9.59 1.41.59.51 0 1.02-.2 1.41-.59l7.78-7.78 2.81-2.81c.8-.78.8-2.07 0-2.86zM5.41 20L4 18.59l7.72-7.72 1.47 1.35L5.41 20z\"/>\n",
              "  </svg>\n",
              "      </button>\n",
              "      \n",
              "  <style>\n",
              "    .colab-df-container {\n",
              "      display:flex;\n",
              "      flex-wrap:wrap;\n",
              "      gap: 12px;\n",
              "    }\n",
              "\n",
              "    .colab-df-convert {\n",
              "      background-color: #E8F0FE;\n",
              "      border: none;\n",
              "      border-radius: 50%;\n",
              "      cursor: pointer;\n",
              "      display: none;\n",
              "      fill: #1967D2;\n",
              "      height: 32px;\n",
              "      padding: 0 0 0 0;\n",
              "      width: 32px;\n",
              "    }\n",
              "\n",
              "    .colab-df-convert:hover {\n",
              "      background-color: #E2EBFA;\n",
              "      box-shadow: 0px 1px 2px rgba(60, 64, 67, 0.3), 0px 1px 3px 1px rgba(60, 64, 67, 0.15);\n",
              "      fill: #174EA6;\n",
              "    }\n",
              "\n",
              "    [theme=dark] .colab-df-convert {\n",
              "      background-color: #3B4455;\n",
              "      fill: #D2E3FC;\n",
              "    }\n",
              "\n",
              "    [theme=dark] .colab-df-convert:hover {\n",
              "      background-color: #434B5C;\n",
              "      box-shadow: 0px 1px 3px 1px rgba(0, 0, 0, 0.15);\n",
              "      filter: drop-shadow(0px 1px 2px rgba(0, 0, 0, 0.3));\n",
              "      fill: #FFFFFF;\n",
              "    }\n",
              "  </style>\n",
              "\n",
              "      <script>\n",
              "        const buttonEl =\n",
              "          document.querySelector('#df-d0ada76c-2921-4a01-ad4e-aa415600f14d button.colab-df-convert');\n",
              "        buttonEl.style.display =\n",
              "          google.colab.kernel.accessAllowed ? 'block' : 'none';\n",
              "\n",
              "        async function convertToInteractive(key) {\n",
              "          const element = document.querySelector('#df-d0ada76c-2921-4a01-ad4e-aa415600f14d');\n",
              "          const dataTable =\n",
              "            await google.colab.kernel.invokeFunction('convertToInteractive',\n",
              "                                                     [key], {});\n",
              "          if (!dataTable) return;\n",
              "\n",
              "          const docLinkHtml = 'Like what you see? Visit the ' +\n",
              "            '<a target=\"_blank\" href=https://urldefense.com/v3/__https://colab.research.google.com/notebooks/data_table.ipynb__;!!Nmw4Hv0!wCA2Ov1G9trU5SVf2SPnxQEK7WNP52Y2sE6ITvCnnzBUO5rzPtdzfbt-l2AKbSCM8E_x5YXCf3Qo0WngDLw_II7j-Qh2-p0I1MGuPA$ >data table notebook</a>'\n",
              "            + ' to learn more about interactive tables.';\n",
              "          element.innerHTML = '';\n",
              "          dataTable['output_type'] = 'display_data';\n",
              "          await google.colab.output.renderOutput(dataTable, element);\n",
              "          const docLink = document.createElement('div');\n",
              "          docLink.innerHTML = docLinkHtml;\n",
              "          element.appendChild(docLink);\n",
              "        }\n",
              "      </script>\n",
              "    </div>\n",
              "  </div>\n",
              "  "
            ]
          },
          "metadata": {},
          "execution_count": 30
        }
      ]
    },
    {
      "cell_type": "code",
      "source": [
        "(users.groupby(\"occupation\")\n",
        "      .size())"
      ],
      "metadata": {
        "id": "Qbbm2knJnKQn",
        "outputId": "367edbb3-070a-477b-aaee-f3b2dc693294",
        "colab": {
          "base_uri": "https://urldefense.com/v3/__https://localhost:8080/__;!!Nmw4Hv0!wCA2Ov1G9trU5SVf2SPnxQEK7WNP52Y2sE6ITvCnnzBUO5rzPtdzfbt-l2AKbSCM8E_x5YXCf3Qo0WngDLw_II7j-Qh2-p3-vYROew$ "
        }
      },
      "execution_count": 28,
      "outputs": [
        {
          "output_type": "execute_result",
          "data": {
            "text/plain": [
              "occupation\n",
              "0     711\n",
              "1     528\n",
              "2     267\n",
              "3     173\n",
              "4     759\n",
              "5     112\n",
              "6     236\n",
              "7     679\n",
              "8      17\n",
              "9      92\n",
              "10    195\n",
              "11    129\n",
              "12    388\n",
              "13    142\n",
              "14    302\n",
              "15    144\n",
              "16    241\n",
              "17    502\n",
              "18     70\n",
              "19     72\n",
              "20    281\n",
              "dtype: int64"
            ]
          },
          "metadata": {},
          "execution_count": 28
        }
      ]
    },
    {
      "cell_type": "code",
      "source": [
        "users[\"occupation\"].value_counts()"
      ],
      "metadata": {
        "id": "u7dsoEoonfvm",
        "outputId": "ebe375fe-ae31-4cfa-b03e-aba2a3382281",
        "colab": {
          "base_uri": "https://urldefense.com/v3/__https://localhost:8080/__;!!Nmw4Hv0!wCA2Ov1G9trU5SVf2SPnxQEK7WNP52Y2sE6ITvCnnzBUO5rzPtdzfbt-l2AKbSCM8E_x5YXCf3Qo0WngDLw_II7j-Qh2-p3-vYROew$ "
        }
      },
      "execution_count": 31,
      "outputs": [
        {
          "output_type": "execute_result",
          "data": {
            "text/plain": [
              "4     759\n",
              "0     711\n",
              "7     679\n",
              "1     528\n",
              "17    502\n",
              "12    388\n",
              "14    302\n",
              "20    281\n",
              "2     267\n",
              "16    241\n",
              "6     236\n",
              "10    195\n",
              "3     173\n",
              "15    144\n",
              "13    142\n",
              "11    129\n",
              "5     112\n",
              "9      92\n",
              "19     72\n",
              "18     70\n",
              "8      17\n",
              "Name: occupation, dtype: int64"
            ]
          },
          "metadata": {},
          "execution_count": 31
        }
      ]
    },
    {
      "cell_type": "markdown",
      "source": [
        "# Loading the Ratings data"
      ],
      "metadata": {
        "id": "tDYHY0H5caTe"
      }
    },
    {
      "cell_type": "code",
      "source": [
        "rnames = [\n",
        "    \"user_id\",\n",
        "    \"movie_id\",\n",
        "    \"rating\",\n",
        "    \"timestamp\"\n",
        "]\n",
        "\n",
        "ratings = pd.read_table(\n",
        "    DATASET_DIR / \"ratings.dat\",\n",
        "    sep=\"::\",\n",
        "    header=None,\n",
        "    names=rnames,\n",
        "    engine=\"python\",\n",
        "    parse_dates=[\"timestamp\"],\n",
        "    date_parser=lambda ts: pd.to_datetime(ts, unit='s'),\n",
        ")\n"
      ],
      "metadata": {
        "id": "aGlBNmyFeVX-"
      },
      "execution_count": 54,
      "outputs": []
    },
    {
      "cell_type": "markdown",
      "source": [
        "## Exercise:\n",
        "\n",
        "What is each user's average movie rating?"
      ],
      "metadata": {
        "id": "3PIh6XE7cdzT"
      }
    },
    {
      "cell_type": "code",
      "source": [
        "(ratings.loc[:, [\"user_id\", \"rating\"]]\n",
        "        .groupby(\"user_id\")\n",
        "        .mean())"
      ],
      "metadata": {
        "id": "8JWz-zx8cTB0",
        "outputId": "1034f498-968f-4afa-d824-539b441c66cd",
        "colab": {
          "base_uri": "https://urldefense.com/v3/__https://localhost:8080/__;!!Nmw4Hv0!wCA2Ov1G9trU5SVf2SPnxQEK7WNP52Y2sE6ITvCnnzBUO5rzPtdzfbt-l2AKbSCM8E_x5YXCf3Qo0WngDLw_II7j-Qh2-p3-vYROew$ ",
          "height": 455
        }
      },
      "execution_count": 57,
      "outputs": [
        {
          "output_type": "execute_result",
          "data": {
            "text/plain": [
              "           rating\n",
              "user_id          \n",
              "1        4.188679\n",
              "2        3.713178\n",
              "3        3.901961\n",
              "4        4.190476\n",
              "5        3.146465\n",
              "...           ...\n",
              "6036     3.302928\n",
              "6037     3.717822\n",
              "6038     3.800000\n",
              "6039     3.878049\n",
              "6040     3.577713\n",
              "\n",
              "[6040 rows x 1 columns]"
            ],
            "text/html": [
              "\n",
              "  <div id=\"df-765c7762-d33d-4b0e-9856-0c3a23ccfc55\">\n",
              "    <div class=\"colab-df-container\">\n",
              "      <div>\n",
              "<style scoped>\n",
              "    .dataframe tbody tr th:only-of-type {\n",
              "        vertical-align: middle;\n",
              "    }\n",
              "\n",
              "    .dataframe tbody tr th {\n",
              "        vertical-align: top;\n",
              "    }\n",
              "\n",
              "    .dataframe thead th {\n",
              "        text-align: right;\n",
              "    }\n",
              "</style>\n",
              "<table border=\"1\" class=\"dataframe\">\n",
              "  <thead>\n",
              "    <tr style=\"text-align: right;\">\n",
              "      <th></th>\n",
              "      <th>rating</th>\n",
              "    </tr>\n",
              "    <tr>\n",
              "      <th>user_id</th>\n",
              "      <th></th>\n",
              "    </tr>\n",
              "  </thead>\n",
              "  <tbody>\n",
              "    <tr>\n",
              "      <th>1</th>\n",
              "      <td>4.188679</td>\n",
              "    </tr>\n",
              "    <tr>\n",
              "      <th>2</th>\n",
              "      <td>3.713178</td>\n",
              "    </tr>\n",
              "    <tr>\n",
              "      <th>3</th>\n",
              "      <td>3.901961</td>\n",
              "    </tr>\n",
              "    <tr>\n",
              "      <th>4</th>\n",
              "      <td>4.190476</td>\n",
              "    </tr>\n",
              "    <tr>\n",
              "      <th>5</th>\n",
              "      <td>3.146465</td>\n",
              "    </tr>\n",
              "    <tr>\n",
              "      <th>...</th>\n",
              "      <td>...</td>\n",
              "    </tr>\n",
              "    <tr>\n",
              "      <th>6036</th>\n",
              "      <td>3.302928</td>\n",
              "    </tr>\n",
              "    <tr>\n",
              "      <th>6037</th>\n",
              "      <td>3.717822</td>\n",
              "    </tr>\n",
              "    <tr>\n",
              "      <th>6038</th>\n",
              "      <td>3.800000</td>\n",
              "    </tr>\n",
              "    <tr>\n",
              "      <th>6039</th>\n",
              "      <td>3.878049</td>\n",
              "    </tr>\n",
              "    <tr>\n",
              "      <th>6040</th>\n",
              "      <td>3.577713</td>\n",
              "    </tr>\n",
              "  </tbody>\n",
              "</table>\n",
              "<p>6040 rows × 1 columns</p>\n",
              "</div>\n",
              "      <button class=\"colab-df-convert\" onclick=\"convertToInteractive('df-765c7762-d33d-4b0e-9856-0c3a23ccfc55')\"\n",
              "              title=\"Convert this dataframe to an interactive table.\"\n",
              "              style=\"display:none;\">\n",
              "        \n",
              "  <svg xmlns=\"https://urldefense.com/v3/__http://www.w3.org/2000/svg*5C__;JQ!!Nmw4Hv0!wCA2Ov1G9trU5SVf2SPnxQEK7WNP52Y2sE6ITvCnnzBUO5rzPtdzfbt-l2AKbSCM8E_x5YXCf3Qo0WngDLw_II7j-Qh2-p3dabER7A$ " height=\"24px\"viewBox=\"0 0 24 24\"\n",
              "       width=\"24px\">\n",
              "    <path d=\"M0 0h24v24H0V0z\" fill=\"none\"/>\n",
              "    <path d=\"M18.56 5.44l.94 2.06.94-2.06 2.06-.94-2.06-.94-.94-2.06-.94 2.06-2.06.94zm-11 1L8.5 8.5l.94-2.06 2.06-.94-2.06-.94L8.5 2.5l-.94 2.06-2.06.94zm10 10l.94 2.06.94-2.06 2.06-.94-2.06-.94-.94-2.06-.94 2.06-2.06.94z\"/><path d=\"M17.41 7.96l-1.37-1.37c-.4-.4-.92-.59-1.43-.59-.52 0-1.04.2-1.43.59L10.3 9.45l-7.72 7.72c-.78.78-.78 2.05 0 2.83L4 21.41c.39.39.9.59 1.41.59.51 0 1.02-.2 1.41-.59l7.78-7.78 2.81-2.81c.8-.78.8-2.07 0-2.86zM5.41 20L4 18.59l7.72-7.72 1.47 1.35L5.41 20z\"/>\n",
              "  </svg>\n",
              "      </button>\n",
              "      \n",
              "  <style>\n",
              "    .colab-df-container {\n",
              "      display:flex;\n",
              "      flex-wrap:wrap;\n",
              "      gap: 12px;\n",
              "    }\n",
              "\n",
              "    .colab-df-convert {\n",
              "      background-color: #E8F0FE;\n",
              "      border: none;\n",
              "      border-radius: 50%;\n",
              "      cursor: pointer;\n",
              "      display: none;\n",
              "      fill: #1967D2;\n",
              "      height: 32px;\n",
              "      padding: 0 0 0 0;\n",
              "      width: 32px;\n",
              "    }\n",
              "\n",
              "    .colab-df-convert:hover {\n",
              "      background-color: #E2EBFA;\n",
              "      box-shadow: 0px 1px 2px rgba(60, 64, 67, 0.3), 0px 1px 3px 1px rgba(60, 64, 67, 0.15);\n",
              "      fill: #174EA6;\n",
              "    }\n",
              "\n",
              "    [theme=dark] .colab-df-convert {\n",
              "      background-color: #3B4455;\n",
              "      fill: #D2E3FC;\n",
              "    }\n",
              "\n",
              "    [theme=dark] .colab-df-convert:hover {\n",
              "      background-color: #434B5C;\n",
              "      box-shadow: 0px 1px 3px 1px rgba(0, 0, 0, 0.15);\n",
              "      filter: drop-shadow(0px 1px 2px rgba(0, 0, 0, 0.3));\n",
              "      fill: #FFFFFF;\n",
              "    }\n",
              "  </style>\n",
              "\n",
              "      <script>\n",
              "        const buttonEl =\n",
              "          document.querySelector('#df-765c7762-d33d-4b0e-9856-0c3a23ccfc55 button.colab-df-convert');\n",
              "        buttonEl.style.display =\n",
              "          google.colab.kernel.accessAllowed ? 'block' : 'none';\n",
              "\n",
              "        async function convertToInteractive(key) {\n",
              "          const element = document.querySelector('#df-765c7762-d33d-4b0e-9856-0c3a23ccfc55');\n",
              "          const dataTable =\n",
              "            await google.colab.kernel.invokeFunction('convertToInteractive',\n",
              "                                                     [key], {});\n",
              "          if (!dataTable) return;\n",
              "\n",
              "          const docLinkHtml = 'Like what you see? Visit the ' +\n",
              "            '<a target=\"_blank\" href=https://urldefense.com/v3/__https://colab.research.google.com/notebooks/data_table.ipynb__;!!Nmw4Hv0!wCA2Ov1G9trU5SVf2SPnxQEK7WNP52Y2sE6ITvCnnzBUO5rzPtdzfbt-l2AKbSCM8E_x5YXCf3Qo0WngDLw_II7j-Qh2-p0I1MGuPA$ >data table notebook</a>'\n",
              "            + ' to learn more about interactive tables.';\n",
              "          element.innerHTML = '';\n",
              "          dataTable['output_type'] = 'display_data';\n",
              "          await google.colab.output.renderOutput(dataTable, element);\n",
              "          const docLink = document.createElement('div');\n",
              "          docLink.innerHTML = docLinkHtml;\n",
              "          element.appendChild(docLink);\n",
              "        }\n",
              "      </script>\n",
              "    </div>\n",
              "  </div>\n",
              "  "
            ]
          },
          "metadata": {},
          "execution_count": 57
        }
      ]
    },
    {
      "cell_type": "markdown",
      "source": [
        "## Exercise:\n",
        "\n",
        "What is the average rating of each movie?"
      ],
      "metadata": {
        "id": "TR0bGgcUcoCK"
      }
    },
    {
      "cell_type": "code",
      "source": [
        "(ratings.loc[:, [\"movie_id\", \"rating\"]]\n",
        "        .groupby(\"movie_id\")\n",
        "        .mean())"
      ],
      "metadata": {
        "id": "7VJRb9rscTET",
        "outputId": "1a8b347b-131e-48d8-88c4-4a250f566ce9",
        "colab": {
          "base_uri": "https://urldefense.com/v3/__https://localhost:8080/__;!!Nmw4Hv0!wCA2Ov1G9trU5SVf2SPnxQEK7WNP52Y2sE6ITvCnnzBUO5rzPtdzfbt-l2AKbSCM8E_x5YXCf3Qo0WngDLw_II7j-Qh2-p3-vYROew$ ",
          "height": 455
        }
      },
      "execution_count": 58,
      "outputs": [
        {
          "output_type": "execute_result",
          "data": {
            "text/plain": [
              "            rating\n",
              "movie_id          \n",
              "1         4.146846\n",
              "2         3.201141\n",
              "3         3.016736\n",
              "4         2.729412\n",
              "5         3.006757\n",
              "...            ...\n",
              "3948      3.635731\n",
              "3949      4.115132\n",
              "3950      3.666667\n",
              "3951      3.900000\n",
              "3952      3.780928\n",
              "\n",
              "[3706 rows x 1 columns]"
            ],
            "text/html": [
              "\n",
              "  <div id=\"df-66597c49-3e7f-4d93-9785-32d3c0d33d22\">\n",
              "    <div class=\"colab-df-container\">\n",
              "      <div>\n",
              "<style scoped>\n",
              "    .dataframe tbody tr th:only-of-type {\n",
              "        vertical-align: middle;\n",
              "    }\n",
              "\n",
              "    .dataframe tbody tr th {\n",
              "        vertical-align: top;\n",
              "    }\n",
              "\n",
              "    .dataframe thead th {\n",
              "        text-align: right;\n",
              "    }\n",
              "</style>\n",
              "<table border=\"1\" class=\"dataframe\">\n",
              "  <thead>\n",
              "    <tr style=\"text-align: right;\">\n",
              "      <th></th>\n",
              "      <th>rating</th>\n",
              "    </tr>\n",
              "    <tr>\n",
              "      <th>movie_id</th>\n",
              "      <th></th>\n",
              "    </tr>\n",
              "  </thead>\n",
              "  <tbody>\n",
              "    <tr>\n",
              "      <th>1</th>\n",
              "      <td>4.146846</td>\n",
              "    </tr>\n",
              "    <tr>\n",
              "      <th>2</th>\n",
              "      <td>3.201141</td>\n",
              "    </tr>\n",
              "    <tr>\n",
              "      <th>3</th>\n",
              "      <td>3.016736</td>\n",
              "    </tr>\n",
              "    <tr>\n",
              "      <th>4</th>\n",
              "      <td>2.729412</td>\n",
              "    </tr>\n",
              "    <tr>\n",
              "      <th>5</th>\n",
              "      <td>3.006757</td>\n",
              "    </tr>\n",
              "    <tr>\n",
              "      <th>...</th>\n",
              "      <td>...</td>\n",
              "    </tr>\n",
              "    <tr>\n",
              "      <th>3948</th>\n",
              "      <td>3.635731</td>\n",
              "    </tr>\n",
              "    <tr>\n",
              "      <th>3949</th>\n",
              "      <td>4.115132</td>\n",
              "    </tr>\n",
              "    <tr>\n",
              "      <th>3950</th>\n",
              "      <td>3.666667</td>\n",
              "    </tr>\n",
              "    <tr>\n",
              "      <th>3951</th>\n",
              "      <td>3.900000</td>\n",
              "    </tr>\n",
              "    <tr>\n",
              "      <th>3952</th>\n",
              "      <td>3.780928</td>\n",
              "    </tr>\n",
              "  </tbody>\n",
              "</table>\n",
              "<p>3706 rows × 1 columns</p>\n",
              "</div>\n",
              "      <button class=\"colab-df-convert\" onclick=\"convertToInteractive('df-66597c49-3e7f-4d93-9785-32d3c0d33d22')\"\n",
              "              title=\"Convert this dataframe to an interactive table.\"\n",
              "              style=\"display:none;\">\n",
              "        \n",
              "  <svg xmlns=\"https://urldefense.com/v3/__http://www.w3.org/2000/svg*5C__;JQ!!Nmw4Hv0!wCA2Ov1G9trU5SVf2SPnxQEK7WNP52Y2sE6ITvCnnzBUO5rzPtdzfbt-l2AKbSCM8E_x5YXCf3Qo0WngDLw_II7j-Qh2-p3dabER7A$ " height=\"24px\"viewBox=\"0 0 24 24\"\n",
              "       width=\"24px\">\n",
              "    <path d=\"M0 0h24v24H0V0z\" fill=\"none\"/>\n",
              "    <path d=\"M18.56 5.44l.94 2.06.94-2.06 2.06-.94-2.06-.94-.94-2.06-.94 2.06-2.06.94zm-11 1L8.5 8.5l.94-2.06 2.06-.94-2.06-.94L8.5 2.5l-.94 2.06-2.06.94zm10 10l.94 2.06.94-2.06 2.06-.94-2.06-.94-.94-2.06-.94 2.06-2.06.94z\"/><path d=\"M17.41 7.96l-1.37-1.37c-.4-.4-.92-.59-1.43-.59-.52 0-1.04.2-1.43.59L10.3 9.45l-7.72 7.72c-.78.78-.78 2.05 0 2.83L4 21.41c.39.39.9.59 1.41.59.51 0 1.02-.2 1.41-.59l7.78-7.78 2.81-2.81c.8-.78.8-2.07 0-2.86zM5.41 20L4 18.59l7.72-7.72 1.47 1.35L5.41 20z\"/>\n",
              "  </svg>\n",
              "      </button>\n",
              "      \n",
              "  <style>\n",
              "    .colab-df-container {\n",
              "      display:flex;\n",
              "      flex-wrap:wrap;\n",
              "      gap: 12px;\n",
              "    }\n",
              "\n",
              "    .colab-df-convert {\n",
              "      background-color: #E8F0FE;\n",
              "      border: none;\n",
              "      border-radius: 50%;\n",
              "      cursor: pointer;\n",
              "      display: none;\n",
              "      fill: #1967D2;\n",
              "      height: 32px;\n",
              "      padding: 0 0 0 0;\n",
              "      width: 32px;\n",
              "    }\n",
              "\n",
              "    .colab-df-convert:hover {\n",
              "      background-color: #E2EBFA;\n",
              "      box-shadow: 0px 1px 2px rgba(60, 64, 67, 0.3), 0px 1px 3px 1px rgba(60, 64, 67, 0.15);\n",
              "      fill: #174EA6;\n",
              "    }\n",
              "\n",
              "    [theme=dark] .colab-df-convert {\n",
              "      background-color: #3B4455;\n",
              "      fill: #D2E3FC;\n",
              "    }\n",
              "\n",
              "    [theme=dark] .colab-df-convert:hover {\n",
              "      background-color: #434B5C;\n",
              "      box-shadow: 0px 1px 3px 1px rgba(0, 0, 0, 0.15);\n",
              "      filter: drop-shadow(0px 1px 2px rgba(0, 0, 0, 0.3));\n",
              "      fill: #FFFFFF;\n",
              "    }\n",
              "  </style>\n",
              "\n",
              "      <script>\n",
              "        const buttonEl =\n",
              "          document.querySelector('#df-66597c49-3e7f-4d93-9785-32d3c0d33d22 button.colab-df-convert');\n",
              "        buttonEl.style.display =\n",
              "          google.colab.kernel.accessAllowed ? 'block' : 'none';\n",
              "\n",
              "        async function convertToInteractive(key) {\n",
              "          const element = document.querySelector('#df-66597c49-3e7f-4d93-9785-32d3c0d33d22');\n",
              "          const dataTable =\n",
              "            await google.colab.kernel.invokeFunction('convertToInteractive',\n",
              "                                                     [key], {});\n",
              "          if (!dataTable) return;\n",
              "\n",
              "          const docLinkHtml = 'Like what you see? Visit the ' +\n",
              "            '<a target=\"_blank\" href=https://urldefense.com/v3/__https://colab.research.google.com/notebooks/data_table.ipynb__;!!Nmw4Hv0!wCA2Ov1G9trU5SVf2SPnxQEK7WNP52Y2sE6ITvCnnzBUO5rzPtdzfbt-l2AKbSCM8E_x5YXCf3Qo0WngDLw_II7j-Qh2-p0I1MGuPA$ >data table notebook</a>'\n",
              "            + ' to learn more about interactive tables.';\n",
              "          element.innerHTML = '';\n",
              "          dataTable['output_type'] = 'display_data';\n",
              "          await google.colab.output.renderOutput(dataTable, element);\n",
              "          const docLink = document.createElement('div');\n",
              "          docLink.innerHTML = docLinkHtml;\n",
              "          element.appendChild(docLink);\n",
              "        }\n",
              "      </script>\n",
              "    </div>\n",
              "  </div>\n",
              "  "
            ]
          },
          "metadata": {},
          "execution_count": 58
        }
      ]
    },
    {
      "cell_type": "markdown",
      "source": [
        "# Loading the Movies data"
      ],
      "metadata": {
        "id": "DelLSBb-c--W"
      }
    },
    {
      "cell_type": "code",
      "source": [
        "mnames = [\n",
        "    \"movie_id\",\n",
        "    \"title\",\n",
        "    \"genres\"\n",
        "]\n",
        "\n",
        "movies = pd.read_table(\n",
        "    DATASET_DIR / \"movies.dat\",\n",
        "    sep=\"::\",\n",
        "    header=None,\n",
        "    names=mnames,\n",
        "    engine=\"python\"\n",
        ")\n",
        "\n",
        "movies[\"genre\"] = (movies.pop(\"genres\")\n",
        "                          .str\n",
        "                          .split(\"|\"))\n",
        "movies = movies.explode(\"genre\")                    "
      ],
      "metadata": {
        "trusted": true,
        "id": "hCli_7fVcjns"
      },
      "execution_count": 59,
      "outputs": []
    },
    {
      "cell_type": "markdown",
      "source": [
        "## Exercise:\n",
        "\n",
        "How many rows are there in the `movies` DataFrame?"
      ],
      "metadata": {
        "id": "C4l_3PHuemDb"
      }
    },
    {
      "cell_type": "code",
      "source": [
        "movies.info()"
      ],
      "metadata": {
        "id": "_GHSMQu7ertR",
        "outputId": "dd9652e1-3be3-42d2-d4bf-c355d72e5d3f",
        "colab": {
          "base_uri": "https://urldefense.com/v3/__https://localhost:8080/__;!!Nmw4Hv0!wCA2Ov1G9trU5SVf2SPnxQEK7WNP52Y2sE6ITvCnnzBUO5rzPtdzfbt-l2AKbSCM8E_x5YXCf3Qo0WngDLw_II7j-Qh2-p3-vYROew$ "
        }
      },
      "execution_count": 60,
      "outputs": [
        {
          "output_type": "stream",
          "name": "stdout",
          "text": [
            "<class 'pandas.core.frame.DataFrame'>\n",
            "Int64Index: 6408 entries, 0 to 3882\n",
            "Data columns (total 3 columns):\n",
            " #   Column    Non-Null Count  Dtype \n",
            "---  ------    --------------  ----- \n",
            " 0   movie_id  6408 non-null   int64 \n",
            " 1   title     6408 non-null   object\n",
            " 2   genre     6408 non-null   object\n",
            "dtypes: int64(1), object(2)\n",
            "memory usage: 200.2+ KB\n"
          ]
        }
      ]
    },
    {
      "cell_type": "markdown",
      "source": [
        "## Exercise:\n",
        "\n",
        "How many movies are in each genre?"
      ],
      "metadata": {
        "id": "ZJMnaurreL0N"
      }
    },
    {
      "cell_type": "code",
      "source": [
        "(movies.loc[:, \"genre\"]\n",
        "       .value_counts())"
      ],
      "metadata": {
        "id": "pA_BQ-F3eXrz",
        "outputId": "98d466aa-dabb-4c36-e729-a3da1cd04a43",
        "colab": {
          "base_uri": "https://urldefense.com/v3/__https://localhost:8080/__;!!Nmw4Hv0!wCA2Ov1G9trU5SVf2SPnxQEK7WNP52Y2sE6ITvCnnzBUO5rzPtdzfbt-l2AKbSCM8E_x5YXCf3Qo0WngDLw_II7j-Qh2-p3-vYROew$ "
        }
      },
      "execution_count": 62,
      "outputs": [
        {
          "output_type": "execute_result",
          "data": {
            "text/plain": [
              "Drama          1603\n",
              "Comedy         1200\n",
              "Action          503\n",
              "Thriller        492\n",
              "Romance         471\n",
              "Horror          343\n",
              "Adventure       283\n",
              "Sci-Fi          276\n",
              "Children's      251\n",
              "Crime           211\n",
              "War             143\n",
              "Documentary     127\n",
              "Musical         114\n",
              "Mystery         106\n",
              "Animation       105\n",
              "Fantasy          68\n",
              "Western          68\n",
              "Film-Noir        44\n",
              "Name: genre, dtype: int64"
            ]
          },
          "metadata": {},
          "execution_count": 62
        }
      ]
    },
    {
      "cell_type": "markdown",
      "source": [
        "## Exercise:\n",
        "\n",
        "Which movie has the most genres?"
      ],
      "metadata": {
        "id": "S2IFuyhsauo1"
      }
    },
    {
      "cell_type": "code",
      "source": [
        "(movies.loc[:, \"title\"]\n",
        "       .value_counts())"
      ],
      "metadata": {
        "id": "hMmYV6-mdSVI",
        "outputId": "5c7c9b38-1ffa-448d-8752-4420ce765f95",
        "colab": {
          "base_uri": "https://urldefense.com/v3/__https://localhost:8080/__;!!Nmw4Hv0!wCA2Ov1G9trU5SVf2SPnxQEK7WNP52Y2sE6ITvCnnzBUO5rzPtdzfbt-l2AKbSCM8E_x5YXCf3Qo0WngDLw_II7j-Qh2-p3-vYROew$ "
        }
      },
      "execution_count": 64,
      "outputs": [
        {
          "output_type": "execute_result",
          "data": {
            "text/plain": [
              "Transformers: The Movie, The (1986)    6\n",
              "Pagemaster, The (1994)                 5\n",
              "Army of Darkness (1993)                5\n",
              "Little Mermaid, The (1989)             5\n",
              "From Dusk Till Dawn (1996)             5\n",
              "                                      ..\n",
              "Hedd Wyn (1992)                        1\n",
              "Rushmore (1998)                        1\n",
              "Collectionneuse, La (1967)             1\n",
              "Kaspar Hauser (1993)                   1\n",
              "Metropolis (1926)                      1\n",
              "Name: title, Length: 3883, dtype: int64"
            ]
          },
          "metadata": {},
          "execution_count": 64
        }
      ]
    },
    {
      "cell_type": "markdown",
      "source": [
        "## Exercise:\n",
        "\n",
        "What is the average number of genres per movie?"
      ],
      "metadata": {
        "id": "Gu9WNLKeedLE"
      }
    },
    {
      "cell_type": "code",
      "source": [
        "(movies.loc[:, \"title\"]\n",
        "       .value_counts()\n",
        "       .mean())"
      ],
      "metadata": {
        "id": "0GlK_jC2ejOz",
        "outputId": "f293143f-f3e9-496c-ad9a-40320670e6d2",
        "colab": {
          "base_uri": "https://urldefense.com/v3/__https://localhost:8080/__;!!Nmw4Hv0!wCA2Ov1G9trU5SVf2SPnxQEK7WNP52Y2sE6ITvCnnzBUO5rzPtdzfbt-l2AKbSCM8E_x5YXCf3Qo0WngDLw_II7j-Qh2-p3-vYROew$ "
        }
      },
      "execution_count": 65,
      "outputs": [
        {
          "output_type": "execute_result",
          "data": {
            "text/plain": [
              "1.6502704094772083"
            ]
          },
          "metadata": {},
          "execution_count": 65
        }
      ]
    },
    {
      "cell_type": "markdown",
      "source": [
        "# Combining the data"
      ],
      "metadata": {
        "id": "vK1tTuhmmmTd"
      }
    },
    {
      "cell_type": "markdown",
      "source": [
        "## Exercise:\n",
        "\n",
        "Combine the three DataFrames into a single DataFrame using the `pd.merge` function. "
      ],
      "metadata": {
        "id": "mwNaCYjfevMp"
      }
    },
    {
      "cell_type": "code",
      "source": [
        "pd.merge?"
      ],
      "metadata": {
        "id": "_heVLkEwmsUe"
      },
      "execution_count": null,
      "outputs": []
    },
    {
      "cell_type": "code",
      "source": [
        "users_ratings = pd.merge(users, ratings, on=\"user_id\", how=\"inner\")\n",
        "merged_data = pd.merge(users_ratings, movies, on=\"movie_id\", how=\"inner\")\n",
        "\n",
        "merged_data.head()"
      ],
      "metadata": {
        "id": "rnfyH0eZe66O",
        "outputId": "79559300-63d5-438d-b6fa-d57f1d24b92b",
        "colab": {
          "base_uri": "https://urldefense.com/v3/__https://localhost:8080/__;!!Nmw4Hv0!wCA2Ov1G9trU5SVf2SPnxQEK7WNP52Y2sE6ITvCnnzBUO5rzPtdzfbt-l2AKbSCM8E_x5YXCf3Qo0WngDLw_II7j-Qh2-p3-vYROew$ ",
          "height": 337
        }
      },
      "execution_count": 67,
      "outputs": [
        {
          "output_type": "execute_result",
          "data": {
            "text/plain": [
              "   user_id gender  age  occupation    zip  movie_id  rating  \\\n",
              "0        1      F    1          10  48067      1193       5   \n",
              "1        2      M   56          16  70072      1193       5   \n",
              "2       12      M   25          12  32793      1193       4   \n",
              "3       15      M   25           7  22903      1193       4   \n",
              "4       17      M   50           1  95350      1193       5   \n",
              "\n",
              "            timestamp                                   title  genre  \n",
              "0 2000-12-31 22:12:40  One Flew Over the Cuckoo's Nest (1975)  Drama  \n",
              "1 2000-12-31 21:33:33  One Flew Over the Cuckoo's Nest (1975)  Drama  \n",
              "2 2000-12-30 23:49:39  One Flew Over the Cuckoo's Nest (1975)  Drama  \n",
              "3 2000-12-30 18:01:19  One Flew Over the Cuckoo's Nest (1975)  Drama  \n",
              "4 2000-12-30 06:41:11  One Flew Over the Cuckoo's Nest (1975)  Drama  "
            ],
            "text/html": [
              "\n",
              "  <div id=\"df-d3a3c1d5-37cc-472d-af51-dbaea866bd4a\">\n",
              "    <div class=\"colab-df-container\">\n",
              "      <div>\n",
              "<style scoped>\n",
              "    .dataframe tbody tr th:only-of-type {\n",
              "        vertical-align: middle;\n",
              "    }\n",
              "\n",
              "    .dataframe tbody tr th {\n",
              "        vertical-align: top;\n",
              "    }\n",
              "\n",
              "    .dataframe thead th {\n",
              "        text-align: right;\n",
              "    }\n",
              "</style>\n",
              "<table border=\"1\" class=\"dataframe\">\n",
              "  <thead>\n",
              "    <tr style=\"text-align: right;\">\n",
              "      <th></th>\n",
              "      <th>user_id</th>\n",
              "      <th>gender</th>\n",
              "      <th>age</th>\n",
              "      <th>occupation</th>\n",
              "      <th>zip</th>\n",
              "      <th>movie_id</th>\n",
              "      <th>rating</th>\n",
              "      <th>timestamp</th>\n",
              "      <th>title</th>\n",
              "      <th>genre</th>\n",
              "    </tr>\n",
              "  </thead>\n",
              "  <tbody>\n",
              "    <tr>\n",
              "      <th>0</th>\n",
              "      <td>1</td>\n",
              "      <td>F</td>\n",
              "      <td>1</td>\n",
              "      <td>10</td>\n",
              "      <td>48067</td>\n",
              "      <td>1193</td>\n",
              "      <td>5</td>\n",
              "      <td>2000-12-31 22:12:40</td>\n",
              "      <td>One Flew Over the Cuckoo's Nest (1975)</td>\n",
              "      <td>Drama</td>\n",
              "    </tr>\n",
              "    <tr>\n",
              "      <th>1</th>\n",
              "      <td>2</td>\n",
              "      <td>M</td>\n",
              "      <td>56</td>\n",
              "      <td>16</td>\n",
              "      <td>70072</td>\n",
              "      <td>1193</td>\n",
              "      <td>5</td>\n",
              "      <td>2000-12-31 21:33:33</td>\n",
              "      <td>One Flew Over the Cuckoo's Nest (1975)</td>\n",
              "      <td>Drama</td>\n",
              "    </tr>\n",
              "    <tr>\n",
              "      <th>2</th>\n",
              "      <td>12</td>\n",
              "      <td>M</td>\n",
              "      <td>25</td>\n",
              "      <td>12</td>\n",
              "      <td>32793</td>\n",
              "      <td>1193</td>\n",
              "      <td>4</td>\n",
              "      <td>2000-12-30 23:49:39</td>\n",
              "      <td>One Flew Over the Cuckoo's Nest (1975)</td>\n",
              "      <td>Drama</td>\n",
              "    </tr>\n",
              "    <tr>\n",
              "      <th>3</th>\n",
              "      <td>15</td>\n",
              "      <td>M</td>\n",
              "      <td>25</td>\n",
              "      <td>7</td>\n",
              "      <td>22903</td>\n",
              "      <td>1193</td>\n",
              "      <td>4</td>\n",
              "      <td>2000-12-30 18:01:19</td>\n",
              "      <td>One Flew Over the Cuckoo's Nest (1975)</td>\n",
              "      <td>Drama</td>\n",
              "    </tr>\n",
              "    <tr>\n",
              "      <th>4</th>\n",
              "      <td>17</td>\n",
              "      <td>M</td>\n",
              "      <td>50</td>\n",
              "      <td>1</td>\n",
              "      <td>95350</td>\n",
              "      <td>1193</td>\n",
              "      <td>5</td>\n",
              "      <td>2000-12-30 06:41:11</td>\n",
              "      <td>One Flew Over the Cuckoo's Nest (1975)</td>\n",
              "      <td>Drama</td>\n",
              "    </tr>\n",
              "  </tbody>\n",
              "</table>\n",
              "</div>\n",
              "      <button class=\"colab-df-convert\" onclick=\"convertToInteractive('df-d3a3c1d5-37cc-472d-af51-dbaea866bd4a')\"\n",
              "              title=\"Convert this dataframe to an interactive table.\"\n",
              "              style=\"display:none;\">\n",
              "        \n",
              "  <svg xmlns=\"https://urldefense.com/v3/__http://www.w3.org/2000/svg*5C__;JQ!!Nmw4Hv0!wCA2Ov1G9trU5SVf2SPnxQEK7WNP52Y2sE6ITvCnnzBUO5rzPtdzfbt-l2AKbSCM8E_x5YXCf3Qo0WngDLw_II7j-Qh2-p3dabER7A$ " height=\"24px\"viewBox=\"0 0 24 24\"\n",
              "       width=\"24px\">\n",
              "    <path d=\"M0 0h24v24H0V0z\" fill=\"none\"/>\n",
              "    <path d=\"M18.56 5.44l.94 2.06.94-2.06 2.06-.94-2.06-.94-.94-2.06-.94 2.06-2.06.94zm-11 1L8.5 8.5l.94-2.06 2.06-.94-2.06-.94L8.5 2.5l-.94 2.06-2.06.94zm10 10l.94 2.06.94-2.06 2.06-.94-2.06-.94-.94-2.06-.94 2.06-2.06.94z\"/><path d=\"M17.41 7.96l-1.37-1.37c-.4-.4-.92-.59-1.43-.59-.52 0-1.04.2-1.43.59L10.3 9.45l-7.72 7.72c-.78.78-.78 2.05 0 2.83L4 21.41c.39.39.9.59 1.41.59.51 0 1.02-.2 1.41-.59l7.78-7.78 2.81-2.81c.8-.78.8-2.07 0-2.86zM5.41 20L4 18.59l7.72-7.72 1.47 1.35L5.41 20z\"/>\n",
              "  </svg>\n",
              "      </button>\n",
              "      \n",
              "  <style>\n",
              "    .colab-df-container {\n",
              "      display:flex;\n",
              "      flex-wrap:wrap;\n",
              "      gap: 12px;\n",
              "    }\n",
              "\n",
              "    .colab-df-convert {\n",
              "      background-color: #E8F0FE;\n",
              "      border: none;\n",
              "      border-radius: 50%;\n",
              "      cursor: pointer;\n",
              "      display: none;\n",
              "      fill: #1967D2;\n",
              "      height: 32px;\n",
              "      padding: 0 0 0 0;\n",
              "      width: 32px;\n",
              "    }\n",
              "\n",
              "    .colab-df-convert:hover {\n",
              "      background-color: #E2EBFA;\n",
              "      box-shadow: 0px 1px 2px rgba(60, 64, 67, 0.3), 0px 1px 3px 1px rgba(60, 64, 67, 0.15);\n",
              "      fill: #174EA6;\n",
              "    }\n",
              "\n",
              "    [theme=dark] .colab-df-convert {\n",
              "      background-color: #3B4455;\n",
              "      fill: #D2E3FC;\n",
              "    }\n",
              "\n",
              "    [theme=dark] .colab-df-convert:hover {\n",
              "      background-color: #434B5C;\n",
              "      box-shadow: 0px 1px 3px 1px rgba(0, 0, 0, 0.15);\n",
              "      filter: drop-shadow(0px 1px 2px rgba(0, 0, 0, 0.3));\n",
              "      fill: #FFFFFF;\n",
              "    }\n",
              "  </style>\n",
              "\n",
              "      <script>\n",
              "        const buttonEl =\n",
              "          document.querySelector('#df-d3a3c1d5-37cc-472d-af51-dbaea866bd4a button.colab-df-convert');\n",
              "        buttonEl.style.display =\n",
              "          google.colab.kernel.accessAllowed ? 'block' : 'none';\n",
              "\n",
              "        async function convertToInteractive(key) {\n",
              "          const element = document.querySelector('#df-d3a3c1d5-37cc-472d-af51-dbaea866bd4a');\n",
              "          const dataTable =\n",
              "            await google.colab.kernel.invokeFunction('convertToInteractive',\n",
              "                                                     [key], {});\n",
              "          if (!dataTable) return;\n",
              "\n",
              "          const docLinkHtml = 'Like what you see? Visit the ' +\n",
              "            '<a target=\"_blank\" href=https://urldefense.com/v3/__https://colab.research.google.com/notebooks/data_table.ipynb__;!!Nmw4Hv0!wCA2Ov1G9trU5SVf2SPnxQEK7WNP52Y2sE6ITvCnnzBUO5rzPtdzfbt-l2AKbSCM8E_x5YXCf3Qo0WngDLw_II7j-Qh2-p0I1MGuPA$ >data table notebook</a>'\n",
              "            + ' to learn more about interactive tables.';\n",
              "          element.innerHTML = '';\n",
              "          dataTable['output_type'] = 'display_data';\n",
              "          await google.colab.output.renderOutput(dataTable, element);\n",
              "          const docLink = document.createElement('div');\n",
              "          docLink.innerHTML = docLinkHtml;\n",
              "          element.appendChild(docLink);\n",
              "        }\n",
              "      </script>\n",
              "    </div>\n",
              "  </div>\n",
              "  "
            ]
          },
          "metadata": {},
          "execution_count": 67
        }
      ]
    },
    {
      "cell_type": "markdown",
      "source": [
        "## Exercise:\n",
        "\n",
        "What is the average rating for each movie by gender?"
      ],
      "metadata": {
        "id": "zpyh8_him5MF"
      }
    },
    {
      "cell_type": "code",
      "source": [
        "pd.pivot_table?"
      ],
      "metadata": {
        "id": "JYQas-xEfPlL"
      },
      "execution_count": 68,
      "outputs": []
    },
    {
      "cell_type": "code",
      "source": [
        "pd.pivot_table(\n",
        "    merged_data,\n",
        "    values=\"rating\",\n",
        "    index=\"title\",\n",
        "    columns=\"gender\",\n",
        "    aggfunc=\"mean\"\n",
        ")"
      ],
      "metadata": {
        "id": "7b1Pjuigye7m",
        "outputId": "cf33985d-2a12-4a6d-9c81-49a41b952654",
        "colab": {
          "base_uri": "https://urldefense.com/v3/__https://localhost:8080/__;!!Nmw4Hv0!wCA2Ov1G9trU5SVf2SPnxQEK7WNP52Y2sE6ITvCnnzBUO5rzPtdzfbt-l2AKbSCM8E_x5YXCf3Qo0WngDLw_II7j-Qh2-p3-vYROew$ ",
          "height": 455
        }
      },
      "execution_count": 69,
      "outputs": [
        {
          "output_type": "execute_result",
          "data": {
            "text/plain": [
              "gender                                             F         M\n",
              "title                                                         \n",
              "$1,000,000 Duck (1971)                      3.375000  2.761905\n",
              "'Night Mother (1986)                        3.388889  3.352941\n",
              "'Til There Was You (1997)                   2.675676  2.733333\n",
              "'burbs, The (1989)                          2.793478  2.962085\n",
              "...And Justice for All (1979)               3.828571  3.689024\n",
              "...                                              ...       ...\n",
              "Zed & Two Noughts, A (1985)                 3.500000  3.380952\n",
              "Zero Effect (1998)                          3.864407  3.723140\n",
              "Zero Kelvin (Kjærlighetens kjøtere) (1995)       NaN  3.500000\n",
              "Zeus and Roxanne (1997)                     2.777778  2.357143\n",
              "eXistenZ (1999)                             3.098592  3.289086\n",
              "\n",
              "[3706 rows x 2 columns]"
            ],
            "text/html": [
              "\n",
              "  <div id=\"df-a5d87877-4aaf-462f-b39c-3775a847c511\">\n",
              "    <div class=\"colab-df-container\">\n",
              "      <div>\n",
              "<style scoped>\n",
              "    .dataframe tbody tr th:only-of-type {\n",
              "        vertical-align: middle;\n",
              "    }\n",
              "\n",
              "    .dataframe tbody tr th {\n",
              "        vertical-align: top;\n",
              "    }\n",
              "\n",
              "    .dataframe thead th {\n",
              "        text-align: right;\n",
              "    }\n",
              "</style>\n",
              "<table border=\"1\" class=\"dataframe\">\n",
              "  <thead>\n",
              "    <tr style=\"text-align: right;\">\n",
              "      <th>gender</th>\n",
              "      <th>F</th>\n",
              "      <th>M</th>\n",
              "    </tr>\n",
              "    <tr>\n",
              "      <th>title</th>\n",
              "      <th></th>\n",
              "      <th></th>\n",
              "    </tr>\n",
              "  </thead>\n",
              "  <tbody>\n",
              "    <tr>\n",
              "      <th>$1,000,000 Duck (1971)</th>\n",
              "      <td>3.375000</td>\n",
              "      <td>2.761905</td>\n",
              "    </tr>\n",
              "    <tr>\n",
              "      <th>'Night Mother (1986)</th>\n",
              "      <td>3.388889</td>\n",
              "      <td>3.352941</td>\n",
              "    </tr>\n",
              "    <tr>\n",
              "      <th>'Til There Was You (1997)</th>\n",
              "      <td>2.675676</td>\n",
              "      <td>2.733333</td>\n",
              "    </tr>\n",
              "    <tr>\n",
              "      <th>'burbs, The (1989)</th>\n",
              "      <td>2.793478</td>\n",
              "      <td>2.962085</td>\n",
              "    </tr>\n",
              "    <tr>\n",
              "      <th>...And Justice for All (1979)</th>\n",
              "      <td>3.828571</td>\n",
              "      <td>3.689024</td>\n",
              "    </tr>\n",
              "    <tr>\n",
              "      <th>...</th>\n",
              "      <td>...</td>\n",
              "      <td>...</td>\n",
              "    </tr>\n",
              "    <tr>\n",
              "      <th>Zed &amp; Two Noughts, A (1985)</th>\n",
              "      <td>3.500000</td>\n",
              "      <td>3.380952</td>\n",
              "    </tr>\n",
              "    <tr>\n",
              "      <th>Zero Effect (1998)</th>\n",
              "      <td>3.864407</td>\n",
              "      <td>3.723140</td>\n",
              "    </tr>\n",
              "    <tr>\n",
              "      <th>Zero Kelvin (Kjærlighetens kjøtere) (1995)</th>\n",
              "      <td>NaN</td>\n",
              "      <td>3.500000</td>\n",
              "    </tr>\n",
              "    <tr>\n",
              "      <th>Zeus and Roxanne (1997)</th>\n",
              "      <td>2.777778</td>\n",
              "      <td>2.357143</td>\n",
              "    </tr>\n",
              "    <tr>\n",
              "      <th>eXistenZ (1999)</th>\n",
              "      <td>3.098592</td>\n",
              "      <td>3.289086</td>\n",
              "    </tr>\n",
              "  </tbody>\n",
              "</table>\n",
              "<p>3706 rows × 2 columns</p>\n",
              "</div>\n",
              "      <button class=\"colab-df-convert\" onclick=\"convertToInteractive('df-a5d87877-4aaf-462f-b39c-3775a847c511')\"\n",
              "              title=\"Convert this dataframe to an interactive table.\"\n",
              "              style=\"display:none;\">\n",
              "        \n",
              "  <svg xmlns=\"https://urldefense.com/v3/__http://www.w3.org/2000/svg*5C__;JQ!!Nmw4Hv0!wCA2Ov1G9trU5SVf2SPnxQEK7WNP52Y2sE6ITvCnnzBUO5rzPtdzfbt-l2AKbSCM8E_x5YXCf3Qo0WngDLw_II7j-Qh2-p3dabER7A$ " height=\"24px\"viewBox=\"0 0 24 24\"\n",
              "       width=\"24px\">\n",
              "    <path d=\"M0 0h24v24H0V0z\" fill=\"none\"/>\n",
              "    <path d=\"M18.56 5.44l.94 2.06.94-2.06 2.06-.94-2.06-.94-.94-2.06-.94 2.06-2.06.94zm-11 1L8.5 8.5l.94-2.06 2.06-.94-2.06-.94L8.5 2.5l-.94 2.06-2.06.94zm10 10l.94 2.06.94-2.06 2.06-.94-2.06-.94-.94-2.06-.94 2.06-2.06.94z\"/><path d=\"M17.41 7.96l-1.37-1.37c-.4-.4-.92-.59-1.43-.59-.52 0-1.04.2-1.43.59L10.3 9.45l-7.72 7.72c-.78.78-.78 2.05 0 2.83L4 21.41c.39.39.9.59 1.41.59.51 0 1.02-.2 1.41-.59l7.78-7.78 2.81-2.81c.8-.78.8-2.07 0-2.86zM5.41 20L4 18.59l7.72-7.72 1.47 1.35L5.41 20z\"/>\n",
              "  </svg>\n",
              "      </button>\n",
              "      \n",
              "  <style>\n",
              "    .colab-df-container {\n",
              "      display:flex;\n",
              "      flex-wrap:wrap;\n",
              "      gap: 12px;\n",
              "    }\n",
              "\n",
              "    .colab-df-convert {\n",
              "      background-color: #E8F0FE;\n",
              "      border: none;\n",
              "      border-radius: 50%;\n",
              "      cursor: pointer;\n",
              "      display: none;\n",
              "      fill: #1967D2;\n",
              "      height: 32px;\n",
              "      padding: 0 0 0 0;\n",
              "      width: 32px;\n",
              "    }\n",
              "\n",
              "    .colab-df-convert:hover {\n",
              "      background-color: #E2EBFA;\n",
              "      box-shadow: 0px 1px 2px rgba(60, 64, 67, 0.3), 0px 1px 3px 1px rgba(60, 64, 67, 0.15);\n",
              "      fill: #174EA6;\n",
              "    }\n",
              "\n",
              "    [theme=dark] .colab-df-convert {\n",
              "      background-color: #3B4455;\n",
              "      fill: #D2E3FC;\n",
              "    }\n",
              "\n",
              "    [theme=dark] .colab-df-convert:hover {\n",
              "      background-color: #434B5C;\n",
              "      box-shadow: 0px 1px 3px 1px rgba(0, 0, 0, 0.15);\n",
              "      filter: drop-shadow(0px 1px 2px rgba(0, 0, 0, 0.3));\n",
              "      fill: #FFFFFF;\n",
              "    }\n",
              "  </style>\n",
              "\n",
              "      <script>\n",
              "        const buttonEl =\n",
              "          document.querySelector('#df-a5d87877-4aaf-462f-b39c-3775a847c511 button.colab-df-convert');\n",
              "        buttonEl.style.display =\n",
              "          google.colab.kernel.accessAllowed ? 'block' : 'none';\n",
              "\n",
              "        async function convertToInteractive(key) {\n",
              "          const element = document.querySelector('#df-a5d87877-4aaf-462f-b39c-3775a847c511');\n",
              "          const dataTable =\n",
              "            await google.colab.kernel.invokeFunction('convertToInteractive',\n",
              "                                                     [key], {});\n",
              "          if (!dataTable) return;\n",
              "\n",
              "          const docLinkHtml = 'Like what you see? Visit the ' +\n",
              "            '<a target=\"_blank\" href=https://urldefense.com/v3/__https://colab.research.google.com/notebooks/data_table.ipynb__;!!Nmw4Hv0!wCA2Ov1G9trU5SVf2SPnxQEK7WNP52Y2sE6ITvCnnzBUO5rzPtdzfbt-l2AKbSCM8E_x5YXCf3Qo0WngDLw_II7j-Qh2-p0I1MGuPA$ >data table notebook</a>'\n",
              "            + ' to learn more about interactive tables.';\n",
              "          element.innerHTML = '';\n",
              "          dataTable['output_type'] = 'display_data';\n",
              "          await google.colab.output.renderOutput(dataTable, element);\n",
              "          const docLink = document.createElement('div');\n",
              "          docLink.innerHTML = docLinkHtml;\n",
              "          element.appendChild(docLink);\n",
              "        }\n",
              "      </script>\n",
              "    </div>\n",
              "  </div>\n",
              "  "
            ]
          },
          "metadata": {},
          "execution_count": 69
        }
      ]
    },
    {
      "cell_type": "markdown",
      "source": [
        "## Exercise:\n",
        "\n",
        "What are the average ratings of movies within each genre?"
      ],
      "metadata": {
        "id": "Pvi42169naDy"
      }
    },
    {
      "cell_type": "code",
      "source": [
        "(merged_data.loc[:, [\"genre\", \"rating\"]]\n",
        "            .groupby(\"genre\")\n",
        "            .mean())"
      ],
      "metadata": {
        "id": "fZKYW1-8fhX9",
        "outputId": "d1debbce-3f7f-4dd7-e2eb-84494b939bad",
        "colab": {
          "base_uri": "https://urldefense.com/v3/__https://localhost:8080/__;!!Nmw4Hv0!wCA2Ov1G9trU5SVf2SPnxQEK7WNP52Y2sE6ITvCnnzBUO5rzPtdzfbt-l2AKbSCM8E_x5YXCf3Qo0WngDLw_II7j-Qh2-p3-vYROew$ ",
          "height": 645
        }
      },
      "execution_count": 71,
      "outputs": [
        {
          "output_type": "execute_result",
          "data": {
            "text/plain": [
              "               rating\n",
              "genre                \n",
              "Action       3.491185\n",
              "Adventure    3.477257\n",
              "Animation    3.684868\n",
              "Children's   3.422035\n",
              "Comedy       3.522099\n",
              "Crime        3.708679\n",
              "Documentary  3.933123\n",
              "Drama        3.766332\n",
              "Fantasy      3.447371\n",
              "Film-Noir    4.075188\n",
              "Horror       3.215013\n",
              "Musical      3.665519\n",
              "Mystery      3.668102\n",
              "Romance      3.607465\n",
              "Sci-Fi       3.466521\n",
              "Thriller     3.570466\n",
              "War          3.893327\n",
              "Western      3.637770"
            ],
            "text/html": [
              "\n",
              "  <div id=\"df-59a1caa9-acde-4b0b-9c8e-afe23e0df36d\">\n",
              "    <div class=\"colab-df-container\">\n",
              "      <div>\n",
              "<style scoped>\n",
              "    .dataframe tbody tr th:only-of-type {\n",
              "        vertical-align: middle;\n",
              "    }\n",
              "\n",
              "    .dataframe tbody tr th {\n",
              "        vertical-align: top;\n",
              "    }\n",
              "\n",
              "    .dataframe thead th {\n",
              "        text-align: right;\n",
              "    }\n",
              "</style>\n",
              "<table border=\"1\" class=\"dataframe\">\n",
              "  <thead>\n",
              "    <tr style=\"text-align: right;\">\n",
              "      <th></th>\n",
              "      <th>rating</th>\n",
              "    </tr>\n",
              "    <tr>\n",
              "      <th>genre</th>\n",
              "      <th></th>\n",
              "    </tr>\n",
              "  </thead>\n",
              "  <tbody>\n",
              "    <tr>\n",
              "      <th>Action</th>\n",
              "      <td>3.491185</td>\n",
              "    </tr>\n",
              "    <tr>\n",
              "      <th>Adventure</th>\n",
              "      <td>3.477257</td>\n",
              "    </tr>\n",
              "    <tr>\n",
              "      <th>Animation</th>\n",
              "      <td>3.684868</td>\n",
              "    </tr>\n",
              "    <tr>\n",
              "      <th>Children's</th>\n",
              "      <td>3.422035</td>\n",
              "    </tr>\n",
              "    <tr>\n",
              "      <th>Comedy</th>\n",
              "      <td>3.522099</td>\n",
              "    </tr>\n",
              "    <tr>\n",
              "      <th>Crime</th>\n",
              "      <td>3.708679</td>\n",
              "    </tr>\n",
              "    <tr>\n",
              "      <th>Documentary</th>\n",
              "      <td>3.933123</td>\n",
              "    </tr>\n",
              "    <tr>\n",
              "      <th>Drama</th>\n",
              "      <td>3.766332</td>\n",
              "    </tr>\n",
              "    <tr>\n",
              "      <th>Fantasy</th>\n",
              "      <td>3.447371</td>\n",
              "    </tr>\n",
              "    <tr>\n",
              "      <th>Film-Noir</th>\n",
              "      <td>4.075188</td>\n",
              "    </tr>\n",
              "    <tr>\n",
              "      <th>Horror</th>\n",
              "      <td>3.215013</td>\n",
              "    </tr>\n",
              "    <tr>\n",
              "      <th>Musical</th>\n",
              "      <td>3.665519</td>\n",
              "    </tr>\n",
              "    <tr>\n",
              "      <th>Mystery</th>\n",
              "      <td>3.668102</td>\n",
              "    </tr>\n",
              "    <tr>\n",
              "      <th>Romance</th>\n",
              "      <td>3.607465</td>\n",
              "    </tr>\n",
              "    <tr>\n",
              "      <th>Sci-Fi</th>\n",
              "      <td>3.466521</td>\n",
              "    </tr>\n",
              "    <tr>\n",
              "      <th>Thriller</th>\n",
              "      <td>3.570466</td>\n",
              "    </tr>\n",
              "    <tr>\n",
              "      <th>War</th>\n",
              "      <td>3.893327</td>\n",
              "    </tr>\n",
              "    <tr>\n",
              "      <th>Western</th>\n",
              "      <td>3.637770</td>\n",
              "    </tr>\n",
              "  </tbody>\n",
              "</table>\n",
              "</div>\n",
              "      <button class=\"colab-df-convert\" onclick=\"convertToInteractive('df-59a1caa9-acde-4b0b-9c8e-afe23e0df36d')\"\n",
              "              title=\"Convert this dataframe to an interactive table.\"\n",
              "              style=\"display:none;\">\n",
              "        \n",
              "  <svg xmlns=\"https://urldefense.com/v3/__http://www.w3.org/2000/svg*5C__;JQ!!Nmw4Hv0!wCA2Ov1G9trU5SVf2SPnxQEK7WNP52Y2sE6ITvCnnzBUO5rzPtdzfbt-l2AKbSCM8E_x5YXCf3Qo0WngDLw_II7j-Qh2-p3dabER7A$ " height=\"24px\"viewBox=\"0 0 24 24\"\n",
              "       width=\"24px\">\n",
              "    <path d=\"M0 0h24v24H0V0z\" fill=\"none\"/>\n",
              "    <path d=\"M18.56 5.44l.94 2.06.94-2.06 2.06-.94-2.06-.94-.94-2.06-.94 2.06-2.06.94zm-11 1L8.5 8.5l.94-2.06 2.06-.94-2.06-.94L8.5 2.5l-.94 2.06-2.06.94zm10 10l.94 2.06.94-2.06 2.06-.94-2.06-.94-.94-2.06-.94 2.06-2.06.94z\"/><path d=\"M17.41 7.96l-1.37-1.37c-.4-.4-.92-.59-1.43-.59-.52 0-1.04.2-1.43.59L10.3 9.45l-7.72 7.72c-.78.78-.78 2.05 0 2.83L4 21.41c.39.39.9.59 1.41.59.51 0 1.02-.2 1.41-.59l7.78-7.78 2.81-2.81c.8-.78.8-2.07 0-2.86zM5.41 20L4 18.59l7.72-7.72 1.47 1.35L5.41 20z\"/>\n",
              "  </svg>\n",
              "      </button>\n",
              "      \n",
              "  <style>\n",
              "    .colab-df-container {\n",
              "      display:flex;\n",
              "      flex-wrap:wrap;\n",
              "      gap: 12px;\n",
              "    }\n",
              "\n",
              "    .colab-df-convert {\n",
              "      background-color: #E8F0FE;\n",
              "      border: none;\n",
              "      border-radius: 50%;\n",
              "      cursor: pointer;\n",
              "      display: none;\n",
              "      fill: #1967D2;\n",
              "      height: 32px;\n",
              "      padding: 0 0 0 0;\n",
              "      width: 32px;\n",
              "    }\n",
              "\n",
              "    .colab-df-convert:hover {\n",
              "      background-color: #E2EBFA;\n",
              "      box-shadow: 0px 1px 2px rgba(60, 64, 67, 0.3), 0px 1px 3px 1px rgba(60, 64, 67, 0.15);\n",
              "      fill: #174EA6;\n",
              "    }\n",
              "\n",
              "    [theme=dark] .colab-df-convert {\n",
              "      background-color: #3B4455;\n",
              "      fill: #D2E3FC;\n",
              "    }\n",
              "\n",
              "    [theme=dark] .colab-df-convert:hover {\n",
              "      background-color: #434B5C;\n",
              "      box-shadow: 0px 1px 3px 1px rgba(0, 0, 0, 0.15);\n",
              "      filter: drop-shadow(0px 1px 2px rgba(0, 0, 0, 0.3));\n",
              "      fill: #FFFFFF;\n",
              "    }\n",
              "  </style>\n",
              "\n",
              "      <script>\n",
              "        const buttonEl =\n",
              "          document.querySelector('#df-59a1caa9-acde-4b0b-9c8e-afe23e0df36d button.colab-df-convert');\n",
              "        buttonEl.style.display =\n",
              "          google.colab.kernel.accessAllowed ? 'block' : 'none';\n",
              "\n",
              "        async function convertToInteractive(key) {\n",
              "          const element = document.querySelector('#df-59a1caa9-acde-4b0b-9c8e-afe23e0df36d');\n",
              "          const dataTable =\n",
              "            await google.colab.kernel.invokeFunction('convertToInteractive',\n",
              "                                                     [key], {});\n",
              "          if (!dataTable) return;\n",
              "\n",
              "          const docLinkHtml = 'Like what you see? Visit the ' +\n",
              "            '<a target=\"_blank\" href=https://urldefense.com/v3/__https://colab.research.google.com/notebooks/data_table.ipynb__;!!Nmw4Hv0!wCA2Ov1G9trU5SVf2SPnxQEK7WNP52Y2sE6ITvCnnzBUO5rzPtdzfbt-l2AKbSCM8E_x5YXCf3Qo0WngDLw_II7j-Qh2-p0I1MGuPA$ >data table notebook</a>'\n",
              "            + ' to learn more about interactive tables.';\n",
              "          element.innerHTML = '';\n",
              "          dataTable['output_type'] = 'display_data';\n",
              "          await google.colab.output.renderOutput(dataTable, element);\n",
              "          const docLink = document.createElement('div');\n",
              "          docLink.innerHTML = docLinkHtml;\n",
              "          element.appendChild(docLink);\n",
              "        }\n",
              "      </script>\n",
              "    </div>\n",
              "  </div>\n",
              "  "
            ]
          },
          "metadata": {},
          "execution_count": 71
        }
      ]
    },
    {
      "cell_type": "markdown",
      "source": [
        "## Exercise:\n",
        "\n",
        "What are the top three most highly rated genres?"
      ],
      "metadata": {
        "id": "2He7RiAQfjEE"
      }
    },
    {
      "cell_type": "code",
      "source": [
        "(merged_data.loc[:, [\"genre\", \"rating\"]]\n",
        "            .groupby(\"genre\")\n",
        "            .mean()\n",
        "            .sort_values(\"rating\", ascending=False)\n",
        "            .head(n=3))"
      ],
      "metadata": {
        "id": "hFeO2R8cfpFv",
        "outputId": "aaf48e5e-b97a-4fe0-c4e8-f0c3d6cf6f9e",
        "colab": {
          "base_uri": "https://urldefense.com/v3/__https://localhost:8080/__;!!Nmw4Hv0!wCA2Ov1G9trU5SVf2SPnxQEK7WNP52Y2sE6ITvCnnzBUO5rzPtdzfbt-l2AKbSCM8E_x5YXCf3Qo0WngDLw_II7j-Qh2-p3-vYROew$ ",
          "height": 175
        }
      },
      "execution_count": 74,
      "outputs": [
        {
          "output_type": "execute_result",
          "data": {
            "text/plain": [
              "               rating\n",
              "genre                \n",
              "Film-Noir    4.075188\n",
              "Documentary  3.933123\n",
              "War          3.893327"
            ],
            "text/html": [
              "\n",
              "  <div id=\"df-2582273f-6a40-4574-ae3f-677c714d6b42\">\n",
              "    <div class=\"colab-df-container\">\n",
              "      <div>\n",
              "<style scoped>\n",
              "    .dataframe tbody tr th:only-of-type {\n",
              "        vertical-align: middle;\n",
              "    }\n",
              "\n",
              "    .dataframe tbody tr th {\n",
              "        vertical-align: top;\n",
              "    }\n",
              "\n",
              "    .dataframe thead th {\n",
              "        text-align: right;\n",
              "    }\n",
              "</style>\n",
              "<table border=\"1\" class=\"dataframe\">\n",
              "  <thead>\n",
              "    <tr style=\"text-align: right;\">\n",
              "      <th></th>\n",
              "      <th>rating</th>\n",
              "    </tr>\n",
              "    <tr>\n",
              "      <th>genre</th>\n",
              "      <th></th>\n",
              "    </tr>\n",
              "  </thead>\n",
              "  <tbody>\n",
              "    <tr>\n",
              "      <th>Film-Noir</th>\n",
              "      <td>4.075188</td>\n",
              "    </tr>\n",
              "    <tr>\n",
              "      <th>Documentary</th>\n",
              "      <td>3.933123</td>\n",
              "    </tr>\n",
              "    <tr>\n",
              "      <th>War</th>\n",
              "      <td>3.893327</td>\n",
              "    </tr>\n",
              "  </tbody>\n",
              "</table>\n",
              "</div>\n",
              "      <button class=\"colab-df-convert\" onclick=\"convertToInteractive('df-2582273f-6a40-4574-ae3f-677c714d6b42')\"\n",
              "              title=\"Convert this dataframe to an interactive table.\"\n",
              "              style=\"display:none;\">\n",
              "        \n",
              "  <svg xmlns=\"https://urldefense.com/v3/__http://www.w3.org/2000/svg*5C__;JQ!!Nmw4Hv0!wCA2Ov1G9trU5SVf2SPnxQEK7WNP52Y2sE6ITvCnnzBUO5rzPtdzfbt-l2AKbSCM8E_x5YXCf3Qo0WngDLw_II7j-Qh2-p3dabER7A$ " height=\"24px\"viewBox=\"0 0 24 24\"\n",
              "       width=\"24px\">\n",
              "    <path d=\"M0 0h24v24H0V0z\" fill=\"none\"/>\n",
              "    <path d=\"M18.56 5.44l.94 2.06.94-2.06 2.06-.94-2.06-.94-.94-2.06-.94 2.06-2.06.94zm-11 1L8.5 8.5l.94-2.06 2.06-.94-2.06-.94L8.5 2.5l-.94 2.06-2.06.94zm10 10l.94 2.06.94-2.06 2.06-.94-2.06-.94-.94-2.06-.94 2.06-2.06.94z\"/><path d=\"M17.41 7.96l-1.37-1.37c-.4-.4-.92-.59-1.43-.59-.52 0-1.04.2-1.43.59L10.3 9.45l-7.72 7.72c-.78.78-.78 2.05 0 2.83L4 21.41c.39.39.9.59 1.41.59.51 0 1.02-.2 1.41-.59l7.78-7.78 2.81-2.81c.8-.78.8-2.07 0-2.86zM5.41 20L4 18.59l7.72-7.72 1.47 1.35L5.41 20z\"/>\n",
              "  </svg>\n",
              "      </button>\n",
              "      \n",
              "  <style>\n",
              "    .colab-df-container {\n",
              "      display:flex;\n",
              "      flex-wrap:wrap;\n",
              "      gap: 12px;\n",
              "    }\n",
              "\n",
              "    .colab-df-convert {\n",
              "      background-color: #E8F0FE;\n",
              "      border: none;\n",
              "      border-radius: 50%;\n",
              "      cursor: pointer;\n",
              "      display: none;\n",
              "      fill: #1967D2;\n",
              "      height: 32px;\n",
              "      padding: 0 0 0 0;\n",
              "      width: 32px;\n",
              "    }\n",
              "\n",
              "    .colab-df-convert:hover {\n",
              "      background-color: #E2EBFA;\n",
              "      box-shadow: 0px 1px 2px rgba(60, 64, 67, 0.3), 0px 1px 3px 1px rgba(60, 64, 67, 0.15);\n",
              "      fill: #174EA6;\n",
              "    }\n",
              "\n",
              "    [theme=dark] .colab-df-convert {\n",
              "      background-color: #3B4455;\n",
              "      fill: #D2E3FC;\n",
              "    }\n",
              "\n",
              "    [theme=dark] .colab-df-convert:hover {\n",
              "      background-color: #434B5C;\n",
              "      box-shadow: 0px 1px 3px 1px rgba(0, 0, 0, 0.15);\n",
              "      filter: drop-shadow(0px 1px 2px rgba(0, 0, 0, 0.3));\n",
              "      fill: #FFFFFF;\n",
              "    }\n",
              "  </style>\n",
              "\n",
              "      <script>\n",
              "        const buttonEl =\n",
              "          document.querySelector('#df-2582273f-6a40-4574-ae3f-677c714d6b42 button.colab-df-convert');\n",
              "        buttonEl.style.display =\n",
              "          google.colab.kernel.accessAllowed ? 'block' : 'none';\n",
              "\n",
              "        async function convertToInteractive(key) {\n",
              "          const element = document.querySelector('#df-2582273f-6a40-4574-ae3f-677c714d6b42');\n",
              "          const dataTable =\n",
              "            await google.colab.kernel.invokeFunction('convertToInteractive',\n",
              "                                                     [key], {});\n",
              "          if (!dataTable) return;\n",
              "\n",
              "          const docLinkHtml = 'Like what you see? Visit the ' +\n",
              "            '<a target=\"_blank\" href=https://urldefense.com/v3/__https://colab.research.google.com/notebooks/data_table.ipynb__;!!Nmw4Hv0!wCA2Ov1G9trU5SVf2SPnxQEK7WNP52Y2sE6ITvCnnzBUO5rzPtdzfbt-l2AKbSCM8E_x5YXCf3Qo0WngDLw_II7j-Qh2-p0I1MGuPA$ >data table notebook</a>'\n",
              "            + ' to learn more about interactive tables.';\n",
              "          element.innerHTML = '';\n",
              "          dataTable['output_type'] = 'display_data';\n",
              "          await google.colab.output.renderOutput(dataTable, element);\n",
              "          const docLink = document.createElement('div');\n",
              "          docLink.innerHTML = docLinkHtml;\n",
              "          element.appendChild(docLink);\n",
              "        }\n",
              "      </script>\n",
              "    </div>\n",
              "  </div>\n",
              "  "
            ]
          },
          "metadata": {},
          "execution_count": 74
        }
      ]
    },
    {
      "cell_type": "markdown",
      "source": [
        "## Exercise:\n",
        "\n",
        "What are the bottom three most lowly rated genres?"
      ],
      "metadata": {
        "id": "ojnncfgkngMC"
      }
    },
    {
      "cell_type": "code",
      "source": [
        "(merged_data.loc[:, [\"genre\", \"rating\"]]\n",
        "            .groupby(\"genre\")\n",
        "            .mean()\n",
        "            .sort_values(\"rating\", ascending=False)\n",
        "            .tail(n=3))"
      ],
      "metadata": {
        "id": "7y1S4OszjdZt",
        "outputId": "6c4bdc2d-a406-4c87-f370-7aaf322173f3",
        "colab": {
          "base_uri": "https://urldefense.com/v3/__https://localhost:8080/__;!!Nmw4Hv0!wCA2Ov1G9trU5SVf2SPnxQEK7WNP52Y2sE6ITvCnnzBUO5rzPtdzfbt-l2AKbSCM8E_x5YXCf3Qo0WngDLw_II7j-Qh2-p3-vYROew$ ",
          "height": 175
        }
      },
      "execution_count": 75,
      "outputs": [
        {
          "output_type": "execute_result",
          "data": {
            "text/plain": [
              "              rating\n",
              "genre               \n",
              "Fantasy     3.447371\n",
              "Children's  3.422035\n",
              "Horror      3.215013"
            ],
            "text/html": [
              "\n",
              "  <div id=\"df-7949ee0e-3099-45e1-9257-61088cb0081f\">\n",
              "    <div class=\"colab-df-container\">\n",
              "      <div>\n",
              "<style scoped>\n",
              "    .dataframe tbody tr th:only-of-type {\n",
              "        vertical-align: middle;\n",
              "    }\n",
              "\n",
              "    .dataframe tbody tr th {\n",
              "        vertical-align: top;\n",
              "    }\n",
              "\n",
              "    .dataframe thead th {\n",
              "        text-align: right;\n",
              "    }\n",
              "</style>\n",
              "<table border=\"1\" class=\"dataframe\">\n",
              "  <thead>\n",
              "    <tr style=\"text-align: right;\">\n",
              "      <th></th>\n",
              "      <th>rating</th>\n",
              "    </tr>\n",
              "    <tr>\n",
              "      <th>genre</th>\n",
              "      <th></th>\n",
              "    </tr>\n",
              "  </thead>\n",
              "  <tbody>\n",
              "    <tr>\n",
              "      <th>Fantasy</th>\n",
              "      <td>3.447371</td>\n",
              "    </tr>\n",
              "    <tr>\n",
              "      <th>Children's</th>\n",
              "      <td>3.422035</td>\n",
              "    </tr>\n",
              "    <tr>\n",
              "      <th>Horror</th>\n",
              "      <td>3.215013</td>\n",
              "    </tr>\n",
              "  </tbody>\n",
              "</table>\n",
              "</div>\n",
              "      <button class=\"colab-df-convert\" onclick=\"convertToInteractive('df-7949ee0e-3099-45e1-9257-61088cb0081f')\"\n",
              "              title=\"Convert this dataframe to an interactive table.\"\n",
              "              style=\"display:none;\">\n",
              "        \n",
              "  <svg xmlns=\"https://urldefense.com/v3/__http://www.w3.org/2000/svg*5C__;JQ!!Nmw4Hv0!wCA2Ov1G9trU5SVf2SPnxQEK7WNP52Y2sE6ITvCnnzBUO5rzPtdzfbt-l2AKbSCM8E_x5YXCf3Qo0WngDLw_II7j-Qh2-p3dabER7A$ " height=\"24px\"viewBox=\"0 0 24 24\"\n",
              "       width=\"24px\">\n",
              "    <path d=\"M0 0h24v24H0V0z\" fill=\"none\"/>\n",
              "    <path d=\"M18.56 5.44l.94 2.06.94-2.06 2.06-.94-2.06-.94-.94-2.06-.94 2.06-2.06.94zm-11 1L8.5 8.5l.94-2.06 2.06-.94-2.06-.94L8.5 2.5l-.94 2.06-2.06.94zm10 10l.94 2.06.94-2.06 2.06-.94-2.06-.94-.94-2.06-.94 2.06-2.06.94z\"/><path d=\"M17.41 7.96l-1.37-1.37c-.4-.4-.92-.59-1.43-.59-.52 0-1.04.2-1.43.59L10.3 9.45l-7.72 7.72c-.78.78-.78 2.05 0 2.83L4 21.41c.39.39.9.59 1.41.59.51 0 1.02-.2 1.41-.59l7.78-7.78 2.81-2.81c.8-.78.8-2.07 0-2.86zM5.41 20L4 18.59l7.72-7.72 1.47 1.35L5.41 20z\"/>\n",
              "  </svg>\n",
              "      </button>\n",
              "      \n",
              "  <style>\n",
              "    .colab-df-container {\n",
              "      display:flex;\n",
              "      flex-wrap:wrap;\n",
              "      gap: 12px;\n",
              "    }\n",
              "\n",
              "    .colab-df-convert {\n",
              "      background-color: #E8F0FE;\n",
              "      border: none;\n",
              "      border-radius: 50%;\n",
              "      cursor: pointer;\n",
              "      display: none;\n",
              "      fill: #1967D2;\n",
              "      height: 32px;\n",
              "      padding: 0 0 0 0;\n",
              "      width: 32px;\n",
              "    }\n",
              "\n",
              "    .colab-df-convert:hover {\n",
              "      background-color: #E2EBFA;\n",
              "      box-shadow: 0px 1px 2px rgba(60, 64, 67, 0.3), 0px 1px 3px 1px rgba(60, 64, 67, 0.15);\n",
              "      fill: #174EA6;\n",
              "    }\n",
              "\n",
              "    [theme=dark] .colab-df-convert {\n",
              "      background-color: #3B4455;\n",
              "      fill: #D2E3FC;\n",
              "    }\n",
              "\n",
              "    [theme=dark] .colab-df-convert:hover {\n",
              "      background-color: #434B5C;\n",
              "      box-shadow: 0px 1px 3px 1px rgba(0, 0, 0, 0.15);\n",
              "      filter: drop-shadow(0px 1px 2px rgba(0, 0, 0, 0.3));\n",
              "      fill: #FFFFFF;\n",
              "    }\n",
              "  </style>\n",
              "\n",
              "      <script>\n",
              "        const buttonEl =\n",
              "          document.querySelector('#df-7949ee0e-3099-45e1-9257-61088cb0081f button.colab-df-convert');\n",
              "        buttonEl.style.display =\n",
              "          google.colab.kernel.accessAllowed ? 'block' : 'none';\n",
              "\n",
              "        async function convertToInteractive(key) {\n",
              "          const element = document.querySelector('#df-7949ee0e-3099-45e1-9257-61088cb0081f');\n",
              "          const dataTable =\n",
              "            await google.colab.kernel.invokeFunction('convertToInteractive',\n",
              "                                                     [key], {});\n",
              "          if (!dataTable) return;\n",
              "\n",
              "          const docLinkHtml = 'Like what you see? Visit the ' +\n",
              "            '<a target=\"_blank\" href=https://urldefense.com/v3/__https://colab.research.google.com/notebooks/data_table.ipynb__;!!Nmw4Hv0!wCA2Ov1G9trU5SVf2SPnxQEK7WNP52Y2sE6ITvCnnzBUO5rzPtdzfbt-l2AKbSCM8E_x5YXCf3Qo0WngDLw_II7j-Qh2-p0I1MGuPA$ >data table notebook</a>'\n",
              "            + ' to learn more about interactive tables.';\n",
              "          element.innerHTML = '';\n",
              "          dataTable['output_type'] = 'display_data';\n",
              "          await google.colab.output.renderOutput(dataTable, element);\n",
              "          const docLink = document.createElement('div');\n",
              "          docLink.innerHTML = docLinkHtml;\n",
              "          element.appendChild(docLink);\n",
              "        }\n",
              "      </script>\n",
              "    </div>\n",
              "  </div>\n",
              "  "
            ]
          },
          "metadata": {},
          "execution_count": 75
        }
      ]
    },
    {
      "cell_type": "markdown",
      "source": [
        "## Exercise:\n",
        "\n",
        "What are the top three most divisive genres?"
      ],
      "metadata": {
        "id": "kuLhgEJWnrKO"
      }
    },
    {
      "cell_type": "code",
      "source": [
        "(merged_data.loc[:, [\"genre\", \"rating\"]]\n",
        "            .groupby(\"genre\")\n",
        "            .std()\n",
        "            .sort_values(\"rating\", ascending=False)\n",
        "            .head(n=3))"
      ],
      "metadata": {
        "trusted": true,
        "id": "4eYX4cAFcjn8",
        "outputId": "e2f7d905-3f58-449a-c796-af0438b10169",
        "colab": {
          "base_uri": "https://urldefense.com/v3/__https://localhost:8080/__;!!Nmw4Hv0!wCA2Ov1G9trU5SVf2SPnxQEK7WNP52Y2sE6ITvCnnzBUO5rzPtdzfbt-l2AKbSCM8E_x5YXCf3Qo0WngDLw_II7j-Qh2-p3-vYROew$ ",
          "height": 175
        }
      },
      "execution_count": 78,
      "outputs": [
        {
          "output_type": "execute_result",
          "data": {
            "text/plain": [
              "              rating\n",
              "genre               \n",
              "Horror      1.225531\n",
              "Children's  1.160881\n",
              "Sci-Fi      1.157239"
            ],
            "text/html": [
              "\n",
              "  <div id=\"df-337c5f5d-a8cf-4580-a751-4bf7ae02cfec\">\n",
              "    <div class=\"colab-df-container\">\n",
              "      <div>\n",
              "<style scoped>\n",
              "    .dataframe tbody tr th:only-of-type {\n",
              "        vertical-align: middle;\n",
              "    }\n",
              "\n",
              "    .dataframe tbody tr th {\n",
              "        vertical-align: top;\n",
              "    }\n",
              "\n",
              "    .dataframe thead th {\n",
              "        text-align: right;\n",
              "    }\n",
              "</style>\n",
              "<table border=\"1\" class=\"dataframe\">\n",
              "  <thead>\n",
              "    <tr style=\"text-align: right;\">\n",
              "      <th></th>\n",
              "      <th>rating</th>\n",
              "    </tr>\n",
              "    <tr>\n",
              "      <th>genre</th>\n",
              "      <th></th>\n",
              "    </tr>\n",
              "  </thead>\n",
              "  <tbody>\n",
              "    <tr>\n",
              "      <th>Horror</th>\n",
              "      <td>1.225531</td>\n",
              "    </tr>\n",
              "    <tr>\n",
              "      <th>Children's</th>\n",
              "      <td>1.160881</td>\n",
              "    </tr>\n",
              "    <tr>\n",
              "      <th>Sci-Fi</th>\n",
              "      <td>1.157239</td>\n",
              "    </tr>\n",
              "  </tbody>\n",
              "</table>\n",
              "</div>\n",
              "      <button class=\"colab-df-convert\" onclick=\"convertToInteractive('df-337c5f5d-a8cf-4580-a751-4bf7ae02cfec')\"\n",
              "              title=\"Convert this dataframe to an interactive table.\"\n",
              "              style=\"display:none;\">\n",
              "        \n",
              "  <svg xmlns=\"https://urldefense.com/v3/__http://www.w3.org/2000/svg*5C__;JQ!!Nmw4Hv0!wCA2Ov1G9trU5SVf2SPnxQEK7WNP52Y2sE6ITvCnnzBUO5rzPtdzfbt-l2AKbSCM8E_x5YXCf3Qo0WngDLw_II7j-Qh2-p3dabER7A$ " height=\"24px\"viewBox=\"0 0 24 24\"\n",
              "       width=\"24px\">\n",
              "    <path d=\"M0 0h24v24H0V0z\" fill=\"none\"/>\n",
              "    <path d=\"M18.56 5.44l.94 2.06.94-2.06 2.06-.94-2.06-.94-.94-2.06-.94 2.06-2.06.94zm-11 1L8.5 8.5l.94-2.06 2.06-.94-2.06-.94L8.5 2.5l-.94 2.06-2.06.94zm10 10l.94 2.06.94-2.06 2.06-.94-2.06-.94-.94-2.06-.94 2.06-2.06.94z\"/><path d=\"M17.41 7.96l-1.37-1.37c-.4-.4-.92-.59-1.43-.59-.52 0-1.04.2-1.43.59L10.3 9.45l-7.72 7.72c-.78.78-.78 2.05 0 2.83L4 21.41c.39.39.9.59 1.41.59.51 0 1.02-.2 1.41-.59l7.78-7.78 2.81-2.81c.8-.78.8-2.07 0-2.86zM5.41 20L4 18.59l7.72-7.72 1.47 1.35L5.41 20z\"/>\n",
              "  </svg>\n",
              "      </button>\n",
              "      \n",
              "  <style>\n",
              "    .colab-df-container {\n",
              "      display:flex;\n",
              "      flex-wrap:wrap;\n",
              "      gap: 12px;\n",
              "    }\n",
              "\n",
              "    .colab-df-convert {\n",
              "      background-color: #E8F0FE;\n",
              "      border: none;\n",
              "      border-radius: 50%;\n",
              "      cursor: pointer;\n",
              "      display: none;\n",
              "      fill: #1967D2;\n",
              "      height: 32px;\n",
              "      padding: 0 0 0 0;\n",
              "      width: 32px;\n",
              "    }\n",
              "\n",
              "    .colab-df-convert:hover {\n",
              "      background-color: #E2EBFA;\n",
              "      box-shadow: 0px 1px 2px rgba(60, 64, 67, 0.3), 0px 1px 3px 1px rgba(60, 64, 67, 0.15);\n",
              "      fill: #174EA6;\n",
              "    }\n",
              "\n",
              "    [theme=dark] .colab-df-convert {\n",
              "      background-color: #3B4455;\n",
              "      fill: #D2E3FC;\n",
              "    }\n",
              "\n",
              "    [theme=dark] .colab-df-convert:hover {\n",
              "      background-color: #434B5C;\n",
              "      box-shadow: 0px 1px 3px 1px rgba(0, 0, 0, 0.15);\n",
              "      filter: drop-shadow(0px 1px 2px rgba(0, 0, 0, 0.3));\n",
              "      fill: #FFFFFF;\n",
              "    }\n",
              "  </style>\n",
              "\n",
              "      <script>\n",
              "        const buttonEl =\n",
              "          document.querySelector('#df-337c5f5d-a8cf-4580-a751-4bf7ae02cfec button.colab-df-convert');\n",
              "        buttonEl.style.display =\n",
              "          google.colab.kernel.accessAllowed ? 'block' : 'none';\n",
              "\n",
              "        async function convertToInteractive(key) {\n",
              "          const element = document.querySelector('#df-337c5f5d-a8cf-4580-a751-4bf7ae02cfec');\n",
              "          const dataTable =\n",
              "            await google.colab.kernel.invokeFunction('convertToInteractive',\n",
              "                                                     [key], {});\n",
              "          if (!dataTable) return;\n",
              "\n",
              "          const docLinkHtml = 'Like what you see? Visit the ' +\n",
              "            '<a target=\"_blank\" href=https://urldefense.com/v3/__https://colab.research.google.com/notebooks/data_table.ipynb__;!!Nmw4Hv0!wCA2Ov1G9trU5SVf2SPnxQEK7WNP52Y2sE6ITvCnnzBUO5rzPtdzfbt-l2AKbSCM8E_x5YXCf3Qo0WngDLw_II7j-Qh2-p0I1MGuPA$ >data table notebook</a>'\n",
              "            + ' to learn more about interactive tables.';\n",
              "          element.innerHTML = '';\n",
              "          dataTable['output_type'] = 'display_data';\n",
              "          await google.colab.output.renderOutput(dataTable, element);\n",
              "          const docLink = document.createElement('div');\n",
              "          docLink.innerHTML = docLinkHtml;\n",
              "          element.appendChild(docLink);\n",
              "        }\n",
              "      </script>\n",
              "    </div>\n",
              "  </div>\n",
              "  "
            ]
          },
          "metadata": {},
          "execution_count": 78
        }
      ]
    },
    {
      "cell_type": "markdown",
      "source": [
        "# What questions about the combined data interest you?\n",
        "\n",
        "Come to me with questions and I will answer them for the group!"
      ],
      "metadata": {
        "id": "Z8kMa4Jtf8ZZ"
      }
    },
    {
      "cell_type": "code",
      "source": [
        "#occupation_genre = merged_data.groupby(['occupation', 'genre']).mean()['rating']\n",
        "\n",
        "# Print the results\n",
        "#occupation_genre[17]"
      ],
      "metadata": {
        "id": "vB1yofEFkXdC",
        "outputId": "fc9c32e9-2179-4e9f-8652-bad5c4c475db",
        "colab": {
          "base_uri": "https://urldefense.com/v3/__https://localhost:8080/__;!!Nmw4Hv0!wCA2Ov1G9trU5SVf2SPnxQEK7WNP52Y2sE6ITvCnnzBUO5rzPtdzfbt-l2AKbSCM8E_x5YXCf3Qo0WngDLw_II7j-Qh2-p3-vYROew$ "
        }
      },
      "execution_count": 89,
      "outputs": [
        {
          "output_type": "execute_result",
          "data": {
            "text/plain": [
              "genre\n",
              "Action         3.567827\n",
              "Adventure      3.560600\n",
              "Animation      3.734375\n",
              "Children's     3.481277\n",
              "Comedy         3.581290\n",
              "Crime          3.713289\n",
              "Documentary    4.024129\n",
              "Drama          3.800158\n",
              "Fantasy        3.528097\n",
              "Film-Noir      4.050861\n",
              "Horror         3.208789\n",
              "Musical        3.659684\n",
              "Mystery        3.668352\n",
              "Romance        3.662824\n",
              "Sci-Fi         3.529858\n",
              "Thriller       3.624165\n",
              "War            3.939708\n",
              "Western        3.662614\n",
              "Name: rating, dtype: float64"
            ]
          },
          "metadata": {},
          "execution_count": 89
        }
      ]
    },
    {
      "cell_type": "code",
      "source": [],
      "metadata": {
        "id": "XcfWU8Y15wKF"
      },
      "execution_count": null,
      "outputs": []
    }
  ]
}
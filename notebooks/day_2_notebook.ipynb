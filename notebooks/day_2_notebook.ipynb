{
  "nbformat": 4,
  "nbformat_minor": 0,
  "metadata": {
    "colab": {
      "provenance": []
    },
    "kernelspec": {
      "name": "python3",
      "display_name": "Python 3"
    },
    "language_info": {
      "name": "python"
    }
  },
  "cells": [
    {
      "cell_type": "code",
      "execution_count": null,
      "metadata": {
        "id": "T2CfUQupy3VK"
      },
      "outputs": [],
      "source": []
    },
    {
      "cell_type": "markdown",
      "source": [
        "# Built-in Data Structures, Functions, and Files"
      ],
      "metadata": {
        "id": "bKyc0mCDy-Er"
      }
    },
    {
      "cell_type": "code",
      "source": [],
      "metadata": {
        "id": "woOzDcCwzBrB"
      },
      "execution_count": null,
      "outputs": []
    },
    {
      "cell_type": "markdown",
      "source": [
        "## Data Structures and Sequences"
      ],
      "metadata": {
        "id": "oGjRNAnfzCt_"
      }
    },
    {
      "cell_type": "code",
      "source": [],
      "metadata": {
        "id": "Bn4JChQGzFbs"
      },
      "execution_count": null,
      "outputs": []
    },
    {
      "cell_type": "markdown",
      "source": [
        "### Tuples"
      ],
      "metadata": {
        "id": "okoIfLavzF4v"
      }
    },
    {
      "cell_type": "code",
      "source": [
        "t = (1, 2, 3, 4, 5)"
      ],
      "metadata": {
        "id": "yLMqqrXwzHZ5"
      },
      "execution_count": 1,
      "outputs": []
    },
    {
      "cell_type": "code",
      "source": [
        "print(t)"
      ],
      "metadata": {
        "colab": {
          "base_uri": "https://localhost:8080/"
        },
        "id": "r0wvkwO1zTlQ",
        "outputId": "0a99bbd7-4a19-4bc3-9dce-0c7ba9e749de"
      },
      "execution_count": 2,
      "outputs": [
        {
          "output_type": "stream",
          "name": "stdout",
          "text": [
            "(1, 2, 3, 4, 5)\n"
          ]
        }
      ]
    },
    {
      "cell_type": "code",
      "source": [
        "t1 = tuple([2, 3, 4, 5])"
      ],
      "metadata": {
        "id": "1oSxyjKszTnW"
      },
      "execution_count": 3,
      "outputs": []
    },
    {
      "cell_type": "code",
      "source": [
        "print(t1)"
      ],
      "metadata": {
        "colab": {
          "base_uri": "https://localhost:8080/"
        },
        "id": "RsGECezgzTpQ",
        "outputId": "16e2231e-ef1b-4983-e2b9-2d29f0175ad7"
      },
      "execution_count": 4,
      "outputs": [
        {
          "output_type": "stream",
          "name": "stdout",
          "text": [
            "(2, 3, 4, 5)\n"
          ]
        }
      ]
    },
    {
      "cell_type": "code",
      "source": [
        "t2 = tuple(\"David R. Pugh\")"
      ],
      "metadata": {
        "id": "-jBjpq9mzTrI"
      },
      "execution_count": 5,
      "outputs": []
    },
    {
      "cell_type": "code",
      "source": [
        "print(t2)"
      ],
      "metadata": {
        "colab": {
          "base_uri": "https://localhost:8080/"
        },
        "id": "xnpWZKfVzzJn",
        "outputId": "be02ed70-4967-47dc-bf91-432e3abb0554"
      },
      "execution_count": 6,
      "outputs": [
        {
          "output_type": "stream",
          "name": "stdout",
          "text": [
            "('D', 'a', 'v', 'i', 'd', ' ', 'R', '.', ' ', 'P', 'u', 'g', 'h')\n"
          ]
        }
      ]
    },
    {
      "cell_type": "code",
      "source": [
        "t2[0]"
      ],
      "metadata": {
        "colab": {
          "base_uri": "https://localhost:8080/",
          "height": 56
        },
        "id": "_upL8NRVzzMD",
        "outputId": "b0abe452-8334-4a76-f45b-d155f3b1ef8b"
      },
      "execution_count": 7,
      "outputs": [
        {
          "output_type": "execute_result",
          "data": {
            "text/plain": [
              "'D'"
            ],
            "application/vnd.google.colaboratory.intrinsic+json": {
              "type": "string"
            }
          },
          "metadata": {},
          "execution_count": 7
        }
      ]
    },
    {
      "cell_type": "code",
      "source": [
        "t2[0] = 'F'"
      ],
      "metadata": {
        "colab": {
          "base_uri": "https://localhost:8080/",
          "height": 188
        },
        "id": "d-x2pLCBzzOE",
        "outputId": "0789f469-ccc5-4cce-c785-89e4587de1ec"
      },
      "execution_count": 8,
      "outputs": [
        {
          "output_type": "error",
          "ename": "TypeError",
          "evalue": "ignored",
          "traceback": [
            "\u001b[0;31m---------------------------------------------------------------------------\u001b[0m",
            "\u001b[0;31mTypeError\u001b[0m                                 Traceback (most recent call last)",
            "\u001b[0;32m<ipython-input-8-521dabf4e7b1>\u001b[0m in \u001b[0;36m<cell line: 1>\u001b[0;34m()\u001b[0m\n\u001b[0;32m----> 1\u001b[0;31m \u001b[0mt2\u001b[0m\u001b[0;34m[\u001b[0m\u001b[0;36m0\u001b[0m\u001b[0;34m]\u001b[0m \u001b[0;34m=\u001b[0m \u001b[0;34m'F'\u001b[0m\u001b[0;34m\u001b[0m\u001b[0;34m\u001b[0m\u001b[0m\n\u001b[0m",
            "\u001b[0;31mTypeError\u001b[0m: 'tuple' object does not support item assignment"
          ]
        }
      ]
    },
    {
      "cell_type": "code",
      "source": [
        "index = 3\n",
        "batch = [2.3, 4.5, 6, 7.5, 42]\n",
        "t3 = (index, batch)"
      ],
      "metadata": {
        "id": "xfvSeyhrzzP9"
      },
      "execution_count": 9,
      "outputs": []
    },
    {
      "cell_type": "code",
      "source": [
        "i, minibatch = t3"
      ],
      "metadata": {
        "id": "PbuAH7vazzR-"
      },
      "execution_count": 10,
      "outputs": []
    },
    {
      "cell_type": "code",
      "source": [
        "print(i, minibatch)"
      ],
      "metadata": {
        "colab": {
          "base_uri": "https://localhost:8080/"
        },
        "id": "OH_-mCfFzzT3",
        "outputId": "d890130a-aa6f-4be2-f6fc-56a53c372cce"
      },
      "execution_count": 11,
      "outputs": [
        {
          "output_type": "stream",
          "name": "stdout",
          "text": [
            "3 [2.3, 4.5, 6, 7.5, 42]\n"
          ]
        }
      ]
    },
    {
      "cell_type": "code",
      "source": [
        "sequence = [(-1, 0, 1), (1, 1, 1), (2, 3, 4)]\n",
        "\n",
        "for x0, x1, x2 in sequence:\n",
        "    print(f\"x0={x0}, x1={x1}, x2={x2}\")"
      ],
      "metadata": {
        "colab": {
          "base_uri": "https://localhost:8080/"
        },
        "id": "KCvo1O1H0m0P",
        "outputId": "1c565df8-0a26-4aa1-9a35-0ee8fed72fc8"
      },
      "execution_count": 12,
      "outputs": [
        {
          "output_type": "stream",
          "name": "stdout",
          "text": [
            "x0=-1, x1=0, x2=1\n",
            "x0=1, x1=1, x2=1\n",
            "x0=2, x1=3, x2=4\n"
          ]
        }
      ]
    },
    {
      "cell_type": "code",
      "source": [
        "t"
      ],
      "metadata": {
        "colab": {
          "base_uri": "https://localhost:8080/"
        },
        "id": "t9PbMC9l0m2E",
        "outputId": "e856e4f4-466b-49dc-f9b8-44c69a32e7f2"
      },
      "execution_count": 13,
      "outputs": [
        {
          "output_type": "execute_result",
          "data": {
            "text/plain": [
              "(1, 2, 3, 4, 5)"
            ]
          },
          "metadata": {},
          "execution_count": 13
        }
      ]
    },
    {
      "cell_type": "code",
      "source": [
        "t4 = (1,1,2,2,2,3,4,5,5,5,5)"
      ],
      "metadata": {
        "id": "Wprg-FZN0m4F"
      },
      "execution_count": 14,
      "outputs": []
    },
    {
      "cell_type": "code",
      "source": [
        "t4.count(5)"
      ],
      "metadata": {
        "colab": {
          "base_uri": "https://localhost:8080/"
        },
        "id": "phBOLYQu1M_b",
        "outputId": "2ce400f5-f74d-4201-cea3-57fb08b583e3"
      },
      "execution_count": 16,
      "outputs": [
        {
          "output_type": "execute_result",
          "data": {
            "text/plain": [
              "4"
            ]
          },
          "metadata": {},
          "execution_count": 16
        }
      ]
    },
    {
      "cell_type": "code",
      "source": [
        "t4.index(5)"
      ],
      "metadata": {
        "colab": {
          "base_uri": "https://localhost:8080/"
        },
        "id": "MnkU_hER1NBi",
        "outputId": "dec6137d-5a8a-4f34-9415-c4e429624d35"
      },
      "execution_count": 18,
      "outputs": [
        {
          "output_type": "execute_result",
          "data": {
            "text/plain": [
              "7"
            ]
          },
          "metadata": {},
          "execution_count": 18
        }
      ]
    },
    {
      "cell_type": "code",
      "source": [
        "import datetime\n",
        "\n",
        "# sale_date (datetime), location (str), number_rooms (int), sale_price (float), has_basement(boolean)\n",
        "r = (datetime.datetime(2023, 5, 15), \"Riyadh\", 15, 5.5, False)"
      ],
      "metadata": {
        "id": "7RaliAbX1NDj"
      },
      "execution_count": 20,
      "outputs": []
    },
    {
      "cell_type": "code",
      "source": [
        "r[1] = \"Jeddah\""
      ],
      "metadata": {
        "colab": {
          "base_uri": "https://localhost:8080/",
          "height": 188
        },
        "id": "ZZKLn-5K3Dpg",
        "outputId": "fd5a7213-b698-4c02-bc4a-748004761668"
      },
      "execution_count": 22,
      "outputs": [
        {
          "output_type": "error",
          "ename": "TypeError",
          "evalue": "ignored",
          "traceback": [
            "\u001b[0;31m---------------------------------------------------------------------------\u001b[0m",
            "\u001b[0;31mTypeError\u001b[0m                                 Traceback (most recent call last)",
            "\u001b[0;32m<ipython-input-22-c1d33a4bc56f>\u001b[0m in \u001b[0;36m<cell line: 1>\u001b[0;34m()\u001b[0m\n\u001b[0;32m----> 1\u001b[0;31m \u001b[0mr\u001b[0m\u001b[0;34m[\u001b[0m\u001b[0;36m1\u001b[0m\u001b[0;34m]\u001b[0m \u001b[0;34m=\u001b[0m \u001b[0;34m\"Jeddah\"\u001b[0m\u001b[0;34m\u001b[0m\u001b[0;34m\u001b[0m\u001b[0m\n\u001b[0m",
            "\u001b[0;31mTypeError\u001b[0m: 'tuple' object does not support item assignment"
          ]
        }
      ]
    },
    {
      "cell_type": "markdown",
      "source": [
        "### Exercise:\n",
        "\n",
        "Suppose that you have a traffic violations dataset with the following columns and types.\n",
        "\n",
        "| UserID (int) | violation_type (str) | fine (float) | location (float, float) | is_expat (bool) |\n",
        "|--------------|----------------------|--------------|----------------------|----------|\n",
        "\n",
        "Create a tuple to model a row of this dataset and fill it with data of the appropriate type."
      ],
      "metadata": {
        "id": "UvFtoDkZ37rX"
      }
    },
    {
      "cell_type": "code",
      "source": [
        "row = (123456789, \"speeding\", 1.0, (24.7, 46.8), True)"
      ],
      "metadata": {
        "id": "w10UdLjT3Drm"
      },
      "execution_count": 23,
      "outputs": []
    },
    {
      "cell_type": "markdown",
      "source": [
        "### Lists"
      ],
      "metadata": {
        "id": "Jo3RMp53zHwD"
      }
    },
    {
      "cell_type": "code",
      "source": [
        "l = [2, 3.4, \"Bob\", True, None]"
      ],
      "metadata": {
        "id": "TcYXY1I4zIlW"
      },
      "execution_count": 24,
      "outputs": []
    },
    {
      "cell_type": "code",
      "source": [
        "row"
      ],
      "metadata": {
        "colab": {
          "base_uri": "https://localhost:8080/"
        },
        "id": "ydDahCvA7x2s",
        "outputId": "0e8912f5-611f-45fb-ac25-1a5795685450"
      },
      "execution_count": 25,
      "outputs": [
        {
          "output_type": "execute_result",
          "data": {
            "text/plain": [
              "(123456789, 'speeding', 1.0, (24.7, 46.8), True)"
            ]
          },
          "metadata": {},
          "execution_count": 25
        }
      ]
    },
    {
      "cell_type": "code",
      "source": [
        "as_list = list(row)\n",
        "as_list"
      ],
      "metadata": {
        "colab": {
          "base_uri": "https://localhost:8080/"
        },
        "id": "ozxTpLkm7x4r",
        "outputId": "3e1aed52-1e4d-47db-cbf6-e83bd8d185a1"
      },
      "execution_count": 26,
      "outputs": [
        {
          "output_type": "execute_result",
          "data": {
            "text/plain": [
              "[123456789, 'speeding', 1.0, (24.7, 46.8), True]"
            ]
          },
          "metadata": {},
          "execution_count": 26
        }
      ]
    },
    {
      "cell_type": "code",
      "source": [
        "as_list[1] = \"crossing red light\""
      ],
      "metadata": {
        "id": "jiDuI4RQ7x6i"
      },
      "execution_count": 27,
      "outputs": []
    },
    {
      "cell_type": "code",
      "source": [
        "as_list"
      ],
      "metadata": {
        "colab": {
          "base_uri": "https://localhost:8080/"
        },
        "id": "aznVCQBe7x8U",
        "outputId": "cb23310b-9f90-4ecd-c58d-d3a3fa73f02a"
      },
      "execution_count": 28,
      "outputs": [
        {
          "output_type": "execute_result",
          "data": {
            "text/plain": [
              "[123456789, 'crossing red light', 1.0, (24.7, 46.8), True]"
            ]
          },
          "metadata": {},
          "execution_count": 28
        }
      ]
    },
    {
      "cell_type": "code",
      "source": [
        "row"
      ],
      "metadata": {
        "colab": {
          "base_uri": "https://localhost:8080/"
        },
        "id": "NwhUsw9z7x-N",
        "outputId": "83c44d3b-1f61-46db-ffa8-04b136d3b9f5"
      },
      "execution_count": 29,
      "outputs": [
        {
          "output_type": "execute_result",
          "data": {
            "text/plain": [
              "(123456789, 'speeding', 1.0, (24.7, 46.8), True)"
            ]
          },
          "metadata": {},
          "execution_count": 29
        }
      ]
    },
    {
      "cell_type": "code",
      "source": [
        "l"
      ],
      "metadata": {
        "colab": {
          "base_uri": "https://localhost:8080/"
        },
        "id": "MetuTiwb8Rsx",
        "outputId": "1bd3ba9d-b2fd-4644-c865-bc7cbea44942"
      },
      "execution_count": 30,
      "outputs": [
        {
          "output_type": "execute_result",
          "data": {
            "text/plain": [
              "[2, 3.4, 'Bob', True, None]"
            ]
          },
          "metadata": {},
          "execution_count": 30
        }
      ]
    },
    {
      "cell_type": "code",
      "source": [
        "l.append(23.4)"
      ],
      "metadata": {
        "id": "ygQ1CenW8Ruw"
      },
      "execution_count": 31,
      "outputs": []
    },
    {
      "cell_type": "code",
      "source": [
        "l"
      ],
      "metadata": {
        "colab": {
          "base_uri": "https://localhost:8080/"
        },
        "id": "-MKXJs2u8Rwp",
        "outputId": "d0280098-898c-4ed5-f3d5-c6cb5bcb2141"
      },
      "execution_count": 32,
      "outputs": [
        {
          "output_type": "execute_result",
          "data": {
            "text/plain": [
              "[2, 3.4, 'Bob', True, None, 23.4]"
            ]
          },
          "metadata": {},
          "execution_count": 32
        }
      ]
    },
    {
      "cell_type": "code",
      "source": [
        "l.insert(2, 42)"
      ],
      "metadata": {
        "id": "-bFnWJQD8Ryr"
      },
      "execution_count": 33,
      "outputs": []
    },
    {
      "cell_type": "code",
      "source": [
        "l"
      ],
      "metadata": {
        "colab": {
          "base_uri": "https://localhost:8080/"
        },
        "id": "4WQCwAzJ8gQN",
        "outputId": "39176e0e-c15b-4a0b-ecdc-e6a8486bb118"
      },
      "execution_count": 34,
      "outputs": [
        {
          "output_type": "execute_result",
          "data": {
            "text/plain": [
              "[2, 3.4, 42, 'Bob', True, None, 23.4]"
            ]
          },
          "metadata": {},
          "execution_count": 34
        }
      ]
    },
    {
      "cell_type": "code",
      "source": [
        "l.remove(\"Bob\")"
      ],
      "metadata": {
        "id": "ARXcfolo8gSG"
      },
      "execution_count": 35,
      "outputs": []
    },
    {
      "cell_type": "code",
      "source": [
        "l"
      ],
      "metadata": {
        "colab": {
          "base_uri": "https://localhost:8080/"
        },
        "id": "WHqf0W2z8gUI",
        "outputId": "58a14d63-7530-4bf1-bea8-e8692d017ebf"
      },
      "execution_count": 36,
      "outputs": [
        {
          "output_type": "execute_result",
          "data": {
            "text/plain": [
              "[2, 3.4, 42, True, None, 23.4]"
            ]
          },
          "metadata": {},
          "execution_count": 36
        }
      ]
    },
    {
      "cell_type": "code",
      "source": [
        "popped_value = l.pop(2)"
      ],
      "metadata": {
        "id": "NgeLkDW68gWR"
      },
      "execution_count": 37,
      "outputs": []
    },
    {
      "cell_type": "code",
      "source": [
        "l"
      ],
      "metadata": {
        "colab": {
          "base_uri": "https://localhost:8080/"
        },
        "id": "wWlXMFYC81J-",
        "outputId": "7d78dc24-7911-4e42-b177-1f9ba0d4841b"
      },
      "execution_count": 38,
      "outputs": [
        {
          "output_type": "execute_result",
          "data": {
            "text/plain": [
              "[2, 3.4, True, None, 23.4]"
            ]
          },
          "metadata": {},
          "execution_count": 38
        }
      ]
    },
    {
      "cell_type": "code",
      "source": [
        "popped_value"
      ],
      "metadata": {
        "colab": {
          "base_uri": "https://localhost:8080/"
        },
        "id": "aknHKrYB81MO",
        "outputId": "f7a8f1a2-29f9-4dea-bb39-10689852c55d"
      },
      "execution_count": 39,
      "outputs": [
        {
          "output_type": "execute_result",
          "data": {
            "text/plain": [
              "42"
            ]
          },
          "metadata": {},
          "execution_count": 39
        }
      ]
    },
    {
      "cell_type": "code",
      "source": [
        "l1 = [1, 2, 3, 4, 5]\n",
        "l2 = [-1, -2, -3, -4, -5]\n",
        "\n",
        "l3 = l1 + l2"
      ],
      "metadata": {
        "id": "tc6m0Ou281OM"
      },
      "execution_count": 40,
      "outputs": []
    },
    {
      "cell_type": "code",
      "source": [
        "l3"
      ],
      "metadata": {
        "colab": {
          "base_uri": "https://localhost:8080/"
        },
        "id": "1poeYpom9JYU",
        "outputId": "bbb12e97-eb6c-4f88-8cb5-27a5dc9cdf3a"
      },
      "execution_count": 41,
      "outputs": [
        {
          "output_type": "execute_result",
          "data": {
            "text/plain": [
              "[1, 2, 3, 4, 5, -1, -2, -3, -4, -5]"
            ]
          },
          "metadata": {},
          "execution_count": 41
        }
      ]
    },
    {
      "cell_type": "code",
      "source": [
        "l1"
      ],
      "metadata": {
        "colab": {
          "base_uri": "https://localhost:8080/"
        },
        "id": "SIDZdqRO9Jab",
        "outputId": "96b8fbe0-1070-4dfb-8cee-5cf4aab4e9d2"
      },
      "execution_count": 42,
      "outputs": [
        {
          "output_type": "execute_result",
          "data": {
            "text/plain": [
              "[1, 2, 3, 4, 5]"
            ]
          },
          "metadata": {},
          "execution_count": 42
        }
      ]
    },
    {
      "cell_type": "code",
      "source": [
        "l2"
      ],
      "metadata": {
        "colab": {
          "base_uri": "https://localhost:8080/"
        },
        "id": "ik9Odiqb9Jcc",
        "outputId": "d5f1b121-dfae-4930-8ac7-ddf3417917d7"
      },
      "execution_count": 43,
      "outputs": [
        {
          "output_type": "execute_result",
          "data": {
            "text/plain": [
              "[-1, -2, -3, -4, -5]"
            ]
          },
          "metadata": {},
          "execution_count": 43
        }
      ]
    },
    {
      "cell_type": "code",
      "source": [
        "l1.extend(l2)"
      ],
      "metadata": {
        "id": "UZ6yHc739Jea"
      },
      "execution_count": 44,
      "outputs": []
    },
    {
      "cell_type": "code",
      "source": [
        "l1"
      ],
      "metadata": {
        "colab": {
          "base_uri": "https://localhost:8080/"
        },
        "id": "nRr289oS9Z5B",
        "outputId": "13d3d87c-980e-4b03-9804-fcdc3d5cd28b"
      },
      "execution_count": 45,
      "outputs": [
        {
          "output_type": "execute_result",
          "data": {
            "text/plain": [
              "[1, 2, 3, 4, 5, -1, -2, -3, -4, -5]"
            ]
          },
          "metadata": {},
          "execution_count": 45
        }
      ]
    },
    {
      "cell_type": "code",
      "source": [
        "l1.sort()"
      ],
      "metadata": {
        "id": "SvZgKAI_9Z9G"
      },
      "execution_count": 46,
      "outputs": []
    },
    {
      "cell_type": "code",
      "source": [
        "l1"
      ],
      "metadata": {
        "colab": {
          "base_uri": "https://localhost:8080/"
        },
        "id": "87m-wCcl9Z_L",
        "outputId": "ff5a6901-f14d-45bc-989b-82f54b89b49f"
      },
      "execution_count": 47,
      "outputs": [
        {
          "output_type": "execute_result",
          "data": {
            "text/plain": [
              "[-5, -4, -3, -2, -1, 1, 2, 3, 4, 5]"
            ]
          },
          "metadata": {},
          "execution_count": 47
        }
      ]
    },
    {
      "cell_type": "code",
      "source": [
        "names = [\"ahmed\", \"abdullah\", \"yasmeen\", \"fahd\", \"sara\"]"
      ],
      "metadata": {
        "id": "0v_3ZwtI9pQs"
      },
      "execution_count": 48,
      "outputs": []
    },
    {
      "cell_type": "code",
      "source": [
        "sorted(names)"
      ],
      "metadata": {
        "colab": {
          "base_uri": "https://localhost:8080/"
        },
        "id": "7SuMTnq89pSi",
        "outputId": "37de2cd8-46c1-4bf7-a5b5-adfaa3fab0da"
      },
      "execution_count": 49,
      "outputs": [
        {
          "output_type": "execute_result",
          "data": {
            "text/plain": [
              "['abdullah', 'ahmed', 'fahd', 'sara', 'yasmeen']"
            ]
          },
          "metadata": {},
          "execution_count": 49
        }
      ]
    },
    {
      "cell_type": "code",
      "source": [
        "names.sort()"
      ],
      "metadata": {
        "id": "IUW2nipw9pUi"
      },
      "execution_count": 50,
      "outputs": []
    },
    {
      "cell_type": "code",
      "source": [
        "names"
      ],
      "metadata": {
        "colab": {
          "base_uri": "https://localhost:8080/"
        },
        "id": "5H_DIRbO93aQ",
        "outputId": "ae7f8200-e777-431d-b56c-3ff5a7738d01"
      },
      "execution_count": 51,
      "outputs": [
        {
          "output_type": "execute_result",
          "data": {
            "text/plain": [
              "['abdullah', 'ahmed', 'fahd', 'sara', 'yasmeen']"
            ]
          },
          "metadata": {},
          "execution_count": 51
        }
      ]
    },
    {
      "cell_type": "code",
      "source": [
        "names[1:4]"
      ],
      "metadata": {
        "colab": {
          "base_uri": "https://localhost:8080/"
        },
        "id": "5mQX3bR893cV",
        "outputId": "564ffbcf-7c10-4c95-eef1-63321cebedef"
      },
      "execution_count": 54,
      "outputs": [
        {
          "output_type": "execute_result",
          "data": {
            "text/plain": [
              "['ahmed', 'fahd', 'sara']"
            ]
          },
          "metadata": {},
          "execution_count": 54
        }
      ]
    },
    {
      "cell_type": "code",
      "source": [
        "names[-1]"
      ],
      "metadata": {
        "colab": {
          "base_uri": "https://localhost:8080/",
          "height": 56
        },
        "id": "AHGPGgq-93eX",
        "outputId": "ceafe71f-24ce-4d71-a96a-6124d8a5906d"
      },
      "execution_count": 55,
      "outputs": [
        {
          "output_type": "execute_result",
          "data": {
            "text/plain": [
              "'yasmeen'"
            ],
            "application/vnd.google.colaboratory.intrinsic+json": {
              "type": "string"
            }
          },
          "metadata": {},
          "execution_count": 55
        }
      ]
    },
    {
      "cell_type": "code",
      "source": [
        "names[-4:-1]"
      ],
      "metadata": {
        "colab": {
          "base_uri": "https://localhost:8080/"
        },
        "id": "nknOQwRS-Z9b",
        "outputId": "fc5cf939-1cb3-4a4a-d868-b948578e016c"
      },
      "execution_count": 56,
      "outputs": [
        {
          "output_type": "execute_result",
          "data": {
            "text/plain": [
              "['ahmed', 'fahd', 'sara']"
            ]
          },
          "metadata": {},
          "execution_count": 56
        }
      ]
    },
    {
      "cell_type": "code",
      "source": [
        "l4 = [1,2,3,4,5,6]\n",
        "l5 = l4.copy()"
      ],
      "metadata": {
        "id": "6XEUG800Acro"
      },
      "execution_count": 58,
      "outputs": []
    },
    {
      "cell_type": "code",
      "source": [
        "l4.append(42)"
      ],
      "metadata": {
        "id": "C6hwmK2oAcuG"
      },
      "execution_count": 59,
      "outputs": []
    },
    {
      "cell_type": "code",
      "source": [
        "l4"
      ],
      "metadata": {
        "colab": {
          "base_uri": "https://localhost:8080/"
        },
        "id": "8GOo9g93ArvU",
        "outputId": "e87926ce-af7f-445f-dd6d-e2c2c51f03a5"
      },
      "execution_count": 60,
      "outputs": [
        {
          "output_type": "execute_result",
          "data": {
            "text/plain": [
              "[1, 2, 3, 4, 5, 6, 42]"
            ]
          },
          "metadata": {},
          "execution_count": 60
        }
      ]
    },
    {
      "cell_type": "code",
      "source": [
        "l5.insert(3, 42)"
      ],
      "metadata": {
        "id": "jXUJPIInAcwa"
      },
      "execution_count": 61,
      "outputs": []
    },
    {
      "cell_type": "code",
      "source": [
        "l5"
      ],
      "metadata": {
        "colab": {
          "base_uri": "https://localhost:8080/"
        },
        "id": "0AFbjVnZAyze",
        "outputId": "baa0be32-3ca7-4732-959d-aee4ec853ad5"
      },
      "execution_count": 62,
      "outputs": [
        {
          "output_type": "execute_result",
          "data": {
            "text/plain": [
              "[1, 2, 3, 42, 4, 5, 6]"
            ]
          },
          "metadata": {},
          "execution_count": 62
        }
      ]
    },
    {
      "cell_type": "markdown",
      "source": [
        "### Exercise:\n",
        "\n",
        "Suppose that you have a traffic violations dataset with the following columns and types.\n",
        "\n",
        "| UserID (int) | violation_type (str) | fine (float) | location (float, float) | is_expat (bool) |\n",
        "|--------------|----------------------|--------------|----------------------|----------|\n",
        "\n",
        "\n",
        "Questions:\n",
        "\n",
        "1. Create a list to model a row of this dataset and fill it with data of the appropriate type.\n",
        "\n",
        "2. Suppose that the location data is incorrect. Modify the location data with new lat, long coordinates.\n",
        "\n",
        "3. For privacy reasons we no longer need to store data on whether someone is and expat or not. Remove the data associated with `is_expat` from your list.\n",
        "\n",
        "4. We now need to add a colum to store the type of vehicle (str) involved in the violation. Insert a value for `vehicle_type` between your values for `violation_type` and `fine`."
      ],
      "metadata": {
        "id": "Us9oICEB-1OO"
      }
    },
    {
      "cell_type": "code",
      "source": [
        "row = [987654321, \"speeding\", 2.5, (24.7, 46.8), True]"
      ],
      "metadata": {
        "id": "7RHNQ4FC-Z_i"
      },
      "execution_count": 79,
      "outputs": []
    },
    {
      "cell_type": "code",
      "source": [
        "row[3] = (21.5, 39.2)"
      ],
      "metadata": {
        "id": "pdzgwXgz-aBj"
      },
      "execution_count": 80,
      "outputs": []
    },
    {
      "cell_type": "code",
      "source": [
        "row"
      ],
      "metadata": {
        "colab": {
          "base_uri": "https://localhost:8080/"
        },
        "id": "NIb69B1x-aDY",
        "outputId": "8821dd33-24f6-4835-cc00-b03e28e9cc44"
      },
      "execution_count": 81,
      "outputs": [
        {
          "output_type": "execute_result",
          "data": {
            "text/plain": [
              "[987654321, 'speeding', 2.5, (21.5, 39.2), True]"
            ]
          },
          "metadata": {},
          "execution_count": 81
        }
      ]
    },
    {
      "cell_type": "code",
      "source": [
        "_ = row.pop(4)"
      ],
      "metadata": {
        "id": "Fbsoads6EOMd"
      },
      "execution_count": 82,
      "outputs": []
    },
    {
      "cell_type": "code",
      "source": [
        "row"
      ],
      "metadata": {
        "colab": {
          "base_uri": "https://localhost:8080/"
        },
        "id": "H5eVabtDEOPO",
        "outputId": "55cda65c-0e12-411f-e1f6-ec28c73aa915"
      },
      "execution_count": 83,
      "outputs": [
        {
          "output_type": "execute_result",
          "data": {
            "text/plain": [
              "[987654321, 'speeding', 2.5, (21.5, 39.2)]"
            ]
          },
          "metadata": {},
          "execution_count": 83
        }
      ]
    },
    {
      "cell_type": "code",
      "source": [
        "row.insert(2, \"truck\")"
      ],
      "metadata": {
        "id": "LLfqdAcAEOR1"
      },
      "execution_count": 84,
      "outputs": []
    },
    {
      "cell_type": "code",
      "source": [
        "dt = (datetime.datetime(2023, 5, 15, 9, 34)\n",
        "              .strftime(\"%Y-%m-%d %H:%M\"))\n",
        "row.insert(1, dt)"
      ],
      "metadata": {
        "id": "AmCO7GUcHVuc"
      },
      "execution_count": 85,
      "outputs": []
    },
    {
      "cell_type": "code",
      "source": [
        "row"
      ],
      "metadata": {
        "colab": {
          "base_uri": "https://localhost:8080/"
        },
        "id": "83d4df61HVxb",
        "outputId": "a99d2ce5-5708-474b-c5dc-3fcefe158681"
      },
      "execution_count": 78,
      "outputs": [
        {
          "output_type": "execute_result",
          "data": {
            "text/plain": [
              "[987654321,\n",
              " '2023-05-15 09:34',\n",
              " datetime.datetime(2023, 5, 15, 9, 34),\n",
              " 'speeding',\n",
              " 'truck',\n",
              " 2.5,\n",
              " (21.5, 39.2)]"
            ]
          },
          "metadata": {},
          "execution_count": 78
        }
      ]
    },
    {
      "cell_type": "code",
      "source": [],
      "metadata": {
        "id": "OpsgCtODHV0J"
      },
      "execution_count": null,
      "outputs": []
    },
    {
      "cell_type": "markdown",
      "source": [
        "### Dictionaries"
      ],
      "metadata": {
        "id": "w9V6beB_zI86"
      }
    },
    {
      "cell_type": "code",
      "source": [
        "d0 = {}"
      ],
      "metadata": {
        "id": "55gZ9I7qIZH9"
      },
      "execution_count": 86,
      "outputs": []
    },
    {
      "cell_type": "code",
      "source": [
        "d1 = {'a': 32, 'b': 55, 'c': None, 'd': 6}"
      ],
      "metadata": {
        "id": "-9tznG9SIZLF"
      },
      "execution_count": 87,
      "outputs": []
    },
    {
      "cell_type": "code",
      "source": [
        "row = {\n",
        "    \"user_id\": 12345678,\n",
        "    \"violation_type\": \"speeding\",\n",
        "    \"fine\": 3.5,\n",
        "    \"is_expat\": True,\n",
        "}"
      ],
      "metadata": {
        "id": "-T8AJdfrIZOQ"
      },
      "execution_count": 89,
      "outputs": []
    },
    {
      "cell_type": "code",
      "source": [
        "row"
      ],
      "metadata": {
        "colab": {
          "base_uri": "https://localhost:8080/"
        },
        "id": "yRMaqwpMIZRX",
        "outputId": "9835193f-ad23-4342-c860-3dff8d910134"
      },
      "execution_count": 90,
      "outputs": [
        {
          "output_type": "execute_result",
          "data": {
            "text/plain": [
              "{'user_id': 12345678,\n",
              " 'violation_type': 'speeding',\n",
              " 'fine': 3.5,\n",
              " 'is_expat': True}"
            ]
          },
          "metadata": {},
          "execution_count": 90
        }
      ]
    },
    {
      "cell_type": "code",
      "source": [
        "df = {\n",
        "    \"user_id\": [123456789, 987654321],\n",
        "    \"violation_type\": [\"speeding\", \"speeding\"],\n",
        "    \"fine\": [3.5, 2.5],\n",
        "    \"is_expat\": [True, False],\n",
        "}"
      ],
      "metadata": {
        "id": "z1SEt0Y6IZUi"
      },
      "execution_count": 91,
      "outputs": []
    },
    {
      "cell_type": "code",
      "source": [
        "df"
      ],
      "metadata": {
        "colab": {
          "base_uri": "https://localhost:8080/"
        },
        "id": "EvLPeg3hIZYD",
        "outputId": "35a36cbb-22c2-4976-a09e-96526776830c"
      },
      "execution_count": 92,
      "outputs": [
        {
          "output_type": "execute_result",
          "data": {
            "text/plain": [
              "{'user_id': [123456789, 987654321],\n",
              " 'violation_type': ['speeding', 'speeding'],\n",
              " 'fine': [3.5, 2.5],\n",
              " 'is_expat': [True, False]}"
            ]
          },
          "metadata": {},
          "execution_count": 92
        }
      ]
    },
    {
      "cell_type": "code",
      "source": [
        "df['fine']"
      ],
      "metadata": {
        "colab": {
          "base_uri": "https://localhost:8080/"
        },
        "id": "AGc6ct7cIZbU",
        "outputId": "775ff682-0c77-4bdb-8f1d-f21c8d634201"
      },
      "execution_count": 93,
      "outputs": [
        {
          "output_type": "execute_result",
          "data": {
            "text/plain": [
              "[3.5, 2.5]"
            ]
          },
          "metadata": {},
          "execution_count": 93
        }
      ]
    },
    {
      "cell_type": "code",
      "source": [
        "df['is_expat'] = [False, True]"
      ],
      "metadata": {
        "id": "Uj_OmumPIZfI"
      },
      "execution_count": 95,
      "outputs": []
    },
    {
      "cell_type": "code",
      "source": [
        "df"
      ],
      "metadata": {
        "colab": {
          "base_uri": "https://localhost:8080/"
        },
        "id": "loY2b7SJzKZZ",
        "outputId": "1dbbe4ee-79c2-43cd-e399-d652b4e40cba"
      },
      "execution_count": 96,
      "outputs": [
        {
          "output_type": "execute_result",
          "data": {
            "text/plain": [
              "{'user_id': [123456789, 987654321],\n",
              " 'violation_type': ['speeding', 'speeding'],\n",
              " 'fine': [3.5, 2.5],\n",
              " 'is_expat': [False, True]}"
            ]
          },
          "metadata": {},
          "execution_count": 96
        }
      ]
    },
    {
      "cell_type": "code",
      "source": [
        "df[\"is_expat\"][0] = True"
      ],
      "metadata": {
        "id": "NNGfKNoCLYbK"
      },
      "execution_count": 98,
      "outputs": []
    },
    {
      "cell_type": "code",
      "source": [
        "df"
      ],
      "metadata": {
        "colab": {
          "base_uri": "https://localhost:8080/"
        },
        "id": "en28L_8DLYeu",
        "outputId": "cad2adca-eeff-47e4-8d30-4e5edb307753"
      },
      "execution_count": 99,
      "outputs": [
        {
          "output_type": "execute_result",
          "data": {
            "text/plain": [
              "{'user_id': [123456789, 987654321],\n",
              " 'violation_type': ['speeding', 'speeding'],\n",
              " 'fine': [3.5, 2.5],\n",
              " 'is_expat': [True, True]}"
            ]
          },
          "metadata": {},
          "execution_count": 99
        }
      ]
    },
    {
      "cell_type": "code",
      "source": [
        "del df[\"is_expat\"]"
      ],
      "metadata": {
        "id": "eUMMTrWFLYiL"
      },
      "execution_count": 100,
      "outputs": []
    },
    {
      "cell_type": "code",
      "source": [
        "df"
      ],
      "metadata": {
        "colab": {
          "base_uri": "https://localhost:8080/"
        },
        "id": "RJSEcNllLnRD",
        "outputId": "31b863e2-d9e7-4f74-83c3-444c06c0d711"
      },
      "execution_count": 101,
      "outputs": [
        {
          "output_type": "execute_result",
          "data": {
            "text/plain": [
              "{'user_id': [123456789, 987654321],\n",
              " 'violation_type': ['speeding', 'speeding'],\n",
              " 'fine': [3.5, 2.5]}"
            ]
          },
          "metadata": {},
          "execution_count": 101
        }
      ]
    },
    {
      "cell_type": "code",
      "source": [
        "\"user_id\" in df"
      ],
      "metadata": {
        "colab": {
          "base_uri": "https://localhost:8080/"
        },
        "id": "tuCweZMNLnXi",
        "outputId": "6c9bf6d5-e80c-4476-88b0-6d2b46a9aa97"
      },
      "execution_count": 102,
      "outputs": [
        {
          "output_type": "execute_result",
          "data": {
            "text/plain": [
              "True"
            ]
          },
          "metadata": {},
          "execution_count": 102
        }
      ]
    },
    {
      "cell_type": "code",
      "source": [
        "\"is_expat\" in df"
      ],
      "metadata": {
        "colab": {
          "base_uri": "https://localhost:8080/"
        },
        "id": "ToryGIgILzH9",
        "outputId": "1fa4a461-1096-41ab-b650-503901509d11"
      },
      "execution_count": 104,
      "outputs": [
        {
          "output_type": "execute_result",
          "data": {
            "text/plain": [
              "False"
            ]
          },
          "metadata": {},
          "execution_count": 104
        }
      ]
    },
    {
      "cell_type": "code",
      "source": [
        "keys = list('abcdefghijklmnopqrstuvwxyz')\n",
        "values = range(0, 27)\n",
        "\n",
        "mapping = {}\n",
        "for key, value in zip(keys, values):\n",
        "    mapping[key] = value"
      ],
      "metadata": {
        "id": "Q4aY0nYeLzL0"
      },
      "execution_count": 105,
      "outputs": []
    },
    {
      "cell_type": "code",
      "source": [
        "mapping"
      ],
      "metadata": {
        "colab": {
          "base_uri": "https://localhost:8080/"
        },
        "id": "lE26Z2yXLzPh",
        "outputId": "38be7630-00e8-444a-a5e6-804fcbce78a2"
      },
      "execution_count": 106,
      "outputs": [
        {
          "output_type": "execute_result",
          "data": {
            "text/plain": [
              "{'a': 0,\n",
              " 'b': 1,\n",
              " 'c': 2,\n",
              " 'd': 3,\n",
              " 'e': 4,\n",
              " 'f': 5,\n",
              " 'g': 6,\n",
              " 'h': 7,\n",
              " 'i': 8,\n",
              " 'j': 9,\n",
              " 'k': 10,\n",
              " 'l': 11,\n",
              " 'm': 12,\n",
              " 'n': 13,\n",
              " 'o': 14,\n",
              " 'p': 15,\n",
              " 'q': 16,\n",
              " 'r': 17,\n",
              " 's': 18,\n",
              " 't': 19,\n",
              " 'u': 20,\n",
              " 'v': 21,\n",
              " 'w': 22,\n",
              " 'x': 23,\n",
              " 'y': 24,\n",
              " 'z': 25}"
            ]
          },
          "metadata": {},
          "execution_count": 106
        }
      ]
    },
    {
      "cell_type": "markdown",
      "source": [
        "### Exercise:\n",
        "\n",
        "Suppose that you have a traffic violations dataset with the following columns and types.\n",
        "\n",
        "| UserID (int) | violation_type (str) | fine (float) | location (float, float) | is_expat (bool) |\n",
        "|--------------|----------------------|--------------|----------------------|----------|\n",
        "\n",
        "Assume that the dataset has 5 rows and that some of the data is missing. For any missing values you can use the `None` value as a placeholder.\n",
        "\n",
        "Questions:\n",
        "\n",
        "1. Create a diciontary to model this dataset and fill it with data of the appropriate type.\n",
        "\n",
        "2. Suppose that the location data in the row with index 2 is incorrect. Modify the location data with new lat, long coordinates.\n",
        "\n",
        "3. For privacy reasons we no longer need to store data on whether someone is and expat or not. Remove the data associated with `is_expat` from your dictionary.\n",
        "\n",
        "4. We now need to add a column to store the type of vehicle (str) involved in the violation. Insert a new key for `vehicle_type` in your dictionary and add values of the correct type."
      ],
      "metadata": {
        "id": "HQZSjoRXNDYi"
      }
    },
    {
      "cell_type": "code",
      "source": [
        "df = {\n",
        "    \"user_id\": [1, 2, 3, 4, 5],\n",
        "    \"violation_type\": [\"speeding\", \"speeding\", \"cross red light\", None, \"seat belt\"],\n",
        "    \"fine\": [2.5, 5.0, None, 5.0, 1.5],\n",
        "    \"location\": [None, (24.7, 28.8), (22.3, 30.0), (29.0, 30.0), (22.5, 26.8)],\n",
        "    \"is_expat\": [True, False, None, True, True],\n",
        "}"
      ],
      "metadata": {
        "id": "NxJDWukMNC7W"
      },
      "execution_count": 111,
      "outputs": []
    },
    {
      "cell_type": "code",
      "source": [
        "df"
      ],
      "metadata": {
        "colab": {
          "base_uri": "https://localhost:8080/"
        },
        "id": "FeJ-KOR_VTwA",
        "outputId": "6f4cd200-723e-4747-b3c2-9191c683a526"
      },
      "execution_count": 112,
      "outputs": [
        {
          "output_type": "execute_result",
          "data": {
            "text/plain": [
              "{'user_id': [1, 2, 3, 4, 5],\n",
              " 'violation_type': ['speeding',\n",
              "  'speeding',\n",
              "  'cross red light',\n",
              "  None,\n",
              "  'seat belt'],\n",
              " 'fine': [2.5, 5.0, None, 5.0, 1.5],\n",
              " 'location': [None, (24.7, 28.8), (22.3, 30.0), (29.0, 30.0), (22.5, 26.8)],\n",
              " 'is_expat': [True, False, None, True, True]}"
            ]
          },
          "metadata": {},
          "execution_count": 112
        }
      ]
    },
    {
      "cell_type": "code",
      "source": [
        "df[\"location\"][2] = (24.2, 28.8)"
      ],
      "metadata": {
        "id": "cXddbv-QNC_I"
      },
      "execution_count": 113,
      "outputs": []
    },
    {
      "cell_type": "code",
      "source": [
        "df"
      ],
      "metadata": {
        "colab": {
          "base_uri": "https://localhost:8080/"
        },
        "id": "tK6LQXPFVV6z",
        "outputId": "46fe8dba-aaa2-40f9-94c4-e0793900344d"
      },
      "execution_count": 114,
      "outputs": [
        {
          "output_type": "execute_result",
          "data": {
            "text/plain": [
              "{'user_id': [1, 2, 3, 4, 5],\n",
              " 'violation_type': ['speeding',\n",
              "  'speeding',\n",
              "  'cross red light',\n",
              "  None,\n",
              "  'seat belt'],\n",
              " 'fine': [2.5, 5.0, None, 5.0, 1.5],\n",
              " 'location': [None, (24.7, 28.8), (24.2, 28.8), (29.0, 30.0), (22.5, 26.8)],\n",
              " 'is_expat': [True, False, None, True, True]}"
            ]
          },
          "metadata": {},
          "execution_count": 114
        }
      ]
    },
    {
      "cell_type": "code",
      "source": [
        "del df[\"is_expat\"]"
      ],
      "metadata": {
        "id": "vPFVRWYsVWPm"
      },
      "execution_count": 115,
      "outputs": []
    },
    {
      "cell_type": "code",
      "source": [
        "df"
      ],
      "metadata": {
        "colab": {
          "base_uri": "https://localhost:8080/"
        },
        "id": "KPQCYZiAVWWH",
        "outputId": "01a4d916-f8fb-41f1-b41c-1d535d61b288"
      },
      "execution_count": 116,
      "outputs": [
        {
          "output_type": "execute_result",
          "data": {
            "text/plain": [
              "{'user_id': [1, 2, 3, 4, 5],\n",
              " 'violation_type': ['speeding',\n",
              "  'speeding',\n",
              "  'cross red light',\n",
              "  None,\n",
              "  'seat belt'],\n",
              " 'fine': [2.5, 5.0, None, 5.0, 1.5],\n",
              " 'location': [None, (24.7, 28.8), (24.2, 28.8), (29.0, 30.0), (22.5, 26.8)]}"
            ]
          },
          "metadata": {},
          "execution_count": 116
        }
      ]
    },
    {
      "cell_type": "code",
      "source": [
        "df[\"vehicle_type\"] = [\"car\", \"car\", \"truck\", None, \"tank\"]"
      ],
      "metadata": {
        "id": "6w6k04w4VWbs"
      },
      "execution_count": 117,
      "outputs": []
    },
    {
      "cell_type": "code",
      "source": [
        "df"
      ],
      "metadata": {
        "colab": {
          "base_uri": "https://localhost:8080/"
        },
        "id": "dqAfFWFnVmHO",
        "outputId": "ab4e894d-c4f1-4df8-fe3d-6e1627fb2d6e"
      },
      "execution_count": 118,
      "outputs": [
        {
          "output_type": "execute_result",
          "data": {
            "text/plain": [
              "{'user_id': [1, 2, 3, 4, 5],\n",
              " 'violation_type': ['speeding',\n",
              "  'speeding',\n",
              "  'cross red light',\n",
              "  None,\n",
              "  'seat belt'],\n",
              " 'fine': [2.5, 5.0, None, 5.0, 1.5],\n",
              " 'location': [None, (24.7, 28.8), (24.2, 28.8), (29.0, 30.0), (22.5, 26.8)],\n",
              " 'vehicle_type': ['car', 'car', 'truck', None, 'tank']}"
            ]
          },
          "metadata": {},
          "execution_count": 118
        }
      ]
    },
    {
      "cell_type": "markdown",
      "source": [
        "### Sets (optional)"
      ],
      "metadata": {
        "id": "BPiJzb81zK-8"
      }
    },
    {
      "cell_type": "code",
      "source": [],
      "metadata": {
        "id": "ESbLIeXTzMx5"
      },
      "execution_count": null,
      "outputs": []
    },
    {
      "cell_type": "markdown",
      "source": [
        "### Built-in Sequence Functions"
      ],
      "metadata": {
        "id": "z5l69ftVWT-0"
      }
    },
    {
      "cell_type": "code",
      "source": [
        "index = 0\n",
        "collection = [45, 50, 55, 60, 65, 70]\n",
        "for value in collection:\n",
        "    # so something with value but also its index in the collection\n",
        "    index = index + 1"
      ],
      "metadata": {
        "id": "IB0SZXunWYbc"
      },
      "execution_count": null,
      "outputs": []
    },
    {
      "cell_type": "code",
      "source": [
        "collection = [45, 50, 55, 60, 65, 70]\n",
        "\n",
        "for index, value in enumerate(collection):\n",
        "    print(f\"Index is {index}, value is {value}\")"
      ],
      "metadata": {
        "colab": {
          "base_uri": "https://localhost:8080/"
        },
        "id": "eb1kjsufWYhc",
        "outputId": "e4871f5f-fd4e-4141-beff-21cfe462d82a"
      },
      "execution_count": 119,
      "outputs": [
        {
          "output_type": "stream",
          "name": "stdout",
          "text": [
            "Index is 0, value is 45\n",
            "Index is 1, value is 50\n",
            "Index is 2, value is 55\n",
            "Index is 3, value is 60\n",
            "Index is 4, value is 65\n",
            "Index is 5, value is 70\n"
          ]
        }
      ]
    },
    {
      "cell_type": "code",
      "source": [
        "sorted_collection = sorted(collection, reverse=True)"
      ],
      "metadata": {
        "id": "EfiQ-r7ZWYnp"
      },
      "execution_count": 120,
      "outputs": []
    },
    {
      "cell_type": "code",
      "source": [
        "sorted_collection"
      ],
      "metadata": {
        "colab": {
          "base_uri": "https://localhost:8080/"
        },
        "id": "B04BCJ1bWYtt",
        "outputId": "f96fea14-ec0f-441b-d81e-bfd6662fab42"
      },
      "execution_count": 121,
      "outputs": [
        {
          "output_type": "execute_result",
          "data": {
            "text/plain": [
              "[70, 65, 60, 55, 50, 45]"
            ]
          },
          "metadata": {},
          "execution_count": 121
        }
      ]
    },
    {
      "cell_type": "code",
      "source": [
        "seq1 = [\"foo\", \"bar\", \"baz\"]\n",
        "seq2 = [\"one\", \"two\", \"three\"]\n",
        "\n",
        "zipped_list = list(zip(seq1, seq2))"
      ],
      "metadata": {
        "id": "qCKOqPeGXYHH"
      },
      "execution_count": 140,
      "outputs": []
    },
    {
      "cell_type": "code",
      "source": [
        "for v1, v2 in zipped_list:\n",
        "    print(v1, v2)"
      ],
      "metadata": {
        "colab": {
          "base_uri": "https://localhost:8080/"
        },
        "id": "LmJCqc90XYNN",
        "outputId": "6d550a85-1802-4e88-faf8-a4bfe098dd83"
      },
      "execution_count": 141,
      "outputs": [
        {
          "output_type": "stream",
          "name": "stdout",
          "text": [
            "foo one\n",
            "bar two\n",
            "baz three\n"
          ]
        }
      ]
    },
    {
      "cell_type": "markdown",
      "source": [
        "### Comprehensions"
      ],
      "metadata": {
        "id": "sZOLShDUzN-o"
      }
    },
    {
      "cell_type": "code",
      "source": [
        "result = []\n",
        "for value in collection:\n",
        "    if condition:\n",
        "        result.append(expr)\n",
        "\n"
      ],
      "metadata": {
        "id": "lvNDf-9kzQp_"
      },
      "execution_count": null,
      "outputs": []
    },
    {
      "cell_type": "code",
      "source": [
        "result = [expr for value in collection if condition]"
      ],
      "metadata": {
        "id": "5fvGpLtcY7wC"
      },
      "execution_count": null,
      "outputs": []
    },
    {
      "cell_type": "code",
      "source": [
        "strings = [\"a\", \"as\", \"bat\", \"car\", \"dove\", \"python\"]\n",
        "\n",
        "all_upper = [s.upper() for s in strings]"
      ],
      "metadata": {
        "id": "_9wcWn0LY72i"
      },
      "execution_count": 142,
      "outputs": []
    },
    {
      "cell_type": "code",
      "source": [
        "all_upper"
      ],
      "metadata": {
        "colab": {
          "base_uri": "https://localhost:8080/"
        },
        "id": "0cdzbgpgZO-m",
        "outputId": "18a805ea-dc8d-4f98-997d-a1c005932bd6"
      },
      "execution_count": 143,
      "outputs": [
        {
          "output_type": "execute_result",
          "data": {
            "text/plain": [
              "['A', 'AS', 'BAT', 'CAR', 'DOVE', 'PYTHON']"
            ]
          },
          "metadata": {},
          "execution_count": 143
        }
      ]
    },
    {
      "cell_type": "code",
      "source": [
        "some_upper = [s.upper() for s in strings if len(s) > 2]"
      ],
      "metadata": {
        "id": "Hirw6i2iZPvO"
      },
      "execution_count": 145,
      "outputs": []
    },
    {
      "cell_type": "code",
      "source": [
        "some_upper"
      ],
      "metadata": {
        "colab": {
          "base_uri": "https://localhost:8080/"
        },
        "id": "PQDBTl5GZV0d",
        "outputId": "4253aec5-ed50-490d-8b47-d46a5a368465"
      },
      "execution_count": 146,
      "outputs": [
        {
          "output_type": "execute_result",
          "data": {
            "text/plain": [
              "['BAT', 'CAR', 'DOVE', 'PYTHON']"
            ]
          },
          "metadata": {},
          "execution_count": 146
        }
      ]
    },
    {
      "cell_type": "code",
      "source": [
        "{key-expr: value-expr for value-expr in collection if condition}"
      ],
      "metadata": {
        "id": "izo2rNwjZXx8"
      },
      "execution_count": null,
      "outputs": []
    },
    {
      "cell_type": "code",
      "source": [
        "letters = list(\"kjansdahsncoriquwe;faskdnfhc;iomhwecnt;hqjgca;sfc\")\n",
        "\n",
        "letter_count = {}\n",
        "for letter in letters:\n",
        "    if letter in letter_count:\n",
        "        current_count = letter_count[letter]\n",
        "        letter_count[letter] = current_count + 1 \n",
        "    else:\n",
        "        letter_count[letter] = 1"
      ],
      "metadata": {
        "id": "ke38gTInZms3"
      },
      "execution_count": 147,
      "outputs": []
    },
    {
      "cell_type": "code",
      "source": [
        "letter_count"
      ],
      "metadata": {
        "colab": {
          "base_uri": "https://localhost:8080/"
        },
        "id": "mD5H9jNbZmzq",
        "outputId": "de70b829-5630-4541-8ebb-ce237458a447"
      },
      "execution_count": 148,
      "outputs": [
        {
          "output_type": "execute_result",
          "data": {
            "text/plain": [
              "{'k': 2,\n",
              " 'j': 2,\n",
              " 'a': 4,\n",
              " 'n': 4,\n",
              " 's': 4,\n",
              " 'd': 2,\n",
              " 'h': 4,\n",
              " 'c': 5,\n",
              " 'o': 2,\n",
              " 'r': 1,\n",
              " 'i': 2,\n",
              " 'q': 2,\n",
              " 'u': 1,\n",
              " 'w': 2,\n",
              " 'e': 2,\n",
              " ';': 4,\n",
              " 'f': 3,\n",
              " 'm': 1,\n",
              " 't': 1,\n",
              " 'g': 1}"
            ]
          },
          "metadata": {},
          "execution_count": 148
        }
      ]
    },
    {
      "cell_type": "code",
      "source": [
        "letters = list(\"kjansdahsncoriquwe;faskdnfhc;iomhwecnt;hqjgca;sfc\")\n",
        "\n",
        "for letter in letters:\n",
        "    if letter in letter_count:\n",
        "        current_count = letter_count[letter]\n",
        "        letter_count[letter] = current_count + 1 \n",
        "    else:\n",
        "        letter_count[letter] = 1"
      ],
      "metadata": {
        "id": "PDdo8BhIcPug"
      },
      "execution_count": null,
      "outputs": []
    },
    {
      "cell_type": "code",
      "source": [
        "vowels = ['a', 'e', 'i', 'o', 'u']\n",
        "{letter: 1 for letter in letters if letter in vowels}"
      ],
      "metadata": {
        "colab": {
          "base_uri": "https://localhost:8080/"
        },
        "id": "UCQxMt31Zm6Y",
        "outputId": "4f351c44-e22d-427e-865a-74b136b1a67a"
      },
      "execution_count": 150,
      "outputs": [
        {
          "output_type": "execute_result",
          "data": {
            "text/plain": [
              "{'a': 1, 'o': 1, 'i': 1, 'u': 1, 'e': 1}"
            ]
          },
          "metadata": {},
          "execution_count": 150
        }
      ]
    },
    {
      "cell_type": "code",
      "source": [],
      "metadata": {
        "id": "mQwi2Zg3cNGE"
      },
      "execution_count": null,
      "outputs": []
    },
    {
      "cell_type": "markdown",
      "source": [
        "## Functions"
      ],
      "metadata": {
        "id": "RdGVPppfbi13"
      }
    },
    {
      "cell_type": "code",
      "source": [
        "def my_function(a1, a2, a3):\n",
        "    # steps to produce output from args\n",
        "    return a1, a2, a3\n"
      ],
      "metadata": {
        "id": "SS0KL5lxbMnQ"
      },
      "execution_count": 151,
      "outputs": []
    },
    {
      "cell_type": "code",
      "source": [
        "my_function(1, 2, 3)\n"
      ],
      "metadata": {
        "colab": {
          "base_uri": "https://localhost:8080/"
        },
        "id": "KMtKQ02phuE9",
        "outputId": "3f09bc4e-9569-465e-d2f5-59dc9c3cd92f"
      },
      "execution_count": 152,
      "outputs": [
        {
          "output_type": "execute_result",
          "data": {
            "text/plain": [
              "(1, 2, 3)"
            ]
          },
          "metadata": {},
          "execution_count": 152
        }
      ]
    },
    {
      "cell_type": "code",
      "source": [
        "def function_without_return(a1, a2):\n",
        "    print(a1, a2)\n"
      ],
      "metadata": {
        "id": "DM6ELaITh1IV"
      },
      "execution_count": 153,
      "outputs": []
    },
    {
      "cell_type": "code",
      "source": [
        "function_without_return(1, 2)"
      ],
      "metadata": {
        "colab": {
          "base_uri": "https://localhost:8080/"
        },
        "id": "ut_McA4lh1QF",
        "outputId": "ddf21585-46f6-4b44-9bcc-d0ecad9a3790"
      },
      "execution_count": 155,
      "outputs": [
        {
          "output_type": "stream",
          "name": "stdout",
          "text": [
            "1 2\n"
          ]
        }
      ]
    },
    {
      "cell_type": "code",
      "source": [
        "returned_value = function_without_return(1, 2)"
      ],
      "metadata": {
        "colab": {
          "base_uri": "https://localhost:8080/"
        },
        "id": "C2mzjniWh1YH",
        "outputId": "0b6e1f7b-2e2e-4ca9-c6d2-ee449d996186"
      },
      "execution_count": 156,
      "outputs": [
        {
          "output_type": "stream",
          "name": "stdout",
          "text": [
            "1 2\n"
          ]
        }
      ]
    },
    {
      "cell_type": "code",
      "source": [
        "type(returned_value)"
      ],
      "metadata": {
        "colab": {
          "base_uri": "https://localhost:8080/"
        },
        "id": "Bmi683Fuh1gl",
        "outputId": "b85e44f2-019a-4de5-b89e-d33fd1832099"
      },
      "execution_count": 157,
      "outputs": [
        {
          "output_type": "execute_result",
          "data": {
            "text/plain": [
              "NoneType"
            ]
          },
          "metadata": {},
          "execution_count": 157
        }
      ]
    },
    {
      "cell_type": "code",
      "source": [
        "def another_function(x, y, z=1.0):\n",
        "    return x + y + z"
      ],
      "metadata": {
        "id": "KQgx60XciKzx"
      },
      "execution_count": 158,
      "outputs": []
    },
    {
      "cell_type": "code",
      "source": [
        "another_function(1, 2)"
      ],
      "metadata": {
        "colab": {
          "base_uri": "https://localhost:8080/"
        },
        "id": "R72sqsHNiK71",
        "outputId": "87268515-d2a3-498e-8dff-b1953a48a165"
      },
      "execution_count": 159,
      "outputs": [
        {
          "output_type": "execute_result",
          "data": {
            "text/plain": [
              "4.0"
            ]
          },
          "metadata": {},
          "execution_count": 159
        }
      ]
    },
    {
      "cell_type": "code",
      "source": [
        "another_function(1, 2, z=3)"
      ],
      "metadata": {
        "colab": {
          "base_uri": "https://localhost:8080/"
        },
        "id": "dI9VPPJoiLD_",
        "outputId": "dfe18914-db1c-443a-bbfd-363d25804a3a"
      },
      "execution_count": 160,
      "outputs": [
        {
          "output_type": "execute_result",
          "data": {
            "text/plain": [
              "6"
            ]
          },
          "metadata": {},
          "execution_count": 160
        }
      ]
    },
    {
      "cell_type": "code",
      "source": [
        "another_function(1, 2, 3)"
      ],
      "metadata": {
        "colab": {
          "base_uri": "https://localhost:8080/"
        },
        "id": "bZ1DbWbyic4E",
        "outputId": "157d712e-9bac-4262-cb86-2b1e3eb158ee"
      },
      "execution_count": 161,
      "outputs": [
        {
          "output_type": "execute_result",
          "data": {
            "text/plain": [
              "6"
            ]
          },
          "metadata": {},
          "execution_count": 161
        }
      ]
    },
    {
      "cell_type": "code",
      "source": [
        "another_function(z=1, x=2, y=3)"
      ],
      "metadata": {
        "colab": {
          "base_uri": "https://localhost:8080/"
        },
        "id": "_QBZ7N6AidAU",
        "outputId": "f4f1a816-a3d2-44ba-f302-4d48e88b5654"
      },
      "execution_count": 162,
      "outputs": [
        {
          "output_type": "execute_result",
          "data": {
            "text/plain": [
              "6"
            ]
          },
          "metadata": {},
          "execution_count": 162
        }
      ]
    },
    {
      "cell_type": "markdown",
      "source": [
        "### Returning Multiple Values"
      ],
      "metadata": {
        "id": "XpQiXrbcb0y0"
      }
    },
    {
      "cell_type": "code",
      "source": [
        "def f():\n",
        "    a, b, c = 5, 6, 7\n",
        "    return a, b, c"
      ],
      "metadata": {
        "id": "hNXmbCsnb2EU"
      },
      "execution_count": 163,
      "outputs": []
    },
    {
      "cell_type": "code",
      "source": [
        "f()"
      ],
      "metadata": {
        "colab": {
          "base_uri": "https://localhost:8080/"
        },
        "id": "WEZjMszriw-Q",
        "outputId": "75235ac9-3c69-424f-863d-c1ca24698c5f"
      },
      "execution_count": 164,
      "outputs": [
        {
          "output_type": "execute_result",
          "data": {
            "text/plain": [
              "(5, 6, 7)"
            ]
          },
          "metadata": {},
          "execution_count": 164
        }
      ]
    },
    {
      "cell_type": "code",
      "source": [],
      "metadata": {
        "id": "be85trTqixK6"
      },
      "execution_count": null,
      "outputs": []
    },
    {
      "cell_type": "markdown",
      "source": [
        "### Functions are Objects"
      ],
      "metadata": {
        "id": "vjWHaslPb2hh"
      }
    },
    {
      "cell_type": "code",
      "source": [
        "states = [\n",
        "    \"   Alabama \",\n",
        "    \"Georgia!\",\n",
        "    \"Georgia\",\n",
        "    \"georgia\",\n",
        "    \"FlOrIda\",\n",
        "    \"south   carolina##\",\n",
        "    \"West virginia?\"\n",
        "]"
      ],
      "metadata": {
        "id": "dMlp3r24b4JT"
      },
      "execution_count": 173,
      "outputs": []
    },
    {
      "cell_type": "code",
      "source": [
        "str.replace?"
      ],
      "metadata": {
        "id": "XK07fEUHkLXt"
      },
      "execution_count": 176,
      "outputs": []
    },
    {
      "cell_type": "code",
      "source": [
        "import re\n",
        "\n",
        "def clean_strings(strings):\n",
        "    result = []\n",
        "    for string in strings:\n",
        "        string = string.strip()\n",
        "        string = string.title()\n",
        "        string = re.sub(\"[!#?]\", \"\", string)\n",
        "        string = \" \".join(string.split())\n",
        "        result.append(string)\n",
        "    return result"
      ],
      "metadata": {
        "id": "JWZmP25MjAy8"
      },
      "execution_count": 189,
      "outputs": []
    },
    {
      "cell_type": "code",
      "source": [
        "clean_strings(states)"
      ],
      "metadata": {
        "colab": {
          "base_uri": "https://localhost:8080/"
        },
        "id": "Bt1h5MGFjA7h",
        "outputId": "8007382d-510c-4b29-95e2-3ef429ae33d0"
      },
      "execution_count": 190,
      "outputs": [
        {
          "output_type": "execute_result",
          "data": {
            "text/plain": [
              "['Alabama',\n",
              " 'Georgia',\n",
              " 'Georgia',\n",
              " 'Georgia',\n",
              " 'Florida',\n",
              " 'South Carolina',\n",
              " 'West Virginia']"
            ]
          },
          "metadata": {},
          "execution_count": 190
        }
      ]
    },
    {
      "cell_type": "code",
      "source": [
        "\" \".join(\"South     Carolina\".split())"
      ],
      "metadata": {
        "colab": {
          "base_uri": "https://localhost:8080/",
          "height": 56
        },
        "id": "Heiiv0q9jBEp",
        "outputId": "15e0fa59-e2d4-4cdc-f5ea-a46310574313"
      },
      "execution_count": 188,
      "outputs": [
        {
          "output_type": "execute_result",
          "data": {
            "text/plain": [
              "'South Carolina'"
            ],
            "application/vnd.google.colaboratory.intrinsic+json": {
              "type": "string"
            }
          },
          "metadata": {},
          "execution_count": 188
        }
      ]
    },
    {
      "cell_type": "code",
      "source": [
        "import re\n",
        "\n",
        "def clean_strings(strings, fs):\n",
        "    result = []\n",
        "    for string in strings:\n",
        "        for f in fs:\n",
        "            string = f(string)\n",
        "        result.append(string)\n",
        "    return result"
      ],
      "metadata": {
        "id": "jIZOdV5TjBNi"
      },
      "execution_count": 191,
      "outputs": []
    },
    {
      "cell_type": "code",
      "source": [
        "def remove_punctuation(string):\n",
        "    return re.sub(\"[!#?]\", \"\", string)\n",
        "\n",
        "\n",
        "def remove_middle_white_space(string):\n",
        "      return \" \".join(string.split())\n",
        "\n",
        "fs = [\n",
        "    str.strip,\n",
        "    str.title,\n",
        "    remove_punctuation,\n",
        "    remove_middle_white_space\n",
        "]\n",
        "\n",
        "clean_strings(states, fs)"
      ],
      "metadata": {
        "colab": {
          "base_uri": "https://localhost:8080/"
        },
        "id": "yHBljwZRjBWm",
        "outputId": "e50ae286-057d-40f9-f2d6-b7a80a5d9a18"
      },
      "execution_count": 193,
      "outputs": [
        {
          "output_type": "execute_result",
          "data": {
            "text/plain": [
              "['Alabama',\n",
              " 'Georgia',\n",
              " 'Georgia',\n",
              " 'Georgia',\n",
              " 'Florida',\n",
              " 'South Carolina',\n",
              " 'West Virginia']"
            ]
          },
          "metadata": {},
          "execution_count": 193
        }
      ]
    },
    {
      "cell_type": "markdown",
      "source": [
        "### Anonymous Functions"
      ],
      "metadata": {
        "id": "ZPsr6eItb4vw"
      }
    },
    {
      "cell_type": "code",
      "source": [
        "def short_function(x):\n",
        "    return x**2\n",
        "    "
      ],
      "metadata": {
        "id": "Lqtx79amb8vd"
      },
      "execution_count": 194,
      "outputs": []
    },
    {
      "cell_type": "code",
      "source": [
        "f = lambda x: x**2"
      ],
      "metadata": {
        "id": "pvMRZpfGmqCB"
      },
      "execution_count": 195,
      "outputs": []
    },
    {
      "cell_type": "code",
      "source": [
        "f(2)"
      ],
      "metadata": {
        "colab": {
          "base_uri": "https://localhost:8080/"
        },
        "id": "zzyis4oxmqLr",
        "outputId": "ad64cbb2-a53b-4406-ca85-b3beb939b926"
      },
      "execution_count": 196,
      "outputs": [
        {
          "output_type": "execute_result",
          "data": {
            "text/plain": [
              "4"
            ]
          },
          "metadata": {},
          "execution_count": 196
        }
      ]
    },
    {
      "cell_type": "code",
      "source": [
        "def map(seq, f):\n",
        "    return [f(v) for v in seq]\n",
        "\n",
        "map(range(10), lambda x: 2 * x)"
      ],
      "metadata": {
        "colab": {
          "base_uri": "https://localhost:8080/"
        },
        "id": "hllotJ6mmqVn",
        "outputId": "4f76e84f-bcc5-4487-8773-19dfb24f5e10"
      },
      "execution_count": 198,
      "outputs": [
        {
          "output_type": "execute_result",
          "data": {
            "text/plain": [
              "[0, 2, 4, 6, 8, 10, 12, 14, 16, 18]"
            ]
          },
          "metadata": {},
          "execution_count": 198
        }
      ]
    },
    {
      "cell_type": "code",
      "source": [
        "map(range(10), lambda x: x**3)"
      ],
      "metadata": {
        "colab": {
          "base_uri": "https://localhost:8080/"
        },
        "id": "n8AAcUwLmqf4",
        "outputId": "34e4084e-0d87-4e16-fe94-0e50407b83be"
      },
      "execution_count": 199,
      "outputs": [
        {
          "output_type": "execute_result",
          "data": {
            "text/plain": [
              "[0, 1, 8, 27, 64, 125, 216, 343, 512, 729]"
            ]
          },
          "metadata": {},
          "execution_count": 199
        }
      ]
    },
    {
      "cell_type": "markdown",
      "source": [
        "### Generators"
      ],
      "metadata": {
        "id": "zQ9B35ulb9hp"
      }
    },
    {
      "cell_type": "code",
      "source": [],
      "metadata": {
        "id": "F_FXq7bob-jK"
      },
      "execution_count": null,
      "outputs": []
    },
    {
      "cell_type": "markdown",
      "source": [
        "### Errors and Exception Handling"
      ],
      "metadata": {
        "id": "E2RjDDGsb_Fa"
      }
    },
    {
      "cell_type": "code",
      "source": [],
      "metadata": {
        "id": "4vtrP-SvcCZr"
      },
      "execution_count": null,
      "outputs": []
    },
    {
      "cell_type": "markdown",
      "source": [
        "### Exercise\n",
        "\n",
        "The equation for the logistic map is\n",
        "\n",
        "$$ x_{n+1} = rx_n(1- x_n) $$\n",
        " \n",
        "Define a function called `logistic_map` that takes two inputs `x`, and `r` and sets `r=3.5` as the default and returns the next value of x.\n",
        "\n",
        "### Challenge\n",
        "\n",
        "Define another function called `simulate` which iterates a function `f` starting from an initial value for `x`, `x0`, for `T` steps and stores all the intermediate values of `x` along the way. Your function will have the following signature.\n",
        "\n",
        "```\n",
        "simulate(x0, T, f)\n",
        "```\n",
        "\n",
        "Your function should return a list called `xs`. Use this function to simulate the logistic map function from the previous exercise.\n"
      ],
      "metadata": {
        "id": "3mUdW2mhoUZQ"
      }
    },
    {
      "cell_type": "code",
      "source": [
        "def logistic_map(x, r=3.5):\n",
        "    return r * x * (1 - x)\n"
      ],
      "metadata": {
        "id": "DS86l8_Op2Wt"
      },
      "execution_count": 200,
      "outputs": []
    },
    {
      "cell_type": "code",
      "source": [
        "logistic_map(0)"
      ],
      "metadata": {
        "colab": {
          "base_uri": "https://localhost:8080/"
        },
        "id": "3rW6gvV1uSN_",
        "outputId": "170861ac-bb87-429b-e239-57f450a45e1a"
      },
      "execution_count": 201,
      "outputs": [
        {
          "output_type": "execute_result",
          "data": {
            "text/plain": [
              "0.0"
            ]
          },
          "metadata": {},
          "execution_count": 201
        }
      ]
    },
    {
      "cell_type": "code",
      "source": [
        "logistic_map(1)"
      ],
      "metadata": {
        "colab": {
          "base_uri": "https://localhost:8080/"
        },
        "id": "A0GcK0A8uX2p",
        "outputId": "4480016e-65e7-4130-c511-27e31ad69245"
      },
      "execution_count": 202,
      "outputs": [
        {
          "output_type": "execute_result",
          "data": {
            "text/plain": [
              "0.0"
            ]
          },
          "metadata": {},
          "execution_count": 202
        }
      ]
    },
    {
      "cell_type": "code",
      "source": [
        "logistic_map(0.5, 4)"
      ],
      "metadata": {
        "colab": {
          "base_uri": "https://localhost:8080/"
        },
        "id": "XmVWoWhUuaHF",
        "outputId": "b04e190e-9823-4469-aaf2-6935d2c8f6d6"
      },
      "execution_count": 203,
      "outputs": [
        {
          "output_type": "execute_result",
          "data": {
            "text/plain": [
              "1.0"
            ]
          },
          "metadata": {},
          "execution_count": 203
        }
      ]
    },
    {
      "cell_type": "code",
      "source": [
        "logistic_map(1.0, 4)"
      ],
      "metadata": {
        "colab": {
          "base_uri": "https://localhost:8080/"
        },
        "id": "xZXYiuqquhYN",
        "outputId": "9cdf75ec-70ea-44cd-b3a5-f1ad2fbe5006"
      },
      "execution_count": 204,
      "outputs": [
        {
          "output_type": "execute_result",
          "data": {
            "text/plain": [
              "0.0"
            ]
          },
          "metadata": {},
          "execution_count": 204
        }
      ]
    },
    {
      "cell_type": "code",
      "source": [
        "logistic_map(0.0, 4)"
      ],
      "metadata": {
        "colab": {
          "base_uri": "https://localhost:8080/"
        },
        "id": "f--2JhqHusXm",
        "outputId": "d023f15d-5000-49e5-89d6-511a425979ac"
      },
      "execution_count": 205,
      "outputs": [
        {
          "output_type": "execute_result",
          "data": {
            "text/plain": [
              "0.0"
            ]
          },
          "metadata": {},
          "execution_count": 205
        }
      ]
    },
    {
      "cell_type": "code",
      "source": [
        "def simulate(x0, T, f, **kwargs):\n",
        "    xs = [x0]\n",
        "    for t in range(T):\n",
        "        xs.append(f(xs[t], **kwargs))\n",
        "    return xs\n"
      ],
      "metadata": {
        "id": "2I2daZcZuv7m"
      },
      "execution_count": 212,
      "outputs": []
    },
    {
      "cell_type": "code",
      "source": [
        "xs = simulate(0.15, 100, logistic_map, r=2)"
      ],
      "metadata": {
        "id": "axNOul405Q9V"
      },
      "execution_count": 216,
      "outputs": []
    },
    {
      "cell_type": "code",
      "source": [
        "import matplotlib.pyplot as plt\n",
        "\n",
        "plt.plot(xs)"
      ],
      "metadata": {
        "colab": {
          "base_uri": "https://localhost:8080/",
          "height": 468
        },
        "id": "vqBwnkIi5UwC",
        "outputId": "0af81e8f-ea79-45bb-b881-569d46bc6a45"
      },
      "execution_count": 217,
      "outputs": [
        {
          "output_type": "execute_result",
          "data": {
            "text/plain": [
              "[<matplotlib.lines.Line2D at 0x7fc25c8f7bb0>]"
            ]
          },
          "metadata": {},
          "execution_count": 217
        },
        {
          "output_type": "display_data",
          "data": {
            "text/plain": [
              "<Figure size 640x480 with 1 Axes>"
            ],
            "image/png": "[encoded data removed]"
          },
          "metadata": {}
        }
      ]
    },
    {
      "cell_type": "code",
      "source": [
        "def dyadic_map(x):\n",
        "    if 0 <= x < 0.5:\n",
        "        return 2 * x\n",
        "    else:\n",
        "        return 2 * x - 1\n"
      ],
      "metadata": {
        "id": "Y0gn5LkQ508d"
      },
      "execution_count": 218,
      "outputs": []
    },
    {
      "cell_type": "code",
      "source": [
        "xs = simulate(0.75, 10, dyadic_map)"
      ],
      "metadata": {
        "id": "0VQW6ETX7CzA"
      },
      "execution_count": 223,
      "outputs": []
    },
    {
      "cell_type": "code",
      "source": [
        "plt.plot(xs)"
      ],
      "metadata": {
        "colab": {
          "base_uri": "https://localhost:8080/",
          "height": 468
        },
        "id": "TEbCzn9U7LmX",
        "outputId": "eb71c035-ae1b-453e-ac30-c986cbee81d7"
      },
      "execution_count": 224,
      "outputs": [
        {
          "output_type": "execute_result",
          "data": {
            "text/plain": [
              "[<matplotlib.lines.Line2D at 0x7fc25c7abf10>]"
            ]
          },
          "metadata": {},
          "execution_count": 224
        },
        {
          "output_type": "display_data",
          "data": {
            "text/plain": [
              "<Figure size 640x480 with 1 Axes>"
            ],
            "image/png": "[encoded data removed]"
          },
          "metadata": {}
        }
      ]
    },
    {
      "cell_type": "code",
      "source": [
        "def henon_map(inputs, a, b):\n",
        "    x, y = inputs\n",
        "    return 1 - a * x**2 + y, b * x\n"
      ],
      "metadata": {
        "id": "A9jhInVN7Nd_"
      },
      "execution_count": 225,
      "outputs": []
    },
    {
      "cell_type": "code",
      "source": [
        "outputs = simulate((0, 0), 10000, henon_map, a=1.4, b=0.3)"
      ],
      "metadata": {
        "id": "eIQ61DuQ8VeG"
      },
      "execution_count": 231,
      "outputs": []
    },
    {
      "cell_type": "code",
      "source": [
        "xs = []\n",
        "ys = []\n",
        "\n",
        "for x, y in outputs:\n",
        "    xs.append(x)\n",
        "    ys.append(y)"
      ],
      "metadata": {
        "id": "IzVr21ci8oZS"
      },
      "execution_count": 232,
      "outputs": []
    },
    {
      "cell_type": "code",
      "source": [
        "plt.scatter(xs, ys, alpha=0.1)\n",
        "plt.xlabel('x')\n",
        "plt.ylabel('y')"
      ],
      "metadata": {
        "colab": {
          "base_uri": "https://localhost:8080/",
          "height": 487
        },
        "id": "uJ4bIrQd9Fba",
        "outputId": "e753da7b-b72b-4bc8-f399-73d11306c763"
      },
      "execution_count": 235,
      "outputs": [
        {
          "output_type": "execute_result",
          "data": {
            "text/plain": [
              "Text(0, 0.5, 'y')"
            ]
          },
          "metadata": {},
          "execution_count": 235
        },
        {
          "output_type": "display_data",
          "data": {
            "text/plain": [
              "<Figure size 640x480 with 1 Axes>"
            ],
            "image/png": "[encoded data removed]"
          },
          "metadata": {}
        }
      ]
    },
    {
      "cell_type": "code",
      "source": [],
      "metadata": {
        "id": "ExBT5eNF9Ixp"
      },
      "execution_count": null,
      "outputs": []
    },
    {
      "cell_type": "markdown",
      "source": [
        "## Files and the Operating System"
      ],
      "metadata": {
        "id": "rv87uUsE-EiI"
      }
    },
    {
      "cell_type": "code",
      "source": [
        "ls sample_data"
      ],
      "metadata": {
        "colab": {
          "base_uri": "https://localhost:8080/"
        },
        "id": "S3r8dqP6-Gmp",
        "outputId": "3d9ba302-5df5-4a1c-f001-49c04fa23c44"
      },
      "execution_count": 237,
      "outputs": [
        {
          "output_type": "stream",
          "name": "stdout",
          "text": [
            "\u001b[0m\u001b[01;32manscombe.json\u001b[0m*                mnist_test.csv\n",
            "california_housing_test.csv   mnist_train_small.csv\n",
            "california_housing_train.csv  \u001b[01;32mREADME.md\u001b[0m*\n"
          ]
        }
      ]
    },
    {
      "cell_type": "code",
      "source": [
        "path = \"sample_data/california_housing_train.csv\"\n",
        "\n",
        "f = open(path)"
      ],
      "metadata": {
        "id": "KDkF6uDc-WQQ"
      },
      "execution_count": 238,
      "outputs": []
    },
    {
      "cell_type": "code",
      "source": [
        "for line in f:\n",
        "    print(line)"
      ],
      "metadata": {
        "id": "Exvd1TQa-vzQ"
      },
      "execution_count": null,
      "outputs": []
    },
    {
      "cell_type": "code",
      "source": [
        "f.close()"
      ],
      "metadata": {
        "id": "csEqDmEz-6jk"
      },
      "execution_count": 240,
      "outputs": []
    },
    {
      "cell_type": "code",
      "source": [
        "open?"
      ],
      "metadata": {
        "id": "4zN2IJXS_327"
      },
      "execution_count": 245,
      "outputs": []
    },
    {
      "cell_type": "code",
      "source": [
        "with open(path, mode='r') as f:\n",
        "    lines = f.readlines()"
      ],
      "metadata": {
        "id": "RLXPXtiQ_CrN"
      },
      "execution_count": 241,
      "outputs": []
    },
    {
      "cell_type": "code",
      "source": [
        "len(lines)"
      ],
      "metadata": {
        "colab": {
          "base_uri": "https://localhost:8080/"
        },
        "id": "TbQASAm7_XDO",
        "outputId": "bbcdb8b7-f6a1-4d17-fb56-2043446b50d7"
      },
      "execution_count": 242,
      "outputs": [
        {
          "output_type": "execute_result",
          "data": {
            "text/plain": [
              "17001"
            ]
          },
          "metadata": {},
          "execution_count": 242
        }
      ]
    },
    {
      "cell_type": "code",
      "source": [
        "lines[0]"
      ],
      "metadata": {
        "colab": {
          "base_uri": "https://localhost:8080/",
          "height": 73
        },
        "id": "WwOXglvd_dXw",
        "outputId": "86ab5d4b-3501-436b-f2c7-69efd1e8f718"
      },
      "execution_count": 243,
      "outputs": [
        {
          "output_type": "execute_result",
          "data": {
            "text/plain": [
              "'\"longitude\",\"latitude\",\"housing_median_age\",\"total_rooms\",\"total_bedrooms\",\"population\",\"households\",\"median_income\",\"median_house_value\"\\n'"
            ],
            "application/vnd.google.colaboratory.intrinsic+json": {
              "type": "string"
            }
          },
          "metadata": {},
          "execution_count": 243
        }
      ]
    },
    {
      "cell_type": "code",
      "source": [
        "lines[1]"
      ],
      "metadata": {
        "colab": {
          "base_uri": "https://localhost:8080/",
          "height": 56
        },
        "id": "VcU83Gr4_f3A",
        "outputId": "d1d67e7a-a7c6-40c9-dc81-df84e5763e52"
      },
      "execution_count": 244,
      "outputs": [
        {
          "output_type": "execute_result",
          "data": {
            "text/plain": [
              "'-114.310000,34.190000,15.000000,5612.000000,1283.000000,1015.000000,472.000000,1.493600,66900.000000\\n'"
            ],
            "application/vnd.google.colaboratory.intrinsic+json": {
              "type": "string"
            }
          },
          "metadata": {},
          "execution_count": 244
        }
      ]
    },
    {
      "cell_type": "code",
      "source": [
        "with open(\"output.txt\", mode='w') as o:\n",
        "    for line in lines:\n",
        "        o.write(str(len(line)) + \"\\n\")"
      ],
      "metadata": {
        "id": "hoSnnuBb_iwZ"
      },
      "execution_count": 253,
      "outputs": []
    },
    {
      "cell_type": "code",
      "source": [
        "ls"
      ],
      "metadata": {
        "colab": {
          "base_uri": "https://localhost:8080/"
        },
        "id": "kaZ3wVpcAew5",
        "outputId": "a495829c-39ed-4ecc-d47b-26afa4b2f0ab"
      },
      "execution_count": 248,
      "outputs": [
        {
          "output_type": "stream",
          "name": "stdout",
          "text": [
            "output.txt  \u001b[0m\u001b[01;34msample_data\u001b[0m/\n"
          ]
        }
      ]
    },
    {
      "cell_type": "code",
      "source": [
        "with open(\"output.txt\", mode='r') as f:\n",
        "    line_counts = f.readlines()"
      ],
      "metadata": {
        "id": "LJme1NywAmlQ"
      },
      "execution_count": 254,
      "outputs": []
    },
    {
      "cell_type": "code",
      "source": [
        "line_counts"
      ],
      "metadata": {
        "colab": {
          "base_uri": "https://localhost:8080/"
        },
        "id": "1o5lutz7AvAc",
        "outputId": "cd014679-d3a9-4aed-c905-a7ef1178f5c6"
      },
      "execution_count": 255,
      "outputs": [
        {
          "output_type": "execute_result",
          "data": {
            "text/plain": [
              "['138\\n',\n",
              " '101\\n',\n",
              " '101\\n',\n",
              " '98\\n',\n",
              " '99\\n',\n",
              " '99\\n',\n",
              " '99\\n',\n",
              " '100\\n',\n",
              " '98\\n',\n",
              " '102\\n',\n",
              " '99\\n',\n",
              " '100\\n',\n",
              " '100\\n',\n",
              " '99\\n',\n",
              " '100\\n',\n",
              " '99\\n',\n",
              " '100\\n',\n",
              " '99\\n',\n",
              " '94\\n',\n",
              " '99\\n',\n",
              " '94\\n',\n",
              " '100\\n',\n",
              " '98\\n',\n",
              " '96\\n',\n",
              " '97\\n',\n",
              " '100\\n',\n",
              " '98\\n',\n",
              " '100\\n',\n",
              " '99\\n',\n",
              " '98\\n',\n",
              " '99\\n',\n",
              " '100\\n',\n",
              " '99\\n',\n",
              " '100\\n',\n",
              " '100\\n',\n",
              " '98\\n',\n",
              " '100\\n',\n",
              " '99\\n',\n",
              " '99\\n',\n",
              " '100\\n',\n",
              " '99\\n',\n",
              " '100\\n',\n",
              " '100\\n',\n",
              " '100\\n',\n",
              " '97\\n',\n",
              " '100\\n',\n",
              " '100\\n',\n",
              " '100\\n',\n",
              " '99\\n',\n",
              " '100\\n',\n",
              " '100\\n',\n",
              " '97\\n',\n",
              " '100\\n',\n",
              " '99\\n',\n",
              " '100\\n',\n",
              " '100\\n',\n",
              " '100\\n',\n",
              " '100\\n',\n",
              " '100\\n',\n",
              " '99\\n',\n",
              " '98\\n',\n",
              " '100\\n',\n",
              " '99\\n',\n",
              " '100\\n',\n",
              " '100\\n',\n",
              " '100\\n',\n",
              " '99\\n',\n",
              " '100\\n',\n",
              " '100\\n',\n",
              " '100\\n',\n",
              " '100\\n',\n",
              " '100\\n',\n",
              " '100\\n',\n",
              " '98\\n',\n",
              " '99\\n',\n",
              " '98\\n',\n",
              " '99\\n',\n",
              " '101\\n',\n",
              " '100\\n',\n",
              " '100\\n',\n",
              " '100\\n',\n",
              " '100\\n',\n",
              " '100\\n',\n",
              " '100\\n',\n",
              " '99\\n',\n",
              " '99\\n',\n",
              " '100\\n',\n",
              " '99\\n',\n",
              " '99\\n',\n",
              " '99\\n',\n",
              " '99\\n',\n",
              " '100\\n',\n",
              " '99\\n',\n",
              " '99\\n',\n",
              " '99\\n',\n",
              " '99\\n',\n",
              " '97\\n',\n",
              " '99\\n',\n",
              " '99\\n',\n",
              " '100\\n',\n",
              " '99\\n',\n",
              " '100\\n',\n",
              " '98\\n',\n",
              " '98\\n',\n",
              " '99\\n',\n",
              " '99\\n',\n",
              " '99\\n',\n",
              " '100\\n',\n",
              " '100\\n',\n",
              " '96\\n',\n",
              " '98\\n',\n",
              " '99\\n',\n",
              " '97\\n',\n",
              " '96\\n',\n",
              " '93\\n',\n",
              " '99\\n',\n",
              " '100\\n',\n",
              " '95\\n',\n",
              " '99\\n',\n",
              " '96\\n',\n",
              " '99\\n',\n",
              " '94\\n',\n",
              " '94\\n',\n",
              " '96\\n',\n",
              " '94\\n',\n",
              " '99\\n',\n",
              " '95\\n',\n",
              " '99\\n',\n",
              " '100\\n',\n",
              " '99\\n',\n",
              " '95\\n',\n",
              " '96\\n',\n",
              " '96\\n',\n",
              " '99\\n',\n",
              " '103\\n',\n",
              " '96\\n',\n",
              " '102\\n',\n",
              " '100\\n',\n",
              " '101\\n',\n",
              " '100\\n',\n",
              " '100\\n',\n",
              " '97\\n',\n",
              " '100\\n',\n",
              " '100\\n',\n",
              " '100\\n',\n",
              " '98\\n',\n",
              " '100\\n',\n",
              " '95\\n',\n",
              " '100\\n',\n",
              " '100\\n',\n",
              " '100\\n',\n",
              " '100\\n',\n",
              " '99\\n',\n",
              " '98\\n',\n",
              " '100\\n',\n",
              " '100\\n',\n",
              " '99\\n',\n",
              " '101\\n',\n",
              " '99\\n',\n",
              " '99\\n',\n",
              " '100\\n',\n",
              " '100\\n',\n",
              " '98\\n',\n",
              " '99\\n',\n",
              " '99\\n',\n",
              " '102\\n',\n",
              " '102\\n',\n",
              " '101\\n',\n",
              " '101\\n',\n",
              " '102\\n',\n",
              " '98\\n',\n",
              " '96\\n',\n",
              " '98\\n',\n",
              " '101\\n',\n",
              " '98\\n',\n",
              " '97\\n',\n",
              " '103\\n',\n",
              " '100\\n',\n",
              " '100\\n',\n",
              " '100\\n',\n",
              " '100\\n',\n",
              " '100\\n',\n",
              " '99\\n',\n",
              " '99\\n',\n",
              " '100\\n',\n",
              " '100\\n',\n",
              " '99\\n',\n",
              " '103\\n',\n",
              " '104\\n',\n",
              " '100\\n',\n",
              " '98\\n',\n",
              " '101\\n',\n",
              " '103\\n',\n",
              " '103\\n',\n",
              " '100\\n',\n",
              " '101\\n',\n",
              " '101\\n',\n",
              " '99\\n',\n",
              " '103\\n',\n",
              " '104\\n',\n",
              " '104\\n',\n",
              " '101\\n',\n",
              " '103\\n',\n",
              " '103\\n',\n",
              " '104\\n',\n",
              " '102\\n',\n",
              " '99\\n',\n",
              " '99\\n',\n",
              " '100\\n',\n",
              " '100\\n',\n",
              " '102\\n',\n",
              " '104\\n',\n",
              " '100\\n',\n",
              " '97\\n',\n",
              " '102\\n',\n",
              " '101\\n',\n",
              " '100\\n',\n",
              " '99\\n',\n",
              " '102\\n',\n",
              " '101\\n',\n",
              " '100\\n',\n",
              " '97\\n',\n",
              " '101\\n',\n",
              " '101\\n',\n",
              " '101\\n',\n",
              " '100\\n',\n",
              " '100\\n',\n",
              " '102\\n',\n",
              " '99\\n',\n",
              " '102\\n',\n",
              " '102\\n',\n",
              " '100\\n',\n",
              " '99\\n',\n",
              " '103\\n',\n",
              " '99\\n',\n",
              " '100\\n',\n",
              " '102\\n',\n",
              " '100\\n',\n",
              " '102\\n',\n",
              " '95\\n',\n",
              " '102\\n',\n",
              " '102\\n',\n",
              " '100\\n',\n",
              " '101\\n',\n",
              " '102\\n',\n",
              " '100\\n',\n",
              " '99\\n',\n",
              " '100\\n',\n",
              " '103\\n',\n",
              " '100\\n',\n",
              " '104\\n',\n",
              " '101\\n',\n",
              " '100\\n',\n",
              " '100\\n',\n",
              " '104\\n',\n",
              " '103\\n',\n",
              " '100\\n',\n",
              " '103\\n',\n",
              " '102\\n',\n",
              " '102\\n',\n",
              " '102\\n',\n",
              " '100\\n',\n",
              " '102\\n',\n",
              " '100\\n',\n",
              " '100\\n',\n",
              " '101\\n',\n",
              " '95\\n',\n",
              " '98\\n',\n",
              " '102\\n',\n",
              " '97\\n',\n",
              " '101\\n',\n",
              " '101\\n',\n",
              " '100\\n',\n",
              " '100\\n',\n",
              " '101\\n',\n",
              " '101\\n',\n",
              " '99\\n',\n",
              " '97\\n',\n",
              " '100\\n',\n",
              " '101\\n',\n",
              " '97\\n',\n",
              " '100\\n',\n",
              " '101\\n',\n",
              " '100\\n',\n",
              " '101\\n',\n",
              " '101\\n',\n",
              " '101\\n',\n",
              " '101\\n',\n",
              " '101\\n',\n",
              " '91\\n',\n",
              " '99\\n',\n",
              " '101\\n',\n",
              " '101\\n',\n",
              " '100\\n',\n",
              " '103\\n',\n",
              " '96\\n',\n",
              " '101\\n',\n",
              " '101\\n',\n",
              " '97\\n',\n",
              " '101\\n',\n",
              " '100\\n',\n",
              " '101\\n',\n",
              " '100\\n',\n",
              " '100\\n',\n",
              " '100\\n',\n",
              " '101\\n',\n",
              " '100\\n',\n",
              " '100\\n',\n",
              " '101\\n',\n",
              " '100\\n',\n",
              " '98\\n',\n",
              " '97\\n',\n",
              " '100\\n',\n",
              " '103\\n',\n",
              " '97\\n',\n",
              " '101\\n',\n",
              " '100\\n',\n",
              " '100\\n',\n",
              " '100\\n',\n",
              " '100\\n',\n",
              " '100\\n',\n",
              " '100\\n',\n",
              " '101\\n',\n",
              " '99\\n',\n",
              " '100\\n',\n",
              " '98\\n',\n",
              " '100\\n',\n",
              " '99\\n',\n",
              " '101\\n',\n",
              " '103\\n',\n",
              " '101\\n',\n",
              " '100\\n',\n",
              " '100\\n',\n",
              " '100\\n',\n",
              " '101\\n',\n",
              " '99\\n',\n",
              " '100\\n',\n",
              " '101\\n',\n",
              " '100\\n',\n",
              " '101\\n',\n",
              " '100\\n',\n",
              " '97\\n',\n",
              " '100\\n',\n",
              " '100\\n',\n",
              " '100\\n',\n",
              " '100\\n',\n",
              " '100\\n',\n",
              " '97\\n',\n",
              " '101\\n',\n",
              " '101\\n',\n",
              " '101\\n',\n",
              " '101\\n',\n",
              " '101\\n',\n",
              " '101\\n',\n",
              " '100\\n',\n",
              " '98\\n',\n",
              " '104\\n',\n",
              " '103\\n',\n",
              " '101\\n',\n",
              " '101\\n',\n",
              " '101\\n',\n",
              " '101\\n',\n",
              " '101\\n',\n",
              " '101\\n',\n",
              " '101\\n',\n",
              " '101\\n',\n",
              " '101\\n',\n",
              " '100\\n',\n",
              " '97\\n',\n",
              " '100\\n',\n",
              " '101\\n',\n",
              " '100\\n',\n",
              " '101\\n',\n",
              " '101\\n',\n",
              " '100\\n',\n",
              " '101\\n',\n",
              " '99\\n',\n",
              " '102\\n',\n",
              " '103\\n',\n",
              " '101\\n',\n",
              " '101\\n',\n",
              " '101\\n',\n",
              " '100\\n',\n",
              " '101\\n',\n",
              " '100\\n',\n",
              " '101\\n',\n",
              " '101\\n',\n",
              " '103\\n',\n",
              " '101\\n',\n",
              " '101\\n',\n",
              " '103\\n',\n",
              " '103\\n',\n",
              " '101\\n',\n",
              " '101\\n',\n",
              " '101\\n',\n",
              " '101\\n',\n",
              " '100\\n',\n",
              " '100\\n',\n",
              " '100\\n',\n",
              " '101\\n',\n",
              " '103\\n',\n",
              " '104\\n',\n",
              " '103\\n',\n",
              " '101\\n',\n",
              " '102\\n',\n",
              " '100\\n',\n",
              " '102\\n',\n",
              " '103\\n',\n",
              " '100\\n',\n",
              " '100\\n',\n",
              " '100\\n',\n",
              " '100\\n',\n",
              " '100\\n',\n",
              " '101\\n',\n",
              " '100\\n',\n",
              " '100\\n',\n",
              " '104\\n',\n",
              " '101\\n',\n",
              " '103\\n',\n",
              " '100\\n',\n",
              " '101\\n',\n",
              " '104\\n',\n",
              " '101\\n',\n",
              " '101\\n',\n",
              " '101\\n',\n",
              " '101\\n',\n",
              " '100\\n',\n",
              " '100\\n',\n",
              " '99\\n',\n",
              " '100\\n',\n",
              " '100\\n',\n",
              " '100\\n',\n",
              " '100\\n',\n",
              " '100\\n',\n",
              " '101\\n',\n",
              " '101\\n',\n",
              " '101\\n',\n",
              " '103\\n',\n",
              " '100\\n',\n",
              " '101\\n',\n",
              " '103\\n',\n",
              " '103\\n',\n",
              " '100\\n',\n",
              " '101\\n',\n",
              " '103\\n',\n",
              " '101\\n',\n",
              " '103\\n',\n",
              " '100\\n',\n",
              " '100\\n',\n",
              " '100\\n',\n",
              " '100\\n',\n",
              " '100\\n',\n",
              " '101\\n',\n",
              " '97\\n',\n",
              " '102\\n',\n",
              " '100\\n',\n",
              " '103\\n',\n",
              " '100\\n',\n",
              " '100\\n',\n",
              " '103\\n',\n",
              " '101\\n',\n",
              " '100\\n',\n",
              " '101\\n',\n",
              " '103\\n',\n",
              " '103\\n',\n",
              " '101\\n',\n",
              " '100\\n',\n",
              " '98\\n',\n",
              " '99\\n',\n",
              " '100\\n',\n",
              " '100\\n',\n",
              " '96\\n',\n",
              " '100\\n',\n",
              " '103\\n',\n",
              " '102\\n',\n",
              " '103\\n',\n",
              " '101\\n',\n",
              " '103\\n',\n",
              " '101\\n',\n",
              " '103\\n',\n",
              " '101\\n',\n",
              " '101\\n',\n",
              " '101\\n',\n",
              " '100\\n',\n",
              " '99\\n',\n",
              " '101\\n',\n",
              " '99\\n',\n",
              " '99\\n',\n",
              " '101\\n',\n",
              " '100\\n',\n",
              " '102\\n',\n",
              " '101\\n',\n",
              " '101\\n',\n",
              " '97\\n',\n",
              " '103\\n',\n",
              " '102\\n',\n",
              " '102\\n',\n",
              " '103\\n',\n",
              " '99\\n',\n",
              " '101\\n',\n",
              " '101\\n',\n",
              " '103\\n',\n",
              " '101\\n',\n",
              " '104\\n',\n",
              " '101\\n',\n",
              " '101\\n',\n",
              " '101\\n',\n",
              " '100\\n',\n",
              " '100\\n',\n",
              " '101\\n',\n",
              " '101\\n',\n",
              " '101\\n',\n",
              " '99\\n',\n",
              " '101\\n',\n",
              " '100\\n',\n",
              " '100\\n',\n",
              " '101\\n',\n",
              " '101\\n',\n",
              " '101\\n',\n",
              " '100\\n',\n",
              " '102\\n',\n",
              " '101\\n',\n",
              " '100\\n',\n",
              " '104\\n',\n",
              " '100\\n',\n",
              " '100\\n',\n",
              " '100\\n',\n",
              " '100\\n',\n",
              " '100\\n',\n",
              " '100\\n',\n",
              " '101\\n',\n",
              " '101\\n',\n",
              " '101\\n',\n",
              " '101\\n',\n",
              " '101\\n',\n",
              " '101\\n',\n",
              " '100\\n',\n",
              " '100\\n',\n",
              " '100\\n',\n",
              " '101\\n',\n",
              " '101\\n',\n",
              " '101\\n',\n",
              " '100\\n',\n",
              " '101\\n',\n",
              " '100\\n',\n",
              " '104\\n',\n",
              " '101\\n',\n",
              " '101\\n',\n",
              " '101\\n',\n",
              " '100\\n',\n",
              " '99\\n',\n",
              " '101\\n',\n",
              " '101\\n',\n",
              " '101\\n',\n",
              " '99\\n',\n",
              " '101\\n',\n",
              " '101\\n',\n",
              " '101\\n',\n",
              " '100\\n',\n",
              " '101\\n',\n",
              " '101\\n',\n",
              " '101\\n',\n",
              " '101\\n',\n",
              " '101\\n',\n",
              " '100\\n',\n",
              " '101\\n',\n",
              " '101\\n',\n",
              " '103\\n',\n",
              " '101\\n',\n",
              " '98\\n',\n",
              " '99\\n',\n",
              " '100\\n',\n",
              " '101\\n',\n",
              " '99\\n',\n",
              " '103\\n',\n",
              " '100\\n',\n",
              " '101\\n',\n",
              " '102\\n',\n",
              " '99\\n',\n",
              " '101\\n',\n",
              " '101\\n',\n",
              " '100\\n',\n",
              " '100\\n',\n",
              " '101\\n',\n",
              " '100\\n',\n",
              " '100\\n',\n",
              " '100\\n',\n",
              " '101\\n',\n",
              " '101\\n',\n",
              " '100\\n',\n",
              " '100\\n',\n",
              " '101\\n',\n",
              " '101\\n',\n",
              " '101\\n',\n",
              " '101\\n',\n",
              " '101\\n',\n",
              " '101\\n',\n",
              " '101\\n',\n",
              " '101\\n',\n",
              " '100\\n',\n",
              " '99\\n',\n",
              " '96\\n',\n",
              " '100\\n',\n",
              " '100\\n',\n",
              " '100\\n',\n",
              " '101\\n',\n",
              " '101\\n',\n",
              " '94\\n',\n",
              " '100\\n',\n",
              " '101\\n',\n",
              " '101\\n',\n",
              " '101\\n',\n",
              " '100\\n',\n",
              " '101\\n',\n",
              " '101\\n',\n",
              " '101\\n',\n",
              " '103\\n',\n",
              " '100\\n',\n",
              " '103\\n',\n",
              " '103\\n',\n",
              " '99\\n',\n",
              " '100\\n',\n",
              " '101\\n',\n",
              " '101\\n',\n",
              " '100\\n',\n",
              " '99\\n',\n",
              " '101\\n',\n",
              " '100\\n',\n",
              " '101\\n',\n",
              " '101\\n',\n",
              " '100\\n',\n",
              " '100\\n',\n",
              " '99\\n',\n",
              " '101\\n',\n",
              " '100\\n',\n",
              " '101\\n',\n",
              " '101\\n',\n",
              " '100\\n',\n",
              " '100\\n',\n",
              " '100\\n',\n",
              " '100\\n',\n",
              " '103\\n',\n",
              " '101\\n',\n",
              " '101\\n',\n",
              " '104\\n',\n",
              " '101\\n',\n",
              " '101\\n',\n",
              " '98\\n',\n",
              " '102\\n',\n",
              " '100\\n',\n",
              " '103\\n',\n",
              " '100\\n',\n",
              " '99\\n',\n",
              " '101\\n',\n",
              " '101\\n',\n",
              " '100\\n',\n",
              " '100\\n',\n",
              " '100\\n',\n",
              " '103\\n',\n",
              " '101\\n',\n",
              " '101\\n',\n",
              " '101\\n',\n",
              " '100\\n',\n",
              " '101\\n',\n",
              " '101\\n',\n",
              " '101\\n',\n",
              " '100\\n',\n",
              " '100\\n',\n",
              " '101\\n',\n",
              " '101\\n',\n",
              " '101\\n',\n",
              " '102\\n',\n",
              " '100\\n',\n",
              " '101\\n',\n",
              " '101\\n',\n",
              " '101\\n',\n",
              " '103\\n',\n",
              " '101\\n',\n",
              " '101\\n',\n",
              " '101\\n',\n",
              " '100\\n',\n",
              " '98\\n',\n",
              " '99\\n',\n",
              " '101\\n',\n",
              " '101\\n',\n",
              " '101\\n',\n",
              " '103\\n',\n",
              " '100\\n',\n",
              " '100\\n',\n",
              " '101\\n',\n",
              " '103\\n',\n",
              " '101\\n',\n",
              " '102\\n',\n",
              " '101\\n',\n",
              " '101\\n',\n",
              " '102\\n',\n",
              " '100\\n',\n",
              " '99\\n',\n",
              " '101\\n',\n",
              " '102\\n',\n",
              " '103\\n',\n",
              " '101\\n',\n",
              " '103\\n',\n",
              " '101\\n',\n",
              " '101\\n',\n",
              " '100\\n',\n",
              " '100\\n',\n",
              " '101\\n',\n",
              " '100\\n',\n",
              " '99\\n',\n",
              " '100\\n',\n",
              " '101\\n',\n",
              " '101\\n',\n",
              " '100\\n',\n",
              " '100\\n',\n",
              " '101\\n',\n",
              " '101\\n',\n",
              " '101\\n',\n",
              " '101\\n',\n",
              " '101\\n',\n",
              " '101\\n',\n",
              " '101\\n',\n",
              " '98\\n',\n",
              " '99\\n',\n",
              " '101\\n',\n",
              " '101\\n',\n",
              " '101\\n',\n",
              " '100\\n',\n",
              " '101\\n',\n",
              " '101\\n',\n",
              " '101\\n',\n",
              " '101\\n',\n",
              " '101\\n',\n",
              " '103\\n',\n",
              " '101\\n',\n",
              " '100\\n',\n",
              " '101\\n',\n",
              " '101\\n',\n",
              " '101\\n',\n",
              " '101\\n',\n",
              " '99\\n',\n",
              " '100\\n',\n",
              " '99\\n',\n",
              " '100\\n',\n",
              " '101\\n',\n",
              " '99\\n',\n",
              " '101\\n',\n",
              " '100\\n',\n",
              " '101\\n',\n",
              " '103\\n',\n",
              " '103\\n',\n",
              " '100\\n',\n",
              " '100\\n',\n",
              " '99\\n',\n",
              " '100\\n',\n",
              " '99\\n',\n",
              " '100\\n',\n",
              " '101\\n',\n",
              " '101\\n',\n",
              " '100\\n',\n",
              " '101\\n',\n",
              " '100\\n',\n",
              " '100\\n',\n",
              " '101\\n',\n",
              " '100\\n',\n",
              " '101\\n',\n",
              " '101\\n',\n",
              " '101\\n',\n",
              " '101\\n',\n",
              " '101\\n',\n",
              " '101\\n',\n",
              " '101\\n',\n",
              " '98\\n',\n",
              " '100\\n',\n",
              " '99\\n',\n",
              " '101\\n',\n",
              " '101\\n',\n",
              " '101\\n',\n",
              " '101\\n',\n",
              " '101\\n',\n",
              " '101\\n',\n",
              " '100\\n',\n",
              " '101\\n',\n",
              " '99\\n',\n",
              " '102\\n',\n",
              " '99\\n',\n",
              " '99\\n',\n",
              " '101\\n',\n",
              " '101\\n',\n",
              " '101\\n',\n",
              " '101\\n',\n",
              " '100\\n',\n",
              " '100\\n',\n",
              " '101\\n',\n",
              " '101\\n',\n",
              " '100\\n',\n",
              " '101\\n',\n",
              " '100\\n',\n",
              " '101\\n',\n",
              " '101\\n',\n",
              " '100\\n',\n",
              " '101\\n',\n",
              " '101\\n',\n",
              " '99\\n',\n",
              " '103\\n',\n",
              " '101\\n',\n",
              " '101\\n',\n",
              " '101\\n',\n",
              " '101\\n',\n",
              " '103\\n',\n",
              " '100\\n',\n",
              " '99\\n',\n",
              " '100\\n',\n",
              " '103\\n',\n",
              " '100\\n',\n",
              " '100\\n',\n",
              " '100\\n',\n",
              " '102\\n',\n",
              " '102\\n',\n",
              " '100\\n',\n",
              " '100\\n',\n",
              " '101\\n',\n",
              " '101\\n',\n",
              " '101\\n',\n",
              " '100\\n',\n",
              " '101\\n',\n",
              " '100\\n',\n",
              " '101\\n',\n",
              " '100\\n',\n",
              " '101\\n',\n",
              " '100\\n',\n",
              " '101\\n',\n",
              " '101\\n',\n",
              " '101\\n',\n",
              " '100\\n',\n",
              " '101\\n',\n",
              " '100\\n',\n",
              " '100\\n',\n",
              " '101\\n',\n",
              " '101\\n',\n",
              " '101\\n',\n",
              " '101\\n',\n",
              " '100\\n',\n",
              " '101\\n',\n",
              " '101\\n',\n",
              " '100\\n',\n",
              " '101\\n',\n",
              " '101\\n',\n",
              " '100\\n',\n",
              " '102\\n',\n",
              " '101\\n',\n",
              " '100\\n',\n",
              " '101\\n',\n",
              " '101\\n',\n",
              " '103\\n',\n",
              " '103\\n',\n",
              " '101\\n',\n",
              " '100\\n',\n",
              " '100\\n',\n",
              " '101\\n',\n",
              " '100\\n',\n",
              " '100\\n',\n",
              " '99\\n',\n",
              " '95\\n',\n",
              " '101\\n',\n",
              " '101\\n',\n",
              " '99\\n',\n",
              " '101\\n',\n",
              " '101\\n',\n",
              " '100\\n',\n",
              " '100\\n',\n",
              " '103\\n',\n",
              " '100\\n',\n",
              " '99\\n',\n",
              " '101\\n',\n",
              " '101\\n',\n",
              " '101\\n',\n",
              " '101\\n',\n",
              " '101\\n',\n",
              " '101\\n',\n",
              " '100\\n',\n",
              " '99\\n',\n",
              " '101\\n',\n",
              " '100\\n',\n",
              " '100\\n',\n",
              " '103\\n',\n",
              " '103\\n',\n",
              " '99\\n',\n",
              " '100\\n',\n",
              " '103\\n',\n",
              " '101\\n',\n",
              " '101\\n',\n",
              " '100\\n',\n",
              " '100\\n',\n",
              " '101\\n',\n",
              " '100\\n',\n",
              " '101\\n',\n",
              " '101\\n',\n",
              " '101\\n',\n",
              " '100\\n',\n",
              " '100\\n',\n",
              " '101\\n',\n",
              " '101\\n',\n",
              " '101\\n',\n",
              " '100\\n',\n",
              " '101\\n',\n",
              " '100\\n',\n",
              " '100\\n',\n",
              " '100\\n',\n",
              " '101\\n',\n",
              " '101\\n',\n",
              " '101\\n',\n",
              " '103\\n',\n",
              " '101\\n',\n",
              " '100\\n',\n",
              " '101\\n',\n",
              " '101\\n',\n",
              " '99\\n',\n",
              " '100\\n',\n",
              " '101\\n',\n",
              " '101\\n',\n",
              " '101\\n',\n",
              " '100\\n',\n",
              " '101\\n',\n",
              " '103\\n',\n",
              " '101\\n',\n",
              " '101\\n',\n",
              " '100\\n',\n",
              " '97\\n',\n",
              " '101\\n',\n",
              " '101\\n',\n",
              " '98\\n',\n",
              " '103\\n',\n",
              " '100\\n',\n",
              " '101\\n',\n",
              " '102\\n',\n",
              " '99\\n',\n",
              " '100\\n',\n",
              " '101\\n',\n",
              " '101\\n',\n",
              " '101\\n',\n",
              " '100\\n',\n",
              " '99\\n',\n",
              " '100\\n',\n",
              " '100\\n',\n",
              " '101\\n',\n",
              " '102\\n',\n",
              " '100\\n',\n",
              " '99\\n',\n",
              " '100\\n',\n",
              " '100\\n',\n",
              " '100\\n',\n",
              " '100\\n',\n",
              " '100\\n',\n",
              " '101\\n',\n",
              " '100\\n',\n",
              " '101\\n',\n",
              " '101\\n',\n",
              " '100\\n',\n",
              " '101\\n',\n",
              " '100\\n',\n",
              " '101\\n',\n",
              " '100\\n',\n",
              " '100\\n',\n",
              " '100\\n',\n",
              " '101\\n',\n",
              " '100\\n',\n",
              " '100\\n',\n",
              " '100\\n',\n",
              " '101\\n',\n",
              " '100\\n',\n",
              " '100\\n',\n",
              " '101\\n',\n",
              " '101\\n',\n",
              " '101\\n',\n",
              " '101\\n',\n",
              " '100\\n',\n",
              " '101\\n',\n",
              " '99\\n',\n",
              " '99\\n',\n",
              " '101\\n',\n",
              " '100\\n',\n",
              " '101\\n',\n",
              " '101\\n',\n",
              " '101\\n',\n",
              " '100\\n',\n",
              " '99\\n',\n",
              " '100\\n',\n",
              " '101\\n',\n",
              " '101\\n',\n",
              " '100\\n',\n",
              " '101\\n',\n",
              " '101\\n',\n",
              " '101\\n',\n",
              " '97\\n',\n",
              " '101\\n',\n",
              " '102\\n',\n",
              " '101\\n',\n",
              " '101\\n',\n",
              " '100\\n',\n",
              " ...]"
            ]
          },
          "metadata": {},
          "execution_count": 255
        }
      ]
    },
    {
      "cell_type": "code",
      "source": [],
      "metadata": {
        "id": "PGWjqRehAwip"
      },
      "execution_count": null,
      "outputs": []
    }
  ]
}
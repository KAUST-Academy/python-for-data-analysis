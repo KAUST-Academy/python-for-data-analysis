{
  "nbformat": 4,
  "nbformat_minor": 0,
  "metadata": {
    "colab": {
      "provenance": []
    },
    "kernelspec": {
      "name": "python3",
      "display_name": "Python 3"
    },
    "language_info": {
      "name": "python"
    }
  },
  "cells": [
    {
      "cell_type": "markdown",
      "source": [
        "## 2.1 The Python interpreter"
      ],
      "metadata": {
        "id": "n8xOyzVSkneE"
      }
    },
    {
      "cell_type": "code",
      "execution_count": 1,
      "metadata": {
        "colab": {
          "base_uri": "https://localhost:8080/"
        },
        "id": "3VAoNtMvkM4Q",
        "outputId": "891fe780-13b8-4aab-db01-c9c088f61f66"
      },
      "outputs": [
        {
          "output_type": "stream",
          "name": "stdout",
          "text": [
            "Hello world!\n"
          ]
        }
      ],
      "source": [
        "print(\"Hello world!\")"
      ]
    },
    {
      "cell_type": "code",
      "source": [],
      "metadata": {
        "id": "FCUvIrFUk2aT"
      },
      "execution_count": null,
      "outputs": []
    },
    {
      "cell_type": "markdown",
      "source": [
        "## 2.2 IPython Basics "
      ],
      "metadata": {
        "id": "MTinY8Zclu41"
      }
    },
    {
      "cell_type": "code",
      "source": [
        "a = 5 "
      ],
      "metadata": {
        "id": "QfkVYLvllxmJ"
      },
      "execution_count": 2,
      "outputs": []
    },
    {
      "cell_type": "code",
      "source": [
        "a"
      ],
      "metadata": {
        "colab": {
          "base_uri": "https://localhost:8080/"
        },
        "id": "klLj5HogmLqw",
        "outputId": "e0456089-bf8b-471b-8829-d14cb184efb0"
      },
      "execution_count": 3,
      "outputs": [
        {
          "output_type": "execute_result",
          "data": {
            "text/plain": [
              "5"
            ]
          },
          "metadata": {},
          "execution_count": 3
        }
      ]
    },
    {
      "cell_type": "code",
      "source": [
        "print(a)"
      ],
      "metadata": {
        "colab": {
          "base_uri": "https://localhost:8080/"
        },
        "id": "D2jmGnqGmPY5",
        "outputId": "ac50be05-a282-4010-db74-a67aa10dc8c9"
      },
      "execution_count": 4,
      "outputs": [
        {
          "output_type": "stream",
          "name": "stdout",
          "text": [
            "5\n"
          ]
        }
      ]
    },
    {
      "cell_type": "code",
      "source": [
        "import numpy as np"
      ],
      "metadata": {
        "id": "mOK1oXJpmSRI"
      },
      "execution_count": 5,
      "outputs": []
    },
    {
      "cell_type": "code",
      "source": [
        "np.random.standard_normal()"
      ],
      "metadata": {
        "colab": {
          "base_uri": "https://localhost:8080/"
        },
        "id": "ALV-q-8XnQWu",
        "outputId": "185463df-5eb4-4415-e022-f5232b287751"
      },
      "execution_count": 10,
      "outputs": [
        {
          "output_type": "execute_result",
          "data": {
            "text/plain": [
              "-0.25340227593767645"
            ]
          },
          "metadata": {},
          "execution_count": 10
        }
      ]
    },
    {
      "cell_type": "code",
      "source": [
        "data = np.random.standard_normal((10, 3))"
      ],
      "metadata": {
        "id": "oQZfl3dNnfnQ"
      },
      "execution_count": 14,
      "outputs": []
    },
    {
      "cell_type": "code",
      "source": [
        "data"
      ],
      "metadata": {
        "colab": {
          "base_uri": "https://localhost:8080/"
        },
        "id": "BoAlkrfcn-Pg",
        "outputId": "8af5c7b0-6fc2-4dc8-b28b-4b1bd562b5c7"
      },
      "execution_count": 15,
      "outputs": [
        {
          "output_type": "execute_result",
          "data": {
            "text/plain": [
              "array([[ 2.13317406,  0.55795137,  1.93686767],\n",
              "       [-0.94593405,  0.23753358,  1.53144333],\n",
              "       [-1.28410097, -2.52996339,  1.25552026],\n",
              "       [-1.4140957 , -2.01376819, -1.29208874],\n",
              "       [-0.46330973, -0.62784694, -0.5042135 ],\n",
              "       [-0.5393453 ,  0.35781904, -1.46366002],\n",
              "       [-2.40688349,  0.85232378, -0.3456083 ],\n",
              "       [ 0.59922708,  2.50030755,  0.23405229],\n",
              "       [-0.55120491, -0.06345718,  1.42768579],\n",
              "       [-1.01919246, -0.67062897, -0.65106828]])"
            ]
          },
          "metadata": {},
          "execution_count": 15
        }
      ]
    },
    {
      "cell_type": "code",
      "source": [
        "an_apple = 27\n",
        "an_example = 42\n",
        "another_example = 3.145"
      ],
      "metadata": {
        "id": "XA0k0cZuoNhC"
      },
      "execution_count": 16,
      "outputs": []
    },
    {
      "cell_type": "code",
      "source": [
        "another_example"
      ],
      "metadata": {
        "colab": {
          "base_uri": "https://localhost:8080/"
        },
        "id": "hJpOn_iNof-N",
        "outputId": "033337f2-cb47-4db4-c264-8d1d0bc19d73"
      },
      "execution_count": 17,
      "outputs": [
        {
          "output_type": "execute_result",
          "data": {
            "text/plain": [
              "3.145"
            ]
          },
          "metadata": {},
          "execution_count": 17
        }
      ]
    },
    {
      "cell_type": "code",
      "source": [
        "b = [1, 2, 3.4, 5, \"string\"]"
      ],
      "metadata": {
        "id": "biXf2uFIop2y"
      },
      "execution_count": 18,
      "outputs": []
    },
    {
      "cell_type": "code",
      "source": [
        "b.extend?"
      ],
      "metadata": {
        "id": "GTW-vn6lo4wj"
      },
      "execution_count": 19,
      "outputs": []
    },
    {
      "cell_type": "code",
      "source": [
        "c = [1, 2, 3, 4, 5]\n",
        "b.extend(c)"
      ],
      "metadata": {
        "id": "ertVwCLopAeW"
      },
      "execution_count": 20,
      "outputs": []
    },
    {
      "cell_type": "code",
      "source": [
        "b"
      ],
      "metadata": {
        "colab": {
          "base_uri": "https://localhost:8080/"
        },
        "id": "H-tCta_opIDb",
        "outputId": "76a9195a-15ce-4b9a-8ef0-91be3b16cb01"
      },
      "execution_count": 21,
      "outputs": [
        {
          "output_type": "execute_result",
          "data": {
            "text/plain": [
              "[1, 2, 3.4, 5, 'string', 1, 2, 3, 4, 5]"
            ]
          },
          "metadata": {},
          "execution_count": 21
        }
      ]
    },
    {
      "cell_type": "code",
      "source": [
        "import datetime"
      ],
      "metadata": {
        "id": "YVcZEXQMpI3j"
      },
      "execution_count": 22,
      "outputs": []
    },
    {
      "cell_type": "code",
      "source": [
        "datetime.MAXYEAR"
      ],
      "metadata": {
        "colab": {
          "base_uri": "https://localhost:8080/"
        },
        "id": "iy-FJRBNpT30",
        "outputId": "79c67025-2278-4c73-89f0-2d680e55b0e2"
      },
      "execution_count": 23,
      "outputs": [
        {
          "output_type": "execute_result",
          "data": {
            "text/plain": [
              "9999"
            ]
          },
          "metadata": {},
          "execution_count": 23
        }
      ]
    },
    {
      "cell_type": "code",
      "source": [
        "print?"
      ],
      "metadata": {
        "id": "hlo-ZlZApYMj"
      },
      "execution_count": 24,
      "outputs": []
    },
    {
      "cell_type": "code",
      "source": [
        "def add_numbers(a, b):\n",
        "    \"\"\"\n",
        "    Adds two numbers.\n",
        "\n",
        "    Parameters:\n",
        "    -----------\n",
        "    a: a number\n",
        "    b: another number\n",
        "\n",
        "    Returns:\n",
        "    --------\n",
        "    sum of a and b\n",
        "\n",
        "    \"\"\"\n",
        "    return a + b"
      ],
      "metadata": {
        "id": "NYKOPrvTphEI"
      },
      "execution_count": 32,
      "outputs": []
    },
    {
      "cell_type": "code",
      "source": [
        "add_numbers(3, 4)"
      ],
      "metadata": {
        "colab": {
          "base_uri": "https://localhost:8080/"
        },
        "id": "7DA7LqbnqATj",
        "outputId": "4ffb9922-2cda-4d7d-ac0f-bdad289171e3"
      },
      "execution_count": 29,
      "outputs": [
        {
          "output_type": "execute_result",
          "data": {
            "text/plain": [
              "7"
            ]
          },
          "metadata": {},
          "execution_count": 29
        }
      ]
    },
    {
      "cell_type": "code",
      "source": [
        "add_numbers?"
      ],
      "metadata": {
        "id": "aBK7BGtFqDc8"
      },
      "execution_count": 30,
      "outputs": []
    },
    {
      "cell_type": "code",
      "source": [],
      "metadata": {
        "id": "V_ZjVoxPqKXC"
      },
      "execution_count": null,
      "outputs": []
    },
    {
      "cell_type": "markdown",
      "source": [
        "## 2.3 Python Language Basics"
      ],
      "metadata": {
        "id": "4NG-p3aXrPJ5"
      }
    },
    {
      "cell_type": "code",
      "source": [
        "numbers = [1, 2, 3, 4, 5, 6, 7, 8, 9, 10]\n",
        "\n",
        "for number in numbers:\n",
        "    if number > 5:\n",
        "        print(f\"{number} is greater than 5!\")\n",
        "    else:\n",
        "        print(f\"{number} is less than (or equal to) 5!\")"
      ],
      "metadata": {
        "colab": {
          "base_uri": "https://localhost:8080/"
        },
        "id": "y950f7VmrU9J",
        "outputId": "c9676890-9ecf-499e-9335-a9731152eb5f"
      },
      "execution_count": 37,
      "outputs": [
        {
          "output_type": "stream",
          "name": "stdout",
          "text": [
            "1 is less than (or equal to) 5!\n",
            "2 is less than (or equal to) 5!\n",
            "3 is less than (or equal to) 5!\n",
            "4 is less than (or equal to) 5!\n",
            "5 is less than (or equal to) 5!\n",
            "6 is greater than 5!\n",
            "7 is greater than 5!\n",
            "8 is greater than 5!\n",
            "9 is greater than 5!\n",
            "10 is greater than 5!\n"
          ]
        }
      ]
    },
    {
      "cell_type": "code",
      "source": [
        "type(numbers)"
      ],
      "metadata": {
        "colab": {
          "base_uri": "https://localhost:8080/"
        },
        "id": "x3tJbRVE43hj",
        "outputId": "3f4a13d7-9f95-4ca6-a557-2d55c511c15b"
      },
      "execution_count": 38,
      "outputs": [
        {
          "output_type": "execute_result",
          "data": {
            "text/plain": [
              "list"
            ]
          },
          "metadata": {},
          "execution_count": 38
        }
      ]
    },
    {
      "cell_type": "code",
      "source": [
        "numbers."
      ],
      "metadata": {
        "id": "QBqUlkYv55lu"
      },
      "execution_count": null,
      "outputs": []
    },
    {
      "cell_type": "code",
      "source": [
        "def add_three_numbers(a, b, c):\n",
        "    print(f\"a={a}, b={b}, c={c}\")\n",
        "    total = a + b + c\n",
        "    return total"
      ],
      "metadata": {
        "id": "IZWtIZz66FE0"
      },
      "execution_count": 40,
      "outputs": []
    },
    {
      "cell_type": "code",
      "source": [
        "add_three_numbers(3, 4, 5)"
      ],
      "metadata": {
        "colab": {
          "base_uri": "https://localhost:8080/"
        },
        "id": "lG7yFzab6T9Z",
        "outputId": "e7a9aca3-dbbd-4240-ebbc-6f7d87c03da8"
      },
      "execution_count": 41,
      "outputs": [
        {
          "output_type": "stream",
          "name": "stdout",
          "text": [
            "a=3, b=4, c=5\n"
          ]
        },
        {
          "output_type": "execute_result",
          "data": {
            "text/plain": [
              "12"
            ]
          },
          "metadata": {},
          "execution_count": 41
        }
      ]
    },
    {
      "cell_type": "code",
      "source": [
        "add_three_numbers(a=3, b=4, c=5)"
      ],
      "metadata": {
        "colab": {
          "base_uri": "https://localhost:8080/"
        },
        "id": "8djRMGpG6mBa",
        "outputId": "60464e6a-b2a1-4bd4-ed1f-08f88a6a93e2"
      },
      "execution_count": 42,
      "outputs": [
        {
          "output_type": "stream",
          "name": "stdout",
          "text": [
            "a=3, b=4, c=5\n"
          ]
        },
        {
          "output_type": "execute_result",
          "data": {
            "text/plain": [
              "12"
            ]
          },
          "metadata": {},
          "execution_count": 42
        }
      ]
    },
    {
      "cell_type": "code",
      "source": [
        "add_three_numbers(c=5, a=3, b=4)"
      ],
      "metadata": {
        "colab": {
          "base_uri": "https://localhost:8080/"
        },
        "id": "cwayEfbK6v5w",
        "outputId": "caaf61db-3fdb-4a52-abaf-890c3ca70ecf"
      },
      "execution_count": 43,
      "outputs": [
        {
          "output_type": "stream",
          "name": "stdout",
          "text": [
            "a=3, b=4, c=5\n"
          ]
        },
        {
          "output_type": "execute_result",
          "data": {
            "text/plain": [
              "12"
            ]
          },
          "metadata": {},
          "execution_count": 43
        }
      ]
    },
    {
      "cell_type": "code",
      "source": [
        "add_three_numbers(5, 3, 4)"
      ],
      "metadata": {
        "colab": {
          "base_uri": "https://localhost:8080/"
        },
        "id": "uMZf9liH61nI",
        "outputId": "db48b3b9-5b43-4379-aa17-5b6582c9422f"
      },
      "execution_count": 44,
      "outputs": [
        {
          "output_type": "stream",
          "name": "stdout",
          "text": [
            "a=5, b=3, c=4\n"
          ]
        },
        {
          "output_type": "execute_result",
          "data": {
            "text/plain": [
              "12"
            ]
          },
          "metadata": {},
          "execution_count": 44
        }
      ]
    },
    {
      "cell_type": "code",
      "source": [
        "a = [1, 2, 3]"
      ],
      "metadata": {
        "id": "8DMQ_Vot68FC"
      },
      "execution_count": 45,
      "outputs": []
    },
    {
      "cell_type": "code",
      "source": [
        "b = a"
      ],
      "metadata": {
        "id": "OCWW3ymx7EXy"
      },
      "execution_count": 46,
      "outputs": []
    },
    {
      "cell_type": "code",
      "source": [
        "a"
      ],
      "metadata": {
        "colab": {
          "base_uri": "https://localhost:8080/"
        },
        "id": "EjKn3RqI7HmL",
        "outputId": "1538c05c-7edb-4944-827c-ff8c5ebf299b"
      },
      "execution_count": 47,
      "outputs": [
        {
          "output_type": "execute_result",
          "data": {
            "text/plain": [
              "[1, 2, 3]"
            ]
          },
          "metadata": {},
          "execution_count": 47
        }
      ]
    },
    {
      "cell_type": "code",
      "source": [
        "b"
      ],
      "metadata": {
        "colab": {
          "base_uri": "https://localhost:8080/"
        },
        "id": "_ZdwjERO7I8g",
        "outputId": "0c8f4205-84cd-4619-a5e4-624f2e58be6d"
      },
      "execution_count": 48,
      "outputs": [
        {
          "output_type": "execute_result",
          "data": {
            "text/plain": [
              "[1, 2, 3]"
            ]
          },
          "metadata": {},
          "execution_count": 48
        }
      ]
    },
    {
      "cell_type": "code",
      "source": [
        "a.append(4)"
      ],
      "metadata": {
        "id": "0MBu9SSe7JuM"
      },
      "execution_count": 49,
      "outputs": []
    },
    {
      "cell_type": "code",
      "source": [
        "b"
      ],
      "metadata": {
        "colab": {
          "base_uri": "https://localhost:8080/"
        },
        "id": "NhJKO-Rw7NL9",
        "outputId": "c4f0e67e-b719-4081-9dc0-cf2c0feb984e"
      },
      "execution_count": 50,
      "outputs": [
        {
          "output_type": "execute_result",
          "data": {
            "text/plain": [
              "[1, 2, 3, 4]"
            ]
          },
          "metadata": {},
          "execution_count": 50
        }
      ]
    },
    {
      "cell_type": "code",
      "source": [
        "b.append(42)"
      ],
      "metadata": {
        "id": "3jTq0aI87N81"
      },
      "execution_count": 51,
      "outputs": []
    },
    {
      "cell_type": "code",
      "source": [
        "a"
      ],
      "metadata": {
        "colab": {
          "base_uri": "https://localhost:8080/"
        },
        "id": "qOhsdFKw7nCN",
        "outputId": "47a913dd-35e9-4d38-8f1a-0c6e6955035a"
      },
      "execution_count": 52,
      "outputs": [
        {
          "output_type": "execute_result",
          "data": {
            "text/plain": [
              "[1, 2, 3, 4, 42]"
            ]
          },
          "metadata": {},
          "execution_count": 52
        }
      ]
    },
    {
      "cell_type": "code",
      "source": [
        "def append_element(some_list, element):\n",
        "    some_list.append(element)\n"
      ],
      "metadata": {
        "id": "YXZkrGJ37nkO"
      },
      "execution_count": 53,
      "outputs": []
    },
    {
      "cell_type": "code",
      "source": [
        "data = [2, 4, 6, 8, 10]\n",
        "data"
      ],
      "metadata": {
        "colab": {
          "base_uri": "https://localhost:8080/"
        },
        "id": "vUZNWNC975kz",
        "outputId": "14fc4a8e-ccb4-43eb-f4f8-3adba8863178"
      },
      "execution_count": 54,
      "outputs": [
        {
          "output_type": "execute_result",
          "data": {
            "text/plain": [
              "[2, 4, 6, 8, 10]"
            ]
          },
          "metadata": {},
          "execution_count": 54
        }
      ]
    },
    {
      "cell_type": "code",
      "source": [
        "append_element(data, 42)"
      ],
      "metadata": {
        "id": "l3MBUsix78wg"
      },
      "execution_count": 55,
      "outputs": []
    },
    {
      "cell_type": "code",
      "source": [
        "data"
      ],
      "metadata": {
        "colab": {
          "base_uri": "https://localhost:8080/"
        },
        "id": "048-4mfL7_4w",
        "outputId": "faac35dd-e833-4d4b-893d-bbed9b6d199a"
      },
      "execution_count": 56,
      "outputs": [
        {
          "output_type": "execute_result",
          "data": {
            "text/plain": [
              "[2, 4, 6, 8, 10, 42]"
            ]
          },
          "metadata": {},
          "execution_count": 56
        }
      ]
    },
    {
      "cell_type": "code",
      "source": [
        "a = 5"
      ],
      "metadata": {
        "id": "vznBQ7eX8Adc"
      },
      "execution_count": 57,
      "outputs": []
    },
    {
      "cell_type": "code",
      "source": [
        "a = \"some_string\""
      ],
      "metadata": {
        "id": "zQtd_PCq8RI9"
      },
      "execution_count": 58,
      "outputs": []
    },
    {
      "cell_type": "code",
      "source": [
        "a"
      ],
      "metadata": {
        "colab": {
          "base_uri": "https://localhost:8080/",
          "height": 38
        },
        "id": "r7uHMTyr8T6k",
        "outputId": "eb54382f-a836-448c-f853-5aacf42a0f81"
      },
      "execution_count": 59,
      "outputs": [
        {
          "output_type": "execute_result",
          "data": {
            "text/plain": [
              "'some_string'"
            ],
            "application/vnd.google.colaboratory.intrinsic+json": {
              "type": "string"
            }
          },
          "metadata": {},
          "execution_count": 59
        }
      ]
    },
    {
      "cell_type": "code",
      "source": [
        "\"5\" + 5"
      ],
      "metadata": {
        "colab": {
          "base_uri": "https://localhost:8080/",
          "height": 168
        },
        "id": "xgo0zopk8Ust",
        "outputId": "2777ea6e-b259-4a93-d63e-1e3af6d2cfaf"
      },
      "execution_count": 60,
      "outputs": [
        {
          "output_type": "error",
          "ename": "TypeError",
          "evalue": "ignored",
          "traceback": [
            "\u001b[0;31m---------------------------------------------------------------------------\u001b[0m",
            "\u001b[0;31mTypeError\u001b[0m                                 Traceback (most recent call last)",
            "\u001b[0;32m<ipython-input-60-7fe5aa79f268>\u001b[0m in \u001b[0;36m<module>\u001b[0;34m\u001b[0m\n\u001b[0;32m----> 1\u001b[0;31m \u001b[0;34m\"5\"\u001b[0m \u001b[0;34m+\u001b[0m \u001b[0;36m5\u001b[0m\u001b[0;34m\u001b[0m\u001b[0;34m\u001b[0m\u001b[0m\n\u001b[0m",
            "\u001b[0;31mTypeError\u001b[0m: can only concatenate str (not \"int\") to str"
          ]
        }
      ]
    },
    {
      "cell_type": "code",
      "source": [
        "int(\"5\") + 5"
      ],
      "metadata": {
        "colab": {
          "base_uri": "https://localhost:8080/"
        },
        "id": "mgFZaceo8cRg",
        "outputId": "9e3fe61f-ace9-4ef6-e058-952d7f7f1908"
      },
      "execution_count": 61,
      "outputs": [
        {
          "output_type": "execute_result",
          "data": {
            "text/plain": [
              "10"
            ]
          },
          "metadata": {},
          "execution_count": 61
        }
      ]
    },
    {
      "cell_type": "code",
      "source": [
        "\"5\" + str(5)"
      ],
      "metadata": {
        "colab": {
          "base_uri": "https://localhost:8080/",
          "height": 38
        },
        "id": "Kw2Rwyb98hif",
        "outputId": "224ccf3c-bde4-4d21-f505-94c3d9abe61e"
      },
      "execution_count": 62,
      "outputs": [
        {
          "output_type": "execute_result",
          "data": {
            "text/plain": [
              "'55'"
            ],
            "application/vnd.google.colaboratory.intrinsic+json": {
              "type": "string"
            }
          },
          "metadata": {},
          "execution_count": 62
        }
      ]
    },
    {
      "cell_type": "code",
      "source": [
        "5 / 2"
      ],
      "metadata": {
        "colab": {
          "base_uri": "https://localhost:8080/"
        },
        "id": "htvTn0E98j6F",
        "outputId": "03431d4f-8f0d-4b6d-e025-997ece05fedf"
      },
      "execution_count": 63,
      "outputs": [
        {
          "output_type": "execute_result",
          "data": {
            "text/plain": [
              "2.5"
            ]
          },
          "metadata": {},
          "execution_count": 63
        }
      ]
    },
    {
      "cell_type": "code",
      "source": [
        "5 // 2 "
      ],
      "metadata": {
        "colab": {
          "base_uri": "https://localhost:8080/"
        },
        "id": "QrMqJkMo8qcZ",
        "outputId": "5d4a71fd-85f6-4b69-d38b-7ad5a6058fdf"
      },
      "execution_count": 64,
      "outputs": [
        {
          "output_type": "execute_result",
          "data": {
            "text/plain": [
              "2"
            ]
          },
          "metadata": {},
          "execution_count": 64
        }
      ]
    },
    {
      "cell_type": "code",
      "source": [
        "type(5)"
      ],
      "metadata": {
        "colab": {
          "base_uri": "https://localhost:8080/"
        },
        "id": "rV5SB_rn8via",
        "outputId": "d5af8886-e9c2-4519-bb53-aed565b3e75f"
      },
      "execution_count": 65,
      "outputs": [
        {
          "output_type": "execute_result",
          "data": {
            "text/plain": [
              "int"
            ]
          },
          "metadata": {},
          "execution_count": 65
        }
      ]
    },
    {
      "cell_type": "code",
      "source": [
        "type(\"asdfasdfas\")"
      ],
      "metadata": {
        "colab": {
          "base_uri": "https://localhost:8080/"
        },
        "id": "wQCA_-qW806p",
        "outputId": "bc032df6-3369-4393-a950-74cd6e10d3cc"
      },
      "execution_count": 66,
      "outputs": [
        {
          "output_type": "execute_result",
          "data": {
            "text/plain": [
              "str"
            ]
          },
          "metadata": {},
          "execution_count": 66
        }
      ]
    },
    {
      "cell_type": "code",
      "source": [
        "type(3.14)"
      ],
      "metadata": {
        "colab": {
          "base_uri": "https://localhost:8080/"
        },
        "id": "8BUy2Aiv82P4",
        "outputId": "59701430-e985-47b5-a7f0-4be69ab1e7cd"
      },
      "execution_count": 67,
      "outputs": [
        {
          "output_type": "execute_result",
          "data": {
            "text/plain": [
              "float"
            ]
          },
          "metadata": {},
          "execution_count": 67
        }
      ]
    },
    {
      "cell_type": "code",
      "source": [
        "a"
      ],
      "metadata": {
        "colab": {
          "base_uri": "https://localhost:8080/",
          "height": 38
        },
        "id": "nSvtZcEl83p3",
        "outputId": "b989c15f-d147-45de-8c8a-bf85ecfbadfa"
      },
      "execution_count": 68,
      "outputs": [
        {
          "output_type": "execute_result",
          "data": {
            "text/plain": [
              "'some_string'"
            ],
            "application/vnd.google.colaboratory.intrinsic+json": {
              "type": "string"
            }
          },
          "metadata": {},
          "execution_count": 68
        }
      ]
    },
    {
      "cell_type": "code",
      "source": [
        "isinstance(a, int)"
      ],
      "metadata": {
        "colab": {
          "base_uri": "https://localhost:8080/"
        },
        "id": "AGhDwwPv87Qw",
        "outputId": "759d89a6-18b7-49de-c9c6-303e9242e9ff"
      },
      "execution_count": 69,
      "outputs": [
        {
          "output_type": "execute_result",
          "data": {
            "text/plain": [
              "False"
            ]
          },
          "metadata": {},
          "execution_count": 69
        }
      ]
    },
    {
      "cell_type": "code",
      "source": [
        "isinstance(a, str)"
      ],
      "metadata": {
        "colab": {
          "base_uri": "https://localhost:8080/"
        },
        "id": "Q5k1OGd_8_Ht",
        "outputId": "61c920d5-ad92-463e-88c0-afeffe12d481"
      },
      "execution_count": 71,
      "outputs": [
        {
          "output_type": "execute_result",
          "data": {
            "text/plain": [
              "True"
            ]
          },
          "metadata": {},
          "execution_count": 71
        }
      ]
    },
    {
      "cell_type": "code",
      "source": [
        "a = \"some_string\""
      ],
      "metadata": {
        "id": "y9jSrdGU9Blj"
      },
      "execution_count": 88,
      "outputs": []
    },
    {
      "cell_type": "code",
      "source": [
        "a.upper()"
      ],
      "metadata": {
        "colab": {
          "base_uri": "https://localhost:8080/",
          "height": 38
        },
        "id": "vfkaRSvB9Ogy",
        "outputId": "3ed54fe7-ab1d-4aae-afb9-44d5365d6b1c"
      },
      "execution_count": 89,
      "outputs": [
        {
          "output_type": "execute_result",
          "data": {
            "text/plain": [
              "'SOME_STRING'"
            ],
            "application/vnd.google.colaboratory.intrinsic+json": {
              "type": "string"
            }
          },
          "metadata": {},
          "execution_count": 89
        }
      ]
    },
    {
      "cell_type": "code",
      "source": [
        "a"
      ],
      "metadata": {
        "colab": {
          "base_uri": "https://localhost:8080/",
          "height": 38
        },
        "id": "MRLlGbum_Daf",
        "outputId": "3080d22a-4bdc-484d-9f3c-ba17b809f723"
      },
      "execution_count": 90,
      "outputs": [
        {
          "output_type": "execute_result",
          "data": {
            "text/plain": [
              "'some_string'"
            ],
            "application/vnd.google.colaboratory.intrinsic+json": {
              "type": "string"
            }
          },
          "metadata": {},
          "execution_count": 90
        }
      ]
    },
    {
      "cell_type": "code",
      "source": [
        "a = a.upper()"
      ],
      "metadata": {
        "id": "pW0MbB3j_DkN"
      },
      "execution_count": 91,
      "outputs": []
    },
    {
      "cell_type": "code",
      "source": [
        "a"
      ],
      "metadata": {
        "colab": {
          "base_uri": "https://localhost:8080/",
          "height": 38
        },
        "id": "fGHe_m7b_KJj",
        "outputId": "a70c93b6-18bd-4b8d-b1ee-52ba30b1148a"
      },
      "execution_count": 92,
      "outputs": [
        {
          "output_type": "execute_result",
          "data": {
            "text/plain": [
              "'SOME_STRING'"
            ],
            "application/vnd.google.colaboratory.intrinsic+json": {
              "type": "string"
            }
          },
          "metadata": {},
          "execution_count": 92
        }
      ]
    },
    {
      "cell_type": "code",
      "source": [
        "a.split('_')"
      ],
      "metadata": {
        "colab": {
          "base_uri": "https://localhost:8080/"
        },
        "id": "ofvYQukZ94qv",
        "outputId": "671e754a-f75e-4e1d-a19d-ce4549cf5e88"
      },
      "execution_count": 93,
      "outputs": [
        {
          "output_type": "execute_result",
          "data": {
            "text/plain": [
              "['SOME', 'STRING']"
            ]
          },
          "metadata": {},
          "execution_count": 93
        }
      ]
    },
    {
      "cell_type": "code",
      "source": [
        "import numpy as np"
      ],
      "metadata": {
        "id": "IYWKndVh98Dg"
      },
      "execution_count": 75,
      "outputs": []
    },
    {
      "cell_type": "code",
      "source": [
        "5 - 7"
      ],
      "metadata": {
        "colab": {
          "base_uri": "https://localhost:8080/"
        },
        "id": "R8F-c7cO-EDJ",
        "outputId": "02841fe7-5297-4c13-be1e-aaa4909af988"
      },
      "execution_count": 76,
      "outputs": [
        {
          "output_type": "execute_result",
          "data": {
            "text/plain": [
              "-2"
            ]
          },
          "metadata": {},
          "execution_count": 76
        }
      ]
    },
    {
      "cell_type": "code",
      "source": [
        "5 * 5"
      ],
      "metadata": {
        "colab": {
          "base_uri": "https://localhost:8080/"
        },
        "id": "5pbrQjap-S_z",
        "outputId": "64677549-c1b4-472a-cf44-d39d79be5d37"
      },
      "execution_count": 77,
      "outputs": [
        {
          "output_type": "execute_result",
          "data": {
            "text/plain": [
              "25"
            ]
          },
          "metadata": {},
          "execution_count": 77
        }
      ]
    },
    {
      "cell_type": "code",
      "source": [
        "7 / 3"
      ],
      "metadata": {
        "colab": {
          "base_uri": "https://localhost:8080/"
        },
        "id": "-k-yuBh--URQ",
        "outputId": "795d7b45-e9d5-471a-961f-ee062a39728e"
      },
      "execution_count": 78,
      "outputs": [
        {
          "output_type": "execute_result",
          "data": {
            "text/plain": [
              "2.3333333333333335"
            ]
          },
          "metadata": {},
          "execution_count": 78
        }
      ]
    },
    {
      "cell_type": "code",
      "source": [
        "2**3"
      ],
      "metadata": {
        "colab": {
          "base_uri": "https://localhost:8080/"
        },
        "id": "yWCem_Mr-VCo",
        "outputId": "7e6d6865-b162-40fb-8e55-e65b1a783fea"
      },
      "execution_count": 79,
      "outputs": [
        {
          "output_type": "execute_result",
          "data": {
            "text/plain": [
              "8"
            ]
          },
          "metadata": {},
          "execution_count": 79
        }
      ]
    },
    {
      "cell_type": "code",
      "source": [
        "a"
      ],
      "metadata": {
        "colab": {
          "base_uri": "https://localhost:8080/",
          "height": 38
        },
        "id": "x21A0WT3-XvR",
        "outputId": "006f1b9c-337a-45fc-fb75-65a89b399e9a"
      },
      "execution_count": 80,
      "outputs": [
        {
          "output_type": "execute_result",
          "data": {
            "text/plain": [
              "'some_string'"
            ],
            "application/vnd.google.colaboratory.intrinsic+json": {
              "type": "string"
            }
          },
          "metadata": {},
          "execution_count": 80
        }
      ]
    },
    {
      "cell_type": "code",
      "source": [
        "a = 5\n",
        "b = 6"
      ],
      "metadata": {
        "id": "LtTDrxFh-cMu"
      },
      "execution_count": 81,
      "outputs": []
    },
    {
      "cell_type": "code",
      "source": [
        "a == b"
      ],
      "metadata": {
        "colab": {
          "base_uri": "https://localhost:8080/"
        },
        "id": "GZuN3z33-e_T",
        "outputId": "b99f6b21-5114-47f7-c99b-ed93230453bd"
      },
      "execution_count": 82,
      "outputs": [
        {
          "output_type": "execute_result",
          "data": {
            "text/plain": [
              "False"
            ]
          },
          "metadata": {},
          "execution_count": 82
        }
      ]
    },
    {
      "cell_type": "code",
      "source": [
        "a <= b"
      ],
      "metadata": {
        "colab": {
          "base_uri": "https://localhost:8080/"
        },
        "id": "-3XnkxA4-hwk",
        "outputId": "d0f49064-73dd-4742-a3e7-04483b30717c"
      },
      "execution_count": 84,
      "outputs": [
        {
          "output_type": "execute_result",
          "data": {
            "text/plain": [
              "True"
            ]
          },
          "metadata": {},
          "execution_count": 84
        }
      ]
    },
    {
      "cell_type": "code",
      "source": [
        "a > b"
      ],
      "metadata": {
        "colab": {
          "base_uri": "https://localhost:8080/"
        },
        "id": "7Jp0RM3Z-jbm",
        "outputId": "f42b6a1d-5c02-4495-cd04-ea37d0408dd1"
      },
      "execution_count": 85,
      "outputs": [
        {
          "output_type": "execute_result",
          "data": {
            "text/plain": [
              "False"
            ]
          },
          "metadata": {},
          "execution_count": 85
        }
      ]
    },
    {
      "cell_type": "code",
      "source": [
        "a != b"
      ],
      "metadata": {
        "colab": {
          "base_uri": "https://localhost:8080/"
        },
        "id": "UKTab5Tw-moZ",
        "outputId": "34ef86e5-473d-4f41-a567-342b5beb6028"
      },
      "execution_count": 86,
      "outputs": [
        {
          "output_type": "execute_result",
          "data": {
            "text/plain": [
              "True"
            ]
          },
          "metadata": {},
          "execution_count": 86
        }
      ]
    },
    {
      "cell_type": "code",
      "source": [
        "some_list = [3, 4.5, 6, 8.8, 9]"
      ],
      "metadata": {
        "id": "4PS4Plwx-ojt"
      },
      "execution_count": 94,
      "outputs": []
    },
    {
      "cell_type": "code",
      "source": [
        "some_list[0]"
      ],
      "metadata": {
        "colab": {
          "base_uri": "https://localhost:8080/"
        },
        "id": "ZooWTExz_bKW",
        "outputId": "86860de2-5cde-46e4-fd1b-098cc3058db2"
      },
      "execution_count": 95,
      "outputs": [
        {
          "output_type": "execute_result",
          "data": {
            "text/plain": [
              "3"
            ]
          },
          "metadata": {},
          "execution_count": 95
        }
      ]
    },
    {
      "cell_type": "code",
      "source": [
        "some_list[0] = 42"
      ],
      "metadata": {
        "id": "aQ1ujHe6_i3c"
      },
      "execution_count": 96,
      "outputs": []
    },
    {
      "cell_type": "code",
      "source": [
        "some_list"
      ],
      "metadata": {
        "colab": {
          "base_uri": "https://localhost:8080/"
        },
        "id": "fDB0VzeM_l8X",
        "outputId": "698d57f4-605d-4772-bdf9-05820fcb6edf"
      },
      "execution_count": 97,
      "outputs": [
        {
          "output_type": "execute_result",
          "data": {
            "text/plain": [
              "[42, 4.5, 6, 8.8, 9]"
            ]
          },
          "metadata": {},
          "execution_count": 97
        }
      ]
    },
    {
      "cell_type": "code",
      "source": [
        "d = \"strings are immutable!\""
      ],
      "metadata": {
        "id": "QHTvz3WZ_m-O"
      },
      "execution_count": 98,
      "outputs": []
    },
    {
      "cell_type": "code",
      "source": [
        "d[0]"
      ],
      "metadata": {
        "colab": {
          "base_uri": "https://localhost:8080/",
          "height": 38
        },
        "id": "SS62AMrW_u80",
        "outputId": "31a69f3c-ae33-4321-8c5a-44031a76a167"
      },
      "execution_count": 99,
      "outputs": [
        {
          "output_type": "execute_result",
          "data": {
            "text/plain": [
              "'s'"
            ],
            "application/vnd.google.colaboratory.intrinsic+json": {
              "type": "string"
            }
          },
          "metadata": {},
          "execution_count": 99
        }
      ]
    },
    {
      "cell_type": "code",
      "source": [
        "d[0] = \"e\""
      ],
      "metadata": {
        "colab": {
          "base_uri": "https://localhost:8080/",
          "height": 168
        },
        "id": "x6wMB3z9_wen",
        "outputId": "e296c2cd-8b07-41c6-bae4-d3603fbf860c"
      },
      "execution_count": 100,
      "outputs": [
        {
          "output_type": "error",
          "ename": "TypeError",
          "evalue": "ignored",
          "traceback": [
            "\u001b[0;31m---------------------------------------------------------------------------\u001b[0m",
            "\u001b[0;31mTypeError\u001b[0m                                 Traceback (most recent call last)",
            "\u001b[0;32m<ipython-input-100-cc768389b57f>\u001b[0m in \u001b[0;36m<module>\u001b[0;34m\u001b[0m\n\u001b[0;32m----> 1\u001b[0;31m \u001b[0md\u001b[0m\u001b[0;34m[\u001b[0m\u001b[0;36m0\u001b[0m\u001b[0;34m]\u001b[0m \u001b[0;34m=\u001b[0m \u001b[0;34m\"e\"\u001b[0m\u001b[0;34m\u001b[0m\u001b[0;34m\u001b[0m\u001b[0m\n\u001b[0m",
            "\u001b[0;31mTypeError\u001b[0m: 'str' object does not support item assignment"
          ]
        }
      ]
    },
    {
      "cell_type": "code",
      "source": [
        "d.replace('s', 'e')"
      ],
      "metadata": {
        "colab": {
          "base_uri": "https://localhost:8080/",
          "height": 38
        },
        "id": "CKE03syi_y1f",
        "outputId": "8ab7bc2a-d2db-49c3-b1b3-50c2f7862a30"
      },
      "execution_count": 102,
      "outputs": [
        {
          "output_type": "execute_result",
          "data": {
            "text/plain": [
              "'etringe are immutable!'"
            ],
            "application/vnd.google.colaboratory.intrinsic+json": {
              "type": "string"
            }
          },
          "metadata": {},
          "execution_count": 102
        }
      ]
    },
    {
      "cell_type": "code",
      "source": [
        "d"
      ],
      "metadata": {
        "colab": {
          "base_uri": "https://localhost:8080/",
          "height": 38
        },
        "id": "KK_-Az6o_4_c",
        "outputId": "75871928-924e-4f2a-9861-73776336475e"
      },
      "execution_count": 103,
      "outputs": [
        {
          "output_type": "execute_result",
          "data": {
            "text/plain": [
              "'strings are immutable!'"
            ],
            "application/vnd.google.colaboratory.intrinsic+json": {
              "type": "string"
            }
          },
          "metadata": {},
          "execution_count": 103
        }
      ]
    },
    {
      "cell_type": "code",
      "source": [
        "t = (1, 2.4, \"3\")"
      ],
      "metadata": {
        "id": "xCjQE2ZLAD6d"
      },
      "execution_count": 104,
      "outputs": []
    },
    {
      "cell_type": "code",
      "source": [
        "t[0]"
      ],
      "metadata": {
        "colab": {
          "base_uri": "https://localhost:8080/"
        },
        "id": "FJSxi9QAAVjV",
        "outputId": "b71a8a96-2d6b-4a99-d1cb-76ed2246188d"
      },
      "execution_count": 106,
      "outputs": [
        {
          "output_type": "execute_result",
          "data": {
            "text/plain": [
              "1"
            ]
          },
          "metadata": {},
          "execution_count": 106
        }
      ]
    },
    {
      "cell_type": "code",
      "source": [
        "t[0] = 42"
      ],
      "metadata": {
        "colab": {
          "base_uri": "https://localhost:8080/",
          "height": 168
        },
        "id": "GpuSeg3PAd1P",
        "outputId": "2bc8045d-4032-46e0-d38c-e228ae970d01"
      },
      "execution_count": 107,
      "outputs": [
        {
          "output_type": "error",
          "ename": "TypeError",
          "evalue": "ignored",
          "traceback": [
            "\u001b[0;31m---------------------------------------------------------------------------\u001b[0m",
            "\u001b[0;31mTypeError\u001b[0m                                 Traceback (most recent call last)",
            "\u001b[0;32m<ipython-input-107-718e8eb4134e>\u001b[0m in \u001b[0;36m<module>\u001b[0;34m\u001b[0m\n\u001b[0;32m----> 1\u001b[0;31m \u001b[0mt\u001b[0m\u001b[0;34m[\u001b[0m\u001b[0;36m0\u001b[0m\u001b[0;34m]\u001b[0m \u001b[0;34m=\u001b[0m \u001b[0;36m42\u001b[0m\u001b[0;34m\u001b[0m\u001b[0;34m\u001b[0m\u001b[0m\n\u001b[0m",
            "\u001b[0;31mTypeError\u001b[0m: 'tuple' object does not support item assignment"
          ]
        }
      ]
    },
    {
      "cell_type": "code",
      "source": [
        "for i in range(0, 100, 2):\n",
        "    print(i)"
      ],
      "metadata": {
        "colab": {
          "base_uri": "https://localhost:8080/"
        },
        "id": "Zb-oZFk2ALoV",
        "outputId": "1db62e6b-a4a3-4e3c-b893-ab494cf8deef"
      },
      "execution_count": 110,
      "outputs": [
        {
          "output_type": "stream",
          "name": "stdout",
          "text": [
            "0\n",
            "2\n",
            "4\n",
            "6\n",
            "8\n",
            "10\n",
            "12\n",
            "14\n",
            "16\n",
            "18\n",
            "20\n",
            "22\n",
            "24\n",
            "26\n",
            "28\n",
            "30\n",
            "32\n",
            "34\n",
            "36\n",
            "38\n",
            "40\n",
            "42\n",
            "44\n",
            "46\n",
            "48\n",
            "50\n",
            "52\n",
            "54\n",
            "56\n",
            "58\n",
            "60\n",
            "62\n",
            "64\n",
            "66\n",
            "68\n",
            "70\n",
            "72\n",
            "74\n",
            "76\n",
            "78\n",
            "80\n",
            "82\n",
            "84\n",
            "86\n",
            "88\n",
            "90\n",
            "92\n",
            "94\n",
            "96\n",
            "98\n"
          ]
        }
      ]
    },
    {
      "cell_type": "code",
      "source": [
        "[i for i in range(0, 10, 2)]"
      ],
      "metadata": {
        "colab": {
          "base_uri": "https://localhost:8080/"
        },
        "id": "tc5QTqeAAmIs",
        "outputId": "d14122fa-5366-4027-cdbc-7d6c083370de"
      },
      "execution_count": 111,
      "outputs": [
        {
          "output_type": "execute_result",
          "data": {
            "text/plain": [
              "[0, 2, 4, 6, 8]"
            ]
          },
          "metadata": {},
          "execution_count": 111
        }
      ]
    },
    {
      "cell_type": "code",
      "source": [
        "%%bash\n",
        "\n",
        "ls -Fh"
      ],
      "metadata": {
        "colab": {
          "base_uri": "https://localhost:8080/"
        },
        "id": "PCaPaRcOB-uM",
        "outputId": "a6c7fc8c-a51f-475c-b0f5-cb27fd86847b"
      },
      "execution_count": 113,
      "outputs": [
        {
          "output_type": "stream",
          "name": "stdout",
          "text": [
            "sample_data/\n"
          ]
        }
      ]
    },
    {
      "cell_type": "code",
      "source": [
        "%%javascript\n",
        "\n",
        "var some_js = 4"
      ],
      "metadata": {
        "colab": {
          "base_uri": "https://localhost:8080/",
          "height": 17
        },
        "id": "Zt7KviTjC8nX",
        "outputId": "3656e35c-8448-4605-88c6-02a696a5e301"
      },
      "execution_count": 114,
      "outputs": [
        {
          "output_type": "display_data",
          "data": {
            "text/plain": [
              "<IPython.core.display.Javascript object>"
            ],
            "application/javascript": [
              "\n",
              "var some_js = 4\n"
            ]
          },
          "metadata": {}
        }
      ]
    },
    {
      "cell_type": "code",
      "source": [
        "some_js"
      ],
      "metadata": {
        "colab": {
          "base_uri": "https://localhost:8080/",
          "height": 168
        },
        "id": "hyAQ5DnODIRc",
        "outputId": "6a3fd21a-b323-4f60-efdb-9ac88818624f"
      },
      "execution_count": 115,
      "outputs": [
        {
          "output_type": "error",
          "ename": "NameError",
          "evalue": "ignored",
          "traceback": [
            "\u001b[0;31m---------------------------------------------------------------------------\u001b[0m",
            "\u001b[0;31mNameError\u001b[0m                                 Traceback (most recent call last)",
            "\u001b[0;32m<ipython-input-115-0534b358db14>\u001b[0m in \u001b[0;36m<module>\u001b[0;34m\u001b[0m\n\u001b[0;32m----> 1\u001b[0;31m \u001b[0msome_js\u001b[0m\u001b[0;34m\u001b[0m\u001b[0;34m\u001b[0m\u001b[0m\n\u001b[0m",
            "\u001b[0;31mNameError\u001b[0m: name 'some_js' is not defined"
          ]
        }
      ]
    },
    {
      "cell_type": "code",
      "source": [
        "%%javascript\n",
        "\n",
        "some_js + 4"
      ],
      "metadata": {
        "colab": {
          "base_uri": "https://localhost:8080/",
          "height": 17
        },
        "id": "LbHzH7_EDN7w",
        "outputId": "fe4d1934-da47-406e-a342-d0ba1800de3e"
      },
      "execution_count": 118,
      "outputs": [
        {
          "output_type": "display_data",
          "data": {
            "text/plain": [
              "<IPython.core.display.Javascript object>"
            ],
            "application/javascript": [
              "\n",
              "some_js + 4\n"
            ]
          },
          "metadata": {}
        }
      ]
    },
    {
      "cell_type": "markdown",
      "source": [
        "### Scalar Types"
      ],
      "metadata": {
        "id": "Mugttii9PyQ_"
      }
    },
    {
      "cell_type": "code",
      "source": [
        "None\n"
      ],
      "metadata": {
        "id": "VhevRbjzDZYi"
      },
      "execution_count": 119,
      "outputs": []
    },
    {
      "cell_type": "code",
      "source": [
        "str"
      ],
      "metadata": {
        "id": "3TlGl6rTQq9o"
      },
      "execution_count": null,
      "outputs": []
    },
    {
      "cell_type": "code",
      "source": [
        "bytes"
      ],
      "metadata": {
        "id": "hC-DVn4oQwGE"
      },
      "execution_count": null,
      "outputs": []
    },
    {
      "cell_type": "code",
      "source": [
        "float"
      ],
      "metadata": {
        "id": "sayz8zJ8RTWz"
      },
      "execution_count": null,
      "outputs": []
    },
    {
      "cell_type": "code",
      "source": [
        "bool"
      ],
      "metadata": {
        "id": "WH847XbtRVMD"
      },
      "execution_count": null,
      "outputs": []
    },
    {
      "cell_type": "code",
      "source": [
        "int"
      ],
      "metadata": {
        "id": "b1vXaQSNRWey"
      },
      "execution_count": null,
      "outputs": []
    },
    {
      "cell_type": "markdown",
      "source": [
        "#### Numeric types"
      ],
      "metadata": {
        "id": "Nd8dIW75RdoV"
      }
    },
    {
      "cell_type": "code",
      "source": [
        "i = 172345678 # integer type"
      ],
      "metadata": {
        "id": "1Y7fC3pARc2r"
      },
      "execution_count": 120,
      "outputs": []
    },
    {
      "cell_type": "code",
      "source": [
        "i**6"
      ],
      "metadata": {
        "colab": {
          "base_uri": "https://localhost:8080/"
        },
        "id": "6ea5udJARjIV",
        "outputId": "73372128-436e-44bc-8c5c-96dc3afafcfa"
      },
      "execution_count": 121,
      "outputs": [
        {
          "output_type": "execute_result",
          "data": {
            "text/plain": [
              "26206099229444118258038466874061514437123447485504"
            ]
          },
          "metadata": {},
          "execution_count": 121
        }
      ]
    },
    {
      "cell_type": "code",
      "source": [
        "f = 4.566 # float type"
      ],
      "metadata": {
        "id": "uD3sZZK1RlZW"
      },
      "execution_count": 122,
      "outputs": []
    },
    {
      "cell_type": "code",
      "source": [
        " f / 4"
      ],
      "metadata": {
        "colab": {
          "base_uri": "https://localhost:8080/"
        },
        "id": "5C844C_aR2hl",
        "outputId": "8c67cb0a-84d3-4986-d4f8-89294707df15"
      },
      "execution_count": 123,
      "outputs": [
        {
          "output_type": "execute_result",
          "data": {
            "text/plain": [
              "1.1415"
            ]
          },
          "metadata": {},
          "execution_count": 123
        }
      ]
    },
    {
      "cell_type": "code",
      "source": [
        "4 // 5"
      ],
      "metadata": {
        "colab": {
          "base_uri": "https://localhost:8080/"
        },
        "id": "fykCbWZiR5eZ",
        "outputId": "403a9c64-9b02-4f9f-9d44-98c4e29fc0ef"
      },
      "execution_count": 124,
      "outputs": [
        {
          "output_type": "execute_result",
          "data": {
            "text/plain": [
              "0"
            ]
          },
          "metadata": {},
          "execution_count": 124
        }
      ]
    },
    {
      "cell_type": "code",
      "source": [
        "s = \"Pneumonoultramicroscopicsilicovolcanoconiosis\""
      ],
      "metadata": {
        "id": "iMMnaR4qR7ws"
      },
      "execution_count": 125,
      "outputs": []
    },
    {
      "cell_type": "code",
      "source": [
        "list(s)"
      ],
      "metadata": {
        "colab": {
          "base_uri": "https://localhost:8080/"
        },
        "id": "v6nevX2nSON0",
        "outputId": "870aba08-1119-43b8-fd39-b33fea88bde7"
      },
      "execution_count": 126,
      "outputs": [
        {
          "output_type": "execute_result",
          "data": {
            "text/plain": [
              "['P',\n",
              " 'n',\n",
              " 'e',\n",
              " 'u',\n",
              " 'm',\n",
              " 'o',\n",
              " 'n',\n",
              " 'o',\n",
              " 'u',\n",
              " 'l',\n",
              " 't',\n",
              " 'r',\n",
              " 'a',\n",
              " 'm',\n",
              " 'i',\n",
              " 'c',\n",
              " 'r',\n",
              " 'o',\n",
              " 's',\n",
              " 'c',\n",
              " 'o',\n",
              " 'p',\n",
              " 'i',\n",
              " 'c',\n",
              " 's',\n",
              " 'i',\n",
              " 'l',\n",
              " 'i',\n",
              " 'c',\n",
              " 'o',\n",
              " 'v',\n",
              " 'o',\n",
              " 'l',\n",
              " 'c',\n",
              " 'a',\n",
              " 'n',\n",
              " 'o',\n",
              " 'c',\n",
              " 'o',\n",
              " 'n',\n",
              " 'i',\n",
              " 'o',\n",
              " 's',\n",
              " 'i',\n",
              " 's']"
            ]
          },
          "metadata": {},
          "execution_count": 126
        }
      ]
    },
    {
      "cell_type": "code",
      "source": [
        "without_diacritical_marks = \"أفاستسقيناكموها\""
      ],
      "metadata": {
        "id": "7k7pgPf-SP3b"
      },
      "execution_count": 131,
      "outputs": []
    },
    {
      "cell_type": "code",
      "source": [
        "list(without_diacritical_marks)"
      ],
      "metadata": {
        "colab": {
          "base_uri": "https://localhost:8080/"
        },
        "id": "3UmqNBfASf8j",
        "outputId": "d0855c02-6fec-470b-f6ce-8a4a145e178d"
      },
      "execution_count": 132,
      "outputs": [
        {
          "output_type": "execute_result",
          "data": {
            "text/plain": [
              "['أ', 'ف', 'ا', 'س', 'ت', 'س', 'ق', 'ي', 'ن', 'ا', 'ك', 'م', 'و', 'ه', 'ا']"
            ]
          },
          "metadata": {},
          "execution_count": 132
        }
      ]
    },
    {
      "cell_type": "code",
      "source": [
        "len(without_diacritical_marks)"
      ],
      "metadata": {
        "colab": {
          "base_uri": "https://localhost:8080/"
        },
        "id": "ew_u062qTT7h",
        "outputId": "6c77a97a-5068-4e33-b63d-e893e0ce091f"
      },
      "execution_count": 133,
      "outputs": [
        {
          "output_type": "execute_result",
          "data": {
            "text/plain": [
              "15"
            ]
          },
          "metadata": {},
          "execution_count": 133
        }
      ]
    },
    {
      "cell_type": "code",
      "source": [
        "with_diacritical_marks = \"أَفَاسْتَسْقَيْنَاكُمُوهَا\""
      ],
      "metadata": {
        "id": "_6gGjycQShe5"
      },
      "execution_count": 145,
      "outputs": []
    },
    {
      "cell_type": "code",
      "source": [
        "list(with_diacritical_marks)"
      ],
      "metadata": {
        "colab": {
          "base_uri": "https://localhost:8080/"
        },
        "id": "wsE9nvKOTGeE",
        "outputId": "8d2c42e8-82aa-4fa1-9e8f-6d927dea55d8"
      },
      "execution_count": 146,
      "outputs": [
        {
          "output_type": "execute_result",
          "data": {
            "text/plain": [
              "['أ',\n",
              " 'َ',\n",
              " 'ف',\n",
              " 'َ',\n",
              " 'ا',\n",
              " 'س',\n",
              " 'ْ',\n",
              " 'ت',\n",
              " 'َ',\n",
              " 'س',\n",
              " 'ْ',\n",
              " 'ق',\n",
              " 'َ',\n",
              " 'ي',\n",
              " 'ْ',\n",
              " 'ن',\n",
              " 'َ',\n",
              " 'ا',\n",
              " 'ك',\n",
              " 'ُ',\n",
              " 'م',\n",
              " 'ُ',\n",
              " 'و',\n",
              " 'ه',\n",
              " 'َ',\n",
              " 'ا']"
            ]
          },
          "metadata": {},
          "execution_count": 146
        }
      ]
    },
    {
      "cell_type": "code",
      "source": [
        "len(with_diacritical_marks)"
      ],
      "metadata": {
        "colab": {
          "base_uri": "https://localhost:8080/"
        },
        "id": "dYfj-pDuTHfp",
        "outputId": "4313b676-d234-4f8e-8507-1472c60d009f"
      },
      "execution_count": 136,
      "outputs": [
        {
          "output_type": "execute_result",
          "data": {
            "text/plain": [
              "26"
            ]
          },
          "metadata": {},
          "execution_count": 136
        }
      ]
    },
    {
      "cell_type": "code",
      "source": [
        "without_diacritical_marks[1]"
      ],
      "metadata": {
        "colab": {
          "base_uri": "https://localhost:8080/",
          "height": 38
        },
        "id": "fraBATb5TbZN",
        "outputId": "81250525-ca2a-47e5-ee10-08ab951a2f9a"
      },
      "execution_count": 140,
      "outputs": [
        {
          "output_type": "execute_result",
          "data": {
            "text/plain": [
              "'ف'"
            ],
            "application/vnd.google.colaboratory.intrinsic+json": {
              "type": "string"
            }
          },
          "metadata": {},
          "execution_count": 140
        }
      ]
    },
    {
      "cell_type": "code",
      "source": [
        "with_diacritical_marks[1]"
      ],
      "metadata": {
        "colab": {
          "base_uri": "https://localhost:8080/",
          "height": 38
        },
        "id": "3WwCIcZ5TjaT",
        "outputId": "068bb6dc-1e61-4dc3-ad4e-72f901605ec4"
      },
      "execution_count": 142,
      "outputs": [
        {
          "output_type": "execute_result",
          "data": {
            "text/plain": [
              "'َ'"
            ],
            "application/vnd.google.colaboratory.intrinsic+json": {
              "type": "string"
            }
          },
          "metadata": {},
          "execution_count": 142
        }
      ]
    },
    {
      "cell_type": "code",
      "source": [
        "template = \"{0:.2f} {1:s} are worth {2:d} USD\""
      ],
      "metadata": {
        "id": "C29HBFYsTlpA"
      },
      "execution_count": 148,
      "outputs": []
    },
    {
      "cell_type": "code",
      "source": [
        "sar = 88.1234\n",
        "template.format(sar, \"Saudi Riyals\", int(sar / 3.75))"
      ],
      "metadata": {
        "colab": {
          "base_uri": "https://localhost:8080/",
          "height": 38
        },
        "id": "kKguLm1mUmpQ",
        "outputId": "7a7a035e-162d-4a5d-b38d-8bdba31b5f78"
      },
      "execution_count": 154,
      "outputs": [
        {
          "output_type": "execute_result",
          "data": {
            "text/plain": [
              "'88.12 Saudi Riyals are worth 23 USD'"
            ],
            "application/vnd.google.colaboratory.intrinsic+json": {
              "type": "string"
            }
          },
          "metadata": {},
          "execution_count": 154
        }
      ]
    },
    {
      "cell_type": "code",
      "source": [],
      "metadata": {
        "id": "_RX2_qwDUyy_"
      },
      "execution_count": null,
      "outputs": []
    },
    {
      "cell_type": "markdown",
      "source": [
        "#### Booleans"
      ],
      "metadata": {
        "id": "Suwbi2nfVhOM"
      }
    },
    {
      "cell_type": "code",
      "source": [
        "True"
      ],
      "metadata": {
        "colab": {
          "base_uri": "https://localhost:8080/"
        },
        "id": "Wk_uasmzViC-",
        "outputId": "f57671b9-0b37-4ff4-f138-f92282fe205f"
      },
      "execution_count": 155,
      "outputs": [
        {
          "output_type": "execute_result",
          "data": {
            "text/plain": [
              "True"
            ]
          },
          "metadata": {},
          "execution_count": 155
        }
      ]
    },
    {
      "cell_type": "code",
      "source": [
        "False"
      ],
      "metadata": {
        "colab": {
          "base_uri": "https://localhost:8080/"
        },
        "id": "ysTRDjJ3Vkhs",
        "outputId": "e9944094-fc3f-408f-d3d1-ea7f01336f7c"
      },
      "execution_count": 156,
      "outputs": [
        {
          "output_type": "execute_result",
          "data": {
            "text/plain": [
              "False"
            ]
          },
          "metadata": {},
          "execution_count": 156
        }
      ]
    },
    {
      "cell_type": "code",
      "source": [
        "True and True"
      ],
      "metadata": {
        "colab": {
          "base_uri": "https://localhost:8080/"
        },
        "id": "1FD_mYh8VlXL",
        "outputId": "19f03c2a-34a7-4a14-ac6a-201fde85f83e"
      },
      "execution_count": 157,
      "outputs": [
        {
          "output_type": "execute_result",
          "data": {
            "text/plain": [
              "True"
            ]
          },
          "metadata": {},
          "execution_count": 157
        }
      ]
    },
    {
      "cell_type": "code",
      "source": [
        "True or False"
      ],
      "metadata": {
        "colab": {
          "base_uri": "https://localhost:8080/"
        },
        "id": "3Xnocf2oVn9a",
        "outputId": "766497c5-2dca-4048-c9c8-33e13d670c2e"
      },
      "execution_count": 158,
      "outputs": [
        {
          "output_type": "execute_result",
          "data": {
            "text/plain": [
              "True"
            ]
          },
          "metadata": {},
          "execution_count": 158
        }
      ]
    },
    {
      "cell_type": "code",
      "source": [
        "True and False"
      ],
      "metadata": {
        "colab": {
          "base_uri": "https://localhost:8080/"
        },
        "id": "u4vH7ju8VpvJ",
        "outputId": "dd65e255-bcb0-45a9-c70b-73a36df0975b"
      },
      "execution_count": 159,
      "outputs": [
        {
          "output_type": "execute_result",
          "data": {
            "text/plain": [
              "False"
            ]
          },
          "metadata": {},
          "execution_count": 159
        }
      ]
    },
    {
      "cell_type": "code",
      "source": [
        "False and False"
      ],
      "metadata": {
        "colab": {
          "base_uri": "https://localhost:8080/"
        },
        "id": "OCj00TpmVv9w",
        "outputId": "0e4bba29-8997-4b77-ca55-ce9e7e9b44b8"
      },
      "execution_count": 160,
      "outputs": [
        {
          "output_type": "execute_result",
          "data": {
            "text/plain": [
              "False"
            ]
          },
          "metadata": {},
          "execution_count": 160
        }
      ]
    },
    {
      "cell_type": "code",
      "source": [
        "False and True"
      ],
      "metadata": {
        "colab": {
          "base_uri": "https://localhost:8080/"
        },
        "id": "K0-UEfL2VxVH",
        "outputId": "c98c1660-8e5f-4d9a-b043-b155d3af67c1"
      },
      "execution_count": 161,
      "outputs": [
        {
          "output_type": "execute_result",
          "data": {
            "text/plain": [
              "False"
            ]
          },
          "metadata": {},
          "execution_count": 161
        }
      ]
    },
    {
      "cell_type": "code",
      "source": [
        "True or False"
      ],
      "metadata": {
        "colab": {
          "base_uri": "https://localhost:8080/"
        },
        "id": "UCmcRIYsVyqO",
        "outputId": "f4e7406c-3b7b-4720-a893-9726203b20a1"
      },
      "execution_count": 162,
      "outputs": [
        {
          "output_type": "execute_result",
          "data": {
            "text/plain": [
              "True"
            ]
          },
          "metadata": {},
          "execution_count": 162
        }
      ]
    },
    {
      "cell_type": "code",
      "source": [
        "False or True"
      ],
      "metadata": {
        "colab": {
          "base_uri": "https://localhost:8080/"
        },
        "id": "Eq91ZjJLV07X",
        "outputId": "e5756dc8-c40c-49e8-8f0b-a015db32173b"
      },
      "execution_count": 163,
      "outputs": [
        {
          "output_type": "execute_result",
          "data": {
            "text/plain": [
              "True"
            ]
          },
          "metadata": {},
          "execution_count": 163
        }
      ]
    },
    {
      "cell_type": "code",
      "source": [
        "False or False"
      ],
      "metadata": {
        "colab": {
          "base_uri": "https://localhost:8080/"
        },
        "id": "fIH9TmpTV2Ec",
        "outputId": "52d1e039-c7f3-4bd9-964e-77bb0133e3d0"
      },
      "execution_count": 164,
      "outputs": [
        {
          "output_type": "execute_result",
          "data": {
            "text/plain": [
              "False"
            ]
          },
          "metadata": {},
          "execution_count": 164
        }
      ]
    },
    {
      "cell_type": "code",
      "source": [
        "int(True)"
      ],
      "metadata": {
        "colab": {
          "base_uri": "https://localhost:8080/"
        },
        "id": "_dgkfdWXV3Is",
        "outputId": "0ee4705a-bf24-4123-ddeb-44eede9ea48c"
      },
      "execution_count": 165,
      "outputs": [
        {
          "output_type": "execute_result",
          "data": {
            "text/plain": [
              "1"
            ]
          },
          "metadata": {},
          "execution_count": 165
        }
      ]
    },
    {
      "cell_type": "code",
      "source": [
        "not True"
      ],
      "metadata": {
        "colab": {
          "base_uri": "https://localhost:8080/"
        },
        "id": "a3pVkTsyV7K2",
        "outputId": "f7e44847-29bd-4aed-c05f-30853aa2920a"
      },
      "execution_count": 166,
      "outputs": [
        {
          "output_type": "execute_result",
          "data": {
            "text/plain": [
              "False"
            ]
          },
          "metadata": {},
          "execution_count": 166
        }
      ]
    },
    {
      "cell_type": "code",
      "source": [
        "not False"
      ],
      "metadata": {
        "colab": {
          "base_uri": "https://localhost:8080/"
        },
        "id": "e-TVhGpCV_Ki",
        "outputId": "40bcaffe-21e8-4358-84e4-f2ba974f5062"
      },
      "execution_count": 167,
      "outputs": [
        {
          "output_type": "execute_result",
          "data": {
            "text/plain": [
              "True"
            ]
          },
          "metadata": {},
          "execution_count": 167
        }
      ]
    },
    {
      "cell_type": "code",
      "source": [],
      "metadata": {
        "id": "SUKqDXE1WBsM"
      },
      "execution_count": null,
      "outputs": []
    },
    {
      "cell_type": "markdown",
      "source": [
        "#### None"
      ],
      "metadata": {
        "id": "4_uWszsLWFfS"
      }
    },
    {
      "cell_type": "code",
      "source": [
        "a = None"
      ],
      "metadata": {
        "id": "oB84dyhcWGiM"
      },
      "execution_count": 168,
      "outputs": []
    },
    {
      "cell_type": "code",
      "source": [
        "a is None"
      ],
      "metadata": {
        "colab": {
          "base_uri": "https://localhost:8080/"
        },
        "id": "tsWvXPtrWJl6",
        "outputId": "83185388-5773-42c0-f662-502ff6e9a7ad"
      },
      "execution_count": 169,
      "outputs": [
        {
          "output_type": "execute_result",
          "data": {
            "text/plain": [
              "True"
            ]
          },
          "metadata": {},
          "execution_count": 169
        }
      ]
    },
    {
      "cell_type": "code",
      "source": [
        "b = 5 "
      ],
      "metadata": {
        "id": "K6deo5OoWK2n"
      },
      "execution_count": 171,
      "outputs": []
    },
    {
      "cell_type": "code",
      "source": [
        "b is None"
      ],
      "metadata": {
        "colab": {
          "base_uri": "https://localhost:8080/"
        },
        "id": "qA-_iJpfWNvT",
        "outputId": "a95af4d1-d22a-45e3-d5e7-e659a646dbfd"
      },
      "execution_count": 172,
      "outputs": [
        {
          "output_type": "execute_result",
          "data": {
            "text/plain": [
              "False"
            ]
          },
          "metadata": {},
          "execution_count": 172
        }
      ]
    },
    {
      "cell_type": "code",
      "source": [
        "b is not None"
      ],
      "metadata": {
        "colab": {
          "base_uri": "https://localhost:8080/"
        },
        "id": "3WnyFGbFWTmR",
        "outputId": "da40409b-8337-4609-b04a-df3eb2ad8658"
      },
      "execution_count": 173,
      "outputs": [
        {
          "output_type": "execute_result",
          "data": {
            "text/plain": [
              "True"
            ]
          },
          "metadata": {},
          "execution_count": 173
        }
      ]
    },
    {
      "cell_type": "code",
      "source": [
        "def add_and_maybe_multiply(a, b, c=None):\n",
        "    result = a + b\n",
        "    if c is not None:\n",
        "        result = result * c\n",
        "    return result"
      ],
      "metadata": {
        "id": "AGLLlUGJWVgM"
      },
      "execution_count": 174,
      "outputs": []
    },
    {
      "cell_type": "code",
      "source": [
        "add_and_maybe_multiply(2, 3)"
      ],
      "metadata": {
        "colab": {
          "base_uri": "https://localhost:8080/"
        },
        "id": "EVHL_McqWnq_",
        "outputId": "1f9e96ef-8eb7-42b9-bc23-666c7196a3ee"
      },
      "execution_count": 175,
      "outputs": [
        {
          "output_type": "execute_result",
          "data": {
            "text/plain": [
              "5"
            ]
          },
          "metadata": {},
          "execution_count": 175
        }
      ]
    },
    {
      "cell_type": "code",
      "source": [
        "add_and_maybe_multiply(2, 3, 4)"
      ],
      "metadata": {
        "colab": {
          "base_uri": "https://localhost:8080/"
        },
        "id": "h88sdUpBWp_T",
        "outputId": "9b657a49-bc6a-454d-909f-ee0d1afeef46"
      },
      "execution_count": 176,
      "outputs": [
        {
          "output_type": "execute_result",
          "data": {
            "text/plain": [
              "20"
            ]
          },
          "metadata": {},
          "execution_count": 176
        }
      ]
    },
    {
      "cell_type": "markdown",
      "source": [
        "### Dates and times"
      ],
      "metadata": {
        "id": "k-T_K0FBXASd"
      }
    },
    {
      "cell_type": "code",
      "source": [
        "import datetime"
      ],
      "metadata": {
        "id": "jvNq0aO1WsNx"
      },
      "execution_count": 177,
      "outputs": []
    },
    {
      "cell_type": "code",
      "source": [
        "dt = datetime.datetime(2011, 10, 29, 20, 30, 21)"
      ],
      "metadata": {
        "id": "XrKthTChXVeb"
      },
      "execution_count": 178,
      "outputs": []
    },
    {
      "cell_type": "code",
      "source": [
        "dt.hour"
      ],
      "metadata": {
        "colab": {
          "base_uri": "https://localhost:8080/"
        },
        "id": "dRYmabxrX0DI",
        "outputId": "71c6be74-9615-4a89-9535-4a2368b5f6ca"
      },
      "execution_count": 179,
      "outputs": [
        {
          "output_type": "execute_result",
          "data": {
            "text/plain": [
              "20"
            ]
          },
          "metadata": {},
          "execution_count": 179
        }
      ]
    },
    {
      "cell_type": "code",
      "source": [
        "dt.minute"
      ],
      "metadata": {
        "colab": {
          "base_uri": "https://localhost:8080/"
        },
        "id": "-HPA50dwX1nF",
        "outputId": "583d8bfb-b08d-4b6d-ec36-9859c8203e4e"
      },
      "execution_count": 180,
      "outputs": [
        {
          "output_type": "execute_result",
          "data": {
            "text/plain": [
              "30"
            ]
          },
          "metadata": {},
          "execution_count": 180
        }
      ]
    },
    {
      "cell_type": "code",
      "source": [
        "dt.microsecond"
      ],
      "metadata": {
        "colab": {
          "base_uri": "https://localhost:8080/"
        },
        "id": "cG-mQjIRX3y6",
        "outputId": "8f20aedc-0c6b-4729-faed-1fef6d881f54"
      },
      "execution_count": 181,
      "outputs": [
        {
          "output_type": "execute_result",
          "data": {
            "text/plain": [
              "0"
            ]
          },
          "metadata": {},
          "execution_count": 181
        }
      ]
    },
    {
      "cell_type": "code",
      "source": [
        "dt2 = datetime.datetime(2009, 10, 29, 20, 30, 21)"
      ],
      "metadata": {
        "id": "_GA34eOzX5qb"
      },
      "execution_count": 184,
      "outputs": []
    },
    {
      "cell_type": "code",
      "source": [
        "dt - dt2"
      ],
      "metadata": {
        "colab": {
          "base_uri": "https://localhost:8080/"
        },
        "id": "3kOwYgMFYUj3",
        "outputId": "5b52fe84-1ab4-4b65-8f04-2d11d4d072b4"
      },
      "execution_count": 185,
      "outputs": [
        {
          "output_type": "execute_result",
          "data": {
            "text/plain": [
              "datetime.timedelta(days=730)"
            ]
          },
          "metadata": {},
          "execution_count": 185
        }
      ]
    },
    {
      "cell_type": "code",
      "source": [],
      "metadata": {
        "id": "URko7TraYYJc"
      },
      "execution_count": null,
      "outputs": []
    },
    {
      "cell_type": "markdown",
      "source": [
        "## Control flow"
      ],
      "metadata": {
        "id": "1hkvHl2TYoeh"
      }
    },
    {
      "cell_type": "code",
      "source": [
        "x = 5\n",
        "if x < 0:\n",
        "    print(\"x is negative!\")"
      ],
      "metadata": {
        "id": "t5C5AsmoYpdn"
      },
      "execution_count": 187,
      "outputs": []
    },
    {
      "cell_type": "code",
      "source": [
        "x = 30000\n",
        "if x < 0:\n",
        "    print(\"x is negative!\")\n",
        "elif x == 0:\n",
        "    print(\"x is zero!\")\n",
        "elif 0 < x < 42:\n",
        "    print(\"x is between 0 and 42\")\n",
        "else:\n",
        "    print(\"x is greater than 42\")"
      ],
      "metadata": {
        "colab": {
          "base_uri": "https://localhost:8080/"
        },
        "id": "EPfnobm5YzVQ",
        "outputId": "6075d4ac-d988-49de-a40a-941e87af0864"
      },
      "execution_count": 191,
      "outputs": [
        {
          "output_type": "stream",
          "name": "stdout",
          "text": [
            "x is greater than 42\n"
          ]
        }
      ]
    },
    {
      "cell_type": "code",
      "source": [
        "x = -2\n",
        "if x > 0:\n",
        "    print(\"x is positive\")\n",
        "\n",
        "if x % 2 == 0:\n",
        "    print(\"x is even\")\n",
        "else:\n",
        "    print(\"x is odd\")"
      ],
      "metadata": {
        "colab": {
          "base_uri": "https://localhost:8080/"
        },
        "id": "gsRaCPlOZI-8",
        "outputId": "9e0992b7-9cc5-4c3d-e35c-a2fcbd902674"
      },
      "execution_count": 194,
      "outputs": [
        {
          "output_type": "stream",
          "name": "stdout",
          "text": [
            "x is even\n"
          ]
        }
      ]
    },
    {
      "cell_type": "code",
      "source": [],
      "metadata": {
        "id": "B1XxB7g0Zrou"
      },
      "execution_count": null,
      "outputs": []
    },
    {
      "cell_type": "markdown",
      "source": [
        "### for loops"
      ],
      "metadata": {
        "id": "9LSpoiS2Z1k6"
      }
    },
    {
      "cell_type": "code",
      "source": [
        "for value in collection:\n",
        "    # do something\n",
        "    pass\n"
      ],
      "metadata": {
        "id": "HfhNd6JfZ3W9"
      },
      "execution_count": null,
      "outputs": []
    },
    {
      "cell_type": "code",
      "source": [
        "sequence = [1, 2, None, 4, None, 5, 6, 7]\n",
        "total = 0\n",
        "for value in sequence:\n",
        "    if value is None:\n",
        "        continue\n",
        "    else:\n",
        "        total += value\n"
      ],
      "metadata": {
        "id": "firydhI_aDuo"
      },
      "execution_count": 195,
      "outputs": []
    },
    {
      "cell_type": "code",
      "source": [
        "total"
      ],
      "metadata": {
        "colab": {
          "base_uri": "https://localhost:8080/"
        },
        "id": "n5Pz5CnRanBK",
        "outputId": "a0e64ebc-44b6-4513-9417-a5e8d9cdef00"
      },
      "execution_count": 196,
      "outputs": [
        {
          "output_type": "execute_result",
          "data": {
            "text/plain": [
              "25"
            ]
          },
          "metadata": {},
          "execution_count": 196
        }
      ]
    },
    {
      "cell_type": "code",
      "source": [
        "sequence = [1, 2, None, 4, None, 5, 6, 7]\n",
        "total = 0\n",
        "for value in sequence:\n",
        "    if value is None:\n",
        "        break\n",
        "    else:\n",
        "        total += value\n"
      ],
      "metadata": {
        "id": "ee_TCYJRansm"
      },
      "execution_count": 197,
      "outputs": []
    },
    {
      "cell_type": "code",
      "source": [
        "total"
      ],
      "metadata": {
        "colab": {
          "base_uri": "https://localhost:8080/"
        },
        "id": "Oh6PFLoAaxe5",
        "outputId": "c1b42d9f-0281-42e0-f4c7-a8745e0fddbb"
      },
      "execution_count": 198,
      "outputs": [
        {
          "output_type": "execute_result",
          "data": {
            "text/plain": [
              "3"
            ]
          },
          "metadata": {},
          "execution_count": 198
        }
      ]
    },
    {
      "cell_type": "code",
      "source": [
        "for i in range(4):\n",
        "    for j in range(4):\n",
        "        for k in range(4):\n",
        "            if k > j:\n",
        "                break\n",
        "            else:\n",
        "                print((i, j, k))"
      ],
      "metadata": {
        "colab": {
          "base_uri": "https://localhost:8080/"
        },
        "id": "4Beve5rWazLi",
        "outputId": "00837c49-45e9-4bf3-bb92-e884a8d683b4"
      },
      "execution_count": 199,
      "outputs": [
        {
          "output_type": "stream",
          "name": "stdout",
          "text": [
            "(0, 0, 0)\n",
            "(0, 1, 0)\n",
            "(0, 1, 1)\n",
            "(0, 2, 0)\n",
            "(0, 2, 1)\n",
            "(0, 2, 2)\n",
            "(0, 3, 0)\n",
            "(0, 3, 1)\n",
            "(0, 3, 2)\n",
            "(0, 3, 3)\n",
            "(1, 0, 0)\n",
            "(1, 1, 0)\n",
            "(1, 1, 1)\n",
            "(1, 2, 0)\n",
            "(1, 2, 1)\n",
            "(1, 2, 2)\n",
            "(1, 3, 0)\n",
            "(1, 3, 1)\n",
            "(1, 3, 2)\n",
            "(1, 3, 3)\n",
            "(2, 0, 0)\n",
            "(2, 1, 0)\n",
            "(2, 1, 1)\n",
            "(2, 2, 0)\n",
            "(2, 2, 1)\n",
            "(2, 2, 2)\n",
            "(2, 3, 0)\n",
            "(2, 3, 1)\n",
            "(2, 3, 2)\n",
            "(2, 3, 3)\n",
            "(3, 0, 0)\n",
            "(3, 1, 0)\n",
            "(3, 1, 1)\n",
            "(3, 2, 0)\n",
            "(3, 2, 1)\n",
            "(3, 2, 2)\n",
            "(3, 3, 0)\n",
            "(3, 3, 1)\n",
            "(3, 3, 2)\n",
            "(3, 3, 3)\n"
          ]
        }
      ]
    },
    {
      "cell_type": "code",
      "source": [
        "x = 2\n",
        "print(x)\n",
        "while x < 1000:\n",
        "    x = x**2\n",
        "    print(x)"
      ],
      "metadata": {
        "colab": {
          "base_uri": "https://localhost:8080/"
        },
        "id": "VvPsa6cybH_B",
        "outputId": "923a1dc0-84b7-4e18-ca7d-8efdaf292e9e"
      },
      "execution_count": 210,
      "outputs": [
        {
          "output_type": "stream",
          "name": "stdout",
          "text": [
            "2\n",
            "4\n",
            "16\n",
            "256\n",
            "65536\n"
          ]
        }
      ]
    },
    {
      "cell_type": "code",
      "source": [
        "256**2"
      ],
      "metadata": {
        "colab": {
          "base_uri": "https://localhost:8080/"
        },
        "id": "LLNv2BWxblrD",
        "outputId": "c8bdeb85-5633-467d-86d4-2b39820c6e69"
      },
      "execution_count": 211,
      "outputs": [
        {
          "output_type": "execute_result",
          "data": {
            "text/plain": [
              "65536"
            ]
          },
          "metadata": {},
          "execution_count": 211
        }
      ]
    },
    {
      "cell_type": "code",
      "source": [
        "total = 1\n",
        "while True:\n",
        "    total *= 2\n",
        "    if total > 1000:\n",
        "        break"
      ],
      "metadata": {
        "id": "3mYRR11_bmjN"
      },
      "execution_count": 212,
      "outputs": []
    },
    {
      "cell_type": "code",
      "source": [
        "total"
      ],
      "metadata": {
        "colab": {
          "base_uri": "https://localhost:8080/"
        },
        "id": "XLHopCWIcfad",
        "outputId": "d05f948a-89cf-4534-fcbd-1146db173f2b"
      },
      "execution_count": 213,
      "outputs": [
        {
          "output_type": "execute_result",
          "data": {
            "text/plain": [
              "1024"
            ]
          },
          "metadata": {},
          "execution_count": 213
        }
      ]
    },
    {
      "cell_type": "code",
      "source": [],
      "metadata": {
        "id": "iKk-sCm-cg5q"
      },
      "execution_count": null,
      "outputs": []
    },
    {
      "cell_type": "markdown",
      "source": [
        "# 3. Built-in data structures, functions, and files (maybe!)"
      ],
      "metadata": {
        "id": "wZjDhshNtGv9"
      }
    },
    {
      "cell_type": "code",
      "source": [
        "# Is Married?, Salary, Job, Company, Age, Hire Date\n",
        "row = (True, 100_000, \"Data Analyst\", \"Ministry of Interior\", \"2022-02-01\")"
      ],
      "metadata": {
        "id": "0P2V_kIftLfC"
      },
      "execution_count": 1,
      "outputs": []
    },
    {
      "cell_type": "code",
      "source": [
        "row[1] = 100_000_000"
      ],
      "metadata": {
        "colab": {
          "base_uri": "https://localhost:8080/",
          "height": 168
        },
        "id": "ceqv1gA1xHKp",
        "outputId": "d31b69c2-c148-4084-b3a5-3e11442bd2fe"
      },
      "execution_count": 3,
      "outputs": [
        {
          "output_type": "error",
          "ename": "TypeError",
          "evalue": "ignored",
          "traceback": [
            "\u001b[0;31m---------------------------------------------------------------------------\u001b[0m",
            "\u001b[0;31mTypeError\u001b[0m                                 Traceback (most recent call last)",
            "\u001b[0;32m<ipython-input-3-d85b206b7071>\u001b[0m in \u001b[0;36m<module>\u001b[0;34m\u001b[0m\n\u001b[0;32m----> 1\u001b[0;31m \u001b[0mrow\u001b[0m\u001b[0;34m[\u001b[0m\u001b[0;36m1\u001b[0m\u001b[0;34m]\u001b[0m \u001b[0;34m=\u001b[0m \u001b[0;36m100_000_000\u001b[0m\u001b[0;34m\u001b[0m\u001b[0;34m\u001b[0m\u001b[0m\n\u001b[0m",
            "\u001b[0;31mTypeError\u001b[0m: 'tuple' object does not support item assignment"
          ]
        }
      ]
    },
    {
      "cell_type": "code",
      "source": [
        "t = (1, 2, 3, 4)"
      ],
      "metadata": {
        "id": "EmrQ1vN8xM5d"
      },
      "execution_count": 4,
      "outputs": []
    },
    {
      "cell_type": "code",
      "source": [
        "a, b, c, d = t"
      ],
      "metadata": {
        "id": "ip7VzMq7xiR-"
      },
      "execution_count": 5,
      "outputs": []
    },
    {
      "cell_type": "code",
      "source": [
        "a"
      ],
      "metadata": {
        "colab": {
          "base_uri": "https://localhost:8080/"
        },
        "id": "LrdWxg_exkpn",
        "outputId": "675e80f0-566e-4fee-91ac-7c9d9220bc51"
      },
      "execution_count": 6,
      "outputs": [
        {
          "output_type": "execute_result",
          "data": {
            "text/plain": [
              "1"
            ]
          },
          "metadata": {},
          "execution_count": 6
        }
      ]
    },
    {
      "cell_type": "code",
      "source": [
        "d"
      ],
      "metadata": {
        "colab": {
          "base_uri": "https://localhost:8080/"
        },
        "id": "tYrTWnyqxnUq",
        "outputId": "636546d6-9509-4631-d544-356e9aa5ba95"
      },
      "execution_count": 7,
      "outputs": [
        {
          "output_type": "execute_result",
          "data": {
            "text/plain": [
              "4"
            ]
          },
          "metadata": {},
          "execution_count": 7
        }
      ]
    },
    {
      "cell_type": "code",
      "source": [
        "# features, target\n",
        "row_0 = ((2.3, 4.5), 1)\n",
        "row_1 = ((6.7, 3.4), 0)\n",
        "row_2 = ((3.4, 5), 1)\n",
        "\n",
        "data = (row_0, row_1, row_2)\n",
        "\n",
        "for batch in data:\n",
        "    features, target = batch\n",
        "    print(features, target)"
      ],
      "metadata": {
        "colab": {
          "base_uri": "https://localhost:8080/"
        },
        "id": "uKHl1_AVxohS",
        "outputId": "67fec171-4782-4719-c86f-dfb9590d6d4d"
      },
      "execution_count": 10,
      "outputs": [
        {
          "output_type": "stream",
          "name": "stdout",
          "text": [
            "(2.3, 4.5) 1\n",
            "(6.7, 3.4) 0\n",
            "(3.4, 5) 1\n"
          ]
        }
      ]
    },
    {
      "cell_type": "code",
      "source": [
        "# Is Married?, Salary, Job, Company, Age, Hire Date\n",
        "row_as_list = [\n",
        "    True,\n",
        "    100_000,\n",
        "    \"Data Analyst\",\n",
        "    \"Ministry of Interior\",\n",
        "    \"2022-02-01\"\n",
        "]"
      ],
      "metadata": {
        "id": "s9S_G1FIywd0"
      },
      "execution_count": 11,
      "outputs": []
    },
    {
      "cell_type": "code",
      "source": [
        "row_as_list[1] = 100_000_000"
      ],
      "metadata": {
        "id": "RSo8AqENz9hw"
      },
      "execution_count": 12,
      "outputs": []
    },
    {
      "cell_type": "code",
      "source": [
        "row_as_list"
      ],
      "metadata": {
        "colab": {
          "base_uri": "https://localhost:8080/"
        },
        "id": "ScSBY1480CzF",
        "outputId": "b31be8c4-882e-4800-f46d-894026d312e0"
      },
      "execution_count": 13,
      "outputs": [
        {
          "output_type": "execute_result",
          "data": {
            "text/plain": [
              "[True, 100000000, 'Data Analyst', 'Ministry of Interior', '2022-02-01']"
            ]
          },
          "metadata": {},
          "execution_count": 13
        }
      ]
    },
    {
      "cell_type": "code",
      "source": [
        "row_as_list."
      ],
      "metadata": {
        "id": "R0OFriOb0EY0"
      },
      "execution_count": null,
      "outputs": []
    },
    {
      "cell_type": "code",
      "source": [
        "# features, target\n",
        "row_0 = [[2.3, 4.5], 1]\n",
        "row_1 = [[6.7, 3.4], 0]\n",
        "row_2 = [[3.4, 5], 1]\n",
        "\n",
        "data = [row_0, row_1, row_2]\n",
        "\n",
        "for batch in data:\n",
        "    features, target = batch\n",
        "    print(features, target)"
      ],
      "metadata": {
        "colab": {
          "base_uri": "https://localhost:8080/"
        },
        "id": "C31X9xu00WP5",
        "outputId": "2c04d8f2-74c1-4d4e-cf69-25f1e5a9eb00"
      },
      "execution_count": 14,
      "outputs": [
        {
          "output_type": "stream",
          "name": "stdout",
          "text": [
            "[2.3, 4.5] 1\n",
            "[6.7, 3.4] 0\n",
            "[3.4, 5] 1\n"
          ]
        }
      ]
    },
    {
      "cell_type": "code",
      "source": [
        "combined_features = []\n",
        "combined_target = []\n",
        "\n",
        "for batch in data:\n",
        "    features, target = batch\n",
        "    combined_features.append(features)\n",
        "    combined_target.append(target)\n"
      ],
      "metadata": {
        "id": "mab2n3LB0k3j"
      },
      "execution_count": 15,
      "outputs": []
    },
    {
      "cell_type": "code",
      "source": [
        "combined_features"
      ],
      "metadata": {
        "colab": {
          "base_uri": "https://localhost:8080/"
        },
        "id": "NVCpqBcQ04Pb",
        "outputId": "90afb30e-9936-4afb-8b9a-f7924d270fcb"
      },
      "execution_count": 16,
      "outputs": [
        {
          "output_type": "execute_result",
          "data": {
            "text/plain": [
              "[[2.3, 4.5], [6.7, 3.4], [3.4, 5]]"
            ]
          },
          "metadata": {},
          "execution_count": 16
        }
      ]
    },
    {
      "cell_type": "code",
      "source": [
        "combined_target"
      ],
      "metadata": {
        "colab": {
          "base_uri": "https://localhost:8080/"
        },
        "id": "GmkKq7Un05t5",
        "outputId": "2564f569-c5cc-48ac-e45c-ec293dff1e4f"
      },
      "execution_count": 17,
      "outputs": [
        {
          "output_type": "execute_result",
          "data": {
            "text/plain": [
              "[1, 0, 1]"
            ]
          },
          "metadata": {},
          "execution_count": 17
        }
      ]
    },
    {
      "cell_type": "code",
      "source": [
        "import collections\n",
        "\n",
        "articles = []\n",
        "word_count = {}\n",
        "\n",
        "for article in articles:\n",
        "    for word in article:\n",
        "        if word not in word_count:\n",
        "            word_count[word] = 1\n",
        "        else:\n",
        "            word_count[word] += 1\n"
      ],
      "metadata": {
        "id": "a6usZk_s09Eb"
      },
      "execution_count": null,
      "outputs": []
    },
    {
      "cell_type": "code",
      "source": [
        "import collections\n",
        "\n",
        "articles = []\n",
        "word_count = collections.defaultdict(lambda key: 0)\n",
        "\n",
        "for article in articles:\n",
        "    for word in article:\n",
        "        word_count[word] += 1\n"
      ],
      "metadata": {
        "id": "AgG6FG3J_SJF"
      },
      "execution_count": null,
      "outputs": []
    },
    {
      "cell_type": "markdown",
      "source": [
        "## Functions"
      ],
      "metadata": {
        "id": "ypEKNLwEWTfB"
      }
    },
    {
      "cell_type": "code",
      "source": [
        "def function_name(arg0, arg1, arg2):\n",
        "    return arg0, arg1, arg2"
      ],
      "metadata": {
        "id": "MA9sU08vWURL"
      },
      "execution_count": 3,
      "outputs": []
    },
    {
      "cell_type": "code",
      "source": [
        "t = function_name(1, 2, 3)"
      ],
      "metadata": {
        "id": "xPUNCG5tWyNL"
      },
      "execution_count": 5,
      "outputs": []
    },
    {
      "cell_type": "code",
      "source": [
        "type(t)"
      ],
      "metadata": {
        "colab": {
          "base_uri": "https://localhost:8080/"
        },
        "id": "b0vihztRXBCo",
        "outputId": "2f8ce907-dc83-40be-b07e-c598d8bbfbbb"
      },
      "execution_count": 6,
      "outputs": [
        {
          "output_type": "execute_result",
          "data": {
            "text/plain": [
              "tuple"
            ]
          },
          "metadata": {},
          "execution_count": 6
        }
      ]
    },
    {
      "cell_type": "code",
      "source": [
        "def function_without_return(s):\n",
        "    print(s)"
      ],
      "metadata": {
        "id": "raAs_cf4XQwh"
      },
      "execution_count": 7,
      "outputs": []
    },
    {
      "cell_type": "code",
      "source": [
        "value = function_without_return(\"All functions return a value!\")"
      ],
      "metadata": {
        "colab": {
          "base_uri": "https://localhost:8080/"
        },
        "id": "OCc4NnneXdVl",
        "outputId": "53fdeb8f-e539-4d2c-ace1-58b7c8aefbdf"
      },
      "execution_count": 9,
      "outputs": [
        {
          "output_type": "stream",
          "name": "stdout",
          "text": [
            "All functions return a value!\n"
          ]
        }
      ]
    },
    {
      "cell_type": "code",
      "source": [
        "value"
      ],
      "metadata": {
        "id": "y4EJQDreXioQ"
      },
      "execution_count": 10,
      "outputs": []
    },
    {
      "cell_type": "code",
      "source": [
        "type(value)"
      ],
      "metadata": {
        "colab": {
          "base_uri": "https://localhost:8080/"
        },
        "id": "PUccsXNTXwps",
        "outputId": "cbd7e7df-1329-4ed0-f9e7-569d8310fbca"
      },
      "execution_count": 11,
      "outputs": [
        {
          "output_type": "execute_result",
          "data": {
            "text/plain": [
              "NoneType"
            ]
          },
          "metadata": {},
          "execution_count": 11
        }
      ]
    },
    {
      "cell_type": "code",
      "source": [
        "states = [\n",
        "    \"   Alabama \",\n",
        "    \"Georgia!\",\n",
        "    \"Georgia\",\n",
        "    \"georgia\",\n",
        "    \"FlOrIda\",\n",
        "    \"south   carolina##\",\n",
        "    \"West virginia?\"\n",
        "]"
      ],
      "metadata": {
        "id": "bgiQQPUwXzA3"
      },
      "execution_count": 12,
      "outputs": []
    },
    {
      "cell_type": "code",
      "source": [
        "re.sub?"
      ],
      "metadata": {
        "id": "5LtvAgQocKAg"
      },
      "execution_count": 24,
      "outputs": []
    },
    {
      "cell_type": "code",
      "source": [
        "import re\n",
        "\n",
        "\n",
        "def clean_strings(strings):\n",
        "    result = []\n",
        "    for string in strings:\n",
        "        clean_string = string.strip()\n",
        "        clean_string = clean_string.title()\n",
        "        clean_string = re.sub(\"[!#?]\", \"\", clean_string)\n",
        "        clean_string = clean_string.replace(\"   \", \" \")\n",
        "        # clean_string = re.sub(\"[\\s]\", \" \", clean_string)\n",
        "        result.append(clean_string)\n",
        "    return result"
      ],
      "metadata": {
        "id": "TIMjwTgbZM_U"
      },
      "execution_count": 25,
      "outputs": []
    },
    {
      "cell_type": "code",
      "source": [
        "clean_strings(states)"
      ],
      "metadata": {
        "colab": {
          "base_uri": "https://localhost:8080/"
        },
        "id": "u2CLBGaXZ47Y",
        "outputId": "6ef2c4ab-f93a-496c-befa-aa24151b9d65"
      },
      "execution_count": 26,
      "outputs": [
        {
          "output_type": "execute_result",
          "data": {
            "text/plain": [
              "['Alabama',\n",
              " 'Georgia',\n",
              " 'Georgia',\n",
              " 'Georgia',\n",
              " 'Florida',\n",
              " 'South Carolina',\n",
              " 'West Virginia']"
            ]
          },
          "metadata": {},
          "execution_count": 26
        }
      ]
    },
    {
      "cell_type": "code",
      "source": [
        "def remove_punctuation(string):\n",
        "    return re.sub(\"[!#?]\", \"\", string)\n",
        "\n",
        "\n",
        "def replace_multiple_whitespace(string):\n",
        "    return string.replace(\"   \", \" \")\n",
        "\n",
        "\n",
        "def clean_strings(strings, functions):\n",
        "    result = []\n",
        "    for string in strings:\n",
        "        for function in functions:\n",
        "            string = function(string)\n",
        "        result.append(string)\n",
        "    return result\n"
      ],
      "metadata": {
        "id": "9206Ww5KZ8nj"
      },
      "execution_count": 30,
      "outputs": []
    },
    {
      "cell_type": "code",
      "source": [
        "fs = [\n",
        "  str.strip,\n",
        "  str.title,\n",
        "  remove_punctuation,\n",
        "  replace_multiple_whitespace,    \n",
        "]\n",
        "\n",
        "clean_strings(states, fs)"
      ],
      "metadata": {
        "colab": {
          "base_uri": "https://localhost:8080/"
        },
        "id": "3VkiLJBedx3Z",
        "outputId": "78747774-18ad-41d5-f1fd-05a4c2b59c5d"
      },
      "execution_count": 31,
      "outputs": [
        {
          "output_type": "execute_result",
          "data": {
            "text/plain": [
              "['Alabama',\n",
              " 'Georgia',\n",
              " 'Georgia',\n",
              " 'Georgia',\n",
              " 'Florida',\n",
              " 'South Carolina',\n",
              " 'West Virginia']"
            ]
          },
          "metadata": {},
          "execution_count": 31
        }
      ]
    },
    {
      "cell_type": "code",
      "source": [
        "\" \".join(\"asdfhs.    asdfasd. asdfasdf\".split())"
      ],
      "metadata": {
        "colab": {
          "base_uri": "https://localhost:8080/",
          "height": 38
        },
        "id": "Je3WrBAueGz8",
        "outputId": "a9cde5cf-9fe3-4743-bb7d-72e1a427973f"
      },
      "execution_count": 35,
      "outputs": [
        {
          "output_type": "execute_result",
          "data": {
            "text/plain": [
              "'asdfhs. asdfasd. asdfasdf'"
            ],
            "application/vnd.google.colaboratory.intrinsic+json": {
              "type": "string"
            }
          },
          "metadata": {},
          "execution_count": 35
        }
      ]
    },
    {
      "cell_type": "code",
      "source": [],
      "metadata": {
        "id": "NDSdA7f0g4Kz"
      },
      "execution_count": null,
      "outputs": []
    }
  ]
}
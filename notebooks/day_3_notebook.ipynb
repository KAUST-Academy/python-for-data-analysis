{
  "nbformat": 4,
  "nbformat_minor": 0,
  "metadata": {
    "colab": {
      "provenance": []
    },
    "kernelspec": {
      "name": "python3",
      "display_name": "Python 3"
    },
    "language_info": {
      "name": "python"
    }
  },
  "cells": [
    {
      "cell_type": "code",
      "execution_count": 1,
      "metadata": {
        "id": "vFjWjGBFnFmB"
      },
      "outputs": [],
      "source": [
        "import numpy as np"
      ]
    },
    {
      "cell_type": "code",
      "source": [],
      "metadata": {
        "id": "KNXN3n6wnI8Z"
      },
      "execution_count": null,
      "outputs": []
    },
    {
      "cell_type": "markdown",
      "source": [
        "# Numpy Basics"
      ],
      "metadata": {
        "id": "j-QHh8EvnJmO"
      }
    },
    {
      "cell_type": "markdown",
      "source": [
        "## Creating ndarrays"
      ],
      "metadata": {
        "id": "kczMTF4bnm2n"
      }
    },
    {
      "cell_type": "code",
      "source": [
        "data = [6, 7.5, 8, 0, 1.1, True]\n",
        "a = np.array(data)"
      ],
      "metadata": {
        "id": "rHrzvI5-nLmm"
      },
      "execution_count": 2,
      "outputs": []
    },
    {
      "cell_type": "code",
      "source": [
        "a"
      ],
      "metadata": {
        "colab": {
          "base_uri": "https://localhost:8080/"
        },
        "id": "0--iFr6bnXuh",
        "outputId": "c9f9f78f-1bc0-43bb-e9f5-795db2e8bf7c"
      },
      "execution_count": 3,
      "outputs": [
        {
          "output_type": "execute_result",
          "data": {
            "text/plain": [
              "array([6. , 7.5, 8. , 0. , 1.1, 1. ])"
            ]
          },
          "metadata": {},
          "execution_count": 3
        }
      ]
    },
    {
      "cell_type": "code",
      "source": [
        "a.dtype"
      ],
      "metadata": {
        "colab": {
          "base_uri": "https://localhost:8080/"
        },
        "id": "sSJiaekJnYov",
        "outputId": "7b52df7d-8105-45dd-e2c0-2a16124f0c6b"
      },
      "execution_count": 4,
      "outputs": [
        {
          "output_type": "execute_result",
          "data": {
            "text/plain": [
              "dtype('float64')"
            ]
          },
          "metadata": {},
          "execution_count": 4
        }
      ]
    },
    {
      "cell_type": "code",
      "source": [
        "data = [[[1], [2.3]], [[2], [4.6]], [[3], [1.4]]]\n",
        "b = np.array(data)\n",
        "print(b)\n",
        "print(b.ndim)\n",
        "print(b.shape)\n",
        "print(b.dtype)"
      ],
      "metadata": {
        "colab": {
          "base_uri": "https://localhost:8080/"
        },
        "id": "ktCDy7O3necZ",
        "outputId": "193f407d-0805-413e-caaa-cd132b04b521"
      },
      "execution_count": 9,
      "outputs": [
        {
          "output_type": "stream",
          "name": "stdout",
          "text": [
            "[[[1. ]\n",
            "  [2.3]]\n",
            "\n",
            " [[2. ]\n",
            "  [4.6]]\n",
            "\n",
            " [[3. ]\n",
            "  [1.4]]]\n",
            "3\n",
            "(3, 2, 1)\n",
            "float64\n"
          ]
        }
      ]
    },
    {
      "cell_type": "code",
      "source": [
        "np.ones(10)"
      ],
      "metadata": {
        "colab": {
          "base_uri": "https://localhost:8080/"
        },
        "id": "n1U-DXsKvXHw",
        "outputId": "b030eb31-3b27-4d9b-f7ae-a51df5076476"
      },
      "execution_count": 10,
      "outputs": [
        {
          "output_type": "execute_result",
          "data": {
            "text/plain": [
              "array([1., 1., 1., 1., 1., 1., 1., 1., 1., 1.])"
            ]
          },
          "metadata": {},
          "execution_count": 10
        }
      ]
    },
    {
      "cell_type": "code",
      "source": [
        "np.ones?"
      ],
      "metadata": {
        "id": "iFSNyMgJxYRh"
      },
      "execution_count": 11,
      "outputs": []
    },
    {
      "cell_type": "code",
      "source": [
        "np.ones((16, 8, 4))"
      ],
      "metadata": {
        "colab": {
          "base_uri": "https://localhost:8080/"
        },
        "id": "67Ix1uH9xbyl",
        "outputId": "cee2ecdd-8129-48e5-9488-cabbdc52e52c"
      },
      "execution_count": 12,
      "outputs": [
        {
          "output_type": "execute_result",
          "data": {
            "text/plain": [
              "array([[[1., 1., 1., 1.],\n",
              "        [1., 1., 1., 1.],\n",
              "        [1., 1., 1., 1.],\n",
              "        [1., 1., 1., 1.],\n",
              "        [1., 1., 1., 1.],\n",
              "        [1., 1., 1., 1.],\n",
              "        [1., 1., 1., 1.],\n",
              "        [1., 1., 1., 1.]],\n",
              "\n",
              "       [[1., 1., 1., 1.],\n",
              "        [1., 1., 1., 1.],\n",
              "        [1., 1., 1., 1.],\n",
              "        [1., 1., 1., 1.],\n",
              "        [1., 1., 1., 1.],\n",
              "        [1., 1., 1., 1.],\n",
              "        [1., 1., 1., 1.],\n",
              "        [1., 1., 1., 1.]],\n",
              "\n",
              "       [[1., 1., 1., 1.],\n",
              "        [1., 1., 1., 1.],\n",
              "        [1., 1., 1., 1.],\n",
              "        [1., 1., 1., 1.],\n",
              "        [1., 1., 1., 1.],\n",
              "        [1., 1., 1., 1.],\n",
              "        [1., 1., 1., 1.],\n",
              "        [1., 1., 1., 1.]],\n",
              "\n",
              "       [[1., 1., 1., 1.],\n",
              "        [1., 1., 1., 1.],\n",
              "        [1., 1., 1., 1.],\n",
              "        [1., 1., 1., 1.],\n",
              "        [1., 1., 1., 1.],\n",
              "        [1., 1., 1., 1.],\n",
              "        [1., 1., 1., 1.],\n",
              "        [1., 1., 1., 1.]],\n",
              "\n",
              "       [[1., 1., 1., 1.],\n",
              "        [1., 1., 1., 1.],\n",
              "        [1., 1., 1., 1.],\n",
              "        [1., 1., 1., 1.],\n",
              "        [1., 1., 1., 1.],\n",
              "        [1., 1., 1., 1.],\n",
              "        [1., 1., 1., 1.],\n",
              "        [1., 1., 1., 1.]],\n",
              "\n",
              "       [[1., 1., 1., 1.],\n",
              "        [1., 1., 1., 1.],\n",
              "        [1., 1., 1., 1.],\n",
              "        [1., 1., 1., 1.],\n",
              "        [1., 1., 1., 1.],\n",
              "        [1., 1., 1., 1.],\n",
              "        [1., 1., 1., 1.],\n",
              "        [1., 1., 1., 1.]],\n",
              "\n",
              "       [[1., 1., 1., 1.],\n",
              "        [1., 1., 1., 1.],\n",
              "        [1., 1., 1., 1.],\n",
              "        [1., 1., 1., 1.],\n",
              "        [1., 1., 1., 1.],\n",
              "        [1., 1., 1., 1.],\n",
              "        [1., 1., 1., 1.],\n",
              "        [1., 1., 1., 1.]],\n",
              "\n",
              "       [[1., 1., 1., 1.],\n",
              "        [1., 1., 1., 1.],\n",
              "        [1., 1., 1., 1.],\n",
              "        [1., 1., 1., 1.],\n",
              "        [1., 1., 1., 1.],\n",
              "        [1., 1., 1., 1.],\n",
              "        [1., 1., 1., 1.],\n",
              "        [1., 1., 1., 1.]],\n",
              "\n",
              "       [[1., 1., 1., 1.],\n",
              "        [1., 1., 1., 1.],\n",
              "        [1., 1., 1., 1.],\n",
              "        [1., 1., 1., 1.],\n",
              "        [1., 1., 1., 1.],\n",
              "        [1., 1., 1., 1.],\n",
              "        [1., 1., 1., 1.],\n",
              "        [1., 1., 1., 1.]],\n",
              "\n",
              "       [[1., 1., 1., 1.],\n",
              "        [1., 1., 1., 1.],\n",
              "        [1., 1., 1., 1.],\n",
              "        [1., 1., 1., 1.],\n",
              "        [1., 1., 1., 1.],\n",
              "        [1., 1., 1., 1.],\n",
              "        [1., 1., 1., 1.],\n",
              "        [1., 1., 1., 1.]],\n",
              "\n",
              "       [[1., 1., 1., 1.],\n",
              "        [1., 1., 1., 1.],\n",
              "        [1., 1., 1., 1.],\n",
              "        [1., 1., 1., 1.],\n",
              "        [1., 1., 1., 1.],\n",
              "        [1., 1., 1., 1.],\n",
              "        [1., 1., 1., 1.],\n",
              "        [1., 1., 1., 1.]],\n",
              "\n",
              "       [[1., 1., 1., 1.],\n",
              "        [1., 1., 1., 1.],\n",
              "        [1., 1., 1., 1.],\n",
              "        [1., 1., 1., 1.],\n",
              "        [1., 1., 1., 1.],\n",
              "        [1., 1., 1., 1.],\n",
              "        [1., 1., 1., 1.],\n",
              "        [1., 1., 1., 1.]],\n",
              "\n",
              "       [[1., 1., 1., 1.],\n",
              "        [1., 1., 1., 1.],\n",
              "        [1., 1., 1., 1.],\n",
              "        [1., 1., 1., 1.],\n",
              "        [1., 1., 1., 1.],\n",
              "        [1., 1., 1., 1.],\n",
              "        [1., 1., 1., 1.],\n",
              "        [1., 1., 1., 1.]],\n",
              "\n",
              "       [[1., 1., 1., 1.],\n",
              "        [1., 1., 1., 1.],\n",
              "        [1., 1., 1., 1.],\n",
              "        [1., 1., 1., 1.],\n",
              "        [1., 1., 1., 1.],\n",
              "        [1., 1., 1., 1.],\n",
              "        [1., 1., 1., 1.],\n",
              "        [1., 1., 1., 1.]],\n",
              "\n",
              "       [[1., 1., 1., 1.],\n",
              "        [1., 1., 1., 1.],\n",
              "        [1., 1., 1., 1.],\n",
              "        [1., 1., 1., 1.],\n",
              "        [1., 1., 1., 1.],\n",
              "        [1., 1., 1., 1.],\n",
              "        [1., 1., 1., 1.],\n",
              "        [1., 1., 1., 1.]],\n",
              "\n",
              "       [[1., 1., 1., 1.],\n",
              "        [1., 1., 1., 1.],\n",
              "        [1., 1., 1., 1.],\n",
              "        [1., 1., 1., 1.],\n",
              "        [1., 1., 1., 1.],\n",
              "        [1., 1., 1., 1.],\n",
              "        [1., 1., 1., 1.],\n",
              "        [1., 1., 1., 1.]]])"
            ]
          },
          "metadata": {},
          "execution_count": 12
        }
      ]
    },
    {
      "cell_type": "code",
      "source": [],
      "metadata": {
        "id": "OvFpcPzgxjPs"
      },
      "execution_count": null,
      "outputs": []
    },
    {
      "cell_type": "markdown",
      "source": [
        "## Basic indexing and slicing"
      ],
      "metadata": {
        "id": "0oeiaMIB23xd"
      }
    },
    {
      "cell_type": "code",
      "source": [
        "arr = np.arange(start=42, stop=100, step=3)"
      ],
      "metadata": {
        "id": "PkK1ccfI25QX"
      },
      "execution_count": 13,
      "outputs": []
    },
    {
      "cell_type": "code",
      "source": [
        "arr"
      ],
      "metadata": {
        "colab": {
          "base_uri": "https://localhost:8080/"
        },
        "id": "jXvvB8LV-UDZ",
        "outputId": "d5ae64bc-32e0-4c8f-c820-a7825c4afd2d"
      },
      "execution_count": 14,
      "outputs": [
        {
          "output_type": "execute_result",
          "data": {
            "text/plain": [
              "array([42, 45, 48, 51, 54, 57, 60, 63, 66, 69, 72, 75, 78, 81, 84, 87, 90,\n",
              "       93, 96, 99])"
            ]
          },
          "metadata": {},
          "execution_count": 14
        }
      ]
    },
    {
      "cell_type": "code",
      "source": [
        "arr[0]"
      ],
      "metadata": {
        "colab": {
          "base_uri": "https://localhost:8080/"
        },
        "id": "PVNY5O2B-VCc",
        "outputId": "45b5e840-caef-4e3e-804f-a73df14b9540"
      },
      "execution_count": 15,
      "outputs": [
        {
          "output_type": "execute_result",
          "data": {
            "text/plain": [
              "42"
            ]
          },
          "metadata": {},
          "execution_count": 15
        }
      ]
    },
    {
      "cell_type": "code",
      "source": [
        "arr[5]"
      ],
      "metadata": {
        "colab": {
          "base_uri": "https://localhost:8080/"
        },
        "id": "KSmBaYeQ-lFj",
        "outputId": "26e5d58c-24e7-4899-83f7-4de17fdc6caa"
      },
      "execution_count": 16,
      "outputs": [
        {
          "output_type": "execute_result",
          "data": {
            "text/plain": [
              "57"
            ]
          },
          "metadata": {},
          "execution_count": 16
        }
      ]
    },
    {
      "cell_type": "code",
      "source": [
        "arr[6:13]"
      ],
      "metadata": {
        "colab": {
          "base_uri": "https://localhost:8080/"
        },
        "id": "JNUuHYsO-rrA",
        "outputId": "bc70bdbf-7baf-4691-b4ca-33df82656d41"
      },
      "execution_count": 18,
      "outputs": [
        {
          "output_type": "execute_result",
          "data": {
            "text/plain": [
              "array([60, 63, 66, 69, 72, 75, 78])"
            ]
          },
          "metadata": {},
          "execution_count": 18
        }
      ]
    },
    {
      "cell_type": "code",
      "source": [
        "arr[6:13] = 12"
      ],
      "metadata": {
        "id": "zZPVoOGz-zWU"
      },
      "execution_count": 19,
      "outputs": []
    },
    {
      "cell_type": "code",
      "source": [
        "arr"
      ],
      "metadata": {
        "colab": {
          "base_uri": "https://localhost:8080/"
        },
        "id": "QAt6ShAp_Gqu",
        "outputId": "0e99a348-e397-4b1c-abf9-a9307a0cd964"
      },
      "execution_count": 20,
      "outputs": [
        {
          "output_type": "execute_result",
          "data": {
            "text/plain": [
              "array([42, 45, 48, 51, 54, 57, 12, 12, 12, 12, 12, 12, 12, 81, 84, 87, 90,\n",
              "       93, 96, 99])"
            ]
          },
          "metadata": {},
          "execution_count": 20
        }
      ]
    },
    {
      "cell_type": "code",
      "source": [
        "arr[6:13] = np.array([1, 2, 3, 4, 5, 6, 7])"
      ],
      "metadata": {
        "id": "6Z5jcf2x_HPZ"
      },
      "execution_count": 21,
      "outputs": []
    },
    {
      "cell_type": "code",
      "source": [
        "arr"
      ],
      "metadata": {
        "colab": {
          "base_uri": "https://localhost:8080/"
        },
        "id": "82wqD9v6_OBZ",
        "outputId": "c8a6a004-75fd-4304-9fa2-f252ba264699"
      },
      "execution_count": 22,
      "outputs": [
        {
          "output_type": "execute_result",
          "data": {
            "text/plain": [
              "array([42, 45, 48, 51, 54, 57,  1,  2,  3,  4,  5,  6,  7, 81, 84, 87, 90,\n",
              "       93, 96, 99])"
            ]
          },
          "metadata": {},
          "execution_count": 22
        }
      ]
    },
    {
      "cell_type": "code",
      "source": [
        "arr"
      ],
      "metadata": {
        "colab": {
          "base_uri": "https://localhost:8080/"
        },
        "id": "4sVSZ7TV_Ow6",
        "outputId": "fc30152f-0d23-4173-f351-40c9728d3157"
      },
      "execution_count": 23,
      "outputs": [
        {
          "output_type": "execute_result",
          "data": {
            "text/plain": [
              "array([42, 45, 48, 51, 54, 57,  1,  2,  3,  4,  5,  6,  7, 81, 84, 87, 90,\n",
              "       93, 96, 99])"
            ]
          },
          "metadata": {},
          "execution_count": 23
        }
      ]
    },
    {
      "cell_type": "code",
      "source": [
        "mask = np.array([False] * arr.size)\n",
        "mask[8:10] = True\n",
        "mask[14:20] = True"
      ],
      "metadata": {
        "id": "WrmB8oH5_yGW"
      },
      "execution_count": 42,
      "outputs": []
    },
    {
      "cell_type": "code",
      "source": [
        "mask"
      ],
      "metadata": {
        "colab": {
          "base_uri": "https://localhost:8080/"
        },
        "id": "vWR91wIYA95b",
        "outputId": "7172c4d5-4045-4ecc-fb96-099650b26de9"
      },
      "execution_count": 43,
      "outputs": [
        {
          "output_type": "execute_result",
          "data": {
            "text/plain": [
              "array([False, False, False, False, False, False, False, False,  True,\n",
              "        True, False, False, False, False,  True,  True,  True,  True,\n",
              "        True,  True])"
            ]
          },
          "metadata": {},
          "execution_count": 43
        }
      ]
    },
    {
      "cell_type": "code",
      "source": [
        "arr[mask]"
      ],
      "metadata": {
        "colab": {
          "base_uri": "https://localhost:8080/"
        },
        "id": "-knOprVS_1sd",
        "outputId": "34e1f45d-ee7f-49c5-9c3b-07753db09229"
      },
      "execution_count": 44,
      "outputs": [
        {
          "output_type": "execute_result",
          "data": {
            "text/plain": [
              "array([ 3,  4, 84, 87, 90, 93, 96, 99])"
            ]
          },
          "metadata": {},
          "execution_count": 44
        }
      ]
    },
    {
      "cell_type": "code",
      "source": [
        "arr1 = np.array([1])\n",
        "print(arr1)\n",
        "print(arr1.shape)\n",
        "print(arr1.ndim)"
      ],
      "metadata": {
        "colab": {
          "base_uri": "https://localhost:8080/"
        },
        "id": "Hf0U-Um5AUzk",
        "outputId": "0cb3b960-2598-4407-c789-fa96cacfe4ae"
      },
      "execution_count": 55,
      "outputs": [
        {
          "output_type": "stream",
          "name": "stdout",
          "text": [
            "[1]\n",
            "(1,)\n",
            "1\n"
          ]
        }
      ]
    },
    {
      "cell_type": "markdown",
      "source": [
        "# Generate random numbers"
      ],
      "metadata": {
        "id": "srN-FKxgElFZ"
      }
    },
    {
      "cell_type": "code",
      "source": [
        "import numpy as np"
      ],
      "metadata": {
        "id": "F-5mtsT6E32Y"
      },
      "execution_count": 1,
      "outputs": []
    },
    {
      "cell_type": "code",
      "source": [
        "np.random.standard_normal((100, 100, 100))"
      ],
      "metadata": {
        "colab": {
          "base_uri": "https://localhost:8080/"
        },
        "id": "aqiISf5cEnZ9",
        "outputId": "2eae069a-3d7a-4fc4-ce1d-d2d659e7f7dc"
      },
      "execution_count": 5,
      "outputs": [
        {
          "output_type": "execute_result",
          "data": {
            "text/plain": [
              "array([[[-7.93744703e-01, -2.28860341e-01,  1.69345218e+00, ...,\n",
              "          1.89090212e-01, -5.48292031e-01,  3.14575765e-01],\n",
              "        [-8.34015889e-02,  7.19332608e-01, -1.09476238e+00, ...,\n",
              "          7.26072242e-01,  9.88101138e-01, -1.46558166e+00],\n",
              "        [ 3.14731040e-01, -1.99398292e+00,  2.55131108e-01, ...,\n",
              "         -5.58136957e-01,  2.14138178e-01,  5.44203285e-01],\n",
              "        ...,\n",
              "        [ 1.87231630e-01, -4.82009452e-01, -1.11351907e+00, ...,\n",
              "          6.32326052e-01,  1.41081633e+00, -1.83703938e+00],\n",
              "        [ 7.25072472e-01, -4.88027071e-01,  5.20985993e-02, ...,\n",
              "          9.25423562e-01,  1.43217720e+00,  5.45849262e-02],\n",
              "        [ 7.03643867e-01,  1.35080548e+00,  1.01165397e+00, ...,\n",
              "          1.70116624e+00, -1.68977317e-01,  8.07043204e-01]],\n",
              "\n",
              "       [[ 1.11242680e+00, -4.57191799e-01, -3.59630258e-01, ...,\n",
              "          1.98041552e+00,  8.95506588e-01, -6.10607120e-01],\n",
              "        [-1.66967335e-03, -5.08307246e-01,  4.06620091e-01, ...,\n",
              "          9.06195625e-01,  7.68828684e-01, -1.00508228e+00],\n",
              "        [-1.00022542e+00, -1.19401181e+00, -5.82970311e-01, ...,\n",
              "          6.25320026e-01, -5.70012167e-01,  5.98448738e-01],\n",
              "        ...,\n",
              "        [ 4.33071473e-01,  9.08926604e-01, -3.15278896e-01, ...,\n",
              "         -8.79917293e-01,  7.56985765e-01, -4.20296010e-01],\n",
              "        [ 1.58916658e+00,  1.35784408e+00, -2.54531972e-01, ...,\n",
              "         -5.85255457e-01,  9.47770788e-01,  2.66673085e-01],\n",
              "        [ 1.35794988e-01,  1.12066323e+00,  5.64219760e-01, ...,\n",
              "          4.04170053e-01, -5.31306104e-01,  4.53860612e-01]],\n",
              "\n",
              "       [[-1.33577550e+00, -4.10621771e-01,  7.09131907e-02, ...,\n",
              "          1.60924131e-01,  4.11679042e-01, -1.99634341e+00],\n",
              "        [-4.65688454e-01,  2.23442008e-01,  1.15640116e+00, ...,\n",
              "          1.01273199e+00,  5.12552502e-01,  4.81045769e-01],\n",
              "        [ 9.42465025e-02,  6.81202193e-02, -3.25877554e-01, ...,\n",
              "          4.13703017e-01, -1.17495504e-01,  2.48153369e+00],\n",
              "        ...,\n",
              "        [-7.86067859e-01,  6.03545650e-02,  1.04549901e+00, ...,\n",
              "          1.12433522e+00,  3.34975923e-01,  3.08232610e-01],\n",
              "        [ 4.20607369e-01, -1.30711734e+00, -5.23394821e-01, ...,\n",
              "          9.26213065e-02, -8.15075825e-01,  5.33422164e-02],\n",
              "        [-8.91507009e-01, -2.67235195e-01,  2.67587375e-02, ...,\n",
              "         -7.67161381e-01, -1.24918270e-01, -1.53387494e-01]],\n",
              "\n",
              "       ...,\n",
              "\n",
              "       [[-5.13966164e-01,  6.51667553e-01,  1.14951085e-01, ...,\n",
              "          1.07720632e+00, -1.11711714e+00, -6.22907739e-01],\n",
              "        [-4.28318627e-01,  6.77744078e-01,  1.17176933e+00, ...,\n",
              "         -1.43100964e+00, -4.52035397e-01,  1.29535985e+00],\n",
              "        [ 3.71394492e-01,  7.76764745e-01,  9.79027331e-01, ...,\n",
              "         -4.67801451e-01,  4.60711433e-01, -1.60117617e+00],\n",
              "        ...,\n",
              "        [ 4.41407196e-01, -3.40997422e-01, -7.81268414e-01, ...,\n",
              "          1.17325086e+00,  8.90906696e-01, -8.46637393e-01],\n",
              "        [ 1.85269184e+00, -1.24039134e+00,  3.90139105e-01, ...,\n",
              "         -2.69546512e+00,  1.18219685e+00, -1.36414947e-01],\n",
              "        [-9.41645378e-01, -2.19764149e+00, -3.71529869e-01, ...,\n",
              "         -1.21171921e+00,  9.55603917e-01, -4.92794526e-01]],\n",
              "\n",
              "       [[-3.16179262e-01, -3.21553697e-01, -1.54078092e+00, ...,\n",
              "         -1.32020136e+00,  7.18909497e-02, -1.16635070e-01],\n",
              "        [-5.06955370e-01, -2.78390971e-02, -1.24535152e+00, ...,\n",
              "          7.91481126e-01, -2.15990350e+00, -3.50317146e-01],\n",
              "        [ 1.33348187e+00, -1.46225334e+00,  7.76968208e-02, ...,\n",
              "         -3.20972217e-01,  1.06616185e+00,  1.23326966e+00],\n",
              "        ...,\n",
              "        [-1.24260911e-01,  1.31205274e+00, -4.53719572e-01, ...,\n",
              "         -5.38431394e-02,  9.74212260e-01, -5.66486224e-01],\n",
              "        [ 4.02635650e-01,  1.22753255e-01, -6.97173155e-01, ...,\n",
              "          1.52844018e+00,  1.08979019e+00, -2.43868117e+00],\n",
              "        [ 1.69856212e+00,  2.50883416e-01,  4.59041913e-01, ...,\n",
              "         -1.55912680e+00,  1.22513833e-01,  3.44282064e+00]],\n",
              "\n",
              "       [[ 6.75064118e-02,  5.25021606e-01,  2.01081400e-02, ...,\n",
              "         -1.11549105e+00,  4.57141772e-01,  1.93729834e+00],\n",
              "        [ 3.45409622e-01, -5.03834238e-01, -3.66308030e-01, ...,\n",
              "          1.33303977e+00, -1.07318262e+00, -1.91882329e-01],\n",
              "        [ 7.22445266e-01, -4.27550422e-01, -8.03212166e-02, ...,\n",
              "          6.52035837e-01,  7.70246916e-01, -5.38379955e-01],\n",
              "        ...,\n",
              "        [-1.45965537e-01,  6.06192925e-01, -7.48493248e-01, ...,\n",
              "         -1.26672133e-01, -2.89918936e-01,  1.63605098e-01],\n",
              "        [-1.11172141e-01, -3.31733935e-01, -6.89581084e-01, ...,\n",
              "          3.19755121e-01, -3.14624233e-01,  5.71862058e-01],\n",
              "        [-1.00391553e+00, -5.06171122e-01,  2.28865947e+00, ...,\n",
              "         -5.63010255e-01, -2.98600575e-01,  1.30138442e+00]]])"
            ]
          },
          "metadata": {},
          "execution_count": 5
        }
      ]
    },
    {
      "cell_type": "code",
      "source": [
        "import math\n",
        "\n",
        "arr = np.random.standard_normal((1000, 1000, 1000))\n",
        "result = np.empty(arr.shape)\n",
        "\n",
        "for i in range(arr.shape[0]):\n",
        "    for j in range(arr.shape[1]):\n",
        "        for k in range(arr.shape[2]):\n",
        "            result[i, j, k] = math.sin(arr[i, j, k])\n",
        "\n"
      ],
      "metadata": {
        "colab": {
          "base_uri": "https://localhost:8080/",
          "height": 239
        },
        "id": "7D0pf9oEEvMT",
        "outputId": "4c18730e-9edc-4bf3-b482-a484950bbbf1"
      },
      "execution_count": 10,
      "outputs": [
        {
          "output_type": "error",
          "ename": "KeyboardInterrupt",
          "evalue": "ignored",
          "traceback": [
            "\u001b[0;31m---------------------------------------------------------------------------\u001b[0m",
            "\u001b[0;31mKeyboardInterrupt\u001b[0m                         Traceback (most recent call last)",
            "\u001b[0;32m<ipython-input-10-46f33a1606db>\u001b[0m in \u001b[0;36m<module>\u001b[0;34m\u001b[0m\n\u001b[1;32m      7\u001b[0m     \u001b[0;32mfor\u001b[0m \u001b[0mj\u001b[0m \u001b[0;32min\u001b[0m \u001b[0mrange\u001b[0m\u001b[0;34m(\u001b[0m\u001b[0marr\u001b[0m\u001b[0;34m.\u001b[0m\u001b[0mshape\u001b[0m\u001b[0;34m[\u001b[0m\u001b[0;36m1\u001b[0m\u001b[0;34m]\u001b[0m\u001b[0;34m)\u001b[0m\u001b[0;34m:\u001b[0m\u001b[0;34m\u001b[0m\u001b[0;34m\u001b[0m\u001b[0m\n\u001b[1;32m      8\u001b[0m         \u001b[0;32mfor\u001b[0m \u001b[0mk\u001b[0m \u001b[0;32min\u001b[0m \u001b[0mrange\u001b[0m\u001b[0;34m(\u001b[0m\u001b[0marr\u001b[0m\u001b[0;34m.\u001b[0m\u001b[0mshape\u001b[0m\u001b[0;34m[\u001b[0m\u001b[0;36m2\u001b[0m\u001b[0;34m]\u001b[0m\u001b[0;34m)\u001b[0m\u001b[0;34m:\u001b[0m\u001b[0;34m\u001b[0m\u001b[0;34m\u001b[0m\u001b[0m\n\u001b[0;32m----> 9\u001b[0;31m             \u001b[0mresult\u001b[0m\u001b[0;34m[\u001b[0m\u001b[0mi\u001b[0m\u001b[0;34m,\u001b[0m \u001b[0mj\u001b[0m\u001b[0;34m,\u001b[0m \u001b[0mk\u001b[0m\u001b[0;34m]\u001b[0m \u001b[0;34m=\u001b[0m \u001b[0mmath\u001b[0m\u001b[0;34m.\u001b[0m\u001b[0msin\u001b[0m\u001b[0;34m(\u001b[0m\u001b[0marr\u001b[0m\u001b[0;34m[\u001b[0m\u001b[0mi\u001b[0m\u001b[0;34m,\u001b[0m \u001b[0mj\u001b[0m\u001b[0;34m,\u001b[0m \u001b[0mk\u001b[0m\u001b[0;34m]\u001b[0m\u001b[0;34m)\u001b[0m\u001b[0;34m\u001b[0m\u001b[0;34m\u001b[0m\u001b[0m\n\u001b[0m\u001b[1;32m     10\u001b[0m \u001b[0;34m\u001b[0m\u001b[0m\n",
            "\u001b[0;31mKeyboardInterrupt\u001b[0m: "
          ]
        }
      ]
    },
    {
      "cell_type": "code",
      "source": [
        "import numpy as np"
      ],
      "metadata": {
        "id": "3CQ6jMb7N-ks"
      },
      "execution_count": 1,
      "outputs": []
    },
    {
      "cell_type": "code",
      "source": [
        "%%timeit\n",
        "\n",
        "import math\n",
        "\n",
        "arr = np.random.standard_normal((100, 100, 100))\n",
        "result = np.empty(arr.shape)\n",
        "\n",
        "for i in range(arr.shape[0]):\n",
        "    for j in range(arr.shape[1]):\n",
        "        for k in range(arr.shape[2]):\n",
        "            result[i, j, k] = math.sin(arr[i, j, k])\n",
        "\n"
      ],
      "metadata": {
        "colab": {
          "base_uri": "https://localhost:8080/"
        },
        "id": "KLn9ts4OQGCA",
        "outputId": "7ea00d5c-53df-474b-b8f7-66f805f68b53"
      },
      "execution_count": 3,
      "outputs": [
        {
          "output_type": "stream",
          "name": "stdout",
          "text": [
            "528 ms ± 40.2 ms per loop (mean ± std. dev. of 7 runs, 1 loop each)\n"
          ]
        }
      ]
    },
    {
      "cell_type": "code",
      "source": [
        "%%timeit\n",
        "\n",
        "arr = np.random.standard_normal((100, 100, 100))\n",
        "result = np.sin(arr)"
      ],
      "metadata": {
        "colab": {
          "base_uri": "https://localhost:8080/"
        },
        "id": "hlMA4nhSOyAw",
        "outputId": "45e411da-3f7e-4055-c7ed-de63e6005881"
      },
      "execution_count": 5,
      "outputs": [
        {
          "output_type": "stream",
          "name": "stdout",
          "text": [
            "47.8 ms ± 1.5 ms per loop (mean ± std. dev. of 7 runs, 10 loops each)\n"
          ]
        }
      ]
    },
    {
      "cell_type": "code",
      "source": [],
      "metadata": {
        "id": "9WzCh7WJPtwv"
      },
      "execution_count": null,
      "outputs": []
    },
    {
      "cell_type": "markdown",
      "source": [
        "## Array oriented programming"
      ],
      "metadata": {
        "id": "selmIA1HoFja"
      }
    },
    {
      "cell_type": "code",
      "source": [
        "start = 5\n",
        "step = 1\n",
        "points = np.arange(-start, start + step, step)"
      ],
      "metadata": {
        "id": "JUpQxgMEoJ5L"
      },
      "execution_count": 10,
      "outputs": []
    },
    {
      "cell_type": "code",
      "source": [
        "points"
      ],
      "metadata": {
        "colab": {
          "base_uri": "https://localhost:8080/"
        },
        "id": "B5wpa9eCowQ-",
        "outputId": "281f6972-821d-41fc-ed0a-893e5575bf9b"
      },
      "execution_count": 11,
      "outputs": [
        {
          "output_type": "execute_result",
          "data": {
            "text/plain": [
              "array([-5, -4, -3, -2, -1,  0,  1,  2,  3,  4,  5])"
            ]
          },
          "metadata": {},
          "execution_count": 11
        }
      ]
    },
    {
      "cell_type": "code",
      "source": [
        "xs, ys = np.meshgrid(points, points)"
      ],
      "metadata": {
        "id": "OsFAWnUcoxXN"
      },
      "execution_count": 13,
      "outputs": []
    },
    {
      "cell_type": "code",
      "source": [
        "xs[0, 0], ys[0, 0]"
      ],
      "metadata": {
        "colab": {
          "base_uri": "https://localhost:8080/"
        },
        "id": "pO8AcTZwpOC7",
        "outputId": "e41cfbe2-2abe-4b47-db18-5c96f9c4fdd6"
      },
      "execution_count": 14,
      "outputs": [
        {
          "output_type": "execute_result",
          "data": {
            "text/plain": [
              "(-5, -5)"
            ]
          },
          "metadata": {},
          "execution_count": 14
        }
      ]
    },
    {
      "cell_type": "code",
      "source": [
        "xs[0, 0], ys[0, 0]"
      ],
      "metadata": {
        "colab": {
          "base_uri": "https://localhost:8080/"
        },
        "id": "0l_j0nrepdyT",
        "outputId": "6d64aea0-bb27-4251-83d2-e68c796555f3"
      },
      "execution_count": 17,
      "outputs": [
        {
          "output_type": "execute_result",
          "data": {
            "text/plain": [
              "(-5, -5)"
            ]
          },
          "metadata": {},
          "execution_count": 17
        }
      ]
    },
    {
      "cell_type": "code",
      "source": [
        "import matplotlib.pyplot as plt\n",
        "\n",
        "start = 5\n",
        "step = 0.1\n",
        "points = np.arange(-start, start + step, step)\n",
        "xs, ys = np.meshgrid(points, points)\n",
        "\n",
        "z = np.sin(xs)**2 + np.cos(ys)**2\n",
        "plt.imshow(z, extent=[-5, 5, -5, 5])\n",
        "plt.colorbar()\n",
        "plt.title(\"Our title!\")"
      ],
      "metadata": {
        "colab": {
          "base_uri": "https://localhost:8080/",
          "height": 319
        },
        "id": "E6AZHZ6PqEMD",
        "outputId": "ebf5950f-309c-438a-d97c-d4dadcfc5066"
      },
      "execution_count": 22,
      "outputs": [
        {
          "output_type": "execute_result",
          "data": {
            "text/plain": [
              "Text(0.5, 1.0, 'Our title!')"
            ]
          },
          "metadata": {},
          "execution_count": 22
        },
        {
          "output_type": "display_data",
          "data": {
            "text/plain": [
              "<Figure size 432x288 with 2 Axes>"
            ],
            "image/png": "[encoded data removed]"
          },
          "metadata": {
            "needs_background": "light"
          }
        }
      ]
    },
    {
      "cell_type": "code",
      "source": [
        "import random\n",
        "\n",
        "n_steps = 10000\n",
        "n_simulations = 10\n",
        "\n",
        "random_walks = []\n",
        "\n",
        "for m in range(n_simulations):\n",
        "    current_position = 0\n",
        "    random_walk = [current_position]\n",
        "    for n in range(n_steps):\n",
        "        if random.randint(0, 1):\n",
        "            step = 1\n",
        "        else:\n",
        "            step = -1\n",
        "        new_position = current_position + step\n",
        "        random_walk.append(new_position)\n",
        "        current_position = new_position\n",
        "    \n",
        "    plt.plot(random_walk)\n",
        "    random_walks.append(random_walk)\n",
        "\n"
      ],
      "metadata": {
        "colab": {
          "base_uri": "https://localhost:8080/",
          "height": 286
        },
        "id": "qslvRjmHrNtq",
        "outputId": "0a32ddd5-23ff-4e67-d61b-4527d282d85c"
      },
      "execution_count": 48,
      "outputs": [
        {
          "output_type": "display_data",
          "data": {
            "text/plain": [
              "<Figure size 432x288 with 1 Axes>"
            ],
            "image/png": "[encoded data removed]"
          },
          "metadata": {
            "needs_background": "light"
          }
        }
      ]
    },
    {
      "cell_type": "code",
      "source": [
        "random.randint(0, 1)"
      ],
      "metadata": {
        "colab": {
          "base_uri": "https://localhost:8080/"
        },
        "id": "RKvYlOInyULR",
        "outputId": "28e19f7c-86ae-4a69-b423-3dcaee3ed463"
      },
      "execution_count": 28,
      "outputs": [
        {
          "output_type": "execute_result",
          "data": {
            "text/plain": [
              "0"
            ]
          },
          "metadata": {},
          "execution_count": 28
        }
      ]
    },
    {
      "cell_type": "code",
      "source": [],
      "metadata": {
        "id": "CHMA5ZfoyXYN"
      },
      "execution_count": null,
      "outputs": []
    }
  ]
}
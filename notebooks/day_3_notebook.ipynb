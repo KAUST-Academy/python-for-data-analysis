{
  "nbformat": 4,
  "nbformat_minor": 0,
  "metadata": {
    "colab": {
      "provenance": []
    },
    "kernelspec": {
      "name": "python3",
      "display_name": "Python 3"
    },
    "language_info": {
      "name": "python"
    }
  },
  "cells": [
    {
      "cell_type": "markdown",
      "source": [
        "# NumPy Basics"
      ],
      "metadata": {
        "id": "ESX4WZ_KCMQg"
      }
    },
    {
      "cell_type": "code",
      "source": [
        "import numpy as np"
      ],
      "metadata": {
        "id": "-kusqmfACPGS"
      },
      "execution_count": 1,
      "outputs": []
    },
    {
      "cell_type": "code",
      "source": [
        "arr = np.arange(1_000_000)\n",
        "l0 = list(range(1_000_000))"
      ],
      "metadata": {
        "id": "b4wPX40WCYJI"
      },
      "execution_count": 2,
      "outputs": []
    },
    {
      "cell_type": "code",
      "source": [
        "%%timeit\n",
        "\n",
        "2 * arr"
      ],
      "metadata": {
        "colab": {
          "base_uri": "https://localhost:8080/"
        },
        "id": "5SzyZ7M7CYLu",
        "outputId": "d6f99681-5466-4bb2-e7c8-081cf1be6547"
      },
      "execution_count": 3,
      "outputs": [
        {
          "output_type": "stream",
          "name": "stdout",
          "text": [
            "814 µs ± 60 µs per loop (mean ± std. dev. of 7 runs, 1000 loops each)\n"
          ]
        }
      ]
    },
    {
      "cell_type": "code",
      "source": [
        "%%timeit\n",
        "\n",
        "[2 * x for x in l0]"
      ],
      "metadata": {
        "colab": {
          "base_uri": "https://localhost:8080/"
        },
        "id": "J3XHDZnTCYNu",
        "outputId": "15a3c00d-708f-4d42-eb03-7385af24ef3d"
      },
      "execution_count": 4,
      "outputs": [
        {
          "output_type": "stream",
          "name": "stdout",
          "text": [
            "44.4 ms ± 931 µs per loop (mean ± std. dev. of 7 runs, 10 loops each)\n"
          ]
        }
      ]
    },
    {
      "cell_type": "markdown",
      "source": [
        "## The NumPy ndarray"
      ],
      "metadata": {
        "id": "576Wvco7CPce"
      }
    },
    {
      "cell_type": "code",
      "source": [
        "data = np.array([[1.5, -0.1, 3], [0, -3, 6.5]])"
      ],
      "metadata": {
        "id": "xBbZI0gRCR3S"
      },
      "execution_count": 5,
      "outputs": []
    },
    {
      "cell_type": "code",
      "source": [
        "data"
      ],
      "metadata": {
        "colab": {
          "base_uri": "https://localhost:8080/"
        },
        "id": "ci3DDGtgERuU",
        "outputId": "b878625d-449c-452f-d6d2-d49e267dac88"
      },
      "execution_count": 6,
      "outputs": [
        {
          "output_type": "execute_result",
          "data": {
            "text/plain": [
              "array([[ 1.5, -0.1,  3. ],\n",
              "       [ 0. , -3. ,  6.5]])"
            ]
          },
          "metadata": {},
          "execution_count": 6
        }
      ]
    },
    {
      "cell_type": "code",
      "source": [
        "10 * data"
      ],
      "metadata": {
        "colab": {
          "base_uri": "https://localhost:8080/"
        },
        "id": "R3VQCRuXESlq",
        "outputId": "6df38236-8ede-4a56-9e63-cc20b7d080f5"
      },
      "execution_count": 7,
      "outputs": [
        {
          "output_type": "execute_result",
          "data": {
            "text/plain": [
              "array([[ 15.,  -1.,  30.],\n",
              "       [  0., -30.,  65.]])"
            ]
          },
          "metadata": {},
          "execution_count": 7
        }
      ]
    },
    {
      "cell_type": "code",
      "source": [
        "data + data"
      ],
      "metadata": {
        "colab": {
          "base_uri": "https://localhost:8080/"
        },
        "id": "GiMa7MbkFOEi",
        "outputId": "89b4780f-a3e8-416e-e494-164a4e22f532"
      },
      "execution_count": 8,
      "outputs": [
        {
          "output_type": "execute_result",
          "data": {
            "text/plain": [
              "array([[ 3. , -0.2,  6. ],\n",
              "       [ 0. , -6. , 13. ]])"
            ]
          },
          "metadata": {},
          "execution_count": 8
        }
      ]
    },
    {
      "cell_type": "code",
      "source": [
        "data * data"
      ],
      "metadata": {
        "colab": {
          "base_uri": "https://localhost:8080/"
        },
        "id": "BRorCfNQFQeV",
        "outputId": "bec8161a-9511-48f0-e858-e28a7f3936a9"
      },
      "execution_count": 9,
      "outputs": [
        {
          "output_type": "execute_result",
          "data": {
            "text/plain": [
              "array([[2.250e+00, 1.000e-02, 9.000e+00],\n",
              "       [0.000e+00, 9.000e+00, 4.225e+01]])"
            ]
          },
          "metadata": {},
          "execution_count": 9
        }
      ]
    },
    {
      "cell_type": "code",
      "source": [
        "data.shape"
      ],
      "metadata": {
        "colab": {
          "base_uri": "https://localhost:8080/"
        },
        "id": "Q6Ye_6btFTRG",
        "outputId": "00667b5d-802f-427c-fee2-0c0b0d24f068"
      },
      "execution_count": 10,
      "outputs": [
        {
          "output_type": "execute_result",
          "data": {
            "text/plain": [
              "(2, 3)"
            ]
          },
          "metadata": {},
          "execution_count": 10
        }
      ]
    },
    {
      "cell_type": "code",
      "source": [
        "data.dtype"
      ],
      "metadata": {
        "colab": {
          "base_uri": "https://localhost:8080/"
        },
        "id": "DukCQMxHFc52",
        "outputId": "52c57299-5738-4545-a6f7-3eb81d05a281"
      },
      "execution_count": 11,
      "outputs": [
        {
          "output_type": "execute_result",
          "data": {
            "text/plain": [
              "dtype('float64')"
            ]
          },
          "metadata": {},
          "execution_count": 11
        }
      ]
    },
    {
      "cell_type": "code",
      "source": [
        "l0 = [6, 7.5, 8, 0, 1]\n",
        "arr0 = np.array(l0)"
      ],
      "metadata": {
        "id": "RqGC63sGGrDx"
      },
      "execution_count": 12,
      "outputs": []
    },
    {
      "cell_type": "code",
      "source": [
        "arr0"
      ],
      "metadata": {
        "colab": {
          "base_uri": "https://localhost:8080/"
        },
        "id": "PrW3mLlFHB7B",
        "outputId": "6fefc210-91cc-400f-b196-1210d5c0cb25"
      },
      "execution_count": 13,
      "outputs": [
        {
          "output_type": "execute_result",
          "data": {
            "text/plain": [
              "array([6. , 7.5, 8. , 0. , 1. ])"
            ]
          },
          "metadata": {},
          "execution_count": 13
        }
      ]
    },
    {
      "cell_type": "code",
      "source": [
        "l1 = [[0],[1],[3]]\n",
        "arr1 = np.array(l1)"
      ],
      "metadata": {
        "id": "-aHW0PTuHCiY"
      },
      "execution_count": 16,
      "outputs": []
    },
    {
      "cell_type": "code",
      "source": [
        "arr1"
      ],
      "metadata": {
        "colab": {
          "base_uri": "https://localhost:8080/"
        },
        "id": "lyadJD2BHNUg",
        "outputId": "89f26c48-2175-49de-e9d4-d261ba44e9be"
      },
      "execution_count": 17,
      "outputs": [
        {
          "output_type": "execute_result",
          "data": {
            "text/plain": [
              "array([[0],\n",
              "       [1],\n",
              "       [3]])"
            ]
          },
          "metadata": {},
          "execution_count": 17
        }
      ]
    },
    {
      "cell_type": "code",
      "source": [
        "arr1.shape"
      ],
      "metadata": {
        "colab": {
          "base_uri": "https://localhost:8080/"
        },
        "id": "VXUrhI2PHNrc",
        "outputId": "7076ef62-9b8d-47eb-e8ec-483ff8599b85"
      },
      "execution_count": 19,
      "outputs": [
        {
          "output_type": "execute_result",
          "data": {
            "text/plain": [
              "(3, 1)"
            ]
          },
          "metadata": {},
          "execution_count": 19
        }
      ]
    },
    {
      "cell_type": "code",
      "source": [
        "arr1.ndim"
      ],
      "metadata": {
        "colab": {
          "base_uri": "https://localhost:8080/"
        },
        "id": "LMP-cSjQHe-6",
        "outputId": "f1b3ae07-84f5-40a0-f423-90256e212f3f"
      },
      "execution_count": 20,
      "outputs": [
        {
          "output_type": "execute_result",
          "data": {
            "text/plain": [
              "2"
            ]
          },
          "metadata": {},
          "execution_count": 20
        }
      ]
    },
    {
      "cell_type": "code",
      "source": [
        "arr1.dtype"
      ],
      "metadata": {
        "colab": {
          "base_uri": "https://localhost:8080/"
        },
        "id": "wI-XQ93xHiNY",
        "outputId": "4e5e392a-90ac-4959-ecc8-ce1867f5dd5f"
      },
      "execution_count": 21,
      "outputs": [
        {
          "output_type": "execute_result",
          "data": {
            "text/plain": [
              "dtype('int64')"
            ]
          },
          "metadata": {},
          "execution_count": 21
        }
      ]
    },
    {
      "cell_type": "code",
      "source": [
        "np.zeros(10)"
      ],
      "metadata": {
        "colab": {
          "base_uri": "https://localhost:8080/"
        },
        "id": "5d3LyGmyHj-5",
        "outputId": "5b429d76-f9a2-4d8c-b888-996fffb2a8e7"
      },
      "execution_count": 22,
      "outputs": [
        {
          "output_type": "execute_result",
          "data": {
            "text/plain": [
              "array([0., 0., 0., 0., 0., 0., 0., 0., 0., 0.])"
            ]
          },
          "metadata": {},
          "execution_count": 22
        }
      ]
    },
    {
      "cell_type": "code",
      "source": [
        "np.zeros((3, 6))"
      ],
      "metadata": {
        "colab": {
          "base_uri": "https://localhost:8080/"
        },
        "id": "N0RVgbP3Hsoy",
        "outputId": "c77245c6-3f5a-4166-8d66-95278165c4cd"
      },
      "execution_count": 23,
      "outputs": [
        {
          "output_type": "execute_result",
          "data": {
            "text/plain": [
              "array([[0., 0., 0., 0., 0., 0.],\n",
              "       [0., 0., 0., 0., 0., 0.],\n",
              "       [0., 0., 0., 0., 0., 0.]])"
            ]
          },
          "metadata": {},
          "execution_count": 23
        }
      ]
    },
    {
      "cell_type": "code",
      "source": [
        "np.empty((3, 6))"
      ],
      "metadata": {
        "colab": {
          "base_uri": "https://localhost:8080/"
        },
        "id": "gFVw1EGBHvQf",
        "outputId": "5b93f995-4bc1-45b6-b5ee-d8d1a6c66125"
      },
      "execution_count": 24,
      "outputs": [
        {
          "output_type": "execute_result",
          "data": {
            "text/plain": [
              "array([[0., 0., 0., 0., 0., 0.],\n",
              "       [0., 0., 0., 0., 0., 0.],\n",
              "       [0., 0., 0., 0., 0., 0.]])"
            ]
          },
          "metadata": {},
          "execution_count": 24
        }
      ]
    },
    {
      "cell_type": "code",
      "source": [
        "np.arange(15)"
      ],
      "metadata": {
        "colab": {
          "base_uri": "https://localhost:8080/"
        },
        "id": "ckGAEpN-H0pC",
        "outputId": "7b53c193-e807-4e45-9b0a-e1188b510342"
      },
      "execution_count": 25,
      "outputs": [
        {
          "output_type": "execute_result",
          "data": {
            "text/plain": [
              "array([ 0,  1,  2,  3,  4,  5,  6,  7,  8,  9, 10, 11, 12, 13, 14])"
            ]
          },
          "metadata": {},
          "execution_count": 25
        }
      ]
    },
    {
      "cell_type": "code",
      "source": [
        "np.arange(15, dtype=np.float64)"
      ],
      "metadata": {
        "colab": {
          "base_uri": "https://localhost:8080/"
        },
        "id": "tMgGGf5BIRuS",
        "outputId": "d88dc904-6685-4b6b-b36d-0d39ac6f61c5"
      },
      "execution_count": 26,
      "outputs": [
        {
          "output_type": "execute_result",
          "data": {
            "text/plain": [
              "array([ 0.,  1.,  2.,  3.,  4.,  5.,  6.,  7.,  8.,  9., 10., 11., 12.,\n",
              "       13., 14.])"
            ]
          },
          "metadata": {},
          "execution_count": 26
        }
      ]
    },
    {
      "cell_type": "markdown",
      "source": [
        "### Exercise\n",
        "\n",
        "1. Create an array with 10 rows and 5 columns of all ones.\n",
        "2. Create an array with 10 rows and 5 columns of all negative twos.\n",
        "3. Add, subtract, multiple, and divide the arrays."
      ],
      "metadata": {
        "id": "j0H2lZNYI7Kf"
      }
    },
    {
      "cell_type": "code",
      "source": [
        "a = np.ones((10, 5))"
      ],
      "metadata": {
        "id": "bvXEvV1aIY7W"
      },
      "execution_count": 37,
      "outputs": []
    },
    {
      "cell_type": "code",
      "source": [
        "np.zeros((10, 10)) - 2"
      ],
      "metadata": {
        "colab": {
          "base_uri": "https://localhost:8080/"
        },
        "id": "iS8MBB2fM8V-",
        "outputId": "446832d8-ab88-4757-9c70-536d9dd0536e"
      },
      "execution_count": 32,
      "outputs": [
        {
          "output_type": "execute_result",
          "data": {
            "text/plain": [
              "array([[-2., -2., -2., -2., -2., -2., -2., -2., -2., -2.],\n",
              "       [-2., -2., -2., -2., -2., -2., -2., -2., -2., -2.],\n",
              "       [-2., -2., -2., -2., -2., -2., -2., -2., -2., -2.],\n",
              "       [-2., -2., -2., -2., -2., -2., -2., -2., -2., -2.],\n",
              "       [-2., -2., -2., -2., -2., -2., -2., -2., -2., -2.],\n",
              "       [-2., -2., -2., -2., -2., -2., -2., -2., -2., -2.],\n",
              "       [-2., -2., -2., -2., -2., -2., -2., -2., -2., -2.],\n",
              "       [-2., -2., -2., -2., -2., -2., -2., -2., -2., -2.],\n",
              "       [-2., -2., -2., -2., -2., -2., -2., -2., -2., -2.],\n",
              "       [-2., -2., -2., -2., -2., -2., -2., -2., -2., -2.]])"
            ]
          },
          "metadata": {},
          "execution_count": 32
        }
      ]
    },
    {
      "cell_type": "code",
      "source": [
        "np.ones((10, 10)) * -2"
      ],
      "metadata": {
        "colab": {
          "base_uri": "https://localhost:8080/"
        },
        "id": "fVjlb2QfM8jA",
        "outputId": "02879a88-2b02-4885-a9cc-9c2e4b994ea6"
      },
      "execution_count": 33,
      "outputs": [
        {
          "output_type": "execute_result",
          "data": {
            "text/plain": [
              "array([[-2., -2., -2., -2., -2., -2., -2., -2., -2., -2.],\n",
              "       [-2., -2., -2., -2., -2., -2., -2., -2., -2., -2.],\n",
              "       [-2., -2., -2., -2., -2., -2., -2., -2., -2., -2.],\n",
              "       [-2., -2., -2., -2., -2., -2., -2., -2., -2., -2.],\n",
              "       [-2., -2., -2., -2., -2., -2., -2., -2., -2., -2.],\n",
              "       [-2., -2., -2., -2., -2., -2., -2., -2., -2., -2.],\n",
              "       [-2., -2., -2., -2., -2., -2., -2., -2., -2., -2.],\n",
              "       [-2., -2., -2., -2., -2., -2., -2., -2., -2., -2.],\n",
              "       [-2., -2., -2., -2., -2., -2., -2., -2., -2., -2.],\n",
              "       [-2., -2., -2., -2., -2., -2., -2., -2., -2., -2.]])"
            ]
          },
          "metadata": {},
          "execution_count": 33
        }
      ]
    },
    {
      "cell_type": "code",
      "source": [
        "b = np.full((10, 5), -2)"
      ],
      "metadata": {
        "id": "MQwGmvp1NJMm"
      },
      "execution_count": 36,
      "outputs": []
    },
    {
      "cell_type": "code",
      "source": [
        "a + b"
      ],
      "metadata": {
        "colab": {
          "base_uri": "https://localhost:8080/"
        },
        "id": "sEHjl0jNNJPO",
        "outputId": "64aef95d-3ea1-4ab2-cb49-623b9f2fce35"
      },
      "execution_count": 38,
      "outputs": [
        {
          "output_type": "execute_result",
          "data": {
            "text/plain": [
              "array([[-1., -1., -1., -1., -1.],\n",
              "       [-1., -1., -1., -1., -1.],\n",
              "       [-1., -1., -1., -1., -1.],\n",
              "       [-1., -1., -1., -1., -1.],\n",
              "       [-1., -1., -1., -1., -1.],\n",
              "       [-1., -1., -1., -1., -1.],\n",
              "       [-1., -1., -1., -1., -1.],\n",
              "       [-1., -1., -1., -1., -1.],\n",
              "       [-1., -1., -1., -1., -1.],\n",
              "       [-1., -1., -1., -1., -1.]])"
            ]
          },
          "metadata": {},
          "execution_count": 38
        }
      ]
    },
    {
      "cell_type": "code",
      "source": [
        "a - b"
      ],
      "metadata": {
        "colab": {
          "base_uri": "https://localhost:8080/"
        },
        "id": "l-5eQCCPNJRP",
        "outputId": "30e3db80-ac70-4c32-8765-31146cc8d5ba"
      },
      "execution_count": 39,
      "outputs": [
        {
          "output_type": "execute_result",
          "data": {
            "text/plain": [
              "array([[3., 3., 3., 3., 3.],\n",
              "       [3., 3., 3., 3., 3.],\n",
              "       [3., 3., 3., 3., 3.],\n",
              "       [3., 3., 3., 3., 3.],\n",
              "       [3., 3., 3., 3., 3.],\n",
              "       [3., 3., 3., 3., 3.],\n",
              "       [3., 3., 3., 3., 3.],\n",
              "       [3., 3., 3., 3., 3.],\n",
              "       [3., 3., 3., 3., 3.],\n",
              "       [3., 3., 3., 3., 3.]])"
            ]
          },
          "metadata": {},
          "execution_count": 39
        }
      ]
    },
    {
      "cell_type": "code",
      "source": [
        "a * b"
      ],
      "metadata": {
        "colab": {
          "base_uri": "https://localhost:8080/"
        },
        "id": "Y_I29MatNZn-",
        "outputId": "156ec7bd-28d9-456d-fb8c-7a8ead82d895"
      },
      "execution_count": 40,
      "outputs": [
        {
          "output_type": "execute_result",
          "data": {
            "text/plain": [
              "array([[-2., -2., -2., -2., -2.],\n",
              "       [-2., -2., -2., -2., -2.],\n",
              "       [-2., -2., -2., -2., -2.],\n",
              "       [-2., -2., -2., -2., -2.],\n",
              "       [-2., -2., -2., -2., -2.],\n",
              "       [-2., -2., -2., -2., -2.],\n",
              "       [-2., -2., -2., -2., -2.],\n",
              "       [-2., -2., -2., -2., -2.],\n",
              "       [-2., -2., -2., -2., -2.],\n",
              "       [-2., -2., -2., -2., -2.]])"
            ]
          },
          "metadata": {},
          "execution_count": 40
        }
      ]
    },
    {
      "cell_type": "code",
      "source": [
        "a / b"
      ],
      "metadata": {
        "colab": {
          "base_uri": "https://localhost:8080/"
        },
        "id": "bshwFUuKNZqc",
        "outputId": "d1c53f87-5fdd-4b59-d1a9-daab02b9f101"
      },
      "execution_count": 41,
      "outputs": [
        {
          "output_type": "execute_result",
          "data": {
            "text/plain": [
              "array([[-0.5, -0.5, -0.5, -0.5, -0.5],\n",
              "       [-0.5, -0.5, -0.5, -0.5, -0.5],\n",
              "       [-0.5, -0.5, -0.5, -0.5, -0.5],\n",
              "       [-0.5, -0.5, -0.5, -0.5, -0.5],\n",
              "       [-0.5, -0.5, -0.5, -0.5, -0.5],\n",
              "       [-0.5, -0.5, -0.5, -0.5, -0.5],\n",
              "       [-0.5, -0.5, -0.5, -0.5, -0.5],\n",
              "       [-0.5, -0.5, -0.5, -0.5, -0.5],\n",
              "       [-0.5, -0.5, -0.5, -0.5, -0.5],\n",
              "       [-0.5, -0.5, -0.5, -0.5, -0.5]])"
            ]
          },
          "metadata": {},
          "execution_count": 41
        }
      ]
    },
    {
      "cell_type": "markdown",
      "source": [
        "### Exercise:\n",
        "\n",
        "1. Use the `np.identity` function to create a (10, 10) identity matrix."
      ],
      "metadata": {
        "id": "gc4WrxdoJeU2"
      }
    },
    {
      "cell_type": "code",
      "source": [
        "np.identity(10)"
      ],
      "metadata": {
        "colab": {
          "base_uri": "https://localhost:8080/"
        },
        "id": "i6aeUby5KBDR",
        "outputId": "710fb110-ba11-48cd-afd4-bbbec13037bc"
      },
      "execution_count": 43,
      "outputs": [
        {
          "output_type": "execute_result",
          "data": {
            "text/plain": [
              "array([[1., 0., 0., 0., 0., 0., 0., 0., 0., 0.],\n",
              "       [0., 1., 0., 0., 0., 0., 0., 0., 0., 0.],\n",
              "       [0., 0., 1., 0., 0., 0., 0., 0., 0., 0.],\n",
              "       [0., 0., 0., 1., 0., 0., 0., 0., 0., 0.],\n",
              "       [0., 0., 0., 0., 1., 0., 0., 0., 0., 0.],\n",
              "       [0., 0., 0., 0., 0., 1., 0., 0., 0., 0.],\n",
              "       [0., 0., 0., 0., 0., 0., 1., 0., 0., 0.],\n",
              "       [0., 0., 0., 0., 0., 0., 0., 1., 0., 0.],\n",
              "       [0., 0., 0., 0., 0., 0., 0., 0., 1., 0.],\n",
              "       [0., 0., 0., 0., 0., 0., 0., 0., 0., 1.]])"
            ]
          },
          "metadata": {},
          "execution_count": 43
        }
      ]
    },
    {
      "cell_type": "code",
      "source": [
        "np.diag(2 * np.ones(10))"
      ],
      "metadata": {
        "colab": {
          "base_uri": "https://localhost:8080/"
        },
        "id": "RoPsJE0CMfjr",
        "outputId": "f2b41768-2928-42f3-91a3-b832e2994540"
      },
      "execution_count": 47,
      "outputs": [
        {
          "output_type": "execute_result",
          "data": {
            "text/plain": [
              "array([[2., 0., 0., 0., 0., 0., 0., 0., 0., 0.],\n",
              "       [0., 2., 0., 0., 0., 0., 0., 0., 0., 0.],\n",
              "       [0., 0., 2., 0., 0., 0., 0., 0., 0., 0.],\n",
              "       [0., 0., 0., 2., 0., 0., 0., 0., 0., 0.],\n",
              "       [0., 0., 0., 0., 2., 0., 0., 0., 0., 0.],\n",
              "       [0., 0., 0., 0., 0., 2., 0., 0., 0., 0.],\n",
              "       [0., 0., 0., 0., 0., 0., 2., 0., 0., 0.],\n",
              "       [0., 0., 0., 0., 0., 0., 0., 2., 0., 0.],\n",
              "       [0., 0., 0., 0., 0., 0., 0., 0., 2., 0.],\n",
              "       [0., 0., 0., 0., 0., 0., 0., 0., 0., 2.]])"
            ]
          },
          "metadata": {},
          "execution_count": 47
        }
      ]
    },
    {
      "cell_type": "code",
      "source": [
        "np.diag(np.arange(10))"
      ],
      "metadata": {
        "colab": {
          "base_uri": "https://localhost:8080/"
        },
        "id": "-LQmOEp2N_gr",
        "outputId": "8aafdd04-9248-4965-cb81-fdce6e285781"
      },
      "execution_count": 48,
      "outputs": [
        {
          "output_type": "execute_result",
          "data": {
            "text/plain": [
              "array([[0, 0, 0, 0, 0, 0, 0, 0, 0, 0],\n",
              "       [0, 1, 0, 0, 0, 0, 0, 0, 0, 0],\n",
              "       [0, 0, 2, 0, 0, 0, 0, 0, 0, 0],\n",
              "       [0, 0, 0, 3, 0, 0, 0, 0, 0, 0],\n",
              "       [0, 0, 0, 0, 4, 0, 0, 0, 0, 0],\n",
              "       [0, 0, 0, 0, 0, 5, 0, 0, 0, 0],\n",
              "       [0, 0, 0, 0, 0, 0, 6, 0, 0, 0],\n",
              "       [0, 0, 0, 0, 0, 0, 0, 7, 0, 0],\n",
              "       [0, 0, 0, 0, 0, 0, 0, 0, 8, 0],\n",
              "       [0, 0, 0, 0, 0, 0, 0, 0, 0, 9]])"
            ]
          },
          "metadata": {},
          "execution_count": 48
        }
      ]
    },
    {
      "cell_type": "code",
      "source": [
        "a = np.random.rand(5, 5)\n",
        "a"
      ],
      "metadata": {
        "colab": {
          "base_uri": "https://localhost:8080/"
        },
        "id": "imPODHn3OYLz",
        "outputId": "d4724547-db17-4a42-ad27-164c579a930e"
      },
      "execution_count": 50,
      "outputs": [
        {
          "output_type": "execute_result",
          "data": {
            "text/plain": [
              "array([[0.97595782, 0.27497745, 0.54239295, 0.86178038, 0.86017728],\n",
              "       [0.78807208, 0.42353646, 0.22360107, 0.9254719 , 0.92785037],\n",
              "       [0.01082887, 0.3516742 , 0.90154295, 0.73910616, 0.59498355],\n",
              "       [0.83661847, 0.20842367, 0.51438382, 0.05103325, 0.40940692],\n",
              "       [0.53669719, 0.0762167 , 0.91874884, 0.25799008, 0.49646022]])"
            ]
          },
          "metadata": {},
          "execution_count": 50
        }
      ]
    },
    {
      "cell_type": "code",
      "source": [
        "np.diag(a)"
      ],
      "metadata": {
        "colab": {
          "base_uri": "https://localhost:8080/"
        },
        "id": "LKYo7CCrOiSc",
        "outputId": "622aa73e-537a-4013-8018-e73034d96798"
      },
      "execution_count": 51,
      "outputs": [
        {
          "output_type": "execute_result",
          "data": {
            "text/plain": [
              "array([0.97595782, 0.42353646, 0.90154295, 0.05103325, 0.49646022])"
            ]
          },
          "metadata": {},
          "execution_count": 51
        }
      ]
    },
    {
      "cell_type": "code",
      "source": [
        "np.diag(np.diag(a))"
      ],
      "metadata": {
        "colab": {
          "base_uri": "https://localhost:8080/"
        },
        "id": "pWv2dxvZOmzH",
        "outputId": "16eae98e-4db6-447a-88a8-f991b1b2f077"
      },
      "execution_count": 52,
      "outputs": [
        {
          "output_type": "execute_result",
          "data": {
            "text/plain": [
              "array([[0.97595782, 0.        , 0.        , 0.        , 0.        ],\n",
              "       [0.        , 0.42353646, 0.        , 0.        , 0.        ],\n",
              "       [0.        , 0.        , 0.90154295, 0.        , 0.        ],\n",
              "       [0.        , 0.        , 0.        , 0.05103325, 0.        ],\n",
              "       [0.        , 0.        , 0.        , 0.        , 0.49646022]])"
            ]
          },
          "metadata": {},
          "execution_count": 52
        }
      ]
    },
    {
      "cell_type": "code",
      "source": [
        "arr4 = np.array(\n",
        "    [[1.2, 3, 4.5, 6],\n",
        "     [3.3, -4.5, 6, 7.7],\n",
        "     [2.3, 4.5, 6.8, 9]],\n",
        "    dtype=np.int8)"
      ],
      "metadata": {
        "id": "XrAWBcvUOvvb"
      },
      "execution_count": 60,
      "outputs": []
    },
    {
      "cell_type": "code",
      "source": [
        "arr4.dtype"
      ],
      "metadata": {
        "colab": {
          "base_uri": "https://localhost:8080/"
        },
        "id": "wG_gpnrxPSW7",
        "outputId": "1ae43f4e-ef31-4bb3-c34c-f007a1592f1a"
      },
      "execution_count": 61,
      "outputs": [
        {
          "output_type": "execute_result",
          "data": {
            "text/plain": [
              "dtype('int8')"
            ]
          },
          "metadata": {},
          "execution_count": 61
        }
      ]
    },
    {
      "cell_type": "code",
      "source": [
        "arr4"
      ],
      "metadata": {
        "colab": {
          "base_uri": "https://localhost:8080/"
        },
        "id": "usUpcA7HPXdZ",
        "outputId": "ba3e7251-b25f-4908-e2cb-08c82c564e9b"
      },
      "execution_count": 63,
      "outputs": [
        {
          "output_type": "execute_result",
          "data": {
            "text/plain": [
              "array([[ 1,  3,  4,  6],\n",
              "       [ 3, -4,  6,  7],\n",
              "       [ 2,  4,  6,  9]], dtype=int8)"
            ]
          },
          "metadata": {},
          "execution_count": 63
        }
      ]
    },
    {
      "cell_type": "code",
      "source": [
        "arr5 = np.array([[1., 2., 3.], [4., 5., 6.]])\n",
        "arr5"
      ],
      "metadata": {
        "colab": {
          "base_uri": "https://localhost:8080/"
        },
        "id": "y9v0O7eoRJ8L",
        "outputId": "b51579d6-5407-465c-e578-ade1fc587306"
      },
      "execution_count": 64,
      "outputs": [
        {
          "output_type": "execute_result",
          "data": {
            "text/plain": [
              "array([[1., 2., 3.],\n",
              "       [4., 5., 6.]])"
            ]
          },
          "metadata": {},
          "execution_count": 64
        }
      ]
    },
    {
      "cell_type": "code",
      "source": [
        "arr5 * arr5"
      ],
      "metadata": {
        "colab": {
          "base_uri": "https://localhost:8080/"
        },
        "id": "SAKXN2R5XcUy",
        "outputId": "ef0348db-8572-42fd-8215-e5bdde0797ec"
      },
      "execution_count": 65,
      "outputs": [
        {
          "output_type": "execute_result",
          "data": {
            "text/plain": [
              "array([[ 1.,  4.,  9.],\n",
              "       [16., 25., 36.]])"
            ]
          },
          "metadata": {},
          "execution_count": 65
        }
      ]
    },
    {
      "cell_type": "code",
      "source": [
        "arr5 - arr5"
      ],
      "metadata": {
        "colab": {
          "base_uri": "https://localhost:8080/"
        },
        "id": "BMp_Z0WZXktH",
        "outputId": "e5925a1a-62bd-4afd-f944-27b33df5d19d"
      },
      "execution_count": 66,
      "outputs": [
        {
          "output_type": "execute_result",
          "data": {
            "text/plain": [
              "array([[0., 0., 0.],\n",
              "       [0., 0., 0.]])"
            ]
          },
          "metadata": {},
          "execution_count": 66
        }
      ]
    },
    {
      "cell_type": "code",
      "source": [
        "1 / arr5"
      ],
      "metadata": {
        "colab": {
          "base_uri": "https://localhost:8080/"
        },
        "id": "dIbSGrwNXm1G",
        "outputId": "f5bc4b56-8a4e-401f-9b8a-93f1e984eeb9"
      },
      "execution_count": 67,
      "outputs": [
        {
          "output_type": "execute_result",
          "data": {
            "text/plain": [
              "array([[1.        , 0.5       , 0.33333333],\n",
              "       [0.25      , 0.2       , 0.16666667]])"
            ]
          },
          "metadata": {},
          "execution_count": 67
        }
      ]
    },
    {
      "cell_type": "code",
      "source": [
        "arr5**2"
      ],
      "metadata": {
        "colab": {
          "base_uri": "https://localhost:8080/"
        },
        "id": "IxMtPlKwXpRR",
        "outputId": "c23b3bf7-3e8c-4ea6-9ef5-729e7f7adebc"
      },
      "execution_count": 68,
      "outputs": [
        {
          "output_type": "execute_result",
          "data": {
            "text/plain": [
              "array([[ 1.,  4.,  9.],\n",
              "       [16., 25., 36.]])"
            ]
          },
          "metadata": {},
          "execution_count": 68
        }
      ]
    },
    {
      "cell_type": "code",
      "source": [
        "arr6 = np.array([[0., 4., 1.], [7., 2., 12.]])"
      ],
      "metadata": {
        "id": "oZZPBNszXrjQ"
      },
      "execution_count": 69,
      "outputs": []
    },
    {
      "cell_type": "code",
      "source": [
        "arr6"
      ],
      "metadata": {
        "colab": {
          "base_uri": "https://localhost:8080/"
        },
        "id": "OgOIH8BOX0oy",
        "outputId": "2661efd6-679d-46f6-f784-f34035b1cb27"
      },
      "execution_count": 70,
      "outputs": [
        {
          "output_type": "execute_result",
          "data": {
            "text/plain": [
              "array([[ 0.,  4.,  1.],\n",
              "       [ 7.,  2., 12.]])"
            ]
          },
          "metadata": {},
          "execution_count": 70
        }
      ]
    },
    {
      "cell_type": "code",
      "source": [
        "arr5 > arr6"
      ],
      "metadata": {
        "colab": {
          "base_uri": "https://localhost:8080/"
        },
        "id": "UJKPWanuX1Yk",
        "outputId": "eb6a595e-d41d-4810-dd65-82a909c115c0"
      },
      "execution_count": 71,
      "outputs": [
        {
          "output_type": "execute_result",
          "data": {
            "text/plain": [
              "array([[ True, False,  True],\n",
              "       [False,  True, False]])"
            ]
          },
          "metadata": {},
          "execution_count": 71
        }
      ]
    },
    {
      "cell_type": "code",
      "source": [
        "arr5.shape"
      ],
      "metadata": {
        "colab": {
          "base_uri": "https://localhost:8080/"
        },
        "id": "UqOZiomYX3Gf",
        "outputId": "8c548a79-78f7-4a01-b491-fcc27036f625"
      },
      "execution_count": 72,
      "outputs": [
        {
          "output_type": "execute_result",
          "data": {
            "text/plain": [
              "(2, 3)"
            ]
          },
          "metadata": {},
          "execution_count": 72
        }
      ]
    },
    {
      "cell_type": "code",
      "source": [
        "arr6.shape"
      ],
      "metadata": {
        "colab": {
          "base_uri": "https://localhost:8080/"
        },
        "id": "qR4RNBLWYEnM",
        "outputId": "44acbf0c-5a45-4a08-d725-4de6ea790e91"
      },
      "execution_count": 73,
      "outputs": [
        {
          "output_type": "execute_result",
          "data": {
            "text/plain": [
              "(2, 3)"
            ]
          },
          "metadata": {},
          "execution_count": 73
        }
      ]
    },
    {
      "cell_type": "code",
      "source": [
        "arr7 = np.arange(10, 20, 1)"
      ],
      "metadata": {
        "id": "DL0mNIKTYF8q"
      },
      "execution_count": 76,
      "outputs": []
    },
    {
      "cell_type": "code",
      "source": [
        "arr7"
      ],
      "metadata": {
        "colab": {
          "base_uri": "https://localhost:8080/"
        },
        "id": "4mHSPikOYXic",
        "outputId": "e7ee46da-5515-4e13-8dc4-77c5670743a4"
      },
      "execution_count": 77,
      "outputs": [
        {
          "output_type": "execute_result",
          "data": {
            "text/plain": [
              "array([10, 11, 12, 13, 14, 15, 16, 17, 18, 19])"
            ]
          },
          "metadata": {},
          "execution_count": 77
        }
      ]
    },
    {
      "cell_type": "code",
      "source": [
        "arr7[3]"
      ],
      "metadata": {
        "colab": {
          "base_uri": "https://localhost:8080/"
        },
        "id": "moCFw3S1YYI3",
        "outputId": "351fc890-2d7f-4c75-da0c-5f4497ad0990"
      },
      "execution_count": 78,
      "outputs": [
        {
          "output_type": "execute_result",
          "data": {
            "text/plain": [
              "13"
            ]
          },
          "metadata": {},
          "execution_count": 78
        }
      ]
    },
    {
      "cell_type": "code",
      "source": [
        "arr7[5:8]"
      ],
      "metadata": {
        "colab": {
          "base_uri": "https://localhost:8080/"
        },
        "id": "9oYh49tkYfDh",
        "outputId": "f2b81e83-3100-412a-ccfc-0c8d365066e0"
      },
      "execution_count": 79,
      "outputs": [
        {
          "output_type": "execute_result",
          "data": {
            "text/plain": [
              "array([15, 16, 17])"
            ]
          },
          "metadata": {},
          "execution_count": 79
        }
      ]
    },
    {
      "cell_type": "code",
      "source": [
        "arr7[5:8] = 12"
      ],
      "metadata": {
        "id": "Jv58ZogtYnHc"
      },
      "execution_count": 80,
      "outputs": []
    },
    {
      "cell_type": "code",
      "source": [
        "arr7"
      ],
      "metadata": {
        "colab": {
          "base_uri": "https://localhost:8080/"
        },
        "id": "myUzRCNuYsFO",
        "outputId": "a91836d8-89fd-4efb-d655-c971f914f7d9"
      },
      "execution_count": 81,
      "outputs": [
        {
          "output_type": "execute_result",
          "data": {
            "text/plain": [
              "array([10, 11, 12, 13, 14, 12, 12, 12, 18, 19])"
            ]
          },
          "metadata": {},
          "execution_count": 81
        }
      ]
    },
    {
      "cell_type": "code",
      "source": [
        "arr7[5:8] = np.array([42,41,50])"
      ],
      "metadata": {
        "id": "WBz1-i17Ys31"
      },
      "execution_count": 82,
      "outputs": []
    },
    {
      "cell_type": "code",
      "source": [
        "arr7"
      ],
      "metadata": {
        "colab": {
          "base_uri": "https://localhost:8080/"
        },
        "id": "QY85Jsh4Yz65",
        "outputId": "4bf4ed37-beb5-416f-ec99-548a16d11051"
      },
      "execution_count": 83,
      "outputs": [
        {
          "output_type": "execute_result",
          "data": {
            "text/plain": [
              "array([10, 11, 12, 13, 14, 42, 41, 50, 18, 19])"
            ]
          },
          "metadata": {},
          "execution_count": 83
        }
      ]
    },
    {
      "cell_type": "code",
      "source": [
        "arr6"
      ],
      "metadata": {
        "colab": {
          "base_uri": "https://localhost:8080/"
        },
        "id": "5b4LkzW7Y0kH",
        "outputId": "864ba4b8-dc5e-44b2-bc8b-a5c5f0a5a6f4"
      },
      "execution_count": 84,
      "outputs": [
        {
          "output_type": "execute_result",
          "data": {
            "text/plain": [
              "array([[ 0.,  4.,  1.],\n",
              "       [ 7.,  2., 12.]])"
            ]
          },
          "metadata": {},
          "execution_count": 84
        }
      ]
    },
    {
      "cell_type": "code",
      "source": [
        "arr6[0, 1]"
      ],
      "metadata": {
        "colab": {
          "base_uri": "https://localhost:8080/"
        },
        "id": "uadmaHpWZIkh",
        "outputId": "a377d92d-76d6-4f1d-86f7-ef979fde1372"
      },
      "execution_count": 85,
      "outputs": [
        {
          "output_type": "execute_result",
          "data": {
            "text/plain": [
              "4.0"
            ]
          },
          "metadata": {},
          "execution_count": 85
        }
      ]
    },
    {
      "cell_type": "code",
      "source": [
        "arr6[0][1]"
      ],
      "metadata": {
        "colab": {
          "base_uri": "https://localhost:8080/"
        },
        "id": "KPoth3daZOrE",
        "outputId": "5fc44af5-26c9-496b-aefd-75d8abd00937"
      },
      "execution_count": 86,
      "outputs": [
        {
          "output_type": "execute_result",
          "data": {
            "text/plain": [
              "4.0"
            ]
          },
          "metadata": {},
          "execution_count": 86
        }
      ]
    },
    {
      "cell_type": "code",
      "source": [
        "arr8 = np.array([[1.3, 2.3, 4.5], [3.2, 4.4, 6.7], [2.2, 1., 4.9]])"
      ],
      "metadata": {
        "id": "9Mt-CJCHZT_V"
      },
      "execution_count": 89,
      "outputs": []
    },
    {
      "cell_type": "code",
      "source": [
        "arr8"
      ],
      "metadata": {
        "colab": {
          "base_uri": "https://localhost:8080/"
        },
        "id": "vwhUkUZcZahp",
        "outputId": "ee401402-fad4-4915-d552-4e02ebb9532d"
      },
      "execution_count": 90,
      "outputs": [
        {
          "output_type": "execute_result",
          "data": {
            "text/plain": [
              "array([[1.3, 2.3, 4.5],\n",
              "       [3.2, 4.4, 6.7],\n",
              "       [2.2, 1. , 4.9]])"
            ]
          },
          "metadata": {},
          "execution_count": 90
        }
      ]
    },
    {
      "cell_type": "code",
      "source": [
        "arr8[1:, 1:]"
      ],
      "metadata": {
        "colab": {
          "base_uri": "https://localhost:8080/"
        },
        "id": "8Pq_PJ_xZoPZ",
        "outputId": "6dd033d8-e66e-4159-9000-074f165cd823"
      },
      "execution_count": 93,
      "outputs": [
        {
          "output_type": "execute_result",
          "data": {
            "text/plain": [
              "array([[4.4, 6.7],\n",
              "       [1. , 4.9]])"
            ]
          },
          "metadata": {},
          "execution_count": 93
        }
      ]
    },
    {
      "cell_type": "code",
      "source": [
        "arr9 = np.array([[[1, 2, 3], [4, 5, 6]], [[7, 8, 9], [10, 11, 12]]])\n",
        "arr9"
      ],
      "metadata": {
        "colab": {
          "base_uri": "https://localhost:8080/"
        },
        "id": "XPMP8kG2ZxeL",
        "outputId": "eb50f296-b92d-4f26-f610-4ad30d2a2ada"
      },
      "execution_count": 95,
      "outputs": [
        {
          "output_type": "execute_result",
          "data": {
            "text/plain": [
              "array([[[ 1,  2,  3],\n",
              "        [ 4,  5,  6]],\n",
              "\n",
              "       [[ 7,  8,  9],\n",
              "        [10, 11, 12]]])"
            ]
          },
          "metadata": {},
          "execution_count": 95
        }
      ]
    },
    {
      "cell_type": "code",
      "source": [
        "arr9[1]"
      ],
      "metadata": {
        "colab": {
          "base_uri": "https://localhost:8080/"
        },
        "id": "FLWaRFraaLOW",
        "outputId": "e83c6fe6-dd74-45fd-9f4c-d4d6f417c833"
      },
      "execution_count": 97,
      "outputs": [
        {
          "output_type": "execute_result",
          "data": {
            "text/plain": [
              "array([[ 7,  8,  9],\n",
              "       [10, 11, 12]])"
            ]
          },
          "metadata": {},
          "execution_count": 97
        }
      ]
    },
    {
      "cell_type": "code",
      "source": [
        "arr9.shape"
      ],
      "metadata": {
        "colab": {
          "base_uri": "https://localhost:8080/"
        },
        "id": "1PhtU-i0ak4X",
        "outputId": "1ce1e5db-5933-4cf4-8300-a0390bd95fd8"
      },
      "execution_count": 98,
      "outputs": [
        {
          "output_type": "execute_result",
          "data": {
            "text/plain": [
              "(2, 2, 3)"
            ]
          },
          "metadata": {},
          "execution_count": 98
        }
      ]
    },
    {
      "cell_type": "code",
      "source": [
        "arr9"
      ],
      "metadata": {
        "colab": {
          "base_uri": "https://localhost:8080/"
        },
        "id": "75-mYNALauGd",
        "outputId": "17ce7223-6e4f-4820-b424-73a7cc10d226"
      },
      "execution_count": 99,
      "outputs": [
        {
          "output_type": "execute_result",
          "data": {
            "text/plain": [
              "array([[[ 1,  2,  3],\n",
              "        [ 4,  5,  6]],\n",
              "\n",
              "       [[ 7,  8,  9],\n",
              "        [10, 11, 12]]])"
            ]
          },
          "metadata": {},
          "execution_count": 99
        }
      ]
    },
    {
      "cell_type": "code",
      "source": [
        "arr8"
      ],
      "metadata": {
        "colab": {
          "base_uri": "https://localhost:8080/"
        },
        "id": "gN0zoKvNa2QI",
        "outputId": "9179774a-840f-4178-ff45-6c5b60e35dbd"
      },
      "execution_count": 101,
      "outputs": [
        {
          "output_type": "execute_result",
          "data": {
            "text/plain": [
              "array([[1.3, 2.3, 4.5],\n",
              "       [3.2, 4.4, 6.7],\n",
              "       [2.2, 1. , 4.9]])"
            ]
          },
          "metadata": {},
          "execution_count": 101
        }
      ]
    },
    {
      "cell_type": "code",
      "source": [
        "r0 = arr8[2]\n",
        "r0.shape"
      ],
      "metadata": {
        "colab": {
          "base_uri": "https://localhost:8080/"
        },
        "id": "UmHqzdz6bVFD",
        "outputId": "a373b2ae-562a-46f5-95d5-4dd385d8e527"
      },
      "execution_count": 103,
      "outputs": [
        {
          "output_type": "execute_result",
          "data": {
            "text/plain": [
              "(3,)"
            ]
          },
          "metadata": {},
          "execution_count": 103
        }
      ]
    },
    {
      "cell_type": "code",
      "source": [
        "r0"
      ],
      "metadata": {
        "colab": {
          "base_uri": "https://localhost:8080/"
        },
        "id": "wDKy2441bmJ2",
        "outputId": "69e5a330-6c3b-4581-b9b3-4d52180f6f38"
      },
      "execution_count": 105,
      "outputs": [
        {
          "output_type": "execute_result",
          "data": {
            "text/plain": [
              "array([2.2, 1. , 4.9])"
            ]
          },
          "metadata": {},
          "execution_count": 105
        }
      ]
    },
    {
      "cell_type": "code",
      "source": [
        "r1 = arr8[2, :]\n",
        "r1.shape"
      ],
      "metadata": {
        "colab": {
          "base_uri": "https://localhost:8080/"
        },
        "id": "hYQFSQ5pbZiO",
        "outputId": "7e8dbce4-4fa8-443d-981a-249eb8be33ff"
      },
      "execution_count": 104,
      "outputs": [
        {
          "output_type": "execute_result",
          "data": {
            "text/plain": [
              "(3,)"
            ]
          },
          "metadata": {},
          "execution_count": 104
        }
      ]
    },
    {
      "cell_type": "code",
      "source": [
        "r1"
      ],
      "metadata": {
        "colab": {
          "base_uri": "https://localhost:8080/"
        },
        "id": "ad48Mt-aboB4",
        "outputId": "7afe4644-750e-4d6d-c429-f6ccfdb676c0"
      },
      "execution_count": 106,
      "outputs": [
        {
          "output_type": "execute_result",
          "data": {
            "text/plain": [
              "array([2.2, 1. , 4.9])"
            ]
          },
          "metadata": {},
          "execution_count": 106
        }
      ]
    },
    {
      "cell_type": "code",
      "source": [
        "r2 = arr8[2:, :]\n",
        "r2.shape"
      ],
      "metadata": {
        "colab": {
          "base_uri": "https://localhost:8080/"
        },
        "id": "5nU9rShkbkq0",
        "outputId": "1f7cedbc-3350-4b3e-dab1-c65659cda1f3"
      },
      "execution_count": 107,
      "outputs": [
        {
          "output_type": "execute_result",
          "data": {
            "text/plain": [
              "(1, 3)"
            ]
          },
          "metadata": {},
          "execution_count": 107
        }
      ]
    },
    {
      "cell_type": "code",
      "source": [
        "r2"
      ],
      "metadata": {
        "colab": {
          "base_uri": "https://localhost:8080/"
        },
        "id": "0Yb1NDwXbtXx",
        "outputId": "a924943d-7adb-4e01-b972-3e428b2c92e2"
      },
      "execution_count": 108,
      "outputs": [
        {
          "output_type": "execute_result",
          "data": {
            "text/plain": [
              "array([[2.2, 1. , 4.9]])"
            ]
          },
          "metadata": {},
          "execution_count": 108
        }
      ]
    },
    {
      "cell_type": "code",
      "source": [
        "names = np.array([\n",
        "    \"Bob\",\n",
        "    \"Joe\",\n",
        "    \"Ahmed\",\n",
        "    \"Sara\",\n",
        "    \"Yasmeen\",\n",
        "    \"David\"\n",
        "])\n",
        "\n",
        "data = np.array([[4, 7], [0, 2], [-5, 6], [0, 0], [-12, -4], [3, 4]])"
      ],
      "metadata": {
        "id": "JmbUULvtbufD"
      },
      "execution_count": 109,
      "outputs": []
    },
    {
      "cell_type": "code",
      "source": [
        "names.shape"
      ],
      "metadata": {
        "colab": {
          "base_uri": "https://localhost:8080/"
        },
        "id": "Sxf8BMdXcMjE",
        "outputId": "556e75d1-5e78-4752-82ce-383d208e1571"
      },
      "execution_count": 110,
      "outputs": [
        {
          "output_type": "execute_result",
          "data": {
            "text/plain": [
              "(6,)"
            ]
          },
          "metadata": {},
          "execution_count": 110
        }
      ]
    },
    {
      "cell_type": "code",
      "source": [
        "data.shape"
      ],
      "metadata": {
        "colab": {
          "base_uri": "https://localhost:8080/"
        },
        "id": "NiKeFpZicNrh",
        "outputId": "6ddd7636-3a8a-45df-9dd9-91f4c4bc4e12"
      },
      "execution_count": 111,
      "outputs": [
        {
          "output_type": "execute_result",
          "data": {
            "text/plain": [
              "(6, 2)"
            ]
          },
          "metadata": {},
          "execution_count": 111
        }
      ]
    },
    {
      "cell_type": "code",
      "source": [
        "names == \"David\""
      ],
      "metadata": {
        "colab": {
          "base_uri": "https://localhost:8080/"
        },
        "id": "6pkWXdjDcPDP",
        "outputId": "3a40d00a-373a-4172-e277-ec794c95318e"
      },
      "execution_count": 112,
      "outputs": [
        {
          "output_type": "execute_result",
          "data": {
            "text/plain": [
              "array([False, False, False, False, False,  True])"
            ]
          },
          "metadata": {},
          "execution_count": 112
        }
      ]
    },
    {
      "cell_type": "code",
      "source": [
        "data[names == \"David\"]"
      ],
      "metadata": {
        "colab": {
          "base_uri": "https://localhost:8080/"
        },
        "id": "JWg8_4uocTQA",
        "outputId": "0ea157a0-6e81-485e-b441-4233107e3913"
      },
      "execution_count": 113,
      "outputs": [
        {
          "output_type": "execute_result",
          "data": {
            "text/plain": [
              "array([[3, 4]])"
            ]
          },
          "metadata": {},
          "execution_count": 113
        }
      ]
    },
    {
      "cell_type": "code",
      "source": [
        "data[names == \"David\", 1]"
      ],
      "metadata": {
        "colab": {
          "base_uri": "https://localhost:8080/"
        },
        "id": "3ciqq8lhcXtz",
        "outputId": "4134f6ef-e569-4475-d4d6-429095bdd930"
      },
      "execution_count": 114,
      "outputs": [
        {
          "output_type": "execute_result",
          "data": {
            "text/plain": [
              "array([4])"
            ]
          },
          "metadata": {},
          "execution_count": 114
        }
      ]
    },
    {
      "cell_type": "code",
      "source": [
        "data[names != \"David\"]"
      ],
      "metadata": {
        "colab": {
          "base_uri": "https://localhost:8080/"
        },
        "id": "YT7STiITcmsj",
        "outputId": "cbe7f372-d81b-4c46-b3ef-a88455e5fc03"
      },
      "execution_count": 115,
      "outputs": [
        {
          "output_type": "execute_result",
          "data": {
            "text/plain": [
              "array([[  4,   7],\n",
              "       [  0,   2],\n",
              "       [ -5,   6],\n",
              "       [  0,   0],\n",
              "       [-12,  -4]])"
            ]
          },
          "metadata": {},
          "execution_count": 115
        }
      ]
    },
    {
      "cell_type": "code",
      "source": [
        "data[~(names == \"David\")]"
      ],
      "metadata": {
        "colab": {
          "base_uri": "https://localhost:8080/"
        },
        "id": "L6xaEU9rcuPN",
        "outputId": "182f47de-3c16-4546-a513-f9cd1c353fe6"
      },
      "execution_count": 116,
      "outputs": [
        {
          "output_type": "execute_result",
          "data": {
            "text/plain": [
              "array([[  4,   7],\n",
              "       [  0,   2],\n",
              "       [ -5,   6],\n",
              "       [  0,   0],\n",
              "       [-12,  -4]])"
            ]
          },
          "metadata": {},
          "execution_count": 116
        }
      ]
    },
    {
      "cell_type": "code",
      "source": [
        "mask = (names == \"David\") | (names == \"Ahmed\")\n",
        "data[mask]"
      ],
      "metadata": {
        "colab": {
          "base_uri": "https://localhost:8080/"
        },
        "id": "z7TMKFmsczXp",
        "outputId": "949382e1-344b-4f80-c022-3c005f7e704e"
      },
      "execution_count": 117,
      "outputs": [
        {
          "output_type": "execute_result",
          "data": {
            "text/plain": [
              "array([[-5,  6],\n",
              "       [ 3,  4]])"
            ]
          },
          "metadata": {},
          "execution_count": 117
        }
      ]
    },
    {
      "cell_type": "code",
      "source": [
        "mask = (names == \"David\") | (names == \"Ahmed\")\n",
        "data[mask] = 12"
      ],
      "metadata": {
        "id": "vyVYAwqJc_fd"
      },
      "execution_count": 118,
      "outputs": []
    },
    {
      "cell_type": "code",
      "source": [
        "data"
      ],
      "metadata": {
        "colab": {
          "base_uri": "https://localhost:8080/"
        },
        "id": "Ro6gyd-IdLFt",
        "outputId": "6a02b4f2-8eb6-4cf3-fb74-c18af76c4c67"
      },
      "execution_count": 119,
      "outputs": [
        {
          "output_type": "execute_result",
          "data": {
            "text/plain": [
              "array([[  4,   7],\n",
              "       [  0,   2],\n",
              "       [ 12,  12],\n",
              "       [  0,   0],\n",
              "       [-12,  -4],\n",
              "       [ 12,  12]])"
            ]
          },
          "metadata": {},
          "execution_count": 119
        }
      ]
    },
    {
      "cell_type": "code",
      "source": [
        "arr10 = np.arange(15).reshape((3, 5))"
      ],
      "metadata": {
        "id": "mKnVrYuNdLxD"
      },
      "execution_count": 126,
      "outputs": []
    },
    {
      "cell_type": "code",
      "source": [
        "arr10"
      ],
      "metadata": {
        "colab": {
          "base_uri": "https://localhost:8080/"
        },
        "id": "2hX0YxxNdgdq",
        "outputId": "619def01-29ba-4e3a-d4ac-b42a08937fa9"
      },
      "execution_count": 127,
      "outputs": [
        {
          "output_type": "execute_result",
          "data": {
            "text/plain": [
              "array([[ 0,  1,  2,  3,  4],\n",
              "       [ 5,  6,  7,  8,  9],\n",
              "       [10, 11, 12, 13, 14]])"
            ]
          },
          "metadata": {},
          "execution_count": 127
        }
      ]
    },
    {
      "cell_type": "code",
      "source": [
        "arr10.T"
      ],
      "metadata": {
        "colab": {
          "base_uri": "https://localhost:8080/"
        },
        "id": "yrsQnUjgdy4R",
        "outputId": "ae3a7935-c33b-47fb-b5f6-67a1d72bcdbb"
      },
      "execution_count": 128,
      "outputs": [
        {
          "output_type": "execute_result",
          "data": {
            "text/plain": [
              "array([[ 0,  5, 10],\n",
              "       [ 1,  6, 11],\n",
              "       [ 2,  7, 12],\n",
              "       [ 3,  8, 13],\n",
              "       [ 4,  9, 14]])"
            ]
          },
          "metadata": {},
          "execution_count": 128
        }
      ]
    },
    {
      "cell_type": "code",
      "source": [
        "arr10.T, arr10"
      ],
      "metadata": {
        "colab": {
          "base_uri": "https://localhost:8080/"
        },
        "id": "LWlingG1d0eS",
        "outputId": "bc540465-b42e-4604-bfbf-236f11052b68"
      },
      "execution_count": 130,
      "outputs": [
        {
          "output_type": "execute_result",
          "data": {
            "text/plain": [
              "(array([[ 0,  5, 10],\n",
              "        [ 1,  6, 11],\n",
              "        [ 2,  7, 12],\n",
              "        [ 3,  8, 13],\n",
              "        [ 4,  9, 14]]),\n",
              " array([[ 0,  1,  2,  3,  4],\n",
              "        [ 5,  6,  7,  8,  9],\n",
              "        [10, 11, 12, 13, 14]]))"
            ]
          },
          "metadata": {},
          "execution_count": 130
        }
      ]
    },
    {
      "cell_type": "code",
      "source": [
        "np.dot(arr10.T, arr10)"
      ],
      "metadata": {
        "colab": {
          "base_uri": "https://localhost:8080/"
        },
        "id": "srbfAH7AeEyY",
        "outputId": "663bdc8c-0e4e-4fb2-8c2a-26ba549fcb1b"
      },
      "execution_count": 131,
      "outputs": [
        {
          "output_type": "execute_result",
          "data": {
            "text/plain": [
              "array([[125, 140, 155, 170, 185],\n",
              "       [140, 158, 176, 194, 212],\n",
              "       [155, 176, 197, 218, 239],\n",
              "       [170, 194, 218, 242, 266],\n",
              "       [185, 212, 239, 266, 293]])"
            ]
          },
          "metadata": {},
          "execution_count": 131
        }
      ]
    },
    {
      "cell_type": "code",
      "source": [
        "np.dot(arr10, arr10.T)"
      ],
      "metadata": {
        "colab": {
          "base_uri": "https://localhost:8080/"
        },
        "id": "YzSi5M7reZYj",
        "outputId": "7ff173c3-bcfa-479d-cfce-36c1921d9222"
      },
      "execution_count": 132,
      "outputs": [
        {
          "output_type": "execute_result",
          "data": {
            "text/plain": [
              "array([[ 30,  80, 130],\n",
              "       [ 80, 255, 430],\n",
              "       [130, 430, 730]])"
            ]
          },
          "metadata": {},
          "execution_count": 132
        }
      ]
    },
    {
      "cell_type": "code",
      "source": [
        "arr10 @ arr10.T"
      ],
      "metadata": {
        "colab": {
          "base_uri": "https://localhost:8080/"
        },
        "id": "9KVR5x6Jef9e",
        "outputId": "4d709c69-4a2f-4225-a312-0528bde8a86e"
      },
      "execution_count": 133,
      "outputs": [
        {
          "output_type": "execute_result",
          "data": {
            "text/plain": [
              "array([[ 30,  80, 130],\n",
              "       [ 80, 255, 430],\n",
              "       [130, 430, 730]])"
            ]
          },
          "metadata": {},
          "execution_count": 133
        }
      ]
    },
    {
      "cell_type": "code",
      "source": [],
      "metadata": {
        "id": "xnnxtpZSejaC"
      },
      "execution_count": null,
      "outputs": []
    },
    {
      "cell_type": "markdown",
      "source": [
        "### Exercise:\n",
        "\n",
        "1. Create an array with shape (10, 2) of all ones called `X`\n",
        "2. Replace the data in column 1 with 10 integers starting from 15.\n",
        "3. Create a (10, 1) array called `y` of a mix of ones and zeros.\n",
        "4. Multiply the transpose of `X` with `X`. What is the shape of the result?\n",
        "5. Multiply the tranpose of `X` and `y`. What is the shape of the result? "
      ],
      "metadata": {
        "id": "hn_4mPpnhUgD"
      }
    },
    {
      "cell_type": "code",
      "source": [
        "number_training_samples = 10\n",
        "number_features = 2\n",
        "X = np.ones((number_training_samples, number_features))"
      ],
      "metadata": {
        "id": "3hMGlnl0iOgc"
      },
      "execution_count": 134,
      "outputs": []
    },
    {
      "cell_type": "code",
      "source": [
        "X.shape"
      ],
      "metadata": {
        "colab": {
          "base_uri": "https://localhost:8080/"
        },
        "id": "IiQXK6Cpkskg",
        "outputId": "3ffbd2c6-9176-4db7-9460-56e044387871"
      },
      "execution_count": 136,
      "outputs": [
        {
          "output_type": "execute_result",
          "data": {
            "text/plain": [
              "(10, 2)"
            ]
          },
          "metadata": {},
          "execution_count": 136
        }
      ]
    },
    {
      "cell_type": "code",
      "source": [
        "X[:, 1] = np.arange(15, 25)"
      ],
      "metadata": {
        "id": "0p-stn48kuC-"
      },
      "execution_count": 139,
      "outputs": []
    },
    {
      "cell_type": "code",
      "source": [
        "X"
      ],
      "metadata": {
        "colab": {
          "base_uri": "https://localhost:8080/"
        },
        "id": "j_CYw6GQkxp7",
        "outputId": "15a828af-d361-4bd6-ddaa-7f331c85335c"
      },
      "execution_count": 140,
      "outputs": [
        {
          "output_type": "execute_result",
          "data": {
            "text/plain": [
              "array([[ 1., 15.],\n",
              "       [ 1., 16.],\n",
              "       [ 1., 17.],\n",
              "       [ 1., 18.],\n",
              "       [ 1., 19.],\n",
              "       [ 1., 20.],\n",
              "       [ 1., 21.],\n",
              "       [ 1., 22.],\n",
              "       [ 1., 23.],\n",
              "       [ 1., 24.]])"
            ]
          },
          "metadata": {},
          "execution_count": 140
        }
      ]
    },
    {
      "cell_type": "code",
      "source": [
        "y = np.ones((number_training_samples, 1))\n",
        "y[[1,3,4,7,9], 0] = 0.0 "
      ],
      "metadata": {
        "id": "4dm6sil2k7IL"
      },
      "execution_count": 142,
      "outputs": []
    },
    {
      "cell_type": "code",
      "source": [
        "y"
      ],
      "metadata": {
        "colab": {
          "base_uri": "https://localhost:8080/"
        },
        "id": "EU3G7jCRlTzv",
        "outputId": "b656b02c-2da4-413a-c50f-fbfc6017e168"
      },
      "execution_count": 143,
      "outputs": [
        {
          "output_type": "execute_result",
          "data": {
            "text/plain": [
              "array([[1.],\n",
              "       [0.],\n",
              "       [1.],\n",
              "       [0.],\n",
              "       [0.],\n",
              "       [1.],\n",
              "       [1.],\n",
              "       [0.],\n",
              "       [1.],\n",
              "       [0.]])"
            ]
          },
          "metadata": {},
          "execution_count": 143
        }
      ]
    },
    {
      "cell_type": "code",
      "source": [
        "X.T @ X"
      ],
      "metadata": {
        "colab": {
          "base_uri": "https://localhost:8080/"
        },
        "id": "DtmXnkmklZM6",
        "outputId": "df5bcc91-fc9a-49fd-fcee-f686e62c16d8"
      },
      "execution_count": 144,
      "outputs": [
        {
          "output_type": "execute_result",
          "data": {
            "text/plain": [
              "array([[  10.,  195.],\n",
              "       [ 195., 3885.]])"
            ]
          },
          "metadata": {},
          "execution_count": 144
        }
      ]
    },
    {
      "cell_type": "code",
      "source": [
        "X.T @ y"
      ],
      "metadata": {
        "colab": {
          "base_uri": "https://localhost:8080/"
        },
        "id": "4w7qPgd0lj3L",
        "outputId": "a54eece7-fec5-4bfd-da40-0cff946a167c"
      },
      "execution_count": 145,
      "outputs": [
        {
          "output_type": "execute_result",
          "data": {
            "text/plain": [
              "array([[ 5.],\n",
              "       [96.]])"
            ]
          },
          "metadata": {},
          "execution_count": 145
        }
      ]
    },
    {
      "cell_type": "code",
      "source": [],
      "metadata": {
        "id": "NIp32gA9lpm-"
      },
      "execution_count": null,
      "outputs": []
    },
    {
      "cell_type": "markdown",
      "source": [
        "## Pseudo-random Number Generation"
      ],
      "metadata": {
        "id": "EoamBOKesi33"
      }
    },
    {
      "cell_type": "code",
      "source": [
        "np.random.standard_normal(size=(10, 2))"
      ],
      "metadata": {
        "colab": {
          "base_uri": "https://localhost:8080/"
        },
        "id": "cb5qSK59sljd",
        "outputId": "74641999-ffa2-4ab2-c75b-285f7d8d6094"
      },
      "execution_count": 146,
      "outputs": [
        {
          "output_type": "execute_result",
          "data": {
            "text/plain": [
              "array([[-0.653594  , -0.20929885],\n",
              "       [ 0.76119494,  0.72695216],\n",
              "       [ 0.81888788,  0.11856993],\n",
              "       [ 0.69593639,  1.3483651 ],\n",
              "       [-0.72681905,  0.09604754],\n",
              "       [-0.25999652,  1.75676738],\n",
              "       [ 1.3289482 ,  0.1349885 ],\n",
              "       [ 0.12296749, -0.18047462],\n",
              "       [-0.39369667, -0.45487637],\n",
              "       [ 0.67294238,  1.10185892]])"
            ]
          },
          "metadata": {},
          "execution_count": 146
        }
      ]
    },
    {
      "cell_type": "code",
      "source": [
        "import random"
      ],
      "metadata": {
        "id": "WFD0w2qstKRY"
      },
      "execution_count": 147,
      "outputs": []
    },
    {
      "cell_type": "code",
      "source": [
        "%%timeit\n",
        "\n",
        "xs = [random.normalvariate(0, 1) for _ in range(1_000_000)]"
      ],
      "metadata": {
        "colab": {
          "base_uri": "https://localhost:8080/"
        },
        "id": "DB18SAcBtgp7",
        "outputId": "c23c901e-f112-4862-ff8e-fd930d80a54a"
      },
      "execution_count": 151,
      "outputs": [
        {
          "output_type": "stream",
          "name": "stdout",
          "text": [
            "741 ms ± 175 ms per loop (mean ± std. dev. of 7 runs, 1 loop each)\n"
          ]
        }
      ]
    },
    {
      "cell_type": "code",
      "source": [
        "%%timeit\n",
        "\n",
        "xs = np.random.standard_normal(1_000_000)"
      ],
      "metadata": {
        "colab": {
          "base_uri": "https://localhost:8080/"
        },
        "id": "TJ1jvzPOtrXu",
        "outputId": "e4d31b52-16b5-49a0-f337-b22069ca4855"
      },
      "execution_count": 153,
      "outputs": [
        {
          "output_type": "stream",
          "name": "stdout",
          "text": [
            "28.2 ms ± 6.14 ms per loop (mean ± std. dev. of 7 runs, 10 loops each)\n"
          ]
        }
      ]
    },
    {
      "cell_type": "code",
      "source": [
        "prng = np.random.RandomState(seed=43)"
      ],
      "metadata": {
        "id": "pAX6-pOKt9DU"
      },
      "execution_count": 162,
      "outputs": []
    },
    {
      "cell_type": "code",
      "source": [
        "prng.standard_normal((10, 2))"
      ],
      "metadata": {
        "colab": {
          "base_uri": "https://localhost:8080/"
        },
        "id": "bMErHcZNuVA3",
        "outputId": "9d5a8858-50e8-41b6-e988-a1999a1fccc4"
      },
      "execution_count": 163,
      "outputs": [
        {
          "output_type": "execute_result",
          "data": {
            "text/plain": [
              "array([[ 0.25739993, -0.90848143],\n",
              "       [-0.37850311, -0.5349156 ],\n",
              "       [ 0.85807335, -0.41300998],\n",
              "       [ 0.49818858,  2.01019925],\n",
              "       [ 1.26286154, -0.43921486],\n",
              "       [-0.34643789,  0.45531966],\n",
              "       [-1.66866271, -0.8620855 ],\n",
              "       [ 0.49291085, -0.1243134 ],\n",
              "       [ 1.93513629, -0.61844265],\n",
              "       [-1.04683899, -0.88961759]])"
            ]
          },
          "metadata": {},
          "execution_count": 163
        }
      ]
    },
    {
      "cell_type": "code",
      "source": [
        "prng.standard_normal((10, 2))"
      ],
      "metadata": {
        "colab": {
          "base_uri": "https://localhost:8080/"
        },
        "id": "QvnTzDfmuYko",
        "outputId": "dcf46a4a-065c-413b-8f5e-3b15bdf76fc3"
      },
      "execution_count": 164,
      "outputs": [
        {
          "output_type": "execute_result",
          "data": {
            "text/plain": [
              "array([[ 0.01404054, -0.16082969],\n",
              "       [ 2.23035965, -0.39911572],\n",
              "       [ 0.05444456,  0.88418182],\n",
              "       [-0.10798056,  0.55560698],\n",
              "       [ 0.39490664,  0.83720502],\n",
              "       [-1.40787817,  0.80784941],\n",
              "       [-0.13828364,  0.18717859],\n",
              "       [-0.38665814,  1.65904873],\n",
              "       [-2.04706913,  1.39931699],\n",
              "       [-0.67900712,  1.52898513]])"
            ]
          },
          "metadata": {},
          "execution_count": 164
        }
      ]
    },
    {
      "cell_type": "code",
      "source": [],
      "metadata": {
        "id": "evn_ayeTud7D"
      },
      "execution_count": null,
      "outputs": []
    },
    {
      "cell_type": "markdown",
      "source": [
        "### Exercise:\n",
        "\n",
        "Suppose that you have an dataset with 60,000 rows and 784 columns.\n",
        "\n",
        "1. Create an array `X` with shape (n_rows, n_cols + 1) of all random numbers from a standard normal distribution.\n",
        "2. Replace the data in column 0 with all ones.\n",
        "3. Create a (n_rows, 10) array called `y` of all zeros.\n",
        "4. For each row, randomly choose one of the columns and replace the zero in that column with a one.  \n",
        "5. Multiply the transpose of `X` with `X`. Predict the shape of the result. Where you correct?\n",
        "6. Multiply the tranpose of `X` and `y`. Predict the shape of the result. Where you correct? "
      ],
      "metadata": {
        "id": "JUg3wfO0vDck"
      }
    },
    {
      "cell_type": "code",
      "source": [
        "X = np.random.standard_normal((60_000, 784 + 1))"
      ],
      "metadata": {
        "id": "krM6v0pbxFms"
      },
      "execution_count": 183,
      "outputs": []
    },
    {
      "cell_type": "code",
      "source": [
        "X[:, 0] = 1"
      ],
      "metadata": {
        "id": "g2ePh4gJzT43"
      },
      "execution_count": 184,
      "outputs": []
    },
    {
      "cell_type": "code",
      "source": [
        "X[:5, :]"
      ],
      "metadata": {
        "colab": {
          "base_uri": "https://localhost:8080/"
        },
        "id": "tHjEV5DNzUOJ",
        "outputId": "afdba971-7457-4f55-d63f-2bdb993a4ce9"
      },
      "execution_count": 185,
      "outputs": [
        {
          "output_type": "execute_result",
          "data": {
            "text/plain": [
              "array([[ 1.        , -0.53408547, -0.55211385, ..., -0.06100026,\n",
              "         0.18866716,  0.08056619],\n",
              "       [ 1.        , -1.81482909, -0.14988385, ...,  0.11919851,\n",
              "        -1.70852472, -0.55993987],\n",
              "       [ 1.        ,  0.29413733, -1.42779162, ..., -0.38712699,\n",
              "         0.49318989,  0.66780622],\n",
              "       [ 1.        , -0.50935977,  1.21131769, ...,  1.09050486,\n",
              "         1.59023014,  1.93966869],\n",
              "       [ 1.        , -1.15355485,  0.24542612, ...,  0.97528057,\n",
              "         1.35691962, -1.20631388]])"
            ]
          },
          "metadata": {},
          "execution_count": 185
        }
      ]
    },
    {
      "cell_type": "code",
      "source": [
        "y = np.zeros((60_000, 10))"
      ],
      "metadata": {
        "id": "4oTQadJezmFJ"
      },
      "execution_count": 186,
      "outputs": []
    },
    {
      "cell_type": "code",
      "source": [
        "random_column_idxs = np.random.randint(low=0, high=10, size=60_000)"
      ],
      "metadata": {
        "id": "vXElad5Y3eoV"
      },
      "execution_count": 192,
      "outputs": []
    },
    {
      "cell_type": "code",
      "source": [
        "random_column_idxs[:5]"
      ],
      "metadata": {
        "colab": {
          "base_uri": "https://localhost:8080/"
        },
        "id": "NPCuysTo4HFO",
        "outputId": "db2eb234-c758-4e32-d346-fc0e2a39bf7f"
      },
      "execution_count": 193,
      "outputs": [
        {
          "output_type": "execute_result",
          "data": {
            "text/plain": [
              "array([2, 3, 9, 1, 3])"
            ]
          },
          "metadata": {},
          "execution_count": 193
        }
      ]
    },
    {
      "cell_type": "code",
      "source": [
        "row_idxs = np.arange(60_000)"
      ],
      "metadata": {
        "id": "ABHLQHeo3yyS"
      },
      "execution_count": 191,
      "outputs": []
    },
    {
      "cell_type": "code",
      "source": [
        "row_idxs[:5]"
      ],
      "metadata": {
        "colab": {
          "base_uri": "https://localhost:8080/"
        },
        "id": "l_WCoQV94E2p",
        "outputId": "66911734-49ad-4beb-9b44-7dd4044a29fe"
      },
      "execution_count": 194,
      "outputs": [
        {
          "output_type": "execute_result",
          "data": {
            "text/plain": [
              "array([0, 1, 2, 3, 4])"
            ]
          },
          "metadata": {},
          "execution_count": 194
        }
      ]
    },
    {
      "cell_type": "code",
      "source": [
        "y[row_idxs, random_column_idxs] = 1"
      ],
      "metadata": {
        "id": "4_mAOzgT4PLl"
      },
      "execution_count": 196,
      "outputs": []
    },
    {
      "cell_type": "code",
      "source": [
        "y[:10, :]"
      ],
      "metadata": {
        "colab": {
          "base_uri": "https://localhost:8080/"
        },
        "id": "cAd8eVyI4Vlp",
        "outputId": "1472acf5-0a0a-46cb-802e-4cc1c8ed1fbe"
      },
      "execution_count": 197,
      "outputs": [
        {
          "output_type": "execute_result",
          "data": {
            "text/plain": [
              "array([[0., 0., 1., 0., 0., 0., 0., 0., 0., 0.],\n",
              "       [0., 0., 0., 1., 0., 0., 0., 0., 0., 0.],\n",
              "       [0., 0., 0., 0., 0., 0., 0., 0., 0., 1.],\n",
              "       [0., 1., 0., 0., 0., 0., 0., 0., 0., 0.],\n",
              "       [0., 0., 0., 1., 0., 0., 0., 0., 0., 0.],\n",
              "       [0., 0., 0., 0., 0., 0., 0., 0., 0., 1.],\n",
              "       [0., 0., 1., 0., 0., 0., 0., 0., 0., 0.],\n",
              "       [0., 0., 0., 1., 0., 0., 0., 0., 0., 0.],\n",
              "       [0., 0., 0., 0., 0., 0., 0., 1., 0., 0.],\n",
              "       [0., 0., 0., 0., 0., 0., 0., 0., 1., 0.]])"
            ]
          },
          "metadata": {},
          "execution_count": 197
        }
      ]
    },
    {
      "cell_type": "code",
      "source": [
        "result = X.T @ X"
      ],
      "metadata": {
        "id": "2B5XRx5d4aSz"
      },
      "execution_count": 198,
      "outputs": []
    },
    {
      "cell_type": "code",
      "source": [
        "result.shape"
      ],
      "metadata": {
        "colab": {
          "base_uri": "https://localhost:8080/"
        },
        "id": "zDH1Of8Y5Cih",
        "outputId": "29941805-a225-4520-a519-df178803f03d"
      },
      "execution_count": 199,
      "outputs": [
        {
          "output_type": "execute_result",
          "data": {
            "text/plain": [
              "(785, 785)"
            ]
          },
          "metadata": {},
          "execution_count": 199
        }
      ]
    },
    {
      "cell_type": "code",
      "source": [
        "result2 = X.T @ y"
      ],
      "metadata": {
        "id": "_6u5okba5JtW"
      },
      "execution_count": 200,
      "outputs": []
    },
    {
      "cell_type": "code",
      "source": [
        "result2.shape"
      ],
      "metadata": {
        "colab": {
          "base_uri": "https://localhost:8080/"
        },
        "id": "RvCV-bG25OCI",
        "outputId": "58e22454-8cff-47ed-87b8-a64823f56c7d"
      },
      "execution_count": 201,
      "outputs": [
        {
          "output_type": "execute_result",
          "data": {
            "text/plain": [
              "(785, 10)"
            ]
          },
          "metadata": {},
          "execution_count": 201
        }
      ]
    },
    {
      "cell_type": "code",
      "source": [],
      "metadata": {
        "id": "Rj4YgPoA5O6i"
      },
      "execution_count": null,
      "outputs": []
    }
  ]
}
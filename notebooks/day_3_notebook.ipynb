{
  "nbformat": 4,
  "nbformat_minor": 0,
  "metadata": {
    "colab": {
      "provenance": []
    },
    "kernelspec": {
      "name": "python3",
      "display_name": "Python 3"
    },
    "language_info": {
      "name": "python"
    }
  },
  "cells": [
    {
      "cell_type": "markdown",
      "source": [
        "# NumPy Basics"
      ],
      "metadata": {
        "id": "ESX4WZ_KCMQg"
      }
    },
    {
      "cell_type": "code",
      "source": [
        "import numpy as np"
      ],
      "metadata": {
        "id": "-kusqmfACPGS"
      },
      "execution_count": 1,
      "outputs": []
    },
    {
      "cell_type": "code",
      "source": [
        "arr = np.arange(1_000_000)\n",
        "l0 = list(range(1_000_000))"
      ],
      "metadata": {
        "id": "b4wPX40WCYJI"
      },
      "execution_count": 2,
      "outputs": []
    },
    {
      "cell_type": "code",
      "source": [
        "%%timeit\n",
        "\n",
        "2 * arr"
      ],
      "metadata": {
        "colab": {
          "base_uri": "https://localhost:8080/"
        },
        "id": "5SzyZ7M7CYLu",
        "outputId": "d6f99681-5466-4bb2-e7c8-081cf1be6547"
      },
      "execution_count": 3,
      "outputs": [
        {
          "output_type": "stream",
          "name": "stdout",
          "text": [
            "814 µs ± 60 µs per loop (mean ± std. dev. of 7 runs, 1000 loops each)\n"
          ]
        }
      ]
    },
    {
      "cell_type": "code",
      "source": [
        "%%timeit\n",
        "\n",
        "[2 * x for x in l0]"
      ],
      "metadata": {
        "colab": {
          "base_uri": "https://localhost:8080/"
        },
        "id": "J3XHDZnTCYNu",
        "outputId": "15a3c00d-708f-4d42-eb03-7385af24ef3d"
      },
      "execution_count": 4,
      "outputs": [
        {
          "output_type": "stream",
          "name": "stdout",
          "text": [
            "44.4 ms ± 931 µs per loop (mean ± std. dev. of 7 runs, 10 loops each)\n"
          ]
        }
      ]
    },
    {
      "cell_type": "markdown",
      "source": [
        "## The NumPy ndarray"
      ],
      "metadata": {
        "id": "576Wvco7CPce"
      }
    },
    {
      "cell_type": "code",
      "source": [
        "data = np.array([[1.5, -0.1, 3], [0, -3, 6.5]])"
      ],
      "metadata": {
        "id": "xBbZI0gRCR3S"
      },
      "execution_count": 5,
      "outputs": []
    },
    {
      "cell_type": "code",
      "source": [
        "data"
      ],
      "metadata": {
        "colab": {
          "base_uri": "https://localhost:8080/"
        },
        "id": "ci3DDGtgERuU",
        "outputId": "b878625d-449c-452f-d6d2-d49e267dac88"
      },
      "execution_count": 6,
      "outputs": [
        {
          "output_type": "execute_result",
          "data": {
            "text/plain": [
              "array([[ 1.5, -0.1,  3. ],\n",
              "       [ 0. , -3. ,  6.5]])"
            ]
          },
          "metadata": {},
          "execution_count": 6
        }
      ]
    },
    {
      "cell_type": "code",
      "source": [
        "10 * data"
      ],
      "metadata": {
        "colab": {
          "base_uri": "https://localhost:8080/"
        },
        "id": "R3VQCRuXESlq",
        "outputId": "6df38236-8ede-4a56-9e63-cc20b7d080f5"
      },
      "execution_count": 7,
      "outputs": [
        {
          "output_type": "execute_result",
          "data": {
            "text/plain": [
              "array([[ 15.,  -1.,  30.],\n",
              "       [  0., -30.,  65.]])"
            ]
          },
          "metadata": {},
          "execution_count": 7
        }
      ]
    },
    {
      "cell_type": "code",
      "source": [
        "data + data"
      ],
      "metadata": {
        "colab": {
          "base_uri": "https://localhost:8080/"
        },
        "id": "GiMa7MbkFOEi",
        "outputId": "89b4780f-a3e8-416e-e494-164a4e22f532"
      },
      "execution_count": 8,
      "outputs": [
        {
          "output_type": "execute_result",
          "data": {
            "text/plain": [
              "array([[ 3. , -0.2,  6. ],\n",
              "       [ 0. , -6. , 13. ]])"
            ]
          },
          "metadata": {},
          "execution_count": 8
        }
      ]
    },
    {
      "cell_type": "code",
      "source": [
        "data * data"
      ],
      "metadata": {
        "colab": {
          "base_uri": "https://localhost:8080/"
        },
        "id": "BRorCfNQFQeV",
        "outputId": "bec8161a-9511-48f0-e858-e28a7f3936a9"
      },
      "execution_count": 9,
      "outputs": [
        {
          "output_type": "execute_result",
          "data": {
            "text/plain": [
              "array([[2.250e+00, 1.000e-02, 9.000e+00],\n",
              "       [0.000e+00, 9.000e+00, 4.225e+01]])"
            ]
          },
          "metadata": {},
          "execution_count": 9
        }
      ]
    },
    {
      "cell_type": "code",
      "source": [
        "data.shape"
      ],
      "metadata": {
        "colab": {
          "base_uri": "https://localhost:8080/"
        },
        "id": "Q6Ye_6btFTRG",
        "outputId": "00667b5d-802f-427c-fee2-0c0b0d24f068"
      },
      "execution_count": 10,
      "outputs": [
        {
          "output_type": "execute_result",
          "data": {
            "text/plain": [
              "(2, 3)"
            ]
          },
          "metadata": {},
          "execution_count": 10
        }
      ]
    },
    {
      "cell_type": "code",
      "source": [
        "data.dtype"
      ],
      "metadata": {
        "colab": {
          "base_uri": "https://localhost:8080/"
        },
        "id": "DukCQMxHFc52",
        "outputId": "52c57299-5738-4545-a6f7-3eb81d05a281"
      },
      "execution_count": 11,
      "outputs": [
        {
          "output_type": "execute_result",
          "data": {
            "text/plain": [
              "dtype('float64')"
            ]
          },
          "metadata": {},
          "execution_count": 11
        }
      ]
    },
    {
      "cell_type": "code",
      "source": [
        "l0 = [6, 7.5, 8, 0, 1]\n",
        "arr0 = np.array(l0)"
      ],
      "metadata": {
        "id": "RqGC63sGGrDx"
      },
      "execution_count": 12,
      "outputs": []
    },
    {
      "cell_type": "code",
      "source": [
        "arr0"
      ],
      "metadata": {
        "colab": {
          "base_uri": "https://localhost:8080/"
        },
        "id": "PrW3mLlFHB7B",
        "outputId": "6fefc210-91cc-400f-b196-1210d5c0cb25"
      },
      "execution_count": 13,
      "outputs": [
        {
          "output_type": "execute_result",
          "data": {
            "text/plain": [
              "array([6. , 7.5, 8. , 0. , 1. ])"
            ]
          },
          "metadata": {},
          "execution_count": 13
        }
      ]
    },
    {
      "cell_type": "code",
      "source": [
        "l1 = [[0],[1],[3]]\n",
        "arr1 = np.array(l1)"
      ],
      "metadata": {
        "id": "-aHW0PTuHCiY"
      },
      "execution_count": 16,
      "outputs": []
    },
    {
      "cell_type": "code",
      "source": [
        "arr1"
      ],
      "metadata": {
        "colab": {
          "base_uri": "https://localhost:8080/"
        },
        "id": "lyadJD2BHNUg",
        "outputId": "89f26c48-2175-49de-e9d4-d261ba44e9be"
      },
      "execution_count": 17,
      "outputs": [
        {
          "output_type": "execute_result",
          "data": {
            "text/plain": [
              "array([[0],\n",
              "       [1],\n",
              "       [3]])"
            ]
          },
          "metadata": {},
          "execution_count": 17
        }
      ]
    },
    {
      "cell_type": "code",
      "source": [
        "arr1.shape"
      ],
      "metadata": {
        "colab": {
          "base_uri": "https://localhost:8080/"
        },
        "id": "VXUrhI2PHNrc",
        "outputId": "7076ef62-9b8d-47eb-e8ec-483ff8599b85"
      },
      "execution_count": 19,
      "outputs": [
        {
          "output_type": "execute_result",
          "data": {
            "text/plain": [
              "(3, 1)"
            ]
          },
          "metadata": {},
          "execution_count": 19
        }
      ]
    },
    {
      "cell_type": "code",
      "source": [
        "arr1.ndim"
      ],
      "metadata": {
        "colab": {
          "base_uri": "https://localhost:8080/"
        },
        "id": "LMP-cSjQHe-6",
        "outputId": "f1b3ae07-84f5-40a0-f423-90256e212f3f"
      },
      "execution_count": 20,
      "outputs": [
        {
          "output_type": "execute_result",
          "data": {
            "text/plain": [
              "2"
            ]
          },
          "metadata": {},
          "execution_count": 20
        }
      ]
    },
    {
      "cell_type": "code",
      "source": [
        "arr1.dtype"
      ],
      "metadata": {
        "colab": {
          "base_uri": "https://localhost:8080/"
        },
        "id": "wI-XQ93xHiNY",
        "outputId": "4e5e392a-90ac-4959-ecc8-ce1867f5dd5f"
      },
      "execution_count": 21,
      "outputs": [
        {
          "output_type": "execute_result",
          "data": {
            "text/plain": [
              "dtype('int64')"
            ]
          },
          "metadata": {},
          "execution_count": 21
        }
      ]
    },
    {
      "cell_type": "code",
      "source": [
        "np.zeros(10)"
      ],
      "metadata": {
        "colab": {
          "base_uri": "https://localhost:8080/"
        },
        "id": "5d3LyGmyHj-5",
        "outputId": "5b429d76-f9a2-4d8c-b888-996fffb2a8e7"
      },
      "execution_count": 22,
      "outputs": [
        {
          "output_type": "execute_result",
          "data": {
            "text/plain": [
              "array([0., 0., 0., 0., 0., 0., 0., 0., 0., 0.])"
            ]
          },
          "metadata": {},
          "execution_count": 22
        }
      ]
    },
    {
      "cell_type": "code",
      "source": [
        "np.zeros((3, 6))"
      ],
      "metadata": {
        "colab": {
          "base_uri": "https://localhost:8080/"
        },
        "id": "N0RVgbP3Hsoy",
        "outputId": "c77245c6-3f5a-4166-8d66-95278165c4cd"
      },
      "execution_count": 23,
      "outputs": [
        {
          "output_type": "execute_result",
          "data": {
            "text/plain": [
              "array([[0., 0., 0., 0., 0., 0.],\n",
              "       [0., 0., 0., 0., 0., 0.],\n",
              "       [0., 0., 0., 0., 0., 0.]])"
            ]
          },
          "metadata": {},
          "execution_count": 23
        }
      ]
    },
    {
      "cell_type": "code",
      "source": [
        "np.empty((3, 6))"
      ],
      "metadata": {
        "colab": {
          "base_uri": "https://localhost:8080/"
        },
        "id": "gFVw1EGBHvQf",
        "outputId": "5b93f995-4bc1-45b6-b5ee-d8d1a6c66125"
      },
      "execution_count": 24,
      "outputs": [
        {
          "output_type": "execute_result",
          "data": {
            "text/plain": [
              "array([[0., 0., 0., 0., 0., 0.],\n",
              "       [0., 0., 0., 0., 0., 0.],\n",
              "       [0., 0., 0., 0., 0., 0.]])"
            ]
          },
          "metadata": {},
          "execution_count": 24
        }
      ]
    },
    {
      "cell_type": "code",
      "source": [
        "np.arange(15)"
      ],
      "metadata": {
        "colab": {
          "base_uri": "https://localhost:8080/"
        },
        "id": "ckGAEpN-H0pC",
        "outputId": "7b53c193-e807-4e45-9b0a-e1188b510342"
      },
      "execution_count": 25,
      "outputs": [
        {
          "output_type": "execute_result",
          "data": {
            "text/plain": [
              "array([ 0,  1,  2,  3,  4,  5,  6,  7,  8,  9, 10, 11, 12, 13, 14])"
            ]
          },
          "metadata": {},
          "execution_count": 25
        }
      ]
    },
    {
      "cell_type": "code",
      "source": [
        "np.arange(15, dtype=np.float64)"
      ],
      "metadata": {
        "colab": {
          "base_uri": "https://localhost:8080/"
        },
        "id": "tMgGGf5BIRuS",
        "outputId": "d88dc904-6685-4b6b-b36d-0d39ac6f61c5"
      },
      "execution_count": 26,
      "outputs": [
        {
          "output_type": "execute_result",
          "data": {
            "text/plain": [
              "array([ 0.,  1.,  2.,  3.,  4.,  5.,  6.,  7.,  8.,  9., 10., 11., 12.,\n",
              "       13., 14.])"
            ]
          },
          "metadata": {},
          "execution_count": 26
        }
      ]
    },
    {
      "cell_type": "markdown",
      "source": [
        "### Exercise\n",
        "\n",
        "1. Create an array with 10 rows and 5 columns of all ones.\n",
        "2. Create an array with 10 rows and 5 columns of all negative twos.\n",
        "3. Add, subtract, multiple, and divide the arrays."
      ],
      "metadata": {
        "id": "j0H2lZNYI7Kf"
      }
    },
    {
      "cell_type": "code",
      "source": [
        "a = np.ones((10, 5))"
      ],
      "metadata": {
        "id": "bvXEvV1aIY7W"
      },
      "execution_count": 37,
      "outputs": []
    },
    {
      "cell_type": "code",
      "source": [
        "np.zeros((10, 10)) - 2"
      ],
      "metadata": {
        "colab": {
          "base_uri": "https://localhost:8080/"
        },
        "id": "iS8MBB2fM8V-",
        "outputId": "446832d8-ab88-4757-9c70-536d9dd0536e"
      },
      "execution_count": 32,
      "outputs": [
        {
          "output_type": "execute_result",
          "data": {
            "text/plain": [
              "array([[-2., -2., -2., -2., -2., -2., -2., -2., -2., -2.],\n",
              "       [-2., -2., -2., -2., -2., -2., -2., -2., -2., -2.],\n",
              "       [-2., -2., -2., -2., -2., -2., -2., -2., -2., -2.],\n",
              "       [-2., -2., -2., -2., -2., -2., -2., -2., -2., -2.],\n",
              "       [-2., -2., -2., -2., -2., -2., -2., -2., -2., -2.],\n",
              "       [-2., -2., -2., -2., -2., -2., -2., -2., -2., -2.],\n",
              "       [-2., -2., -2., -2., -2., -2., -2., -2., -2., -2.],\n",
              "       [-2., -2., -2., -2., -2., -2., -2., -2., -2., -2.],\n",
              "       [-2., -2., -2., -2., -2., -2., -2., -2., -2., -2.],\n",
              "       [-2., -2., -2., -2., -2., -2., -2., -2., -2., -2.]])"
            ]
          },
          "metadata": {},
          "execution_count": 32
        }
      ]
    },
    {
      "cell_type": "code",
      "source": [
        "np.ones((10, 10)) * -2"
      ],
      "metadata": {
        "colab": {
          "base_uri": "https://localhost:8080/"
        },
        "id": "fVjlb2QfM8jA",
        "outputId": "02879a88-2b02-4885-a9cc-9c2e4b994ea6"
      },
      "execution_count": 33,
      "outputs": [
        {
          "output_type": "execute_result",
          "data": {
            "text/plain": [
              "array([[-2., -2., -2., -2., -2., -2., -2., -2., -2., -2.],\n",
              "       [-2., -2., -2., -2., -2., -2., -2., -2., -2., -2.],\n",
              "       [-2., -2., -2., -2., -2., -2., -2., -2., -2., -2.],\n",
              "       [-2., -2., -2., -2., -2., -2., -2., -2., -2., -2.],\n",
              "       [-2., -2., -2., -2., -2., -2., -2., -2., -2., -2.],\n",
              "       [-2., -2., -2., -2., -2., -2., -2., -2., -2., -2.],\n",
              "       [-2., -2., -2., -2., -2., -2., -2., -2., -2., -2.],\n",
              "       [-2., -2., -2., -2., -2., -2., -2., -2., -2., -2.],\n",
              "       [-2., -2., -2., -2., -2., -2., -2., -2., -2., -2.],\n",
              "       [-2., -2., -2., -2., -2., -2., -2., -2., -2., -2.]])"
            ]
          },
          "metadata": {},
          "execution_count": 33
        }
      ]
    },
    {
      "cell_type": "code",
      "source": [
        "b = np.full((10, 5), -2)"
      ],
      "metadata": {
        "id": "MQwGmvp1NJMm"
      },
      "execution_count": 36,
      "outputs": []
    },
    {
      "cell_type": "code",
      "source": [
        "a + b"
      ],
      "metadata": {
        "colab": {
          "base_uri": "https://localhost:8080/"
        },
        "id": "sEHjl0jNNJPO",
        "outputId": "64aef95d-3ea1-4ab2-cb49-623b9f2fce35"
      },
      "execution_count": 38,
      "outputs": [
        {
          "output_type": "execute_result",
          "data": {
            "text/plain": [
              "array([[-1., -1., -1., -1., -1.],\n",
              "       [-1., -1., -1., -1., -1.],\n",
              "       [-1., -1., -1., -1., -1.],\n",
              "       [-1., -1., -1., -1., -1.],\n",
              "       [-1., -1., -1., -1., -1.],\n",
              "       [-1., -1., -1., -1., -1.],\n",
              "       [-1., -1., -1., -1., -1.],\n",
              "       [-1., -1., -1., -1., -1.],\n",
              "       [-1., -1., -1., -1., -1.],\n",
              "       [-1., -1., -1., -1., -1.]])"
            ]
          },
          "metadata": {},
          "execution_count": 38
        }
      ]
    },
    {
      "cell_type": "code",
      "source": [
        "a - b"
      ],
      "metadata": {
        "colab": {
          "base_uri": "https://localhost:8080/"
        },
        "id": "l-5eQCCPNJRP",
        "outputId": "30e3db80-ac70-4c32-8765-31146cc8d5ba"
      },
      "execution_count": 39,
      "outputs": [
        {
          "output_type": "execute_result",
          "data": {
            "text/plain": [
              "array([[3., 3., 3., 3., 3.],\n",
              "       [3., 3., 3., 3., 3.],\n",
              "       [3., 3., 3., 3., 3.],\n",
              "       [3., 3., 3., 3., 3.],\n",
              "       [3., 3., 3., 3., 3.],\n",
              "       [3., 3., 3., 3., 3.],\n",
              "       [3., 3., 3., 3., 3.],\n",
              "       [3., 3., 3., 3., 3.],\n",
              "       [3., 3., 3., 3., 3.],\n",
              "       [3., 3., 3., 3., 3.]])"
            ]
          },
          "metadata": {},
          "execution_count": 39
        }
      ]
    },
    {
      "cell_type": "code",
      "source": [
        "a * b"
      ],
      "metadata": {
        "colab": {
          "base_uri": "https://localhost:8080/"
        },
        "id": "Y_I29MatNZn-",
        "outputId": "156ec7bd-28d9-456d-fb8c-7a8ead82d895"
      },
      "execution_count": 40,
      "outputs": [
        {
          "output_type": "execute_result",
          "data": {
            "text/plain": [
              "array([[-2., -2., -2., -2., -2.],\n",
              "       [-2., -2., -2., -2., -2.],\n",
              "       [-2., -2., -2., -2., -2.],\n",
              "       [-2., -2., -2., -2., -2.],\n",
              "       [-2., -2., -2., -2., -2.],\n",
              "       [-2., -2., -2., -2., -2.],\n",
              "       [-2., -2., -2., -2., -2.],\n",
              "       [-2., -2., -2., -2., -2.],\n",
              "       [-2., -2., -2., -2., -2.],\n",
              "       [-2., -2., -2., -2., -2.]])"
            ]
          },
          "metadata": {},
          "execution_count": 40
        }
      ]
    },
    {
      "cell_type": "code",
      "source": [
        "a / b"
      ],
      "metadata": {
        "colab": {
          "base_uri": "https://localhost:8080/"
        },
        "id": "bshwFUuKNZqc",
        "outputId": "d1c53f87-5fdd-4b59-d1a9-daab02b9f101"
      },
      "execution_count": 41,
      "outputs": [
        {
          "output_type": "execute_result",
          "data": {
            "text/plain": [
              "array([[-0.5, -0.5, -0.5, -0.5, -0.5],\n",
              "       [-0.5, -0.5, -0.5, -0.5, -0.5],\n",
              "       [-0.5, -0.5, -0.5, -0.5, -0.5],\n",
              "       [-0.5, -0.5, -0.5, -0.5, -0.5],\n",
              "       [-0.5, -0.5, -0.5, -0.5, -0.5],\n",
              "       [-0.5, -0.5, -0.5, -0.5, -0.5],\n",
              "       [-0.5, -0.5, -0.5, -0.5, -0.5],\n",
              "       [-0.5, -0.5, -0.5, -0.5, -0.5],\n",
              "       [-0.5, -0.5, -0.5, -0.5, -0.5],\n",
              "       [-0.5, -0.5, -0.5, -0.5, -0.5]])"
            ]
          },
          "metadata": {},
          "execution_count": 41
        }
      ]
    },
    {
      "cell_type": "markdown",
      "source": [
        "### Exercise:\n",
        "\n",
        "1. Use the `np.identity` function to create a (10, 10) identity matrix."
      ],
      "metadata": {
        "id": "gc4WrxdoJeU2"
      }
    },
    {
      "cell_type": "code",
      "source": [
        "np.identity(10)"
      ],
      "metadata": {
        "colab": {
          "base_uri": "https://localhost:8080/"
        },
        "id": "i6aeUby5KBDR",
        "outputId": "710fb110-ba11-48cd-afd4-bbbec13037bc"
      },
      "execution_count": 43,
      "outputs": [
        {
          "output_type": "execute_result",
          "data": {
            "text/plain": [
              "array([[1., 0., 0., 0., 0., 0., 0., 0., 0., 0.],\n",
              "       [0., 1., 0., 0., 0., 0., 0., 0., 0., 0.],\n",
              "       [0., 0., 1., 0., 0., 0., 0., 0., 0., 0.],\n",
              "       [0., 0., 0., 1., 0., 0., 0., 0., 0., 0.],\n",
              "       [0., 0., 0., 0., 1., 0., 0., 0., 0., 0.],\n",
              "       [0., 0., 0., 0., 0., 1., 0., 0., 0., 0.],\n",
              "       [0., 0., 0., 0., 0., 0., 1., 0., 0., 0.],\n",
              "       [0., 0., 0., 0., 0., 0., 0., 1., 0., 0.],\n",
              "       [0., 0., 0., 0., 0., 0., 0., 0., 1., 0.],\n",
              "       [0., 0., 0., 0., 0., 0., 0., 0., 0., 1.]])"
            ]
          },
          "metadata": {},
          "execution_count": 43
        }
      ]
    },
    {
      "cell_type": "code",
      "source": [
        "np.diag(2 * np.ones(10))"
      ],
      "metadata": {
        "colab": {
          "base_uri": "https://localhost:8080/"
        },
        "id": "RoPsJE0CMfjr",
        "outputId": "f2b41768-2928-42f3-91a3-b832e2994540"
      },
      "execution_count": 47,
      "outputs": [
        {
          "output_type": "execute_result",
          "data": {
            "text/plain": [
              "array([[2., 0., 0., 0., 0., 0., 0., 0., 0., 0.],\n",
              "       [0., 2., 0., 0., 0., 0., 0., 0., 0., 0.],\n",
              "       [0., 0., 2., 0., 0., 0., 0., 0., 0., 0.],\n",
              "       [0., 0., 0., 2., 0., 0., 0., 0., 0., 0.],\n",
              "       [0., 0., 0., 0., 2., 0., 0., 0., 0., 0.],\n",
              "       [0., 0., 0., 0., 0., 2., 0., 0., 0., 0.],\n",
              "       [0., 0., 0., 0., 0., 0., 2., 0., 0., 0.],\n",
              "       [0., 0., 0., 0., 0., 0., 0., 2., 0., 0.],\n",
              "       [0., 0., 0., 0., 0., 0., 0., 0., 2., 0.],\n",
              "       [0., 0., 0., 0., 0., 0., 0., 0., 0., 2.]])"
            ]
          },
          "metadata": {},
          "execution_count": 47
        }
      ]
    },
    {
      "cell_type": "code",
      "source": [
        "np.diag(np.arange(10))"
      ],
      "metadata": {
        "colab": {
          "base_uri": "https://localhost:8080/"
        },
        "id": "-LQmOEp2N_gr",
        "outputId": "8aafdd04-9248-4965-cb81-fdce6e285781"
      },
      "execution_count": 48,
      "outputs": [
        {
          "output_type": "execute_result",
          "data": {
            "text/plain": [
              "array([[0, 0, 0, 0, 0, 0, 0, 0, 0, 0],\n",
              "       [0, 1, 0, 0, 0, 0, 0, 0, 0, 0],\n",
              "       [0, 0, 2, 0, 0, 0, 0, 0, 0, 0],\n",
              "       [0, 0, 0, 3, 0, 0, 0, 0, 0, 0],\n",
              "       [0, 0, 0, 0, 4, 0, 0, 0, 0, 0],\n",
              "       [0, 0, 0, 0, 0, 5, 0, 0, 0, 0],\n",
              "       [0, 0, 0, 0, 0, 0, 6, 0, 0, 0],\n",
              "       [0, 0, 0, 0, 0, 0, 0, 7, 0, 0],\n",
              "       [0, 0, 0, 0, 0, 0, 0, 0, 8, 0],\n",
              "       [0, 0, 0, 0, 0, 0, 0, 0, 0, 9]])"
            ]
          },
          "metadata": {},
          "execution_count": 48
        }
      ]
    },
    {
      "cell_type": "code",
      "source": [
        "a = np.random.rand(5, 5)\n",
        "a"
      ],
      "metadata": {
        "colab": {
          "base_uri": "https://localhost:8080/"
        },
        "id": "imPODHn3OYLz",
        "outputId": "d4724547-db17-4a42-ad27-164c579a930e"
      },
      "execution_count": 50,
      "outputs": [
        {
          "output_type": "execute_result",
          "data": {
            "text/plain": [
              "array([[0.97595782, 0.27497745, 0.54239295, 0.86178038, 0.86017728],\n",
              "       [0.78807208, 0.42353646, 0.22360107, 0.9254719 , 0.92785037],\n",
              "       [0.01082887, 0.3516742 , 0.90154295, 0.73910616, 0.59498355],\n",
              "       [0.83661847, 0.20842367, 0.51438382, 0.05103325, 0.40940692],\n",
              "       [0.53669719, 0.0762167 , 0.91874884, 0.25799008, 0.49646022]])"
            ]
          },
          "metadata": {},
          "execution_count": 50
        }
      ]
    },
    {
      "cell_type": "code",
      "source": [
        "np.diag(a)"
      ],
      "metadata": {
        "colab": {
          "base_uri": "https://localhost:8080/"
        },
        "id": "LKYo7CCrOiSc",
        "outputId": "622aa73e-537a-4013-8018-e73034d96798"
      },
      "execution_count": 51,
      "outputs": [
        {
          "output_type": "execute_result",
          "data": {
            "text/plain": [
              "array([0.97595782, 0.42353646, 0.90154295, 0.05103325, 0.49646022])"
            ]
          },
          "metadata": {},
          "execution_count": 51
        }
      ]
    },
    {
      "cell_type": "code",
      "source": [
        "np.diag(np.diag(a))"
      ],
      "metadata": {
        "colab": {
          "base_uri": "https://localhost:8080/"
        },
        "id": "pWv2dxvZOmzH",
        "outputId": "16eae98e-4db6-447a-88a8-f991b1b2f077"
      },
      "execution_count": 52,
      "outputs": [
        {
          "output_type": "execute_result",
          "data": {
            "text/plain": [
              "array([[0.97595782, 0.        , 0.        , 0.        , 0.        ],\n",
              "       [0.        , 0.42353646, 0.        , 0.        , 0.        ],\n",
              "       [0.        , 0.        , 0.90154295, 0.        , 0.        ],\n",
              "       [0.        , 0.        , 0.        , 0.05103325, 0.        ],\n",
              "       [0.        , 0.        , 0.        , 0.        , 0.49646022]])"
            ]
          },
          "metadata": {},
          "execution_count": 52
        }
      ]
    },
    {
      "cell_type": "code",
      "source": [
        "arr4 = np.array(\n",
        "    [[1.2, 3, 4.5, 6],\n",
        "     [3.3, -4.5, 6, 7.7],\n",
        "     [2.3, 4.5, 6.8, 9]],\n",
        "    dtype=np.int8)"
      ],
      "metadata": {
        "id": "XrAWBcvUOvvb"
      },
      "execution_count": 60,
      "outputs": []
    },
    {
      "cell_type": "code",
      "source": [
        "arr4.dtype"
      ],
      "metadata": {
        "colab": {
          "base_uri": "https://localhost:8080/"
        },
        "id": "wG_gpnrxPSW7",
        "outputId": "1ae43f4e-ef31-4bb3-c34c-f007a1592f1a"
      },
      "execution_count": 61,
      "outputs": [
        {
          "output_type": "execute_result",
          "data": {
            "text/plain": [
              "dtype('int8')"
            ]
          },
          "metadata": {},
          "execution_count": 61
        }
      ]
    },
    {
      "cell_type": "code",
      "source": [
        "arr4"
      ],
      "metadata": {
        "colab": {
          "base_uri": "https://localhost:8080/"
        },
        "id": "usUpcA7HPXdZ",
        "outputId": "ba3e7251-b25f-4908-e2cb-08c82c564e9b"
      },
      "execution_count": 63,
      "outputs": [
        {
          "output_type": "execute_result",
          "data": {
            "text/plain": [
              "array([[ 1,  3,  4,  6],\n",
              "       [ 3, -4,  6,  7],\n",
              "       [ 2,  4,  6,  9]], dtype=int8)"
            ]
          },
          "metadata": {},
          "execution_count": 63
        }
      ]
    },
    {
      "cell_type": "code",
      "source": [
        "arr5 = np.array([[1., 2., 3.], [4., 5., 6.]])\n",
        "arr5"
      ],
      "metadata": {
        "colab": {
          "base_uri": "https://localhost:8080/"
        },
        "id": "y9v0O7eoRJ8L",
        "outputId": "b51579d6-5407-465c-e578-ade1fc587306"
      },
      "execution_count": 64,
      "outputs": [
        {
          "output_type": "execute_result",
          "data": {
            "text/plain": [
              "array([[1., 2., 3.],\n",
              "       [4., 5., 6.]])"
            ]
          },
          "metadata": {},
          "execution_count": 64
        }
      ]
    },
    {
      "cell_type": "code",
      "source": [
        "arr5 * arr5"
      ],
      "metadata": {
        "colab": {
          "base_uri": "https://localhost:8080/"
        },
        "id": "SAKXN2R5XcUy",
        "outputId": "ef0348db-8572-42fd-8215-e5bdde0797ec"
      },
      "execution_count": 65,
      "outputs": [
        {
          "output_type": "execute_result",
          "data": {
            "text/plain": [
              "array([[ 1.,  4.,  9.],\n",
              "       [16., 25., 36.]])"
            ]
          },
          "metadata": {},
          "execution_count": 65
        }
      ]
    },
    {
      "cell_type": "code",
      "source": [
        "arr5 - arr5"
      ],
      "metadata": {
        "colab": {
          "base_uri": "https://localhost:8080/"
        },
        "id": "BMp_Z0WZXktH",
        "outputId": "e5925a1a-62bd-4afd-f944-27b33df5d19d"
      },
      "execution_count": 66,
      "outputs": [
        {
          "output_type": "execute_result",
          "data": {
            "text/plain": [
              "array([[0., 0., 0.],\n",
              "       [0., 0., 0.]])"
            ]
          },
          "metadata": {},
          "execution_count": 66
        }
      ]
    },
    {
      "cell_type": "code",
      "source": [
        "1 / arr5"
      ],
      "metadata": {
        "colab": {
          "base_uri": "https://localhost:8080/"
        },
        "id": "dIbSGrwNXm1G",
        "outputId": "f5bc4b56-8a4e-401f-9b8a-93f1e984eeb9"
      },
      "execution_count": 67,
      "outputs": [
        {
          "output_type": "execute_result",
          "data": {
            "text/plain": [
              "array([[1.        , 0.5       , 0.33333333],\n",
              "       [0.25      , 0.2       , 0.16666667]])"
            ]
          },
          "metadata": {},
          "execution_count": 67
        }
      ]
    },
    {
      "cell_type": "code",
      "source": [
        "arr5**2"
      ],
      "metadata": {
        "colab": {
          "base_uri": "https://localhost:8080/"
        },
        "id": "IxMtPlKwXpRR",
        "outputId": "c23b3bf7-3e8c-4ea6-9ef5-729e7f7adebc"
      },
      "execution_count": 68,
      "outputs": [
        {
          "output_type": "execute_result",
          "data": {
            "text/plain": [
              "array([[ 1.,  4.,  9.],\n",
              "       [16., 25., 36.]])"
            ]
          },
          "metadata": {},
          "execution_count": 68
        }
      ]
    },
    {
      "cell_type": "code",
      "source": [
        "arr6 = np.array([[0., 4., 1.], [7., 2., 12.]])"
      ],
      "metadata": {
        "id": "oZZPBNszXrjQ"
      },
      "execution_count": 69,
      "outputs": []
    },
    {
      "cell_type": "code",
      "source": [
        "arr6"
      ],
      "metadata": {
        "colab": {
          "base_uri": "https://localhost:8080/"
        },
        "id": "OgOIH8BOX0oy",
        "outputId": "2661efd6-679d-46f6-f784-f34035b1cb27"
      },
      "execution_count": 70,
      "outputs": [
        {
          "output_type": "execute_result",
          "data": {
            "text/plain": [
              "array([[ 0.,  4.,  1.],\n",
              "       [ 7.,  2., 12.]])"
            ]
          },
          "metadata": {},
          "execution_count": 70
        }
      ]
    },
    {
      "cell_type": "code",
      "source": [
        "arr5 > arr6"
      ],
      "metadata": {
        "colab": {
          "base_uri": "https://localhost:8080/"
        },
        "id": "UJKPWanuX1Yk",
        "outputId": "eb6a595e-d41d-4810-dd65-82a909c115c0"
      },
      "execution_count": 71,
      "outputs": [
        {
          "output_type": "execute_result",
          "data": {
            "text/plain": [
              "array([[ True, False,  True],\n",
              "       [False,  True, False]])"
            ]
          },
          "metadata": {},
          "execution_count": 71
        }
      ]
    },
    {
      "cell_type": "code",
      "source": [
        "arr5.shape"
      ],
      "metadata": {
        "colab": {
          "base_uri": "https://localhost:8080/"
        },
        "id": "UqOZiomYX3Gf",
        "outputId": "8c548a79-78f7-4a01-b491-fcc27036f625"
      },
      "execution_count": 72,
      "outputs": [
        {
          "output_type": "execute_result",
          "data": {
            "text/plain": [
              "(2, 3)"
            ]
          },
          "metadata": {},
          "execution_count": 72
        }
      ]
    },
    {
      "cell_type": "code",
      "source": [
        "arr6.shape"
      ],
      "metadata": {
        "colab": {
          "base_uri": "https://localhost:8080/"
        },
        "id": "qR4RNBLWYEnM",
        "outputId": "44acbf0c-5a45-4a08-d725-4de6ea790e91"
      },
      "execution_count": 73,
      "outputs": [
        {
          "output_type": "execute_result",
          "data": {
            "text/plain": [
              "(2, 3)"
            ]
          },
          "metadata": {},
          "execution_count": 73
        }
      ]
    },
    {
      "cell_type": "code",
      "source": [
        "arr7 = np.arange(10, 20, 1)"
      ],
      "metadata": {
        "id": "DL0mNIKTYF8q"
      },
      "execution_count": 76,
      "outputs": []
    },
    {
      "cell_type": "code",
      "source": [
        "arr7"
      ],
      "metadata": {
        "colab": {
          "base_uri": "https://localhost:8080/"
        },
        "id": "4mHSPikOYXic",
        "outputId": "e7ee46da-5515-4e13-8dc4-77c5670743a4"
      },
      "execution_count": 77,
      "outputs": [
        {
          "output_type": "execute_result",
          "data": {
            "text/plain": [
              "array([10, 11, 12, 13, 14, 15, 16, 17, 18, 19])"
            ]
          },
          "metadata": {},
          "execution_count": 77
        }
      ]
    },
    {
      "cell_type": "code",
      "source": [
        "arr7[3]"
      ],
      "metadata": {
        "colab": {
          "base_uri": "https://localhost:8080/"
        },
        "id": "moCFw3S1YYI3",
        "outputId": "351fc890-2d7f-4c75-da0c-5f4497ad0990"
      },
      "execution_count": 78,
      "outputs": [
        {
          "output_type": "execute_result",
          "data": {
            "text/plain": [
              "13"
            ]
          },
          "metadata": {},
          "execution_count": 78
        }
      ]
    },
    {
      "cell_type": "code",
      "source": [
        "arr7[5:8]"
      ],
      "metadata": {
        "colab": {
          "base_uri": "https://localhost:8080/"
        },
        "id": "9oYh49tkYfDh",
        "outputId": "f2b81e83-3100-412a-ccfc-0c8d365066e0"
      },
      "execution_count": 79,
      "outputs": [
        {
          "output_type": "execute_result",
          "data": {
            "text/plain": [
              "array([15, 16, 17])"
            ]
          },
          "metadata": {},
          "execution_count": 79
        }
      ]
    },
    {
      "cell_type": "code",
      "source": [
        "arr7[5:8] = 12"
      ],
      "metadata": {
        "id": "Jv58ZogtYnHc"
      },
      "execution_count": 80,
      "outputs": []
    },
    {
      "cell_type": "code",
      "source": [
        "arr7"
      ],
      "metadata": {
        "colab": {
          "base_uri": "https://localhost:8080/"
        },
        "id": "myUzRCNuYsFO",
        "outputId": "a91836d8-89fd-4efb-d655-c971f914f7d9"
      },
      "execution_count": 81,
      "outputs": [
        {
          "output_type": "execute_result",
          "data": {
            "text/plain": [
              "array([10, 11, 12, 13, 14, 12, 12, 12, 18, 19])"
            ]
          },
          "metadata": {},
          "execution_count": 81
        }
      ]
    },
    {
      "cell_type": "code",
      "source": [
        "arr7[5:8] = np.array([42,41,50])"
      ],
      "metadata": {
        "id": "WBz1-i17Ys31"
      },
      "execution_count": 82,
      "outputs": []
    },
    {
      "cell_type": "code",
      "source": [
        "arr7"
      ],
      "metadata": {
        "colab": {
          "base_uri": "https://localhost:8080/"
        },
        "id": "QY85Jsh4Yz65",
        "outputId": "4bf4ed37-beb5-416f-ec99-548a16d11051"
      },
      "execution_count": 83,
      "outputs": [
        {
          "output_type": "execute_result",
          "data": {
            "text/plain": [
              "array([10, 11, 12, 13, 14, 42, 41, 50, 18, 19])"
            ]
          },
          "metadata": {},
          "execution_count": 83
        }
      ]
    },
    {
      "cell_type": "code",
      "source": [
        "arr6"
      ],
      "metadata": {
        "colab": {
          "base_uri": "https://localhost:8080/"
        },
        "id": "5b4LkzW7Y0kH",
        "outputId": "864ba4b8-dc5e-44b2-bc8b-a5c5f0a5a6f4"
      },
      "execution_count": 84,
      "outputs": [
        {
          "output_type": "execute_result",
          "data": {
            "text/plain": [
              "array([[ 0.,  4.,  1.],\n",
              "       [ 7.,  2., 12.]])"
            ]
          },
          "metadata": {},
          "execution_count": 84
        }
      ]
    },
    {
      "cell_type": "code",
      "source": [
        "arr6[0, 1]"
      ],
      "metadata": {
        "colab": {
          "base_uri": "https://localhost:8080/"
        },
        "id": "uadmaHpWZIkh",
        "outputId": "a377d92d-76d6-4f1d-86f7-ef979fde1372"
      },
      "execution_count": 85,
      "outputs": [
        {
          "output_type": "execute_result",
          "data": {
            "text/plain": [
              "4.0"
            ]
          },
          "metadata": {},
          "execution_count": 85
        }
      ]
    },
    {
      "cell_type": "code",
      "source": [
        "arr6[0][1]"
      ],
      "metadata": {
        "colab": {
          "base_uri": "https://localhost:8080/"
        },
        "id": "KPoth3daZOrE",
        "outputId": "5fc44af5-26c9-496b-aefd-75d8abd00937"
      },
      "execution_count": 86,
      "outputs": [
        {
          "output_type": "execute_result",
          "data": {
            "text/plain": [
              "4.0"
            ]
          },
          "metadata": {},
          "execution_count": 86
        }
      ]
    },
    {
      "cell_type": "code",
      "source": [
        "arr8 = np.array([[1.3, 2.3, 4.5], [3.2, 4.4, 6.7], [2.2, 1., 4.9]])"
      ],
      "metadata": {
        "id": "9Mt-CJCHZT_V"
      },
      "execution_count": 89,
      "outputs": []
    },
    {
      "cell_type": "code",
      "source": [
        "arr8"
      ],
      "metadata": {
        "colab": {
          "base_uri": "https://localhost:8080/"
        },
        "id": "vwhUkUZcZahp",
        "outputId": "ee401402-fad4-4915-d552-4e02ebb9532d"
      },
      "execution_count": 90,
      "outputs": [
        {
          "output_type": "execute_result",
          "data": {
            "text/plain": [
              "array([[1.3, 2.3, 4.5],\n",
              "       [3.2, 4.4, 6.7],\n",
              "       [2.2, 1. , 4.9]])"
            ]
          },
          "metadata": {},
          "execution_count": 90
        }
      ]
    },
    {
      "cell_type": "code",
      "source": [
        "arr8[1:, 1:]"
      ],
      "metadata": {
        "colab": {
          "base_uri": "https://localhost:8080/"
        },
        "id": "8Pq_PJ_xZoPZ",
        "outputId": "6dd033d8-e66e-4159-9000-074f165cd823"
      },
      "execution_count": 93,
      "outputs": [
        {
          "output_type": "execute_result",
          "data": {
            "text/plain": [
              "array([[4.4, 6.7],\n",
              "       [1. , 4.9]])"
            ]
          },
          "metadata": {},
          "execution_count": 93
        }
      ]
    },
    {
      "cell_type": "code",
      "source": [
        "arr9 = np.array([[[1, 2, 3], [4, 5, 6]], [[7, 8, 9], [10, 11, 12]]])\n",
        "arr9"
      ],
      "metadata": {
        "colab": {
          "base_uri": "https://localhost:8080/"
        },
        "id": "XPMP8kG2ZxeL",
        "outputId": "eb50f296-b92d-4f26-f610-4ad30d2a2ada"
      },
      "execution_count": 95,
      "outputs": [
        {
          "output_type": "execute_result",
          "data": {
            "text/plain": [
              "array([[[ 1,  2,  3],\n",
              "        [ 4,  5,  6]],\n",
              "\n",
              "       [[ 7,  8,  9],\n",
              "        [10, 11, 12]]])"
            ]
          },
          "metadata": {},
          "execution_count": 95
        }
      ]
    },
    {
      "cell_type": "code",
      "source": [
        "arr9[1]"
      ],
      "metadata": {
        "colab": {
          "base_uri": "https://localhost:8080/"
        },
        "id": "FLWaRFraaLOW",
        "outputId": "e83c6fe6-dd74-45fd-9f4c-d4d6f417c833"
      },
      "execution_count": 97,
      "outputs": [
        {
          "output_type": "execute_result",
          "data": {
            "text/plain": [
              "array([[ 7,  8,  9],\n",
              "       [10, 11, 12]])"
            ]
          },
          "metadata": {},
          "execution_count": 97
        }
      ]
    },
    {
      "cell_type": "code",
      "source": [
        "arr9.shape"
      ],
      "metadata": {
        "colab": {
          "base_uri": "https://localhost:8080/"
        },
        "id": "1PhtU-i0ak4X",
        "outputId": "1ce1e5db-5933-4cf4-8300-a0390bd95fd8"
      },
      "execution_count": 98,
      "outputs": [
        {
          "output_type": "execute_result",
          "data": {
            "text/plain": [
              "(2, 2, 3)"
            ]
          },
          "metadata": {},
          "execution_count": 98
        }
      ]
    },
    {
      "cell_type": "code",
      "source": [
        "arr9"
      ],
      "metadata": {
        "colab": {
          "base_uri": "https://localhost:8080/"
        },
        "id": "75-mYNALauGd",
        "outputId": "17ce7223-6e4f-4820-b424-73a7cc10d226"
      },
      "execution_count": 99,
      "outputs": [
        {
          "output_type": "execute_result",
          "data": {
            "text/plain": [
              "array([[[ 1,  2,  3],\n",
              "        [ 4,  5,  6]],\n",
              "\n",
              "       [[ 7,  8,  9],\n",
              "        [10, 11, 12]]])"
            ]
          },
          "metadata": {},
          "execution_count": 99
        }
      ]
    },
    {
      "cell_type": "code",
      "source": [
        "arr8"
      ],
      "metadata": {
        "colab": {
          "base_uri": "https://localhost:8080/"
        },
        "id": "gN0zoKvNa2QI",
        "outputId": "9179774a-840f-4178-ff45-6c5b60e35dbd"
      },
      "execution_count": 101,
      "outputs": [
        {
          "output_type": "execute_result",
          "data": {
            "text/plain": [
              "array([[1.3, 2.3, 4.5],\n",
              "       [3.2, 4.4, 6.7],\n",
              "       [2.2, 1. , 4.9]])"
            ]
          },
          "metadata": {},
          "execution_count": 101
        }
      ]
    },
    {
      "cell_type": "code",
      "source": [
        "r0 = arr8[2]\n",
        "r0.shape"
      ],
      "metadata": {
        "colab": {
          "base_uri": "https://localhost:8080/"
        },
        "id": "UmHqzdz6bVFD",
        "outputId": "a373b2ae-562a-46f5-95d5-4dd385d8e527"
      },
      "execution_count": 103,
      "outputs": [
        {
          "output_type": "execute_result",
          "data": {
            "text/plain": [
              "(3,)"
            ]
          },
          "metadata": {},
          "execution_count": 103
        }
      ]
    },
    {
      "cell_type": "code",
      "source": [
        "r0"
      ],
      "metadata": {
        "colab": {
          "base_uri": "https://localhost:8080/"
        },
        "id": "wDKy2441bmJ2",
        "outputId": "69e5a330-6c3b-4581-b9b3-4d52180f6f38"
      },
      "execution_count": 105,
      "outputs": [
        {
          "output_type": "execute_result",
          "data": {
            "text/plain": [
              "array([2.2, 1. , 4.9])"
            ]
          },
          "metadata": {},
          "execution_count": 105
        }
      ]
    },
    {
      "cell_type": "code",
      "source": [
        "r1 = arr8[2, :]\n",
        "r1.shape"
      ],
      "metadata": {
        "colab": {
          "base_uri": "https://localhost:8080/"
        },
        "id": "hYQFSQ5pbZiO",
        "outputId": "7e8dbce4-4fa8-443d-981a-249eb8be33ff"
      },
      "execution_count": 104,
      "outputs": [
        {
          "output_type": "execute_result",
          "data": {
            "text/plain": [
              "(3,)"
            ]
          },
          "metadata": {},
          "execution_count": 104
        }
      ]
    },
    {
      "cell_type": "code",
      "source": [
        "r1"
      ],
      "metadata": {
        "colab": {
          "base_uri": "https://localhost:8080/"
        },
        "id": "ad48Mt-aboB4",
        "outputId": "7afe4644-750e-4d6d-c429-f6ccfdb676c0"
      },
      "execution_count": 106,
      "outputs": [
        {
          "output_type": "execute_result",
          "data": {
            "text/plain": [
              "array([2.2, 1. , 4.9])"
            ]
          },
          "metadata": {},
          "execution_count": 106
        }
      ]
    },
    {
      "cell_type": "code",
      "source": [
        "r2 = arr8[2:, :]\n",
        "r2.shape"
      ],
      "metadata": {
        "colab": {
          "base_uri": "https://localhost:8080/"
        },
        "id": "5nU9rShkbkq0",
        "outputId": "1f7cedbc-3350-4b3e-dab1-c65659cda1f3"
      },
      "execution_count": 107,
      "outputs": [
        {
          "output_type": "execute_result",
          "data": {
            "text/plain": [
              "(1, 3)"
            ]
          },
          "metadata": {},
          "execution_count": 107
        }
      ]
    },
    {
      "cell_type": "code",
      "source": [
        "r2"
      ],
      "metadata": {
        "colab": {
          "base_uri": "https://localhost:8080/"
        },
        "id": "0Yb1NDwXbtXx",
        "outputId": "a924943d-7adb-4e01-b972-3e428b2c92e2"
      },
      "execution_count": 108,
      "outputs": [
        {
          "output_type": "execute_result",
          "data": {
            "text/plain": [
              "array([[2.2, 1. , 4.9]])"
            ]
          },
          "metadata": {},
          "execution_count": 108
        }
      ]
    },
    {
      "cell_type": "code",
      "source": [
        "names = np.array([\n",
        "    \"Bob\",\n",
        "    \"Joe\",\n",
        "    \"Ahmed\",\n",
        "    \"Sara\",\n",
        "    \"Yasmeen\",\n",
        "    \"David\"\n",
        "])\n",
        "\n",
        "data = np.array([[4, 7], [0, 2], [-5, 6], [0, 0], [-12, -4], [3, 4]])"
      ],
      "metadata": {
        "id": "JmbUULvtbufD"
      },
      "execution_count": 109,
      "outputs": []
    },
    {
      "cell_type": "code",
      "source": [
        "names.shape"
      ],
      "metadata": {
        "colab": {
          "base_uri": "https://localhost:8080/"
        },
        "id": "Sxf8BMdXcMjE",
        "outputId": "556e75d1-5e78-4752-82ce-383d208e1571"
      },
      "execution_count": 110,
      "outputs": [
        {
          "output_type": "execute_result",
          "data": {
            "text/plain": [
              "(6,)"
            ]
          },
          "metadata": {},
          "execution_count": 110
        }
      ]
    },
    {
      "cell_type": "code",
      "source": [
        "data.shape"
      ],
      "metadata": {
        "colab": {
          "base_uri": "https://localhost:8080/"
        },
        "id": "NiKeFpZicNrh",
        "outputId": "6ddd7636-3a8a-45df-9dd9-91f4c4bc4e12"
      },
      "execution_count": 111,
      "outputs": [
        {
          "output_type": "execute_result",
          "data": {
            "text/plain": [
              "(6, 2)"
            ]
          },
          "metadata": {},
          "execution_count": 111
        }
      ]
    },
    {
      "cell_type": "code",
      "source": [
        "names == \"David\""
      ],
      "metadata": {
        "colab": {
          "base_uri": "https://localhost:8080/"
        },
        "id": "6pkWXdjDcPDP",
        "outputId": "3a40d00a-373a-4172-e277-ec794c95318e"
      },
      "execution_count": 112,
      "outputs": [
        {
          "output_type": "execute_result",
          "data": {
            "text/plain": [
              "array([False, False, False, False, False,  True])"
            ]
          },
          "metadata": {},
          "execution_count": 112
        }
      ]
    },
    {
      "cell_type": "code",
      "source": [
        "data[names == \"David\"]"
      ],
      "metadata": {
        "colab": {
          "base_uri": "https://localhost:8080/"
        },
        "id": "JWg8_4uocTQA",
        "outputId": "0ea157a0-6e81-485e-b441-4233107e3913"
      },
      "execution_count": 113,
      "outputs": [
        {
          "output_type": "execute_result",
          "data": {
            "text/plain": [
              "array([[3, 4]])"
            ]
          },
          "metadata": {},
          "execution_count": 113
        }
      ]
    },
    {
      "cell_type": "code",
      "source": [
        "data[names == \"David\", 1]"
      ],
      "metadata": {
        "colab": {
          "base_uri": "https://localhost:8080/"
        },
        "id": "3ciqq8lhcXtz",
        "outputId": "4134f6ef-e569-4475-d4d6-429095bdd930"
      },
      "execution_count": 114,
      "outputs": [
        {
          "output_type": "execute_result",
          "data": {
            "text/plain": [
              "array([4])"
            ]
          },
          "metadata": {},
          "execution_count": 114
        }
      ]
    },
    {
      "cell_type": "code",
      "source": [
        "data[names != \"David\"]"
      ],
      "metadata": {
        "colab": {
          "base_uri": "https://localhost:8080/"
        },
        "id": "YT7STiITcmsj",
        "outputId": "cbe7f372-d81b-4c46-b3ef-a88455e5fc03"
      },
      "execution_count": 115,
      "outputs": [
        {
          "output_type": "execute_result",
          "data": {
            "text/plain": [
              "array([[  4,   7],\n",
              "       [  0,   2],\n",
              "       [ -5,   6],\n",
              "       [  0,   0],\n",
              "       [-12,  -4]])"
            ]
          },
          "metadata": {},
          "execution_count": 115
        }
      ]
    },
    {
      "cell_type": "code",
      "source": [
        "data[~(names == \"David\")]"
      ],
      "metadata": {
        "colab": {
          "base_uri": "https://localhost:8080/"
        },
        "id": "L6xaEU9rcuPN",
        "outputId": "182f47de-3c16-4546-a513-f9cd1c353fe6"
      },
      "execution_count": 116,
      "outputs": [
        {
          "output_type": "execute_result",
          "data": {
            "text/plain": [
              "array([[  4,   7],\n",
              "       [  0,   2],\n",
              "       [ -5,   6],\n",
              "       [  0,   0],\n",
              "       [-12,  -4]])"
            ]
          },
          "metadata": {},
          "execution_count": 116
        }
      ]
    },
    {
      "cell_type": "code",
      "source": [
        "mask = (names == \"David\") | (names == \"Ahmed\")\n",
        "data[mask]"
      ],
      "metadata": {
        "colab": {
          "base_uri": "https://localhost:8080/"
        },
        "id": "z7TMKFmsczXp",
        "outputId": "949382e1-344b-4f80-c022-3c005f7e704e"
      },
      "execution_count": 117,
      "outputs": [
        {
          "output_type": "execute_result",
          "data": {
            "text/plain": [
              "array([[-5,  6],\n",
              "       [ 3,  4]])"
            ]
          },
          "metadata": {},
          "execution_count": 117
        }
      ]
    },
    {
      "cell_type": "code",
      "source": [
        "mask = (names == \"David\") | (names == \"Ahmed\")\n",
        "data[mask] = 12"
      ],
      "metadata": {
        "id": "vyVYAwqJc_fd"
      },
      "execution_count": 118,
      "outputs": []
    },
    {
      "cell_type": "code",
      "source": [
        "data"
      ],
      "metadata": {
        "colab": {
          "base_uri": "https://localhost:8080/"
        },
        "id": "Ro6gyd-IdLFt",
        "outputId": "6a02b4f2-8eb6-4cf3-fb74-c18af76c4c67"
      },
      "execution_count": 119,
      "outputs": [
        {
          "output_type": "execute_result",
          "data": {
            "text/plain": [
              "array([[  4,   7],\n",
              "       [  0,   2],\n",
              "       [ 12,  12],\n",
              "       [  0,   0],\n",
              "       [-12,  -4],\n",
              "       [ 12,  12]])"
            ]
          },
          "metadata": {},
          "execution_count": 119
        }
      ]
    },
    {
      "cell_type": "code",
      "source": [
        "arr10 = np.arange(15).reshape((3, 5))"
      ],
      "metadata": {
        "id": "mKnVrYuNdLxD"
      },
      "execution_count": 126,
      "outputs": []
    },
    {
      "cell_type": "code",
      "source": [
        "arr10"
      ],
      "metadata": {
        "colab": {
          "base_uri": "https://localhost:8080/"
        },
        "id": "2hX0YxxNdgdq",
        "outputId": "619def01-29ba-4e3a-d4ac-b42a08937fa9"
      },
      "execution_count": 127,
      "outputs": [
        {
          "output_type": "execute_result",
          "data": {
            "text/plain": [
              "array([[ 0,  1,  2,  3,  4],\n",
              "       [ 5,  6,  7,  8,  9],\n",
              "       [10, 11, 12, 13, 14]])"
            ]
          },
          "metadata": {},
          "execution_count": 127
        }
      ]
    },
    {
      "cell_type": "code",
      "source": [
        "arr10.T"
      ],
      "metadata": {
        "colab": {
          "base_uri": "https://localhost:8080/"
        },
        "id": "yrsQnUjgdy4R",
        "outputId": "ae3a7935-c33b-47fb-b5f6-67a1d72bcdbb"
      },
      "execution_count": 128,
      "outputs": [
        {
          "output_type": "execute_result",
          "data": {
            "text/plain": [
              "array([[ 0,  5, 10],\n",
              "       [ 1,  6, 11],\n",
              "       [ 2,  7, 12],\n",
              "       [ 3,  8, 13],\n",
              "       [ 4,  9, 14]])"
            ]
          },
          "metadata": {},
          "execution_count": 128
        }
      ]
    },
    {
      "cell_type": "code",
      "source": [
        "arr10.T, arr10"
      ],
      "metadata": {
        "colab": {
          "base_uri": "https://localhost:8080/"
        },
        "id": "LWlingG1d0eS",
        "outputId": "bc540465-b42e-4604-bfbf-236f11052b68"
      },
      "execution_count": 130,
      "outputs": [
        {
          "output_type": "execute_result",
          "data": {
            "text/plain": [
              "(array([[ 0,  5, 10],\n",
              "        [ 1,  6, 11],\n",
              "        [ 2,  7, 12],\n",
              "        [ 3,  8, 13],\n",
              "        [ 4,  9, 14]]),\n",
              " array([[ 0,  1,  2,  3,  4],\n",
              "        [ 5,  6,  7,  8,  9],\n",
              "        [10, 11, 12, 13, 14]]))"
            ]
          },
          "metadata": {},
          "execution_count": 130
        }
      ]
    },
    {
      "cell_type": "code",
      "source": [
        "np.dot(arr10.T, arr10)"
      ],
      "metadata": {
        "colab": {
          "base_uri": "https://localhost:8080/"
        },
        "id": "srbfAH7AeEyY",
        "outputId": "663bdc8c-0e4e-4fb2-8c2a-26ba549fcb1b"
      },
      "execution_count": 131,
      "outputs": [
        {
          "output_type": "execute_result",
          "data": {
            "text/plain": [
              "array([[125, 140, 155, 170, 185],\n",
              "       [140, 158, 176, 194, 212],\n",
              "       [155, 176, 197, 218, 239],\n",
              "       [170, 194, 218, 242, 266],\n",
              "       [185, 212, 239, 266, 293]])"
            ]
          },
          "metadata": {},
          "execution_count": 131
        }
      ]
    },
    {
      "cell_type": "code",
      "source": [
        "np.dot(arr10, arr10.T)"
      ],
      "metadata": {
        "colab": {
          "base_uri": "https://localhost:8080/"
        },
        "id": "YzSi5M7reZYj",
        "outputId": "7ff173c3-bcfa-479d-cfce-36c1921d9222"
      },
      "execution_count": 132,
      "outputs": [
        {
          "output_type": "execute_result",
          "data": {
            "text/plain": [
              "array([[ 30,  80, 130],\n",
              "       [ 80, 255, 430],\n",
              "       [130, 430, 730]])"
            ]
          },
          "metadata": {},
          "execution_count": 132
        }
      ]
    },
    {
      "cell_type": "code",
      "source": [
        "arr10 @ arr10.T"
      ],
      "metadata": {
        "colab": {
          "base_uri": "https://localhost:8080/"
        },
        "id": "9KVR5x6Jef9e",
        "outputId": "4d709c69-4a2f-4225-a312-0528bde8a86e"
      },
      "execution_count": 133,
      "outputs": [
        {
          "output_type": "execute_result",
          "data": {
            "text/plain": [
              "array([[ 30,  80, 130],\n",
              "       [ 80, 255, 430],\n",
              "       [130, 430, 730]])"
            ]
          },
          "metadata": {},
          "execution_count": 133
        }
      ]
    },
    {
      "cell_type": "code",
      "source": [],
      "metadata": {
        "id": "xnnxtpZSejaC"
      },
      "execution_count": null,
      "outputs": []
    },
    {
      "cell_type": "markdown",
      "source": [
        "### Exercise:\n",
        "\n",
        "1. Create an array with shape (10, 2) of all ones called `X`\n",
        "2. Replace the data in column 1 with 10 integers starting from 15.\n",
        "3. Create a (10, 1) array called `y` of a mix of ones and zeros.\n",
        "4. Multiply the transpose of `X` with `X`. What is the shape of the result?\n",
        "5. Multiply the tranpose of `X` and `y`. What is the shape of the result? "
      ],
      "metadata": {
        "id": "hn_4mPpnhUgD"
      }
    },
    {
      "cell_type": "code",
      "source": [
        "number_training_samples = 10\n",
        "number_features = 2\n",
        "X = np.ones((number_training_samples, number_features))"
      ],
      "metadata": {
        "id": "3hMGlnl0iOgc"
      },
      "execution_count": 134,
      "outputs": []
    },
    {
      "cell_type": "code",
      "source": [
        "X.shape"
      ],
      "metadata": {
        "colab": {
          "base_uri": "https://localhost:8080/"
        },
        "id": "IiQXK6Cpkskg",
        "outputId": "3ffbd2c6-9176-4db7-9460-56e044387871"
      },
      "execution_count": 136,
      "outputs": [
        {
          "output_type": "execute_result",
          "data": {
            "text/plain": [
              "(10, 2)"
            ]
          },
          "metadata": {},
          "execution_count": 136
        }
      ]
    },
    {
      "cell_type": "code",
      "source": [
        "X[:, 1] = np.arange(15, 25)"
      ],
      "metadata": {
        "id": "0p-stn48kuC-"
      },
      "execution_count": 139,
      "outputs": []
    },
    {
      "cell_type": "code",
      "source": [
        "X"
      ],
      "metadata": {
        "colab": {
          "base_uri": "https://localhost:8080/"
        },
        "id": "j_CYw6GQkxp7",
        "outputId": "15a828af-d361-4bd6-ddaa-7f331c85335c"
      },
      "execution_count": 140,
      "outputs": [
        {
          "output_type": "execute_result",
          "data": {
            "text/plain": [
              "array([[ 1., 15.],\n",
              "       [ 1., 16.],\n",
              "       [ 1., 17.],\n",
              "       [ 1., 18.],\n",
              "       [ 1., 19.],\n",
              "       [ 1., 20.],\n",
              "       [ 1., 21.],\n",
              "       [ 1., 22.],\n",
              "       [ 1., 23.],\n",
              "       [ 1., 24.]])"
            ]
          },
          "metadata": {},
          "execution_count": 140
        }
      ]
    },
    {
      "cell_type": "code",
      "source": [
        "y = np.ones((number_training_samples, 1))\n",
        "y[[1,3,4,7,9], 0] = 0.0 "
      ],
      "metadata": {
        "id": "4dm6sil2k7IL"
      },
      "execution_count": 142,
      "outputs": []
    },
    {
      "cell_type": "code",
      "source": [
        "y"
      ],
      "metadata": {
        "colab": {
          "base_uri": "https://localhost:8080/"
        },
        "id": "EU3G7jCRlTzv",
        "outputId": "b656b02c-2da4-413a-c50f-fbfc6017e168"
      },
      "execution_count": 143,
      "outputs": [
        {
          "output_type": "execute_result",
          "data": {
            "text/plain": [
              "array([[1.],\n",
              "       [0.],\n",
              "       [1.],\n",
              "       [0.],\n",
              "       [0.],\n",
              "       [1.],\n",
              "       [1.],\n",
              "       [0.],\n",
              "       [1.],\n",
              "       [0.]])"
            ]
          },
          "metadata": {},
          "execution_count": 143
        }
      ]
    },
    {
      "cell_type": "code",
      "source": [
        "X.T @ X"
      ],
      "metadata": {
        "colab": {
          "base_uri": "https://localhost:8080/"
        },
        "id": "DtmXnkmklZM6",
        "outputId": "df5bcc91-fc9a-49fd-fcee-f686e62c16d8"
      },
      "execution_count": 144,
      "outputs": [
        {
          "output_type": "execute_result",
          "data": {
            "text/plain": [
              "array([[  10.,  195.],\n",
              "       [ 195., 3885.]])"
            ]
          },
          "metadata": {},
          "execution_count": 144
        }
      ]
    },
    {
      "cell_type": "code",
      "source": [
        "X.T @ y"
      ],
      "metadata": {
        "colab": {
          "base_uri": "https://localhost:8080/"
        },
        "id": "4w7qPgd0lj3L",
        "outputId": "a54eece7-fec5-4bfd-da40-0cff946a167c"
      },
      "execution_count": 145,
      "outputs": [
        {
          "output_type": "execute_result",
          "data": {
            "text/plain": [
              "array([[ 5.],\n",
              "       [96.]])"
            ]
          },
          "metadata": {},
          "execution_count": 145
        }
      ]
    },
    {
      "cell_type": "code",
      "source": [],
      "metadata": {
        "id": "NIp32gA9lpm-"
      },
      "execution_count": null,
      "outputs": []
    },
    {
      "cell_type": "markdown",
      "source": [
        "## Pseudo-random Number Generation"
      ],
      "metadata": {
        "id": "EoamBOKesi33"
      }
    },
    {
      "cell_type": "code",
      "source": [
        "np.random.standard_normal(size=(10, 2))"
      ],
      "metadata": {
        "colab": {
          "base_uri": "https://localhost:8080/"
        },
        "id": "cb5qSK59sljd",
        "outputId": "74641999-ffa2-4ab2-c75b-285f7d8d6094"
      },
      "execution_count": 146,
      "outputs": [
        {
          "output_type": "execute_result",
          "data": {
            "text/plain": [
              "array([[-0.653594  , -0.20929885],\n",
              "       [ 0.76119494,  0.72695216],\n",
              "       [ 0.81888788,  0.11856993],\n",
              "       [ 0.69593639,  1.3483651 ],\n",
              "       [-0.72681905,  0.09604754],\n",
              "       [-0.25999652,  1.75676738],\n",
              "       [ 1.3289482 ,  0.1349885 ],\n",
              "       [ 0.12296749, -0.18047462],\n",
              "       [-0.39369667, -0.45487637],\n",
              "       [ 0.67294238,  1.10185892]])"
            ]
          },
          "metadata": {},
          "execution_count": 146
        }
      ]
    },
    {
      "cell_type": "code",
      "source": [
        "import random"
      ],
      "metadata": {
        "id": "WFD0w2qstKRY"
      },
      "execution_count": 147,
      "outputs": []
    },
    {
      "cell_type": "code",
      "source": [
        "%%timeit\n",
        "\n",
        "xs = [random.normalvariate(0, 1) for _ in range(1_000_000)]"
      ],
      "metadata": {
        "colab": {
          "base_uri": "https://localhost:8080/"
        },
        "id": "DB18SAcBtgp7",
        "outputId": "c23c901e-f112-4862-ff8e-fd930d80a54a"
      },
      "execution_count": 151,
      "outputs": [
        {
          "output_type": "stream",
          "name": "stdout",
          "text": [
            "741 ms ± 175 ms per loop (mean ± std. dev. of 7 runs, 1 loop each)\n"
          ]
        }
      ]
    },
    {
      "cell_type": "code",
      "source": [
        "%%timeit\n",
        "\n",
        "xs = np.random.standard_normal(1_000_000)"
      ],
      "metadata": {
        "colab": {
          "base_uri": "https://localhost:8080/"
        },
        "id": "TJ1jvzPOtrXu",
        "outputId": "e4d31b52-16b5-49a0-f337-b22069ca4855"
      },
      "execution_count": 153,
      "outputs": [
        {
          "output_type": "stream",
          "name": "stdout",
          "text": [
            "28.2 ms ± 6.14 ms per loop (mean ± std. dev. of 7 runs, 10 loops each)\n"
          ]
        }
      ]
    },
    {
      "cell_type": "code",
      "source": [
        "prng = np.random.RandomState(seed=43)"
      ],
      "metadata": {
        "id": "pAX6-pOKt9DU"
      },
      "execution_count": 162,
      "outputs": []
    },
    {
      "cell_type": "code",
      "source": [
        "prng.standard_normal((10, 2))"
      ],
      "metadata": {
        "colab": {
          "base_uri": "https://localhost:8080/"
        },
        "id": "bMErHcZNuVA3",
        "outputId": "9d5a8858-50e8-41b6-e988-a1999a1fccc4"
      },
      "execution_count": 163,
      "outputs": [
        {
          "output_type": "execute_result",
          "data": {
            "text/plain": [
              "array([[ 0.25739993, -0.90848143],\n",
              "       [-0.37850311, -0.5349156 ],\n",
              "       [ 0.85807335, -0.41300998],\n",
              "       [ 0.49818858,  2.01019925],\n",
              "       [ 1.26286154, -0.43921486],\n",
              "       [-0.34643789,  0.45531966],\n",
              "       [-1.66866271, -0.8620855 ],\n",
              "       [ 0.49291085, -0.1243134 ],\n",
              "       [ 1.93513629, -0.61844265],\n",
              "       [-1.04683899, -0.88961759]])"
            ]
          },
          "metadata": {},
          "execution_count": 163
        }
      ]
    },
    {
      "cell_type": "code",
      "source": [
        "prng.standard_normal((10, 2))"
      ],
      "metadata": {
        "colab": {
          "base_uri": "https://localhost:8080/"
        },
        "id": "QvnTzDfmuYko",
        "outputId": "dcf46a4a-065c-413b-8f5e-3b15bdf76fc3"
      },
      "execution_count": 164,
      "outputs": [
        {
          "output_type": "execute_result",
          "data": {
            "text/plain": [
              "array([[ 0.01404054, -0.16082969],\n",
              "       [ 2.23035965, -0.39911572],\n",
              "       [ 0.05444456,  0.88418182],\n",
              "       [-0.10798056,  0.55560698],\n",
              "       [ 0.39490664,  0.83720502],\n",
              "       [-1.40787817,  0.80784941],\n",
              "       [-0.13828364,  0.18717859],\n",
              "       [-0.38665814,  1.65904873],\n",
              "       [-2.04706913,  1.39931699],\n",
              "       [-0.67900712,  1.52898513]])"
            ]
          },
          "metadata": {},
          "execution_count": 164
        }
      ]
    },
    {
      "cell_type": "code",
      "source": [],
      "metadata": {
        "id": "evn_ayeTud7D"
      },
      "execution_count": null,
      "outputs": []
    },
    {
      "cell_type": "markdown",
      "source": [
        "### Exercise:\n",
        "\n",
        "Suppose that you have an dataset with 60,000 rows and 784 columns.\n",
        "\n",
        "1. Create an array `X` with shape (n_rows, n_cols + 1) of all random numbers from a standard normal distribution.\n",
        "2. Replace the data in column 0 with all ones.\n",
        "3. Create a (n_rows, 10) array called `y` of all zeros.\n",
        "4. For each row, randomly choose one of the columns and replace the zero in that column with a one.  \n",
        "5. Multiply the transpose of `X` with `X`. Predict the shape of the result. Where you correct?\n",
        "6. Multiply the tranpose of `X` and `y`. Predict the shape of the result. Where you correct? "
      ],
      "metadata": {
        "id": "JUg3wfO0vDck"
      }
    },
    {
      "cell_type": "code",
      "source": [
        "X = np.random.standard_normal((60_000, 784 + 1))"
      ],
      "metadata": {
        "id": "krM6v0pbxFms"
      },
      "execution_count": 183,
      "outputs": []
    },
    {
      "cell_type": "code",
      "source": [
        "X[:, 0] = 1"
      ],
      "metadata": {
        "id": "g2ePh4gJzT43"
      },
      "execution_count": 184,
      "outputs": []
    },
    {
      "cell_type": "code",
      "source": [
        "X[:5, :]"
      ],
      "metadata": {
        "colab": {
          "base_uri": "https://localhost:8080/"
        },
        "id": "tHjEV5DNzUOJ",
        "outputId": "afdba971-7457-4f55-d63f-2bdb993a4ce9"
      },
      "execution_count": 185,
      "outputs": [
        {
          "output_type": "execute_result",
          "data": {
            "text/plain": [
              "array([[ 1.        , -0.53408547, -0.55211385, ..., -0.06100026,\n",
              "         0.18866716,  0.08056619],\n",
              "       [ 1.        , -1.81482909, -0.14988385, ...,  0.11919851,\n",
              "        -1.70852472, -0.55993987],\n",
              "       [ 1.        ,  0.29413733, -1.42779162, ..., -0.38712699,\n",
              "         0.49318989,  0.66780622],\n",
              "       [ 1.        , -0.50935977,  1.21131769, ...,  1.09050486,\n",
              "         1.59023014,  1.93966869],\n",
              "       [ 1.        , -1.15355485,  0.24542612, ...,  0.97528057,\n",
              "         1.35691962, -1.20631388]])"
            ]
          },
          "metadata": {},
          "execution_count": 185
        }
      ]
    },
    {
      "cell_type": "code",
      "source": [
        "y = np.zeros((60_000, 10))"
      ],
      "metadata": {
        "id": "4oTQadJezmFJ"
      },
      "execution_count": 186,
      "outputs": []
    },
    {
      "cell_type": "code",
      "source": [
        "random_column_idxs = np.random.randint(low=0, high=10, size=60_000)"
      ],
      "metadata": {
        "id": "vXElad5Y3eoV"
      },
      "execution_count": 192,
      "outputs": []
    },
    {
      "cell_type": "code",
      "source": [
        "random_column_idxs[:5]"
      ],
      "metadata": {
        "colab": {
          "base_uri": "https://localhost:8080/"
        },
        "id": "NPCuysTo4HFO",
        "outputId": "db2eb234-c758-4e32-d346-fc0e2a39bf7f"
      },
      "execution_count": 193,
      "outputs": [
        {
          "output_type": "execute_result",
          "data": {
            "text/plain": [
              "array([2, 3, 9, 1, 3])"
            ]
          },
          "metadata": {},
          "execution_count": 193
        }
      ]
    },
    {
      "cell_type": "code",
      "source": [
        "row_idxs = np.arange(60_000)"
      ],
      "metadata": {
        "id": "ABHLQHeo3yyS"
      },
      "execution_count": 191,
      "outputs": []
    },
    {
      "cell_type": "code",
      "source": [
        "row_idxs[:5]"
      ],
      "metadata": {
        "colab": {
          "base_uri": "https://localhost:8080/"
        },
        "id": "l_WCoQV94E2p",
        "outputId": "66911734-49ad-4beb-9b44-7dd4044a29fe"
      },
      "execution_count": 194,
      "outputs": [
        {
          "output_type": "execute_result",
          "data": {
            "text/plain": [
              "array([0, 1, 2, 3, 4])"
            ]
          },
          "metadata": {},
          "execution_count": 194
        }
      ]
    },
    {
      "cell_type": "code",
      "source": [
        "y[row_idxs, random_column_idxs] = 1"
      ],
      "metadata": {
        "id": "4_mAOzgT4PLl"
      },
      "execution_count": 196,
      "outputs": []
    },
    {
      "cell_type": "code",
      "source": [
        "y[:10, :]"
      ],
      "metadata": {
        "colab": {
          "base_uri": "https://localhost:8080/"
        },
        "id": "cAd8eVyI4Vlp",
        "outputId": "1472acf5-0a0a-46cb-802e-4cc1c8ed1fbe"
      },
      "execution_count": 197,
      "outputs": [
        {
          "output_type": "execute_result",
          "data": {
            "text/plain": [
              "array([[0., 0., 1., 0., 0., 0., 0., 0., 0., 0.],\n",
              "       [0., 0., 0., 1., 0., 0., 0., 0., 0., 0.],\n",
              "       [0., 0., 0., 0., 0., 0., 0., 0., 0., 1.],\n",
              "       [0., 1., 0., 0., 0., 0., 0., 0., 0., 0.],\n",
              "       [0., 0., 0., 1., 0., 0., 0., 0., 0., 0.],\n",
              "       [0., 0., 0., 0., 0., 0., 0., 0., 0., 1.],\n",
              "       [0., 0., 1., 0., 0., 0., 0., 0., 0., 0.],\n",
              "       [0., 0., 0., 1., 0., 0., 0., 0., 0., 0.],\n",
              "       [0., 0., 0., 0., 0., 0., 0., 1., 0., 0.],\n",
              "       [0., 0., 0., 0., 0., 0., 0., 0., 1., 0.]])"
            ]
          },
          "metadata": {},
          "execution_count": 197
        }
      ]
    },
    {
      "cell_type": "code",
      "source": [
        "result = X.T @ X"
      ],
      "metadata": {
        "id": "2B5XRx5d4aSz"
      },
      "execution_count": 198,
      "outputs": []
    },
    {
      "cell_type": "code",
      "source": [
        "result.shape"
      ],
      "metadata": {
        "colab": {
          "base_uri": "https://localhost:8080/"
        },
        "id": "zDH1Of8Y5Cih",
        "outputId": "29941805-a225-4520-a519-df178803f03d"
      },
      "execution_count": 199,
      "outputs": [
        {
          "output_type": "execute_result",
          "data": {
            "text/plain": [
              "(785, 785)"
            ]
          },
          "metadata": {},
          "execution_count": 199
        }
      ]
    },
    {
      "cell_type": "code",
      "source": [
        "result2 = X.T @ y"
      ],
      "metadata": {
        "id": "_6u5okba5JtW"
      },
      "execution_count": 200,
      "outputs": []
    },
    {
      "cell_type": "code",
      "source": [
        "result2.shape"
      ],
      "metadata": {
        "colab": {
          "base_uri": "https://localhost:8080/"
        },
        "id": "RvCV-bG25OCI",
        "outputId": "58e22454-8cff-47ed-87b8-a64823f56c7d"
      },
      "execution_count": 201,
      "outputs": [
        {
          "output_type": "execute_result",
          "data": {
            "text/plain": [
              "(785, 10)"
            ]
          },
          "metadata": {},
          "execution_count": 201
        }
      ]
    },
    {
      "cell_type": "markdown",
      "source": [
        "## Universal Functions"
      ],
      "metadata": {
        "id": "G7gLZ1IZ-lfK"
      }
    },
    {
      "cell_type": "code",
      "source": [
        "arr11 = np.arange(100)\n",
        "np.sqrt(arr11)"
      ],
      "metadata": {
        "colab": {
          "base_uri": "https://localhost:8080/"
        },
        "id": "Rj4YgPoA5O6i",
        "outputId": "c3cf9916-10bc-48b5-c697-f9247573ec9a"
      },
      "execution_count": 202,
      "outputs": [
        {
          "output_type": "execute_result",
          "data": {
            "text/plain": [
              "array([0.        , 1.        , 1.41421356, 1.73205081, 2.        ,\n",
              "       2.23606798, 2.44948974, 2.64575131, 2.82842712, 3.        ,\n",
              "       3.16227766, 3.31662479, 3.46410162, 3.60555128, 3.74165739,\n",
              "       3.87298335, 4.        , 4.12310563, 4.24264069, 4.35889894,\n",
              "       4.47213595, 4.58257569, 4.69041576, 4.79583152, 4.89897949,\n",
              "       5.        , 5.09901951, 5.19615242, 5.29150262, 5.38516481,\n",
              "       5.47722558, 5.56776436, 5.65685425, 5.74456265, 5.83095189,\n",
              "       5.91607978, 6.        , 6.08276253, 6.164414  , 6.244998  ,\n",
              "       6.32455532, 6.40312424, 6.4807407 , 6.55743852, 6.63324958,\n",
              "       6.70820393, 6.78232998, 6.8556546 , 6.92820323, 7.        ,\n",
              "       7.07106781, 7.14142843, 7.21110255, 7.28010989, 7.34846923,\n",
              "       7.41619849, 7.48331477, 7.54983444, 7.61577311, 7.68114575,\n",
              "       7.74596669, 7.81024968, 7.87400787, 7.93725393, 8.        ,\n",
              "       8.06225775, 8.1240384 , 8.18535277, 8.24621125, 8.30662386,\n",
              "       8.36660027, 8.42614977, 8.48528137, 8.54400375, 8.60232527,\n",
              "       8.66025404, 8.71779789, 8.77496439, 8.83176087, 8.88819442,\n",
              "       8.94427191, 9.        , 9.05538514, 9.11043358, 9.16515139,\n",
              "       9.21954446, 9.2736185 , 9.32737905, 9.38083152, 9.43398113,\n",
              "       9.48683298, 9.53939201, 9.59166305, 9.64365076, 9.69535971,\n",
              "       9.74679434, 9.79795897, 9.8488578 , 9.89949494, 9.94987437])"
            ]
          },
          "metadata": {},
          "execution_count": 202
        }
      ]
    },
    {
      "cell_type": "code",
      "source": [
        "np.exp(arr11)"
      ],
      "metadata": {
        "colab": {
          "base_uri": "https://localhost:8080/"
        },
        "id": "In0vZKe2-1YR",
        "outputId": "9893c02a-e308-49df-9b25-f55ccf1d0afa"
      },
      "execution_count": 203,
      "outputs": [
        {
          "output_type": "execute_result",
          "data": {
            "text/plain": [
              "array([1.00000000e+00, 2.71828183e+00, 7.38905610e+00, 2.00855369e+01,\n",
              "       5.45981500e+01, 1.48413159e+02, 4.03428793e+02, 1.09663316e+03,\n",
              "       2.98095799e+03, 8.10308393e+03, 2.20264658e+04, 5.98741417e+04,\n",
              "       1.62754791e+05, 4.42413392e+05, 1.20260428e+06, 3.26901737e+06,\n",
              "       8.88611052e+06, 2.41549528e+07, 6.56599691e+07, 1.78482301e+08,\n",
              "       4.85165195e+08, 1.31881573e+09, 3.58491285e+09, 9.74480345e+09,\n",
              "       2.64891221e+10, 7.20048993e+10, 1.95729609e+11, 5.32048241e+11,\n",
              "       1.44625706e+12, 3.93133430e+12, 1.06864746e+13, 2.90488497e+13,\n",
              "       7.89629602e+13, 2.14643580e+14, 5.83461743e+14, 1.58601345e+15,\n",
              "       4.31123155e+15, 1.17191424e+16, 3.18559318e+16, 8.65934004e+16,\n",
              "       2.35385267e+17, 6.39843494e+17, 1.73927494e+18, 4.72783947e+18,\n",
              "       1.28516001e+19, 3.49342711e+19, 9.49611942e+19, 2.58131289e+20,\n",
              "       7.01673591e+20, 1.90734657e+21, 5.18470553e+21, 1.40934908e+22,\n",
              "       3.83100800e+22, 1.04137594e+23, 2.83075330e+23, 7.69478527e+23,\n",
              "       2.09165950e+24, 5.68572000e+24, 1.54553894e+25, 4.20121040e+25,\n",
              "       1.14200739e+26, 3.10429794e+26, 8.43835667e+26, 2.29378316e+27,\n",
              "       6.23514908e+27, 1.69488924e+28, 4.60718663e+28, 1.25236317e+29,\n",
              "       3.40427605e+29, 9.25378173e+29, 2.51543867e+30, 6.83767123e+30,\n",
              "       1.85867175e+31, 5.05239363e+31, 1.37338298e+32, 3.73324200e+32,\n",
              "       1.01480039e+33, 2.75851345e+33, 7.49841700e+33, 2.03828107e+34,\n",
              "       5.54062238e+34, 1.50609731e+35, 4.09399696e+35, 1.11286375e+36,\n",
              "       3.02507732e+36, 8.22301271e+36, 2.23524660e+37, 6.07603023e+37,\n",
              "       1.65163625e+38, 4.48961282e+38, 1.22040329e+39, 3.31740010e+39,\n",
              "       9.01762841e+39, 2.45124554e+40, 6.66317622e+40, 1.81123908e+41,\n",
              "       4.92345829e+41, 1.33833472e+42, 3.63797095e+42, 9.88903032e+42])"
            ]
          },
          "metadata": {},
          "execution_count": 203
        }
      ]
    },
    {
      "cell_type": "code",
      "source": [
        "arr0 = prng.standard_normal(100)\n",
        "arr1 = prng.standard_normal(100)"
      ],
      "metadata": {
        "id": "dVSDF52E-6yh"
      },
      "execution_count": 205,
      "outputs": []
    },
    {
      "cell_type": "code",
      "source": [
        "arr0[:5]"
      ],
      "metadata": {
        "colab": {
          "base_uri": "https://localhost:8080/"
        },
        "id": "OMyrzaEP_G22",
        "outputId": "4aa598f8-9f45-4d2c-8378-f38d2bb4e2ae"
      },
      "execution_count": 206,
      "outputs": [
        {
          "output_type": "execute_result",
          "data": {
            "text/plain": [
              "array([ 0.05670135,  0.33108022, -0.26178089, -0.70926492,  0.16645919])"
            ]
          },
          "metadata": {},
          "execution_count": 206
        }
      ]
    },
    {
      "cell_type": "code",
      "source": [
        "arr1[:5]"
      ],
      "metadata": {
        "colab": {
          "base_uri": "https://localhost:8080/"
        },
        "id": "4GZFkV_S_PFI",
        "outputId": "f3d56909-ad26-49c5-f507-f6c16b5e9818"
      },
      "execution_count": 207,
      "outputs": [
        {
          "output_type": "execute_result",
          "data": {
            "text/plain": [
              "array([ 0.02108696, -2.58093018,  2.90953328, -0.4454346 ,  1.29569826])"
            ]
          },
          "metadata": {},
          "execution_count": 207
        }
      ]
    },
    {
      "cell_type": "code",
      "source": [
        "np.maximum(arr0, arr1)"
      ],
      "metadata": {
        "colab": {
          "base_uri": "https://localhost:8080/"
        },
        "id": "Idmt7ZJq_QtI",
        "outputId": "bc9b8121-eaa3-4cc7-c421-824f13b4db99"
      },
      "execution_count": 208,
      "outputs": [
        {
          "output_type": "execute_result",
          "data": {
            "text/plain": [
              "array([ 0.05670135,  0.33108022,  2.90953328, -0.4454346 ,  1.29569826,\n",
              "        0.47332265,  1.26703653,  2.21587579, -0.54833061,  0.49926601,\n",
              "        0.59341937,  0.97815534,  0.94882926,  0.75982985, -0.04186703,\n",
              "        0.08747828, -1.03004242,  0.43445472,  1.21184945,  0.38378953,\n",
              "        0.34845262,  0.82326025,  0.47925471, -0.04766999,  0.35519522,\n",
              "        1.32265582,  0.48225288,  0.03952852,  0.47190346,  1.25848053,\n",
              "       -0.75492221,  1.45808597,  0.47857895,  1.17958864,  0.10945476,\n",
              "        0.76657858,  0.5366135 ,  1.50493288, -0.11448157,  0.06556712,\n",
              "        0.73915805,  0.10971543, -0.46615851,  1.83089365,  0.38900949,\n",
              "       -0.99422219, -1.50968467, -0.30990392,  0.90538096,  0.55422499,\n",
              "       -0.47529756,  0.55362181,  0.55547308, -0.52785269,  0.53887764,\n",
              "        0.67881231,  0.29144776, -0.47239567,  0.90927524,  0.15782823,\n",
              "        1.85240098,  1.08370715,  0.59420923, -0.43622613,  0.28931663,\n",
              "        0.66103836,  0.79976192,  1.46217802, -0.16805486,  0.21290741,\n",
              "       -0.1333827 ,  1.00553981, -0.28345906, -0.22264237, -0.47005857,\n",
              "        0.78365644,  1.06945864,  1.44467924,  1.05539476, -0.53696812,\n",
              "        0.62664179,  0.21793749, -0.00593941,  0.16101262, -0.46198211,\n",
              "        0.79698818,  1.34768235,  0.89769411,  0.88725051,  1.06826228,\n",
              "       -0.51977317,  2.89684207,  1.88678513,  0.6637445 ,  1.01967808,\n",
              "        0.83257029,  0.05448982,  0.51495157, -0.47052156,  0.89582088])"
            ]
          },
          "metadata": {},
          "execution_count": 208
        }
      ]
    },
    {
      "cell_type": "markdown",
      "source": [
        "## Array-oriented programming"
      ],
      "metadata": {
        "id": "sksATtdgAe11"
      }
    },
    {
      "cell_type": "code",
      "source": [
        "step = 0.1\n",
        "grid = np.arange(-5, 5 + step, step)"
      ],
      "metadata": {
        "id": "HQQDGzYz_Ro9"
      },
      "execution_count": 223,
      "outputs": []
    },
    {
      "cell_type": "code",
      "source": [
        "xs, ys = np.meshgrid(grid, grid)"
      ],
      "metadata": {
        "id": "F0mtLGCzAmlb"
      },
      "execution_count": 224,
      "outputs": []
    },
    {
      "cell_type": "code",
      "source": [
        "xs[:5, :5], ys[:5, :5]"
      ],
      "metadata": {
        "colab": {
          "base_uri": "https://localhost:8080/"
        },
        "id": "qt0UQPeJA5rt",
        "outputId": "9094a0d9-5238-49c2-911b-cf5ae1c4469f"
      },
      "execution_count": 225,
      "outputs": [
        {
          "output_type": "execute_result",
          "data": {
            "text/plain": [
              "(array([[-5. , -4.9, -4.8, -4.7, -4.6],\n",
              "        [-5. , -4.9, -4.8, -4.7, -4.6],\n",
              "        [-5. , -4.9, -4.8, -4.7, -4.6],\n",
              "        [-5. , -4.9, -4.8, -4.7, -4.6],\n",
              "        [-5. , -4.9, -4.8, -4.7, -4.6]]),\n",
              " array([[-5. , -5. , -5. , -5. , -5. ],\n",
              "        [-4.9, -4.9, -4.9, -4.9, -4.9],\n",
              "        [-4.8, -4.8, -4.8, -4.8, -4.8],\n",
              "        [-4.7, -4.7, -4.7, -4.7, -4.7],\n",
              "        [-4.6, -4.6, -4.6, -4.6, -4.6]]))"
            ]
          },
          "metadata": {},
          "execution_count": 225
        }
      ]
    },
    {
      "cell_type": "code",
      "source": [
        "zs = np.sqrt(np.sin(xs)**2 + np.cos(ys)**2)"
      ],
      "metadata": {
        "id": "-53-eL9hBPNQ"
      },
      "execution_count": 232,
      "outputs": []
    },
    {
      "cell_type": "code",
      "source": [
        "import matplotlib.pyplot as plt"
      ],
      "metadata": {
        "id": "_sYT8mNiBtx9"
      },
      "execution_count": 219,
      "outputs": []
    },
    {
      "cell_type": "code",
      "source": [
        "plt.imshow(zs, extent=[-5, 5, -5, 5])\n",
        "plt.colorbar()"
      ],
      "metadata": {
        "colab": {
          "base_uri": "https://localhost:8080/",
          "height": 450
        },
        "id": "VspVd5f6Bv89",
        "outputId": "51c0e9fd-a1b7-45e7-9420-ff8e6e8ab26f"
      },
      "execution_count": 233,
      "outputs": [
        {
          "output_type": "execute_result",
          "data": {
            "text/plain": [
              "<matplotlib.colorbar.Colorbar at 0x7ffa0f3ab700>"
            ]
          },
          "metadata": {},
          "execution_count": 233
        },
        {
          "output_type": "display_data",
          "data": {
            "text/plain": [
              "<Figure size 640x480 with 2 Axes>"
            ],
            "image/png": "[encoded data removed]"
          },
          "metadata": {}
        }
      ]
    },
    {
      "cell_type": "code",
      "source": [
        "X.shape"
      ],
      "metadata": {
        "colab": {
          "base_uri": "https://localhost:8080/"
        },
        "id": "O-ugiREdB2Oz",
        "outputId": "812e275b-4627-4d5f-b3e4-c1cec8b6527c"
      },
      "execution_count": 234,
      "outputs": [
        {
          "output_type": "execute_result",
          "data": {
            "text/plain": [
              "(60000, 785)"
            ]
          },
          "metadata": {},
          "execution_count": 234
        }
      ]
    },
    {
      "cell_type": "code",
      "source": [
        "X.mean()"
      ],
      "metadata": {
        "colab": {
          "base_uri": "https://localhost:8080/"
        },
        "id": "rJmhAuuxEABl",
        "outputId": "f36002b7-e38d-43a0-de29-71651160ce09"
      },
      "execution_count": 235,
      "outputs": [
        {
          "output_type": "execute_result",
          "data": {
            "text/plain": [
              "0.0011855356462398897"
            ]
          },
          "metadata": {},
          "execution_count": 235
        }
      ]
    },
    {
      "cell_type": "code",
      "source": [
        "col_means = X.mean(axis=0)"
      ],
      "metadata": {
        "id": "OGtjvP06EGfX"
      },
      "execution_count": 237,
      "outputs": []
    },
    {
      "cell_type": "code",
      "source": [
        "col_means.shape"
      ],
      "metadata": {
        "colab": {
          "base_uri": "https://localhost:8080/"
        },
        "id": "QNtSdEPAELdc",
        "outputId": "7cf9f785-e1d8-4f03-c6b4-2a5d6329f53c"
      },
      "execution_count": 238,
      "outputs": [
        {
          "output_type": "execute_result",
          "data": {
            "text/plain": [
              "(785,)"
            ]
          },
          "metadata": {},
          "execution_count": 238
        }
      ]
    },
    {
      "cell_type": "code",
      "source": [
        "col_means"
      ],
      "metadata": {
        "colab": {
          "base_uri": "https://localhost:8080/"
        },
        "id": "pYASUbfuERfx",
        "outputId": "2256f1ef-f153-47e2-f707-cf9adef8dca8"
      },
      "execution_count": 239,
      "outputs": [
        {
          "output_type": "execute_result",
          "data": {
            "text/plain": [
              "array([ 1.00000000e+00, -2.64626657e-03, -2.95507803e-03,  4.52984870e-04,\n",
              "       -7.74480119e-03, -1.12332925e-03, -1.08936719e-03, -6.85017056e-03,\n",
              "        1.06744958e-02, -4.22029900e-03,  6.17593598e-03,  3.19446040e-04,\n",
              "        2.49994100e-03, -9.90405378e-03, -7.33075850e-04,  1.71717888e-03,\n",
              "       -2.43972010e-03,  4.31144401e-03,  1.23526815e-03,  1.92731928e-03,\n",
              "       -2.59544632e-03,  6.37911936e-03,  1.06343996e-04, -1.00588062e-03,\n",
              "       -6.19343609e-03,  7.77047750e-04, -9.69587867e-04,  4.11104108e-03,\n",
              "       -6.01448248e-03,  6.61599472e-03, -9.45047593e-04,  9.10174521e-04,\n",
              "       -9.08036960e-04, -2.49159349e-03, -1.40621633e-03,  1.67313965e-03,\n",
              "        3.31442532e-03, -1.99789126e-03,  3.59350601e-03,  9.33009862e-04,\n",
              "       -2.48319401e-03, -5.16057206e-03,  2.32661374e-03, -2.28404467e-03,\n",
              "        1.33346755e-03,  5.04621020e-03, -2.84743394e-03, -1.93900554e-03,\n",
              "       -2.93201596e-03,  4.66173651e-03,  6.70685068e-03,  1.01519399e-02,\n",
              "       -9.07621346e-04, -1.20885817e-03,  3.93645169e-03,  1.54339674e-03,\n",
              "        5.28415143e-03, -2.57889738e-03,  5.49498452e-03,  8.72731236e-03,\n",
              "       -3.06341875e-03, -4.28152309e-03, -5.07129360e-03,  5.26842845e-03,\n",
              "       -4.05917305e-04,  4.26128160e-03,  2.31763914e-05, -3.12192016e-03,\n",
              "       -3.35365814e-03, -4.49751680e-03, -5.71214949e-03,  3.23663845e-04,\n",
              "        5.98704820e-03, -1.80538561e-03,  2.10927554e-04, -2.47664257e-03,\n",
              "        4.94576343e-03, -2.30486315e-03,  2.40193290e-03,  3.15651420e-03,\n",
              "        2.46153160e-03, -5.56619229e-03, -6.00757623e-03,  2.39833929e-03,\n",
              "       -1.46925891e-03, -1.15120030e-03, -1.82732346e-04,  9.58616588e-03,\n",
              "        1.75616803e-03,  3.52749069e-03,  8.40776005e-04, -1.99315111e-03,\n",
              "        4.30751485e-05, -4.42213199e-03,  7.81301934e-04, -5.16314556e-04,\n",
              "       -1.00765584e-03, -2.78962914e-03,  1.16127271e-03,  3.07064882e-04,\n",
              "        8.78777595e-05,  3.78331596e-03,  3.32535336e-03,  3.20158742e-03,\n",
              "       -3.15786518e-03,  8.59551701e-04,  6.37059052e-03, -3.33975964e-03,\n",
              "       -1.53509992e-03, -4.91020291e-03, -4.78283959e-03,  3.63344587e-03,\n",
              "        2.11840929e-03,  1.62070284e-03,  4.29887799e-04, -2.97808060e-03,\n",
              "        8.73141878e-04, -2.67994108e-04,  9.10762532e-04,  1.57308549e-03,\n",
              "       -4.75711334e-03,  5.85331649e-04, -2.26924423e-03,  2.01120365e-03,\n",
              "        3.16081024e-03,  4.10550171e-03, -2.75222117e-03, -5.15607589e-03,\n",
              "        5.81126835e-04,  2.32748728e-03,  5.17611645e-03, -3.66973622e-03,\n",
              "       -2.73116504e-03,  1.94222040e-03,  2.82350037e-03, -7.46945383e-04,\n",
              "       -1.00153028e-03,  2.96069536e-03,  8.71330715e-04,  3.80253586e-03,\n",
              "        3.64427761e-03, -3.01265248e-03,  6.66407331e-03,  5.45204892e-03,\n",
              "        2.35163760e-03,  5.15262982e-03, -5.76126527e-03,  9.50734868e-04,\n",
              "       -9.70697529e-03,  3.39564849e-03,  7.98018733e-03, -4.02179849e-03,\n",
              "        2.48764269e-03, -1.07691151e-02,  6.64206000e-04, -1.28160257e-03,\n",
              "        1.50854896e-03,  8.55746503e-06,  1.68253133e-03, -1.14917658e-03,\n",
              "       -5.97494556e-04,  8.77899903e-04, -3.08842752e-03, -2.07959194e-03,\n",
              "       -2.14571149e-03, -4.21411092e-03,  3.14355344e-03, -4.28701302e-03,\n",
              "        2.01349753e-03,  5.26604132e-04, -3.14154234e-03,  2.77704560e-03,\n",
              "       -2.96722196e-03,  3.58344214e-03,  1.92058047e-03,  5.16913382e-03,\n",
              "       -2.95141847e-03,  3.36864283e-03,  5.29661089e-03,  2.98149565e-03,\n",
              "        2.99523774e-03,  3.73794962e-03, -6.11069160e-03, -7.99079145e-04,\n",
              "       -1.57409419e-03, -1.33729250e-03,  7.09167274e-04, -2.16260660e-03,\n",
              "        3.76989484e-03,  1.90400204e-03, -3.30705082e-03, -5.06316536e-03,\n",
              "        2.28635482e-03, -5.98446776e-03, -2.62042535e-03, -4.79618657e-03,\n",
              "        3.13558714e-03, -4.62153272e-03, -3.17278228e-03,  6.33898508e-08,\n",
              "       -7.27682466e-03,  5.62980973e-03,  1.83602382e-03, -3.21495770e-03,\n",
              "        9.45206303e-03, -8.65971316e-04, -1.63603276e-03, -2.47786742e-03,\n",
              "        6.14685546e-03,  4.20665588e-03, -4.15226222e-04, -6.68771405e-03,\n",
              "       -1.54490804e-03,  2.30806937e-03, -6.29564451e-03, -4.44047095e-03,\n",
              "       -3.33183248e-03,  7.03859463e-04, -1.01549516e-03,  4.15915646e-03,\n",
              "        1.10799388e-02,  6.44465444e-04,  8.78077218e-03,  2.32998117e-04,\n",
              "       -4.42870085e-03, -3.54150666e-03,  1.35843868e-04,  1.79285936e-03,\n",
              "       -1.30357635e-03,  1.21034449e-03,  3.55192275e-03, -1.03725433e-03,\n",
              "       -2.34093754e-03, -4.03780266e-03, -2.22351527e-03, -4.83991348e-03,\n",
              "        2.60090006e-03, -5.79957947e-03,  8.47861121e-04, -8.95003164e-04,\n",
              "        1.68291016e-03, -2.99186603e-03, -3.98958181e-03,  4.30056716e-04,\n",
              "       -4.21132087e-03, -3.87285242e-03, -3.71736685e-03,  7.88144703e-04,\n",
              "        3.49299441e-04, -2.53205605e-04, -2.82785034e-03,  1.53978464e-03,\n",
              "       -6.90027294e-03,  1.24219751e-03,  2.72620800e-03,  2.01160229e-03,\n",
              "       -4.43698259e-03,  1.10957927e-03,  2.74711896e-03,  5.65969252e-03,\n",
              "        5.71647488e-03, -4.97183620e-04, -1.22756692e-03, -1.18120704e-03,\n",
              "       -1.33430307e-03, -1.44543353e-03, -2.19806348e-04, -4.64035443e-03,\n",
              "        8.52782524e-04, -4.55626852e-04,  1.81389342e-03,  1.75411211e-03,\n",
              "        6.10847964e-03, -3.01311944e-04,  3.07699595e-03, -7.32114295e-04,\n",
              "       -8.21595927e-03, -6.37615844e-03,  2.46534935e-03,  3.35176376e-03,\n",
              "       -2.06044580e-03, -3.65764455e-03, -2.10626276e-03, -3.98304962e-04,\n",
              "       -5.33171381e-03,  7.55513675e-03, -1.30314360e-03,  4.17466371e-04,\n",
              "        5.51723682e-03,  7.93557743e-03,  4.26181041e-04, -4.66260075e-04,\n",
              "       -3.75084528e-03,  1.14258860e-03,  2.42459863e-03,  3.69351266e-03,\n",
              "       -5.35589652e-03, -4.43332341e-03, -4.23406870e-04,  3.44833249e-03,\n",
              "       -6.08024112e-03, -3.42086264e-03, -2.98950997e-03,  1.95284288e-03,\n",
              "        7.73982139e-04, -9.03816752e-03,  1.16645032e-03, -6.89984304e-04,\n",
              "        3.39765992e-03, -5.78649428e-03,  1.13964206e-03, -2.67694060e-03,\n",
              "       -5.05224181e-03,  4.14109922e-03, -4.35800178e-03, -7.40921313e-03,\n",
              "       -7.71643759e-03, -1.24014350e-03,  6.52985646e-04,  2.45726573e-03,\n",
              "       -5.63311612e-03, -3.21256106e-03, -1.57366971e-03,  2.38992727e-03,\n",
              "       -1.57573180e-03,  6.82553881e-03, -4.34384171e-03,  1.98564202e-03,\n",
              "       -2.02430903e-03, -6.57915331e-03, -5.57186334e-03, -9.11669243e-03,\n",
              "       -3.60597997e-04, -2.51703082e-03,  8.00463391e-04, -3.62738196e-03,\n",
              "       -4.20370993e-03, -3.00082278e-04,  1.56662682e-03,  5.58376623e-03,\n",
              "       -2.21630879e-03, -1.94982269e-03, -6.04269267e-03, -4.87766561e-03,\n",
              "        2.61451021e-03,  3.71489808e-03, -4.43508415e-03, -5.95948235e-04,\n",
              "        1.72159468e-03,  6.46712609e-03, -2.28106356e-03,  6.23102177e-03,\n",
              "        2.63963396e-03, -4.33043328e-03, -4.15521161e-04, -2.54612150e-03,\n",
              "        7.95529261e-03,  1.12471959e-03, -2.72461872e-03,  3.25586281e-04,\n",
              "       -2.50074561e-03,  1.39636277e-03, -1.37337450e-03,  6.78952162e-03,\n",
              "       -7.32108286e-03, -3.76154629e-03,  1.93649340e-03,  1.14190633e-02,\n",
              "       -5.28734006e-03, -3.51180710e-04,  1.50920572e-03, -5.87757914e-03,\n",
              "        4.94802167e-03,  1.32788252e-04,  2.45839564e-03, -1.82251244e-03,\n",
              "       -9.35447676e-03, -2.40978802e-03,  2.06277310e-03, -3.24170399e-03,\n",
              "        2.28526505e-03, -9.19299006e-04,  2.66312524e-03,  5.31933715e-03,\n",
              "       -3.40581991e-03,  8.74800366e-04, -2.81356598e-03,  6.05871034e-03,\n",
              "        6.85559744e-03,  2.91093283e-03, -5.38197514e-03, -9.66101399e-03,\n",
              "        2.24993797e-04,  1.38003743e-03, -2.80047589e-03,  8.14549467e-04,\n",
              "       -3.41903301e-03,  2.82753466e-03,  3.55744928e-03,  1.85578874e-03,\n",
              "        3.57448778e-03, -1.67744733e-03,  1.62991381e-03, -1.98983978e-03,\n",
              "        4.90002622e-03,  3.06625658e-03,  7.02516126e-03,  9.60675187e-04,\n",
              "        2.63225699e-03, -6.36073603e-03, -2.13530411e-03,  1.96288968e-03,\n",
              "        5.26709868e-03, -1.70161908e-03, -2.73404405e-03, -2.44035184e-03,\n",
              "        1.29581693e-03,  5.92195523e-03,  5.24086075e-03,  2.51282750e-04,\n",
              "        2.18490181e-03,  6.03619228e-06, -2.66429570e-05,  2.88667602e-03,\n",
              "       -2.67531508e-03,  1.09955442e-02, -1.45992139e-03, -3.78327324e-03,\n",
              "        3.36540599e-03,  5.74642057e-03,  3.53003246e-03, -5.70115656e-03,\n",
              "       -2.28437817e-03,  3.45309771e-03,  3.46501473e-03, -4.16820213e-03,\n",
              "        2.13457775e-03, -7.54150003e-04, -3.33680194e-03, -5.34077485e-04,\n",
              "       -9.70020095e-04,  1.61269658e-03, -6.57366273e-03, -2.20733169e-03,\n",
              "        9.66713986e-04, -3.71497523e-03,  8.95111615e-03, -1.18892786e-03,\n",
              "       -1.70810598e-03,  2.99802603e-03,  1.43588807e-04,  9.48177859e-03,\n",
              "        2.64638498e-03,  1.31462110e-03, -1.09166105e-02, -1.87919840e-04,\n",
              "        3.57226446e-03,  6.81250947e-03,  8.55362360e-04, -2.27180511e-03,\n",
              "        3.13114799e-03,  3.86086073e-03,  1.64373936e-03, -1.07202875e-03,\n",
              "        4.66841619e-03,  2.80903724e-03, -1.84146353e-03, -2.02910806e-03,\n",
              "       -5.69669545e-03,  6.67612571e-03,  8.15709940e-04,  7.68672366e-03,\n",
              "        8.49795972e-03,  5.26002314e-04, -2.77859234e-03, -6.27619398e-03,\n",
              "       -5.09908617e-03, -1.64749217e-03, -1.72366565e-03, -4.28724184e-04,\n",
              "       -2.10155570e-04,  3.39348929e-04, -2.54757125e-03,  8.34016894e-03,\n",
              "       -3.56003075e-03, -2.81949647e-03,  4.82704098e-03, -7.37493431e-04,\n",
              "        2.72360887e-03, -7.69061658e-03, -1.03819914e-03, -3.60998014e-03,\n",
              "       -5.77352817e-03, -3.12362249e-03,  4.29911226e-03,  7.18167203e-04,\n",
              "        3.73391047e-03,  1.80593168e-03, -5.36475804e-04,  1.15475628e-03,\n",
              "        6.29752156e-03, -8.31724103e-03,  1.27150364e-03,  2.01617964e-03,\n",
              "        2.11447751e-03,  2.34017127e-03,  1.72071779e-03, -4.26103474e-03,\n",
              "       -7.08185284e-03,  1.67304558e-03, -1.96477236e-03, -2.59153071e-03,\n",
              "        1.38264163e-03, -2.42930531e-03,  4.71525991e-03,  1.12401797e-02,\n",
              "        2.06619910e-03, -4.09738303e-03,  1.62392259e-03,  6.06770073e-04,\n",
              "       -3.11276955e-03,  2.41280807e-03, -2.26020413e-03, -2.01822099e-04,\n",
              "        3.35328194e-03, -3.47314205e-03, -3.54119260e-03,  1.69630813e-03,\n",
              "        5.18222408e-03,  3.35501777e-03,  9.91010300e-03, -1.07767593e-03,\n",
              "       -4.02249538e-03,  5.28513619e-04, -2.25638427e-03, -2.44143219e-03,\n",
              "       -4.51855779e-03, -9.27479043e-04, -5.22534445e-03, -5.59593623e-03,\n",
              "        1.75481005e-03,  1.87869350e-03, -5.03651628e-03,  9.69165444e-03,\n",
              "        4.24242283e-03, -3.10108445e-04, -7.90738203e-04, -3.37371317e-03,\n",
              "       -8.56820222e-03,  3.11963923e-03,  7.25247947e-04, -1.66374034e-03,\n",
              "       -5.87093484e-03,  2.64748501e-03, -3.09130787e-03, -1.54976479e-03,\n",
              "        1.70826747e-03, -3.25856403e-03,  5.47509827e-03, -4.77454301e-03,\n",
              "        4.50541347e-03,  1.86794961e-03,  3.40932713e-04, -4.22887471e-03,\n",
              "       -1.07642645e-03, -1.02135750e-02, -5.79858390e-03,  2.42522231e-03,\n",
              "        6.75697110e-03,  8.28540188e-04, -1.98797082e-03,  2.04734224e-03,\n",
              "        4.23815882e-03,  8.49525236e-04,  1.25329171e-03,  2.02042378e-04,\n",
              "        5.69080466e-03,  3.42754609e-03, -3.44350945e-03,  1.35001406e-03,\n",
              "       -4.40458586e-03,  1.44466662e-03,  1.94510739e-04, -3.74932353e-03,\n",
              "        3.12585232e-03, -7.13010210e-03, -9.21945793e-04, -2.63365171e-04,\n",
              "       -3.72411303e-03, -4.97171860e-03, -5.07294180e-03,  6.02098646e-03,\n",
              "        2.66434978e-04,  2.80299538e-03,  6.28359705e-03, -3.29526937e-05,\n",
              "        2.33596065e-03,  2.81670613e-03,  5.35928153e-04,  4.49038710e-03,\n",
              "        2.57037787e-03, -1.65034597e-03,  2.80299122e-03, -4.19304927e-03,\n",
              "        6.20115299e-04, -3.59874466e-04,  1.68665958e-03,  8.65341671e-04,\n",
              "        1.83785450e-03, -1.05189919e-03, -1.01326130e-02, -8.56792357e-04,\n",
              "        1.96180636e-03,  4.97548501e-03, -5.93805800e-03, -9.18829972e-03,\n",
              "       -2.48503176e-03,  1.06623873e-03,  5.71231693e-03, -4.77376998e-04,\n",
              "       -8.03429949e-03, -1.17963276e-03,  4.85131312e-03,  3.62174683e-03,\n",
              "        2.64674495e-03,  7.93068797e-04,  5.00234757e-04,  3.71074093e-03,\n",
              "        7.83071886e-04,  1.68441418e-03, -3.13228897e-03,  1.09612639e-03,\n",
              "       -4.03898816e-03,  3.51784848e-03, -3.56145058e-03,  2.80333766e-03,\n",
              "        6.53462157e-03, -7.60089974e-03,  5.60328573e-03, -2.34690850e-03,\n",
              "        6.12728061e-03, -7.95165188e-04, -2.13123249e-03,  3.35743003e-03,\n",
              "        2.22835783e-03,  2.95068652e-03,  7.94102055e-04,  2.68833379e-03,\n",
              "       -4.76225034e-03,  1.09524359e-03, -4.16751671e-03, -7.21271677e-03,\n",
              "        4.02196702e-03, -2.97347692e-03,  5.71920671e-03,  4.43098959e-03,\n",
              "       -5.13694279e-03,  2.01331741e-03, -6.94875255e-04,  4.09130678e-03,\n",
              "       -5.60185825e-03,  5.69907590e-03, -1.32822383e-04, -6.11589997e-03,\n",
              "       -7.87719283e-05, -4.09837558e-04,  3.81197692e-03, -7.04928993e-03,\n",
              "       -4.00462402e-03, -1.57216449e-03,  3.90269678e-03, -4.50664427e-04,\n",
              "        6.43240667e-03, -2.17747451e-03,  2.24327538e-03, -7.56718836e-03,\n",
              "       -1.20133067e-03, -4.14053993e-03, -5.24991604e-04,  8.80029841e-04,\n",
              "       -3.43544876e-03, -2.74517447e-03,  4.49358680e-03,  3.37244164e-03,\n",
              "        4.37059467e-04,  2.86670845e-03, -2.02247493e-04, -2.65827642e-03,\n",
              "       -4.35329189e-03, -1.54450780e-03,  2.68838210e-03,  8.55055008e-04,\n",
              "        1.47633251e-03, -9.61771134e-03, -6.44681185e-03, -5.88487097e-04,\n",
              "       -6.94154050e-03, -1.72072056e-03,  5.09319841e-03,  1.99533138e-03,\n",
              "       -2.73277365e-03,  2.19663291e-03,  2.65489778e-03, -1.38506456e-03,\n",
              "        5.47585370e-03, -4.67606369e-03,  2.49641208e-03,  1.90869288e-03,\n",
              "       -4.09744917e-03,  2.72703783e-03, -1.41069915e-03,  8.84198919e-03,\n",
              "        4.27520000e-03,  4.63149862e-03, -1.52195545e-03, -1.46057341e-03,\n",
              "       -8.36250346e-03, -2.79341727e-04, -1.21148916e-03, -7.57155006e-03,\n",
              "       -7.36612154e-03,  2.05578078e-03, -1.31366232e-03,  4.56709007e-03,\n",
              "       -3.13155350e-03,  1.38537055e-03,  5.38286955e-03,  1.33421457e-03,\n",
              "        3.60733569e-03,  5.38959968e-04, -1.51811952e-03, -1.62200786e-03,\n",
              "       -5.11600680e-03, -2.57401010e-03, -8.18327251e-04,  1.20895959e-03,\n",
              "        7.48069865e-04,  6.71021141e-03, -1.66317244e-03, -7.02696219e-04,\n",
              "       -2.20600551e-03, -2.61817294e-03, -5.78216905e-03,  1.43557562e-04,\n",
              "        2.24419299e-03,  2.85226815e-03,  3.49504266e-03,  1.77599131e-03,\n",
              "       -5.20872390e-03, -8.09775407e-03,  5.51087401e-04,  3.83017123e-05,\n",
              "        6.49839780e-03, -3.90892410e-03, -4.49838076e-03, -6.00634803e-04,\n",
              "        2.78260330e-03, -5.54600203e-03, -7.27593661e-05,  6.23034158e-03,\n",
              "       -2.69639208e-03,  4.06144359e-04,  2.31960335e-03,  1.86436754e-05,\n",
              "       -3.24996133e-03, -2.71221455e-03, -5.16679186e-03,  3.23865446e-04,\n",
              "       -3.85118630e-04,  2.83801005e-03,  2.86413453e-03, -3.41794198e-04,\n",
              "       -1.78005782e-04,  1.15932621e-03,  2.76172444e-04,  1.40056425e-02,\n",
              "       -1.30565122e-02,  3.17507656e-03, -5.94365949e-03, -2.59761143e-03,\n",
              "       -5.64060874e-03,  2.50812998e-04,  3.33477427e-03, -7.32071141e-03,\n",
              "        2.20154473e-03])"
            ]
          },
          "metadata": {},
          "execution_count": 239
        }
      ]
    },
    {
      "cell_type": "code",
      "source": [
        "row_means = X.mean(axis=1)"
      ],
      "metadata": {
        "id": "WTpV8OS4EUyB"
      },
      "execution_count": 241,
      "outputs": []
    },
    {
      "cell_type": "code",
      "source": [
        "row_means.shape"
      ],
      "metadata": {
        "colab": {
          "base_uri": "https://localhost:8080/"
        },
        "id": "5Y7Ihit9Eh0X",
        "outputId": "2deda968-dea2-46e6-caec-fc3bc914480f"
      },
      "execution_count": 243,
      "outputs": [
        {
          "output_type": "execute_result",
          "data": {
            "text/plain": [
              "(60000,)"
            ]
          },
          "metadata": {},
          "execution_count": 243
        }
      ]
    },
    {
      "cell_type": "code",
      "source": [
        "np.random.normal?"
      ],
      "metadata": {
        "id": "UHO8j_epHbiM"
      },
      "execution_count": 244,
      "outputs": []
    },
    {
      "cell_type": "markdown",
      "source": [
        "### Exercise:\n",
        "\n",
        "Suppose that you have an dataset with 60,000 rows and 784 columns.\n",
        "\n",
        "1. Create an array `X` with shape (n_rows, n_cols + 1) of all random numbers from a standard normal distribution.\n",
        "2. Replace the data in column 0 with all ones.\n",
        "3. Create a (n_rows, 1) array called `y` of random numbers from the `np.random.normal` distribution with `loc=5.0`, and `scale=0.1` \n",
        "4. Matrix multiply the transpose of `X` with `X`.\n",
        "5. Use `np.linalg.inv` to compute the inverse of resulting matric from step 4. \n",
        "6. Matrix multiply the result of step 5 with the tranpose of `X`.\n",
        "7. Matrix multiply the result of step 6 with the array `y`."
      ],
      "metadata": {
        "id": "Hb9RqXJjGzea"
      }
    },
    {
      "cell_type": "code",
      "source": [
        "y = np.random.normal(loc=5.0, scale=0.1, size=(60_000, 1))"
      ],
      "metadata": {
        "id": "W8f5mqzJElG5"
      },
      "execution_count": 247,
      "outputs": []
    },
    {
      "cell_type": "code",
      "source": [
        "I = np.linalg.inv(X.T @ X) @ (X.T @ X)"
      ],
      "metadata": {
        "id": "kryfc97QNsoW"
      },
      "execution_count": 253,
      "outputs": []
    },
    {
      "cell_type": "code",
      "source": [
        "I"
      ],
      "metadata": {
        "colab": {
          "base_uri": "https://localhost:8080/"
        },
        "id": "Qzj3b7V9N1qw",
        "outputId": "d1bf34a7-2618-40e8-92a5-7329670ca42e"
      },
      "execution_count": 255,
      "outputs": [
        {
          "output_type": "execute_result",
          "data": {
            "text/plain": [
              "array([[ 1.00000000e+00, -8.94466792e-19, -1.04354459e-18, ...,\n",
              "         1.73472348e-18, -1.73472348e-18,  1.73472348e-18],\n",
              "       [ 1.19262239e-18,  1.00000000e+00,  4.33680869e-19, ...,\n",
              "        -1.08420217e-18, -3.46944695e-18,  2.60208521e-18],\n",
              "       [ 2.71050543e-19,  9.48676901e-19,  1.00000000e+00, ...,\n",
              "        -4.33680869e-19, -8.67361738e-19, -1.95156391e-18],\n",
              "       ...,\n",
              "       [-8.67361738e-19,  4.33680869e-19,  3.90312782e-18, ...,\n",
              "         1.00000000e+00,  9.75781955e-19, -1.08420217e-19],\n",
              "       [ 2.60208521e-18, -2.60208521e-18, -1.73472348e-18, ...,\n",
              "        -1.30104261e-18,  1.00000000e+00,  1.08420217e-19],\n",
              "       [-1.30104261e-18,  3.03576608e-18,  4.33680869e-19, ...,\n",
              "        -3.79470760e-19,  7.58941521e-19,  1.00000000e+00]])"
            ]
          },
          "metadata": {},
          "execution_count": 255
        }
      ]
    },
    {
      "cell_type": "code",
      "source": [
        "P = np.linalg.inv(X.T @ X) @ X.T"
      ],
      "metadata": {
        "id": "_-L-9SvEM8wS"
      },
      "execution_count": 250,
      "outputs": []
    },
    {
      "cell_type": "code",
      "source": [
        "P.shape"
      ],
      "metadata": {
        "colab": {
          "base_uri": "https://localhost:8080/"
        },
        "id": "pwfqaE3_NTNt",
        "outputId": "23e4bbac-1b6f-4faa-d1f8-987e9c106b94"
      },
      "execution_count": 251,
      "outputs": [
        {
          "output_type": "execute_result",
          "data": {
            "text/plain": [
              "(785, 60000)"
            ]
          },
          "metadata": {},
          "execution_count": 251
        }
      ]
    },
    {
      "cell_type": "code",
      "source": [
        "estimated_parameters = P @ y"
      ],
      "metadata": {
        "id": "-0PqKXtoNgqA"
      },
      "execution_count": 256,
      "outputs": []
    },
    {
      "cell_type": "code",
      "source": [
        "estimated_parameters.shape"
      ],
      "metadata": {
        "colab": {
          "base_uri": "https://localhost:8080/"
        },
        "id": "l6Au8ruKOHhP",
        "outputId": "d9e6b0e0-c9df-4714-cac8-58598fee0d48"
      },
      "execution_count": 257,
      "outputs": [
        {
          "output_type": "execute_result",
          "data": {
            "text/plain": [
              "(785, 1)"
            ]
          },
          "metadata": {},
          "execution_count": 257
        }
      ]
    },
    {
      "cell_type": "code",
      "source": [
        "estimated_parameters"
      ],
      "metadata": {
        "colab": {
          "base_uri": "https://localhost:8080/"
        },
        "id": "mPIstZ4GOJOX",
        "outputId": "a3843564-eb4e-4bdf-9664-10c73107e9fb"
      },
      "execution_count": 258,
      "outputs": [
        {
          "output_type": "execute_result",
          "data": {
            "text/plain": [
              "array([[ 5.00021563e+00],\n",
              "       [ 2.46726861e-04],\n",
              "       [ 2.89473130e-05],\n",
              "       [ 5.36330926e-05],\n",
              "       [ 2.26063835e-04],\n",
              "       [ 7.37919073e-04],\n",
              "       [-5.77490996e-04],\n",
              "       [-1.19821275e-04],\n",
              "       [ 1.22873087e-04],\n",
              "       [-9.25608843e-05],\n",
              "       [-1.05431821e-04],\n",
              "       [ 5.99553669e-04],\n",
              "       [-4.90815929e-04],\n",
              "       [ 1.51662404e-04],\n",
              "       [ 1.23693813e-04],\n",
              "       [-1.34258362e-04],\n",
              "       [ 3.12033309e-05],\n",
              "       [-1.82679808e-04],\n",
              "       [-5.03745199e-04],\n",
              "       [-4.23270823e-04],\n",
              "       [-7.81933359e-04],\n",
              "       [ 7.07377435e-04],\n",
              "       [ 3.22008481e-05],\n",
              "       [-2.30067502e-04],\n",
              "       [ 4.54456921e-04],\n",
              "       [ 3.45642933e-04],\n",
              "       [ 3.29226983e-04],\n",
              "       [-6.16025694e-05],\n",
              "       [ 7.23689340e-04],\n",
              "       [ 5.78115772e-04],\n",
              "       [ 8.18628748e-05],\n",
              "       [ 5.30122184e-05],\n",
              "       [-3.71267328e-04],\n",
              "       [ 1.56900440e-04],\n",
              "       [ 4.58962779e-04],\n",
              "       [ 2.43122583e-04],\n",
              "       [ 2.39402922e-04],\n",
              "       [ 3.25880635e-04],\n",
              "       [ 5.60890079e-04],\n",
              "       [-1.87525331e-04],\n",
              "       [ 2.86896775e-04],\n",
              "       [ 3.18387505e-04],\n",
              "       [ 2.68096465e-04],\n",
              "       [-9.30537771e-04],\n",
              "       [ 2.19521896e-04],\n",
              "       [ 3.73493266e-04],\n",
              "       [ 3.71756614e-04],\n",
              "       [-5.14937632e-04],\n",
              "       [-1.00910792e-04],\n",
              "       [ 1.54501401e-04],\n",
              "       [ 3.76090814e-04],\n",
              "       [ 4.53101647e-04],\n",
              "       [ 8.68702928e-05],\n",
              "       [-3.31326945e-04],\n",
              "       [ 4.89486216e-04],\n",
              "       [ 4.07212058e-04],\n",
              "       [ 4.64575547e-04],\n",
              "       [-5.37939865e-04],\n",
              "       [ 6.28261841e-04],\n",
              "       [-2.28306229e-04],\n",
              "       [-3.57437429e-06],\n",
              "       [ 2.59213311e-04],\n",
              "       [ 1.83696003e-04],\n",
              "       [ 8.45518443e-04],\n",
              "       [ 1.21712375e-03],\n",
              "       [-3.15224485e-05],\n",
              "       [ 3.89182876e-04],\n",
              "       [ 1.90363623e-04],\n",
              "       [-8.48436186e-04],\n",
              "       [ 9.05081158e-05],\n",
              "       [-5.83443283e-04],\n",
              "       [-2.67035506e-04],\n",
              "       [ 1.96481639e-04],\n",
              "       [ 3.51857288e-04],\n",
              "       [-8.07300178e-05],\n",
              "       [-3.68415359e-04],\n",
              "       [ 1.83936383e-04],\n",
              "       [-3.53278442e-04],\n",
              "       [ 9.43473283e-04],\n",
              "       [ 2.47636463e-04],\n",
              "       [-1.65614239e-04],\n",
              "       [ 5.89158472e-04],\n",
              "       [ 5.74819103e-04],\n",
              "       [ 3.87802867e-05],\n",
              "       [-4.66298309e-04],\n",
              "       [-2.60202038e-04],\n",
              "       [-4.54583200e-05],\n",
              "       [ 6.47340703e-05],\n",
              "       [-8.59290778e-05],\n",
              "       [-6.05688837e-04],\n",
              "       [-4.94655435e-04],\n",
              "       [ 3.40329827e-04],\n",
              "       [ 7.57844541e-04],\n",
              "       [ 1.56719721e-04],\n",
              "       [-7.27709720e-04],\n",
              "       [-7.40183410e-05],\n",
              "       [-8.81797985e-05],\n",
              "       [-2.72558056e-05],\n",
              "       [ 9.89020406e-05],\n",
              "       [ 9.47504271e-04],\n",
              "       [ 1.20065148e-04],\n",
              "       [ 2.33839439e-04],\n",
              "       [ 4.33365640e-04],\n",
              "       [ 1.14764968e-04],\n",
              "       [ 2.60039852e-04],\n",
              "       [-4.30944445e-05],\n",
              "       [ 2.11654847e-04],\n",
              "       [ 7.91587953e-05],\n",
              "       [ 4.61918836e-04],\n",
              "       [ 8.89365295e-05],\n",
              "       [ 1.17061153e-04],\n",
              "       [-6.85651495e-05],\n",
              "       [ 6.43632876e-04],\n",
              "       [-2.51045960e-04],\n",
              "       [ 5.26218823e-05],\n",
              "       [-2.71328464e-04],\n",
              "       [ 6.11410638e-05],\n",
              "       [-1.13365881e-04],\n",
              "       [-3.00130651e-04],\n",
              "       [ 2.45320433e-04],\n",
              "       [ 2.85301485e-04],\n",
              "       [ 8.32563380e-04],\n",
              "       [-8.83039960e-04],\n",
              "       [ 2.58191208e-04],\n",
              "       [-1.90520022e-04],\n",
              "       [-1.07461197e-05],\n",
              "       [ 3.04664450e-05],\n",
              "       [-3.43341579e-04],\n",
              "       [-3.35348853e-04],\n",
              "       [-6.85929821e-04],\n",
              "       [ 3.11256678e-04],\n",
              "       [-7.48043698e-05],\n",
              "       [ 1.86021111e-04],\n",
              "       [-4.22500356e-04],\n",
              "       [-1.19792634e-04],\n",
              "       [ 2.03622511e-04],\n",
              "       [ 6.87985714e-04],\n",
              "       [-1.53649427e-04],\n",
              "       [-8.11192010e-04],\n",
              "       [ 9.03823728e-04],\n",
              "       [-3.74897293e-04],\n",
              "       [ 7.42478681e-04],\n",
              "       [-5.65304511e-04],\n",
              "       [-3.83737919e-04],\n",
              "       [-2.10462793e-05],\n",
              "       [-4.66878733e-04],\n",
              "       [-9.20705787e-04],\n",
              "       [ 3.91547943e-04],\n",
              "       [ 2.61196393e-04],\n",
              "       [-7.84649873e-04],\n",
              "       [ 1.35945212e-04],\n",
              "       [-2.39993769e-04],\n",
              "       [-6.32746562e-04],\n",
              "       [-1.25824710e-04],\n",
              "       [-7.39973995e-04],\n",
              "       [ 2.29091818e-04],\n",
              "       [-1.50399757e-04],\n",
              "       [-1.54037085e-04],\n",
              "       [ 1.81952318e-04],\n",
              "       [-7.29712955e-04],\n",
              "       [-2.25859521e-05],\n",
              "       [ 2.30701645e-05],\n",
              "       [ 4.19672784e-04],\n",
              "       [-1.46980760e-05],\n",
              "       [-5.51411905e-05],\n",
              "       [-1.37664431e-04],\n",
              "       [-6.35647855e-04],\n",
              "       [-3.93906289e-05],\n",
              "       [-2.08559504e-04],\n",
              "       [ 3.82612892e-04],\n",
              "       [-5.63325794e-04],\n",
              "       [ 3.98185886e-04],\n",
              "       [ 3.81815791e-04],\n",
              "       [ 7.55921179e-04],\n",
              "       [ 3.55217260e-04],\n",
              "       [-2.53583493e-04],\n",
              "       [-3.39102553e-04],\n",
              "       [-8.30901100e-05],\n",
              "       [-2.84133042e-04],\n",
              "       [-2.17315728e-04],\n",
              "       [ 4.84293506e-04],\n",
              "       [ 4.68484004e-04],\n",
              "       [ 7.56736406e-04],\n",
              "       [ 4.52275416e-04],\n",
              "       [ 2.57561522e-04],\n",
              "       [ 3.25140889e-04],\n",
              "       [-2.81489578e-05],\n",
              "       [ 2.44820343e-04],\n",
              "       [ 3.03421470e-04],\n",
              "       [ 2.53936321e-04],\n",
              "       [-5.19628225e-04],\n",
              "       [ 1.37773170e-04],\n",
              "       [-3.77193368e-04],\n",
              "       [-2.95285346e-04],\n",
              "       [-3.31101871e-04],\n",
              "       [ 2.75327843e-04],\n",
              "       [ 2.61133548e-05],\n",
              "       [-1.01287641e-03],\n",
              "       [ 4.77495689e-04],\n",
              "       [ 3.81215591e-04],\n",
              "       [-3.53514024e-04],\n",
              "       [ 6.45422236e-04],\n",
              "       [ 2.80540857e-04],\n",
              "       [ 7.19100287e-04],\n",
              "       [ 1.12826438e-04],\n",
              "       [ 6.72766440e-04],\n",
              "       [ 1.14365270e-03],\n",
              "       [ 9.30672407e-06],\n",
              "       [-1.78075447e-04],\n",
              "       [ 4.28361505e-04],\n",
              "       [-4.90651134e-04],\n",
              "       [-3.83627579e-05],\n",
              "       [ 5.85967332e-04],\n",
              "       [-2.05457560e-04],\n",
              "       [-1.49353000e-04],\n",
              "       [-4.89946298e-04],\n",
              "       [ 2.43665356e-04],\n",
              "       [-5.15185010e-04],\n",
              "       [-9.57571852e-04],\n",
              "       [ 1.11818883e-04],\n",
              "       [-2.52388215e-04],\n",
              "       [ 1.00994452e-03],\n",
              "       [-2.92453957e-04],\n",
              "       [ 3.69844809e-04],\n",
              "       [ 2.38176964e-04],\n",
              "       [ 3.90350019e-05],\n",
              "       [-5.04684152e-04],\n",
              "       [ 2.45024511e-04],\n",
              "       [ 5.15217209e-04],\n",
              "       [-2.77672935e-05],\n",
              "       [ 9.45358418e-04],\n",
              "       [ 3.81688808e-04],\n",
              "       [ 2.91815454e-05],\n",
              "       [-1.09931555e-04],\n",
              "       [-4.71573068e-04],\n",
              "       [ 3.43978104e-04],\n",
              "       [ 4.56428960e-05],\n",
              "       [ 8.42445757e-04],\n",
              "       [ 1.18994362e-04],\n",
              "       [-4.79174936e-04],\n",
              "       [-1.12862614e-04],\n",
              "       [ 9.01864490e-04],\n",
              "       [-5.51653984e-04],\n",
              "       [-7.84303994e-04],\n",
              "       [-1.94945996e-04],\n",
              "       [ 4.03020169e-04],\n",
              "       [ 1.03725303e-03],\n",
              "       [ 4.00976347e-04],\n",
              "       [ 2.15815069e-04],\n",
              "       [-7.18605921e-05],\n",
              "       [ 8.52834173e-05],\n",
              "       [ 4.01063063e-05],\n",
              "       [-4.49137756e-04],\n",
              "       [-2.67775146e-04],\n",
              "       [ 2.69939865e-04],\n",
              "       [ 3.87950998e-04],\n",
              "       [ 1.48149773e-04],\n",
              "       [-1.84488736e-04],\n",
              "       [-7.78155834e-04],\n",
              "       [ 5.91931871e-04],\n",
              "       [-1.16761461e-03],\n",
              "       [ 5.96213556e-04],\n",
              "       [ 7.69769715e-04],\n",
              "       [-3.91331740e-04],\n",
              "       [-2.44532058e-04],\n",
              "       [-8.51732208e-04],\n",
              "       [-4.52293323e-04],\n",
              "       [-6.03558798e-04],\n",
              "       [-6.36637817e-04],\n",
              "       [ 1.73462992e-04],\n",
              "       [-1.57803059e-04],\n",
              "       [-1.71788999e-04],\n",
              "       [ 5.40632524e-04],\n",
              "       [ 4.32501216e-05],\n",
              "       [-4.79849790e-05],\n",
              "       [ 6.49419262e-04],\n",
              "       [ 1.11597394e-03],\n",
              "       [-2.14683187e-04],\n",
              "       [ 9.92318260e-04],\n",
              "       [-2.97618492e-04],\n",
              "       [ 9.17843789e-04],\n",
              "       [-2.65123185e-04],\n",
              "       [-6.79056274e-05],\n",
              "       [ 1.46167771e-04],\n",
              "       [ 4.58478185e-04],\n",
              "       [-3.17261976e-04],\n",
              "       [ 1.73916536e-04],\n",
              "       [ 1.97157488e-04],\n",
              "       [-2.22169062e-05],\n",
              "       [ 6.24472702e-04],\n",
              "       [ 2.71372377e-04],\n",
              "       [-9.23895488e-04],\n",
              "       [ 2.68845390e-04],\n",
              "       [-3.06776147e-04],\n",
              "       [ 4.65391010e-04],\n",
              "       [ 4.96524530e-04],\n",
              "       [ 3.96930911e-04],\n",
              "       [-3.01360975e-04],\n",
              "       [ 6.21720704e-04],\n",
              "       [-3.78305581e-05],\n",
              "       [ 1.74963041e-04],\n",
              "       [ 3.39563966e-04],\n",
              "       [ 9.08067015e-04],\n",
              "       [-4.74313529e-04],\n",
              "       [ 7.21870714e-04],\n",
              "       [-7.11296112e-04],\n",
              "       [ 5.05839157e-04],\n",
              "       [ 1.32370406e-05],\n",
              "       [-1.46437089e-04],\n",
              "       [ 5.45727318e-05],\n",
              "       [ 3.63506791e-04],\n",
              "       [ 2.63999178e-04],\n",
              "       [-1.63099767e-05],\n",
              "       [-7.58749695e-04],\n",
              "       [-2.30464077e-04],\n",
              "       [-1.93995360e-04],\n",
              "       [-1.02223602e-04],\n",
              "       [-7.32050444e-04],\n",
              "       [ 2.84008131e-04],\n",
              "       [ 7.60225736e-05],\n",
              "       [ 2.39146347e-04],\n",
              "       [-2.31409248e-04],\n",
              "       [-9.18039559e-05],\n",
              "       [-6.36637663e-04],\n",
              "       [ 1.84725070e-05],\n",
              "       [ 2.10592952e-04],\n",
              "       [ 4.27407253e-04],\n",
              "       [ 4.25854301e-04],\n",
              "       [-1.01960599e-05],\n",
              "       [-2.25137950e-04],\n",
              "       [ 4.22408056e-04],\n",
              "       [ 3.56126712e-04],\n",
              "       [ 5.26111901e-05],\n",
              "       [ 7.42445601e-04],\n",
              "       [ 8.36748297e-05],\n",
              "       [ 1.40363555e-05],\n",
              "       [ 8.26282160e-04],\n",
              "       [ 1.11713861e-03],\n",
              "       [-2.32558892e-04],\n",
              "       [ 4.55762753e-04],\n",
              "       [ 4.98557711e-04],\n",
              "       [-1.28492339e-03],\n",
              "       [ 1.81821354e-04],\n",
              "       [-4.22769755e-04],\n",
              "       [-7.83162921e-04],\n",
              "       [-3.55056857e-04],\n",
              "       [-3.37554998e-04],\n",
              "       [ 2.11772264e-05],\n",
              "       [-2.43921929e-04],\n",
              "       [-1.60804952e-04],\n",
              "       [-1.44624445e-05],\n",
              "       [ 3.61894249e-04],\n",
              "       [-2.30319971e-04],\n",
              "       [ 3.36274976e-05],\n",
              "       [-2.26724143e-04],\n",
              "       [ 3.45661523e-04],\n",
              "       [ 3.26167719e-04],\n",
              "       [-3.85814580e-04],\n",
              "       [-2.11019664e-04],\n",
              "       [-1.09217413e-03],\n",
              "       [ 4.42514852e-04],\n",
              "       [-5.98564785e-04],\n",
              "       [-2.37181402e-04],\n",
              "       [ 2.56443912e-04],\n",
              "       [-1.12674839e-04],\n",
              "       [-1.94943924e-04],\n",
              "       [ 2.20146937e-04],\n",
              "       [ 1.37735806e-04],\n",
              "       [-5.78925466e-04],\n",
              "       [ 3.16058850e-04],\n",
              "       [ 1.57705081e-04],\n",
              "       [ 4.06114405e-04],\n",
              "       [-9.79658377e-05],\n",
              "       [ 1.86472963e-04],\n",
              "       [-1.55348417e-04],\n",
              "       [ 5.06325392e-04],\n",
              "       [ 1.83698191e-04],\n",
              "       [-2.45281446e-04],\n",
              "       [ 2.13329821e-04],\n",
              "       [ 4.20135923e-04],\n",
              "       [ 2.82018894e-04],\n",
              "       [ 6.57518459e-05],\n",
              "       [ 1.16433380e-04],\n",
              "       [-5.53337765e-05],\n",
              "       [-3.02681554e-04],\n",
              "       [ 1.29379822e-03],\n",
              "       [ 2.92600789e-04],\n",
              "       [ 3.46362000e-05],\n",
              "       [-2.55540675e-04],\n",
              "       [-1.79241391e-04],\n",
              "       [-7.29821024e-04],\n",
              "       [-2.48646685e-04],\n",
              "       [-7.00748789e-04],\n",
              "       [-8.17145265e-04],\n",
              "       [ 6.12435220e-05],\n",
              "       [-4.56096147e-04],\n",
              "       [-2.62869645e-04],\n",
              "       [-7.39197609e-04],\n",
              "       [ 1.16061233e-04],\n",
              "       [ 8.38422030e-04],\n",
              "       [-1.70821700e-04],\n",
              "       [ 2.71016649e-04],\n",
              "       [ 1.59549690e-05],\n",
              "       [ 1.64485978e-04],\n",
              "       [-9.14562882e-04],\n",
              "       [-2.03640946e-04],\n",
              "       [ 4.70600415e-04],\n",
              "       [-2.07073574e-04],\n",
              "       [ 4.59714900e-04],\n",
              "       [-1.77334462e-04],\n",
              "       [-2.26930662e-04],\n",
              "       [ 1.04071183e-04],\n",
              "       [ 7.92139572e-04],\n",
              "       [-9.73508838e-04],\n",
              "       [ 9.33770386e-06],\n",
              "       [-6.75264081e-04],\n",
              "       [-1.00641011e-04],\n",
              "       [-7.81002234e-06],\n",
              "       [-1.09376867e-04],\n",
              "       [-6.67122433e-04],\n",
              "       [ 5.34358324e-04],\n",
              "       [-7.66387334e-04],\n",
              "       [ 3.04035433e-04],\n",
              "       [-5.59438635e-05],\n",
              "       [ 5.10341764e-04],\n",
              "       [ 3.15887766e-04],\n",
              "       [ 1.65940989e-04],\n",
              "       [ 5.32086719e-04],\n",
              "       [ 4.76100126e-04],\n",
              "       [ 6.30482805e-04],\n",
              "       [ 4.15398656e-04],\n",
              "       [-2.44362699e-04],\n",
              "       [ 3.10350202e-04],\n",
              "       [-1.96990434e-04],\n",
              "       [ 3.81232426e-04],\n",
              "       [-4.45912860e-05],\n",
              "       [-1.20555250e-04],\n",
              "       [ 1.32779577e-04],\n",
              "       [-9.17678639e-04],\n",
              "       [-8.03228257e-05],\n",
              "       [ 8.16248173e-06],\n",
              "       [ 4.70275737e-04],\n",
              "       [ 5.79323718e-04],\n",
              "       [ 3.92033710e-05],\n",
              "       [ 1.97566796e-04],\n",
              "       [ 5.11541710e-05],\n",
              "       [-3.85555004e-04],\n",
              "       [-2.96513925e-04],\n",
              "       [ 2.11485545e-04],\n",
              "       [-2.65734117e-04],\n",
              "       [-4.02830521e-04],\n",
              "       [ 2.72392878e-04],\n",
              "       [ 1.68267845e-04],\n",
              "       [-3.67130775e-04],\n",
              "       [-1.36310769e-04],\n",
              "       [-1.00643862e-04],\n",
              "       [-5.62799418e-04],\n",
              "       [ 2.73992961e-04],\n",
              "       [ 5.35590472e-04],\n",
              "       [-5.16748097e-04],\n",
              "       [-5.17089127e-04],\n",
              "       [ 7.36924787e-04],\n",
              "       [-2.53469421e-04],\n",
              "       [ 5.87832890e-04],\n",
              "       [-8.92119458e-04],\n",
              "       [ 2.22215362e-04],\n",
              "       [-5.05903958e-04],\n",
              "       [-4.38873527e-05],\n",
              "       [-2.92024354e-04],\n",
              "       [ 1.43802028e-04],\n",
              "       [ 5.65474940e-04],\n",
              "       [ 4.82502481e-04],\n",
              "       [ 3.56418258e-04],\n",
              "       [-1.40981864e-05],\n",
              "       [ 2.03196366e-04],\n",
              "       [-7.62159049e-04],\n",
              "       [ 9.90143770e-04],\n",
              "       [ 4.15894582e-05],\n",
              "       [ 1.71066722e-04],\n",
              "       [-1.98911932e-04],\n",
              "       [ 1.22214372e-04],\n",
              "       [-1.68140324e-04],\n",
              "       [-1.13688211e-04],\n",
              "       [-2.00761387e-04],\n",
              "       [ 5.88566529e-04],\n",
              "       [-2.19476633e-04],\n",
              "       [-2.43235287e-04],\n",
              "       [ 4.15851477e-04],\n",
              "       [-2.68078586e-04],\n",
              "       [-4.38081545e-05],\n",
              "       [ 5.91196325e-04],\n",
              "       [ 2.62715251e-04],\n",
              "       [-5.76671096e-04],\n",
              "       [ 3.71478315e-06],\n",
              "       [-4.88137171e-04],\n",
              "       [ 3.63983689e-04],\n",
              "       [ 1.91886702e-04],\n",
              "       [-1.93054660e-04],\n",
              "       [ 1.78235390e-05],\n",
              "       [ 5.74997831e-04],\n",
              "       [ 3.66783220e-04],\n",
              "       [ 2.37995571e-04],\n",
              "       [ 8.86117140e-04],\n",
              "       [-2.24855403e-04],\n",
              "       [-5.38078878e-04],\n",
              "       [ 1.50182761e-04],\n",
              "       [-2.87673998e-04],\n",
              "       [ 1.55909234e-04],\n",
              "       [ 7.24809156e-04],\n",
              "       [-2.23838157e-04],\n",
              "       [ 1.06052130e-04],\n",
              "       [-3.21453105e-04],\n",
              "       [-2.87012456e-04],\n",
              "       [-2.58474109e-04],\n",
              "       [-1.06119111e-04],\n",
              "       [ 4.15288680e-04],\n",
              "       [ 7.39898076e-05],\n",
              "       [ 6.68142182e-04],\n",
              "       [-4.80604158e-05],\n",
              "       [-9.79997026e-04],\n",
              "       [-1.83271108e-06],\n",
              "       [-1.97524840e-04],\n",
              "       [ 1.57767822e-04],\n",
              "       [ 8.05717748e-04],\n",
              "       [ 2.85521507e-04],\n",
              "       [ 4.09937921e-04],\n",
              "       [ 1.36802841e-04],\n",
              "       [-4.67494634e-04],\n",
              "       [-8.17456769e-04],\n",
              "       [-2.09696486e-05],\n",
              "       [-1.33275132e-05],\n",
              "       [-4.19090806e-04],\n",
              "       [-5.32441413e-05],\n",
              "       [-4.28137129e-04],\n",
              "       [-2.45701071e-04],\n",
              "       [-4.44455154e-04],\n",
              "       [ 1.34200080e-04],\n",
              "       [-2.39358790e-04],\n",
              "       [-4.05949561e-04],\n",
              "       [-1.26333810e-04],\n",
              "       [-1.42739874e-04],\n",
              "       [ 7.07360015e-04],\n",
              "       [ 1.61221331e-04],\n",
              "       [ 9.79170009e-04],\n",
              "       [-2.53359571e-04],\n",
              "       [ 2.68862765e-04],\n",
              "       [ 5.02023716e-04],\n",
              "       [-4.10794202e-04],\n",
              "       [ 5.90509177e-04],\n",
              "       [ 1.85646699e-04],\n",
              "       [-5.64886876e-04],\n",
              "       [-2.59303111e-04],\n",
              "       [ 1.10165013e-04],\n",
              "       [-5.36782052e-05],\n",
              "       [-3.78254232e-04],\n",
              "       [-1.61159127e-04],\n",
              "       [-2.65544558e-04],\n",
              "       [ 8.62849149e-05],\n",
              "       [-7.52838221e-04],\n",
              "       [-9.46364474e-05],\n",
              "       [ 3.75987157e-04],\n",
              "       [ 1.94439214e-04],\n",
              "       [-4.01024052e-05],\n",
              "       [-2.84726030e-04],\n",
              "       [-2.54529462e-04],\n",
              "       [ 3.82301186e-04],\n",
              "       [-6.60092017e-04],\n",
              "       [-4.09325404e-06],\n",
              "       [-2.28119964e-04],\n",
              "       [-1.24852245e-04],\n",
              "       [ 8.53063431e-04],\n",
              "       [ 3.53481345e-04],\n",
              "       [-2.58670776e-04],\n",
              "       [ 2.35164038e-04],\n",
              "       [ 7.15631946e-04],\n",
              "       [-1.77708853e-04],\n",
              "       [-3.08923679e-04],\n",
              "       [ 4.82471186e-04],\n",
              "       [ 4.57351648e-05],\n",
              "       [ 3.90967569e-04],\n",
              "       [ 1.94887714e-05],\n",
              "       [-1.24394422e-04],\n",
              "       [ 5.87000929e-04],\n",
              "       [ 2.43897464e-04],\n",
              "       [ 1.43843360e-04],\n",
              "       [ 3.07623726e-04],\n",
              "       [ 1.50672620e-04],\n",
              "       [ 5.06904791e-04],\n",
              "       [-2.91540767e-04],\n",
              "       [ 1.26749360e-04],\n",
              "       [-3.42920543e-04],\n",
              "       [ 4.74068459e-04],\n",
              "       [ 2.22613616e-04],\n",
              "       [-4.87118962e-04],\n",
              "       [ 4.12453980e-04],\n",
              "       [ 1.95837107e-04],\n",
              "       [-6.42193540e-04],\n",
              "       [ 5.58305895e-04],\n",
              "       [ 6.55982722e-04],\n",
              "       [-3.50803975e-04],\n",
              "       [-6.88130298e-04],\n",
              "       [-5.32180445e-04],\n",
              "       [-8.31813890e-05],\n",
              "       [ 5.49632578e-04],\n",
              "       [-2.40492245e-05],\n",
              "       [ 2.48494038e-04],\n",
              "       [ 8.91943530e-05],\n",
              "       [ 1.46938706e-04],\n",
              "       [ 2.08037024e-04],\n",
              "       [ 6.66560625e-04],\n",
              "       [-3.03171978e-05],\n",
              "       [ 6.18435423e-04],\n",
              "       [ 1.82458834e-04],\n",
              "       [ 7.79436082e-05],\n",
              "       [ 3.82183198e-04],\n",
              "       [ 2.45211669e-04],\n",
              "       [-1.08698887e-04],\n",
              "       [ 3.04379543e-04],\n",
              "       [-9.10364211e-04],\n",
              "       [-6.53728654e-04],\n",
              "       [ 3.41019981e-04],\n",
              "       [-1.89036423e-04],\n",
              "       [-3.98944744e-04],\n",
              "       [ 1.16658185e-04],\n",
              "       [ 4.80834503e-04],\n",
              "       [ 1.80564738e-04],\n",
              "       [-2.68182165e-04],\n",
              "       [-5.89826972e-04],\n",
              "       [ 2.28983717e-05],\n",
              "       [ 4.78670434e-04],\n",
              "       [ 5.68271303e-04],\n",
              "       [ 2.52898074e-04],\n",
              "       [ 4.75049445e-04],\n",
              "       [-7.54915869e-06],\n",
              "       [ 2.98607023e-04],\n",
              "       [ 2.70916194e-04],\n",
              "       [-5.15856224e-04],\n",
              "       [-2.07659374e-04],\n",
              "       [-1.27303563e-05],\n",
              "       [-1.10250777e-04],\n",
              "       [-4.11209674e-04],\n",
              "       [ 5.76427550e-04],\n",
              "       [-4.74878415e-04],\n",
              "       [ 6.81463884e-04],\n",
              "       [-4.93477448e-04],\n",
              "       [-1.60115462e-04],\n",
              "       [ 1.62381889e-04],\n",
              "       [-3.86822932e-04],\n",
              "       [-1.15331301e-04],\n",
              "       [-4.04173666e-04],\n",
              "       [-9.91054344e-05],\n",
              "       [-5.59435628e-04],\n",
              "       [-5.84168981e-04],\n",
              "       [-2.11640455e-05],\n",
              "       [ 4.51814537e-04],\n",
              "       [ 4.11995342e-04],\n",
              "       [-1.31686146e-04],\n",
              "       [-4.75894181e-04],\n",
              "       [-3.51835839e-04],\n",
              "       [ 4.26912602e-04],\n",
              "       [-2.96904817e-04],\n",
              "       [-4.98453568e-04],\n",
              "       [ 9.87115570e-05],\n",
              "       [ 4.16878164e-04],\n",
              "       [-1.47839252e-04],\n",
              "       [-3.34549866e-04],\n",
              "       [-3.87510741e-04],\n",
              "       [ 2.54636277e-04],\n",
              "       [-6.57562287e-04],\n",
              "       [ 1.86985087e-04],\n",
              "       [-1.81468539e-04],\n",
              "       [ 7.87162245e-04],\n",
              "       [-4.04472745e-04],\n",
              "       [ 1.80221939e-04],\n",
              "       [-1.70095244e-04],\n",
              "       [-5.14358528e-04],\n",
              "       [ 1.41189138e-04],\n",
              "       [-2.04589856e-04],\n",
              "       [-1.26190435e-04],\n",
              "       [-5.84653372e-04],\n",
              "       [-4.72887874e-04],\n",
              "       [ 2.55715145e-04],\n",
              "       [ 5.29205171e-04],\n",
              "       [ 2.17899255e-04],\n",
              "       [-1.50604593e-04],\n",
              "       [ 6.26211446e-04],\n",
              "       [-3.36898923e-04],\n",
              "       [-4.69419768e-05],\n",
              "       [-5.32221594e-05],\n",
              "       [ 7.43264896e-04],\n",
              "       [-4.56840820e-04],\n",
              "       [ 2.63666507e-04],\n",
              "       [-1.43293840e-04],\n",
              "       [ 5.43620678e-04],\n",
              "       [-1.89513616e-05],\n",
              "       [ 1.89563747e-05],\n",
              "       [-4.22695696e-04],\n",
              "       [-3.68144703e-04],\n",
              "       [ 4.36995237e-04],\n",
              "       [ 3.41988371e-04],\n",
              "       [ 1.03857240e-03],\n",
              "       [ 1.24851696e-05],\n",
              "       [-4.10786196e-04],\n",
              "       [-6.29793467e-04],\n",
              "       [-1.43269647e-04],\n",
              "       [ 5.87406346e-04],\n",
              "       [-1.07998149e-05],\n",
              "       [-1.23638362e-04],\n",
              "       [-4.53403269e-04],\n",
              "       [ 6.39915756e-06],\n",
              "       [-2.77750910e-04],\n",
              "       [-1.08833382e-04],\n",
              "       [-2.83064903e-04],\n",
              "       [-2.15103403e-04],\n",
              "       [ 4.98641821e-05],\n",
              "       [-3.23259878e-04],\n",
              "       [ 2.86273498e-04],\n",
              "       [-3.68362735e-04],\n",
              "       [ 8.78578192e-04],\n",
              "       [ 4.57719239e-04],\n",
              "       [ 7.36366051e-04],\n",
              "       [-3.86716158e-04],\n",
              "       [ 6.84012830e-04],\n",
              "       [ 5.41297016e-04],\n",
              "       [-3.04210983e-04],\n",
              "       [-4.92442347e-04],\n",
              "       [-5.64620419e-04],\n",
              "       [-2.05704072e-04],\n",
              "       [ 4.17258541e-04],\n",
              "       [ 7.84997633e-04],\n",
              "       [-3.54815841e-04],\n",
              "       [ 5.28631502e-04],\n",
              "       [-2.09021320e-04],\n",
              "       [-6.47941859e-04],\n",
              "       [-8.45553821e-05],\n",
              "       [-3.14708522e-04],\n",
              "       [ 3.39212765e-04],\n",
              "       [-4.09906572e-04],\n",
              "       [ 2.27968799e-05],\n",
              "       [ 5.28533136e-04],\n",
              "       [-4.30102180e-04],\n",
              "       [-4.70872429e-05],\n",
              "       [-4.14382715e-05],\n",
              "       [ 6.92451975e-05],\n",
              "       [ 3.35154163e-04],\n",
              "       [ 2.81725728e-04],\n",
              "       [ 2.41575658e-04],\n",
              "       [-8.08750286e-04],\n",
              "       [-4.16982762e-04],\n",
              "       [ 2.74966323e-04],\n",
              "       [ 1.50463115e-04],\n",
              "       [-7.09464518e-04],\n",
              "       [ 1.25031984e-04],\n",
              "       [-4.47943491e-05],\n",
              "       [-5.10619159e-04],\n",
              "       [ 4.95751194e-04],\n",
              "       [ 4.88266408e-04],\n",
              "       [-8.18025948e-04],\n",
              "       [-1.87091751e-04],\n",
              "       [ 8.11023748e-06],\n",
              "       [ 4.50686947e-04],\n",
              "       [ 8.40648518e-05],\n",
              "       [-7.08169018e-04],\n",
              "       [-2.55297447e-04],\n",
              "       [ 2.05929808e-04],\n",
              "       [-3.34877803e-04],\n",
              "       [-3.43176124e-04],\n",
              "       [ 3.68768823e-04],\n",
              "       [-7.62107803e-08],\n",
              "       [ 2.38060200e-04],\n",
              "       [ 2.41518420e-04],\n",
              "       [ 1.02008825e-04],\n",
              "       [-5.24450161e-04],\n",
              "       [-7.84961215e-04],\n",
              "       [ 1.65940135e-04],\n",
              "       [-2.18259543e-04],\n",
              "       [-4.03836963e-05],\n",
              "       [ 1.25673764e-05],\n",
              "       [ 4.99096798e-04],\n",
              "       [-2.95276909e-05],\n",
              "       [-3.60852657e-04],\n",
              "       [-1.67585093e-04],\n",
              "       [ 3.10787552e-04],\n",
              "       [ 5.28770165e-05],\n",
              "       [-1.02995960e-06]])"
            ]
          },
          "metadata": {},
          "execution_count": 258
        }
      ]
    },
    {
      "cell_type": "code",
      "source": [],
      "metadata": {
        "id": "RPMRzNCgOKbW"
      },
      "execution_count": null,
      "outputs": []
    }
  ]
}